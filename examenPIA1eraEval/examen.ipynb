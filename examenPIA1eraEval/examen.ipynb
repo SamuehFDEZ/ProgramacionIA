{
 "cells": [
  {
   "cell_type": "code",
   "id": "initial_id",
   "metadata": {
    "collapsed": true,
    "ExecuteTime": {
     "end_time": "2025-01-21T19:46:05.770951Z",
     "start_time": "2025-01-21T19:46:05.756432Z"
    }
   },
   "source": [
    "import numpy as np\n",
    "import pandas as pd\n",
    "import seaborn as sns\n",
    "import matplotlib.pyplot as plt\n",
    "from sklearn.model_selection import train_test_split\n",
    "from sklearn.metrics import mean_absolute_error\n",
    "from sklearn.metrics import confusion_matrix\n",
    "from sklearn.ensemble import  RandomForestClassifier\n",
    "from sklearn.metrics import classification_report\n",
    "from sklearn import metrics"
   ],
   "outputs": [],
   "execution_count": 543
  },
  {
   "metadata": {
    "ExecuteTime": {
     "end_time": "2025-01-21T19:46:05.808757Z",
     "start_time": "2025-01-21T19:46:05.790480Z"
    }
   },
   "cell_type": "code",
   "source": [
    "# Se ha modificado el csv externamente sustituyendo las , por . en los datos de gpa\n",
    "df = pd.read_csv('AdmissionCSV.csv', sep=';')\n",
    "df.head()"
   ],
   "id": "f4450bd47e5b218e",
   "outputs": [
    {
     "data": {
      "text/plain": [
       "          admit  gre   gpa  ses  Gender_Male  Race  rank\n",
       "0  Not admitted  380  3.61    1            0     3     3\n",
       "1      Admitted  660  3.67    2            0     2     3\n",
       "2      Admitted  800  4.00    2            0     2     1\n",
       "3      Admitted  640  3.19    1            1     2     4\n",
       "4  Not admitted  520  2.93    3            1     2     4"
      ],
      "text/html": [
       "<div>\n",
       "<style scoped>\n",
       "    .dataframe tbody tr th:only-of-type {\n",
       "        vertical-align: middle;\n",
       "    }\n",
       "\n",
       "    .dataframe tbody tr th {\n",
       "        vertical-align: top;\n",
       "    }\n",
       "\n",
       "    .dataframe thead th {\n",
       "        text-align: right;\n",
       "    }\n",
       "</style>\n",
       "<table border=\"1\" class=\"dataframe\">\n",
       "  <thead>\n",
       "    <tr style=\"text-align: right;\">\n",
       "      <th></th>\n",
       "      <th>admit</th>\n",
       "      <th>gre</th>\n",
       "      <th>gpa</th>\n",
       "      <th>ses</th>\n",
       "      <th>Gender_Male</th>\n",
       "      <th>Race</th>\n",
       "      <th>rank</th>\n",
       "    </tr>\n",
       "  </thead>\n",
       "  <tbody>\n",
       "    <tr>\n",
       "      <th>0</th>\n",
       "      <td>Not admitted</td>\n",
       "      <td>380</td>\n",
       "      <td>3.61</td>\n",
       "      <td>1</td>\n",
       "      <td>0</td>\n",
       "      <td>3</td>\n",
       "      <td>3</td>\n",
       "    </tr>\n",
       "    <tr>\n",
       "      <th>1</th>\n",
       "      <td>Admitted</td>\n",
       "      <td>660</td>\n",
       "      <td>3.67</td>\n",
       "      <td>2</td>\n",
       "      <td>0</td>\n",
       "      <td>2</td>\n",
       "      <td>3</td>\n",
       "    </tr>\n",
       "    <tr>\n",
       "      <th>2</th>\n",
       "      <td>Admitted</td>\n",
       "      <td>800</td>\n",
       "      <td>4.00</td>\n",
       "      <td>2</td>\n",
       "      <td>0</td>\n",
       "      <td>2</td>\n",
       "      <td>1</td>\n",
       "    </tr>\n",
       "    <tr>\n",
       "      <th>3</th>\n",
       "      <td>Admitted</td>\n",
       "      <td>640</td>\n",
       "      <td>3.19</td>\n",
       "      <td>1</td>\n",
       "      <td>1</td>\n",
       "      <td>2</td>\n",
       "      <td>4</td>\n",
       "    </tr>\n",
       "    <tr>\n",
       "      <th>4</th>\n",
       "      <td>Not admitted</td>\n",
       "      <td>520</td>\n",
       "      <td>2.93</td>\n",
       "      <td>3</td>\n",
       "      <td>1</td>\n",
       "      <td>2</td>\n",
       "      <td>4</td>\n",
       "    </tr>\n",
       "  </tbody>\n",
       "</table>\n",
       "</div>"
      ]
     },
     "execution_count": 544,
     "metadata": {},
     "output_type": "execute_result"
    }
   ],
   "execution_count": 544
  },
  {
   "metadata": {
    "ExecuteTime": {
     "end_time": "2025-01-21T19:46:05.901585Z",
     "start_time": "2025-01-21T19:46:05.895265Z"
    }
   },
   "cell_type": "code",
   "source": "df_objetivo = 'admit'",
   "id": "f216f2cd05eb26ea",
   "outputs": [],
   "execution_count": 545
  },
  {
   "metadata": {
    "ExecuteTime": {
     "end_time": "2025-01-21T19:46:05.977649Z",
     "start_time": "2025-01-21T19:46:05.968850Z"
    }
   },
   "cell_type": "code",
   "source": "df[df_objetivo].describe()",
   "id": "557fbb8b7db253",
   "outputs": [
    {
     "data": {
      "text/plain": [
       "count              400\n",
       "unique               4\n",
       "top       Not admitted\n",
       "freq               271\n",
       "Name: admit, dtype: object"
      ]
     },
     "execution_count": 546,
     "metadata": {},
     "output_type": "execute_result"
    }
   ],
   "execution_count": 546
  },
  {
   "metadata": {
    "ExecuteTime": {
     "end_time": "2025-01-21T19:46:06.086505Z",
     "start_time": "2025-01-21T19:46:06.077747Z"
    }
   },
   "cell_type": "code",
   "source": "df.info()",
   "id": "f6b4b648b1920744",
   "outputs": [
    {
     "name": "stdout",
     "output_type": "stream",
     "text": [
      "<class 'pandas.core.frame.DataFrame'>\n",
      "RangeIndex: 400 entries, 0 to 399\n",
      "Data columns (total 7 columns):\n",
      " #   Column       Non-Null Count  Dtype  \n",
      "---  ------       --------------  -----  \n",
      " 0   admit        400 non-null    object \n",
      " 1   gre          400 non-null    int64  \n",
      " 2   gpa          400 non-null    float64\n",
      " 3   ses          400 non-null    int64  \n",
      " 4   Gender_Male  400 non-null    int64  \n",
      " 5   Race         400 non-null    int64  \n",
      " 6   rank         400 non-null    int64  \n",
      "dtypes: float64(1), int64(5), object(1)\n",
      "memory usage: 22.0+ KB\n"
     ]
    }
   ],
   "execution_count": 547
  },
  {
   "metadata": {
    "ExecuteTime": {
     "end_time": "2025-01-21T19:46:06.220153Z",
     "start_time": "2025-01-21T19:46:06.210830Z"
    }
   },
   "cell_type": "code",
   "source": "df.isnull().sum()",
   "id": "d715e889c9e96690",
   "outputs": [
    {
     "data": {
      "text/plain": [
       "admit          0\n",
       "gre            0\n",
       "gpa            0\n",
       "ses            0\n",
       "Gender_Male    0\n",
       "Race           0\n",
       "rank           0\n",
       "dtype: int64"
      ]
     },
     "execution_count": 548,
     "metadata": {},
     "output_type": "execute_result"
    }
   ],
   "execution_count": 548
  },
  {
   "metadata": {
    "ExecuteTime": {
     "end_time": "2025-01-21T19:46:06.311601Z",
     "start_time": "2025-01-21T19:46:06.305469Z"
    }
   },
   "cell_type": "code",
   "source": "df.columns",
   "id": "fe0065678e7eb719",
   "outputs": [
    {
     "data": {
      "text/plain": [
       "Index(['admit', 'gre', 'gpa', 'ses', 'Gender_Male', 'Race', 'rank'], dtype='object')"
      ]
     },
     "execution_count": 549,
     "metadata": {},
     "output_type": "execute_result"
    }
   ],
   "execution_count": 549
  },
  {
   "metadata": {
    "ExecuteTime": {
     "end_time": "2025-01-21T19:46:06.490975Z",
     "start_time": "2025-01-21T19:46:06.485690Z"
    }
   },
   "cell_type": "code",
   "source": "df.shape",
   "id": "248dcfec0c54ddf8",
   "outputs": [
    {
     "data": {
      "text/plain": [
       "(400, 7)"
      ]
     },
     "execution_count": 550,
     "metadata": {},
     "output_type": "execute_result"
    }
   ],
   "execution_count": 550
  },
  {
   "metadata": {
    "ExecuteTime": {
     "end_time": "2025-01-21T19:46:06.583855Z",
     "start_time": "2025-01-21T19:46:06.573987Z"
    }
   },
   "cell_type": "code",
   "source": "df.duplicated()",
   "id": "acbbb0ad13190470",
   "outputs": [
    {
     "data": {
      "text/plain": [
       "0      False\n",
       "1      False\n",
       "2      False\n",
       "3      False\n",
       "4      False\n",
       "       ...  \n",
       "395    False\n",
       "396    False\n",
       "397    False\n",
       "398    False\n",
       "399    False\n",
       "Length: 400, dtype: bool"
      ]
     },
     "execution_count": 551,
     "metadata": {},
     "output_type": "execute_result"
    }
   ],
   "execution_count": 551
  },
  {
   "metadata": {
    "ExecuteTime": {
     "end_time": "2025-01-21T19:46:07.551220Z",
     "start_time": "2025-01-21T19:46:06.695577Z"
    }
   },
   "cell_type": "code",
   "source": [
    "categorias = ['gre', 'ses', 'Gender_Male', 'Race', 'rank']\n",
    "fig, axes = plt.subplots(nrows=2, ncols=3, figsize=(14, 10))\n",
    "axes = axes.flatten()\n",
    "for i, var in enumerate(categorias):\n",
    " axes[i].boxplot(df[var], tick_labels=[var])\n",
    " axes[i].set_title(f'Distribución de {var}')\n",
    " axes[i].set_ylabel('Valores')\n",
    "for j in range(len(categorias), len(axes)):\n",
    " axes[j].axis('off')\n",
    "plt.tight_layout()\n",
    "plt.show()"
   ],
   "id": "9a71b7d247c7e5e8",
   "outputs": [
    {
     "data": {
      "text/plain": [
       "<Figure size 1400x1000 with 6 Axes>"
      ],
      "image/png": "[encoded data removed]"
     },
     "metadata": {},
     "output_type": "display_data"
    }
   ],
   "execution_count": 552
  },
  {
   "metadata": {
    "ExecuteTime": {
     "end_time": "2025-01-21T19:46:07.612125Z",
     "start_time": "2025-01-21T19:46:07.603403Z"
    }
   },
   "cell_type": "code",
   "source": "df['admit'].value_counts()",
   "id": "404866d54fc14786",
   "outputs": [
    {
     "data": {
      "text/plain": [
       "admit\n",
       "Not admitted    271\n",
       "Admitted        125\n",
       "Not admitt        2\n",
       "Admitt            2\n",
       "Name: count, dtype: int64"
      ]
     },
     "execution_count": 553,
     "metadata": {},
     "output_type": "execute_result"
    }
   ],
   "execution_count": 553
  },
  {
   "metadata": {
    "ExecuteTime": {
     "end_time": "2025-01-21T19:46:07.687160Z",
     "start_time": "2025-01-21T19:46:07.677199Z"
    }
   },
   "cell_type": "code",
   "source": [
    "df['admit'] = df['admit'].replace(['Admitt', 'Not admitt'], ['Admitted', 'Not admitted'])\n",
    "df['admit'] = df['admit'].replace(['Admitted', 'Not admitted'], [1, 0])"
   ],
   "id": "3b23412e78da8cc5",
   "outputs": [
    {
     "name": "stderr",
     "output_type": "stream",
     "text": [
      "C:\\Users\\ESP\\AppData\\Local\\Temp\\ipykernel_10252\\332171788.py:2: FutureWarning: Downcasting behavior in `replace` is deprecated and will be removed in a future version. To retain the old behavior, explicitly call `result.infer_objects(copy=False)`. To opt-in to the future behavior, set `pd.set_option('future.no_silent_downcasting', True)`\n",
      "  df['admit'] = df['admit'].replace(['Admitted', 'Not admitted'], [1, 0])\n"
     ]
    }
   ],
   "execution_count": 554
  },
  {
   "metadata": {
    "ExecuteTime": {
     "end_time": "2025-01-21T19:46:07.810711Z",
     "start_time": "2025-01-21T19:46:07.800059Z"
    }
   },
   "cell_type": "code",
   "source": "df['admit'].value_counts()",
   "id": "e320ca1ce0312837",
   "outputs": [
    {
     "data": {
      "text/plain": [
       "admit\n",
       "0    273\n",
       "1    127\n",
       "Name: count, dtype: int64"
      ]
     },
     "execution_count": 555,
     "metadata": {},
     "output_type": "execute_result"
    }
   ],
   "execution_count": 555
  },
  {
   "metadata": {
    "ExecuteTime": {
     "end_time": "2025-01-21T19:46:07.906022Z",
     "start_time": "2025-01-21T19:46:07.898887Z"
    }
   },
   "cell_type": "code",
   "source": "df['gre'].value_counts()",
   "id": "3d64fc603f7eda25",
   "outputs": [
    {
     "data": {
      "text/plain": [
       "gre\n",
       "620    30\n",
       "580    29\n",
       "540    27\n",
       "800    25\n",
       "560    24\n",
       "660    24\n",
       "520    24\n",
       "600    23\n",
       "700    22\n",
       "640    21\n",
       "500    21\n",
       "680    20\n",
       "480    16\n",
       "460    14\n",
       "720    11\n",
       "740    11\n",
       "400    11\n",
       "440    10\n",
       "380     8\n",
       "420     7\n",
       "760     5\n",
       "780     5\n",
       "360     4\n",
       "340     4\n",
       "300     3\n",
       "220     1\n",
       "Name: count, dtype: int64"
      ]
     },
     "execution_count": 556,
     "metadata": {},
     "output_type": "execute_result"
    }
   ],
   "execution_count": 556
  },
  {
   "metadata": {
    "ExecuteTime": {
     "end_time": "2025-01-21T19:46:08.062138Z",
     "start_time": "2025-01-21T19:46:08.050655Z"
    }
   },
   "cell_type": "code",
   "source": "df['Race'].value_counts()",
   "id": "2c2afa9764395267",
   "outputs": [
    {
     "data": {
      "text/plain": [
       "Race\n",
       "1    143\n",
       "2    129\n",
       "3    128\n",
       "Name: count, dtype: int64"
      ]
     },
     "execution_count": 557,
     "metadata": {},
     "output_type": "execute_result"
    }
   ],
   "execution_count": 557
  },
  {
   "metadata": {
    "ExecuteTime": {
     "end_time": "2025-01-21T19:46:08.214421Z",
     "start_time": "2025-01-21T19:46:08.206350Z"
    }
   },
   "cell_type": "code",
   "source": "df['rank'].value_counts()",
   "id": "f6374034e67396a8",
   "outputs": [
    {
     "data": {
      "text/plain": [
       "rank\n",
       "2    151\n",
       "3    121\n",
       "4     67\n",
       "1     61\n",
       "Name: count, dtype: int64"
      ]
     },
     "execution_count": 558,
     "metadata": {},
     "output_type": "execute_result"
    }
   ],
   "execution_count": 558
  },
  {
   "metadata": {
    "ExecuteTime": {
     "end_time": "2025-01-21T19:46:08.384178Z",
     "start_time": "2025-01-21T19:46:08.374456Z"
    }
   },
   "cell_type": "code",
   "source": "df['ses'].value_counts()",
   "id": "d8dc2f8b7062d241",
   "outputs": [
    {
     "data": {
      "text/plain": [
       "ses\n",
       "2    139\n",
       "1    132\n",
       "3    129\n",
       "Name: count, dtype: int64"
      ]
     },
     "execution_count": 559,
     "metadata": {},
     "output_type": "execute_result"
    }
   ],
   "execution_count": 559
  },
  {
   "metadata": {
    "ExecuteTime": {
     "end_time": "2025-01-21T19:46:08.554915Z",
     "start_time": "2025-01-21T19:46:08.541700Z"
    }
   },
   "cell_type": "code",
   "source": "df['gpa'].value_counts()",
   "id": "95ab83f8a5848197",
   "outputs": [
    {
     "data": {
      "text/plain": [
       "gpa\n",
       "4.00    28\n",
       "3.31     8\n",
       "3.35     7\n",
       "3.40     7\n",
       "3.45     7\n",
       "        ..\n",
       "3.09     1\n",
       "2.65     1\n",
       "3.06     1\n",
       "3.03     1\n",
       "2.63     1\n",
       "Name: count, Length: 132, dtype: int64"
      ]
     },
     "execution_count": 560,
     "metadata": {},
     "output_type": "execute_result"
    }
   ],
   "execution_count": 560
  },
  {
   "metadata": {
    "ExecuteTime": {
     "end_time": "2025-01-21T19:46:08.705834Z",
     "start_time": "2025-01-21T19:46:08.696216Z"
    }
   },
   "cell_type": "code",
   "source": [
    "def detecta_outliers_zscore(datos):\n",
    " outliers= []\n",
    " limite = 2\n",
    " media= np.mean(datos)\n",
    " desviacion_estandar = np.std(datos)\n",
    " print('Media:', media, 'desviación estándar:', desviacion_estandar)\n",
    " for x in datos:\n",
    "  z_score = (x - media) / desviacion_estandar\n",
    "  if np.abs(z_score) > limite:\n",
    "   outliers.append(x)\n",
    " return outliers\n",
    "outliers = detecta_outliers_zscore(df['gre'])\n",
    "print(\"Outliers usando método Z-score:\", outliers)\n"
   ],
   "id": "488a6f94e5a418f",
   "outputs": [
    {
     "name": "stdout",
     "output_type": "stream",
     "text": [
      "Media: 587.7 desviación estándar: 115.37205034149302\n",
      "Outliers usando método Z-score: [300, 340, 340, 300, 340, 220, 300, 340]\n"
     ]
    }
   ],
   "execution_count": 561
  },
  {
   "metadata": {
    "ExecuteTime": {
     "end_time": "2025-01-21T19:46:08.860368Z",
     "start_time": "2025-01-21T19:46:08.850717Z"
    }
   },
   "cell_type": "code",
   "source": [
    "df['gre'] = df['gre'].where(df['gre'] > 220)\n",
    "print(\"Outliers usando método Z-score:\", detecta_outliers_zscore(df['gre']))"
   ],
   "id": "cac53a1c784e0b80",
   "outputs": [
    {
     "name": "stdout",
     "output_type": "stream",
     "text": [
      "Media: 588.6215538847118 desviación estándar: 114.03668510820387\n",
      "Outliers usando método Z-score: [360.0, 360.0, 300.0, 340.0, 360.0, 340.0, 300.0, 340.0, 360.0, 300.0, 340.0]\n"
     ]
    }
   ],
   "execution_count": 562
  },
  {
   "metadata": {
    "ExecuteTime": {
     "end_time": "2025-01-21T19:46:08.937248Z",
     "start_time": "2025-01-21T19:46:08.925398Z"
    }
   },
   "cell_type": "code",
   "source": "df['gre'].value_counts()",
   "id": "b96380cb5eeed0df",
   "outputs": [
    {
     "data": {
      "text/plain": [
       "gre\n",
       "620.0    30\n",
       "580.0    29\n",
       "540.0    27\n",
       "800.0    25\n",
       "560.0    24\n",
       "520.0    24\n",
       "660.0    24\n",
       "600.0    23\n",
       "700.0    22\n",
       "500.0    21\n",
       "640.0    21\n",
       "680.0    20\n",
       "480.0    16\n",
       "460.0    14\n",
       "720.0    11\n",
       "400.0    11\n",
       "740.0    11\n",
       "440.0    10\n",
       "380.0     8\n",
       "420.0     7\n",
       "760.0     5\n",
       "780.0     5\n",
       "360.0     4\n",
       "340.0     4\n",
       "300.0     3\n",
       "Name: count, dtype: int64"
      ]
     },
     "execution_count": 563,
     "metadata": {},
     "output_type": "execute_result"
    }
   ],
   "execution_count": 563
  },
  {
   "metadata": {
    "ExecuteTime": {
     "end_time": "2025-01-21T19:46:09.302169Z",
     "start_time": "2025-01-21T19:46:09.072701Z"
    }
   },
   "cell_type": "code",
   "source": [
    "# Separar características (X) y variable objetivo (y)\n",
    "X = df\n",
    "y = df[\"admit\"]       # Variable objetivo\n",
    "\n",
    "# Dividimos los datos en un 80% para entrenamiento y un 20% para evaluación (validación + test)\n",
    "X_train, X_temp, y_train, y_temp = train_test_split(df, y, test_size=0.2, random_state=42)\n",
    "\n",
    "# De los datos temporales (X_temp, y_temp), dividimos en validación (10%) y test (10%)\n",
    "X_val, X_test, y_val, y_test = train_test_split(X_temp, y_temp, test_size=0.5, random_state=42)\n",
    "\n",
    "# Entrenar el modelo\n",
    "rfc = RandomForestClassifier(random_state=42, max_depth=7, min_samples_split=10)\n",
    "rfc.fit(X_train, y_train)  # Usar X_train y y_train\n",
    "\n",
    "# Predecir sobre el conjunto de validación\n",
    "predicciones = rfc.predict(X_val)  # Usar X_val para predicciones\n",
    "\n",
    "# Calcular el error\n",
    "error_val = mean_absolute_error(y_val, predicciones)  # Comparar con y_val\n",
    "print(f'Métrica para datos de validación: {error_val}')"
   ],
   "id": "b91f5243d1affbf4",
   "outputs": [
    {
     "name": "stdout",
     "output_type": "stream",
     "text": [
      "Métrica para datos de validación: 0.0\n"
     ]
    }
   ],
   "execution_count": 564
  },
  {
   "metadata": {
    "ExecuteTime": {
     "end_time": "2025-01-21T19:46:09.375093Z",
     "start_time": "2025-01-21T19:46:09.357476Z"
    }
   },
   "cell_type": "code",
   "source": [
    "# Funcion para probar modelos\n",
    "def train_validation(model):\n",
    " model.fit(X_train,y_train.astype(int))\n",
    " y_pred = model.predict(X_test)\n",
    " conf_matrix = confusion_matrix(y_pred, y_test)\n",
    " print(classification_report(y_pred, y_test.astype(int)))\n",
    " print('score_test = ', model.score(X_test, y_test.astype(int)))\n",
    " print('score_train = ', model.score(X_train, y_train.astype(int)))\n",
    " plt.figure(figsize=(6, 4))\n",
    " sns.heatmap(conf_matrix, annot=True, fmt='d', cmap='Blues',\n",
    " xticklabels=[\"no admitido\", \"admitido\"], yticklabels=[\"no admitido\",\n",
    " \"admitido\"])\n",
    " plt.title(\"Matriz de Confusión\")\n",
    " plt.xlabel(\"Predicción\")\n",
    " plt.ylabel(\"Real\")\n",
    " plt.show()"
   ],
   "id": "cfb30fcef2619cc7",
   "outputs": [],
   "execution_count": 565
  },
  {
   "metadata": {
    "ExecuteTime": {
     "end_time": "2025-01-21T19:46:09.687278Z",
     "start_time": "2025-01-21T19:46:09.391042Z"
    }
   },
   "cell_type": "code",
   "source": "train_validation(rfc)",
   "id": "f6d7f2ef4c6ea54b",
   "outputs": [
    {
     "name": "stdout",
     "output_type": "stream",
     "text": [
      "              precision    recall  f1-score   support\n",
      "\n",
      "           0       1.00      1.00      1.00        24\n",
      "           1       1.00      1.00      1.00        16\n",
      "\n",
      "    accuracy                           1.00        40\n",
      "   macro avg       1.00      1.00      1.00        40\n",
      "weighted avg       1.00      1.00      1.00        40\n",
      "\n",
      "score_test =  1.0\n",
      "score_train =  1.0\n"
     ]
    },
    {
     "data": {
      "text/plain": [
       "<Figure size 600x400 with 2 Axes>"
      ],
      "image/png": "[encoded data removed]"
     },
     "metadata": {},
     "output_type": "display_data"
    }
   ],
   "execution_count": 566
  },
  {
   "metadata": {
    "ExecuteTime": {
     "end_time": "2025-01-21T19:46:09.789802Z",
     "start_time": "2025-01-21T19:46:09.726657Z"
    }
   },
   "cell_type": "code",
   "source": [
    "print(\"Accuracy :\", metrics.accuracy_score(y, rfc.predict(X)) )\n",
    "print(\"AUC:\", metrics.roc_auc_score(y, rfc.predict_proba(X)[:,1]) )\n",
    "print(\"Matriz de confusión:\",metrics.confusion_matrix(y, rfc.predict(X)))\n",
    "print(\"Informe de la clasificación:\", metrics.classification_report(y, rfc.predict(X)))\n",
    "y_pred = [0, 1, 0, 0]\n",
    "y_true = [0, 1, 0, 1]\n",
    "print(\"Accuracy:\", metrics.accuracy_score(y_true, y_pred))\n",
    "print(\"Precisión:\", metrics.precision_score(y_true, y_pred))\n",
    "print(\"Recall:\", metrics.recall_score(y_true, y_pred))\n",
    "recalls = metrics.recall_score(y_true, y_pred, average=None)\n",
    "print(\"Recall/especificidad clase 0:\", recalls[0])\n",
    "print(\"Recall/especificidad clase 1:\", recalls[1])\n",
    "print(\"Accuracy balanceada:\", recalls.mean())\n",
    "p, r, f, s = metrics.precision_recall_fscore_support(y_true, y_pred)\n",
    "print(\"Precisión:\", p)\n",
    "print(\"Recall:\", r)\n",
    "print(\"F:\", f)\n",
    "print(\"Soporte:\", s);"
   ],
   "id": "12608fba39229d20",
   "outputs": [
    {
     "name": "stdout",
     "output_type": "stream",
     "text": [
      "Accuracy : 1.0\n",
      "AUC: 1.0\n",
      "Matriz de confusión: [[273   0]\n",
      " [  0 127]]\n",
      "Informe de la clasificación:               precision    recall  f1-score   support\n",
      "\n",
      "           0       1.00      1.00      1.00       273\n",
      "           1       1.00      1.00      1.00       127\n",
      "\n",
      "    accuracy                           1.00       400\n",
      "   macro avg       1.00      1.00      1.00       400\n",
      "weighted avg       1.00      1.00      1.00       400\n",
      "\n",
      "Accuracy: 0.75\n",
      "Precisión: 1.0\n",
      "Recall: 0.5\n",
      "Recall/especificidad clase 0: 1.0\n",
      "Recall/especificidad clase 1: 0.5\n",
      "Accuracy balanceada: 0.75\n",
      "Precisión: [0.66666667 1.        ]\n",
      "Recall: [1.  0.5]\n",
      "F: [0.8        0.66666667]\n",
      "Soporte: [2 2]\n"
     ]
    }
   ],
   "execution_count": 567
  },
  {
   "metadata": {},
   "cell_type": "markdown",
   "source": "Hemos obtenio una precision del 0.75, podemos concluir que el modelo presenta overfitting, hay pocos valores para el entrenamiento del modelo dado que los valores de resultado son demasiado perfectos",
   "id": "c4072a5cfa06bdad"
  },
  {
   "metadata": {},
   "cell_type": "markdown",
   "source": "Por lo tanto el modelo no podría ser usado por la presencia del overfitting que hemos comentado anteriormente",
   "id": "7e954ade8cb3259"
  }
 ],
 "metadata": {
  "kernelspec": {
   "display_name": "Python 3",
   "language": "python",
   "name": "python3"
  },
  "language_info": {
   "codemirror_mode": {
    "name": "ipython",
    "version": 2
   },
   "file_extension": ".py",
   "mimetype": "text/x-python",
   "name": "python",
   "nbconvert_exporter": "python",
   "pygments_lexer": "ipython2",
   "version": "2.7.6"
  }
 },
 "nbformat": 4,
 "nbformat_minor": 5
}

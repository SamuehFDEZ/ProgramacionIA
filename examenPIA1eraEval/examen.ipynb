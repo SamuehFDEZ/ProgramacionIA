{
 "cells": [
  {
   "cell_type": "code",
   "id": "initial_id",
   "metadata": {
    "collapsed": true,
    "ExecuteTime": {
     "end_time": "2025-01-24T18:29:57.210630Z",
     "start_time": "2025-01-24T18:29:57.204374Z"
    }
   },
   "source": [
    "import numpy as np\n",
    "import pandas as pd\n",
    "import seaborn as sns\n",
    "import matplotlib.pyplot as plt\n",
    "from sklearn.model_selection import train_test_split\n",
    "from sklearn.metrics import mean_absolute_error\n",
    "from sklearn.metrics import confusion_matrix\n",
    "from sklearn.ensemble import  RandomForestClassifier\n",
    "from sklearn.metrics import classification_report\n",
    "from sklearn import metrics\n",
    "from scipy.stats import zscore\n"
   ],
   "outputs": [],
   "execution_count": 123
  },
  {
   "metadata": {
    "ExecuteTime": {
     "end_time": "2025-01-24T18:29:58.689213Z",
     "start_time": "2025-01-24T18:29:58.615255Z"
    }
   },
   "cell_type": "code",
   "source": [
    "# Se ha modificado el csv externamente sustituyendo las , por . en los datos de gpa\n",
    "df = pd.read_excel('Admission.xlsx')\n",
    "df.head()"
   ],
   "id": "f4450bd47e5b218e",
   "outputs": [
    {
     "data": {
      "text/plain": [
       "          admit  gre   gpa  ses  Gender_Male  Race  rank\n",
       "0  Not admitted  380  3.61    1            0     3     3\n",
       "1      Admitted  660  3.67    2            0     2     3\n",
       "2      Admitted  800  4.00    2            0     2     1\n",
       "3      Admitted  640  3.19    1            1     2     4\n",
       "4  Not admitted  520  2.93    3            1     2     4"
      ],
      "text/html": [
       "<div>\n",
       "<style scoped>\n",
       "    .dataframe tbody tr th:only-of-type {\n",
       "        vertical-align: middle;\n",
       "    }\n",
       "\n",
       "    .dataframe tbody tr th {\n",
       "        vertical-align: top;\n",
       "    }\n",
       "\n",
       "    .dataframe thead th {\n",
       "        text-align: right;\n",
       "    }\n",
       "</style>\n",
       "<table border=\"1\" class=\"dataframe\">\n",
       "  <thead>\n",
       "    <tr style=\"text-align: right;\">\n",
       "      <th></th>\n",
       "      <th>admit</th>\n",
       "      <th>gre</th>\n",
       "      <th>gpa</th>\n",
       "      <th>ses</th>\n",
       "      <th>Gender_Male</th>\n",
       "      <th>Race</th>\n",
       "      <th>rank</th>\n",
       "    </tr>\n",
       "  </thead>\n",
       "  <tbody>\n",
       "    <tr>\n",
       "      <th>0</th>\n",
       "      <td>Not admitted</td>\n",
       "      <td>380</td>\n",
       "      <td>3.61</td>\n",
       "      <td>1</td>\n",
       "      <td>0</td>\n",
       "      <td>3</td>\n",
       "      <td>3</td>\n",
       "    </tr>\n",
       "    <tr>\n",
       "      <th>1</th>\n",
       "      <td>Admitted</td>\n",
       "      <td>660</td>\n",
       "      <td>3.67</td>\n",
       "      <td>2</td>\n",
       "      <td>0</td>\n",
       "      <td>2</td>\n",
       "      <td>3</td>\n",
       "    </tr>\n",
       "    <tr>\n",
       "      <th>2</th>\n",
       "      <td>Admitted</td>\n",
       "      <td>800</td>\n",
       "      <td>4.00</td>\n",
       "      <td>2</td>\n",
       "      <td>0</td>\n",
       "      <td>2</td>\n",
       "      <td>1</td>\n",
       "    </tr>\n",
       "    <tr>\n",
       "      <th>3</th>\n",
       "      <td>Admitted</td>\n",
       "      <td>640</td>\n",
       "      <td>3.19</td>\n",
       "      <td>1</td>\n",
       "      <td>1</td>\n",
       "      <td>2</td>\n",
       "      <td>4</td>\n",
       "    </tr>\n",
       "    <tr>\n",
       "      <th>4</th>\n",
       "      <td>Not admitted</td>\n",
       "      <td>520</td>\n",
       "      <td>2.93</td>\n",
       "      <td>3</td>\n",
       "      <td>1</td>\n",
       "      <td>2</td>\n",
       "      <td>4</td>\n",
       "    </tr>\n",
       "  </tbody>\n",
       "</table>\n",
       "</div>"
      ]
     },
     "execution_count": 124,
     "metadata": {},
     "output_type": "execute_result"
    }
   ],
   "execution_count": 124
  },
  {
   "metadata": {
    "ExecuteTime": {
     "end_time": "2025-01-24T18:30:00.670185Z",
     "start_time": "2025-01-24T18:30:00.665124Z"
    }
   },
   "cell_type": "code",
   "source": "df_objetivo = 'admit'",
   "id": "f216f2cd05eb26ea",
   "outputs": [],
   "execution_count": 125
  },
  {
   "metadata": {
    "ExecuteTime": {
     "end_time": "2025-01-24T18:30:01.452989Z",
     "start_time": "2025-01-24T18:30:01.442112Z"
    }
   },
   "cell_type": "code",
   "source": "df[df_objetivo].describe()",
   "id": "557fbb8b7db253",
   "outputs": [
    {
     "data": {
      "text/plain": [
       "count              400\n",
       "unique               4\n",
       "top       Not admitted\n",
       "freq               271\n",
       "Name: admit, dtype: object"
      ]
     },
     "execution_count": 126,
     "metadata": {},
     "output_type": "execute_result"
    }
   ],
   "execution_count": 126
  },
  {
   "metadata": {
    "ExecuteTime": {
     "end_time": "2025-01-24T18:30:02.626129Z",
     "start_time": "2025-01-24T18:30:02.611966Z"
    }
   },
   "cell_type": "code",
   "source": "df.info()",
   "id": "f6b4b648b1920744",
   "outputs": [
    {
     "name": "stdout",
     "output_type": "stream",
     "text": [
      "<class 'pandas.core.frame.DataFrame'>\n",
      "RangeIndex: 400 entries, 0 to 399\n",
      "Data columns (total 7 columns):\n",
      " #   Column       Non-Null Count  Dtype  \n",
      "---  ------       --------------  -----  \n",
      " 0   admit        400 non-null    object \n",
      " 1   gre          400 non-null    int64  \n",
      " 2   gpa          400 non-null    float64\n",
      " 3   ses          400 non-null    int64  \n",
      " 4   Gender_Male  400 non-null    int64  \n",
      " 5   Race         400 non-null    int64  \n",
      " 6   rank         400 non-null    int64  \n",
      "dtypes: float64(1), int64(5), object(1)\n",
      "memory usage: 22.0+ KB\n"
     ]
    }
   ],
   "execution_count": 127
  },
  {
   "metadata": {
    "ExecuteTime": {
     "end_time": "2025-01-24T18:30:04.332959Z",
     "start_time": "2025-01-24T18:30:04.324508Z"
    }
   },
   "cell_type": "code",
   "source": "df.isnull().sum()",
   "id": "d715e889c9e96690",
   "outputs": [
    {
     "data": {
      "text/plain": [
       "admit          0\n",
       "gre            0\n",
       "gpa            0\n",
       "ses            0\n",
       "Gender_Male    0\n",
       "Race           0\n",
       "rank           0\n",
       "dtype: int64"
      ]
     },
     "execution_count": 128,
     "metadata": {},
     "output_type": "execute_result"
    }
   ],
   "execution_count": 128
  },
  {
   "metadata": {
    "ExecuteTime": {
     "end_time": "2025-01-24T18:30:05.592387Z",
     "start_time": "2025-01-24T18:30:05.584263Z"
    }
   },
   "cell_type": "code",
   "source": "df.columns",
   "id": "fe0065678e7eb719",
   "outputs": [
    {
     "data": {
      "text/plain": [
       "Index(['admit', 'gre', 'gpa', 'ses', 'Gender_Male', 'Race', 'rank'], dtype='object')"
      ]
     },
     "execution_count": 129,
     "metadata": {},
     "output_type": "execute_result"
    }
   ],
   "execution_count": 129
  },
  {
   "metadata": {
    "ExecuteTime": {
     "end_time": "2025-01-24T18:30:06.541430Z",
     "start_time": "2025-01-24T18:30:06.533894Z"
    }
   },
   "cell_type": "code",
   "source": "df.shape",
   "id": "248dcfec0c54ddf8",
   "outputs": [
    {
     "data": {
      "text/plain": [
       "(400, 7)"
      ]
     },
     "execution_count": 130,
     "metadata": {},
     "output_type": "execute_result"
    }
   ],
   "execution_count": 130
  },
  {
   "metadata": {
    "ExecuteTime": {
     "end_time": "2025-01-24T18:30:07.843525Z",
     "start_time": "2025-01-24T18:30:07.833424Z"
    }
   },
   "cell_type": "code",
   "source": "df.duplicated()",
   "id": "acbbb0ad13190470",
   "outputs": [
    {
     "data": {
      "text/plain": [
       "0      False\n",
       "1      False\n",
       "2      False\n",
       "3      False\n",
       "4      False\n",
       "       ...  \n",
       "395    False\n",
       "396    False\n",
       "397    False\n",
       "398    False\n",
       "399    False\n",
       "Length: 400, dtype: bool"
      ]
     },
     "execution_count": 131,
     "metadata": {},
     "output_type": "execute_result"
    }
   ],
   "execution_count": 131
  },
  {
   "metadata": {
    "ExecuteTime": {
     "end_time": "2025-01-24T18:30:10.902264Z",
     "start_time": "2025-01-24T18:30:10.628421Z"
    }
   },
   "cell_type": "code",
   "source": [
    "categorias = ['gre','gpa']\n",
    "fig, axes = plt.subplots(nrows=1, ncols=2, figsize=(10, 6))\n",
    "axes = axes.flatten()\n",
    "for i, var in enumerate(categorias):\n",
    " axes[i].boxplot(df[var], tick_labels=[var])\n",
    " axes[i].set_title(f'Distribución de {var}')\n",
    " axes[i].set_ylabel('Valores')\n",
    "for j in range(len(categorias), len(axes)):\n",
    " axes[j].axis('off')\n",
    "plt.tight_layout()\n",
    "plt.show()"
   ],
   "id": "9a71b7d247c7e5e8",
   "outputs": [
    {
     "data": {
      "text/plain": [
       "<Figure size 1000x600 with 2 Axes>"
      ],
      "image/png": "[encoded data removed]"
     },
     "metadata": {},
     "output_type": "display_data"
    }
   ],
   "execution_count": 132
  },
  {
   "metadata": {
    "ExecuteTime": {
     "end_time": "2025-01-24T18:30:14.724055Z",
     "start_time": "2025-01-24T18:30:14.711903Z"
    }
   },
   "cell_type": "code",
   "source": "df['admit'].value_counts()",
   "id": "404866d54fc14786",
   "outputs": [
    {
     "data": {
      "text/plain": [
       "admit\n",
       "Not admitted    271\n",
       "Admitted        125\n",
       "Not admitt        2\n",
       "Admitt            2\n",
       "Name: count, dtype: int64"
      ]
     },
     "execution_count": 133,
     "metadata": {},
     "output_type": "execute_result"
    }
   ],
   "execution_count": 133
  },
  {
   "metadata": {
    "ExecuteTime": {
     "end_time": "2025-01-24T18:30:26.421060Z",
     "start_time": "2025-01-24T18:30:26.413982Z"
    }
   },
   "cell_type": "code",
   "source": [
    "df['admit'] = df['admit'].replace(['Admitt', 'Not admitt'], ['Admitted', 'Not admitted'])\n",
    "df['admit'] = df['admit'].replace(['Admitted', 'Not admitted'], [1, 0])"
   ],
   "id": "3b23412e78da8cc5",
   "outputs": [
    {
     "name": "stderr",
     "output_type": "stream",
     "text": [
      "C:\\Users\\ESP\\AppData\\Local\\Temp\\ipykernel_512\\332171788.py:2: FutureWarning: Downcasting behavior in `replace` is deprecated and will be removed in a future version. To retain the old behavior, explicitly call `result.infer_objects(copy=False)`. To opt-in to the future behavior, set `pd.set_option('future.no_silent_downcasting', True)`\n",
      "  df['admit'] = df['admit'].replace(['Admitted', 'Not admitted'], [1, 0])\n"
     ]
    }
   ],
   "execution_count": 134
  },
  {
   "metadata": {
    "ExecuteTime": {
     "end_time": "2025-01-24T18:30:40.114919Z",
     "start_time": "2025-01-24T18:30:40.107312Z"
    }
   },
   "cell_type": "code",
   "source": "df['admit'].value_counts()",
   "id": "e320ca1ce0312837",
   "outputs": [
    {
     "data": {
      "text/plain": [
       "admit\n",
       "0    273\n",
       "1    127\n",
       "Name: count, dtype: int64"
      ]
     },
     "execution_count": 135,
     "metadata": {},
     "output_type": "execute_result"
    }
   ],
   "execution_count": 135
  },
  {
   "metadata": {
    "ExecuteTime": {
     "end_time": "2025-01-24T18:30:42.696739Z",
     "start_time": "2025-01-24T18:30:42.688281Z"
    }
   },
   "cell_type": "code",
   "source": "df['Race'].value_counts()",
   "id": "2c2afa9764395267",
   "outputs": [
    {
     "data": {
      "text/plain": [
       "Race\n",
       "1    143\n",
       "2    129\n",
       "3    128\n",
       "Name: count, dtype: int64"
      ]
     },
     "execution_count": 136,
     "metadata": {},
     "output_type": "execute_result"
    }
   ],
   "execution_count": 136
  },
  {
   "metadata": {
    "ExecuteTime": {
     "end_time": "2025-01-24T18:31:16.387105Z",
     "start_time": "2025-01-24T18:31:16.378898Z"
    }
   },
   "cell_type": "code",
   "source": "df['rank'].value_counts()",
   "id": "f6374034e67396a8",
   "outputs": [
    {
     "data": {
      "text/plain": [
       "rank\n",
       "2    151\n",
       "3    121\n",
       "4     67\n",
       "1     61\n",
       "Name: count, dtype: int64"
      ]
     },
     "execution_count": 137,
     "metadata": {},
     "output_type": "execute_result"
    }
   ],
   "execution_count": 137
  },
  {
   "metadata": {
    "ExecuteTime": {
     "end_time": "2025-01-24T18:31:17.860498Z",
     "start_time": "2025-01-24T18:31:17.852234Z"
    }
   },
   "cell_type": "code",
   "source": "df['ses'].value_counts()",
   "id": "d8dc2f8b7062d241",
   "outputs": [
    {
     "data": {
      "text/plain": [
       "ses\n",
       "2    139\n",
       "1    132\n",
       "3    129\n",
       "Name: count, dtype: int64"
      ]
     },
     "execution_count": 138,
     "metadata": {},
     "output_type": "execute_result"
    }
   ],
   "execution_count": 138
  },
  {
   "metadata": {
    "ExecuteTime": {
     "end_time": "2025-01-24T18:31:20.082637Z",
     "start_time": "2025-01-24T18:31:20.071234Z"
    }
   },
   "cell_type": "code",
   "source": "df.head()",
   "id": "5dd4323e3d9214c9",
   "outputs": [
    {
     "data": {
      "text/plain": [
       "   admit  gre   gpa  ses  Gender_Male  Race  rank\n",
       "0      0  380  3.61    1            0     3     3\n",
       "1      1  660  3.67    2            0     2     3\n",
       "2      1  800  4.00    2            0     2     1\n",
       "3      1  640  3.19    1            1     2     4\n",
       "4      0  520  2.93    3            1     2     4"
      ],
      "text/html": [
       "<div>\n",
       "<style scoped>\n",
       "    .dataframe tbody tr th:only-of-type {\n",
       "        vertical-align: middle;\n",
       "    }\n",
       "\n",
       "    .dataframe tbody tr th {\n",
       "        vertical-align: top;\n",
       "    }\n",
       "\n",
       "    .dataframe thead th {\n",
       "        text-align: right;\n",
       "    }\n",
       "</style>\n",
       "<table border=\"1\" class=\"dataframe\">\n",
       "  <thead>\n",
       "    <tr style=\"text-align: right;\">\n",
       "      <th></th>\n",
       "      <th>admit</th>\n",
       "      <th>gre</th>\n",
       "      <th>gpa</th>\n",
       "      <th>ses</th>\n",
       "      <th>Gender_Male</th>\n",
       "      <th>Race</th>\n",
       "      <th>rank</th>\n",
       "    </tr>\n",
       "  </thead>\n",
       "  <tbody>\n",
       "    <tr>\n",
       "      <th>0</th>\n",
       "      <td>0</td>\n",
       "      <td>380</td>\n",
       "      <td>3.61</td>\n",
       "      <td>1</td>\n",
       "      <td>0</td>\n",
       "      <td>3</td>\n",
       "      <td>3</td>\n",
       "    </tr>\n",
       "    <tr>\n",
       "      <th>1</th>\n",
       "      <td>1</td>\n",
       "      <td>660</td>\n",
       "      <td>3.67</td>\n",
       "      <td>2</td>\n",
       "      <td>0</td>\n",
       "      <td>2</td>\n",
       "      <td>3</td>\n",
       "    </tr>\n",
       "    <tr>\n",
       "      <th>2</th>\n",
       "      <td>1</td>\n",
       "      <td>800</td>\n",
       "      <td>4.00</td>\n",
       "      <td>2</td>\n",
       "      <td>0</td>\n",
       "      <td>2</td>\n",
       "      <td>1</td>\n",
       "    </tr>\n",
       "    <tr>\n",
       "      <th>3</th>\n",
       "      <td>1</td>\n",
       "      <td>640</td>\n",
       "      <td>3.19</td>\n",
       "      <td>1</td>\n",
       "      <td>1</td>\n",
       "      <td>2</td>\n",
       "      <td>4</td>\n",
       "    </tr>\n",
       "    <tr>\n",
       "      <th>4</th>\n",
       "      <td>0</td>\n",
       "      <td>520</td>\n",
       "      <td>2.93</td>\n",
       "      <td>3</td>\n",
       "      <td>1</td>\n",
       "      <td>2</td>\n",
       "      <td>4</td>\n",
       "    </tr>\n",
       "  </tbody>\n",
       "</table>\n",
       "</div>"
      ]
     },
     "execution_count": 139,
     "metadata": {},
     "output_type": "execute_result"
    }
   ],
   "execution_count": 139
  },
  {
   "metadata": {
    "ExecuteTime": {
     "end_time": "2025-01-24T18:27:09.647522Z",
     "start_time": "2025-01-24T18:27:09.620149Z"
    }
   },
   "cell_type": "code",
   "source": [
    "outliers = []\n",
    "for i in df.values:\n",
    " if abs(i - df.mean()) / df.std() > 2:\n",
    "  outliers.append(i)\n",
    "print(outliers)"
   ],
   "id": "7ad900b835b52abd",
   "outputs": [
    {
     "ename": "ValueError",
     "evalue": "The truth value of a Series is ambiguous. Use a.empty, a.bool(), a.item(), a.any() or a.all().",
     "output_type": "error",
     "traceback": [
      "\u001B[1;31m---------------------------------------------------------------------------\u001B[0m",
      "\u001B[1;31mValueError\u001B[0m                                Traceback (most recent call last)",
      "\u001B[1;32m~\\AppData\\Local\\Temp\\ipykernel_512\\1036504439.py\u001B[0m in \u001B[0;36m?\u001B[1;34m()\u001B[0m\n\u001B[0;32m      1\u001B[0m \u001B[0moutliers\u001B[0m \u001B[1;33m=\u001B[0m \u001B[1;33m[\u001B[0m\u001B[1;33m]\u001B[0m\u001B[1;33m\u001B[0m\u001B[1;33m\u001B[0m\u001B[0m\n\u001B[0;32m      2\u001B[0m \u001B[1;32mfor\u001B[0m \u001B[0mi\u001B[0m \u001B[1;32min\u001B[0m \u001B[0mdf\u001B[0m\u001B[1;33m.\u001B[0m\u001B[0mvalues\u001B[0m\u001B[1;33m:\u001B[0m\u001B[1;33m\u001B[0m\u001B[1;33m\u001B[0m\u001B[0m\n\u001B[1;32m----> 3\u001B[1;33m  \u001B[1;32mif\u001B[0m \u001B[0mabs\u001B[0m\u001B[1;33m(\u001B[0m\u001B[0mi\u001B[0m \u001B[1;33m-\u001B[0m \u001B[0mdf\u001B[0m\u001B[1;33m.\u001B[0m\u001B[0mmean\u001B[0m\u001B[1;33m(\u001B[0m\u001B[1;33m)\u001B[0m\u001B[1;33m)\u001B[0m \u001B[1;33m/\u001B[0m \u001B[0mdf\u001B[0m\u001B[1;33m.\u001B[0m\u001B[0mstd\u001B[0m\u001B[1;33m(\u001B[0m\u001B[1;33m)\u001B[0m \u001B[1;33m>\u001B[0m \u001B[1;36m2\u001B[0m\u001B[1;33m:\u001B[0m\u001B[1;33m\u001B[0m\u001B[1;33m\u001B[0m\u001B[0m\n\u001B[0m\u001B[0;32m      4\u001B[0m   \u001B[0moutliers\u001B[0m\u001B[1;33m.\u001B[0m\u001B[0mappend\u001B[0m\u001B[1;33m(\u001B[0m\u001B[0mi\u001B[0m\u001B[1;33m)\u001B[0m\u001B[1;33m\u001B[0m\u001B[1;33m\u001B[0m\u001B[0m\n\u001B[0;32m      5\u001B[0m \u001B[0mprint\u001B[0m\u001B[1;33m(\u001B[0m\u001B[0moutliers\u001B[0m\u001B[1;33m)\u001B[0m\u001B[1;33m\u001B[0m\u001B[1;33m\u001B[0m\u001B[0m\n",
      "\u001B[1;32m~\\Desktop\\MachineLearning\\saa\\Lib\\site-packages\\pandas\\core\\generic.py\u001B[0m in \u001B[0;36m?\u001B[1;34m(self)\u001B[0m\n\u001B[0;32m   1575\u001B[0m     \u001B[1;33m@\u001B[0m\u001B[0mfinal\u001B[0m\u001B[1;33m\u001B[0m\u001B[1;33m\u001B[0m\u001B[0m\n\u001B[0;32m   1576\u001B[0m     \u001B[1;32mdef\u001B[0m \u001B[0m__nonzero__\u001B[0m\u001B[1;33m(\u001B[0m\u001B[0mself\u001B[0m\u001B[1;33m)\u001B[0m \u001B[1;33m->\u001B[0m \u001B[0mNoReturn\u001B[0m\u001B[1;33m:\u001B[0m\u001B[1;33m\u001B[0m\u001B[1;33m\u001B[0m\u001B[0m\n\u001B[1;32m-> 1577\u001B[1;33m         raise ValueError(\n\u001B[0m\u001B[0;32m   1578\u001B[0m             \u001B[1;33mf\"\u001B[0m\u001B[1;33mThe truth value of a \u001B[0m\u001B[1;33m{\u001B[0m\u001B[0mtype\u001B[0m\u001B[1;33m(\u001B[0m\u001B[0mself\u001B[0m\u001B[1;33m)\u001B[0m\u001B[1;33m.\u001B[0m\u001B[0m__name__\u001B[0m\u001B[1;33m}\u001B[0m\u001B[1;33m is ambiguous. \u001B[0m\u001B[1;33m\"\u001B[0m\u001B[1;33m\u001B[0m\u001B[1;33m\u001B[0m\u001B[0m\n\u001B[0;32m   1579\u001B[0m             \u001B[1;34m\"Use a.empty, a.bool(), a.item(), a.any() or a.all().\"\u001B[0m\u001B[1;33m\u001B[0m\u001B[1;33m\u001B[0m\u001B[0m\n\u001B[0;32m   1580\u001B[0m         \u001B[1;33m)\u001B[0m\u001B[1;33m\u001B[0m\u001B[1;33m\u001B[0m\u001B[0m\n",
      "\u001B[1;31mValueError\u001B[0m: The truth value of a Series is ambiguous. Use a.empty, a.bool(), a.item(), a.any() or a.all()."
     ]
    }
   ],
   "execution_count": 122
  },
  {
   "metadata": {
    "ExecuteTime": {
     "end_time": "2025-01-24T18:31:24.545777Z",
     "start_time": "2025-01-24T18:31:24.519412Z"
    }
   },
   "cell_type": "code",
   "source": [
    "# Crear una copia del DataFrame original para no modificarlo directamente\n",
    "df_cleaned = df.copy()\n",
    "z_scores = df_cleaned.apply(zscore)\n",
    "df_cleaned = df_cleaned[(z_scores.abs() <= 2).all(axis=1)]\n",
    "print(f\"Shape original del DataFrame: {df.shape}\")\n",
    "print(f\"Shape del DataFrame limpio: {df_cleaned.shape}\")"
   ],
   "id": "4c40129867c063d2",
   "outputs": [
    {
     "name": "stdout",
     "output_type": "stream",
     "text": [
      "Shape original del DataFrame: (400, 7)\n",
      "Shape del DataFrame limpio: (383, 7)\n"
     ]
    }
   ],
   "execution_count": 140
  },
  {
   "metadata": {
    "ExecuteTime": {
     "end_time": "2025-01-24T18:32:01.631171Z",
     "start_time": "2025-01-24T18:32:01.616733Z"
    }
   },
   "cell_type": "code",
   "source": "df_cleaned.head()",
   "id": "c6128df111d09f33",
   "outputs": [
    {
     "data": {
      "text/plain": [
       "   admit  gre   gpa  ses  Gender_Male  Race  rank\n",
       "0      0  380  3.61    1            0     3     3\n",
       "1      1  660  3.67    2            0     2     3\n",
       "2      1  800  4.00    2            0     2     1\n",
       "3      1  640  3.19    1            1     2     4\n",
       "4      0  520  2.93    3            1     2     4"
      ],
      "text/html": [
       "<div>\n",
       "<style scoped>\n",
       "    .dataframe tbody tr th:only-of-type {\n",
       "        vertical-align: middle;\n",
       "    }\n",
       "\n",
       "    .dataframe tbody tr th {\n",
       "        vertical-align: top;\n",
       "    }\n",
       "\n",
       "    .dataframe thead th {\n",
       "        text-align: right;\n",
       "    }\n",
       "</style>\n",
       "<table border=\"1\" class=\"dataframe\">\n",
       "  <thead>\n",
       "    <tr style=\"text-align: right;\">\n",
       "      <th></th>\n",
       "      <th>admit</th>\n",
       "      <th>gre</th>\n",
       "      <th>gpa</th>\n",
       "      <th>ses</th>\n",
       "      <th>Gender_Male</th>\n",
       "      <th>Race</th>\n",
       "      <th>rank</th>\n",
       "    </tr>\n",
       "  </thead>\n",
       "  <tbody>\n",
       "    <tr>\n",
       "      <th>0</th>\n",
       "      <td>0</td>\n",
       "      <td>380</td>\n",
       "      <td>3.61</td>\n",
       "      <td>1</td>\n",
       "      <td>0</td>\n",
       "      <td>3</td>\n",
       "      <td>3</td>\n",
       "    </tr>\n",
       "    <tr>\n",
       "      <th>1</th>\n",
       "      <td>1</td>\n",
       "      <td>660</td>\n",
       "      <td>3.67</td>\n",
       "      <td>2</td>\n",
       "      <td>0</td>\n",
       "      <td>2</td>\n",
       "      <td>3</td>\n",
       "    </tr>\n",
       "    <tr>\n",
       "      <th>2</th>\n",
       "      <td>1</td>\n",
       "      <td>800</td>\n",
       "      <td>4.00</td>\n",
       "      <td>2</td>\n",
       "      <td>0</td>\n",
       "      <td>2</td>\n",
       "      <td>1</td>\n",
       "    </tr>\n",
       "    <tr>\n",
       "      <th>3</th>\n",
       "      <td>1</td>\n",
       "      <td>640</td>\n",
       "      <td>3.19</td>\n",
       "      <td>1</td>\n",
       "      <td>1</td>\n",
       "      <td>2</td>\n",
       "      <td>4</td>\n",
       "    </tr>\n",
       "    <tr>\n",
       "      <th>4</th>\n",
       "      <td>0</td>\n",
       "      <td>520</td>\n",
       "      <td>2.93</td>\n",
       "      <td>3</td>\n",
       "      <td>1</td>\n",
       "      <td>2</td>\n",
       "      <td>4</td>\n",
       "    </tr>\n",
       "  </tbody>\n",
       "</table>\n",
       "</div>"
      ]
     },
     "execution_count": 141,
     "metadata": {},
     "output_type": "execute_result"
    }
   ],
   "execution_count": 141
  },
  {
   "metadata": {
    "ExecuteTime": {
     "end_time": "2025-01-24T18:32:11.250268Z",
     "start_time": "2025-01-24T18:32:11.028275Z"
    }
   },
   "cell_type": "code",
   "source": [
    "# Separar características (X) y variable objetivo (y)\n",
    "X = df_cleaned.drop(df_objetivo, axis=1)\n",
    "y = df_cleaned[\"admit\"]       # Variable objetivo\n",
    "# Dividimos los datos en un 80% para entrenamiento y un 20% para evaluación (validación + test)\n",
    "X_train, X_temp, y_train, y_temp = train_test_split(X, y, test_size=0.2, random_state=42)\n",
    "\n",
    "# De los datos temporales (X_temp, y_temp), dividimos en validación (10%) y test (10%)\n",
    "X_val, X_test, y_val, y_test = train_test_split(X_temp, y_temp, test_size=0.5, random_state=42)\n",
    "\n",
    "# Entrenar el modelo\n",
    "rfc = RandomForestClassifier(random_state=42, max_depth=7, min_samples_split=10)\n",
    "rfc.fit(X_train, y_train)  # Usar X_train y y_train\n",
    "\n",
    "# Predecir sobre el conjunto de validación\n",
    "predicciones = rfc.predict(X_val)  # Usar X_val para predicciones\n",
    "\n",
    "# Calcular el error\n",
    "error_val = mean_absolute_error(y_val, predicciones)  # Comparar con y_val\n",
    "print(f'Métrica para datos de validación: {error_val}')"
   ],
   "id": "b91f5243d1affbf4",
   "outputs": [
    {
     "name": "stdout",
     "output_type": "stream",
     "text": [
      "Métrica para datos de validación: 0.3157894736842105\n"
     ]
    }
   ],
   "execution_count": 142
  },
  {
   "metadata": {
    "ExecuteTime": {
     "end_time": "2025-01-24T18:32:15.511090Z",
     "start_time": "2025-01-24T18:32:15.502724Z"
    }
   },
   "cell_type": "code",
   "source": [
    "def train_validation(model):\n",
    " model.fit(X_train,y_train.astype(int))\n",
    " y_pred = model.predict(X_test)\n",
    " conf_matrix = confusion_matrix(y_pred, y_test)\n",
    " print(classification_report(y_pred, y_test.astype(int)))\n",
    " print('score_test = ', model.score(X_test, y_test.astype(int)))\n",
    " print('score_train = ', model.score(X_train, y_train.astype(int)))\n",
    " plt.figure(figsize=(6, 4))\n",
    " sns.heatmap(conf_matrix, annot=True, fmt='d', cmap='Blues',\n",
    " xticklabels=[\"no admitido\", \"admitido\"], yticklabels=[\"no admitido\",\n",
    " \"admitido\"])\n",
    " plt.title(\"Matriz de Confusión\")\n",
    " plt.xlabel(\"Predicción\")\n",
    " plt.ylabel(\"Real\")\n",
    " plt.show()"
   ],
   "id": "cfb30fcef2619cc7",
   "outputs": [],
   "execution_count": 143
  },
  {
   "metadata": {
    "ExecuteTime": {
     "end_time": "2025-01-24T18:32:18.158803Z",
     "start_time": "2025-01-24T18:32:17.740319Z"
    }
   },
   "cell_type": "code",
   "source": "train_validation(rfc)",
   "id": "f6d7f2ef4c6ea54b",
   "outputs": [
    {
     "name": "stdout",
     "output_type": "stream",
     "text": [
      "              precision    recall  f1-score   support\n",
      "\n",
      "           0       0.97      0.85      0.90        33\n",
      "           1       0.50      0.83      0.62         6\n",
      "\n",
      "    accuracy                           0.85        39\n",
      "   macro avg       0.73      0.84      0.76        39\n",
      "weighted avg       0.89      0.85      0.86        39\n",
      "\n",
      "score_test =  0.8461538461538461\n",
      "score_train =  0.8169934640522876\n"
     ]
    },
    {
     "data": {
      "text/plain": [
       "<Figure size 600x400 with 2 Axes>"
      ],
      "image/png": "[encoded data removed]"
     },
     "metadata": {},
     "output_type": "display_data"
    }
   ],
   "execution_count": 144
  },
  {
   "metadata": {},
   "cell_type": "markdown",
   "source": "Hemos obtenido una puntuación f1 del 0.90 para la clase 0 y 0.62 para la clase 1, lo que indica un claro sobreajuste del modelo frente a los datos presentes",
   "id": "c4072a5cfa06bdad"
  },
  {
   "metadata": {},
   "cell_type": "markdown",
   "source": "Por lo tanto el modelo no podría ser usado por la presencia del overfitting que hemos comentado anteriormente",
   "id": "7e954ade8cb3259"
  }
 ],
 "metadata": {
  "kernelspec": {
   "display_name": "Python 3",
   "language": "python",
   "name": "python3"
  },
  "language_info": {
   "codemirror_mode": {
    "name": "ipython",
    "version": 2
   },
   "file_extension": ".py",
   "mimetype": "text/x-python",
   "name": "python",
   "nbconvert_exporter": "python",
   "pygments_lexer": "ipython2",
   "version": "2.7.6"
  }
 },
 "nbformat": 4,
 "nbformat_minor": 5
}

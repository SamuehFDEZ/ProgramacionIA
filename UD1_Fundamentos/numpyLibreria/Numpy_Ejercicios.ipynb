{
 "cells": [
  {
   "cell_type": "markdown",
   "metadata": {
    "id": "LXgzv1V5lPXi"
   },
   "source": [
    "# Ejercicios NumPy"
   ]
  },
  {
   "cell_type": "markdown",
   "metadata": {
    "id": "ADfp2pApl4BF"
   },
   "source": [
    "---\n",
    "## Para empezar..."
   ]
  },
  {
   "cell_type": "markdown",
   "metadata": {
    "id": "KXZZO1zol8Qo"
   },
   "source": [
    "Antes de empezar a trabajar de verdad, tendrás que importar la librería de NumPy:"
   ]
  },
  {
   "cell_type": "code",
   "execution_count": 2,
   "metadata": {
    "id": "KZOgslZVl9OD",
    "jupyter": {
     "is_executing": true
    }
   },
   "outputs": [],
   "source": [
    "import numpy as np"
   ]
  },
  {
   "cell_type": "markdown",
   "metadata": {
    "id": "NK3e4TpmmBfN"
   },
   "source": [
    "---\n",
    "## Ejercicio 1"
   ]
  },
  {
   "cell_type": "markdown",
   "metadata": {
    "id": "YNcdlYDjmCBY"
   },
   "source": [
    "Crea una array bidimensional, de tamaño 10x10, con valores de tipo float32 aleatorios entre 0 y 10, redondeados a 2 decimales. Luego, muestra las dimensiones, el tamaño y la forma que tiene mediante las propiedades correspondientes. Finalmente, calcula la suma de todos los valores, la media, obtén el valor máximo y el mínimo."
   ]
  },
  {
   "cell_type": "code",
   "execution_count": 2,
   "metadata": {
    "id": "kB77aVDhmCN2"
   },
   "outputs": [
    {
     "name": "stdout",
     "output_type": "stream",
     "text": [
      "Array= [[6.01 2.68 3.81 6.55 2.33 9.64 4.86 1.37 6.87 9.36]\n",
      " [0.07 7.3  2.02 8.07 5.21 2.47 8.   3.64 7.49 9.38]\n",
      " [6.19 5.46 5.35 7.41 0.18 2.09 7.95 7.13 9.27 1.35]\n",
      " [4.83 9.38 0.17 6.21 2.22 3.93 0.61 6.95 4.82 5.61]\n",
      " [2.04 3.88 7.23 2.59 5.43 7.34 4.42 8.23 3.31 6.19]\n",
      " [7.01 4.09 0.69 9.37 0.33 3.24 1.73 7.36 9.81 6.36]\n",
      " [1.93 4.79 2.99 2.97 6.57 2.09 3.51 6.1  7.36 5.99]\n",
      " [5.62 7.46 6.31 9.62 1.77 1.75 2.06 0.7  6.84 4.21]\n",
      " [2.33 8.02 7.58 6.03 2.27 4.85 6.21 8.34 8.63 0.69]\n",
      " [1.24 9.96 7.1  7.36 4.1  9.87 1.95 7.96 2.29 2.38]]\n",
      "Nº de dimensiones = 2\n",
      "Tamaño = 100\n",
      "Forma = (10, 10)\n",
      "La suma total es = 504.69000244140625\n",
      "La media total es = 5.046899795532227\n",
      "El valor maximo es = 9.960000038146973\n",
      "El valor mínimo es = 0.07000000029802322\n"
     ]
    }
   ],
   "source": [
    "array = np.random.uniform(low=0.0, high=10.0, size=(10, 10)).astype(dtype='float32')\n",
    "array_round = np.round(array, decimals=2)\n",
    "print(f'Array= {array_round}')\n",
    "print(f'Nº de dimensiones = {array.ndim}')\n",
    "print(f'Tamaño = {array.size}')\n",
    "print(f'Forma = {array.shape}')\n",
    "print(f'La suma total es = {np.sum(array_round)}')\n",
    "print(f'La media total es = {np.average(array_round)}')\n",
    "# NOTA: average te hace la media ponderada, mean no, en este caso mean es mas eficaz\n",
    "print(f'El valor maximo es = {np.max(array_round)}')\n",
    "print(f'El valor mínimo es = {np.min(array_round)}')"
   ]
  },
  {
   "cell_type": "markdown",
   "metadata": {
    "id": "dWM-6b0lnBbZ"
   },
   "source": [
    "---\n",
    "## Ejercicio 2"
   ]
  },
  {
   "cell_type": "markdown",
   "metadata": {
    "id": "oowvRvyrnCMy"
   },
   "source": [
    "Crea un array de una dimensión de tipo int8. En una de las posiciones pon el valor 1000. ¿Qué ocurre y porqué?"
   ]
  },
  {
   "cell_type": "code",
   "execution_count": 5,
   "metadata": {
    "id": "8l_eEmAvnCcL"
   },
   "outputs": [
    {
     "ename": "OverflowError",
     "evalue": "Python integer 1000 out of bounds for int8",
     "output_type": "error",
     "traceback": [
      "\u001b[1;31m---------------------------------------------------------------------------\u001b[0m",
      "\u001b[1;31mOverflowError\u001b[0m                             Traceback (most recent call last)",
      "Cell \u001b[1;32mIn[5], line 2\u001b[0m\n\u001b[0;32m      1\u001b[0m array2 \u001b[38;5;241m=\u001b[39m np\u001b[38;5;241m.\u001b[39marray([\u001b[38;5;241m0\u001b[39m,\u001b[38;5;241m1\u001b[39m,\u001b[38;5;241m2\u001b[39m,\u001b[38;5;241m3\u001b[39m,\u001b[38;5;241m4\u001b[39m,\u001b[38;5;241m5\u001b[39m])\u001b[38;5;241m.\u001b[39mastype(dtype\u001b[38;5;241m=\u001b[39m\u001b[38;5;124m'\u001b[39m\u001b[38;5;124mint8\u001b[39m\u001b[38;5;124m'\u001b[39m)\n\u001b[1;32m----> 2\u001b[0m posicion \u001b[38;5;241m=\u001b[39m \u001b[43marray2\u001b[49m\u001b[43m[\u001b[49m\u001b[38;5;241;43m2\u001b[39;49m\u001b[43m]\u001b[49m \u001b[38;5;241m=\u001b[39m \u001b[38;5;241m1000\u001b[39m\n\u001b[0;32m      3\u001b[0m \u001b[38;5;28mprint\u001b[39m(posicion)\n",
      "\u001b[1;31mOverflowError\u001b[0m: Python integer 1000 out of bounds for int8"
     ]
    }
   ],
   "source": [
    "array2 = np.array([0,1,2,3,4,5]).astype(dtype='int8')\n",
    "posicion = array2[2] = 1000\n",
    "print(posicion) # OverflowError: Python integer 1000 out of bounds for int8"
   ]
  },
  {
   "cell_type": "markdown",
   "metadata": {
    "id": "qa8vDfFFYfFD"
   },
   "source": [
    "A continuación ejecuta alguna solución para este problema, ¿que harías?"
   ]
  },
  {
   "cell_type": "code",
   "execution_count": 6,
   "metadata": {
    "id": "m80bBipMYfFD"
   },
   "outputs": [
    {
     "name": "stdout",
     "output_type": "stream",
     "text": [
      "1000\n"
     ]
    }
   ],
   "source": [
    "array2 = np.array([0,1,2,3,4,5]).astype(dtype='int16')\n",
    "posicion = array2[2] = 1000\n",
    "print(posicion)\n",
    "\n",
    "# solucion: aumentar el dtype a int16"
   ]
  },
  {
   "cell_type": "markdown",
   "metadata": {
    "id": "Z2Ymsre1nFp-"
   },
   "source": [
    "---\n",
    "## Ejercicio 3"
   ]
  },
  {
   "cell_type": "markdown",
   "metadata": {
    "id": "R2LvvpIUnGXJ"
   },
   "source": [
    "Crea un array con 20 valores entre los números 1 y 2. Estos valores deben estar distribuídos de manera equitativa:"
   ]
  },
  {
   "cell_type": "code",
   "execution_count": 7,
   "metadata": {
    "id": "ft9_dnY1nGhd"
   },
   "outputs": [
    {
     "name": "stdout",
     "output_type": "stream",
     "text": [
      "[1.         1.05263158 1.10526316 1.15789474 1.21052632 1.26315789\n",
      " 1.31578947 1.36842105 1.42105263 1.47368421 1.52631579 1.57894737\n",
      " 1.63157895 1.68421053 1.73684211 1.78947368 1.84210526 1.89473684\n",
      " 1.94736842 2.        ]\n"
     ]
    }
   ],
   "source": [
    "array3 = np.linspace(1, 2, 20)\n",
    "print(array3)"
   ]
  },
  {
   "cell_type": "markdown",
   "metadata": {
    "id": "V_2YvVrUnGzO"
   },
   "source": [
    "---\n",
    "## Ejercicio 4"
   ]
  },
  {
   "cell_type": "markdown",
   "metadata": {
    "id": "veIUhoHdnHkC"
   },
   "source": [
    "Crea una matriz de forma 2x3 y muéstrala por pantalla. A continuación cambia su forma a una matriz 3x2. Luego obtén el resultado de multiplicar la primera por la segunda."
   ]
  },
  {
   "cell_type": "code",
   "execution_count": 7,
   "metadata": {
    "id": "4xmNj-genHwf"
   },
   "outputs": [
    {
     "name": "stdout",
     "output_type": "stream",
     "text": [
      "[[6 6 4]\n",
      " [8 3 5]]\n",
      "Resultado de la multiplicacion \n",
      " [[ 72 104]\n",
      " [ 75  97]]\n"
     ]
    }
   ],
   "source": [
    "array4 = np.random.uniform(low=0, high=10, size=(2,3)).astype(dtype='int32')\n",
    "print(array4)\n",
    "newArray4 = array4.reshape(3,2)\n",
    "resultado = np.dot(array4, newArray4)\n",
    "\n",
    "print(f'Resultado de la multiplicacion \\n {resultado}')\n",
    "\n"
   ]
  },
  {
   "cell_type": "markdown",
   "metadata": {
    "id": "0OKve7lDoPMT"
   },
   "source": [
    "---\n",
    "## Ejercicio 5"
   ]
  },
  {
   "cell_type": "markdown",
   "metadata": {
    "id": "O-WK7p6soR8-"
   },
   "source": [
    "Crea un array de 6x6 con números enteros aleatorios entre 0 y 10, luego realiza las siguientes operaciones:\n",
    "* Extrae la submatriz formada por las dos primeras filas y las tres primeras columnas.\n",
    "* Selecciona todas las filas, pero solo las columnas desde la 2ª hasta la 4ª.\n",
    "* Reemplaza todos los elementos en las tres primeras filas y tres primeras columnas con el valor 0.\n",
    "* Selecciona los elementos de las dos últimas filas que son mayores a 3"
   ]
  },
  {
   "cell_type": "code",
   "execution_count": 4,
   "metadata": {
    "id": "A21uA-KdohAT"
   },
   "outputs": [
    {
     "name": "stdout",
     "output_type": "stream",
     "text": [
      "[[8 1 6 0 1 4]\n",
      " [9 2 2 4 5 8]\n",
      " [6 9 9 6 1 6]\n",
      " [6 6 1 9 7 4]\n",
      " [9 4 4 4 0 7]\n",
      " [3 6 8 5 8 0]]\n",
      "---------------------------------------------------------------------\n",
      "[[8 1 6]\n",
      " [9 2 2]]\n",
      "---------------------------------------------------------------------\n",
      "[[1 6 0]\n",
      " [2 2 4]\n",
      " [9 9 6]\n",
      " [6 1 9]\n",
      " [4 4 4]\n",
      " [6 8 5]]\n",
      "---------------------------------------------------------------------\n",
      "[[0 0 0 0 1 4]\n",
      " [0 0 0 4 5 8]\n",
      " [0 0 0 6 1 6]\n",
      " [6 6 1 9 7 4]\n",
      " [9 4 4 4 0 7]\n",
      " [3 6 8 5 8 0]]\n",
      "---------------------------------------------------------------------\n",
      "[9 8 8]\n"
     ]
    }
   ],
   "source": [
    "array5 = np.random.uniform(low=0, high=10, size=(6,6)).astype(dtype='int32')\n",
    "\n",
    "print(array5)\n",
    "print(\"---------------------------------------------------------------------\")\n",
    "\n",
    "# Extrae la submatriz formada por las dos primeras filas y las tres primeras columnas.\n",
    "print(array5[0:2,0:3])\n",
    "print(\"---------------------------------------------------------------------\")\n",
    "\n",
    "# Selecciona todas las filas, pero solo las columnas desde la 2ª hasta la 4ª.\n",
    "print(array5[:,1:4])\n",
    "print(\"---------------------------------------------------------------------\")\n",
    "\n",
    "# Reemplaza todos los elementos en las tres primeras filas y tres primeras columnas con el valor 0.\n",
    "array5[:3,:3] = 0\n",
    "print(array5)\n",
    "print(\"---------------------------------------------------------------------\")\n",
    "\n",
    "# Selecciona los elementos de las dos últimas filas que son mayores a 3\n",
    "\n",
    "mayoresA3 = array5[-2:,:][array5[-2:,:] > 3]\n",
    "\n",
    "print(mayoresA3)\n"
   ]
  },
  {
   "cell_type": "markdown",
   "metadata": {
    "id": "NcMs8O0xohx0"
   },
   "source": [
    "---\n",
    "## Ejercicio 6"
   ]
  },
  {
   "cell_type": "markdown",
   "metadata": {
    "id": "O2Aabc_Uoiqe"
   },
   "source": [
    "Crea un array de tamaño 8x8 con valores enteros aleatorios entre 1 y 100, realiza las siguientes operaciones utilizando máscaras booleanas:\n",
    "\n",
    "* Crea una máscara que identifique los elementos mayores a 50 y reemplázalos por el valor 100.\n",
    "* Crea una máscara que identifique los elementos menores o iguales a 20 y reemplázalos por el valor -1.\n",
    "* Cuenta cuántos elementos del array son pares y cuántos son impares.\n",
    "* Crea una nueva matriz donde se reemplacen los elementos pares por su mitad y los impares por su doble."
   ]
  },
  {
   "cell_type": "code",
   "execution_count": 5,
   "metadata": {
    "id": "8tSosR39oi2O"
   },
   "outputs": [
    {
     "name": "stdout",
     "output_type": "stream",
     "text": [
      "[[55 50 14 76 84 41 95 42]\n",
      " [34 57 73 58 48  9 66 60]\n",
      " [81 21 66 24 12 93 33 48]\n",
      " [78  5 57 28 23 63 26 43]\n",
      " [29 68 31 68 94 85 94 39]\n",
      " [55 84 17  8 94 50 64 26]\n",
      " [12 93 70 91 64 71  1 33]\n",
      " [77 27 70 23 96 29 87 15]]\n",
      "---------------------------------------------------------------------------\n",
      "[[100  50  14 100 100  41 100  42]\n",
      " [ 34 100 100 100  48   9 100 100]\n",
      " [100  21 100  24  12 100  33  48]\n",
      " [100   5 100  28  23 100  26  43]\n",
      " [ 29 100  31 100 100 100 100  39]\n",
      " [100 100  17   8 100  50 100  26]\n",
      " [ 12 100 100 100 100 100   1  33]\n",
      " [100  27 100  23 100  29 100  15]]\n",
      "---------------------------------------------------------------------------\n",
      "[[100  50  -1 100 100  41 100  42]\n",
      " [ 34 100 100 100  48  -1 100 100]\n",
      " [100  21 100  24  -1 100  33  48]\n",
      " [100  -1 100  28  23 100  26  43]\n",
      " [ 29 100  31 100 100 100 100  39]\n",
      " [100 100  -1  -1 100  50 100  26]\n",
      " [ -1 100 100 100 100 100  -1  33]\n",
      " [100  27 100  23 100  29 100  -1]]\n",
      "---------------------------------------------------------------------------\n",
      "Pares: 43 Impares: 21\n",
      "---------------------------------------------------------------------------\n",
      "[[50 50 -2 50 50 82 50 42]\n",
      " [34 50 50 50 24 -2 50 50]\n",
      " [50 42 50 12 -2 50 66 24]\n",
      " [50 -2 50 14 46 50 26 86]\n",
      " [58 50 62 50 50 50 50 78]\n",
      " [50 50 -2 -2 50 50 50 26]\n",
      " [-2 50 50 50 50 50 -2 66]\n",
      " [50 54 50 46 50 58 50 -2]]\n"
     ]
    }
   ],
   "source": [
    "array6 = np.random.uniform(low=1, high=100, size=(8,8)).astype(dtype='int32')\n",
    "\n",
    "print(array6)\n",
    "print(\"---------------------------------------------------------------------------\")\n",
    "# Crea una máscara que identifique los elementos mayores a 50 y reemplázalos por el valor 100.\n",
    "array6[array6 > 50] = 100\n",
    "print(array6)\n",
    "print(\"---------------------------------------------------------------------------\")\n",
    "\n",
    "# Crea una máscara que identifique los elementos menores o iguales a 20 y reemplázalos por el valor -1.\n",
    "array6[array6 <= 20] = -1\n",
    "print(array6)\n",
    "print(\"---------------------------------------------------------------------------\")\n",
    "\n",
    "# Cuenta cuántos elementos del array son pares y cuántos son impares.\n",
    "pares = array6[array6 % 2 == 0].size\n",
    "impares = array6[array6 % 2 != 0].size\n",
    "print(f'Pares: {pares} Impares: {impares}')\n",
    "print(\"---------------------------------------------------------------------------\")\n",
    "\n",
    "# Crea una nueva matriz donde se reemplacen los elementos pares por su mitad y los impares por su doble.\n",
    "nuevoArray = array6.copy() \n",
    "\n",
    "nuevoArray[nuevoArray % 2 == 0] = nuevoArray[nuevoArray % 2 == 0] / 2 \n",
    "nuevoArray[nuevoArray % 2 != 0] = nuevoArray[nuevoArray % 2 != 0] * 2 \n",
    "\n",
    "# por where\n",
    "\n",
    "# if array6 % 2 == 0 ? array6 / 2 : array6 * 2\n",
    "nuevaMatriz = np.where(array6 % 2 == 0, array6 / 2, array6 * 2)\n",
    "\n",
    "print(nuevoArray)"
   ]
  },
  {
   "cell_type": "markdown",
   "metadata": {
    "id": "-pvYqcfFolmh"
   },
   "source": [
    "---\n",
    "## Ejercicio 7"
   ]
  },
  {
   "cell_type": "markdown",
   "metadata": {
    "id": "sM9V2Ulnomoo"
   },
   "source": [
    "Sin utilizar las funciones predefinidas std ni mean de NumPy, programa dichas funcionalidades mediante 2 funciones diferentes. A esas funciones le pasarás como parámetro un array y devolverán el valor calculado. Haz un prueba con un array sencillo y muestra en pantalla los resultados. El cálculo de la media es sencillo, pero para la desviación estándar tendrás que investigar un poco."
   ]
  },
  {
   "cell_type": "code",
   "execution_count": 2,
   "metadata": {
    "id": "eeN5RTZQom_m"
   },
   "outputs": [
    {
     "name": "stdout",
     "output_type": "stream",
     "text": [
      "Media 5.5\n",
      "Desviacion estandar 2.8722813232690143\n"
     ]
    }
   ],
   "source": [
    "def desviacionEstandar(array):\n",
    "    mu = media(array)\n",
    "    suma_diferencias_cuadrado = np.sum((array - mu) ** 2)\n",
    "    varianza = suma_diferencias_cuadrado / array.size\n",
    "    desviacion_estandar = np.sqrt(varianza)\n",
    "    return desviacion_estandar\n",
    "    \n",
    "def media(array):\n",
    "    suma_total = np.sum(array)  \n",
    "    num_elementos = array.size  \n",
    "    media = suma_total / num_elementos\n",
    "    return media\n",
    "    \n",
    "array7 = np.array([1,2,3,4,5,6,7,8,9,10])\n",
    "\n",
    "print(f'Media {media(array7)}')\n",
    "\n",
    "print(f'Desviacion estandar {desviacionEstandar(array7)}')\n",
    "\n",
    "\n"
   ]
  },
  {
   "cell_type": "markdown",
   "metadata": {
    "id": "-QL_QTj-oncQ"
   },
   "source": [
    "---\n",
    "## Ejercicio 8"
   ]
  },
  {
   "cell_type": "markdown",
   "metadata": {
    "id": "jxdjFioFooZS"
   },
   "source": [
    "Dada una matriz, del tamaño que quieras, y con valores aleatorios entre 0 y 100; normaliza cada columna de la matriz utilizando la fórmula de normalización:\n",
    "\n",
    "![formula](data:image/png;base64,iVBORw0KGgoAAAANSUhEUgAAAXMAAABZCAYAAADM+sR2AAAAAXNSR0IArs4c6QAAAARnQU1BAACxjwv8YQUAAAAJcEhZcwAAFiUAABYlAUlSJPAAABgHSURBVHhe7Z3781XTG8e//wC/84MfMvqBX6qRQYMh1biMy5DriAZFo4gulBRRxIhcJtJFRCgRYcr9Esolt4hcI+R+zS3rO6/Vfo71WZ+1zzl7n73P2Wef5zWzp0977b0/+7P3Xu/1rOd51lr/M4qiKErbo2KuKIpSAlTMFUVRSoCKuaIoSglQMVcURSkBKuaKoiglQMVcURSlBKiYK4qilAAVc0VRlBKgYq4oilICVMwVRVFKgIq5oigN89lnn5kpU6aYb775JtrTPNatW2euvPJK88svv0R7OhMVc0VRGmLjxo3mhBNOMM8991y0p7n8/fff5tprrzWjR482P//8c7S381AxV1rOP//8Y2bOnGmOPPLI2O3hhx+OjjbmrbfeMscee2zwuHPOOcf88MMP0ZGdx7Zt28z7779vnxE/583XX39thXz+/Pnm33//jfaGee+998yJJ54YfG9svLvvv//eHvvnn39aazt0HJv7PcBvv/1mLrjgAnP++eebX3/9NdrbWaiYKy0HMV+2bJm1ri666CKzyy67mB122MFuRx11lJk1a5bZtGlTdPR2UZg0aVLluJ122smKxNVXX22vw/U6FUSO58FzueWWW6K9+YBFfOmll5ohQ4bU1YDiirn++uvte+K9yjvmPfLeH3nkEXtN+OOPP8xdd93V5bg+ffqYiy++2F6Da/nwXey///7m3nvvrdmwlBEVc6VQUInHjh1bqcAPPvhgVNKVzz//3AwaNMiceeaZ9mdlO1iz8uywUrdu3RqVZM/zzz9vdt99d/PEE09Ee+rnlVdeMT179rT3edJJJ1UschcEec6cOfZ3LFmypCL0cXD8DTfcYPbdd1+zYcOGaG/noGKuFI6nnnqqYl2eddZZtgvtwv8RKja/rNPBvYKYYcUitnnBc+fdIMRp3FpyPu+Yd/3kk09GJf+BD75fv37m2WefjfbUZv369aZv377m8ssvryn+ZUPFXCkciAMiQUXfbbfdzOuvvx6V/BfsomuPv1ZpDVjWvJu5c+dGe5JDr2vHHXe07/nCCy+0fnIBl8nAgQPNfffdl8hlQs9u3Lhx5sADDzQff/xxtLczUDFXCsntt99uKzkbXWcqNELOfoRehbx1EJPA8u3Vq5ftCaTlyy+/tMFM3rErvvjDjzvuuNS+73vuucc2EosXL472dAYq5koh+eSTT2wFp6IfccQRZvPmzbZyH3TQQdZqU1rHt99+a44++mi78XNaxMctjfaCBQtsI00wm95XWjcJDUzv3r2ttY+l3imomCuFhC43lVEq+qhRo8yhhx7atkIumRyIFBkZWKS4j0gffPnll23Ql31Dhw41y5cvr4gQ5fiO8S9Tzr/4l32RcjOCCIIiiLNnz45Kjfn999/NwoULg+VkCpEaSron++fNm2e+++47WxYCscQq910jaeAZSCD0sMMOM6ecckpDQg4MXOJZYQRs2bIl2lt+VMyVwuIGQsloaNWglCxAtMi+kb+HbcWKFWbMmDFm+vTpthw/NGJO2YQJE6ygjh8/3ro0/PLJkyd3EXSyVqZOnWoDn3J9RFsgDjFixAj7HKWc4xctWmSGDRtmM1LIT58xY4a9R3LH41xZ3DfnX3PNNdGe9LiBULYs8sRpuEaOHGn23nvvjurFqZgrhcUNhO655542U6HdYbSkuI8QVt8vzN/I34rlS5DXL0dwyVbxA8MCFi05+FzfFXMBoWNwDeU9evSwP7sZQa64Ep8IceONN9pyfNNZ4AZCabgaHSdAb4G8da63evXqaG/5UTFXCgtWlQgfmwRC2xmsbRkIg2vFd5e45YiqK7TglpN7HUJyzUNiDlLOsyU24SPlcW4UKcdCbxTJTuJ6ck9ZZKFcddVVtoEgG6ZTUDFXCgldfKxyLEcsUSo6PlAyINoZV4wZ4eiTpDzOMq5XzBk+j6XuI+Xnnntut3I3ltGo1UvDTM+DQOrZZ59tr8lGILRRRMw7KaNFxVwpHMx+x6RJWGxYpjIiFF8ufvSsePzxx22grJGNwGySmQJriXGj5VCvmIfEGqqV83/2U96ImCPkTz/9dCWo7Y4IpUfSqN9cxVxRWgziTRCMgR/iYnADoSHXRFoQxhdeeMGOMEy7JZ3QSsV8OwSzDzjggMooVddXTzxg7dq1dn9aVMwVpYUg0mRI+MP0yxQIbXcxx6KeNm2aLU8r5u+88461yP3spCwDoSrmitIiJBAWlxIXGhHajrS7mIOUx/3+auBS6d+/f3B0Z9yI0DSImLdzOmtSVMyVliOBsMGDBwenNgV/RGi7BkLLIOYEZilPOi+LBLVpmEODgvgOaKjFOk8bCOWezzvvPOuuee2116K95UfFXGkpuFao3AzwqDbPhz8iNG5q3KJTBjHHz43g4m6pt4eElc0IU+Y/rza60x0RivCHpsatxU8//WRz9A8++GDz6aefRnvLj4q50nSo2AQPmauaUZFUXKwoFlMIda2/+OIL89hjj9kKyrFsCMOqVatsALMdhmwzhwl/M3nP+P35GyZOnGj34XoggwcftFtOWibBX7f8gQceqKRqSvkbb7xhYwxr1qyxQ/0ZEk85//J/zqfR9MtpFFauXGn3I9pcxy1neD2LXVDuBp0//PBDs99++9m55OPW3eR6TFPAe+M+ZSERro3rw28kuD5WNAOSZJQqQW/+zzN68803qzYCLtwfi1Rwf520jFxdYs7HwJwNflqWbO5SXVhQtOyh49j85Z6UzoJKjMVHZQ1tvrX5119/2blMQsfKFmehFokXX3wxeO9s1BcZ2ZmmnOdJgycWu79xvmvR+xv7WeAj7r1QzvkCAo5QYvnGucX4e8Vd4m/klfvpnDQke+yxR/B4ttA5cUjPAZdNJ1GXmMskQXkt96QoSnshAek0qwzlifjdO81fDondLDIpPS8Sn5ZY5C48UFnuaenSpXV3jxRFaQ8kID1lypRCrbmKHp188smZDDxqNxKLuZvcHzciD58YXcJOSgtSlE4CAWdMQNz8Lq0CPdp1112t77/TSBUAJZNAXCj+ZDz41wcMGJB4uSdFUdoLMkWo64h6Eaxzgp3Dhw/vNhNkp5BKzMnxJdcXMXdbZvzh5AqHBgQoilI+8JnXSittBugNusNKVO+++260t7NIJeYSZBDrnGAIAwIYvdfoKiGKorQP1HVSSomfxS1m0QzwCJBKSRpjp5JKzIHkfgmEZrXck6Io7YcIeqvcGzQiZ5xxhhXyTvYIpBZzNxDK5k+OpChK54CIkn/eCmOOmF2nZa6ESC3m4AZCs1juqSwwWo1eShYbUXmNPyiKUovUYk4LjNiImBctRamV4L+TldiTbLfeeqtNraK7KBvXUhRFqUXqAGhouScCoYqiKErzSSzmCLm/3JMEQvGhq99cURSl+SQWc0Z1VlvuCXFXWo/0lnTTTbfib1nExRKJebXlnuSmNBCqKIrSfOoWc1wqjK6KW+4pNCK0U1myZEmlcWt0YyIjpoFVFEWpRl1iXu9yTyJA1QKhTHTPdLjMbT579mw7v8PUqVPt/5kX/e23346O/A+m1WVS/qFDh9pFCXDrMPG9NCobN240l112mS3jWs8884wdxDR69GizadMm89VXX5mZM2faOdn5HczdzD3yfzZ6Fvxd/G7KuRem9uXcNHAtZm9jDuhGN3feG0VRlDhqinmS5Z5qTY0LCNRDDz1kZ1UkG4aVRPC7c20WYfXXd6SMAUlM5iOrnTARP79DegkseMCKM9znXnvtZa9JkJZ7QcQ5b+3atXZCfX7vuHHjKivacBxT9V5yySV2HnaO5XeOHDlSA7qKorQN3cS8Gcs9IegsXuGLPivG0CDQMABCPX/+fOun37x5s90nMJiG5bXcCX5YUQWxZlUW1g688847u1jXlPtBWlnBxRdu7oWlsViCSmkP+M7uvvtuc//990d7mgf1gMVbXnrppW5uSKV1oFfXXXedfS/NhrVIMYI3bNgQ7cmXbmJebXkrLGnWMnRhuScR8dAWOkfE3F8wFoHmHO4BeBg0IqGFZRHxXr162UZDQKz9Ja5cXLEXaCRoLChzQcz9Y5XigpC3cn4QIK7Et0RvTwW99fAd4H5lQF41r0KeYAAzd1XIfZw1dQdAs0TE3J8LXRoSEXNZODYk5mJR43+XAGE9Yu6vWyj3omLeviCcuNxw0eGCqwaZVrjeZE3a0OauU4vRgPsudJy79q1A5eW78TO+Oh3eEb1kevHiLs0TxBsRHzZsmDUKq0FMkJ556B2znXrqqeajjz6KjjZmwYIFwePYiAO6Dbl8m/379899at6WirkvoL6Ys4ArFZRK44s5XRfmUXavwc+hYwXKfbFXMW9/EFy+hXoWC0fMly1bZis6QW5xI7LxHcyaNauLaw5re9KkSZXjcCESNMelwnX8NFxEhNgP00G3ckrYooGIy4LNPM+8A/vMs967d2/z6quvRnviQQPo1fFNDBkypPI98K7Rk8WLF1c0hfeNC9o9Ds8EyRacj1vZhx7CqFGjbOwvzwnBWirm06ZN69KK+WLOC+fFI+j+yty4ZPxl6xDkkBUvUO5fS8W8veFd886xwFhpJglYiGPHjq1USrKaQpD9NGjQIBtA5+dayPqYRVmBpwhQn2S1fno6xLTyYsuWLbYxxV+dNK2Xd0cKNvfJO5RECZ+VK1eanXfe2dx0002xeuNCnK5nz562YciLlop5LZ85hPLbaelo5dxpdymjceC6XD8Egu0LdJzPnMwWrL1mBS+UdNCY06jHCXEt5Hy+u1D2UuhbqwUCzuA5AvTr16+P9nY29HaOOeYY28PJe0lJ0o4RTjLYksK7u+KKKyoNDy4VHzQJtwkNVL1/B98O81hhTPrJHFnRdDHnAfCQ3I3uMSLs7nOFnlx0HgT76N6SBUPgU8rFoo87X/zrbjnizebu4xjuJXSsUjzEsg5lO9ULPm++J96zm0kF4nelS53UZSJzFjH+Ik/hUrrC+2R1fnpRSXtqgljRfBMkYPz4449RyXb/OtcnQyap1Y/BQSPBmJk8aIllnhb8TVjdOpBGAaxerF9GyTbizsCSk4ZbxBchZz9Cn8b3TQYXmVyhbC4lP+hp4f647bbboj3JEStaGnix8HEN4fumgU8zKhujsl+/ftbQrLeXl4S2EnNFcZFeHv82gvi4uZZ0g3Hr4d6jS50GGhcaGd/aV/KDRnjGjBnWbbZ69epobzrEiuabYFQ51jlpr40EMVmJidgOGXV4G7JGxbykkH4pC2TI9AmIyrZt2+ygMNwT7GOKhOXLl1fSxSgnrU5StfiXWEZcOhkWBsI3ePDgSsYH1gcZHaHpEHB9MVrXXYCDDYtKXCXr1q3rVs45bnwlS7Gkp0eaLPfOhvWF6yatkAvEXbge/xYVnunChQvtd4I7kUwd0uuA90caJwFLNjJ93OQBdyoOzps3b14wXsW75fq4SPneOGfr1q22jPco2UV+Odfimlyb38+9hL4pIUuxpP4MGDDAvj/crsOHD29IyIHGZvr06baRyCN1VcW8pCBwZGBIcI9txYoVZsyYMfaDohzfIJWHsgkTJtjKM378eBu888snT57cTdARAqwVykntojKxj/Oo4KRsYeG4PmN8mqR7+fdGQ8B5QKWV/WxcZ8SIEV1yumVAWVajdN1AKL8vi8rGNNFcz8/aKhI8U56tO/APMV20aJEVRlL8cA+IxYvA0ZMhiMm34ZfTCPpCSuNAAy/Xd+NZiDa/r0+fPpVyptLAr8z7xdD44IMP7Ehw7pEeVFy+tghwFtkyfiCU7BjmeGoUGnauyfPNGhXzksMkZOJCoDK4WUEgfmdG0xLo88sleByygN3A8mmnndYl4ETuN9etltGB5Sv3tnTp0mjvf+MLaBDIT6a34EPFxQKrlr2UBDcQmlUWCs+L5+aKV1FxG+YePXp0G0nLz/TSKGcQDT0Zt5zz+Tspd0dlC3xTc+bMseWh58E7phFH6Pj9vAtXPBFXjAzOj5tmm+dN4DIrn7QbCOVvzyJHHIOKvxGDKusGXsW85CB0kimEa8W3rt3yUGqeW87Uvi4cS9cTi4zAoVvBqKxY4Jw3d+7caG9X+JhpPDgfUafhAYbDH3LIIVXdHNKQYL3VGuFXD27DwpZFForcI5ai26soKpLdxXMITWMt5XGNnZTzTYgbxUVyzeMaNyl3g44uUu5nmAhktVFOQxPnFqwX+TYJpvI3xd1TUuQeGWQUegaNoGJeclwxDvluk5SHAo1YVLhXfOFzLbVqqZ0yYpLjEAH85XTVa7k5srR6yVbBEsQalZ4GPQN39s40iJjz/HiORUfEOG4Udb3ltcS6VjnPnoE/PlLO8wxlCGVp9fL94bJhhlWuyd+FO4jvtRFEzInLZNF7cFExLzm1xLjRcoGPHPHCmqFSH3/88RU/bDUxB8QUnyTHItD4R2tVRhlb0KiY0xDJUGwql4wIpbeAH70R0oo5Qb7TTz/dupnSbvQGCHQnoZYYN1ouYlyrPE6s6y1vVMxZUY3JsQi8uyNCsxjwo2KupCZvMeeDJPhJAIsgJoM1CFoR/ONnzqsl5oBvHPFHzHGz1CILMRc3EdaXVCw3EBpySyUhrZjzO3kefkZPko3nk1QsVMy3u9sGDhxYGaXqB0IbHfCjYq6kJk8xx6KWCYf8eUuorFRayuoRc7IiRESxKmtlDshEa3HCUAsEk7lTEHO3UmUZCG1XN0tasW61mGNAUJ5WzJlxk9GdfhJAloFQFXMlNXmJuZtdQJfUn3qWykqlpZxKTuUgUBkavYs1hJ/80UcfteLKOfivQxVeaEQoZZh+3MyGoRGhaZB7jPMxF412F3MRSq6fVCj5Dshn57vwR3dyrdCI0DTIPWLth7K0GkHFvOTkJeZYsFjQ7A/lUVNZqVSUU8nl/3zMLlwH61785OQoE3jCSvctJBdJX0w6LwvX47oMcnLntXfxR4SmDYTyt3INf97+otLuYk5vbZ999kk8LwtijfHAdxzXCPgjQtMGQuVvyGPOHhXzkpOXmMugHfaH5kZxBTFOzMXVQbDPTS/EZ44FhA/dF3+B62HxJpnZkt+H1c057nKDPv6I0LQzMpJdwfmhvOsi0u5iTgNP8DcuGyYE5+DyqLWIhTsilO86bmrcWjBlLn9DPXPvJ0XFvKTwsRMII5CD75ePcOLEiXYfbg2yOJi/wi3HOiEA6JYT8MFV4JazVCDizblY0Iiuu1QaFYRjqSSch6VEKiGDTbg212UACaNAKadyiiAjuEz+L78Ty5vh3ty3b0nTEHAM0w3EQaXjXPf30VAQtA1VSNxF/uID9EBWrVplpxSoVySgnvtrNTzvNWvW2HuUxpn3wXzd7Ed0ed9uOW41xMgt57uQgLeU857JB5dyvgm3nP00nH45757vjvP5Dvlm3HK+V749KRfIbecYBsCFFokALGq+Rf4elpSTjCvuCTefL+i4Qmj477jjji6jWBkRzXfF4hehhilEPffXCCrmJUW6+KENC0r8uWnKxbKiYlCpsHQRdcSSSsGGuFPRyBThHLJdEEREO3RdsfrdnkDcMQIVkv1xli/3yL3615HNvx6+UuaxCR0rm39OHPxueg7+MoVFo9rzZj9B7bhnWKuc94xQx5Wzn99f7Xy+F7H448pdGKBWzfLlu3ZFudb1SBMluyV0PFvonDik5xA36KlRVMyVhkHU6QmQ+UHldAM7/IxfPA+fMb5sutRYhK6FVgTEzdQu/vKywDfYt29f6/pL69fOC8mKycNfDirmSttChaBi0G2t5gNvBfjZ6a3gHlCaB24jeoO452ot7t1M+FbpQdLQMCgpD1TMlbZG3EF5WTtpICOCfOTQXDdK/pBvjgWc14o+aaAXiYuFdN68egwq5kpbg4DffPPNVtAR9iLAACh6C3GZOEq+YJ0T7GdKidA4gmbDN8paokwLwHS+eaFirrQ95BSTWsZq7K32k8o8Mww+KZrPtpPAxXL44YfXNc9P3pCNk3QB6DSomCulgOlzWW+z2kCjvEG8EXF/igClNTDRGLnhpBC2ChmQFBpZmjUq5kppQNCxivNYkqsWNCA0JATfipZZ08kg6IwTiFudKE9o3FnFn0U3QvO7Z42KuVIqSAPMYkWYpCDmiLi6VooHOf/1DuzJEtJyGYSU9RwscaiYK4qilAAVc0VRlBKgYq4oilICVMwVRVFKgIq5oihKCVAxVxRFKQEq5oqiKCVAxVxRFKUEqJgriqK0Pcb8H4SDvxGCvTHtAAAAAElFTkSuQmCC)\n",
    "\n",
    "\n",
    "donde:\n",
    "* X es una columna de la matriz,\n",
    "* min(𝑋) es el valor mínimo de la columna,\n",
    "* max(𝑋) es el valor máximo de la columna."
   ]
  },
  {
   "cell_type": "code",
   "execution_count": 6,
   "metadata": {
    "id": "3Z7iVaiooosD"
   },
   "outputs": [
    {
     "name": "stdout",
     "output_type": "stream",
     "text": [
      "[[1 2 3]\n",
      " [4 5 6]\n",
      " [7 8 9]]\n",
      "[[0.  0.  0. ]\n",
      " [0.5 0.5 0.5]\n",
      " [1.  1.  1. ]]\n"
     ]
    }
   ],
   "source": [
    "def normalizacion(matriz):\n",
    "    normalizada = np.zeros(matriz.shape)\n",
    "    # shape[1] -> columnas\n",
    "    for i in range(matriz.shape[1]):\n",
    "        minimo = np.min(matriz[:,i])\n",
    "        maximo = np.max(matriz[:,i])\n",
    "\n",
    "        normalizada[:,i] = (matriz[:,i] - minimo) / (maximo - minimo)\n",
    "        \n",
    "    return normalizada\n",
    "\n",
    "array8 = np.array([[1,2,3],[4,5,6],[7,8,9]])\n",
    "array8Norm = normalizacion(array8)\n",
    "print(array8)\n",
    "print(array8Norm)\n",
    "    "
   ]
  }
 ],
 "metadata": {
  "colab": {
   "provenance": []
  },
  "kernelspec": {
   "display_name": "Python 3",
   "name": "python3"
  },
  "language_info": {
   "codemirror_mode": {
    "name": "ipython",
    "version": 3
   },
   "file_extension": ".py",
   "mimetype": "text/x-python",
   "name": "python",
   "nbconvert_exporter": "python",
   "pygments_lexer": "ipython3",
   "version": "3.12.7"
  }
 },
 "nbformat": 4,
 "nbformat_minor": 0
}

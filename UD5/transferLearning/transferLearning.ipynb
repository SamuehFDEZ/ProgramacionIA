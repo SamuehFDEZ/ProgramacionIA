{
 "cells": [
  {
   "metadata": {},
   "cell_type": "markdown",
   "source": "# Práctica Transfer Learning para clasificación de imágenes",
   "id": "412b24afe3b917ea"
  },
  {
   "metadata": {},
   "cell_type": "markdown",
   "source": [
    "En esta práctica, explorarás el concepto de Transfer Learning utilizando el\n",
    "dataset CIFAR-10. Implementarás modelos con tres arquitecturas diferentes\n",
    "preentrenadas, comparando su rendimiento, con el objetivo de aprender a\n",
    "aprovechar modelos preentrenados para resolver problemas de clasificación."
   ],
   "id": "f5bc3bc004d4a918"
  },
  {
   "metadata": {},
   "cell_type": "markdown",
   "source": "## Descripción del dataset a utilizar",
   "id": "b36ad047035019a"
  },
  {
   "metadata": {},
   "cell_type": "markdown",
   "source": [
    "El dataset CIFAR-10 contiene 60,000 imágenes de 32x32 píxeles distribuidas en\n",
    "10 clases (por ejemplo, aviones, automóviles, pájaros, gatos, etc.). Este dataset\n",
    "es adecuado para tareas de clasificación de imágenes y es ampliamente utilizado\n",
    "en la investigación de visión por computadora."
   ],
   "id": "3e807516d571f6d0"
  },
  {
   "metadata": {},
   "cell_type": "markdown",
   "source": [
    "## Parte 1: Preparación\n",
    "1. Carga del dataset: Utiliza la función load_data() para cargar el dataset\n",
    "CIFAR-10 (la función está en tensorflow.keras.datasets.cifar10).<br><br>\n",
    "2. Preprocesamiento de Datos: normaliza las imágenes (escalar los\n",
    "valores de píxeles entre 0 y 1) y convierte las etiquetas a formato one-hot."
   ],
   "id": "a445128f2a171edf"
  },
  {
   "cell_type": "code",
   "execution_count": null,
   "id": "initial_id",
   "metadata": {
    "collapsed": true
   },
   "outputs": [],
   "source": [
    ""
   ]
  },
  {
   "metadata": {},
   "cell_type": "markdown",
   "source": [
    "## Parte 2: Implementación y entrenamiento\n",
    "1. Arquitecturas: utilizaremos VGG16, ResNet50 e InceptionV3. <br><br>\n",
    "2. Preparación de las arquitecturas: carga cada uno de los modelos\n",
    "preentrenados sin las capas superiores (sin la capa de clasificación) y\n",
    "congela todas las capas. <br><br>\n",
    "3. Construcción: <br><br>\n",
    "o VGG16: Usa VGG16 preentrenado en imagenes de ImageNet. <br><br>\n",
    "o ResNet50: Usa ResNet50 preentrenado. <br><br>\n",
    "o InceptionV3: Usa InceptionV3 preentrenado. <br><br>\n",
    "4. Compilación: Utiliza el optimizador Adam y la función de pérdida\n",
    "categorical_crossentropy. <br><br>\n",
    "5. Entrenamiento: entrena cada modelo con las imágenes del conjunto de\n",
    "entrenamiento y evalúa en el conjunto de test. Ajusta el número de épocas\n",
    "según sea necesario.\n"
   ],
   "id": "ac59c7a0f4929342"
  },
  {
   "metadata": {},
   "cell_type": "code",
   "outputs": [],
   "execution_count": null,
   "source": "",
   "id": "3b90a39624851bba"
  },
  {
   "metadata": {},
   "cell_type": "markdown",
   "source": [
    "## Parte 3: Evaluación\n",
    "1. Obtención de métricas: evalúa los tres modelos utilizando el conjunto de\n",
    "prueba y compara su precisión. Genera las gráficas de pérdida y\n",
    "precisión, así como la matriz de confusión y el informe de clasificación.<br><br>\n",
    "2. Comparación de resultados: compara las métricas de precisión de los\n",
    "tres modelos. ¿Cuál de los modelos tiene mejor rendimiento? ¿Por qué\n",
    "crees que ocurre esto? ¿Cómo afecta la arquitectura del modelo\n",
    "preentrenado al rendimiento en el dataset CIFAR-10? ¿Crees que el\n",
    "modelo con más parámetros siempre es el mejor? Justifica tu respuesta"
   ],
   "id": "fee2c2af20d8589b"
  }
 ],
 "metadata": {
  "kernelspec": {
   "display_name": "Python 3",
   "language": "python",
   "name": "python3"
  },
  "language_info": {
   "codemirror_mode": {
    "name": "ipython",
    "version": 2
   },
   "file_extension": ".py",
   "mimetype": "text/x-python",
   "name": "python",
   "nbconvert_exporter": "python",
   "pygments_lexer": "ipython2",
   "version": "2.7.6"
  }
 },
 "nbformat": 4,
 "nbformat_minor": 5
}

{
 "metadata": {
  "kernelspec": {
   "display_name": "Python 3",
   "language": "python",
   "name": "python3"
  },
  "language_info": {
   "name": "python",
   "version": "3.10.12",
   "mimetype": "text/x-python",
   "codemirror_mode": {
    "name": "ipython",
    "version": 3
   },
   "pygments_lexer": "ipython3",
   "nbconvert_exporter": "python",
   "file_extension": ".py"
  },
  "kaggle": {
   "accelerator": "none",
   "dataSources": [],
   "dockerImageVersionId": 30919,
   "isInternetEnabled": true,
   "language": "python",
   "sourceType": "notebook",
   "isGpuEnabled": false
  }
 },
 "nbformat_minor": 5,
 "nbformat": 4,
 "cells": [
  {
   "id": "412b24afe3b917ea",
   "cell_type": "markdown",
   "source": "# Práctica Transfer Learning para clasificación de imágenes",
   "metadata": {}
  },
  {
   "id": "f5bc3bc004d4a918",
   "cell_type": "markdown",
   "source": "En esta práctica, explorarás el concepto de Transfer Learning utilizando el\ndataset CIFAR-10. Implementarás modelos con tres arquitecturas diferentes\npreentrenadas, comparando su rendimiento, con el objetivo de aprender a\naprovechar modelos preentrenados para resolver problemas de clasificación.",
   "metadata": {}
  },
  {
   "id": "b36ad047035019a",
   "cell_type": "markdown",
   "source": "## Descripción del dataset a utilizar",
   "metadata": {}
  },
  {
   "id": "3e807516d571f6d0",
   "cell_type": "markdown",
   "source": "El dataset CIFAR-10 contiene 60,000 imágenes de 32x32 píxeles distribuidas en\n10 clases (por ejemplo, aviones, automóviles, pájaros, gatos, etc.). Este dataset\nes adecuado para tareas de clasificación de imágenes y es ampliamente utilizado\nen la investigación de visión por computadora.",
   "metadata": {}
  },
  {
   "id": "a445128f2a171edf",
   "cell_type": "markdown",
   "source": "## Parte 1: Preparación\n1. Carga del dataset: Utiliza la función load_data() para cargar el dataset\nCIFAR-10 (la función está en tensorflow.keras.datasets.cifar10).<br><br>\n2. Preprocesamiento de Datos: normaliza las imágenes (escalar los\nvalores de píxeles entre 0 y 1) y convierte las etiquetas a formato one-hot.",
   "metadata": {}
  },
  {
   "id": "f12664314c433a18",
   "cell_type": "code",
   "source": [
    "# Genearl\n",
    "import numpy as np\n",
    "import matplotlib.pyplot as plt\n",
    "import seaborn as sns\n",
    "from sklearn.model_selection import train_test_split\n",
    "from sklearn.metrics import confusion_matrix\n",
    "from sklearn.metrics import classification_report\n",
    "\n",
    "# Tensorflow y Keras\n",
    "import tensorflow as tf\n",
    "from keras.utils import to_categorical\n",
    "from tensorflow.keras.applications import VGG16, ResNet50, InceptionV3\n",
    "from tensorflow.keras.models import Model\n",
    "from tensorflow.keras.layers import Dense, GlobalAveragePooling2D, Flatten\n",
    "from tensorflow.keras.optimizers import Adam\n",
    "from keras.src.callbacks import EarlyStopping\n",
    "from tensorflow.keras.applications.vgg16 import preprocess_input"
   ],
   "metadata": {
    "ExecuteTime": {
     "end_time": "2025-02-26T16:33:54.986653Z",
     "start_time": "2025-02-26T16:33:54.976978Z"
    },
    "trusted": true,
    "execution": {
     "iopub.status.busy": "2025-02-27T11:52:49.713050Z",
     "iopub.execute_input": "2025-02-27T11:52:49.713395Z",
     "iopub.status.idle": "2025-02-27T11:52:49.718521Z",
     "shell.execute_reply.started": "2025-02-27T11:52:49.713368Z",
     "shell.execute_reply": "2025-02-27T11:52:49.717514Z"
    }
   },
   "outputs": [],
   "execution_count": 23
  },
  {
   "id": "initial_id",
   "cell_type": "code",
   "source": "(train_X, train_Y), (test_X, test_Y) = tf.keras.datasets.cifar10.load_data()",
   "metadata": {
    "ExecuteTime": {
     "end_time": "2025-02-26T16:33:57.406396Z",
     "start_time": "2025-02-26T16:33:55.003111Z"
    },
    "trusted": true,
    "execution": {
     "iopub.status.busy": "2025-02-27T11:52:49.732374Z",
     "iopub.execute_input": "2025-02-27T11:52:49.732572Z",
     "iopub.status.idle": "2025-02-27T11:52:50.557362Z",
     "shell.execute_reply.started": "2025-02-27T11:52:49.732554Z",
     "shell.execute_reply": "2025-02-27T11:52:50.556666Z"
    }
   },
   "outputs": [],
   "execution_count": 24
  },
  {
   "id": "c62f62412d692bab",
   "cell_type": "code",
   "source": "print('Training data shape : ', train_X.shape, train_Y.shape)\nprint('Testing data shape : ', test_X.shape, test_Y.shape)",
   "metadata": {
    "ExecuteTime": {
     "end_time": "2025-02-26T16:33:57.446204Z",
     "start_time": "2025-02-26T16:33:57.437609Z"
    },
    "trusted": true,
    "execution": {
     "iopub.status.busy": "2025-02-27T11:52:50.558434Z",
     "iopub.execute_input": "2025-02-27T11:52:50.558652Z",
     "iopub.status.idle": "2025-02-27T11:52:50.563700Z",
     "shell.execute_reply.started": "2025-02-27T11:52:50.558634Z",
     "shell.execute_reply": "2025-02-27T11:52:50.562919Z"
    }
   },
   "outputs": [
    {
     "name": "stdout",
     "text": "Training data shape :  (50000, 32, 32, 3) (50000, 1)\nTesting data shape :  (10000, 32, 32, 3) (10000, 1)\n",
     "output_type": "stream"
    }
   ],
   "execution_count": 25
  },
  {
   "id": "fc052c4ee114149",
   "cell_type": "code",
   "source": [
    "# Find the unique numbers from the train labels\n",
    "classes = np.unique(train_Y)\n",
    "nClasses = len(classes)\n",
    "print('Total number of outputs : ', nClasses)\n",
    "print('Output classes : ', classes)"
   ],
   "metadata": {
    "ExecuteTime": {
     "end_time": "2025-02-26T16:33:57.534767Z",
     "start_time": "2025-02-26T16:33:57.515691Z"
    },
    "trusted": true,
    "execution": {
     "iopub.status.busy": "2025-02-27T11:52:50.564995Z",
     "iopub.execute_input": "2025-02-27T11:52:50.565227Z",
     "iopub.status.idle": "2025-02-27T11:52:50.581441Z",
     "shell.execute_reply.started": "2025-02-27T11:52:50.565207Z",
     "shell.execute_reply": "2025-02-27T11:52:50.580619Z"
    }
   },
   "outputs": [
    {
     "name": "stdout",
     "text": "Total number of outputs :  10\nOutput classes :  [0 1 2 3 4 5 6 7 8 9]\n",
     "output_type": "stream"
    }
   ],
   "execution_count": 26
  },
  {
   "id": "ba3036a3c8c816ce",
   "cell_type": "code",
   "source": [
    "plt.figure(figsize=[5,5])\n",
    "\n",
    "# Display the first image in training data\n",
    "plt.subplot(121)\n",
    "plt.imshow(train_X[0,:,:], cmap='gray')\n",
    "plt.title(\"Ground Truth : {}\".format(train_Y[0]))\n",
    "\n",
    "# Display the first image in testing data\n",
    "plt.subplot(122)\n",
    "plt.imshow(test_X[0,:,:], cmap='gray')\n",
    "plt.title(\"Ground Truth : {}\".format(test_Y[0]))"
   ],
   "metadata": {
    "ExecuteTime": {
     "end_time": "2025-02-26T16:33:57.970568Z",
     "start_time": "2025-02-26T16:33:57.565116Z"
    },
    "trusted": true,
    "execution": {
     "iopub.status.busy": "2025-02-27T11:52:50.582559Z",
     "iopub.execute_input": "2025-02-27T11:52:50.582756Z",
     "iopub.status.idle": "2025-02-27T11:52:50.847186Z",
     "shell.execute_reply.started": "2025-02-27T11:52:50.582739Z",
     "shell.execute_reply": "2025-02-27T11:52:50.846497Z"
    }
   },
   "outputs": [
    {
     "execution_count": 27,
     "output_type": "execute_result",
     "data": {
      "text/plain": "Text(0.5, 1.0, 'Ground Truth : [3]')"
     },
     "metadata": {}
    },
    {
     "output_type": "display_data",
     "data": {
      "text/plain": "<Figure size 500x500 with 2 Axes>",
      "image/png": "[encoded data removed]"
     },
     "metadata": {}
    }
   ],
   "execution_count": 27
  },
  {
   "id": "8ecf3b098f83f971",
   "cell_type": "code",
   "source": [
    "# Convertir a float32 y normalizar con `preprocess_input` de VGG16\n",
    "train_X = preprocess_input(train_X.astype('float32'))\n",
    "test_X = preprocess_input(test_X.astype('float32'))"
   ],
   "metadata": {
    "ExecuteTime": {
     "end_time": "2025-02-26T16:33:58.630862Z",
     "start_time": "2025-02-26T16:33:58.008303Z"
    },
    "trusted": true,
    "execution": {
     "iopub.status.busy": "2025-02-27T11:52:50.847921Z",
     "iopub.execute_input": "2025-02-27T11:52:50.848166Z",
     "iopub.status.idle": "2025-02-27T11:52:51.248216Z",
     "shell.execute_reply.started": "2025-02-27T11:52:50.848146Z",
     "shell.execute_reply": "2025-02-27T11:52:51.247523Z"
    }
   },
   "outputs": [],
   "execution_count": 28
  },
  {
   "id": "7e9407b5132003f1",
   "cell_type": "code",
   "source": [
    "# Change the labels from categorical to one-hot encoding\n",
    "train_Y_one_hot = to_categorical(train_Y, num_classes=10)\n",
    "test_Y_one_hot = to_categorical(test_Y, num_classes=10)\n",
    "\n",
    "# Display the change for category label using one-hot encoding\n",
    "print('Original label:', train_Y[0])\n",
    "print('After conversion to one-hot:', train_Y_one_hot[0])"
   ],
   "metadata": {
    "ExecuteTime": {
     "end_time": "2025-02-26T16:33:58.672217Z",
     "start_time": "2025-02-26T16:33:58.659449Z"
    },
    "trusted": true,
    "execution": {
     "iopub.status.busy": "2025-02-27T11:52:51.248966Z",
     "iopub.execute_input": "2025-02-27T11:52:51.249272Z",
     "iopub.status.idle": "2025-02-27T11:52:51.257150Z",
     "shell.execute_reply.started": "2025-02-27T11:52:51.249242Z",
     "shell.execute_reply": "2025-02-27T11:52:51.256190Z"
    }
   },
   "outputs": [
    {
     "name": "stdout",
     "text": "Original label: [6]\nAfter conversion to one-hot: [0. 0. 0. 0. 0. 0. 1. 0. 0. 0.]\n",
     "output_type": "stream"
    }
   ],
   "execution_count": 29
  },
  {
   "id": "36ae1128cd479d19",
   "cell_type": "code",
   "source": [
    "X_train, X_temp, y_train, y_temp = train_test_split(train_X, train_Y, test_size=0.2, random_state=123)\n",
    "X_val, X_test, y_val, y_test = train_test_split(X_temp, y_temp, test_size=0.5, random_state=123)"
   ],
   "metadata": {
    "ExecuteTime": {
     "end_time": "2025-02-26T16:34:00.443946Z",
     "start_time": "2025-02-26T16:33:59.949779Z"
    },
    "trusted": true,
    "execution": {
     "iopub.status.busy": "2025-02-27T11:52:51.258245Z",
     "iopub.execute_input": "2025-02-27T11:52:51.258542Z",
     "iopub.status.idle": "2025-02-27T11:52:51.451802Z",
     "shell.execute_reply.started": "2025-02-27T11:52:51.258503Z",
     "shell.execute_reply": "2025-02-27T11:52:51.451155Z"
    }
   },
   "outputs": [],
   "execution_count": 30
  },
  {
   "id": "a0dfab9ffc557bd9",
   "cell_type": "code",
   "source": [
    "# 🔹 3. Parámetros\n",
    "IMG_SIZE = (32, 32, 3)  # CIFAR-10 tiene imágenes de 32x32\n",
    "BATCH_SIZE = 32\n",
    "EPOCHS = 20\n",
    "\n",
    "# 🔹 4. Construcción del Modelo con VGG16\n",
    "base_model = VGG16(weights='imagenet', include_top=False, input_shape=IMG_SIZE)\n",
    "\n",
    "# Congelar capas convolucionales\n",
    "for layer in base_model.layers:\n",
    "    layer.trainable = False\n",
    "\n",
    "# Agregar capas personalizadas\n",
    "x = Flatten()(base_model.output)\n",
    "x = Dense(256, activation='relu')(x)\n",
    "x = Dense(10, activation='softmax')(x)  # 10 clases para CIFAR-10\n",
    "\n",
    "# Crear modelo final\n",
    "model = Model(inputs=base_model.input, outputs=x)\n",
    "model.compile(optimizer=Adam(learning_rate=0.0001), loss='categorical_crossentropy', metrics=['accuracy'])"
   ],
   "metadata": {
    "ExecuteTime": {
     "end_time": "2025-02-26T16:34:00.475145Z",
     "start_time": "2025-02-26T16:34:00.458746Z"
    },
    "trusted": true,
    "execution": {
     "iopub.status.busy": "2025-02-27T11:52:51.454461Z",
     "iopub.execute_input": "2025-02-27T11:52:51.454674Z",
     "iopub.status.idle": "2025-02-27T11:52:51.459479Z",
     "shell.execute_reply.started": "2025-02-27T11:52:51.454655Z",
     "shell.execute_reply": "2025-02-27T11:52:51.458843Z"
    }
   },
   "outputs": [
    {
     "execution_count": 31,
     "output_type": "execute_result",
     "data": {
      "text/plain": "((40000, 32, 32, 3), (10000, 32, 32, 3), (40000, 10), (10000, 10))"
     },
     "metadata": {}
    }
   ],
   "execution_count": 31
  },
  {
   "metadata": {},
   "cell_type": "code",
   "outputs": [],
   "execution_count": null,
   "source": [
    "# 🔹 5. Entrenamiento del modelo\n",
    "history = model.fit(X_train, y_train, validation_data=(X_val, y_val), batch_size=BATCH_SIZE, epochs=EPOCHS, verbose=1)"
   ],
   "id": "ac041c2bb10d14dc"
  },
  {
   "metadata": {},
   "cell_type": "code",
   "outputs": [],
   "execution_count": null,
   "source": [
    "# 🔹 6. Evaluación en el conjunto de prueba\n",
    "test_loss, test_acc = model.evaluate(X_test, y_test, verbose=0)\n",
    "print(f\"\\n🔹 Precisión en test: {test_acc:.4f}\")\n",
    "\n"
   ],
   "id": "205aed3b9ef51fdd"
  },
  {
   "metadata": {},
   "cell_type": "code",
   "outputs": [],
   "execution_count": null,
   "source": [
    "# 🔹 7. Graficar pérdida y precisión durante el entrenamiento\n",
    "plt.figure(figsize=(12, 5))\n",
    "\n",
    "# Pérdida\n",
    "plt.subplot(1, 2, 1)\n",
    "plt.plot(history.history['loss'], label='Entrenamiento')\n",
    "plt.plot(history.history['val_loss'], label='Validación')\n",
    "plt.title('Evolución de la Pérdida')\n",
    "plt.xlabel('Épocas')\n",
    "plt.ylabel('Pérdida')\n",
    "plt.legend()\n",
    "\n",
    "# Precisión\n",
    "plt.subplot(1, 2, 2)\n",
    "plt.plot(history.history['accuracy'], label='Entrenamiento')\n",
    "plt.plot(history.history['val_accuracy'], label='Validación')\n",
    "plt.title('Evolución de la Precisión')\n",
    "plt.xlabel('Épocas')\n",
    "plt.ylabel('Precisión')\n",
    "plt.legend()\n",
    "\n",
    "plt.show()\n",
    "\n"
   ],
   "id": "b482ad2cd837a859"
  }
 ]
}

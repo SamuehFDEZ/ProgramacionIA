{
 "cells": [
  {
   "metadata": {},
   "cell_type": "markdown",
   "source": "# Estimación del precio de venta en vehículos de ocasión\n",
   "id": "1e0bc7525a4e17ae"
  },
  {
   "metadata": {},
   "cell_type": "markdown",
   "source": "### 1. Importación de librerias",
   "id": "d04ef4f295598acc"
  },
  {
   "cell_type": "code",
   "id": "initial_id",
   "metadata": {
    "collapsed": true,
    "ExecuteTime": {
     "end_time": "2025-02-04T19:28:54.116280Z",
     "start_time": "2025-02-04T19:28:40.553538Z"
    }
   },
   "source": [
    "import pandas as pd\n",
    "import numpy as np\n",
    "import seaborn as sns\n",
    "import matplotlib.pyplot as plt\n",
    "from sklearn.preprocessing import OneHotEncoder, StandardScaler\n",
    "from sklearn.model_selection import train_test_split\n",
    "from sklearn.metrics import confusion_matrix, classification_report\n",
    "import tensorflow as tf\n",
    "from tensorflow.keras.models import Sequential\n",
    "from tensorflow.keras.layers import Dense, Input, Dropout\n",
    "from keras.callbacks import EarlyStopping\n",
    "from keras_tuner import RandomSearch\n",
    "from imblearn.over_sampling import SMOTE"
   ],
   "outputs": [],
   "execution_count": 2
  },
  {
   "metadata": {},
   "cell_type": "markdown",
   "source": "### 2. Carga de CSV",
   "id": "7884b35d0783bbcc"
  },
  {
   "metadata": {
    "ExecuteTime": {
     "end_time": "2025-02-04T19:28:55.197602Z",
     "start_time": "2025-02-04T19:28:54.124296Z"
    }
   },
   "cell_type": "code",
   "source": [
    "df = pd.read_csv(\"true_car_listings/true_car_listings.csv\")\n",
    "df.head()"
   ],
   "id": "d30b357b92ff6995",
   "outputs": [
    {
     "data": {
      "text/plain": [
       "   Price  Year  Mileage              City State                Vin   Make  \\\n",
       "0   8995  2014    35725           El Paso    TX  19VDE2E53EE000083  Acura   \n",
       "1  10888  2013    19606  Long Island City    NY  19VDE1F52DE012636  Acura   \n",
       "2   8995  2013    48851           El Paso    TX  19VDE2E52DE000025  Acura   \n",
       "3  10999  2014    39922           Windsor    CO  19VDE1F71EE003817  Acura   \n",
       "4  14799  2016    22142            Lindon    UT  19UDE2F32GA001284  Acura   \n",
       "\n",
       "          Model  \n",
       "0    ILX6-Speed  \n",
       "1    ILX5-Speed  \n",
       "2    ILX6-Speed  \n",
       "3    ILX5-Speed  \n",
       "4  ILXAutomatic  "
      ],
      "text/html": [
       "<div>\n",
       "<style scoped>\n",
       "    .dataframe tbody tr th:only-of-type {\n",
       "        vertical-align: middle;\n",
       "    }\n",
       "\n",
       "    .dataframe tbody tr th {\n",
       "        vertical-align: top;\n",
       "    }\n",
       "\n",
       "    .dataframe thead th {\n",
       "        text-align: right;\n",
       "    }\n",
       "</style>\n",
       "<table border=\"1\" class=\"dataframe\">\n",
       "  <thead>\n",
       "    <tr style=\"text-align: right;\">\n",
       "      <th></th>\n",
       "      <th>Price</th>\n",
       "      <th>Year</th>\n",
       "      <th>Mileage</th>\n",
       "      <th>City</th>\n",
       "      <th>State</th>\n",
       "      <th>Vin</th>\n",
       "      <th>Make</th>\n",
       "      <th>Model</th>\n",
       "    </tr>\n",
       "  </thead>\n",
       "  <tbody>\n",
       "    <tr>\n",
       "      <th>0</th>\n",
       "      <td>8995</td>\n",
       "      <td>2014</td>\n",
       "      <td>35725</td>\n",
       "      <td>El Paso</td>\n",
       "      <td>TX</td>\n",
       "      <td>19VDE2E53EE000083</td>\n",
       "      <td>Acura</td>\n",
       "      <td>ILX6-Speed</td>\n",
       "    </tr>\n",
       "    <tr>\n",
       "      <th>1</th>\n",
       "      <td>10888</td>\n",
       "      <td>2013</td>\n",
       "      <td>19606</td>\n",
       "      <td>Long Island City</td>\n",
       "      <td>NY</td>\n",
       "      <td>19VDE1F52DE012636</td>\n",
       "      <td>Acura</td>\n",
       "      <td>ILX5-Speed</td>\n",
       "    </tr>\n",
       "    <tr>\n",
       "      <th>2</th>\n",
       "      <td>8995</td>\n",
       "      <td>2013</td>\n",
       "      <td>48851</td>\n",
       "      <td>El Paso</td>\n",
       "      <td>TX</td>\n",
       "      <td>19VDE2E52DE000025</td>\n",
       "      <td>Acura</td>\n",
       "      <td>ILX6-Speed</td>\n",
       "    </tr>\n",
       "    <tr>\n",
       "      <th>3</th>\n",
       "      <td>10999</td>\n",
       "      <td>2014</td>\n",
       "      <td>39922</td>\n",
       "      <td>Windsor</td>\n",
       "      <td>CO</td>\n",
       "      <td>19VDE1F71EE003817</td>\n",
       "      <td>Acura</td>\n",
       "      <td>ILX5-Speed</td>\n",
       "    </tr>\n",
       "    <tr>\n",
       "      <th>4</th>\n",
       "      <td>14799</td>\n",
       "      <td>2016</td>\n",
       "      <td>22142</td>\n",
       "      <td>Lindon</td>\n",
       "      <td>UT</td>\n",
       "      <td>19UDE2F32GA001284</td>\n",
       "      <td>Acura</td>\n",
       "      <td>ILXAutomatic</td>\n",
       "    </tr>\n",
       "  </tbody>\n",
       "</table>\n",
       "</div>"
      ]
     },
     "execution_count": 3,
     "metadata": {},
     "output_type": "execute_result"
    }
   ],
   "execution_count": 3
  },
  {
   "metadata": {},
   "cell_type": "markdown",
   "source": "### 3. Detección de anomalías",
   "id": "5f1c5b339cc64de4"
  },
  {
   "metadata": {
    "ExecuteTime": {
     "end_time": "2025-02-04T19:29:51.882579Z",
     "start_time": "2025-02-04T19:29:51.608134Z"
    }
   },
   "cell_type": "code",
   "source": "df.info()",
   "id": "48b47fb969c5c0f2",
   "outputs": [
    {
     "name": "stdout",
     "output_type": "stream",
     "text": [
      "<class 'pandas.core.frame.DataFrame'>\n",
      "RangeIndex: 852122 entries, 0 to 852121\n",
      "Data columns (total 8 columns):\n",
      " #   Column   Non-Null Count   Dtype \n",
      "---  ------   --------------   ----- \n",
      " 0   Price    852122 non-null  int64 \n",
      " 1   Year     852122 non-null  int64 \n",
      " 2   Mileage  852122 non-null  int64 \n",
      " 3   City     852122 non-null  object\n",
      " 4   State    852122 non-null  object\n",
      " 5   Vin      852122 non-null  object\n",
      " 6   Make     852122 non-null  object\n",
      " 7   Model    852122 non-null  object\n",
      "dtypes: int64(3), object(5)\n",
      "memory usage: 52.0+ MB\n"
     ]
    }
   ],
   "execution_count": 4
  },
  {
   "metadata": {
    "ExecuteTime": {
     "end_time": "2025-02-04T19:30:30.706726Z",
     "start_time": "2025-02-04T19:30:30.552268Z"
    }
   },
   "cell_type": "code",
   "source": "df.describe()",
   "id": "d2facfa08292566c",
   "outputs": [
    {
     "data": {
      "text/plain": [
       "               Price           Year       Mileage\n",
       "count  852122.000000  852122.000000  8.521220e+05\n",
       "mean    21464.100210    2013.289145  5.250779e+04\n",
       "std     13596.202241       3.414987  4.198896e+04\n",
       "min      1500.000000    1997.000000  5.000000e+00\n",
       "25%     13000.000000    2012.000000  2.383600e+04\n",
       "50%     18500.000000    2014.000000  4.025600e+04\n",
       "75%     26995.000000    2016.000000  7.218600e+04\n",
       "max    499500.000000    2018.000000  2.856196e+06"
      ],
      "text/html": [
       "<div>\n",
       "<style scoped>\n",
       "    .dataframe tbody tr th:only-of-type {\n",
       "        vertical-align: middle;\n",
       "    }\n",
       "\n",
       "    .dataframe tbody tr th {\n",
       "        vertical-align: top;\n",
       "    }\n",
       "\n",
       "    .dataframe thead th {\n",
       "        text-align: right;\n",
       "    }\n",
       "</style>\n",
       "<table border=\"1\" class=\"dataframe\">\n",
       "  <thead>\n",
       "    <tr style=\"text-align: right;\">\n",
       "      <th></th>\n",
       "      <th>Price</th>\n",
       "      <th>Year</th>\n",
       "      <th>Mileage</th>\n",
       "    </tr>\n",
       "  </thead>\n",
       "  <tbody>\n",
       "    <tr>\n",
       "      <th>count</th>\n",
       "      <td>852122.000000</td>\n",
       "      <td>852122.000000</td>\n",
       "      <td>8.521220e+05</td>\n",
       "    </tr>\n",
       "    <tr>\n",
       "      <th>mean</th>\n",
       "      <td>21464.100210</td>\n",
       "      <td>2013.289145</td>\n",
       "      <td>5.250779e+04</td>\n",
       "    </tr>\n",
       "    <tr>\n",
       "      <th>std</th>\n",
       "      <td>13596.202241</td>\n",
       "      <td>3.414987</td>\n",
       "      <td>4.198896e+04</td>\n",
       "    </tr>\n",
       "    <tr>\n",
       "      <th>min</th>\n",
       "      <td>1500.000000</td>\n",
       "      <td>1997.000000</td>\n",
       "      <td>5.000000e+00</td>\n",
       "    </tr>\n",
       "    <tr>\n",
       "      <th>25%</th>\n",
       "      <td>13000.000000</td>\n",
       "      <td>2012.000000</td>\n",
       "      <td>2.383600e+04</td>\n",
       "    </tr>\n",
       "    <tr>\n",
       "      <th>50%</th>\n",
       "      <td>18500.000000</td>\n",
       "      <td>2014.000000</td>\n",
       "      <td>4.025600e+04</td>\n",
       "    </tr>\n",
       "    <tr>\n",
       "      <th>75%</th>\n",
       "      <td>26995.000000</td>\n",
       "      <td>2016.000000</td>\n",
       "      <td>7.218600e+04</td>\n",
       "    </tr>\n",
       "    <tr>\n",
       "      <th>max</th>\n",
       "      <td>499500.000000</td>\n",
       "      <td>2018.000000</td>\n",
       "      <td>2.856196e+06</td>\n",
       "    </tr>\n",
       "  </tbody>\n",
       "</table>\n",
       "</div>"
      ]
     },
     "execution_count": 5,
     "metadata": {},
     "output_type": "execute_result"
    }
   ],
   "execution_count": 5
  },
  {
   "metadata": {
    "ExecuteTime": {
     "end_time": "2025-02-04T19:31:07.407933Z",
     "start_time": "2025-02-04T19:31:07.212597Z"
    }
   },
   "cell_type": "code",
   "source": "df.isnull().sum()",
   "id": "68247c75192fab6",
   "outputs": [
    {
     "data": {
      "text/plain": [
       "Price      0\n",
       "Year       0\n",
       "Mileage    0\n",
       "City       0\n",
       "State      0\n",
       "Vin        0\n",
       "Make       0\n",
       "Model      0\n",
       "dtype: int64"
      ]
     },
     "execution_count": 6,
     "metadata": {},
     "output_type": "execute_result"
    }
   ],
   "execution_count": 6
  },
  {
   "metadata": {
    "ExecuteTime": {
     "end_time": "2025-02-04T19:31:19.388514Z",
     "start_time": "2025-02-04T19:31:18.483050Z"
    }
   },
   "cell_type": "code",
   "source": "df.duplicated()",
   "id": "add4eea8d7e2b908",
   "outputs": [
    {
     "data": {
      "text/plain": [
       "0         False\n",
       "1         False\n",
       "2         False\n",
       "3         False\n",
       "4         False\n",
       "          ...  \n",
       "852117    False\n",
       "852118    False\n",
       "852119    False\n",
       "852120    False\n",
       "852121    False\n",
       "Length: 852122, dtype: bool"
      ]
     },
     "execution_count": 7,
     "metadata": {},
     "output_type": "execute_result"
    }
   ],
   "execution_count": 7
  },
  {
   "metadata": {
    "ExecuteTime": {
     "end_time": "2025-02-04T19:31:43.388486Z",
     "start_time": "2025-02-04T19:31:43.379225Z"
    }
   },
   "cell_type": "code",
   "source": "df.columns",
   "id": "95b9e42f79597553",
   "outputs": [
    {
     "data": {
      "text/plain": [
       "Index(['Price', 'Year', 'Mileage', 'City', 'State', 'Vin', 'Make', 'Model'], dtype='object')"
      ]
     },
     "execution_count": 8,
     "metadata": {},
     "output_type": "execute_result"
    }
   ],
   "execution_count": 8
  },
  {
   "metadata": {
    "ExecuteTime": {
     "end_time": "2025-02-04T19:39:27.882345Z",
     "start_time": "2025-02-04T19:39:27.832490Z"
    }
   },
   "cell_type": "code",
   "source": "df['Price'].value_counts()",
   "id": "4222c9b7d5d5d0ac",
   "outputs": [
    {
     "data": {
      "text/plain": [
       "Price\n",
       "14995    4898\n",
       "12995    4600\n",
       "13995    4591\n",
       "9995     4298\n",
       "15995    4282\n",
       "         ... \n",
       "49190       1\n",
       "48457       1\n",
       "51333       1\n",
       "48001       1\n",
       "48681       1\n",
       "Name: count, Length: 47124, dtype: int64"
      ]
     },
     "execution_count": 13,
     "metadata": {},
     "output_type": "execute_result"
    }
   ],
   "execution_count": 13
  },
  {
   "metadata": {
    "ExecuteTime": {
     "end_time": "2025-02-04T19:39:39.246877Z",
     "start_time": "2025-02-04T19:39:39.223498Z"
    }
   },
   "cell_type": "code",
   "source": "df['Year'].value_counts()",
   "id": "2f1e2189b7e3ce6e",
   "outputs": [
    {
     "data": {
      "text/plain": [
       "Year\n",
       "2014    162432\n",
       "2015    157516\n",
       "2016    132136\n",
       "2017     91608\n",
       "2013     74701\n",
       "2012     49764\n",
       "2011     39768\n",
       "2010     27539\n",
       "2008     24713\n",
       "2007     21171\n",
       "2009     19061\n",
       "2006     15079\n",
       "2005     11005\n",
       "2004      8117\n",
       "2003      5649\n",
       "2002      3800\n",
       "2001      2584\n",
       "2000      1933\n",
       "1999      1254\n",
       "2018       922\n",
       "1998       774\n",
       "1997       596\n",
       "Name: count, dtype: int64"
      ]
     },
     "execution_count": 14,
     "metadata": {},
     "output_type": "execute_result"
    }
   ],
   "execution_count": 14
  },
  {
   "metadata": {
    "ExecuteTime": {
     "end_time": "2025-02-04T19:39:53.302348Z",
     "start_time": "2025-02-04T19:39:53.194961Z"
    }
   },
   "cell_type": "code",
   "source": "df['Mileage'].value_counts()",
   "id": "80429d604361eedb",
   "outputs": [
    {
     "data": {
      "text/plain": [
       "Mileage\n",
       "10        635\n",
       "5         350\n",
       "11        232\n",
       "12        213\n",
       "15        183\n",
       "         ... \n",
       "121243      1\n",
       "169856      1\n",
       "114893      1\n",
       "136902      1\n",
       "57596       1\n",
       "Name: count, Length: 158836, dtype: int64"
      ]
     },
     "execution_count": 15,
     "metadata": {},
     "output_type": "execute_result"
    }
   ],
   "execution_count": 15
  },
  {
   "metadata": {
    "ExecuteTime": {
     "end_time": "2025-02-04T19:40:01.912256Z",
     "start_time": "2025-02-04T19:40:01.505642Z"
    }
   },
   "cell_type": "code",
   "source": "df['City'].value_counts()",
   "id": "8931edc7dbb09ae2",
   "outputs": [
    {
     "data": {
      "text/plain": [
       "City\n",
       "Houston         12703\n",
       "San Antonio      8078\n",
       "Louisville       5872\n",
       "Jacksonville     5675\n",
       "Austin           5297\n",
       "                ...  \n",
       "Los Banos           4\n",
       "Pen Argyl           4\n",
       "Armona              4\n",
       "Port Jervis         4\n",
       "Royston             2\n",
       "Name: count, Length: 2553, dtype: int64"
      ]
     },
     "execution_count": 16,
     "metadata": {},
     "output_type": "execute_result"
    }
   ],
   "execution_count": 16
  },
  {
   "metadata": {
    "ExecuteTime": {
     "end_time": "2025-02-04T19:40:10.841413Z",
     "start_time": "2025-02-04T19:40:10.714124Z"
    }
   },
   "cell_type": "code",
   "source": "df['State'].value_counts()",
   "id": "fa89fd6db582053e",
   "outputs": [
    {
     "data": {
      "text/plain": [
       "State\n",
       "TX    94654\n",
       "CA    80437\n",
       "FL    72530\n",
       "GA    39414\n",
       "IL    38680\n",
       "NC    37530\n",
       "VA    35011\n",
       "PA    28130\n",
       "NY    27932\n",
       "NJ    27852\n",
       "OH    23259\n",
       "WA    23149\n",
       "CO    23004\n",
       "AZ    22401\n",
       "TN    19166\n",
       "MA    17990\n",
       "MD    17572\n",
       "IN    16465\n",
       "MO    16165\n",
       "KY    13691\n",
       "AL    13293\n",
       "WI    11255\n",
       "MN    10996\n",
       "CT    10906\n",
       "UT    10418\n",
       "OR    10352\n",
       "MI    10328\n",
       "SC     9790\n",
       "OK     9584\n",
       "LA     8528\n",
       "KS     7894\n",
       "AR     6952\n",
       "NV     6887\n",
       "MS     6242\n",
       "NH     5694\n",
       "NE     4924\n",
       "IA     4840\n",
       "NM     4729\n",
       "ID     3501\n",
       "HI     2995\n",
       "DE     2418\n",
       "MT     1984\n",
       "ME     1920\n",
       "RI     1858\n",
       "AK     1663\n",
       "WV     1501\n",
       "SD     1267\n",
       "VT     1123\n",
       "ND     1092\n",
       "Fl      783\n",
       "WY      610\n",
       "Va      248\n",
       "Md      135\n",
       "Ga      109\n",
       "ga      100\n",
       "Az       63\n",
       "Oh       52\n",
       "Ca       31\n",
       "DC       25\n",
       "Name: count, dtype: int64"
      ]
     },
     "execution_count": 17,
     "metadata": {},
     "output_type": "execute_result"
    }
   ],
   "execution_count": 17
  },
  {
   "metadata": {
    "ExecuteTime": {
     "end_time": "2025-02-04T19:40:20.707622Z",
     "start_time": "2025-02-04T19:40:19.413536Z"
    }
   },
   "cell_type": "code",
   "source": "df['Vin'].value_counts()",
   "id": "d6d46842b3509a42",
   "outputs": [
    {
     "data": {
      "text/plain": [
       "Vin\n",
       "1FADP3F24DL182433    2\n",
       "2G1FB1E32F9136442    2\n",
       "3FA6P0G72DR373223    2\n",
       "3FADP4EJ5DM144447    2\n",
       "1G11Y5SLXEU108457    2\n",
       "                    ..\n",
       "YV1A22MKXH1010413    1\n",
       "YV1A22MK2H1013239    1\n",
       "YV1A22MK0H1015281    1\n",
       "YV1A22ML5H1004169    1\n",
       "JH4CU2F69AC027155    1\n",
       "Name: count, Length: 852075, dtype: int64"
      ]
     },
     "execution_count": 18,
     "metadata": {},
     "output_type": "execute_result"
    }
   ],
   "execution_count": 18
  },
  {
   "metadata": {
    "ExecuteTime": {
     "end_time": "2025-02-04T19:40:34.375070Z",
     "start_time": "2025-02-04T19:40:34.290583Z"
    }
   },
   "cell_type": "code",
   "source": "df['Make'].value_counts()",
   "id": "16f1ec22a0caeb1c",
   "outputs": [
    {
     "data": {
      "text/plain": [
       "Make\n",
       "Ford             110432\n",
       "Chevrolet        102268\n",
       "Toyota            77786\n",
       "Nissan            66250\n",
       "Honda             50193\n",
       "Jeep              40373\n",
       "Hyundai           35837\n",
       "Dodge             34368\n",
       "BMW               32415\n",
       "GMC               29008\n",
       "Kia               28636\n",
       "Mercedes-Benz     26323\n",
       "Volkswagen        23249\n",
       "Lexus             20641\n",
       "Ram               19808\n",
       "Subaru            16428\n",
       "Chrysler          16357\n",
       "Cadillac          15047\n",
       "Mazda             13365\n",
       "Audi              12618\n",
       "Buick             12491\n",
       "INFINITI          12258\n",
       "Acura             11049\n",
       "Lincoln            7120\n",
       "Volvo              5106\n",
       "MINI               4375\n",
       "Porsche            4106\n",
       "Land               4096\n",
       "Mitsubishi         4080\n",
       "Scion              3043\n",
       "Jaguar             2200\n",
       "Pontiac            1783\n",
       "FIAT               1782\n",
       "Mercury            1076\n",
       "Maserati           1047\n",
       "Saturn              963\n",
       "HUMMER              949\n",
       "smart               713\n",
       "Bentley             367\n",
       "Ferrari             345\n",
       "Suzuki              334\n",
       "Saab                260\n",
       "Tesla               231\n",
       "Aston               149\n",
       "Genesis             141\n",
       "Oldsmobile          122\n",
       "Lamborghini         121\n",
       "Rolls-Royce          92\n",
       "Isuzu                76\n",
       "Plymouth             51\n",
       "McLaren              47\n",
       "Alfa                 44\n",
       "Lotus                42\n",
       "AM                   19\n",
       "Fisker               19\n",
       "Freightliner         11\n",
       "Maybach              10\n",
       "Geo                   2\n",
       "Name: count, dtype: int64"
      ]
     },
     "execution_count": 19,
     "metadata": {},
     "output_type": "execute_result"
    }
   ],
   "execution_count": 19
  },
  {
   "metadata": {
    "ExecuteTime": {
     "end_time": "2025-02-04T19:40:38.742969Z",
     "start_time": "2025-02-04T19:40:38.645018Z"
    }
   },
   "cell_type": "code",
   "source": "df['Model'].value_counts()",
   "id": "749c90766c2eefb3",
   "outputs": [
    {
     "data": {
      "text/plain": [
       "Model\n",
       "Silverado         24932\n",
       "Grand             17321\n",
       "Accord            14502\n",
       "F-1504WD          14177\n",
       "Altima2.5         11288\n",
       "                  ...  \n",
       "300Anniversary        1\n",
       "XC90Premier           1\n",
       "Skylark4dr            1\n",
       "Mazda3iSport          1\n",
       "624dr                 1\n",
       "Name: count, Length: 2736, dtype: int64"
      ]
     },
     "execution_count": 20,
     "metadata": {},
     "output_type": "execute_result"
    }
   ],
   "execution_count": 20
  },
  {
   "metadata": {},
   "cell_type": "markdown",
   "source": "### 4. Visualización de datos",
   "id": "ddc171d9ddff01b"
  },
  {
   "metadata": {
    "ExecuteTime": {
     "end_time": "2025-02-04T19:34:26.051122Z",
     "start_time": "2025-02-04T19:34:24.442795Z"
    }
   },
   "cell_type": "code",
   "source": [
    "categorias = ['Price', 'Year', 'Mileage']\n",
    "fig, axes = plt.subplots(nrows=2, ncols=4, figsize=(20, 15))\n",
    "axes = axes.flatten()\n",
    "for i, var in enumerate(categorias):\n",
    " axes[i].boxplot(df[var])\n",
    " axes[i].set_title(f'Distribución de {var}')\n",
    " axes[i].set_ylabel('Valores')\n",
    "for j in range(len(categorias), len(axes)):\n",
    " axes[j].axis('off')\n",
    "plt.tight_layout()\n",
    "plt.show()"
   ],
   "id": "d24a145620aeafc2",
   "outputs": [
    {
     "data": {
      "text/plain": [
       "<Figure size 2000x1500 with 8 Axes>"
      ],
      "image/png": "[encoded data removed]"
     },
     "metadata": {},
     "output_type": "display_data"
    }
   ],
   "execution_count": 9
  }
 ],
 "metadata": {
  "kernelspec": {
   "display_name": "Python 3",
   "language": "python",
   "name": "python3"
  },
  "language_info": {
   "codemirror_mode": {
    "name": "ipython",
    "version": 2
   },
   "file_extension": ".py",
   "mimetype": "text/x-python",
   "name": "python",
   "nbconvert_exporter": "python",
   "pygments_lexer": "ipython2",
   "version": "2.7.6"
  }
 },
 "nbformat": 4,
 "nbformat_minor": 5
}

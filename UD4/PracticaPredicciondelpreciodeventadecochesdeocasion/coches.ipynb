{
 "cells": [
  {
   "metadata": {},
   "cell_type": "markdown",
   "source": "# Estimación del precio de venta en vehículos de ocasión\n",
   "id": "1e0bc7525a4e17ae"
  },
  {
   "metadata": {},
   "cell_type": "markdown",
   "source": "### 1. Importación de librerias",
   "id": "d04ef4f295598acc"
  },
  {
   "cell_type": "code",
   "id": "initial_id",
   "metadata": {
    "collapsed": true,
    "ExecuteTime": {
     "end_time": "2025-02-05T18:59:47.239954Z",
     "start_time": "2025-02-05T18:59:37.160508Z"
    }
   },
   "source": [
    "import pandas as pd\n",
    "import matplotlib.pyplot as plt\n",
    "from sklearn.preprocessing import LabelEncoder\n",
    "from sklearn.model_selection import train_test_split\n",
    "import tensorflow as tf\n",
    "from tensorflow.keras.models import Sequential\n",
    "from tensorflow.keras.layers import Dense, Input, Dropout\n",
    "from keras.callbacks import EarlyStopping\n",
    "from keras_tuner import RandomSearch\n",
    "from imblearn.over_sampling import SMOTE\n",
    "import optuna"
   ],
   "outputs": [
    {
     "name": "stderr",
     "output_type": "stream",
     "text": [
      "C:\\Users\\ESP\\AppData\\Local\\Programs\\Python\\Python312\\Lib\\site-packages\\tqdm\\auto.py:21: TqdmWarning: IProgress not found. Please update jupyter and ipywidgets. See https://ipywidgets.readthedocs.io/en/stable/user_install.html\n",
      "  from .autonotebook import tqdm as notebook_tqdm\n"
     ]
    }
   ],
   "execution_count": 1
  },
  {
   "metadata": {},
   "cell_type": "markdown",
   "source": "### 2. Carga de CSV",
   "id": "7884b35d0783bbcc"
  },
  {
   "metadata": {
    "ExecuteTime": {
     "end_time": "2025-02-05T18:59:48.858190Z",
     "start_time": "2025-02-05T18:59:47.317967Z"
    }
   },
   "cell_type": "code",
   "source": [
    "df = pd.read_csv(\"true_car_listings/true_car_listings.csv\")\n",
    "df.head()"
   ],
   "id": "d30b357b92ff6995",
   "outputs": [
    {
     "data": {
      "text/plain": [
       "   Price  Year  Mileage              City State                Vin   Make  \\\n",
       "0   8995  2014    35725           El Paso    TX  19VDE2E53EE000083  Acura   \n",
       "1  10888  2013    19606  Long Island City    NY  19VDE1F52DE012636  Acura   \n",
       "2   8995  2013    48851           El Paso    TX  19VDE2E52DE000025  Acura   \n",
       "3  10999  2014    39922           Windsor    CO  19VDE1F71EE003817  Acura   \n",
       "4  14799  2016    22142            Lindon    UT  19UDE2F32GA001284  Acura   \n",
       "\n",
       "          Model  \n",
       "0    ILX6-Speed  \n",
       "1    ILX5-Speed  \n",
       "2    ILX6-Speed  \n",
       "3    ILX5-Speed  \n",
       "4  ILXAutomatic  "
      ],
      "text/html": [
       "<div>\n",
       "<style scoped>\n",
       "    .dataframe tbody tr th:only-of-type {\n",
       "        vertical-align: middle;\n",
       "    }\n",
       "\n",
       "    .dataframe tbody tr th {\n",
       "        vertical-align: top;\n",
       "    }\n",
       "\n",
       "    .dataframe thead th {\n",
       "        text-align: right;\n",
       "    }\n",
       "</style>\n",
       "<table border=\"1\" class=\"dataframe\">\n",
       "  <thead>\n",
       "    <tr style=\"text-align: right;\">\n",
       "      <th></th>\n",
       "      <th>Price</th>\n",
       "      <th>Year</th>\n",
       "      <th>Mileage</th>\n",
       "      <th>City</th>\n",
       "      <th>State</th>\n",
       "      <th>Vin</th>\n",
       "      <th>Make</th>\n",
       "      <th>Model</th>\n",
       "    </tr>\n",
       "  </thead>\n",
       "  <tbody>\n",
       "    <tr>\n",
       "      <th>0</th>\n",
       "      <td>8995</td>\n",
       "      <td>2014</td>\n",
       "      <td>35725</td>\n",
       "      <td>El Paso</td>\n",
       "      <td>TX</td>\n",
       "      <td>19VDE2E53EE000083</td>\n",
       "      <td>Acura</td>\n",
       "      <td>ILX6-Speed</td>\n",
       "    </tr>\n",
       "    <tr>\n",
       "      <th>1</th>\n",
       "      <td>10888</td>\n",
       "      <td>2013</td>\n",
       "      <td>19606</td>\n",
       "      <td>Long Island City</td>\n",
       "      <td>NY</td>\n",
       "      <td>19VDE1F52DE012636</td>\n",
       "      <td>Acura</td>\n",
       "      <td>ILX5-Speed</td>\n",
       "    </tr>\n",
       "    <tr>\n",
       "      <th>2</th>\n",
       "      <td>8995</td>\n",
       "      <td>2013</td>\n",
       "      <td>48851</td>\n",
       "      <td>El Paso</td>\n",
       "      <td>TX</td>\n",
       "      <td>19VDE2E52DE000025</td>\n",
       "      <td>Acura</td>\n",
       "      <td>ILX6-Speed</td>\n",
       "    </tr>\n",
       "    <tr>\n",
       "      <th>3</th>\n",
       "      <td>10999</td>\n",
       "      <td>2014</td>\n",
       "      <td>39922</td>\n",
       "      <td>Windsor</td>\n",
       "      <td>CO</td>\n",
       "      <td>19VDE1F71EE003817</td>\n",
       "      <td>Acura</td>\n",
       "      <td>ILX5-Speed</td>\n",
       "    </tr>\n",
       "    <tr>\n",
       "      <th>4</th>\n",
       "      <td>14799</td>\n",
       "      <td>2016</td>\n",
       "      <td>22142</td>\n",
       "      <td>Lindon</td>\n",
       "      <td>UT</td>\n",
       "      <td>19UDE2F32GA001284</td>\n",
       "      <td>Acura</td>\n",
       "      <td>ILXAutomatic</td>\n",
       "    </tr>\n",
       "  </tbody>\n",
       "</table>\n",
       "</div>"
      ]
     },
     "execution_count": 2,
     "metadata": {},
     "output_type": "execute_result"
    }
   ],
   "execution_count": 2
  },
  {
   "metadata": {},
   "cell_type": "markdown",
   "source": "### 3. Detección de anomalías",
   "id": "5f1c5b339cc64de4"
  },
  {
   "metadata": {
    "ExecuteTime": {
     "end_time": "2025-02-05T18:59:49.588544Z",
     "start_time": "2025-02-05T18:59:49.317714Z"
    }
   },
   "cell_type": "code",
   "source": "df.info()",
   "id": "48b47fb969c5c0f2",
   "outputs": [
    {
     "name": "stdout",
     "output_type": "stream",
     "text": [
      "<class 'pandas.core.frame.DataFrame'>\n",
      "RangeIndex: 852122 entries, 0 to 852121\n",
      "Data columns (total 8 columns):\n",
      " #   Column   Non-Null Count   Dtype \n",
      "---  ------   --------------   ----- \n",
      " 0   Price    852122 non-null  int64 \n",
      " 1   Year     852122 non-null  int64 \n",
      " 2   Mileage  852122 non-null  int64 \n",
      " 3   City     852122 non-null  object\n",
      " 4   State    852122 non-null  object\n",
      " 5   Vin      852122 non-null  object\n",
      " 6   Make     852122 non-null  object\n",
      " 7   Model    852122 non-null  object\n",
      "dtypes: int64(3), object(5)\n",
      "memory usage: 52.0+ MB\n"
     ]
    }
   ],
   "execution_count": 3
  },
  {
   "metadata": {
    "ExecuteTime": {
     "end_time": "2025-02-05T18:59:49.934625Z",
     "start_time": "2025-02-05T18:59:49.677515Z"
    }
   },
   "cell_type": "code",
   "source": "df.describe()",
   "id": "d2facfa08292566c",
   "outputs": [
    {
     "data": {
      "text/plain": [
       "               Price           Year       Mileage\n",
       "count  852122.000000  852122.000000  8.521220e+05\n",
       "mean    21464.100210    2013.289145  5.250779e+04\n",
       "std     13596.202241       3.414987  4.198896e+04\n",
       "min      1500.000000    1997.000000  5.000000e+00\n",
       "25%     13000.000000    2012.000000  2.383600e+04\n",
       "50%     18500.000000    2014.000000  4.025600e+04\n",
       "75%     26995.000000    2016.000000  7.218600e+04\n",
       "max    499500.000000    2018.000000  2.856196e+06"
      ],
      "text/html": [
       "<div>\n",
       "<style scoped>\n",
       "    .dataframe tbody tr th:only-of-type {\n",
       "        vertical-align: middle;\n",
       "    }\n",
       "\n",
       "    .dataframe tbody tr th {\n",
       "        vertical-align: top;\n",
       "    }\n",
       "\n",
       "    .dataframe thead th {\n",
       "        text-align: right;\n",
       "    }\n",
       "</style>\n",
       "<table border=\"1\" class=\"dataframe\">\n",
       "  <thead>\n",
       "    <tr style=\"text-align: right;\">\n",
       "      <th></th>\n",
       "      <th>Price</th>\n",
       "      <th>Year</th>\n",
       "      <th>Mileage</th>\n",
       "    </tr>\n",
       "  </thead>\n",
       "  <tbody>\n",
       "    <tr>\n",
       "      <th>count</th>\n",
       "      <td>852122.000000</td>\n",
       "      <td>852122.000000</td>\n",
       "      <td>8.521220e+05</td>\n",
       "    </tr>\n",
       "    <tr>\n",
       "      <th>mean</th>\n",
       "      <td>21464.100210</td>\n",
       "      <td>2013.289145</td>\n",
       "      <td>5.250779e+04</td>\n",
       "    </tr>\n",
       "    <tr>\n",
       "      <th>std</th>\n",
       "      <td>13596.202241</td>\n",
       "      <td>3.414987</td>\n",
       "      <td>4.198896e+04</td>\n",
       "    </tr>\n",
       "    <tr>\n",
       "      <th>min</th>\n",
       "      <td>1500.000000</td>\n",
       "      <td>1997.000000</td>\n",
       "      <td>5.000000e+00</td>\n",
       "    </tr>\n",
       "    <tr>\n",
       "      <th>25%</th>\n",
       "      <td>13000.000000</td>\n",
       "      <td>2012.000000</td>\n",
       "      <td>2.383600e+04</td>\n",
       "    </tr>\n",
       "    <tr>\n",
       "      <th>50%</th>\n",
       "      <td>18500.000000</td>\n",
       "      <td>2014.000000</td>\n",
       "      <td>4.025600e+04</td>\n",
       "    </tr>\n",
       "    <tr>\n",
       "      <th>75%</th>\n",
       "      <td>26995.000000</td>\n",
       "      <td>2016.000000</td>\n",
       "      <td>7.218600e+04</td>\n",
       "    </tr>\n",
       "    <tr>\n",
       "      <th>max</th>\n",
       "      <td>499500.000000</td>\n",
       "      <td>2018.000000</td>\n",
       "      <td>2.856196e+06</td>\n",
       "    </tr>\n",
       "  </tbody>\n",
       "</table>\n",
       "</div>"
      ]
     },
     "execution_count": 4,
     "metadata": {},
     "output_type": "execute_result"
    }
   ],
   "execution_count": 4
  },
  {
   "metadata": {
    "ExecuteTime": {
     "end_time": "2025-02-05T18:59:50.690361Z",
     "start_time": "2025-02-05T18:59:50.080375Z"
    }
   },
   "cell_type": "code",
   "source": "df.isnull().sum()",
   "id": "68247c75192fab6",
   "outputs": [
    {
     "data": {
      "text/plain": [
       "Price      0\n",
       "Year       0\n",
       "Mileage    0\n",
       "City       0\n",
       "State      0\n",
       "Vin        0\n",
       "Make       0\n",
       "Model      0\n",
       "dtype: int64"
      ]
     },
     "execution_count": 5,
     "metadata": {},
     "output_type": "execute_result"
    }
   ],
   "execution_count": 5
  },
  {
   "metadata": {
    "ExecuteTime": {
     "end_time": "2025-02-05T18:59:53.614759Z",
     "start_time": "2025-02-05T18:59:51.588301Z"
    }
   },
   "cell_type": "code",
   "source": "df.duplicated()",
   "id": "add4eea8d7e2b908",
   "outputs": [
    {
     "data": {
      "text/plain": [
       "0         False\n",
       "1         False\n",
       "2         False\n",
       "3         False\n",
       "4         False\n",
       "          ...  \n",
       "852117    False\n",
       "852118    False\n",
       "852119    False\n",
       "852120    False\n",
       "852121    False\n",
       "Length: 852122, dtype: bool"
      ]
     },
     "execution_count": 6,
     "metadata": {},
     "output_type": "execute_result"
    }
   ],
   "execution_count": 6
  },
  {
   "metadata": {
    "ExecuteTime": {
     "end_time": "2025-02-05T18:59:53.754587Z",
     "start_time": "2025-02-05T18:59:53.740843Z"
    }
   },
   "cell_type": "code",
   "source": "df.columns",
   "id": "95b9e42f79597553",
   "outputs": [
    {
     "data": {
      "text/plain": [
       "Index(['Price', 'Year', 'Mileage', 'City', 'State', 'Vin', 'Make', 'Model'], dtype='object')"
      ]
     },
     "execution_count": 7,
     "metadata": {},
     "output_type": "execute_result"
    }
   ],
   "execution_count": 7
  },
  {
   "metadata": {
    "ExecuteTime": {
     "end_time": "2025-02-05T18:59:54.003619Z",
     "start_time": "2025-02-05T18:59:53.939300Z"
    }
   },
   "cell_type": "code",
   "source": "df['Price'].value_counts()",
   "id": "4222c9b7d5d5d0ac",
   "outputs": [
    {
     "data": {
      "text/plain": [
       "Price\n",
       "14995    4898\n",
       "12995    4600\n",
       "13995    4591\n",
       "9995     4298\n",
       "15995    4282\n",
       "         ... \n",
       "49190       1\n",
       "48457       1\n",
       "51333       1\n",
       "48001       1\n",
       "48681       1\n",
       "Name: count, Length: 47124, dtype: int64"
      ]
     },
     "execution_count": 8,
     "metadata": {},
     "output_type": "execute_result"
    }
   ],
   "execution_count": 8
  },
  {
   "metadata": {
    "ExecuteTime": {
     "end_time": "2025-02-05T18:59:54.212383Z",
     "start_time": "2025-02-05T18:59:54.190077Z"
    }
   },
   "cell_type": "code",
   "source": "df['Year'].value_counts()",
   "id": "2f1e2189b7e3ce6e",
   "outputs": [
    {
     "data": {
      "text/plain": [
       "Year\n",
       "2014    162432\n",
       "2015    157516\n",
       "2016    132136\n",
       "2017     91608\n",
       "2013     74701\n",
       "2012     49764\n",
       "2011     39768\n",
       "2010     27539\n",
       "2008     24713\n",
       "2007     21171\n",
       "2009     19061\n",
       "2006     15079\n",
       "2005     11005\n",
       "2004      8117\n",
       "2003      5649\n",
       "2002      3800\n",
       "2001      2584\n",
       "2000      1933\n",
       "1999      1254\n",
       "2018       922\n",
       "1998       774\n",
       "1997       596\n",
       "Name: count, dtype: int64"
      ]
     },
     "execution_count": 9,
     "metadata": {},
     "output_type": "execute_result"
    }
   ],
   "execution_count": 9
  },
  {
   "metadata": {
    "ExecuteTime": {
     "end_time": "2025-02-05T18:59:54.592196Z",
     "start_time": "2025-02-05T18:59:54.435017Z"
    }
   },
   "cell_type": "code",
   "source": "df['Mileage'].value_counts()",
   "id": "80429d604361eedb",
   "outputs": [
    {
     "data": {
      "text/plain": [
       "Mileage\n",
       "10        635\n",
       "5         350\n",
       "11        232\n",
       "12        213\n",
       "15        183\n",
       "         ... \n",
       "121243      1\n",
       "169856      1\n",
       "114893      1\n",
       "136902      1\n",
       "57596       1\n",
       "Name: count, Length: 158836, dtype: int64"
      ]
     },
     "execution_count": 10,
     "metadata": {},
     "output_type": "execute_result"
    }
   ],
   "execution_count": 10
  },
  {
   "metadata": {
    "ExecuteTime": {
     "end_time": "2025-02-05T18:59:55.103516Z",
     "start_time": "2025-02-05T18:59:54.835364Z"
    }
   },
   "cell_type": "code",
   "source": "df['City'].value_counts()",
   "id": "8931edc7dbb09ae2",
   "outputs": [
    {
     "data": {
      "text/plain": [
       "City\n",
       "Houston         12703\n",
       "San Antonio      8078\n",
       "Louisville       5872\n",
       "Jacksonville     5675\n",
       "Austin           5297\n",
       "                ...  \n",
       "Los Banos           4\n",
       "Pen Argyl           4\n",
       "Armona              4\n",
       "Port Jervis         4\n",
       "Royston             2\n",
       "Name: count, Length: 2553, dtype: int64"
      ]
     },
     "execution_count": 11,
     "metadata": {},
     "output_type": "execute_result"
    }
   ],
   "execution_count": 11
  },
  {
   "metadata": {
    "ExecuteTime": {
     "end_time": "2025-02-05T18:59:55.521240Z",
     "start_time": "2025-02-05T18:59:55.382331Z"
    }
   },
   "cell_type": "code",
   "source": "df['State'].value_counts()",
   "id": "fa89fd6db582053e",
   "outputs": [
    {
     "data": {
      "text/plain": [
       "State\n",
       "TX    94654\n",
       "CA    80437\n",
       "FL    72530\n",
       "GA    39414\n",
       "IL    38680\n",
       "NC    37530\n",
       "VA    35011\n",
       "PA    28130\n",
       "NY    27932\n",
       "NJ    27852\n",
       "OH    23259\n",
       "WA    23149\n",
       "CO    23004\n",
       "AZ    22401\n",
       "TN    19166\n",
       "MA    17990\n",
       "MD    17572\n",
       "IN    16465\n",
       "MO    16165\n",
       "KY    13691\n",
       "AL    13293\n",
       "WI    11255\n",
       "MN    10996\n",
       "CT    10906\n",
       "UT    10418\n",
       "OR    10352\n",
       "MI    10328\n",
       "SC     9790\n",
       "OK     9584\n",
       "LA     8528\n",
       "KS     7894\n",
       "AR     6952\n",
       "NV     6887\n",
       "MS     6242\n",
       "NH     5694\n",
       "NE     4924\n",
       "IA     4840\n",
       "NM     4729\n",
       "ID     3501\n",
       "HI     2995\n",
       "DE     2418\n",
       "MT     1984\n",
       "ME     1920\n",
       "RI     1858\n",
       "AK     1663\n",
       "WV     1501\n",
       "SD     1267\n",
       "VT     1123\n",
       "ND     1092\n",
       "Fl      783\n",
       "WY      610\n",
       "Va      248\n",
       "Md      135\n",
       "Ga      109\n",
       "ga      100\n",
       "Az       63\n",
       "Oh       52\n",
       "Ca       31\n",
       "DC       25\n",
       "Name: count, dtype: int64"
      ]
     },
     "execution_count": 12,
     "metadata": {},
     "output_type": "execute_result"
    }
   ],
   "execution_count": 12
  },
  {
   "metadata": {
    "ExecuteTime": {
     "end_time": "2025-02-05T18:59:57.684587Z",
     "start_time": "2025-02-05T18:59:55.786239Z"
    }
   },
   "cell_type": "code",
   "source": "df['Vin'].value_counts()",
   "id": "d6d46842b3509a42",
   "outputs": [
    {
     "data": {
      "text/plain": [
       "Vin\n",
       "1FADP3F24DL182433    2\n",
       "2G1FB1E32F9136442    2\n",
       "3FA6P0G72DR373223    2\n",
       "3FADP4EJ5DM144447    2\n",
       "1G11Y5SLXEU108457    2\n",
       "                    ..\n",
       "YV1A22MKXH1010413    1\n",
       "YV1A22MK2H1013239    1\n",
       "YV1A22MK0H1015281    1\n",
       "YV1A22ML5H1004169    1\n",
       "JH4CU2F69AC027155    1\n",
       "Name: count, Length: 852075, dtype: int64"
      ]
     },
     "execution_count": 13,
     "metadata": {},
     "output_type": "execute_result"
    }
   ],
   "execution_count": 13
  },
  {
   "metadata": {
    "ExecuteTime": {
     "end_time": "2025-02-05T18:59:57.918368Z",
     "start_time": "2025-02-05T18:59:57.822961Z"
    }
   },
   "cell_type": "code",
   "source": "df['Make'].value_counts()",
   "id": "16f1ec22a0caeb1c",
   "outputs": [
    {
     "data": {
      "text/plain": [
       "Make\n",
       "Ford             110432\n",
       "Chevrolet        102268\n",
       "Toyota            77786\n",
       "Nissan            66250\n",
       "Honda             50193\n",
       "Jeep              40373\n",
       "Hyundai           35837\n",
       "Dodge             34368\n",
       "BMW               32415\n",
       "GMC               29008\n",
       "Kia               28636\n",
       "Mercedes-Benz     26323\n",
       "Volkswagen        23249\n",
       "Lexus             20641\n",
       "Ram               19808\n",
       "Subaru            16428\n",
       "Chrysler          16357\n",
       "Cadillac          15047\n",
       "Mazda             13365\n",
       "Audi              12618\n",
       "Buick             12491\n",
       "INFINITI          12258\n",
       "Acura             11049\n",
       "Lincoln            7120\n",
       "Volvo              5106\n",
       "MINI               4375\n",
       "Porsche            4106\n",
       "Land               4096\n",
       "Mitsubishi         4080\n",
       "Scion              3043\n",
       "Jaguar             2200\n",
       "Pontiac            1783\n",
       "FIAT               1782\n",
       "Mercury            1076\n",
       "Maserati           1047\n",
       "Saturn              963\n",
       "HUMMER              949\n",
       "smart               713\n",
       "Bentley             367\n",
       "Ferrari             345\n",
       "Suzuki              334\n",
       "Saab                260\n",
       "Tesla               231\n",
       "Aston               149\n",
       "Genesis             141\n",
       "Oldsmobile          122\n",
       "Lamborghini         121\n",
       "Rolls-Royce          92\n",
       "Isuzu                76\n",
       "Plymouth             51\n",
       "McLaren              47\n",
       "Alfa                 44\n",
       "Lotus                42\n",
       "AM                   19\n",
       "Fisker               19\n",
       "Freightliner         11\n",
       "Maybach              10\n",
       "Geo                   2\n",
       "Name: count, dtype: int64"
      ]
     },
     "execution_count": 14,
     "metadata": {},
     "output_type": "execute_result"
    }
   ],
   "execution_count": 14
  },
  {
   "metadata": {
    "ExecuteTime": {
     "end_time": "2025-02-05T18:59:58.173332Z",
     "start_time": "2025-02-05T18:59:58.070417Z"
    }
   },
   "cell_type": "code",
   "source": "df['Model'].value_counts()",
   "id": "749c90766c2eefb3",
   "outputs": [
    {
     "data": {
      "text/plain": [
       "Model\n",
       "Silverado         24932\n",
       "Grand             17321\n",
       "Accord            14502\n",
       "F-1504WD          14177\n",
       "Altima2.5         11288\n",
       "                  ...  \n",
       "300Anniversary        1\n",
       "XC90Premier           1\n",
       "Skylark4dr            1\n",
       "Mazda3iSport          1\n",
       "624dr                 1\n",
       "Name: count, Length: 2736, dtype: int64"
      ]
     },
     "execution_count": 15,
     "metadata": {},
     "output_type": "execute_result"
    }
   ],
   "execution_count": 15
  },
  {
   "metadata": {},
   "cell_type": "markdown",
   "source": "### 4. Visualización de datos",
   "id": "ddc171d9ddff01b"
  },
  {
   "metadata": {
    "ExecuteTime": {
     "end_time": "2025-02-05T19:00:00.134977Z",
     "start_time": "2025-02-05T18:59:58.587525Z"
    }
   },
   "cell_type": "code",
   "source": [
    "categorias = ['Price', 'Year', 'Mileage']\n",
    "fig, axes = plt.subplots(nrows=1, ncols=3, figsize=(12, 8))\n",
    "axes = axes.flatten()\n",
    "for i, var in enumerate(categorias):\n",
    " axes[i].boxplot(df[var])\n",
    " axes[i].set_title(f'Distribución de {var}')\n",
    " axes[i].set_ylabel('Valores')\n",
    "for j in range(len(categorias), len(axes)):\n",
    " axes[j].axis('off')\n",
    "plt.tight_layout()\n",
    "plt.show()"
   ],
   "id": "d24a145620aeafc2",
   "outputs": [
    {
     "data": {
      "text/plain": [
       "<Figure size 1200x800 with 3 Axes>"
      ],
      "image/png": "[encoded data removed]"
     },
     "metadata": {},
     "output_type": "display_data"
    }
   ],
   "execution_count": 16
  },
  {
   "metadata": {},
   "cell_type": "markdown",
   "source": "### 5. Ingeniería de características\n",
   "id": "d592505217f2884f"
  },
  {
   "metadata": {
    "ExecuteTime": {
     "end_time": "2025-02-05T19:00:00.258806Z",
     "start_time": "2025-02-05T19:00:00.242455Z"
    }
   },
   "cell_type": "code",
   "source": "df.shape",
   "id": "7e9e0aae58bb3275",
   "outputs": [
    {
     "data": {
      "text/plain": [
       "(852122, 8)"
      ]
     },
     "execution_count": 17,
     "metadata": {},
     "output_type": "execute_result"
    }
   ],
   "execution_count": 17
  },
  {
   "metadata": {
    "ExecuteTime": {
     "end_time": "2025-02-05T19:00:04.146053Z",
     "start_time": "2025-02-05T19:00:00.340795Z"
    }
   },
   "cell_type": "code",
   "source": [
    "categoricas = ['City', 'State', 'Vin', 'Make', 'Model']\n",
    "\n",
    "df[categoricas] = df[categoricas].apply(lambda col: LabelEncoder().fit_transform(col))"
   ],
   "id": "9eda1376b4087bb3",
   "outputs": [],
   "execution_count": 18
  },
  {
   "metadata": {
    "ExecuteTime": {
     "end_time": "2025-02-05T19:00:04.207976Z",
     "start_time": "2025-02-05T19:00:04.191139Z"
    }
   },
   "cell_type": "code",
   "source": "df.head()",
   "id": "423a12b0710463f8",
   "outputs": [
    {
     "data": {
      "text/plain": [
       "   Price  Year  Mileage  City  State   Vin  Make  Model\n",
       "0   8995  2014    35725   646     49  3972     1   1194\n",
       "1  10888  2013    19606  1260     39  3707     1   1193\n",
       "2   8995  2013    48851   646     49  3970     1   1194\n",
       "3  10999  2014    39922  2490      6  3824     1   1193\n",
       "4  14799  2016    22142  1231     50    42     1   1196"
      ],
      "text/html": [
       "<div>\n",
       "<style scoped>\n",
       "    .dataframe tbody tr th:only-of-type {\n",
       "        vertical-align: middle;\n",
       "    }\n",
       "\n",
       "    .dataframe tbody tr th {\n",
       "        vertical-align: top;\n",
       "    }\n",
       "\n",
       "    .dataframe thead th {\n",
       "        text-align: right;\n",
       "    }\n",
       "</style>\n",
       "<table border=\"1\" class=\"dataframe\">\n",
       "  <thead>\n",
       "    <tr style=\"text-align: right;\">\n",
       "      <th></th>\n",
       "      <th>Price</th>\n",
       "      <th>Year</th>\n",
       "      <th>Mileage</th>\n",
       "      <th>City</th>\n",
       "      <th>State</th>\n",
       "      <th>Vin</th>\n",
       "      <th>Make</th>\n",
       "      <th>Model</th>\n",
       "    </tr>\n",
       "  </thead>\n",
       "  <tbody>\n",
       "    <tr>\n",
       "      <th>0</th>\n",
       "      <td>8995</td>\n",
       "      <td>2014</td>\n",
       "      <td>35725</td>\n",
       "      <td>646</td>\n",
       "      <td>49</td>\n",
       "      <td>3972</td>\n",
       "      <td>1</td>\n",
       "      <td>1194</td>\n",
       "    </tr>\n",
       "    <tr>\n",
       "      <th>1</th>\n",
       "      <td>10888</td>\n",
       "      <td>2013</td>\n",
       "      <td>19606</td>\n",
       "      <td>1260</td>\n",
       "      <td>39</td>\n",
       "      <td>3707</td>\n",
       "      <td>1</td>\n",
       "      <td>1193</td>\n",
       "    </tr>\n",
       "    <tr>\n",
       "      <th>2</th>\n",
       "      <td>8995</td>\n",
       "      <td>2013</td>\n",
       "      <td>48851</td>\n",
       "      <td>646</td>\n",
       "      <td>49</td>\n",
       "      <td>3970</td>\n",
       "      <td>1</td>\n",
       "      <td>1194</td>\n",
       "    </tr>\n",
       "    <tr>\n",
       "      <th>3</th>\n",
       "      <td>10999</td>\n",
       "      <td>2014</td>\n",
       "      <td>39922</td>\n",
       "      <td>2490</td>\n",
       "      <td>6</td>\n",
       "      <td>3824</td>\n",
       "      <td>1</td>\n",
       "      <td>1193</td>\n",
       "    </tr>\n",
       "    <tr>\n",
       "      <th>4</th>\n",
       "      <td>14799</td>\n",
       "      <td>2016</td>\n",
       "      <td>22142</td>\n",
       "      <td>1231</td>\n",
       "      <td>50</td>\n",
       "      <td>42</td>\n",
       "      <td>1</td>\n",
       "      <td>1196</td>\n",
       "    </tr>\n",
       "  </tbody>\n",
       "</table>\n",
       "</div>"
      ]
     },
     "execution_count": 19,
     "metadata": {},
     "output_type": "execute_result"
    }
   ],
   "execution_count": 19
  },
  {
   "metadata": {
    "ExecuteTime": {
     "end_time": "2025-02-05T19:00:04.296478Z",
     "start_time": "2025-02-05T19:00:04.285622Z"
    }
   },
   "cell_type": "code",
   "source": "df.shape",
   "id": "59a45e82ab178f41",
   "outputs": [
    {
     "data": {
      "text/plain": [
       "(852122, 8)"
      ]
     },
     "execution_count": 20,
     "metadata": {},
     "output_type": "execute_result"
    }
   ],
   "execution_count": 20
  },
  {
   "metadata": {},
   "cell_type": "markdown",
   "source": "### 6. Entrenamiento del modelo\n",
   "id": "502e8274dfc5557e"
  },
  {
   "metadata": {
    "ExecuteTime": {
     "end_time": "2025-02-05T19:00:04.846943Z",
     "start_time": "2025-02-05T19:00:04.409506Z"
    }
   },
   "cell_type": "code",
   "source": [
    "X = df.drop('Price',axis=1)\n",
    "y = df['Price']\n",
    "X_train, X_test, y_train, y_test = train_test_split(X, y, test_size=0.2, random_state=42)"
   ],
   "id": "5b58c7f2c9e54a8e",
   "outputs": [],
   "execution_count": 21
  },
  {
   "metadata": {
    "ExecuteTime": {
     "end_time": "2025-02-05T19:00:05.258859Z",
     "start_time": "2025-02-05T19:00:04.862962Z"
    }
   },
   "cell_type": "code",
   "source": [
    "# Creamos el modelo de red neuronal\n",
    "early_stopping = EarlyStopping(monitor='val_loss', patience=5)\n",
    "model = Sequential([\n",
    "    Input(shape=(X_train.shape[1],)),  # Entrada con la cantidad de características\n",
    "    Dense(8, activation='relu'),  # 2a capa oculta\n",
    "    Dense(1, activation='linear')  # Capa de salida (sin activación para regresión)\n",
    "])\n",
    "# Compilar el modelo con una función de pérdida para regresión\n",
    "model.compile(optimizer='adam', loss='mean_squared_error', metrics=['mae'])\n",
    "# Mostramos configuración\n",
    "model.summary()"
   ],
   "id": "d0db6fb9b561e410",
   "outputs": [
    {
     "data": {
      "text/plain": [
       "\u001B[1mModel: \"sequential\"\u001B[0m\n"
      ],
      "text/html": [
       "<pre style=\"white-space:pre;overflow-x:auto;line-height:normal;font-family:Menlo,'DejaVu Sans Mono',consolas,'Courier New',monospace\"><span style=\"font-weight: bold\">Model: \"sequential\"</span>\n",
       "</pre>\n"
      ]
     },
     "metadata": {},
     "output_type": "display_data"
    },
    {
     "data": {
      "text/plain": [
       "┏━━━━━━━━━━━━━━━━━━━━━━━━━━━━━━━━━┳━━━━━━━━━━━━━━━━━━━━━━━━┳━━━━━━━━━━━━━━━┓\n",
       "┃\u001B[1m \u001B[0m\u001B[1mLayer (type)                   \u001B[0m\u001B[1m \u001B[0m┃\u001B[1m \u001B[0m\u001B[1mOutput Shape          \u001B[0m\u001B[1m \u001B[0m┃\u001B[1m \u001B[0m\u001B[1m      Param #\u001B[0m\u001B[1m \u001B[0m┃\n",
       "┡━━━━━━━━━━━━━━━━━━━━━━━━━━━━━━━━━╇━━━━━━━━━━━━━━━━━━━━━━━━╇━━━━━━━━━━━━━━━┩\n",
       "│ dense (\u001B[38;5;33mDense\u001B[0m)                   │ (\u001B[38;5;45mNone\u001B[0m, \u001B[38;5;34m8\u001B[0m)              │            \u001B[38;5;34m64\u001B[0m │\n",
       "├─────────────────────────────────┼────────────────────────┼───────────────┤\n",
       "│ dense_1 (\u001B[38;5;33mDense\u001B[0m)                 │ (\u001B[38;5;45mNone\u001B[0m, \u001B[38;5;34m1\u001B[0m)              │             \u001B[38;5;34m9\u001B[0m │\n",
       "└─────────────────────────────────┴────────────────────────┴───────────────┘\n"
      ],
      "text/html": [
       "<pre style=\"white-space:pre;overflow-x:auto;line-height:normal;font-family:Menlo,'DejaVu Sans Mono',consolas,'Courier New',monospace\">┏━━━━━━━━━━━━━━━━━━━━━━━━━━━━━━━━━┳━━━━━━━━━━━━━━━━━━━━━━━━┳━━━━━━━━━━━━━━━┓\n",
       "┃<span style=\"font-weight: bold\"> Layer (type)                    </span>┃<span style=\"font-weight: bold\"> Output Shape           </span>┃<span style=\"font-weight: bold\">       Param # </span>┃\n",
       "┡━━━━━━━━━━━━━━━━━━━━━━━━━━━━━━━━━╇━━━━━━━━━━━━━━━━━━━━━━━━╇━━━━━━━━━━━━━━━┩\n",
       "│ dense (<span style=\"color: #0087ff; text-decoration-color: #0087ff\">Dense</span>)                   │ (<span style=\"color: #00d7ff; text-decoration-color: #00d7ff\">None</span>, <span style=\"color: #00af00; text-decoration-color: #00af00\">8</span>)              │            <span style=\"color: #00af00; text-decoration-color: #00af00\">64</span> │\n",
       "├─────────────────────────────────┼────────────────────────┼───────────────┤\n",
       "│ dense_1 (<span style=\"color: #0087ff; text-decoration-color: #0087ff\">Dense</span>)                 │ (<span style=\"color: #00d7ff; text-decoration-color: #00d7ff\">None</span>, <span style=\"color: #00af00; text-decoration-color: #00af00\">1</span>)              │             <span style=\"color: #00af00; text-decoration-color: #00af00\">9</span> │\n",
       "└─────────────────────────────────┴────────────────────────┴───────────────┘\n",
       "</pre>\n"
      ]
     },
     "metadata": {},
     "output_type": "display_data"
    },
    {
     "data": {
      "text/plain": [
       "\u001B[1m Total params: \u001B[0m\u001B[38;5;34m73\u001B[0m (292.00 B)\n"
      ],
      "text/html": [
       "<pre style=\"white-space:pre;overflow-x:auto;line-height:normal;font-family:Menlo,'DejaVu Sans Mono',consolas,'Courier New',monospace\"><span style=\"font-weight: bold\"> Total params: </span><span style=\"color: #00af00; text-decoration-color: #00af00\">73</span> (292.00 B)\n",
       "</pre>\n"
      ]
     },
     "metadata": {},
     "output_type": "display_data"
    },
    {
     "data": {
      "text/plain": [
       "\u001B[1m Trainable params: \u001B[0m\u001B[38;5;34m73\u001B[0m (292.00 B)\n"
      ],
      "text/html": [
       "<pre style=\"white-space:pre;overflow-x:auto;line-height:normal;font-family:Menlo,'DejaVu Sans Mono',consolas,'Courier New',monospace\"><span style=\"font-weight: bold\"> Trainable params: </span><span style=\"color: #00af00; text-decoration-color: #00af00\">73</span> (292.00 B)\n",
       "</pre>\n"
      ]
     },
     "metadata": {},
     "output_type": "display_data"
    },
    {
     "data": {
      "text/plain": [
       "\u001B[1m Non-trainable params: \u001B[0m\u001B[38;5;34m0\u001B[0m (0.00 B)\n"
      ],
      "text/html": [
       "<pre style=\"white-space:pre;overflow-x:auto;line-height:normal;font-family:Menlo,'DejaVu Sans Mono',consolas,'Courier New',monospace\"><span style=\"font-weight: bold\"> Non-trainable params: </span><span style=\"color: #00af00; text-decoration-color: #00af00\">0</span> (0.00 B)\n",
       "</pre>\n"
      ]
     },
     "metadata": {},
     "output_type": "display_data"
    }
   ],
   "execution_count": 22
  },
  {
   "metadata": {
    "ExecuteTime": {
     "end_time": "2025-02-05T19:05:12.705037Z",
     "start_time": "2025-02-05T19:00:05.330837Z"
    }
   },
   "cell_type": "code",
   "source": "history = model.fit(X_train, y_train, epochs=10, batch_size=32, validation_split=0.2, verbose=1, callbacks=[early_stopping])",
   "id": "e080f6a108b99965",
   "outputs": [
    {
     "name": "stdout",
     "output_type": "stream",
     "text": [
      "Epoch 1/10\n",
      "\u001B[1m17043/17043\u001B[0m \u001B[32m━━━━━━━━━━━━━━━━━━━━\u001B[0m\u001B[37m\u001B[0m \u001B[1m31s\u001B[0m 2ms/step - loss: 644271104.0000 - mae: 12646.4053 - val_loss: 144959552.0000 - val_mae: 7704.8354\n",
      "Epoch 2/10\n",
      "\u001B[1m17043/17043\u001B[0m \u001B[32m━━━━━━━━━━━━━━━━━━━━\u001B[0m\u001B[37m\u001B[0m \u001B[1m28s\u001B[0m 2ms/step - loss: 137504992.0000 - mae: 7621.6758 - val_loss: 143836432.0000 - val_mae: 7475.2236\n",
      "Epoch 3/10\n",
      "\u001B[1m17043/17043\u001B[0m \u001B[32m━━━━━━━━━━━━━━━━━━━━\u001B[0m\u001B[37m\u001B[0m \u001B[1m28s\u001B[0m 2ms/step - loss: 139140592.0000 - mae: 7534.0972 - val_loss: 141402016.0000 - val_mae: 7452.9692\n",
      "Epoch 4/10\n",
      "\u001B[1m17043/17043\u001B[0m \u001B[32m━━━━━━━━━━━━━━━━━━━━\u001B[0m\u001B[37m\u001B[0m \u001B[1m27s\u001B[0m 2ms/step - loss: 133172656.0000 - mae: 7452.0396 - val_loss: 145699376.0000 - val_mae: 7214.7988\n",
      "Epoch 5/10\n",
      "\u001B[1m17043/17043\u001B[0m \u001B[32m━━━━━━━━━━━━━━━━━━━━\u001B[0m\u001B[37m\u001B[0m \u001B[1m28s\u001B[0m 2ms/step - loss: 131840680.0000 - mae: 7432.0547 - val_loss: 143517744.0000 - val_mae: 7822.9155\n",
      "Epoch 6/10\n",
      "\u001B[1m17043/17043\u001B[0m \u001B[32m━━━━━━━━━━━━━━━━━━━━\u001B[0m\u001B[37m\u001B[0m \u001B[1m40s\u001B[0m 2ms/step - loss: 128528024.0000 - mae: 7405.3218 - val_loss: 140290896.0000 - val_mae: 7413.3516\n",
      "Epoch 7/10\n",
      "\u001B[1m17043/17043\u001B[0m \u001B[32m━━━━━━━━━━━━━━━━━━━━\u001B[0m\u001B[37m\u001B[0m \u001B[1m28s\u001B[0m 2ms/step - loss: 133595208.0000 - mae: 7418.2505 - val_loss: 143164736.0000 - val_mae: 7826.5439\n",
      "Epoch 8/10\n",
      "\u001B[1m17043/17043\u001B[0m \u001B[32m━━━━━━━━━━━━━━━━━━━━\u001B[0m\u001B[37m\u001B[0m \u001B[1m27s\u001B[0m 2ms/step - loss: 132652208.0000 - mae: 7427.2559 - val_loss: 144354592.0000 - val_mae: 7178.8867\n",
      "Epoch 9/10\n",
      "\u001B[1m17043/17043\u001B[0m \u001B[32m━━━━━━━━━━━━━━━━━━━━\u001B[0m\u001B[37m\u001B[0m \u001B[1m37s\u001B[0m 2ms/step - loss: 130876312.0000 - mae: 7398.8784 - val_loss: 140245552.0000 - val_mae: 7452.8867\n",
      "Epoch 10/10\n",
      "\u001B[1m17043/17043\u001B[0m \u001B[32m━━━━━━━━━━━━━━━━━━━━\u001B[0m\u001B[37m\u001B[0m \u001B[1m33s\u001B[0m 2ms/step - loss: 130990328.0000 - mae: 7372.9565 - val_loss: 138861808.0000 - val_mae: 7298.7583\n"
     ]
    }
   ],
   "execution_count": 23
  },
  {
   "metadata": {
    "ExecuteTime": {
     "end_time": "2025-02-05T19:07:07.759231Z",
     "start_time": "2025-02-05T19:07:00.019334Z"
    }
   },
   "cell_type": "code",
   "source": [
    "loss, accuracy = model.evaluate(X_test, y_test)\n",
    "print(f\"Pérdida: {loss}, Precisión: {accuracy}\")\n",
    "# Pérdida\n",
    "plt.plot(history.history['loss'], label='Pérdida (entrenamiento)')\n",
    "plt.plot(history.history['val_loss'], label='Pérdida (validación)')\n",
    "plt.xlabel('Épocas')\n",
    "plt.ylabel('Pérdida')\n",
    "plt.legend()\n",
    "plt.show()\n",
    "# Precisión\n",
    "plt.plot(history.history['mae'], label='Precisión(entrenamiento)')\n",
    "plt.plot(history.history['val_mae'], label='Precisión(validación)')\n",
    "plt.xlabel('Épocas')\n",
    "plt.ylabel('Precisión')\n",
    "plt.legend()\n",
    "plt.show()"
   ],
   "id": "1996a540c38c729",
   "outputs": [
    {
     "name": "stdout",
     "output_type": "stream",
     "text": [
      "\u001B[1m5326/5326\u001B[0m \u001B[32m━━━━━━━━━━━━━━━━━━━━\u001B[0m\u001B[37m\u001B[0m \u001B[1m7s\u001B[0m 1ms/step - loss: 135527056.0000 - mae: 7279.7671\n",
      "Pérdida: 130749896.0, Precisión: 7273.6611328125\n"
     ]
    },
    {
     "data": {
      "text/plain": [
       "<Figure size 640x480 with 1 Axes>"
      ],
      "image/png": "[encoded data removed]"
     },
     "metadata": {},
     "output_type": "display_data"
    },
    {
     "data": {
      "text/plain": [
       "<Figure size 640x480 with 1 Axes>"
      ],
      "image/png": "[encoded data removed]"
     },
     "metadata": {},
     "output_type": "display_data"
    }
   ],
   "execution_count": 24
  },
  {
   "metadata": {
    "ExecuteTime": {
     "end_time": "2025-02-05T19:07:07.819401Z",
     "start_time": "2025-02-05T19:07:07.770380Z"
    }
   },
   "cell_type": "code",
   "source": [
    "def build_model(hp):\n",
    " model = Sequential([\n",
    "     Dense(units=hp.Int('units', min_value=32, max_value=512,step=32), activation='relu'),\n",
    "     Dense(1, activation='linear')\n",
    " ])\n",
    " model.compile(optimizer = tf.keras.optimizers.Adam(learning_rate = hp.Choice('learning_rate', [0.001, 0.01])),loss = 'mean_squared_error', metrics = ['mae'])\n",
    " return model\n",
    "\n",
    "tuner = RandomSearch(\n",
    " build_model,\n",
    " objective='val_loss',\n",
    " max_trials=5,\n",
    " directory='./my_dir',\n",
    " project_name='prediccion'\n",
    ")\n",
    "tuner.search(X_train, y_train, validation_split=0.2)"
   ],
   "id": "f286b1a5ad2140fa",
   "outputs": [
    {
     "name": "stdout",
     "output_type": "stream",
     "text": [
      "Reloading Tuner from ./my_dir\\prediccion\\tuner0.json\n"
     ]
    }
   ],
   "execution_count": 25
  },
  {
   "metadata": {
    "ExecuteTime": {
     "end_time": "2025-02-05T19:07:07.915364Z",
     "start_time": "2025-02-05T19:07:07.887045Z"
    }
   },
   "cell_type": "code",
   "source": [
    "best_hps = tuner.get_best_hyperparameters(num_trials=1)[0]\n",
    "best_model = tuner.hypermodel.build(best_hps)"
   ],
   "id": "492d0d16e355211e",
   "outputs": [],
   "execution_count": 26
  },
  {
   "metadata": {
    "ExecuteTime": {
     "end_time": "2025-02-05T19:07:08.132296Z",
     "start_time": "2025-02-05T19:07:07.951376Z"
    }
   },
   "cell_type": "code",
   "source": "X_train_split, X_val, y_train_split, y_val = train_test_split(X_train, y_train, test_size=0.2, random_state=42)",
   "id": "e6767c8cf8c85a97",
   "outputs": [],
   "execution_count": 27
  },
  {
   "metadata": {
    "ExecuteTime": {
     "end_time": "2025-02-05T19:11:54.354714Z",
     "start_time": "2025-02-05T19:07:08.176304Z"
    }
   },
   "cell_type": "code",
   "source": [
    "# Ahora usa X_train_split, y_train_split en el entrenamiento\n",
    "history = best_model.fit(X_train_split, y_train_split, epochs=10, batch_size=32, validation_data=(X_val, y_val), callbacks=[early_stopping])"
   ],
   "id": "30bee8283222fed8",
   "outputs": [
    {
     "name": "stdout",
     "output_type": "stream",
     "text": [
      "Epoch 1/10\n",
      "\u001B[1m17043/17043\u001B[0m \u001B[32m━━━━━━━━━━━━━━━━━━━━\u001B[0m\u001B[37m\u001B[0m \u001B[1m29s\u001B[0m 2ms/step - loss: 168283984.0000 - mae: 8432.2842 - val_loss: 132206224.0000 - val_mae: 7552.5088\n",
      "Epoch 2/10\n",
      "\u001B[1m17043/17043\u001B[0m \u001B[32m━━━━━━━━━━━━━━━━━━━━\u001B[0m\u001B[37m\u001B[0m \u001B[1m28s\u001B[0m 2ms/step - loss: 136670944.0000 - mae: 7493.2202 - val_loss: 130097672.0000 - val_mae: 7263.6045\n",
      "Epoch 3/10\n",
      "\u001B[1m17043/17043\u001B[0m \u001B[32m━━━━━━━━━━━━━━━━━━━━\u001B[0m\u001B[37m\u001B[0m \u001B[1m28s\u001B[0m 2ms/step - loss: 130384400.0000 - mae: 7283.4995 - val_loss: 129105392.0000 - val_mae: 7148.3892\n",
      "Epoch 4/10\n",
      "\u001B[1m17043/17043\u001B[0m \u001B[32m━━━━━━━━━━━━━━━━━━━━\u001B[0m\u001B[37m\u001B[0m \u001B[1m28s\u001B[0m 2ms/step - loss: 131094992.0000 - mae: 7223.3403 - val_loss: 127165344.0000 - val_mae: 7265.2427\n",
      "Epoch 5/10\n",
      "\u001B[1m17043/17043\u001B[0m \u001B[32m━━━━━━━━━━━━━━━━━━━━\u001B[0m\u001B[37m\u001B[0m \u001B[1m33s\u001B[0m 2ms/step - loss: 130897904.0000 - mae: 7147.9902 - val_loss: 127798960.0000 - val_mae: 6918.3975\n",
      "Epoch 6/10\n",
      "\u001B[1m17043/17043\u001B[0m \u001B[32m━━━━━━━━━━━━━━━━━━━━\u001B[0m\u001B[37m\u001B[0m \u001B[1m28s\u001B[0m 2ms/step - loss: 130763704.0000 - mae: 7096.3364 - val_loss: 124652248.0000 - val_mae: 6823.6914\n",
      "Epoch 7/10\n",
      "\u001B[1m17043/17043\u001B[0m \u001B[32m━━━━━━━━━━━━━━━━━━━━\u001B[0m\u001B[37m\u001B[0m \u001B[1m28s\u001B[0m 2ms/step - loss: 125274584.0000 - mae: 7019.7798 - val_loss: 127629504.0000 - val_mae: 7368.1289\n",
      "Epoch 8/10\n",
      "\u001B[1m17043/17043\u001B[0m \u001B[32m━━━━━━━━━━━━━━━━━━━━\u001B[0m\u001B[37m\u001B[0m \u001B[1m28s\u001B[0m 2ms/step - loss: 126032976.0000 - mae: 7000.1279 - val_loss: 125279160.0000 - val_mae: 7177.9194\n",
      "Epoch 9/10\n",
      "\u001B[1m17043/17043\u001B[0m \u001B[32m━━━━━━━━━━━━━━━━━━━━\u001B[0m\u001B[37m\u001B[0m \u001B[1m28s\u001B[0m 2ms/step - loss: 124728944.0000 - mae: 6970.0757 - val_loss: 122990752.0000 - val_mae: 6800.3179\n",
      "Epoch 10/10\n",
      "\u001B[1m17043/17043\u001B[0m \u001B[32m━━━━━━━━━━━━━━━━━━━━\u001B[0m\u001B[37m\u001B[0m \u001B[1m28s\u001B[0m 2ms/step - loss: 127628848.0000 - mae: 6961.6528 - val_loss: 125158056.0000 - val_mae: 6884.2666\n"
     ]
    }
   ],
   "execution_count": 28
  },
  {
   "metadata": {
    "ExecuteTime": {
     "end_time": "2025-02-05T19:12:00.943235Z",
     "start_time": "2025-02-05T19:11:54.428983Z"
    }
   },
   "cell_type": "code",
   "source": [
    "loss, accuracy = best_model.evaluate(X_test, y_test)\n",
    "print(f\"Pérdida: {loss}, Precisión: {accuracy}\")\n",
    "# Pérdida\n",
    "plt.plot(history.history['loss'], label='Pérdida (entrenamiento)')\n",
    "plt.plot(history.history['val_loss'], label='Pérdida (validación)')\n",
    "plt.xlabel('Épocas')\n",
    "plt.ylabel('Pérdida')\n",
    "plt.legend()\n",
    "plt.show()\n",
    "# Precisión\n",
    "plt.plot(history.history['mae'], label='Precisión(entrenamiento)')\n",
    "plt.plot(history.history['val_mae'], label='Precisión(validación)')\n",
    "plt.xlabel('Épocas')\n",
    "plt.ylabel('Precisión')\n",
    "plt.legend()\n",
    "plt.show()"
   ],
   "id": "740dd8533b69b895",
   "outputs": [
    {
     "name": "stdout",
     "output_type": "stream",
     "text": [
      "\u001B[1m5326/5326\u001B[0m \u001B[32m━━━━━━━━━━━━━━━━━━━━\u001B[0m\u001B[37m\u001B[0m \u001B[1m6s\u001B[0m 1ms/step - loss: 130942784.0000 - mae: 6930.9941\n",
      "Pérdida: 126294992.0, Precisión: 6917.7509765625\n"
     ]
    },
    {
     "data": {
      "text/plain": [
       "<Figure size 640x480 with 1 Axes>"
      ],
      "image/png": "[encoded data removed]"
     },
     "metadata": {},
     "output_type": "display_data"
    },
    {
     "data": {
      "text/plain": [
       "<Figure size 640x480 with 1 Axes>"
      ],
      "image/png": "[encoded data removed]"
     },
     "metadata": {},
     "output_type": "display_data"
    }
   ],
   "execution_count": 29
  },
  {
   "metadata": {
    "ExecuteTime": {
     "end_time": "2025-02-05T19:36:09.078378Z",
     "start_time": "2025-02-05T19:12:00.956249Z"
    }
   },
   "cell_type": "code",
   "source": [
    "# Definir la función objetivo que Optuna optimizará\n",
    "def objective(trial):\n",
    " # Espacios de búsqueda de hiperparámetros (esto son ejemplos)\n",
    " units = trial.suggest_int('units', 32, 512, step=32)\n",
    " lr = trial.suggest_categorical('learning_rate', [0.001, 0.01,0.1])\n",
    "\n",
    " # Crear el modelo\n",
    " model = Sequential([\n",
    "    Input(shape=(X_train_split.shape[1],)), # Definir forma de la entrada\n",
    "    Dense(units=units, activation='relu'),\n",
    "    Dense(1, activation='linear')\n",
    " ])\n",
    "\n",
    " model.compile(optimizer=tf.keras.optimizers.Adam(learning_rate=lr),loss='mean_squared_error',metrics=['mae'])\n",
    "\n",
    " model.fit(X_train_split, y_train_split, epochs=10, validation_split=0.2, verbose=1)\n",
    "\n",
    " # Obtener la pérdida en la validación para optimizar\n",
    " val_loss = model.history.history['val_loss'][-1]\n",
    " return val_loss\n",
    "# Crear estudio de Optuna y ejecutar la optimización\n",
    "# Queremos minimizar la pérdida (val_loss)\n",
    "study = optuna.create_study(direction='minimize')\n",
    "study.optimize(objective, n_trials=5) # 5 intentos de prueba, puedes aumentar este número\n",
    "# Mostrar los mejores hiperparámetros encontrados\n",
    "print(f'Best hyperparameters: {study.best_params}')"
   ],
   "id": "388815562c3a5af5",
   "outputs": [
    {
     "name": "stderr",
     "output_type": "stream",
     "text": [
      "[I 2025-02-05 20:12:00,967] A new study created in memory with name: no-name-b10fc125-0673-459d-93a0-26b9d620d9d9\n"
     ]
    },
    {
     "name": "stdout",
     "output_type": "stream",
     "text": [
      "Epoch 1/10\n",
      "\u001B[1m13634/13634\u001B[0m \u001B[32m━━━━━━━━━━━━━━━━━━━━\u001B[0m\u001B[37m\u001B[0m \u001B[1m24s\u001B[0m 2ms/step - loss: 171193504.0000 - mae: 8464.1533 - val_loss: 145733968.0000 - val_mae: 7392.5767\n",
      "Epoch 2/10\n",
      "\u001B[1m13634/13634\u001B[0m \u001B[32m━━━━━━━━━━━━━━━━━━━━\u001B[0m\u001B[37m\u001B[0m \u001B[1m23s\u001B[0m 2ms/step - loss: 139152992.0000 - mae: 7579.7471 - val_loss: 150329008.0000 - val_mae: 8268.0498\n",
      "Epoch 3/10\n",
      "\u001B[1m13634/13634\u001B[0m \u001B[32m━━━━━━━━━━━━━━━━━━━━\u001B[0m\u001B[37m\u001B[0m \u001B[1m24s\u001B[0m 2ms/step - loss: 134603392.0000 - mae: 7482.8457 - val_loss: 138350560.0000 - val_mae: 7252.8398\n",
      "Epoch 4/10\n",
      "\u001B[1m13634/13634\u001B[0m \u001B[32m━━━━━━━━━━━━━━━━━━━━\u001B[0m\u001B[37m\u001B[0m \u001B[1m23s\u001B[0m 2ms/step - loss: 135082912.0000 - mae: 7463.0088 - val_loss: 139529072.0000 - val_mae: 7691.4106\n",
      "Epoch 5/10\n",
      "\u001B[1m13634/13634\u001B[0m \u001B[32m━━━━━━━━━━━━━━━━━━━━\u001B[0m\u001B[37m\u001B[0m \u001B[1m23s\u001B[0m 2ms/step - loss: 138389520.0000 - mae: 7440.6382 - val_loss: 138053872.0000 - val_mae: 7094.7529\n",
      "Epoch 6/10\n",
      "\u001B[1m13634/13634\u001B[0m \u001B[32m━━━━━━━━━━━━━━━━━━━━\u001B[0m\u001B[37m\u001B[0m \u001B[1m23s\u001B[0m 2ms/step - loss: 131093464.0000 - mae: 7394.0923 - val_loss: 138146688.0000 - val_mae: 7125.9521\n",
      "Epoch 7/10\n",
      "\u001B[1m13634/13634\u001B[0m \u001B[32m━━━━━━━━━━━━━━━━━━━━\u001B[0m\u001B[37m\u001B[0m \u001B[1m23s\u001B[0m 2ms/step - loss: 132532520.0000 - mae: 7346.7388 - val_loss: 137274208.0000 - val_mae: 7186.7524\n",
      "Epoch 8/10\n",
      "\u001B[1m13634/13634\u001B[0m \u001B[32m━━━━━━━━━━━━━━━━━━━━\u001B[0m\u001B[37m\u001B[0m \u001B[1m23s\u001B[0m 2ms/step - loss: 130713872.0000 - mae: 7354.0078 - val_loss: 136676544.0000 - val_mae: 7046.6821\n",
      "Epoch 9/10\n",
      "\u001B[1m13634/13634\u001B[0m \u001B[32m━━━━━━━━━━━━━━━━━━━━\u001B[0m\u001B[37m\u001B[0m \u001B[1m22s\u001B[0m 2ms/step - loss: 133128744.0000 - mae: 7350.0781 - val_loss: 136836768.0000 - val_mae: 7057.9395\n",
      "Epoch 10/10\n",
      "\u001B[1m13634/13634\u001B[0m \u001B[32m━━━━━━━━━━━━━━━━━━━━\u001B[0m\u001B[37m\u001B[0m \u001B[1m22s\u001B[0m 2ms/step - loss: 130264584.0000 - mae: 7314.7622 - val_loss: 140892416.0000 - val_mae: 7910.6948\n"
     ]
    },
    {
     "name": "stderr",
     "output_type": "stream",
     "text": [
      "[I 2025-02-05 20:15:50,994] Trial 0 finished with value: 140892416.0 and parameters: {'units': 256, 'learning_rate': 0.01}. Best is trial 0 with value: 140892416.0.\n"
     ]
    },
    {
     "name": "stdout",
     "output_type": "stream",
     "text": [
      "Epoch 1/10\n",
      "\u001B[1m13634/13634\u001B[0m \u001B[32m━━━━━━━━━━━━━━━━━━━━\u001B[0m\u001B[37m\u001B[0m \u001B[1m23s\u001B[0m 2ms/step - loss: 163525632.0000 - mae: 8388.6621 - val_loss: 137541104.0000 - val_mae: 7360.3657\n",
      "Epoch 2/10\n",
      "\u001B[1m13634/13634\u001B[0m \u001B[32m━━━━━━━━━━━━━━━━━━━━\u001B[0m\u001B[37m\u001B[0m \u001B[1m33s\u001B[0m 2ms/step - loss: 134556384.0000 - mae: 7519.3770 - val_loss: 145290752.0000 - val_mae: 8143.4736\n",
      "Epoch 3/10\n",
      "\u001B[1m13634/13634\u001B[0m \u001B[32m━━━━━━━━━━━━━━━━━━━━\u001B[0m\u001B[37m\u001B[0m \u001B[1m30s\u001B[0m 2ms/step - loss: 136265296.0000 - mae: 7390.5605 - val_loss: 140691104.0000 - val_mae: 7877.7114\n",
      "Epoch 4/10\n",
      "\u001B[1m13634/13634\u001B[0m \u001B[32m━━━━━━━━━━━━━━━━━━━━\u001B[0m\u001B[37m\u001B[0m \u001B[1m27s\u001B[0m 2ms/step - loss: 135302336.0000 - mae: 7278.9683 - val_loss: 136013456.0000 - val_mae: 7074.2085\n",
      "Epoch 5/10\n",
      "\u001B[1m13634/13634\u001B[0m \u001B[32m━━━━━━━━━━━━━━━━━━━━\u001B[0m\u001B[37m\u001B[0m \u001B[1m27s\u001B[0m 2ms/step - loss: 129955624.0000 - mae: 7190.2695 - val_loss: 135286512.0000 - val_mae: 7139.5752\n",
      "Epoch 6/10\n",
      "\u001B[1m13634/13634\u001B[0m \u001B[32m━━━━━━━━━━━━━━━━━━━━\u001B[0m\u001B[37m\u001B[0m \u001B[1m27s\u001B[0m 2ms/step - loss: 128572160.0000 - mae: 7147.2505 - val_loss: 131429152.0000 - val_mae: 7075.4985\n",
      "Epoch 7/10\n",
      "\u001B[1m13634/13634\u001B[0m \u001B[32m━━━━━━━━━━━━━━━━━━━━\u001B[0m\u001B[37m\u001B[0m \u001B[1m27s\u001B[0m 2ms/step - loss: 126704664.0000 - mae: 7094.5078 - val_loss: 134189128.0000 - val_mae: 6953.4004\n",
      "Epoch 8/10\n",
      "\u001B[1m13634/13634\u001B[0m \u001B[32m━━━━━━━━━━━━━━━━━━━━\u001B[0m\u001B[37m\u001B[0m \u001B[1m27s\u001B[0m 2ms/step - loss: 126418176.0000 - mae: 7049.9639 - val_loss: 128797704.0000 - val_mae: 6914.5317\n",
      "Epoch 9/10\n",
      "\u001B[1m13634/13634\u001B[0m \u001B[32m━━━━━━━━━━━━━━━━━━━━\u001B[0m\u001B[37m\u001B[0m \u001B[1m27s\u001B[0m 2ms/step - loss: 124226656.0000 - mae: 6985.8564 - val_loss: 138951936.0000 - val_mae: 7755.1763\n",
      "Epoch 10/10\n",
      "\u001B[1m13634/13634\u001B[0m \u001B[32m━━━━━━━━━━━━━━━━━━━━\u001B[0m\u001B[37m\u001B[0m \u001B[1m28s\u001B[0m 2ms/step - loss: 120527688.0000 - mae: 6941.2100 - val_loss: 128396768.0000 - val_mae: 6836.8398\n"
     ]
    },
    {
     "name": "stderr",
     "output_type": "stream",
     "text": [
      "[I 2025-02-05 20:20:27,228] Trial 1 finished with value: 128396768.0 and parameters: {'units': 96, 'learning_rate': 0.001}. Best is trial 1 with value: 128396768.0.\n"
     ]
    },
    {
     "name": "stdout",
     "output_type": "stream",
     "text": [
      "Epoch 1/10\n",
      "\u001B[1m13634/13634\u001B[0m \u001B[32m━━━━━━━━━━━━━━━━━━━━\u001B[0m\u001B[37m\u001B[0m \u001B[1m29s\u001B[0m 2ms/step - loss: 170407856.0000 - mae: 8553.6670 - val_loss: 147562400.0000 - val_mae: 7897.5562\n",
      "Epoch 2/10\n",
      "\u001B[1m13634/13634\u001B[0m \u001B[32m━━━━━━━━━━━━━━━━━━━━\u001B[0m\u001B[37m\u001B[0m \u001B[1m41s\u001B[0m 2ms/step - loss: 140816784.0000 - mae: 7551.8691 - val_loss: 139230960.0000 - val_mae: 7118.6411\n",
      "Epoch 3/10\n",
      "\u001B[1m13634/13634\u001B[0m \u001B[32m━━━━━━━━━━━━━━━━━━━━\u001B[0m\u001B[37m\u001B[0m \u001B[1m28s\u001B[0m 2ms/step - loss: 132527568.0000 - mae: 7394.6475 - val_loss: 148156336.0000 - val_mae: 8166.4604\n",
      "Epoch 4/10\n",
      "\u001B[1m13634/13634\u001B[0m \u001B[32m━━━━━━━━━━━━━━━━━━━━\u001B[0m\u001B[37m\u001B[0m \u001B[1m27s\u001B[0m 2ms/step - loss: 127890504.0000 - mae: 7186.0908 - val_loss: 132732672.0000 - val_mae: 7112.2183\n",
      "Epoch 5/10\n",
      "\u001B[1m13634/13634\u001B[0m \u001B[32m━━━━━━━━━━━━━━━━━━━━\u001B[0m\u001B[37m\u001B[0m \u001B[1m28s\u001B[0m 2ms/step - loss: 128675280.0000 - mae: 7163.5713 - val_loss: 131534696.0000 - val_mae: 7195.4888\n",
      "Epoch 6/10\n",
      "\u001B[1m13634/13634\u001B[0m \u001B[32m━━━━━━━━━━━━━━━━━━━━\u001B[0m\u001B[37m\u001B[0m \u001B[1m27s\u001B[0m 2ms/step - loss: 128642840.0000 - mae: 7104.0352 - val_loss: 130838944.0000 - val_mae: 7201.7446\n",
      "Epoch 7/10\n",
      "\u001B[1m13634/13634\u001B[0m \u001B[32m━━━━━━━━━━━━━━━━━━━━\u001B[0m\u001B[37m\u001B[0m \u001B[1m28s\u001B[0m 2ms/step - loss: 125425472.0000 - mae: 7072.3110 - val_loss: 130675584.0000 - val_mae: 7158.9932\n",
      "Epoch 8/10\n",
      "\u001B[1m13634/13634\u001B[0m \u001B[32m━━━━━━━━━━━━━━━━━━━━\u001B[0m\u001B[37m\u001B[0m \u001B[1m28s\u001B[0m 2ms/step - loss: 124190632.0000 - mae: 7019.1880 - val_loss: 130147832.0000 - val_mae: 6917.4346\n",
      "Epoch 9/10\n",
      "\u001B[1m13634/13634\u001B[0m \u001B[32m━━━━━━━━━━━━━━━━━━━━\u001B[0m\u001B[37m\u001B[0m \u001B[1m27s\u001B[0m 2ms/step - loss: 123507720.0000 - mae: 7013.3374 - val_loss: 128631288.0000 - val_mae: 7037.9956\n",
      "Epoch 10/10\n",
      "\u001B[1m13634/13634\u001B[0m \u001B[32m━━━━━━━━━━━━━━━━━━━━\u001B[0m\u001B[37m\u001B[0m \u001B[1m28s\u001B[0m 2ms/step - loss: 124444992.0000 - mae: 6974.7119 - val_loss: 128454696.0000 - val_mae: 6960.9331\n"
     ]
    },
    {
     "name": "stderr",
     "output_type": "stream",
     "text": [
      "[I 2025-02-05 20:25:17,782] Trial 2 finished with value: 128454696.0 and parameters: {'units': 96, 'learning_rate': 0.001}. Best is trial 1 with value: 128396768.0.\n"
     ]
    },
    {
     "name": "stdout",
     "output_type": "stream",
     "text": [
      "Epoch 1/10\n",
      "\u001B[1m13634/13634\u001B[0m \u001B[32m━━━━━━━━━━━━━━━━━━━━\u001B[0m\u001B[37m\u001B[0m \u001B[1m30s\u001B[0m 2ms/step - loss: 1637835648.0000 - mae: 11904.5283 - val_loss: 154848272.0000 - val_mae: 7649.9292\n",
      "Epoch 2/10\n",
      "\u001B[1m13634/13634\u001B[0m \u001B[32m━━━━━━━━━━━━━━━━━━━━\u001B[0m\u001B[37m\u001B[0m \u001B[1m29s\u001B[0m 2ms/step - loss: 162874384.0000 - mae: 8453.1641 - val_loss: 190474624.0000 - val_mae: 8161.9180\n",
      "Epoch 3/10\n",
      "\u001B[1m13634/13634\u001B[0m \u001B[32m━━━━━━━━━━━━━━━━━━━━\u001B[0m\u001B[37m\u001B[0m \u001B[1m44s\u001B[0m 2ms/step - loss: 165834000.0000 - mae: 8426.9707 - val_loss: 152636272.0000 - val_mae: 7923.3823\n",
      "Epoch 4/10\n",
      "\u001B[1m13634/13634\u001B[0m \u001B[32m━━━━━━━━━━━━━━━━━━━━\u001B[0m\u001B[37m\u001B[0m \u001B[1m29s\u001B[0m 2ms/step - loss: 165233408.0000 - mae: 8376.7881 - val_loss: 153610208.0000 - val_mae: 8079.2231\n",
      "Epoch 5/10\n",
      "\u001B[1m13634/13634\u001B[0m \u001B[32m━━━━━━━━━━━━━━━━━━━━\u001B[0m\u001B[37m\u001B[0m \u001B[1m30s\u001B[0m 2ms/step - loss: 158526608.0000 - mae: 8331.8965 - val_loss: 152838784.0000 - val_mae: 7816.2646\n",
      "Epoch 6/10\n",
      "\u001B[1m13634/13634\u001B[0m \u001B[32m━━━━━━━━━━━━━━━━━━━━\u001B[0m\u001B[37m\u001B[0m \u001B[1m40s\u001B[0m 2ms/step - loss: 163300912.0000 - mae: 8363.8984 - val_loss: 211811216.0000 - val_mae: 8793.9717\n",
      "Epoch 7/10\n",
      "\u001B[1m13634/13634\u001B[0m \u001B[32m━━━━━━━━━━━━━━━━━━━━\u001B[0m\u001B[37m\u001B[0m \u001B[1m29s\u001B[0m 2ms/step - loss: 163187920.0000 - mae: 8365.8975 - val_loss: 152231680.0000 - val_mae: 7774.0049\n",
      "Epoch 8/10\n",
      "\u001B[1m13634/13634\u001B[0m \u001B[32m━━━━━━━━━━━━━━━━━━━━\u001B[0m\u001B[37m\u001B[0m \u001B[1m28s\u001B[0m 2ms/step - loss: 158741008.0000 - mae: 8279.0225 - val_loss: 164217472.0000 - val_mae: 8703.5742\n",
      "Epoch 9/10\n",
      "\u001B[1m13634/13634\u001B[0m \u001B[32m━━━━━━━━━━━━━━━━━━━━\u001B[0m\u001B[37m\u001B[0m \u001B[1m29s\u001B[0m 2ms/step - loss: 159057824.0000 - mae: 8296.3232 - val_loss: 176048960.0000 - val_mae: 7814.4229\n",
      "Epoch 10/10\n",
      "\u001B[1m13634/13634\u001B[0m \u001B[32m━━━━━━━━━━━━━━━━━━━━\u001B[0m\u001B[37m\u001B[0m \u001B[1m40s\u001B[0m 2ms/step - loss: 163240848.0000 - mae: 8354.9570 - val_loss: 153334592.0000 - val_mae: 7954.0098\n"
     ]
    },
    {
     "name": "stderr",
     "output_type": "stream",
     "text": [
      "[I 2025-02-05 20:30:45,557] Trial 3 finished with value: 153334592.0 and parameters: {'units': 352, 'learning_rate': 0.1}. Best is trial 1 with value: 128396768.0.\n"
     ]
    },
    {
     "name": "stdout",
     "output_type": "stream",
     "text": [
      "Epoch 1/10\n",
      "\u001B[1m13634/13634\u001B[0m \u001B[32m━━━━━━━━━━━━━━━━━━━━\u001B[0m\u001B[37m\u001B[0m \u001B[1m29s\u001B[0m 2ms/step - loss: 863134784.0000 - mae: 9960.5947 - val_loss: 157588752.0000 - val_mae: 8294.9482\n",
      "Epoch 2/10\n",
      "\u001B[1m13634/13634\u001B[0m \u001B[32m━━━━━━━━━━━━━━━━━━━━\u001B[0m\u001B[37m\u001B[0m \u001B[1m28s\u001B[0m 2ms/step - loss: 160658064.0000 - mae: 8371.2070 - val_loss: 171518912.0000 - val_mae: 7869.4790\n",
      "Epoch 3/10\n",
      "\u001B[1m13634/13634\u001B[0m \u001B[32m━━━━━━━━━━━━━━━━━━━━\u001B[0m\u001B[37m\u001B[0m \u001B[1m29s\u001B[0m 2ms/step - loss: 166371424.0000 - mae: 8406.3994 - val_loss: 171617232.0000 - val_mae: 8044.1338\n",
      "Epoch 4/10\n",
      "\u001B[1m13634/13634\u001B[0m \u001B[32m━━━━━━━━━━━━━━━━━━━━\u001B[0m\u001B[37m\u001B[0m \u001B[1m41s\u001B[0m 2ms/step - loss: 160532800.0000 - mae: 8344.7549 - val_loss: 155944960.0000 - val_mae: 7579.4287\n",
      "Epoch 5/10\n",
      "\u001B[1m13634/13634\u001B[0m \u001B[32m━━━━━━━━━━━━━━━━━━━━\u001B[0m\u001B[37m\u001B[0m \u001B[1m40s\u001B[0m 2ms/step - loss: 161909008.0000 - mae: 8306.4609 - val_loss: 169669168.0000 - val_mae: 9207.7949\n",
      "Epoch 6/10\n",
      "\u001B[1m13634/13634\u001B[0m \u001B[32m━━━━━━━━━━━━━━━━━━━━\u001B[0m\u001B[37m\u001B[0m \u001B[1m29s\u001B[0m 2ms/step - loss: 163839888.0000 - mae: 8354.6377 - val_loss: 181130352.0000 - val_mae: 9737.7402\n",
      "Epoch 7/10\n",
      "\u001B[1m13634/13634\u001B[0m \u001B[32m━━━━━━━━━━━━━━━━━━━━\u001B[0m\u001B[37m\u001B[0m \u001B[1m28s\u001B[0m 2ms/step - loss: 165986896.0000 - mae: 8403.7832 - val_loss: 179003856.0000 - val_mae: 7849.9849\n",
      "Epoch 8/10\n",
      "\u001B[1m13634/13634\u001B[0m \u001B[32m━━━━━━━━━━━━━━━━━━━━\u001B[0m\u001B[37m\u001B[0m \u001B[1m28s\u001B[0m 2ms/step - loss: 158303904.0000 - mae: 8299.8350 - val_loss: 169240032.0000 - val_mae: 7639.9419\n",
      "Epoch 9/10\n",
      "\u001B[1m13634/13634\u001B[0m \u001B[32m━━━━━━━━━━━━━━━━━━━━\u001B[0m\u001B[37m\u001B[0m \u001B[1m29s\u001B[0m 2ms/step - loss: 158718976.0000 - mae: 8323.7041 - val_loss: 153769136.0000 - val_mae: 7860.6489\n",
      "Epoch 10/10\n",
      "\u001B[1m13634/13634\u001B[0m \u001B[32m━━━━━━━━━━━━━━━━━━━━\u001B[0m\u001B[37m\u001B[0m \u001B[1m44s\u001B[0m 2ms/step - loss: 166269424.0000 - mae: 8389.4297 - val_loss: 161963072.0000 - val_mae: 7638.2573\n"
     ]
    },
    {
     "name": "stderr",
     "output_type": "stream",
     "text": [
      "[I 2025-02-05 20:36:09,074] Trial 4 finished with value: 161963072.0 and parameters: {'units': 288, 'learning_rate': 0.1}. Best is trial 1 with value: 128396768.0.\n"
     ]
    },
    {
     "name": "stdout",
     "output_type": "stream",
     "text": [
      "Best hyperparameters: {'units': 96, 'learning_rate': 0.001}\n"
     ]
    }
   ],
   "execution_count": 30
  },
  {
   "metadata": {
    "jupyter": {
     "is_executing": true
    },
    "ExecuteTime": {
     "start_time": "2025-02-05T20:01:45.200923Z"
    }
   },
   "cell_type": "code",
   "source": [
    "best_params = study.best_params  # Obtener los mejores hiperparámetros encontrados\n",
    "\n",
    "# Crear y entrenar el mejor modelo\n",
    "best_model = Sequential([\n",
    "    Input(shape=(X_train_split.shape[1],)), # Definir forma de la entrada\n",
    "    Dense(units=best_params['units'], activation='relu'),\n",
    "    Dense(1, activation='linear')  # Asegúrate de que la activación final sea adecuada\n",
    "])\n",
    "\n",
    "best_model.compile(\n",
    "    optimizer=tf.keras.optimizers.Adam(learning_rate=best_params['learning_rate']),\n",
    "    loss='mean_squared_error',\n",
    "    metrics=['mae']\n",
    ")\n",
    "\n",
    "best_model.fit(X_train_split, y_train_split, epochs=10, validation_split=0.2, verbose=1)"
   ],
   "id": "53cc7c2b62427d8f",
   "outputs": [
    {
     "name": "stdout",
     "output_type": "stream",
     "text": [
      "Epoch 1/50\n",
      "\u001B[1m13634/13634\u001B[0m \u001B[32m━━━━━━━━━━━━━━━━━━━━\u001B[0m\u001B[37m\u001B[0m \u001B[1m36s\u001B[0m 2ms/step - loss: 203031856.0000 - mae: 8876.9248 - val_loss: 138461408.0000 - val_mae: 7236.1997\n",
      "Epoch 2/50\n",
      "\u001B[1m13634/13634\u001B[0m \u001B[32m━━━━━━━━━━━━━━━━━━━━\u001B[0m\u001B[37m\u001B[0m \u001B[1m23s\u001B[0m 2ms/step - loss: 131138816.0000 - mae: 7475.9429 - val_loss: 136825056.0000 - val_mae: 7384.2090\n",
      "Epoch 3/50\n",
      "\u001B[1m13634/13634\u001B[0m \u001B[32m━━━━━━━━━━━━━━━━━━━━\u001B[0m\u001B[37m\u001B[0m \u001B[1m22s\u001B[0m 2ms/step - loss: 131723064.0000 - mae: 7360.1284 - val_loss: 137059808.0000 - val_mae: 7583.0845\n",
      "Epoch 4/50\n",
      "\u001B[1m13634/13634\u001B[0m \u001B[32m━━━━━━━━━━━━━━━━━━━━\u001B[0m\u001B[37m\u001B[0m \u001B[1m22s\u001B[0m 2ms/step - loss: 133429424.0000 - mae: 7274.9775 - val_loss: 135703344.0000 - val_mae: 7493.9937\n",
      "Epoch 5/50\n",
      "\u001B[1m13634/13634\u001B[0m \u001B[32m━━━━━━━━━━━━━━━━━━━━\u001B[0m\u001B[37m\u001B[0m \u001B[1m22s\u001B[0m 2ms/step - loss: 128725984.0000 - mae: 7123.7729 - val_loss: 132282584.0000 - val_mae: 6913.5996\n",
      "Epoch 6/50\n",
      "\u001B[1m13634/13634\u001B[0m \u001B[32m━━━━━━━━━━━━━━━━━━━━\u001B[0m\u001B[37m\u001B[0m \u001B[1m22s\u001B[0m 2ms/step - loss: 126034504.0000 - mae: 7071.1016 - val_loss: 130834072.0000 - val_mae: 7109.2324\n",
      "Epoch 7/50\n",
      "\u001B[1m13634/13634\u001B[0m \u001B[32m━━━━━━━━━━━━━━━━━━━━\u001B[0m\u001B[37m\u001B[0m \u001B[1m22s\u001B[0m 2ms/step - loss: 124825488.0000 - mae: 7026.3589 - val_loss: 130286344.0000 - val_mae: 6809.3594\n",
      "Epoch 8/50\n",
      "\u001B[1m13634/13634\u001B[0m \u001B[32m━━━━━━━━━━━━━━━━━━━━\u001B[0m\u001B[37m\u001B[0m \u001B[1m41s\u001B[0m 2ms/step - loss: 128257480.0000 - mae: 7005.2324 - val_loss: 132398448.0000 - val_mae: 7342.2549\n",
      "Epoch 9/50\n",
      "\u001B[1m13634/13634\u001B[0m \u001B[32m━━━━━━━━━━━━━━━━━━━━\u001B[0m\u001B[37m\u001B[0m \u001B[1m299s\u001B[0m 22ms/step - loss: 125519576.0000 - mae: 6982.8687 - val_loss: 129154008.0000 - val_mae: 7107.0708\n",
      "Epoch 10/50\n",
      "\u001B[1m 1244/13634\u001B[0m \u001B[32m━\u001B[0m\u001B[37m━━━━━━━━━━━━━━━━━━━\u001B[0m \u001B[1m19s\u001B[0m 2ms/step - loss: 114413088.0000 - mae: 6892.1650"
     ]
    }
   ],
   "execution_count": null
  },
  {
   "metadata": {},
   "cell_type": "code",
   "outputs": [],
   "execution_count": null,
   "source": [
    "loss, accuracy = best_model.evaluate(X_test, y_test)\n",
    "print(f\"Pérdida: {loss}, Precisión: {accuracy}\")\n",
    "# Pérdida\n",
    "plt.plot(history.history['loss'], label='Pérdida (entrenamiento)')\n",
    "plt.plot(history.history['val_loss'], label='Pérdida (validación)')\n",
    "plt.xlabel('Épocas')\n",
    "plt.ylabel('Pérdida')\n",
    "plt.legend()\n",
    "plt.show()\n",
    "# Precisión\n",
    "plt.plot(history.history['mae'], label='Precisión(entrenamiento)')\n",
    "plt.plot(history.history['val_mae'], label='Precisión(validación)')\n",
    "plt.xlabel('Épocas')\n",
    "plt.ylabel('Precisión')\n",
    "plt.legend()\n",
    "plt.show()"
   ],
   "id": "ea91959c15ae8e5"
  }
 ],
 "metadata": {
  "kernelspec": {
   "display_name": "Python 3",
   "language": "python",
   "name": "python3"
  },
  "language_info": {
   "codemirror_mode": {
    "name": "ipython",
    "version": 2
   },
   "file_extension": ".py",
   "mimetype": "text/x-python",
   "name": "python",
   "nbconvert_exporter": "python",
   "pygments_lexer": "ipython2",
   "version": "2.7.6"
  }
 },
 "nbformat": 4,
 "nbformat_minor": 5
}

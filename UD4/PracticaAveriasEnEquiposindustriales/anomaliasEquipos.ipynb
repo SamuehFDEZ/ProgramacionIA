{
 "cells": [
  {
   "metadata": {},
   "cell_type": "markdown",
   "source": "# Monitorización de equipos industriales para detección de fallos\n",
   "id": "2463d984c13b4067"
  },
  {
   "metadata": {},
   "cell_type": "markdown",
   "source": "### 1. Importación de librerias",
   "id": "d4c4e956ebe54426"
  },
  {
   "cell_type": "code",
   "id": "initial_id",
   "metadata": {
    "collapsed": true,
    "ExecuteTime": {
     "end_time": "2025-02-05T17:02:56.908758Z",
     "start_time": "2025-02-05T17:02:56.902544Z"
    }
   },
   "source": [
    "import pandas as pd\n",
    "import seaborn as sns\n",
    "import matplotlib.pyplot as plt\n",
    "from sklearn.preprocessing import OneHotEncoder, StandardScaler\n",
    "from sklearn.model_selection import train_test_split\n",
    "from sklearn.metrics import confusion_matrix, classification_report\n",
    "import tensorflow as tf\n",
    "from tensorflow.keras.models import Sequential\n",
    "from tensorflow.keras.layers import Dense, Input, Dropout\n",
    "from keras.callbacks import EarlyStopping\n",
    "from keras_tuner import RandomSearch\n",
    "from imblearn.over_sampling import SMOTE\n",
    "import optuna"
   ],
   "outputs": [],
   "execution_count": 436
  },
  {
   "metadata": {},
   "cell_type": "markdown",
   "source": "### 2. Carga del csv",
   "id": "90eaf66e3898633d"
  },
  {
   "metadata": {
    "ExecuteTime": {
     "end_time": "2025-02-05T17:02:56.955759Z",
     "start_time": "2025-02-05T17:02:56.920768Z"
    }
   },
   "cell_type": "code",
   "source": [
    "df = pd.read_csv(\"equipment_anomaly_data.csv\")\n",
    "df.head()"
   ],
   "id": "4ca2216b5e931f06",
   "outputs": [
    {
     "data": {
      "text/plain": [
       "   temperature   pressure  vibration   humidity   equipment       location  \\\n",
       "0    58.180180  25.029278   0.606516  45.694907     Turbine        Atlanta   \n",
       "1    75.740712  22.954018   2.338095  41.867407  Compressor        Chicago   \n",
       "2    71.358594  27.276830   1.389198  58.954409     Turbine  San Francisco   \n",
       "3    71.616985  32.242921   1.770690  40.565138        Pump        Atlanta   \n",
       "4    66.506832  45.197471   0.345398  43.253795        Pump       New York   \n",
       "\n",
       "   faulty  \n",
       "0     0.0  \n",
       "1     0.0  \n",
       "2     0.0  \n",
       "3     0.0  \n",
       "4     0.0  "
      ],
      "text/html": [
       "<div>\n",
       "<style scoped>\n",
       "    .dataframe tbody tr th:only-of-type {\n",
       "        vertical-align: middle;\n",
       "    }\n",
       "\n",
       "    .dataframe tbody tr th {\n",
       "        vertical-align: top;\n",
       "    }\n",
       "\n",
       "    .dataframe thead th {\n",
       "        text-align: right;\n",
       "    }\n",
       "</style>\n",
       "<table border=\"1\" class=\"dataframe\">\n",
       "  <thead>\n",
       "    <tr style=\"text-align: right;\">\n",
       "      <th></th>\n",
       "      <th>temperature</th>\n",
       "      <th>pressure</th>\n",
       "      <th>vibration</th>\n",
       "      <th>humidity</th>\n",
       "      <th>equipment</th>\n",
       "      <th>location</th>\n",
       "      <th>faulty</th>\n",
       "    </tr>\n",
       "  </thead>\n",
       "  <tbody>\n",
       "    <tr>\n",
       "      <th>0</th>\n",
       "      <td>58.180180</td>\n",
       "      <td>25.029278</td>\n",
       "      <td>0.606516</td>\n",
       "      <td>45.694907</td>\n",
       "      <td>Turbine</td>\n",
       "      <td>Atlanta</td>\n",
       "      <td>0.0</td>\n",
       "    </tr>\n",
       "    <tr>\n",
       "      <th>1</th>\n",
       "      <td>75.740712</td>\n",
       "      <td>22.954018</td>\n",
       "      <td>2.338095</td>\n",
       "      <td>41.867407</td>\n",
       "      <td>Compressor</td>\n",
       "      <td>Chicago</td>\n",
       "      <td>0.0</td>\n",
       "    </tr>\n",
       "    <tr>\n",
       "      <th>2</th>\n",
       "      <td>71.358594</td>\n",
       "      <td>27.276830</td>\n",
       "      <td>1.389198</td>\n",
       "      <td>58.954409</td>\n",
       "      <td>Turbine</td>\n",
       "      <td>San Francisco</td>\n",
       "      <td>0.0</td>\n",
       "    </tr>\n",
       "    <tr>\n",
       "      <th>3</th>\n",
       "      <td>71.616985</td>\n",
       "      <td>32.242921</td>\n",
       "      <td>1.770690</td>\n",
       "      <td>40.565138</td>\n",
       "      <td>Pump</td>\n",
       "      <td>Atlanta</td>\n",
       "      <td>0.0</td>\n",
       "    </tr>\n",
       "    <tr>\n",
       "      <th>4</th>\n",
       "      <td>66.506832</td>\n",
       "      <td>45.197471</td>\n",
       "      <td>0.345398</td>\n",
       "      <td>43.253795</td>\n",
       "      <td>Pump</td>\n",
       "      <td>New York</td>\n",
       "      <td>0.0</td>\n",
       "    </tr>\n",
       "  </tbody>\n",
       "</table>\n",
       "</div>"
      ]
     },
     "execution_count": 437,
     "metadata": {},
     "output_type": "execute_result"
    }
   ],
   "execution_count": 437
  },
  {
   "metadata": {},
   "cell_type": "markdown",
   "source": "### 3. Detección de anomalías",
   "id": "4d5a3043cdc1ad81"
  },
  {
   "metadata": {
    "ExecuteTime": {
     "end_time": "2025-02-05T17:02:57.086321Z",
     "start_time": "2025-02-05T17:02:57.065520Z"
    }
   },
   "cell_type": "code",
   "source": "df.info()",
   "id": "a492f39584e8e70c",
   "outputs": [
    {
     "name": "stdout",
     "output_type": "stream",
     "text": [
      "<class 'pandas.core.frame.DataFrame'>\n",
      "RangeIndex: 7672 entries, 0 to 7671\n",
      "Data columns (total 7 columns):\n",
      " #   Column       Non-Null Count  Dtype  \n",
      "---  ------       --------------  -----  \n",
      " 0   temperature  7672 non-null   float64\n",
      " 1   pressure     7672 non-null   float64\n",
      " 2   vibration    7672 non-null   float64\n",
      " 3   humidity     7672 non-null   float64\n",
      " 4   equipment    7672 non-null   object \n",
      " 5   location     7672 non-null   object \n",
      " 6   faulty       7672 non-null   float64\n",
      "dtypes: float64(5), object(2)\n",
      "memory usage: 419.7+ KB\n"
     ]
    }
   ],
   "execution_count": 438
  },
  {
   "metadata": {
    "ExecuteTime": {
     "end_time": "2025-02-05T17:02:57.216425Z",
     "start_time": "2025-02-05T17:02:57.178756Z"
    }
   },
   "cell_type": "code",
   "source": "df.describe()",
   "id": "f79d26a804071e2c",
   "outputs": [
    {
     "data": {
      "text/plain": [
       "       temperature     pressure    vibration     humidity       faulty\n",
       "count  7672.000000  7672.000000  7672.000000  7672.000000  7672.000000\n",
       "mean     70.922478    35.738048     1.611809    50.016574     0.099974\n",
       "std      16.200059    10.381593     0.728560    11.841479     0.299985\n",
       "min      10.269385     3.620798    -0.428188    10.215077     0.000000\n",
       "25%      62.777057    29.485682     1.170906    42.612817     0.000000\n",
       "50%      70.156900    35.227544     1.533113    50.024744     0.000000\n",
       "75%      77.568387    41.159913     1.924700    57.340513     0.000000\n",
       "max     149.690420    79.887734     4.990537    89.984718     1.000000"
      ],
      "text/html": [
       "<div>\n",
       "<style scoped>\n",
       "    .dataframe tbody tr th:only-of-type {\n",
       "        vertical-align: middle;\n",
       "    }\n",
       "\n",
       "    .dataframe tbody tr th {\n",
       "        vertical-align: top;\n",
       "    }\n",
       "\n",
       "    .dataframe thead th {\n",
       "        text-align: right;\n",
       "    }\n",
       "</style>\n",
       "<table border=\"1\" class=\"dataframe\">\n",
       "  <thead>\n",
       "    <tr style=\"text-align: right;\">\n",
       "      <th></th>\n",
       "      <th>temperature</th>\n",
       "      <th>pressure</th>\n",
       "      <th>vibration</th>\n",
       "      <th>humidity</th>\n",
       "      <th>faulty</th>\n",
       "    </tr>\n",
       "  </thead>\n",
       "  <tbody>\n",
       "    <tr>\n",
       "      <th>count</th>\n",
       "      <td>7672.000000</td>\n",
       "      <td>7672.000000</td>\n",
       "      <td>7672.000000</td>\n",
       "      <td>7672.000000</td>\n",
       "      <td>7672.000000</td>\n",
       "    </tr>\n",
       "    <tr>\n",
       "      <th>mean</th>\n",
       "      <td>70.922478</td>\n",
       "      <td>35.738048</td>\n",
       "      <td>1.611809</td>\n",
       "      <td>50.016574</td>\n",
       "      <td>0.099974</td>\n",
       "    </tr>\n",
       "    <tr>\n",
       "      <th>std</th>\n",
       "      <td>16.200059</td>\n",
       "      <td>10.381593</td>\n",
       "      <td>0.728560</td>\n",
       "      <td>11.841479</td>\n",
       "      <td>0.299985</td>\n",
       "    </tr>\n",
       "    <tr>\n",
       "      <th>min</th>\n",
       "      <td>10.269385</td>\n",
       "      <td>3.620798</td>\n",
       "      <td>-0.428188</td>\n",
       "      <td>10.215077</td>\n",
       "      <td>0.000000</td>\n",
       "    </tr>\n",
       "    <tr>\n",
       "      <th>25%</th>\n",
       "      <td>62.777057</td>\n",
       "      <td>29.485682</td>\n",
       "      <td>1.170906</td>\n",
       "      <td>42.612817</td>\n",
       "      <td>0.000000</td>\n",
       "    </tr>\n",
       "    <tr>\n",
       "      <th>50%</th>\n",
       "      <td>70.156900</td>\n",
       "      <td>35.227544</td>\n",
       "      <td>1.533113</td>\n",
       "      <td>50.024744</td>\n",
       "      <td>0.000000</td>\n",
       "    </tr>\n",
       "    <tr>\n",
       "      <th>75%</th>\n",
       "      <td>77.568387</td>\n",
       "      <td>41.159913</td>\n",
       "      <td>1.924700</td>\n",
       "      <td>57.340513</td>\n",
       "      <td>0.000000</td>\n",
       "    </tr>\n",
       "    <tr>\n",
       "      <th>max</th>\n",
       "      <td>149.690420</td>\n",
       "      <td>79.887734</td>\n",
       "      <td>4.990537</td>\n",
       "      <td>89.984718</td>\n",
       "      <td>1.000000</td>\n",
       "    </tr>\n",
       "  </tbody>\n",
       "</table>\n",
       "</div>"
      ]
     },
     "execution_count": 439,
     "metadata": {},
     "output_type": "execute_result"
    }
   ],
   "execution_count": 439
  },
  {
   "metadata": {
    "ExecuteTime": {
     "end_time": "2025-02-05T17:02:57.363803Z",
     "start_time": "2025-02-05T17:02:57.348110Z"
    }
   },
   "cell_type": "code",
   "source": "df.isnull().sum()",
   "id": "488c2cb06dabb412",
   "outputs": [
    {
     "data": {
      "text/plain": [
       "temperature    0\n",
       "pressure       0\n",
       "vibration      0\n",
       "humidity       0\n",
       "equipment      0\n",
       "location       0\n",
       "faulty         0\n",
       "dtype: int64"
      ]
     },
     "execution_count": 440,
     "metadata": {},
     "output_type": "execute_result"
    }
   ],
   "execution_count": 440
  },
  {
   "metadata": {
    "ExecuteTime": {
     "end_time": "2025-02-05T17:02:57.540766Z",
     "start_time": "2025-02-05T17:02:57.520422Z"
    }
   },
   "cell_type": "code",
   "source": "df.duplicated()",
   "id": "a6cb82df051f19ad",
   "outputs": [
    {
     "data": {
      "text/plain": [
       "0       False\n",
       "1       False\n",
       "2       False\n",
       "3       False\n",
       "4       False\n",
       "        ...  \n",
       "7667    False\n",
       "7668    False\n",
       "7669    False\n",
       "7670    False\n",
       "7671    False\n",
       "Length: 7672, dtype: bool"
      ]
     },
     "execution_count": 441,
     "metadata": {},
     "output_type": "execute_result"
    }
   ],
   "execution_count": 441
  },
  {
   "metadata": {
    "ExecuteTime": {
     "end_time": "2025-02-05T17:02:57.739688Z",
     "start_time": "2025-02-05T17:02:57.732741Z"
    }
   },
   "cell_type": "code",
   "source": "df.columns",
   "id": "18bbd2bccca6bb47",
   "outputs": [
    {
     "data": {
      "text/plain": [
       "Index(['temperature', 'pressure', 'vibration', 'humidity', 'equipment',\n",
       "       'location', 'faulty'],\n",
       "      dtype='object')"
      ]
     },
     "execution_count": 442,
     "metadata": {},
     "output_type": "execute_result"
    }
   ],
   "execution_count": 442
  },
  {
   "metadata": {},
   "cell_type": "markdown",
   "source": "### 4. Visualización de datos",
   "id": "196e76361790acd5"
  },
  {
   "metadata": {
    "ExecuteTime": {
     "end_time": "2025-02-05T17:02:59.666817Z",
     "start_time": "2025-02-05T17:02:57.917961Z"
    }
   },
   "cell_type": "code",
   "source": [
    "categorias = ['temperature', 'pressure', 'vibration', 'humidity', 'equipment','location', 'faulty']\n",
    "fig, axes = plt.subplots(nrows=2, ncols=4, figsize=(20, 15))\n",
    "axes = axes.flatten()\n",
    "for i, var in enumerate(categorias):\n",
    " axes[i].hist(df[var])\n",
    " axes[i].set_title(f'Distribución de {var}')\n",
    " axes[i].set_ylabel('Valores')\n",
    "for j in range(len(categorias), len(axes)):\n",
    " axes[j].axis('off')\n",
    "plt.tight_layout()\n",
    "plt.show()"
   ],
   "id": "e3596ec6a5f8041b",
   "outputs": [
    {
     "data": {
      "text/plain": [
       "<Figure size 2000x1500 with 8 Axes>"
      ],
      "image/png": "[encoded data removed]"
     },
     "metadata": {},
     "output_type": "display_data"
    }
   ],
   "execution_count": 443
  },
  {
   "metadata": {
    "ExecuteTime": {
     "end_time": "2025-02-05T17:02:59.689716Z",
     "start_time": "2025-02-05T17:02:59.680969Z"
    }
   },
   "cell_type": "code",
   "source": "df['equipment'].value_counts()",
   "id": "3cf29aa94434922e",
   "outputs": [
    {
     "data": {
      "text/plain": [
       "equipment\n",
       "Compressor    2573\n",
       "Turbine       2565\n",
       "Pump          2534\n",
       "Name: count, dtype: int64"
      ]
     },
     "execution_count": 444,
     "metadata": {},
     "output_type": "execute_result"
    }
   ],
   "execution_count": 444
  },
  {
   "metadata": {
    "ExecuteTime": {
     "end_time": "2025-02-05T17:02:59.837006Z",
     "start_time": "2025-02-05T17:02:59.817235Z"
    }
   },
   "cell_type": "code",
   "source": "df['location'].value_counts()",
   "id": "ecd2eddfc8804008",
   "outputs": [
    {
     "data": {
      "text/plain": [
       "location\n",
       "Atlanta          1564\n",
       "Chicago          1553\n",
       "Houston          1548\n",
       "New York         1526\n",
       "San Francisco    1481\n",
       "Name: count, dtype: int64"
      ]
     },
     "execution_count": 445,
     "metadata": {},
     "output_type": "execute_result"
    }
   ],
   "execution_count": 445
  },
  {
   "metadata": {
    "ExecuteTime": {
     "end_time": "2025-02-05T17:03:43.651772Z",
     "start_time": "2025-02-05T17:03:43.638116Z"
    }
   },
   "cell_type": "code",
   "source": "df['faulty'].value_counts()",
   "id": "ae622f3567ee56b6",
   "outputs": [
    {
     "data": {
      "text/plain": [
       "faulty\n",
       "0.0    6905\n",
       "1.0     767\n",
       "Name: count, dtype: int64"
      ]
     },
     "execution_count": 446,
     "metadata": {},
     "output_type": "execute_result"
    }
   ],
   "execution_count": 446
  },
  {
   "metadata": {},
   "cell_type": "markdown",
   "source": "De acuerdo con la ingeniería de características realizaremos `OneHotEncoder` para `equipment` y para `location`, en el caso de `faulty` necesitaremos realizar resample porque hay demasiados defectuosos en comparación con los que no",
   "id": "5006378509744e1"
  },
  {
   "metadata": {},
   "cell_type": "markdown",
   "source": "### 5. Ingeniería de características",
   "id": "a9a3c3da2fbd67c3"
  },
  {
   "metadata": {
    "ExecuteTime": {
     "end_time": "2025-02-05T17:03:43.760943Z",
     "start_time": "2025-02-05T17:03:43.745172Z"
    }
   },
   "cell_type": "code",
   "source": [
    "# Instanciar OneHotEncoder\n",
    "encoder = OneHotEncoder(sparse_output=False)  # Crea un array en vez de una matriz\n",
    "\n",
    "# Aplicar el encoder a las columnas categóricas\n",
    "categoricas = ['location', 'equipment']\n",
    "valores = encoder.fit_transform(df[categoricas])\n",
    "\n",
    "# Crear un DataFrame con los valores codificados\n",
    "columnas_codificadas = encoder.get_feature_names_out(categoricas)\n",
    "df_codificado = pd.DataFrame(valores, columns=columnas_codificadas, index=df.index)\n",
    "\n",
    "# Concatenar el DataFrame original con las columnas codificadas\n",
    "df = pd.concat([df.drop(columns=categoricas, axis=1), df_codificado], axis=1)"
   ],
   "id": "29153a9abbfad498",
   "outputs": [],
   "execution_count": 447
  },
  {
   "metadata": {
    "ExecuteTime": {
     "end_time": "2025-02-05T17:03:43.899574Z",
     "start_time": "2025-02-05T17:03:43.876700Z"
    }
   },
   "cell_type": "code",
   "source": "df.head()",
   "id": "5bc7e5d7f1e08a3",
   "outputs": [
    {
     "data": {
      "text/plain": [
       "   temperature   pressure  vibration   humidity  faulty  location_Atlanta  \\\n",
       "0    58.180180  25.029278   0.606516  45.694907     0.0               1.0   \n",
       "1    75.740712  22.954018   2.338095  41.867407     0.0               0.0   \n",
       "2    71.358594  27.276830   1.389198  58.954409     0.0               0.0   \n",
       "3    71.616985  32.242921   1.770690  40.565138     0.0               1.0   \n",
       "4    66.506832  45.197471   0.345398  43.253795     0.0               0.0   \n",
       "\n",
       "   location_Chicago  location_Houston  location_New York  \\\n",
       "0               0.0               0.0                0.0   \n",
       "1               1.0               0.0                0.0   \n",
       "2               0.0               0.0                0.0   \n",
       "3               0.0               0.0                0.0   \n",
       "4               0.0               0.0                1.0   \n",
       "\n",
       "   location_San Francisco  equipment_Compressor  equipment_Pump  \\\n",
       "0                     0.0                   0.0             0.0   \n",
       "1                     0.0                   1.0             0.0   \n",
       "2                     1.0                   0.0             0.0   \n",
       "3                     0.0                   0.0             1.0   \n",
       "4                     0.0                   0.0             1.0   \n",
       "\n",
       "   equipment_Turbine  \n",
       "0                1.0  \n",
       "1                0.0  \n",
       "2                1.0  \n",
       "3                0.0  \n",
       "4                0.0  "
      ],
      "text/html": [
       "<div>\n",
       "<style scoped>\n",
       "    .dataframe tbody tr th:only-of-type {\n",
       "        vertical-align: middle;\n",
       "    }\n",
       "\n",
       "    .dataframe tbody tr th {\n",
       "        vertical-align: top;\n",
       "    }\n",
       "\n",
       "    .dataframe thead th {\n",
       "        text-align: right;\n",
       "    }\n",
       "</style>\n",
       "<table border=\"1\" class=\"dataframe\">\n",
       "  <thead>\n",
       "    <tr style=\"text-align: right;\">\n",
       "      <th></th>\n",
       "      <th>temperature</th>\n",
       "      <th>pressure</th>\n",
       "      <th>vibration</th>\n",
       "      <th>humidity</th>\n",
       "      <th>faulty</th>\n",
       "      <th>location_Atlanta</th>\n",
       "      <th>location_Chicago</th>\n",
       "      <th>location_Houston</th>\n",
       "      <th>location_New York</th>\n",
       "      <th>location_San Francisco</th>\n",
       "      <th>equipment_Compressor</th>\n",
       "      <th>equipment_Pump</th>\n",
       "      <th>equipment_Turbine</th>\n",
       "    </tr>\n",
       "  </thead>\n",
       "  <tbody>\n",
       "    <tr>\n",
       "      <th>0</th>\n",
       "      <td>58.180180</td>\n",
       "      <td>25.029278</td>\n",
       "      <td>0.606516</td>\n",
       "      <td>45.694907</td>\n",
       "      <td>0.0</td>\n",
       "      <td>1.0</td>\n",
       "      <td>0.0</td>\n",
       "      <td>0.0</td>\n",
       "      <td>0.0</td>\n",
       "      <td>0.0</td>\n",
       "      <td>0.0</td>\n",
       "      <td>0.0</td>\n",
       "      <td>1.0</td>\n",
       "    </tr>\n",
       "    <tr>\n",
       "      <th>1</th>\n",
       "      <td>75.740712</td>\n",
       "      <td>22.954018</td>\n",
       "      <td>2.338095</td>\n",
       "      <td>41.867407</td>\n",
       "      <td>0.0</td>\n",
       "      <td>0.0</td>\n",
       "      <td>1.0</td>\n",
       "      <td>0.0</td>\n",
       "      <td>0.0</td>\n",
       "      <td>0.0</td>\n",
       "      <td>1.0</td>\n",
       "      <td>0.0</td>\n",
       "      <td>0.0</td>\n",
       "    </tr>\n",
       "    <tr>\n",
       "      <th>2</th>\n",
       "      <td>71.358594</td>\n",
       "      <td>27.276830</td>\n",
       "      <td>1.389198</td>\n",
       "      <td>58.954409</td>\n",
       "      <td>0.0</td>\n",
       "      <td>0.0</td>\n",
       "      <td>0.0</td>\n",
       "      <td>0.0</td>\n",
       "      <td>0.0</td>\n",
       "      <td>1.0</td>\n",
       "      <td>0.0</td>\n",
       "      <td>0.0</td>\n",
       "      <td>1.0</td>\n",
       "    </tr>\n",
       "    <tr>\n",
       "      <th>3</th>\n",
       "      <td>71.616985</td>\n",
       "      <td>32.242921</td>\n",
       "      <td>1.770690</td>\n",
       "      <td>40.565138</td>\n",
       "      <td>0.0</td>\n",
       "      <td>1.0</td>\n",
       "      <td>0.0</td>\n",
       "      <td>0.0</td>\n",
       "      <td>0.0</td>\n",
       "      <td>0.0</td>\n",
       "      <td>0.0</td>\n",
       "      <td>1.0</td>\n",
       "      <td>0.0</td>\n",
       "    </tr>\n",
       "    <tr>\n",
       "      <th>4</th>\n",
       "      <td>66.506832</td>\n",
       "      <td>45.197471</td>\n",
       "      <td>0.345398</td>\n",
       "      <td>43.253795</td>\n",
       "      <td>0.0</td>\n",
       "      <td>0.0</td>\n",
       "      <td>0.0</td>\n",
       "      <td>0.0</td>\n",
       "      <td>1.0</td>\n",
       "      <td>0.0</td>\n",
       "      <td>0.0</td>\n",
       "      <td>1.0</td>\n",
       "      <td>0.0</td>\n",
       "    </tr>\n",
       "  </tbody>\n",
       "</table>\n",
       "</div>"
      ]
     },
     "execution_count": 448,
     "metadata": {},
     "output_type": "execute_result"
    }
   ],
   "execution_count": 448
  },
  {
   "metadata": {
    "ExecuteTime": {
     "end_time": "2025-02-05T17:03:44.066840Z",
     "start_time": "2025-02-05T17:03:44.055722Z"
    }
   },
   "cell_type": "code",
   "source": "df.shape",
   "id": "e34cf84eb9cc9677",
   "outputs": [
    {
     "data": {
      "text/plain": [
       "(7672, 13)"
      ]
     },
     "execution_count": 449,
     "metadata": {},
     "output_type": "execute_result"
    }
   ],
   "execution_count": 449
  },
  {
   "metadata": {
    "ExecuteTime": {
     "end_time": "2025-02-05T17:03:44.179777Z",
     "start_time": "2025-02-05T17:03:44.176047Z"
    }
   },
   "cell_type": "code",
   "source": [
    "# # Nos interesan los cuartiles del 25% y 75%\n",
    "# categorias = ['temperature', 'pressure', 'vibration', 'humidity']\n",
    "# Q1, Q3 = np.percentile(df['temperature'], [25, 75])\n",
    "# IQR = Q3 - Q1\n",
    "# outliers = []\n",
    "# for elemento in df['temperature']:\n",
    "#  if elemento < (Q1 - 1.5 * IQR) or elemento > (Q3 + 1.5 * IQR):\n",
    "#   outliers.append(elemento)\n",
    "# outliers"
   ],
   "id": "901f9490ec97abaf",
   "outputs": [],
   "execution_count": 450
  },
  {
   "metadata": {
    "ExecuteTime": {
     "end_time": "2025-02-05T17:03:44.325477Z",
     "start_time": "2025-02-05T17:03:44.320697Z"
    }
   },
   "cell_type": "code",
   "source": [
    "# df = df[~df['temperature'].isin(outliers)]\n",
    "# df.shape"
   ],
   "id": "f040850c917a3ee1",
   "outputs": [],
   "execution_count": 451
  },
  {
   "metadata": {
    "ExecuteTime": {
     "end_time": "2025-02-05T17:03:44.384161Z",
     "start_time": "2025-02-05T17:03:44.379502Z"
    }
   },
   "cell_type": "code",
   "source": [
    "# Q1, Q3 = np.percentile(df['pressure'], [25, 75])\n",
    "# IQR = Q3 - Q1\n",
    "# outliers2 = []\n",
    "# for elemento in df['pressure']:\n",
    "#  if elemento < (Q1 - 1.5 * IQR) or elemento > (Q3 + 1.5 * IQR):\n",
    "#   outliers2.append(elemento)\n",
    "# outliers2"
   ],
   "id": "6a0849fabd48e627",
   "outputs": [],
   "execution_count": 452
  },
  {
   "metadata": {
    "ExecuteTime": {
     "end_time": "2025-02-05T17:03:44.435326Z",
     "start_time": "2025-02-05T17:03:44.422495Z"
    }
   },
   "cell_type": "code",
   "source": [
    "# df = df[~df['pressure'].isin(outliers2)]\n",
    "# df.shape"
   ],
   "id": "f99f6bd6bc350ab6",
   "outputs": [],
   "execution_count": 453
  },
  {
   "metadata": {
    "ExecuteTime": {
     "end_time": "2025-02-05T17:03:44.556066Z",
     "start_time": "2025-02-05T17:03:44.547611Z"
    }
   },
   "cell_type": "code",
   "source": [
    "# Q1, Q3 = np.percentile(df['vibration'], [25, 75])\n",
    "# IQR = Q3 - Q1\n",
    "# outliers2 = []\n",
    "# for elemento in df['vibration']:\n",
    "#  if elemento < (Q1 - 1.5 * IQR) or elemento > (Q3 + 1.5 * IQR):\n",
    "#   outliers2.append(elemento)\n",
    "# outliers2"
   ],
   "id": "bde5fb1a4c6c545c",
   "outputs": [],
   "execution_count": 454
  },
  {
   "metadata": {
    "ExecuteTime": {
     "end_time": "2025-02-05T17:03:44.573857Z",
     "start_time": "2025-02-05T17:03:44.566078Z"
    }
   },
   "cell_type": "code",
   "source": [
    "# df = df[~df['vibration'].isin(outliers2)]\n",
    "# df.shape"
   ],
   "id": "a129d4ec634a403e",
   "outputs": [],
   "execution_count": 455
  },
  {
   "metadata": {
    "ExecuteTime": {
     "end_time": "2025-02-05T17:03:44.611343Z",
     "start_time": "2025-02-05T17:03:44.602393Z"
    }
   },
   "cell_type": "code",
   "source": [
    "# Q1, Q3 = np.percentile(df['humidity'], [25, 75])\n",
    "# IQR = Q3 - Q1\n",
    "# outliers2 = []\n",
    "# for elemento in df['humidity']:\n",
    "#  if elemento < (Q1 - 1.5 * IQR) or elemento > (Q3 + 1.5 * IQR):\n",
    "#   outliers2.append(elemento)\n",
    "# outliers2"
   ],
   "id": "81198a6cad69d221",
   "outputs": [],
   "execution_count": 456
  },
  {
   "metadata": {
    "ExecuteTime": {
     "end_time": "2025-02-05T17:03:44.652959Z",
     "start_time": "2025-02-05T17:03:44.642917Z"
    }
   },
   "cell_type": "code",
   "source": [
    "# df = df[~df['humidity'].isin(outliers2)]\n",
    "# df.shape"
   ],
   "id": "d1ae86bf4ecd0bb",
   "outputs": [],
   "execution_count": 457
  },
  {
   "metadata": {},
   "cell_type": "markdown",
   "source": "Aplicando el rango intercuartílico hemos eliminado los outliers de las variables numericas, pero si recordamos la visaulización del prinicpio hemos visto que la variable objetivo tiene muchos datos de la clase 0 y muy pocos de la 1, vamos a reajustar este inconveniente",
   "id": "217238131eda36f5"
  },
  {
   "metadata": {
    "ExecuteTime": {
     "end_time": "2025-02-05T17:03:44.767772Z",
     "start_time": "2025-02-05T17:03:44.760033Z"
    }
   },
   "cell_type": "code",
   "source": [
    "# # Supongamos que separamos clases mayoritaria y minoritaria\n",
    "# df_major = df[df['faulty'] == 0]\n",
    "# df_minor = df[df['faulty'] == 1]\n",
    "# # Ahora hacemos oversampling de la clase minoritaria\n",
    "# df_minor_oversampled = resample(df_minor,\n",
    "# replace=True,n_samples=len(df_major), random_state=42)\n",
    "# # Combinar las clases\n",
    "# df_balanced = pd.concat([df_major, df_minor_oversampled])"
   ],
   "id": "7bfe0da6217008b4",
   "outputs": [],
   "execution_count": 458
  },
  {
   "metadata": {
    "ExecuteTime": {
     "end_time": "2025-02-05T17:03:44.795839Z",
     "start_time": "2025-02-05T17:03:44.776130Z"
    }
   },
   "cell_type": "code",
   "source": "# plt.hist(df_balanced['faulty'])",
   "id": "54ef145c0ed51283",
   "outputs": [],
   "execution_count": 459
  },
  {
   "metadata": {},
   "cell_type": "markdown",
   "source": "Después de aplicar `resample` se puede apreciar que las clases están equilibradas, a continuación se procederá al entrenamiento del modelo",
   "id": "51cdccf1e96ef953"
  },
  {
   "metadata": {},
   "cell_type": "markdown",
   "source": "### 6. Entrenamiento del modelo",
   "id": "63f3721de9e765d8"
  },
  {
   "metadata": {},
   "cell_type": "markdown",
   "source": "Primero se escalará el dataframe ya que es de obligado cumplimiento para una red neuronal a diferencia de cualquier modelo de ML",
   "id": "7af03319d6ca4489"
  },
  {
   "metadata": {
    "ExecuteTime": {
     "end_time": "2025-02-05T17:03:44.861825Z",
     "start_time": "2025-02-05T17:03:44.835687Z"
    }
   },
   "cell_type": "code",
   "source": [
    "X = df.drop('faulty',axis=1)\n",
    "y = df['faulty']\n",
    "scaler = StandardScaler()\n",
    "X = scaler.fit_transform(X)\n",
    "X_train, X_test, y_train, y_test = train_test_split(X, y, test_size=0.2, random_state=42)"
   ],
   "id": "b75d3903739cb692",
   "outputs": [],
   "execution_count": 460
  },
  {
   "metadata": {},
   "cell_type": "markdown",
   "source": "Creamos la red neuronal con 3 capas ocultas, todas de activación `relu` y un `Dropout` del 0.5 y 0.3 respectivamente por la reducción de capas ocultas a medida que el entrenamiento avanza",
   "id": "e4bb420d98409ef8"
  },
  {
   "metadata": {
    "ExecuteTime": {
     "end_time": "2025-02-05T17:03:45.024182Z",
     "start_time": "2025-02-05T17:03:44.928678Z"
    }
   },
   "cell_type": "code",
   "source": [
    "# Creamos el modelo de red neuronal\n",
    "early_stopping = EarlyStopping(monitor='val_loss', patience=5)\n",
    "model = Sequential([\n",
    " Input(shape=(X_train.shape[1],)), # Definir forma de la entrada\n",
    "    Dense(32, activation='relu'), # 1a capa oculta\n",
    "    Dropout(0.5),\n",
    "    Dense(16, activation='relu'), # 1a capa oculta\n",
    "    Dropout(0.3),\n",
    "    Dense(8, activation='relu'), # 2a capa oculta\n",
    "    Dense(1, activation='sigmoid') # Salida\n",
    "])\n",
    "model.compile(optimizer='adam',loss='binary_crossentropy',metrics=['accuracy'])\n",
    "# Mostramos configuración\n",
    "model.summary()"
   ],
   "id": "c179c69b3bd732d0",
   "outputs": [
    {
     "data": {
      "text/plain": [
       "\u001B[1mModel: \"sequential_29\"\u001B[0m\n"
      ],
      "text/html": [
       "<pre style=\"white-space:pre;overflow-x:auto;line-height:normal;font-family:Menlo,'DejaVu Sans Mono',consolas,'Courier New',monospace\"><span style=\"font-weight: bold\">Model: \"sequential_29\"</span>\n",
       "</pre>\n"
      ]
     },
     "metadata": {},
     "output_type": "display_data"
    },
    {
     "data": {
      "text/plain": [
       "┏━━━━━━━━━━━━━━━━━━━━━━━━━━━━━━━━━┳━━━━━━━━━━━━━━━━━━━━━━━━┳━━━━━━━━━━━━━━━┓\n",
       "┃\u001B[1m \u001B[0m\u001B[1mLayer (type)                   \u001B[0m\u001B[1m \u001B[0m┃\u001B[1m \u001B[0m\u001B[1mOutput Shape          \u001B[0m\u001B[1m \u001B[0m┃\u001B[1m \u001B[0m\u001B[1m      Param #\u001B[0m\u001B[1m \u001B[0m┃\n",
       "┡━━━━━━━━━━━━━━━━━━━━━━━━━━━━━━━━━╇━━━━━━━━━━━━━━━━━━━━━━━━╇━━━━━━━━━━━━━━━┩\n",
       "│ dense_68 (\u001B[38;5;33mDense\u001B[0m)                │ (\u001B[38;5;45mNone\u001B[0m, \u001B[38;5;34m32\u001B[0m)             │           \u001B[38;5;34m416\u001B[0m │\n",
       "├─────────────────────────────────┼────────────────────────┼───────────────┤\n",
       "│ dropout_10 (\u001B[38;5;33mDropout\u001B[0m)            │ (\u001B[38;5;45mNone\u001B[0m, \u001B[38;5;34m32\u001B[0m)             │             \u001B[38;5;34m0\u001B[0m │\n",
       "├─────────────────────────────────┼────────────────────────┼───────────────┤\n",
       "│ dense_69 (\u001B[38;5;33mDense\u001B[0m)                │ (\u001B[38;5;45mNone\u001B[0m, \u001B[38;5;34m16\u001B[0m)             │           \u001B[38;5;34m528\u001B[0m │\n",
       "├─────────────────────────────────┼────────────────────────┼───────────────┤\n",
       "│ dropout_11 (\u001B[38;5;33mDropout\u001B[0m)            │ (\u001B[38;5;45mNone\u001B[0m, \u001B[38;5;34m16\u001B[0m)             │             \u001B[38;5;34m0\u001B[0m │\n",
       "├─────────────────────────────────┼────────────────────────┼───────────────┤\n",
       "│ dense_70 (\u001B[38;5;33mDense\u001B[0m)                │ (\u001B[38;5;45mNone\u001B[0m, \u001B[38;5;34m8\u001B[0m)              │           \u001B[38;5;34m136\u001B[0m │\n",
       "├─────────────────────────────────┼────────────────────────┼───────────────┤\n",
       "│ dense_71 (\u001B[38;5;33mDense\u001B[0m)                │ (\u001B[38;5;45mNone\u001B[0m, \u001B[38;5;34m1\u001B[0m)              │             \u001B[38;5;34m9\u001B[0m │\n",
       "└─────────────────────────────────┴────────────────────────┴───────────────┘\n"
      ],
      "text/html": [
       "<pre style=\"white-space:pre;overflow-x:auto;line-height:normal;font-family:Menlo,'DejaVu Sans Mono',consolas,'Courier New',monospace\">┏━━━━━━━━━━━━━━━━━━━━━━━━━━━━━━━━━┳━━━━━━━━━━━━━━━━━━━━━━━━┳━━━━━━━━━━━━━━━┓\n",
       "┃<span style=\"font-weight: bold\"> Layer (type)                    </span>┃<span style=\"font-weight: bold\"> Output Shape           </span>┃<span style=\"font-weight: bold\">       Param # </span>┃\n",
       "┡━━━━━━━━━━━━━━━━━━━━━━━━━━━━━━━━━╇━━━━━━━━━━━━━━━━━━━━━━━━╇━━━━━━━━━━━━━━━┩\n",
       "│ dense_68 (<span style=\"color: #0087ff; text-decoration-color: #0087ff\">Dense</span>)                │ (<span style=\"color: #00d7ff; text-decoration-color: #00d7ff\">None</span>, <span style=\"color: #00af00; text-decoration-color: #00af00\">32</span>)             │           <span style=\"color: #00af00; text-decoration-color: #00af00\">416</span> │\n",
       "├─────────────────────────────────┼────────────────────────┼───────────────┤\n",
       "│ dropout_10 (<span style=\"color: #0087ff; text-decoration-color: #0087ff\">Dropout</span>)            │ (<span style=\"color: #00d7ff; text-decoration-color: #00d7ff\">None</span>, <span style=\"color: #00af00; text-decoration-color: #00af00\">32</span>)             │             <span style=\"color: #00af00; text-decoration-color: #00af00\">0</span> │\n",
       "├─────────────────────────────────┼────────────────────────┼───────────────┤\n",
       "│ dense_69 (<span style=\"color: #0087ff; text-decoration-color: #0087ff\">Dense</span>)                │ (<span style=\"color: #00d7ff; text-decoration-color: #00d7ff\">None</span>, <span style=\"color: #00af00; text-decoration-color: #00af00\">16</span>)             │           <span style=\"color: #00af00; text-decoration-color: #00af00\">528</span> │\n",
       "├─────────────────────────────────┼────────────────────────┼───────────────┤\n",
       "│ dropout_11 (<span style=\"color: #0087ff; text-decoration-color: #0087ff\">Dropout</span>)            │ (<span style=\"color: #00d7ff; text-decoration-color: #00d7ff\">None</span>, <span style=\"color: #00af00; text-decoration-color: #00af00\">16</span>)             │             <span style=\"color: #00af00; text-decoration-color: #00af00\">0</span> │\n",
       "├─────────────────────────────────┼────────────────────────┼───────────────┤\n",
       "│ dense_70 (<span style=\"color: #0087ff; text-decoration-color: #0087ff\">Dense</span>)                │ (<span style=\"color: #00d7ff; text-decoration-color: #00d7ff\">None</span>, <span style=\"color: #00af00; text-decoration-color: #00af00\">8</span>)              │           <span style=\"color: #00af00; text-decoration-color: #00af00\">136</span> │\n",
       "├─────────────────────────────────┼────────────────────────┼───────────────┤\n",
       "│ dense_71 (<span style=\"color: #0087ff; text-decoration-color: #0087ff\">Dense</span>)                │ (<span style=\"color: #00d7ff; text-decoration-color: #00d7ff\">None</span>, <span style=\"color: #00af00; text-decoration-color: #00af00\">1</span>)              │             <span style=\"color: #00af00; text-decoration-color: #00af00\">9</span> │\n",
       "└─────────────────────────────────┴────────────────────────┴───────────────┘\n",
       "</pre>\n"
      ]
     },
     "metadata": {},
     "output_type": "display_data"
    },
    {
     "data": {
      "text/plain": [
       "\u001B[1m Total params: \u001B[0m\u001B[38;5;34m1,089\u001B[0m (4.25 KB)\n"
      ],
      "text/html": [
       "<pre style=\"white-space:pre;overflow-x:auto;line-height:normal;font-family:Menlo,'DejaVu Sans Mono',consolas,'Courier New',monospace\"><span style=\"font-weight: bold\"> Total params: </span><span style=\"color: #00af00; text-decoration-color: #00af00\">1,089</span> (4.25 KB)\n",
       "</pre>\n"
      ]
     },
     "metadata": {},
     "output_type": "display_data"
    },
    {
     "data": {
      "text/plain": [
       "\u001B[1m Trainable params: \u001B[0m\u001B[38;5;34m1,089\u001B[0m (4.25 KB)\n"
      ],
      "text/html": [
       "<pre style=\"white-space:pre;overflow-x:auto;line-height:normal;font-family:Menlo,'DejaVu Sans Mono',consolas,'Courier New',monospace\"><span style=\"font-weight: bold\"> Trainable params: </span><span style=\"color: #00af00; text-decoration-color: #00af00\">1,089</span> (4.25 KB)\n",
       "</pre>\n"
      ]
     },
     "metadata": {},
     "output_type": "display_data"
    },
    {
     "data": {
      "text/plain": [
       "\u001B[1m Non-trainable params: \u001B[0m\u001B[38;5;34m0\u001B[0m (0.00 B)\n"
      ],
      "text/html": [
       "<pre style=\"white-space:pre;overflow-x:auto;line-height:normal;font-family:Menlo,'DejaVu Sans Mono',consolas,'Courier New',monospace\"><span style=\"font-weight: bold\"> Non-trainable params: </span><span style=\"color: #00af00; text-decoration-color: #00af00\">0</span> (0.00 B)\n",
       "</pre>\n"
      ]
     },
     "metadata": {},
     "output_type": "display_data"
    }
   ],
   "execution_count": 461
  },
  {
   "metadata": {
    "ExecuteTime": {
     "end_time": "2025-02-05T17:04:06.262469Z",
     "start_time": "2025-02-05T17:03:45.107363Z"
    }
   },
   "cell_type": "code",
   "source": "history = model.fit(X_train, y_train, epochs=50, batch_size=32, validation_split=0.2, verbose=1, callbacks=[early_stopping])",
   "id": "8f2d5a79fc9e6e29",
   "outputs": [
    {
     "name": "stdout",
     "output_type": "stream",
     "text": [
      "Epoch 1/50\n",
      "\u001B[1m154/154\u001B[0m \u001B[32m━━━━━━━━━━━━━━━━━━━━\u001B[0m\u001B[37m\u001B[0m \u001B[1m2s\u001B[0m 3ms/step - accuracy: 0.6124 - loss: 0.6854 - val_accuracy: 0.8974 - val_loss: 0.3742\n",
      "Epoch 2/50\n",
      "\u001B[1m154/154\u001B[0m \u001B[32m━━━━━━━━━━━━━━━━━━━━\u001B[0m\u001B[37m\u001B[0m \u001B[1m0s\u001B[0m 3ms/step - accuracy: 0.8967 - loss: 0.3873 - val_accuracy: 0.8974 - val_loss: 0.2897\n",
      "Epoch 3/50\n",
      "\u001B[1m154/154\u001B[0m \u001B[32m━━━━━━━━━━━━━━━━━━━━\u001B[0m\u001B[37m\u001B[0m \u001B[1m0s\u001B[0m 3ms/step - accuracy: 0.9079 - loss: 0.3149 - val_accuracy: 0.9064 - val_loss: 0.2521\n",
      "Epoch 4/50\n",
      "\u001B[1m154/154\u001B[0m \u001B[32m━━━━━━━━━━━━━━━━━━━━\u001B[0m\u001B[37m\u001B[0m \u001B[1m0s\u001B[0m 3ms/step - accuracy: 0.9262 - loss: 0.2583 - val_accuracy: 0.9308 - val_loss: 0.2237\n",
      "Epoch 5/50\n",
      "\u001B[1m154/154\u001B[0m \u001B[32m━━━━━━━━━━━━━━━━━━━━\u001B[0m\u001B[37m\u001B[0m \u001B[1m0s\u001B[0m 3ms/step - accuracy: 0.9264 - loss: 0.2664 - val_accuracy: 0.9438 - val_loss: 0.1999\n",
      "Epoch 6/50\n",
      "\u001B[1m154/154\u001B[0m \u001B[32m━━━━━━━━━━━━━━━━━━━━\u001B[0m\u001B[37m\u001B[0m \u001B[1m0s\u001B[0m 3ms/step - accuracy: 0.9320 - loss: 0.2416 - val_accuracy: 0.9495 - val_loss: 0.1811\n",
      "Epoch 7/50\n",
      "\u001B[1m154/154\u001B[0m \u001B[32m━━━━━━━━━━━━━━━━━━━━\u001B[0m\u001B[37m\u001B[0m \u001B[1m0s\u001B[0m 2ms/step - accuracy: 0.9424 - loss: 0.2214 - val_accuracy: 0.9536 - val_loss: 0.1684\n",
      "Epoch 8/50\n",
      "\u001B[1m154/154\u001B[0m \u001B[32m━━━━━━━━━━━━━━━━━━━━\u001B[0m\u001B[37m\u001B[0m \u001B[1m0s\u001B[0m 2ms/step - accuracy: 0.9378 - loss: 0.2138 - val_accuracy: 0.9568 - val_loss: 0.1556\n",
      "Epoch 9/50\n",
      "\u001B[1m154/154\u001B[0m \u001B[32m━━━━━━━━━━━━━━━━━━━━\u001B[0m\u001B[37m\u001B[0m \u001B[1m0s\u001B[0m 3ms/step - accuracy: 0.9444 - loss: 0.1946 - val_accuracy: 0.9634 - val_loss: 0.1421\n",
      "Epoch 10/50\n",
      "\u001B[1m154/154\u001B[0m \u001B[32m━━━━━━━━━━━━━━━━━━━━\u001B[0m\u001B[37m\u001B[0m \u001B[1m0s\u001B[0m 3ms/step - accuracy: 0.9461 - loss: 0.1867 - val_accuracy: 0.9601 - val_loss: 0.1438\n",
      "Epoch 11/50\n",
      "\u001B[1m154/154\u001B[0m \u001B[32m━━━━━━━━━━━━━━━━━━━━\u001B[0m\u001B[37m\u001B[0m \u001B[1m0s\u001B[0m 3ms/step - accuracy: 0.9547 - loss: 0.1724 - val_accuracy: 0.9617 - val_loss: 0.1392\n",
      "Epoch 12/50\n",
      "\u001B[1m154/154\u001B[0m \u001B[32m━━━━━━━━━━━━━━━━━━━━\u001B[0m\u001B[37m\u001B[0m \u001B[1m0s\u001B[0m 2ms/step - accuracy: 0.9478 - loss: 0.1808 - val_accuracy: 0.9601 - val_loss: 0.1343\n",
      "Epoch 13/50\n",
      "\u001B[1m154/154\u001B[0m \u001B[32m━━━━━━━━━━━━━━━━━━━━\u001B[0m\u001B[37m\u001B[0m \u001B[1m0s\u001B[0m 3ms/step - accuracy: 0.9589 - loss: 0.1461 - val_accuracy: 0.9658 - val_loss: 0.1267\n",
      "Epoch 14/50\n",
      "\u001B[1m154/154\u001B[0m \u001B[32m━━━━━━━━━━━━━━━━━━━━\u001B[0m\u001B[37m\u001B[0m \u001B[1m0s\u001B[0m 2ms/step - accuracy: 0.9468 - loss: 0.1848 - val_accuracy: 0.9634 - val_loss: 0.1268\n",
      "Epoch 15/50\n",
      "\u001B[1m154/154\u001B[0m \u001B[32m━━━━━━━━━━━━━━━━━━━━\u001B[0m\u001B[37m\u001B[0m \u001B[1m0s\u001B[0m 3ms/step - accuracy: 0.9608 - loss: 0.1459 - val_accuracy: 0.9650 - val_loss: 0.1192\n",
      "Epoch 16/50\n",
      "\u001B[1m154/154\u001B[0m \u001B[32m━━━━━━━━━━━━━━━━━━━━\u001B[0m\u001B[37m\u001B[0m \u001B[1m0s\u001B[0m 3ms/step - accuracy: 0.9595 - loss: 0.1465 - val_accuracy: 0.9650 - val_loss: 0.1194\n",
      "Epoch 17/50\n",
      "\u001B[1m154/154\u001B[0m \u001B[32m━━━━━━━━━━━━━━━━━━━━\u001B[0m\u001B[37m\u001B[0m \u001B[1m0s\u001B[0m 2ms/step - accuracy: 0.9601 - loss: 0.1515 - val_accuracy: 0.9674 - val_loss: 0.1126\n",
      "Epoch 18/50\n",
      "\u001B[1m154/154\u001B[0m \u001B[32m━━━━━━━━━━━━━━━━━━━━\u001B[0m\u001B[37m\u001B[0m \u001B[1m0s\u001B[0m 2ms/step - accuracy: 0.9610 - loss: 0.1427 - val_accuracy: 0.9682 - val_loss: 0.1108\n",
      "Epoch 19/50\n",
      "\u001B[1m154/154\u001B[0m \u001B[32m━━━━━━━━━━━━━━━━━━━━\u001B[0m\u001B[37m\u001B[0m \u001B[1m0s\u001B[0m 2ms/step - accuracy: 0.9526 - loss: 0.1581 - val_accuracy: 0.9666 - val_loss: 0.1115\n",
      "Epoch 20/50\n",
      "\u001B[1m154/154\u001B[0m \u001B[32m━━━━━━━━━━━━━━━━━━━━\u001B[0m\u001B[37m\u001B[0m \u001B[1m0s\u001B[0m 3ms/step - accuracy: 0.9610 - loss: 0.1435 - val_accuracy: 0.9707 - val_loss: 0.1051\n",
      "Epoch 21/50\n",
      "\u001B[1m154/154\u001B[0m \u001B[32m━━━━━━━━━━━━━━━━━━━━\u001B[0m\u001B[37m\u001B[0m \u001B[1m0s\u001B[0m 2ms/step - accuracy: 0.9614 - loss: 0.1401 - val_accuracy: 0.9715 - val_loss: 0.1037\n",
      "Epoch 22/50\n",
      "\u001B[1m154/154\u001B[0m \u001B[32m━━━━━━━━━━━━━━━━━━━━\u001B[0m\u001B[37m\u001B[0m \u001B[1m0s\u001B[0m 2ms/step - accuracy: 0.9570 - loss: 0.1423 - val_accuracy: 0.9715 - val_loss: 0.1016\n",
      "Epoch 23/50\n",
      "\u001B[1m154/154\u001B[0m \u001B[32m━━━━━━━━━━━━━━━━━━━━\u001B[0m\u001B[37m\u001B[0m \u001B[1m0s\u001B[0m 2ms/step - accuracy: 0.9586 - loss: 0.1428 - val_accuracy: 0.9731 - val_loss: 0.0988\n",
      "Epoch 24/50\n",
      "\u001B[1m154/154\u001B[0m \u001B[32m━━━━━━━━━━━━━━━━━━━━\u001B[0m\u001B[37m\u001B[0m \u001B[1m0s\u001B[0m 3ms/step - accuracy: 0.9571 - loss: 0.1541 - val_accuracy: 0.9764 - val_loss: 0.0969\n",
      "Epoch 25/50\n",
      "\u001B[1m154/154\u001B[0m \u001B[32m━━━━━━━━━━━━━━━━━━━━\u001B[0m\u001B[37m\u001B[0m \u001B[1m0s\u001B[0m 2ms/step - accuracy: 0.9647 - loss: 0.1311 - val_accuracy: 0.9748 - val_loss: 0.0963\n",
      "Epoch 26/50\n",
      "\u001B[1m154/154\u001B[0m \u001B[32m━━━━━━━━━━━━━━━━━━━━\u001B[0m\u001B[37m\u001B[0m \u001B[1m0s\u001B[0m 2ms/step - accuracy: 0.9643 - loss: 0.1284 - val_accuracy: 0.9699 - val_loss: 0.1003\n",
      "Epoch 27/50\n",
      "\u001B[1m154/154\u001B[0m \u001B[32m━━━━━━━━━━━━━━━━━━━━\u001B[0m\u001B[37m\u001B[0m \u001B[1m1s\u001B[0m 3ms/step - accuracy: 0.9690 - loss: 0.1115 - val_accuracy: 0.9756 - val_loss: 0.0947\n",
      "Epoch 28/50\n",
      "\u001B[1m154/154\u001B[0m \u001B[32m━━━━━━━━━━━━━━━━━━━━\u001B[0m\u001B[37m\u001B[0m \u001B[1m0s\u001B[0m 3ms/step - accuracy: 0.9619 - loss: 0.1373 - val_accuracy: 0.9682 - val_loss: 0.0997\n",
      "Epoch 29/50\n",
      "\u001B[1m154/154\u001B[0m \u001B[32m━━━━━━━━━━━━━━━━━━━━\u001B[0m\u001B[37m\u001B[0m \u001B[1m0s\u001B[0m 3ms/step - accuracy: 0.9664 - loss: 0.1194 - val_accuracy: 0.9715 - val_loss: 0.0967\n",
      "Epoch 30/50\n",
      "\u001B[1m154/154\u001B[0m \u001B[32m━━━━━━━━━━━━━━━━━━━━\u001B[0m\u001B[37m\u001B[0m \u001B[1m1s\u001B[0m 4ms/step - accuracy: 0.9666 - loss: 0.1168 - val_accuracy: 0.9748 - val_loss: 0.0930\n",
      "Epoch 31/50\n",
      "\u001B[1m154/154\u001B[0m \u001B[32m━━━━━━━━━━━━━━━━━━━━\u001B[0m\u001B[37m\u001B[0m \u001B[1m0s\u001B[0m 3ms/step - accuracy: 0.9661 - loss: 0.1204 - val_accuracy: 0.9723 - val_loss: 0.0964\n",
      "Epoch 32/50\n",
      "\u001B[1m154/154\u001B[0m \u001B[32m━━━━━━━━━━━━━━━━━━━━\u001B[0m\u001B[37m\u001B[0m \u001B[1m0s\u001B[0m 3ms/step - accuracy: 0.9671 - loss: 0.1201 - val_accuracy: 0.9764 - val_loss: 0.0923\n",
      "Epoch 33/50\n",
      "\u001B[1m154/154\u001B[0m \u001B[32m━━━━━━━━━━━━━━━━━━━━\u001B[0m\u001B[37m\u001B[0m \u001B[1m0s\u001B[0m 2ms/step - accuracy: 0.9673 - loss: 0.1146 - val_accuracy: 0.9772 - val_loss: 0.0897\n",
      "Epoch 34/50\n",
      "\u001B[1m154/154\u001B[0m \u001B[32m━━━━━━━━━━━━━━━━━━━━\u001B[0m\u001B[37m\u001B[0m \u001B[1m0s\u001B[0m 2ms/step - accuracy: 0.9688 - loss: 0.1145 - val_accuracy: 0.9772 - val_loss: 0.0886\n",
      "Epoch 35/50\n",
      "\u001B[1m154/154\u001B[0m \u001B[32m━━━━━━━━━━━━━━━━━━━━\u001B[0m\u001B[37m\u001B[0m \u001B[1m0s\u001B[0m 2ms/step - accuracy: 0.9592 - loss: 0.1309 - val_accuracy: 0.9756 - val_loss: 0.0930\n",
      "Epoch 36/50\n",
      "\u001B[1m154/154\u001B[0m \u001B[32m━━━━━━━━━━━━━━━━━━━━\u001B[0m\u001B[37m\u001B[0m \u001B[1m0s\u001B[0m 2ms/step - accuracy: 0.9641 - loss: 0.1224 - val_accuracy: 0.9772 - val_loss: 0.0908\n",
      "Epoch 37/50\n",
      "\u001B[1m154/154\u001B[0m \u001B[32m━━━━━━━━━━━━━━━━━━━━\u001B[0m\u001B[37m\u001B[0m \u001B[1m0s\u001B[0m 2ms/step - accuracy: 0.9688 - loss: 0.1145 - val_accuracy: 0.9764 - val_loss: 0.0897\n",
      "Epoch 38/50\n",
      "\u001B[1m154/154\u001B[0m \u001B[32m━━━━━━━━━━━━━━━━━━━━\u001B[0m\u001B[37m\u001B[0m \u001B[1m0s\u001B[0m 2ms/step - accuracy: 0.9682 - loss: 0.1106 - val_accuracy: 0.9764 - val_loss: 0.0884\n",
      "Epoch 39/50\n",
      "\u001B[1m154/154\u001B[0m \u001B[32m━━━━━━━━━━━━━━━━━━━━\u001B[0m\u001B[37m\u001B[0m \u001B[1m0s\u001B[0m 2ms/step - accuracy: 0.9666 - loss: 0.1180 - val_accuracy: 0.9748 - val_loss: 0.0863\n",
      "Epoch 40/50\n",
      "\u001B[1m154/154\u001B[0m \u001B[32m━━━━━━━━━━━━━━━━━━━━\u001B[0m\u001B[37m\u001B[0m \u001B[1m0s\u001B[0m 3ms/step - accuracy: 0.9622 - loss: 0.1213 - val_accuracy: 0.9756 - val_loss: 0.0842\n",
      "Epoch 41/50\n",
      "\u001B[1m154/154\u001B[0m \u001B[32m━━━━━━━━━━━━━━━━━━━━\u001B[0m\u001B[37m\u001B[0m \u001B[1m0s\u001B[0m 3ms/step - accuracy: 0.9632 - loss: 0.1265 - val_accuracy: 0.9764 - val_loss: 0.0853\n",
      "Epoch 42/50\n",
      "\u001B[1m154/154\u001B[0m \u001B[32m━━━━━━━━━━━━━━━━━━━━\u001B[0m\u001B[37m\u001B[0m \u001B[1m0s\u001B[0m 2ms/step - accuracy: 0.9726 - loss: 0.1012 - val_accuracy: 0.9780 - val_loss: 0.0817\n",
      "Epoch 43/50\n",
      "\u001B[1m154/154\u001B[0m \u001B[32m━━━━━━━━━━━━━━━━━━━━\u001B[0m\u001B[37m\u001B[0m \u001B[1m0s\u001B[0m 2ms/step - accuracy: 0.9717 - loss: 0.1034 - val_accuracy: 0.9788 - val_loss: 0.0839\n",
      "Epoch 44/50\n",
      "\u001B[1m154/154\u001B[0m \u001B[32m━━━━━━━━━━━━━━━━━━━━\u001B[0m\u001B[37m\u001B[0m \u001B[1m0s\u001B[0m 2ms/step - accuracy: 0.9704 - loss: 0.1017 - val_accuracy: 0.9780 - val_loss: 0.0841\n",
      "Epoch 45/50\n",
      "\u001B[1m154/154\u001B[0m \u001B[32m━━━━━━━━━━━━━━━━━━━━\u001B[0m\u001B[37m\u001B[0m \u001B[1m0s\u001B[0m 3ms/step - accuracy: 0.9729 - loss: 0.0933 - val_accuracy: 0.9780 - val_loss: 0.0824\n",
      "Epoch 46/50\n",
      "\u001B[1m154/154\u001B[0m \u001B[32m━━━━━━━━━━━━━━━━━━━━\u001B[0m\u001B[37m\u001B[0m \u001B[1m0s\u001B[0m 3ms/step - accuracy: 0.9648 - loss: 0.1099 - val_accuracy: 0.9748 - val_loss: 0.0848\n",
      "Epoch 47/50\n",
      "\u001B[1m154/154\u001B[0m \u001B[32m━━━━━━━━━━━━━━━━━━━━\u001B[0m\u001B[37m\u001B[0m \u001B[1m0s\u001B[0m 2ms/step - accuracy: 0.9675 - loss: 0.1025 - val_accuracy: 0.9764 - val_loss: 0.0827\n"
     ]
    }
   ],
   "execution_count": 462
  },
  {
   "metadata": {
    "ExecuteTime": {
     "end_time": "2025-02-05T17:04:06.729992Z",
     "start_time": "2025-02-05T17:04:06.291680Z"
    }
   },
   "cell_type": "code",
   "source": [
    "loss, accuracy = model.evaluate(X_test, y_test)\n",
    "print(f\"Pérdida: {loss}, Precisión: {accuracy}\")\n",
    "# Pérdida\n",
    "plt.plot(history.history['loss'], label='Pérdida (entrenamiento)')\n",
    "plt.plot(history.history['val_loss'], label='Pérdida (validación)')\n",
    "plt.xlabel('Épocas')\n",
    "plt.ylabel('Pérdida')\n",
    "plt.legend()\n",
    "plt.show()\n",
    "# Precisión\n",
    "plt.plot(history.history['accuracy'], label='Precisión(entrenamiento)')\n",
    "plt.plot(history.history['val_accuracy'], label='Precisión(validación)')\n",
    "plt.xlabel('Épocas')\n",
    "plt.ylabel('Precisión')\n",
    "plt.legend()\n",
    "plt.show()"
   ],
   "id": "e2b89c54aa3911df",
   "outputs": [
    {
     "name": "stdout",
     "output_type": "stream",
     "text": [
      "\u001B[1m48/48\u001B[0m \u001B[32m━━━━━━━━━━━━━━━━━━━━\u001B[0m\u001B[37m\u001B[0m \u001B[1m0s\u001B[0m 2ms/step - accuracy: 0.9751 - loss: 0.0847\n",
      "Pérdida: 0.08906843513250351, Precisión: 0.9758957624435425\n"
     ]
    },
    {
     "data": {
      "text/plain": [
       "<Figure size 640x480 with 1 Axes>"
      ],
      "image/png": "[encoded data removed]"
     },
     "metadata": {},
     "output_type": "display_data"
    },
    {
     "data": {
      "text/plain": [
       "<Figure size 640x480 with 1 Axes>"
      ],
      "image/png": "[encoded data removed]"
     },
     "metadata": {},
     "output_type": "display_data"
    }
   ],
   "execution_count": 463
  },
  {
   "metadata": {},
   "cell_type": "markdown",
   "source": "A primera vista de las gráficas se puede apreciar un claro overfitting del modelo, en el cuál no se distingue en absoluto una mejoría",
   "id": "91ac3a0aabd4a730"
  },
  {
   "metadata": {
    "ExecuteTime": {
     "end_time": "2025-02-05T17:04:07.128982Z",
     "start_time": "2025-02-05T17:04:06.762436Z"
    }
   },
   "cell_type": "code",
   "source": [
    "def train_validation(model, X_test, y_test):\n",
    "    y_pred_probs = model.predict(X_test)\n",
    "    y_pred = (y_pred_probs > 0.5).astype(int).flatten()  # Convertir probabilidades en etiquetas binarias\n",
    "\n",
    "    # Matriz de confusión\n",
    "    conf_matrix = confusion_matrix(y_test, y_pred)\n",
    "\n",
    "    # Reporte de clasificación\n",
    "    print(\"\\nReporte de Clasificación:\")\n",
    "    print(classification_report(y_test, y_pred, target_names=[\"No Mantenimiento\", \"Mantenimiento\"]))\n",
    "\n",
    "    # Mostrar matriz de confusión con heatmap\n",
    "    plt.figure(figsize=(6, 4))\n",
    "    sns.heatmap(conf_matrix, annot=True, fmt='d', cmap='Blues',\n",
    "                xticklabels=[\"No Mantenimiento\", \"Mantenimiento\"],\n",
    "                yticklabels=[\"No Mantenimiento\", \"Mantenimiento\"])\n",
    "    plt.title(\"Matriz de Confusión\")\n",
    "    plt.xlabel(\"Predicción\")\n",
    "    plt.ylabel(\"Real\")\n",
    "    plt.show()\n",
    "\n",
    "# Llama a la función con el modelo ya entrenado\n",
    "train_validation(model, X_test, y_test)"
   ],
   "id": "45252bf9a0f66874",
   "outputs": [
    {
     "name": "stdout",
     "output_type": "stream",
     "text": [
      "\u001B[1m48/48\u001B[0m \u001B[32m━━━━━━━━━━━━━━━━━━━━\u001B[0m\u001B[37m\u001B[0m \u001B[1m0s\u001B[0m 2ms/step\n",
      "\n",
      "Reporte de Clasificación:\n",
      "                  precision    recall  f1-score   support\n",
      "\n",
      "No Mantenimiento       0.98      1.00      0.99      1377\n",
      "   Mantenimiento       0.98      0.78      0.87       158\n",
      "\n",
      "        accuracy                           0.98      1535\n",
      "       macro avg       0.98      0.89      0.93      1535\n",
      "    weighted avg       0.98      0.98      0.97      1535\n",
      "\n"
     ]
    },
    {
     "data": {
      "text/plain": [
       "<Figure size 600x400 with 2 Axes>"
      ],
      "image/png": "[encoded data removed]"
     },
     "metadata": {},
     "output_type": "display_data"
    }
   ],
   "execution_count": 464
  },
  {
   "metadata": {},
   "cell_type": "markdown",
   "source": "Al igual que se visualizó con las gráficas, la matriz de confusión confirma lo afirmado, a continuación se realizará un ajuste de hiperparámetros mediante `RandomSearch` y `SMOTE` por el desbalanceo de clases",
   "id": "369f5a24e808aa1e"
  },
  {
   "metadata": {
    "ExecuteTime": {
     "end_time": "2025-02-05T17:04:07.251405Z",
     "start_time": "2025-02-05T17:04:07.160476Z"
    }
   },
   "cell_type": "code",
   "source": [
    "def build_model(hp):\n",
    " model = Sequential([\n",
    "     Dense(units=hp.Int('units', min_value=32, max_value=512,step=32), activation='relu'),\n",
    "     Dense(1)\n",
    " ])\n",
    "\n",
    " model.compile(optimizer=tf.keras.optimizers.Adam(learning_rate=hp.Choice('learning_rate', [0.001, 0.01])),loss='mean_squared_error',metrics=['mae'])\n",
    " return model\n",
    "\n",
    "tuner = RandomSearch(\n",
    " build_model,\n",
    " objective='val_loss',\n",
    " max_trials=5,\n",
    " directory='./my_dir',\n",
    " project_name='prediccion'\n",
    ")\n",
    "tuner.search(X_train, y_train, validation_split=0.2)"
   ],
   "id": "dc4667960f7cacf6",
   "outputs": [
    {
     "name": "stdout",
     "output_type": "stream",
     "text": [
      "Reloading Tuner from ./my_dir\\prediccion\\tuner0.json\n"
     ]
    }
   ],
   "execution_count": 465
  },
  {
   "metadata": {
    "ExecuteTime": {
     "end_time": "2025-02-05T17:04:07.286588Z",
     "start_time": "2025-02-05T17:04:07.279166Z"
    }
   },
   "cell_type": "code",
   "source": "best_hps = tuner.get_best_hyperparameters(num_trials=1)[0]",
   "id": "ae0ab6fda5aa18",
   "outputs": [],
   "execution_count": 466
  },
  {
   "metadata": {
    "ExecuteTime": {
     "end_time": "2025-02-05T17:04:07.325501Z",
     "start_time": "2025-02-05T17:04:07.313981Z"
    }
   },
   "cell_type": "code",
   "source": "best_model = tuner.hypermodel.build(best_hps)",
   "id": "78cf458a018d141b",
   "outputs": [],
   "execution_count": 467
  },
  {
   "metadata": {
    "ExecuteTime": {
     "end_time": "2025-02-05T17:04:07.359772Z",
     "start_time": "2025-02-05T17:04:07.352051Z"
    }
   },
   "cell_type": "code",
   "source": "X_train_split, X_val, y_train_split, y_val = train_test_split(X_train, y_train, test_size=0.2, random_state=42)\n",
   "id": "154f7ac444797446",
   "outputs": [],
   "execution_count": 468
  },
  {
   "metadata": {
    "ExecuteTime": {
     "end_time": "2025-02-05T17:04:07.400033Z",
     "start_time": "2025-02-05T17:04:07.384985Z"
    }
   },
   "cell_type": "code",
   "source": [
    "smote = SMOTE(random_state=42)\n",
    "X_resampled, y_resampled = smote.fit_resample(X_train_split, y_train_split)  # Solo en los datos de entrenamiento"
   ],
   "id": "83cf62acb0492db4",
   "outputs": [],
   "execution_count": 469
  },
  {
   "metadata": {
    "ExecuteTime": {
     "end_time": "2025-02-05T17:04:13.087596Z",
     "start_time": "2025-02-05T17:04:07.426867Z"
    }
   },
   "cell_type": "code",
   "source": [
    "# Ahora usa X_resampled, y_resampled en el entrenamiento\n",
    "history = best_model.fit(X_resampled, y_resampled, epochs=50, batch_size=32, validation_data=(X_val, y_val), callbacks=[early_stopping])"
   ],
   "id": "c5def3642792f8aa",
   "outputs": [
    {
     "name": "stdout",
     "output_type": "stream",
     "text": [
      "Epoch 1/50\n",
      "\u001B[1m277/277\u001B[0m \u001B[32m━━━━━━━━━━━━━━━━━━━━\u001B[0m\u001B[37m\u001B[0m \u001B[1m1s\u001B[0m 2ms/step - loss: 0.1234 - mae: 0.2634 - val_loss: 0.0427 - val_mae: 0.1550\n",
      "Epoch 2/50\n",
      "\u001B[1m277/277\u001B[0m \u001B[32m━━━━━━━━━━━━━━━━━━━━\u001B[0m\u001B[37m\u001B[0m \u001B[1m1s\u001B[0m 2ms/step - loss: 0.0641 - mae: 0.1925 - val_loss: 0.0810 - val_mae: 0.2222\n",
      "Epoch 3/50\n",
      "\u001B[1m277/277\u001B[0m \u001B[32m━━━━━━━━━━━━━━━━━━━━\u001B[0m\u001B[37m\u001B[0m \u001B[1m1s\u001B[0m 2ms/step - loss: 0.0589 - mae: 0.1829 - val_loss: 0.0490 - val_mae: 0.1676\n",
      "Epoch 4/50\n",
      "\u001B[1m277/277\u001B[0m \u001B[32m━━━━━━━━━━━━━━━━━━━━\u001B[0m\u001B[37m\u001B[0m \u001B[1m1s\u001B[0m 2ms/step - loss: 0.0546 - mae: 0.1729 - val_loss: 0.0401 - val_mae: 0.1457\n",
      "Epoch 5/50\n",
      "\u001B[1m277/277\u001B[0m \u001B[32m━━━━━━━━━━━━━━━━━━━━\u001B[0m\u001B[37m\u001B[0m \u001B[1m1s\u001B[0m 2ms/step - loss: 0.0530 - mae: 0.1688 - val_loss: 0.0472 - val_mae: 0.1595\n",
      "Epoch 6/50\n",
      "\u001B[1m277/277\u001B[0m \u001B[32m━━━━━━━━━━━━━━━━━━━━\u001B[0m\u001B[37m\u001B[0m \u001B[1m0s\u001B[0m 2ms/step - loss: 0.0527 - mae: 0.1686 - val_loss: 0.0468 - val_mae: 0.1598\n",
      "Epoch 7/50\n",
      "\u001B[1m277/277\u001B[0m \u001B[32m━━━━━━━━━━━━━━━━━━━━\u001B[0m\u001B[37m\u001B[0m \u001B[1m1s\u001B[0m 2ms/step - loss: 0.0512 - mae: 0.1648 - val_loss: 0.0542 - val_mae: 0.1737\n",
      "Epoch 8/50\n",
      "\u001B[1m277/277\u001B[0m \u001B[32m━━━━━━━━━━━━━━━━━━━━\u001B[0m\u001B[37m\u001B[0m \u001B[1m1s\u001B[0m 2ms/step - loss: 0.0491 - mae: 0.1631 - val_loss: 0.0501 - val_mae: 0.1669\n",
      "Epoch 9/50\n",
      "\u001B[1m277/277\u001B[0m \u001B[32m━━━━━━━━━━━━━━━━━━━━\u001B[0m\u001B[37m\u001B[0m \u001B[1m1s\u001B[0m 2ms/step - loss: 0.0492 - mae: 0.1621 - val_loss: 0.0404 - val_mae: 0.1466\n"
     ]
    }
   ],
   "execution_count": 470
  },
  {
   "metadata": {
    "ExecuteTime": {
     "end_time": "2025-02-05T17:04:13.743315Z",
     "start_time": "2025-02-05T17:04:13.119161Z"
    }
   },
   "cell_type": "code",
   "source": "train_validation(best_model, X_resampled, y_resampled)",
   "id": "d7d5c4d28c44ab73",
   "outputs": [
    {
     "name": "stdout",
     "output_type": "stream",
     "text": [
      "\u001B[1m277/277\u001B[0m \u001B[32m━━━━━━━━━━━━━━━━━━━━\u001B[0m\u001B[37m\u001B[0m \u001B[1m0s\u001B[0m 1ms/step  \n",
      "\n",
      "Reporte de Clasificación:\n",
      "                  precision    recall  f1-score   support\n",
      "\n",
      "No Mantenimiento       0.93      0.99      0.96      4429\n",
      "   Mantenimiento       0.99      0.93      0.96      4429\n",
      "\n",
      "        accuracy                           0.96      8858\n",
      "       macro avg       0.96      0.96      0.96      8858\n",
      "    weighted avg       0.96      0.96      0.96      8858\n",
      "\n"
     ]
    },
    {
     "data": {
      "text/plain": [
       "<Figure size 600x400 with 2 Axes>"
      ],
      "image/png": "[encoded data removed]"
     },
     "metadata": {},
     "output_type": "display_data"
    }
   ],
   "execution_count": 471
  },
  {
   "metadata": {},
   "cell_type": "markdown",
   "source": "Ahora se puede apreciar una notoria mejoría con respecto al desempeño del modelo, donde se encuentra una precisión para la clase 0 del 0.99 y para la clase 1 una precisión del 0.94, así mismo, en la matriz de confusión se encuentra un número de falsos positivos bastante reducido en comparación con el resto de conclusiones",
   "id": "a8384e604f7c7c13"
  },
  {
   "metadata": {
    "ExecuteTime": {
     "end_time": "2025-02-05T17:04:14.254884Z",
     "start_time": "2025-02-05T17:04:13.774611Z"
    }
   },
   "cell_type": "code",
   "source": [
    "loss, accuracy = best_model.evaluate(X_test, y_test)\n",
    "print(f\"Pérdida: {loss}, Precisión: {accuracy}\")\n",
    "# Pérdida\n",
    "plt.plot(history.history['loss'], label='Pérdida (entrenamiento)')\n",
    "plt.plot(history.history['val_loss'], label='Pérdida (validación)')\n",
    "plt.xlabel('Épocas')\n",
    "plt.ylabel('Pérdida')\n",
    "plt.legend()\n",
    "plt.show()\n",
    "# Precisión\n",
    "plt.plot(history.history['mae'], label='Precisión(entrenamiento)')\n",
    "plt.plot(history.history['val_mae'], label='Precisión(validación)')\n",
    "plt.xlabel('Épocas')\n",
    "plt.ylabel('Precisión')\n",
    "plt.legend()\n",
    "plt.show()"
   ],
   "id": "fabdade22d08d619",
   "outputs": [
    {
     "name": "stdout",
     "output_type": "stream",
     "text": [
      "\u001B[1m48/48\u001B[0m \u001B[32m━━━━━━━━━━━━━━━━━━━━\u001B[0m\u001B[37m\u001B[0m \u001B[1m0s\u001B[0m 2ms/step - loss: 0.0426 - mae: 0.1508\n",
      "Pérdida: 0.04568326845765114, Precisión: 0.15419180691242218\n"
     ]
    },
    {
     "data": {
      "text/plain": [
       "<Figure size 640x480 with 1 Axes>"
      ],
      "image/png": "[encoded data removed]"
     },
     "metadata": {},
     "output_type": "display_data"
    },
    {
     "data": {
      "text/plain": [
       "<Figure size 640x480 with 1 Axes>"
      ],
      "image/png": "[encoded data removed]"
     },
     "metadata": {},
     "output_type": "display_data"
    }
   ],
   "execution_count": 472
  },
  {
   "metadata": {
    "ExecuteTime": {
     "end_time": "2025-02-05T17:08:38.212143Z",
     "start_time": "2025-02-05T17:04:14.306331Z"
    }
   },
   "cell_type": "code",
   "source": [
    "# Definir la función objetivo que Optuna optimizará\n",
    "def objective(trial):\n",
    " # Espacios de búsqueda de hiperparámetros (esto son ejemplos)\n",
    " units = trial.suggest_int('units', 32, 512, step=32)\n",
    " lr = trial.suggest_categorical('learning_rate', [0.001, 0.01,0.1])\n",
    "\n",
    " # Crear el modelo\n",
    " model = Sequential([\n",
    "    Input(shape=(X_resampled.shape[1],)), # Definir forma de la entrada\n",
    "    Dense(units=units, activation='relu'),\n",
    "    Dense(1, activation='sigmoid')\n",
    " ])\n",
    "\n",
    " model.compile(optimizer=tf.keras.optimizers.Adam(learning_rate=lr),loss='mean_squared_error',metrics=['mae'])\n",
    "\n",
    " model.fit(X_resampled, y_resampled, epochs=50, validation_split=0.2, verbose=1)\n",
    "\n",
    " # Obtener la pérdida en la validación para optimizar\n",
    " val_loss = model.history.history['val_loss'][-1]\n",
    " return val_loss\n",
    "# Crear estudio de Optuna y ejecutar la optimización\n",
    "# Queremos minimizar la pérdida (val_loss)\n",
    "study = optuna.create_study(direction='minimize')\n",
    "study.optimize(objective, n_trials=10) # 5 intentos de prueba, puedes aumentar este número\n",
    "# Mostrar los mejores hiperparámetros encontrados\n",
    "print(f'Best hyperparameters: {study.best_params}')\n"
   ],
   "id": "7e482afdeb6a4571",
   "outputs": [
    {
     "name": "stderr",
     "output_type": "stream",
     "text": [
      "[I 2025-02-05 18:04:14,310] A new study created in memory with name: no-name-5c65fc25-6178-4b8d-8034-91a0fef79fa2\n"
     ]
    },
    {
     "name": "stdout",
     "output_type": "stream",
     "text": [
      "Epoch 1/50\n",
      "\u001B[1m222/222\u001B[0m \u001B[32m━━━━━━━━━━━━━━━━━━━━\u001B[0m\u001B[37m\u001B[0m \u001B[1m1s\u001B[0m 3ms/step - loss: 0.1597 - mae: 0.3649 - val_loss: 0.0950 - val_mae: 0.2275\n",
      "Epoch 2/50\n",
      "\u001B[1m222/222\u001B[0m \u001B[32m━━━━━━━━━━━━━━━━━━━━\u001B[0m\u001B[37m\u001B[0m \u001B[1m0s\u001B[0m 2ms/step - loss: 0.0587 - mae: 0.1874 - val_loss: 0.0712 - val_mae: 0.1646\n",
      "Epoch 3/50\n",
      "\u001B[1m222/222\u001B[0m \u001B[32m━━━━━━━━━━━━━━━━━━━━\u001B[0m\u001B[37m\u001B[0m \u001B[1m0s\u001B[0m 2ms/step - loss: 0.0406 - mae: 0.1320 - val_loss: 0.0547 - val_mae: 0.1255\n",
      "Epoch 4/50\n",
      "\u001B[1m222/222\u001B[0m \u001B[32m━━━━━━━━━━━━━━━━━━━━\u001B[0m\u001B[37m\u001B[0m \u001B[1m0s\u001B[0m 2ms/step - loss: 0.0355 - mae: 0.1115 - val_loss: 0.0471 - val_mae: 0.1071\n",
      "Epoch 5/50\n",
      "\u001B[1m222/222\u001B[0m \u001B[32m━━━━━━━━━━━━━━━━━━━━\u001B[0m\u001B[37m\u001B[0m \u001B[1m0s\u001B[0m 2ms/step - loss: 0.0320 - mae: 0.0978 - val_loss: 0.0520 - val_mae: 0.1097\n",
      "Epoch 6/50\n",
      "\u001B[1m222/222\u001B[0m \u001B[32m━━━━━━━━━━━━━━━━━━━━\u001B[0m\u001B[37m\u001B[0m \u001B[1m0s\u001B[0m 2ms/step - loss: 0.0299 - mae: 0.0872 - val_loss: 0.0488 - val_mae: 0.1024\n",
      "Epoch 7/50\n",
      "\u001B[1m222/222\u001B[0m \u001B[32m━━━━━━━━━━━━━━━━━━━━\u001B[0m\u001B[37m\u001B[0m \u001B[1m0s\u001B[0m 2ms/step - loss: 0.0275 - mae: 0.0792 - val_loss: 0.0487 - val_mae: 0.0980\n",
      "Epoch 8/50\n",
      "\u001B[1m222/222\u001B[0m \u001B[32m━━━━━━━━━━━━━━━━━━━━\u001B[0m\u001B[37m\u001B[0m \u001B[1m0s\u001B[0m 2ms/step - loss: 0.0273 - mae: 0.0766 - val_loss: 0.0441 - val_mae: 0.0874\n",
      "Epoch 9/50\n",
      "\u001B[1m222/222\u001B[0m \u001B[32m━━━━━━━━━━━━━━━━━━━━\u001B[0m\u001B[37m\u001B[0m \u001B[1m0s\u001B[0m 2ms/step - loss: 0.0254 - mae: 0.0701 - val_loss: 0.0470 - val_mae: 0.0925\n",
      "Epoch 10/50\n",
      "\u001B[1m222/222\u001B[0m \u001B[32m━━━━━━━━━━━━━━━━━━━━\u001B[0m\u001B[37m\u001B[0m \u001B[1m0s\u001B[0m 2ms/step - loss: 0.0267 - mae: 0.0698 - val_loss: 0.0438 - val_mae: 0.0859\n",
      "Epoch 11/50\n",
      "\u001B[1m222/222\u001B[0m \u001B[32m━━━━━━━━━━━━━━━━━━━━\u001B[0m\u001B[37m\u001B[0m \u001B[1m0s\u001B[0m 2ms/step - loss: 0.0255 - mae: 0.0654 - val_loss: 0.0378 - val_mae: 0.0748\n",
      "Epoch 12/50\n",
      "\u001B[1m222/222\u001B[0m \u001B[32m━━━━━━━━━━━━━━━━━━━━\u001B[0m\u001B[37m\u001B[0m \u001B[1m0s\u001B[0m 2ms/step - loss: 0.0241 - mae: 0.0622 - val_loss: 0.0386 - val_mae: 0.0754\n",
      "Epoch 13/50\n",
      "\u001B[1m222/222\u001B[0m \u001B[32m━━━━━━━━━━━━━━━━━━━━\u001B[0m\u001B[37m\u001B[0m \u001B[1m0s\u001B[0m 2ms/step - loss: 0.0250 - mae: 0.0625 - val_loss: 0.0394 - val_mae: 0.0774\n",
      "Epoch 14/50\n",
      "\u001B[1m222/222\u001B[0m \u001B[32m━━━━━━━━━━━━━━━━━━━━\u001B[0m\u001B[37m\u001B[0m \u001B[1m0s\u001B[0m 2ms/step - loss: 0.0229 - mae: 0.0587 - val_loss: 0.0409 - val_mae: 0.0769\n",
      "Epoch 15/50\n",
      "\u001B[1m222/222\u001B[0m \u001B[32m━━━━━━━━━━━━━━━━━━━━\u001B[0m\u001B[37m\u001B[0m \u001B[1m0s\u001B[0m 2ms/step - loss: 0.0227 - mae: 0.0570 - val_loss: 0.0403 - val_mae: 0.0777\n",
      "Epoch 16/50\n",
      "\u001B[1m222/222\u001B[0m \u001B[32m━━━━━━━━━━━━━━━━━━━━\u001B[0m\u001B[37m\u001B[0m \u001B[1m0s\u001B[0m 2ms/step - loss: 0.0235 - mae: 0.0580 - val_loss: 0.0375 - val_mae: 0.0713\n",
      "Epoch 17/50\n",
      "\u001B[1m222/222\u001B[0m \u001B[32m━━━━━━━━━━━━━━━━━━━━\u001B[0m\u001B[37m\u001B[0m \u001B[1m0s\u001B[0m 2ms/step - loss: 0.0221 - mae: 0.0553 - val_loss: 0.0374 - val_mae: 0.0686\n",
      "Epoch 18/50\n",
      "\u001B[1m222/222\u001B[0m \u001B[32m━━━━━━━━━━━━━━━━━━━━\u001B[0m\u001B[37m\u001B[0m \u001B[1m0s\u001B[0m 2ms/step - loss: 0.0214 - mae: 0.0530 - val_loss: 0.0387 - val_mae: 0.0722\n",
      "Epoch 19/50\n",
      "\u001B[1m222/222\u001B[0m \u001B[32m━━━━━━━━━━━━━━━━━━━━\u001B[0m\u001B[37m\u001B[0m \u001B[1m0s\u001B[0m 2ms/step - loss: 0.0230 - mae: 0.0539 - val_loss: 0.0409 - val_mae: 0.0751\n",
      "Epoch 20/50\n",
      "\u001B[1m222/222\u001B[0m \u001B[32m━━━━━━━━━━━━━━━━━━━━\u001B[0m\u001B[37m\u001B[0m \u001B[1m0s\u001B[0m 2ms/step - loss: 0.0214 - mae: 0.0529 - val_loss: 0.0326 - val_mae: 0.0625\n",
      "Epoch 21/50\n",
      "\u001B[1m222/222\u001B[0m \u001B[32m━━━━━━━━━━━━━━━━━━━━\u001B[0m\u001B[37m\u001B[0m \u001B[1m0s\u001B[0m 2ms/step - loss: 0.0215 - mae: 0.0515 - val_loss: 0.0367 - val_mae: 0.0679\n",
      "Epoch 22/50\n",
      "\u001B[1m222/222\u001B[0m \u001B[32m━━━━━━━━━━━━━━━━━━━━\u001B[0m\u001B[37m\u001B[0m \u001B[1m0s\u001B[0m 2ms/step - loss: 0.0189 - mae: 0.0484 - val_loss: 0.0354 - val_mae: 0.0672\n",
      "Epoch 23/50\n",
      "\u001B[1m222/222\u001B[0m \u001B[32m━━━━━━━━━━━━━━━━━━━━\u001B[0m\u001B[37m\u001B[0m \u001B[1m0s\u001B[0m 2ms/step - loss: 0.0229 - mae: 0.0529 - val_loss: 0.0368 - val_mae: 0.0686\n",
      "Epoch 24/50\n",
      "\u001B[1m222/222\u001B[0m \u001B[32m━━━━━━━━━━━━━━━━━━━━\u001B[0m\u001B[37m\u001B[0m \u001B[1m1s\u001B[0m 2ms/step - loss: 0.0221 - mae: 0.0514 - val_loss: 0.0312 - val_mae: 0.0594\n",
      "Epoch 25/50\n",
      "\u001B[1m222/222\u001B[0m \u001B[32m━━━━━━━━━━━━━━━━━━━━\u001B[0m\u001B[37m\u001B[0m \u001B[1m0s\u001B[0m 2ms/step - loss: 0.0220 - mae: 0.0517 - val_loss: 0.0336 - val_mae: 0.0633\n",
      "Epoch 26/50\n",
      "\u001B[1m222/222\u001B[0m \u001B[32m━━━━━━━━━━━━━━━━━━━━\u001B[0m\u001B[37m\u001B[0m \u001B[1m0s\u001B[0m 2ms/step - loss: 0.0197 - mae: 0.0472 - val_loss: 0.0333 - val_mae: 0.0626\n",
      "Epoch 27/50\n",
      "\u001B[1m222/222\u001B[0m \u001B[32m━━━━━━━━━━━━━━━━━━━━\u001B[0m\u001B[37m\u001B[0m \u001B[1m0s\u001B[0m 2ms/step - loss: 0.0195 - mae: 0.0456 - val_loss: 0.0431 - val_mae: 0.0770\n",
      "Epoch 28/50\n",
      "\u001B[1m222/222\u001B[0m \u001B[32m━━━━━━━━━━━━━━━━━━━━\u001B[0m\u001B[37m\u001B[0m \u001B[1m0s\u001B[0m 2ms/step - loss: 0.0210 - mae: 0.0470 - val_loss: 0.0254 - val_mae: 0.0494\n",
      "Epoch 29/50\n",
      "\u001B[1m222/222\u001B[0m \u001B[32m━━━━━━━━━━━━━━━━━━━━\u001B[0m\u001B[37m\u001B[0m \u001B[1m0s\u001B[0m 2ms/step - loss: 0.0192 - mae: 0.0449 - val_loss: 0.0313 - val_mae: 0.0588\n",
      "Epoch 30/50\n",
      "\u001B[1m222/222\u001B[0m \u001B[32m━━━━━━━━━━━━━━━━━━━━\u001B[0m\u001B[37m\u001B[0m \u001B[1m0s\u001B[0m 2ms/step - loss: 0.0222 - mae: 0.0480 - val_loss: 0.0328 - val_mae: 0.0587\n",
      "Epoch 31/50\n",
      "\u001B[1m222/222\u001B[0m \u001B[32m━━━━━━━━━━━━━━━━━━━━\u001B[0m\u001B[37m\u001B[0m \u001B[1m0s\u001B[0m 2ms/step - loss: 0.0204 - mae: 0.0461 - val_loss: 0.0339 - val_mae: 0.0618\n",
      "Epoch 32/50\n",
      "\u001B[1m222/222\u001B[0m \u001B[32m━━━━━━━━━━━━━━━━━━━━\u001B[0m\u001B[37m\u001B[0m \u001B[1m0s\u001B[0m 2ms/step - loss: 0.0185 - mae: 0.0429 - val_loss: 0.0332 - val_mae: 0.0601\n",
      "Epoch 33/50\n",
      "\u001B[1m222/222\u001B[0m \u001B[32m━━━━━━━━━━━━━━━━━━━━\u001B[0m\u001B[37m\u001B[0m \u001B[1m0s\u001B[0m 2ms/step - loss: 0.0200 - mae: 0.0445 - val_loss: 0.0314 - val_mae: 0.0581\n",
      "Epoch 34/50\n",
      "\u001B[1m222/222\u001B[0m \u001B[32m━━━━━━━━━━━━━━━━━━━━\u001B[0m\u001B[37m\u001B[0m \u001B[1m0s\u001B[0m 2ms/step - loss: 0.0212 - mae: 0.0469 - val_loss: 0.0325 - val_mae: 0.0598\n",
      "Epoch 35/50\n",
      "\u001B[1m222/222\u001B[0m \u001B[32m━━━━━━━━━━━━━━━━━━━━\u001B[0m\u001B[37m\u001B[0m \u001B[1m0s\u001B[0m 2ms/step - loss: 0.0177 - mae: 0.0422 - val_loss: 0.0284 - val_mae: 0.0534\n",
      "Epoch 36/50\n",
      "\u001B[1m222/222\u001B[0m \u001B[32m━━━━━━━━━━━━━━━━━━━━\u001B[0m\u001B[37m\u001B[0m \u001B[1m0s\u001B[0m 2ms/step - loss: 0.0183 - mae: 0.0416 - val_loss: 0.0263 - val_mae: 0.0506\n",
      "Epoch 37/50\n",
      "\u001B[1m222/222\u001B[0m \u001B[32m━━━━━━━━━━━━━━━━━━━━\u001B[0m\u001B[37m\u001B[0m \u001B[1m1s\u001B[0m 2ms/step - loss: 0.0169 - mae: 0.0405 - val_loss: 0.0285 - val_mae: 0.0539\n",
      "Epoch 38/50\n",
      "\u001B[1m222/222\u001B[0m \u001B[32m━━━━━━━━━━━━━━━━━━━━\u001B[0m\u001B[37m\u001B[0m \u001B[1m0s\u001B[0m 2ms/step - loss: 0.0173 - mae: 0.0409 - val_loss: 0.0311 - val_mae: 0.0580\n",
      "Epoch 39/50\n",
      "\u001B[1m222/222\u001B[0m \u001B[32m━━━━━━━━━━━━━━━━━━━━\u001B[0m\u001B[37m\u001B[0m \u001B[1m0s\u001B[0m 2ms/step - loss: 0.0169 - mae: 0.0394 - val_loss: 0.0325 - val_mae: 0.0600\n",
      "Epoch 40/50\n",
      "\u001B[1m222/222\u001B[0m \u001B[32m━━━━━━━━━━━━━━━━━━━━\u001B[0m\u001B[37m\u001B[0m \u001B[1m0s\u001B[0m 2ms/step - loss: 0.0166 - mae: 0.0399 - val_loss: 0.0308 - val_mae: 0.0581\n",
      "Epoch 41/50\n",
      "\u001B[1m222/222\u001B[0m \u001B[32m━━━━━━━━━━━━━━━━━━━━\u001B[0m\u001B[37m\u001B[0m \u001B[1m0s\u001B[0m 2ms/step - loss: 0.0167 - mae: 0.0391 - val_loss: 0.0234 - val_mae: 0.0452\n",
      "Epoch 42/50\n",
      "\u001B[1m222/222\u001B[0m \u001B[32m━━━━━━━━━━━━━━━━━━━━\u001B[0m\u001B[37m\u001B[0m \u001B[1m0s\u001B[0m 2ms/step - loss: 0.0161 - mae: 0.0377 - val_loss: 0.0338 - val_mae: 0.0627\n",
      "Epoch 43/50\n",
      "\u001B[1m222/222\u001B[0m \u001B[32m━━━━━━━━━━━━━━━━━━━━\u001B[0m\u001B[37m\u001B[0m \u001B[1m0s\u001B[0m 2ms/step - loss: 0.0158 - mae: 0.0375 - val_loss: 0.0306 - val_mae: 0.0558\n",
      "Epoch 44/50\n",
      "\u001B[1m222/222\u001B[0m \u001B[32m━━━━━━━━━━━━━━━━━━━━\u001B[0m\u001B[37m\u001B[0m \u001B[1m0s\u001B[0m 2ms/step - loss: 0.0186 - mae: 0.0406 - val_loss: 0.0346 - val_mae: 0.0628\n",
      "Epoch 45/50\n",
      "\u001B[1m222/222\u001B[0m \u001B[32m━━━━━━━━━━━━━━━━━━━━\u001B[0m\u001B[37m\u001B[0m \u001B[1m0s\u001B[0m 2ms/step - loss: 0.0161 - mae: 0.0385 - val_loss: 0.0349 - val_mae: 0.0631\n",
      "Epoch 46/50\n",
      "\u001B[1m222/222\u001B[0m \u001B[32m━━━━━━━━━━━━━━━━━━━━\u001B[0m\u001B[37m\u001B[0m \u001B[1m0s\u001B[0m 2ms/step - loss: 0.0193 - mae: 0.0411 - val_loss: 0.0283 - val_mae: 0.0529\n",
      "Epoch 47/50\n",
      "\u001B[1m222/222\u001B[0m \u001B[32m━━━━━━━━━━━━━━━━━━━━\u001B[0m\u001B[37m\u001B[0m \u001B[1m0s\u001B[0m 2ms/step - loss: 0.0178 - mae: 0.0397 - val_loss: 0.0304 - val_mae: 0.0555\n",
      "Epoch 48/50\n",
      "\u001B[1m222/222\u001B[0m \u001B[32m━━━━━━━━━━━━━━━━━━━━\u001B[0m\u001B[37m\u001B[0m \u001B[1m0s\u001B[0m 2ms/step - loss: 0.0156 - mae: 0.0358 - val_loss: 0.0280 - val_mae: 0.0529\n",
      "Epoch 49/50\n",
      "\u001B[1m222/222\u001B[0m \u001B[32m━━━━━━━━━━━━━━━━━━━━\u001B[0m\u001B[37m\u001B[0m \u001B[1m0s\u001B[0m 2ms/step - loss: 0.0184 - mae: 0.0409 - val_loss: 0.0245 - val_mae: 0.0465\n",
      "Epoch 50/50\n",
      "\u001B[1m222/222\u001B[0m \u001B[32m━━━━━━━━━━━━━━━━━━━━\u001B[0m\u001B[37m\u001B[0m \u001B[1m0s\u001B[0m 2ms/step - loss: 0.0171 - mae: 0.0393 - val_loss: 0.0275 - val_mae: 0.0522\n"
     ]
    },
    {
     "name": "stderr",
     "output_type": "stream",
     "text": [
      "[I 2025-02-05 18:04:39,291] Trial 0 finished with value: 0.027532856911420822 and parameters: {'units': 160, 'learning_rate': 0.001}. Best is trial 0 with value: 0.027532856911420822.\n"
     ]
    },
    {
     "name": "stdout",
     "output_type": "stream",
     "text": [
      "Epoch 1/50\n",
      "\u001B[1m222/222\u001B[0m \u001B[32m━━━━━━━━━━━━━━━━━━━━\u001B[0m\u001B[37m\u001B[0m \u001B[1m1s\u001B[0m 3ms/step - loss: 0.1868 - mae: 0.2027 - val_loss: 0.1018 - val_mae: 0.1027\n",
      "Epoch 2/50\n",
      "\u001B[1m222/222\u001B[0m \u001B[32m━━━━━━━━━━━━━━━━━━━━\u001B[0m\u001B[37m\u001B[0m \u001B[1m0s\u001B[0m 2ms/step - loss: 0.2418 - mae: 0.2429 - val_loss: 0.3827 - val_mae: 0.3836\n",
      "Epoch 3/50\n",
      "\u001B[1m222/222\u001B[0m \u001B[32m━━━━━━━━━━━━━━━━━━━━\u001B[0m\u001B[37m\u001B[0m \u001B[1m0s\u001B[0m 2ms/step - loss: 0.1484 - mae: 0.1490 - val_loss: 0.3713 - val_mae: 0.3723\n",
      "Epoch 4/50\n",
      "\u001B[1m222/222\u001B[0m \u001B[32m━━━━━━━━━━━━━━━━━━━━\u001B[0m\u001B[37m\u001B[0m \u001B[1m1s\u001B[0m 2ms/step - loss: 0.1794 - mae: 0.1796 - val_loss: 0.4061 - val_mae: 0.4064\n",
      "Epoch 5/50\n",
      "\u001B[1m222/222\u001B[0m \u001B[32m━━━━━━━━━━━━━━━━━━━━\u001B[0m\u001B[37m\u001B[0m \u001B[1m0s\u001B[0m 2ms/step - loss: 0.1518 - mae: 0.1524 - val_loss: 0.3307 - val_mae: 0.3307\n",
      "Epoch 6/50\n",
      "\u001B[1m222/222\u001B[0m \u001B[32m━━━━━━━━━━━━━━━━━━━━\u001B[0m\u001B[37m\u001B[0m \u001B[1m1s\u001B[0m 2ms/step - loss: 0.1747 - mae: 0.1749 - val_loss: 0.4029 - val_mae: 0.4030\n",
      "Epoch 7/50\n",
      "\u001B[1m222/222\u001B[0m \u001B[32m━━━━━━━━━━━━━━━━━━━━\u001B[0m\u001B[37m\u001B[0m \u001B[1m0s\u001B[0m 2ms/step - loss: 0.1873 - mae: 0.1875 - val_loss: 0.2469 - val_mae: 0.2471\n",
      "Epoch 8/50\n",
      "\u001B[1m222/222\u001B[0m \u001B[32m━━━━━━━━━━━━━━━━━━━━\u001B[0m\u001B[37m\u001B[0m \u001B[1m0s\u001B[0m 2ms/step - loss: 0.1452 - mae: 0.1455 - val_loss: 0.3211 - val_mae: 0.3211\n",
      "Epoch 9/50\n",
      "\u001B[1m222/222\u001B[0m \u001B[32m━━━━━━━━━━━━━━━━━━━━\u001B[0m\u001B[37m\u001B[0m \u001B[1m0s\u001B[0m 2ms/step - loss: 0.1445 - mae: 0.1446 - val_loss: 0.3017 - val_mae: 0.3020\n",
      "Epoch 10/50\n",
      "\u001B[1m222/222\u001B[0m \u001B[32m━━━━━━━━━━━━━━━━━━━━\u001B[0m\u001B[37m\u001B[0m \u001B[1m0s\u001B[0m 2ms/step - loss: 0.1487 - mae: 0.1489 - val_loss: 0.0898 - val_mae: 0.0899\n",
      "Epoch 11/50\n",
      "\u001B[1m222/222\u001B[0m \u001B[32m━━━━━━━━━━━━━━━━━━━━\u001B[0m\u001B[37m\u001B[0m \u001B[1m0s\u001B[0m 2ms/step - loss: 0.2669 - mae: 0.2671 - val_loss: 0.1237 - val_mae: 0.1239\n",
      "Epoch 12/50\n",
      "\u001B[1m222/222\u001B[0m \u001B[32m━━━━━━━━━━━━━━━━━━━━\u001B[0m\u001B[37m\u001B[0m \u001B[1m0s\u001B[0m 2ms/step - loss: 0.1920 - mae: 0.1923 - val_loss: 0.2102 - val_mae: 0.2103\n",
      "Epoch 13/50\n",
      "\u001B[1m222/222\u001B[0m \u001B[32m━━━━━━━━━━━━━━━━━━━━\u001B[0m\u001B[37m\u001B[0m \u001B[1m0s\u001B[0m 2ms/step - loss: 0.2453 - mae: 0.2456 - val_loss: 0.1449 - val_mae: 0.1450\n",
      "Epoch 14/50\n",
      "\u001B[1m222/222\u001B[0m \u001B[32m━━━━━━━━━━━━━━━━━━━━\u001B[0m\u001B[37m\u001B[0m \u001B[1m1s\u001B[0m 2ms/step - loss: 0.2949 - mae: 0.2950 - val_loss: 0.0957 - val_mae: 0.0958\n",
      "Epoch 15/50\n",
      "\u001B[1m222/222\u001B[0m \u001B[32m━━━━━━━━━━━━━━━━━━━━\u001B[0m\u001B[37m\u001B[0m \u001B[1m0s\u001B[0m 2ms/step - loss: 0.2106 - mae: 0.2108 - val_loss: 0.2010 - val_mae: 0.2011\n",
      "Epoch 16/50\n",
      "\u001B[1m222/222\u001B[0m \u001B[32m━━━━━━━━━━━━━━━━━━━━\u001B[0m\u001B[37m\u001B[0m \u001B[1m0s\u001B[0m 2ms/step - loss: 0.1778 - mae: 0.1779 - val_loss: 0.1862 - val_mae: 0.1862\n",
      "Epoch 17/50\n",
      "\u001B[1m222/222\u001B[0m \u001B[32m━━━━━━━━━━━━━━━━━━━━\u001B[0m\u001B[37m\u001B[0m \u001B[1m0s\u001B[0m 2ms/step - loss: 0.1633 - mae: 0.1634 - val_loss: 0.1766 - val_mae: 0.1767\n",
      "Epoch 18/50\n",
      "\u001B[1m222/222\u001B[0m \u001B[32m━━━━━━━━━━━━━━━━━━━━\u001B[0m\u001B[37m\u001B[0m \u001B[1m0s\u001B[0m 2ms/step - loss: 0.1486 - mae: 0.1486 - val_loss: 0.1597 - val_mae: 0.1597\n",
      "Epoch 19/50\n",
      "\u001B[1m222/222\u001B[0m \u001B[32m━━━━━━━━━━━━━━━━━━━━\u001B[0m\u001B[37m\u001B[0m \u001B[1m0s\u001B[0m 2ms/step - loss: 0.1367 - mae: 0.1367 - val_loss: 0.1507 - val_mae: 0.1507\n",
      "Epoch 20/50\n",
      "\u001B[1m222/222\u001B[0m \u001B[32m━━━━━━━━━━━━━━━━━━━━\u001B[0m\u001B[37m\u001B[0m \u001B[1m0s\u001B[0m 2ms/step - loss: 0.1235 - mae: 0.1235 - val_loss: 0.1580 - val_mae: 0.1580\n",
      "Epoch 21/50\n",
      "\u001B[1m222/222\u001B[0m \u001B[32m━━━━━━━━━━━━━━━━━━━━\u001B[0m\u001B[37m\u001B[0m \u001B[1m0s\u001B[0m 2ms/step - loss: 0.1535 - mae: 0.1536 - val_loss: 0.2054 - val_mae: 0.2054\n",
      "Epoch 22/50\n",
      "\u001B[1m222/222\u001B[0m \u001B[32m━━━━━━━━━━━━━━━━━━━━\u001B[0m\u001B[37m\u001B[0m \u001B[1m1s\u001B[0m 2ms/step - loss: 0.1610 - mae: 0.1611 - val_loss: 0.3612 - val_mae: 0.3613\n",
      "Epoch 23/50\n",
      "\u001B[1m222/222\u001B[0m \u001B[32m━━━━━━━━━━━━━━━━━━━━\u001B[0m\u001B[37m\u001B[0m \u001B[1m1s\u001B[0m 2ms/step - loss: 0.1696 - mae: 0.1697 - val_loss: 0.2839 - val_mae: 0.2839\n",
      "Epoch 24/50\n",
      "\u001B[1m222/222\u001B[0m \u001B[32m━━━━━━━━━━━━━━━━━━━━\u001B[0m\u001B[37m\u001B[0m \u001B[1m0s\u001B[0m 2ms/step - loss: 0.1733 - mae: 0.1733 - val_loss: 0.3231 - val_mae: 0.3232\n",
      "Epoch 25/50\n",
      "\u001B[1m222/222\u001B[0m \u001B[32m━━━━━━━━━━━━━━━━━━━━\u001B[0m\u001B[37m\u001B[0m \u001B[1m0s\u001B[0m 2ms/step - loss: 0.1679 - mae: 0.1679 - val_loss: 0.3175 - val_mae: 0.3176\n",
      "Epoch 26/50\n",
      "\u001B[1m222/222\u001B[0m \u001B[32m━━━━━━━━━━━━━━━━━━━━\u001B[0m\u001B[37m\u001B[0m \u001B[1m0s\u001B[0m 2ms/step - loss: 0.1539 - mae: 0.1540 - val_loss: 0.2611 - val_mae: 0.2612\n",
      "Epoch 27/50\n",
      "\u001B[1m222/222\u001B[0m \u001B[32m━━━━━━━━━━━━━━━━━━━━\u001B[0m\u001B[37m\u001B[0m \u001B[1m0s\u001B[0m 2ms/step - loss: 0.1494 - mae: 0.1495 - val_loss: 0.2932 - val_mae: 0.2933\n",
      "Epoch 28/50\n",
      "\u001B[1m222/222\u001B[0m \u001B[32m━━━━━━━━━━━━━━━━━━━━\u001B[0m\u001B[37m\u001B[0m \u001B[1m0s\u001B[0m 2ms/step - loss: 0.1381 - mae: 0.1382 - val_loss: 0.2483 - val_mae: 0.2483\n",
      "Epoch 29/50\n",
      "\u001B[1m222/222\u001B[0m \u001B[32m━━━━━━━━━━━━━━━━━━━━\u001B[0m\u001B[37m\u001B[0m \u001B[1m0s\u001B[0m 2ms/step - loss: 0.1301 - mae: 0.1301 - val_loss: 0.2483 - val_mae: 0.2483\n",
      "Epoch 30/50\n",
      "\u001B[1m222/222\u001B[0m \u001B[32m━━━━━━━━━━━━━━━━━━━━\u001B[0m\u001B[37m\u001B[0m \u001B[1m0s\u001B[0m 2ms/step - loss: 0.1401 - mae: 0.1401 - val_loss: 0.3318 - val_mae: 0.3319\n",
      "Epoch 31/50\n",
      "\u001B[1m222/222\u001B[0m \u001B[32m━━━━━━━━━━━━━━━━━━━━\u001B[0m\u001B[37m\u001B[0m \u001B[1m1s\u001B[0m 2ms/step - loss: 0.1377 - mae: 0.1377 - val_loss: 0.1304 - val_mae: 0.1304\n",
      "Epoch 32/50\n",
      "\u001B[1m222/222\u001B[0m \u001B[32m━━━━━━━━━━━━━━━━━━━━\u001B[0m\u001B[37m\u001B[0m \u001B[1m1s\u001B[0m 2ms/step - loss: 0.2120 - mae: 0.2122 - val_loss: 0.1975 - val_mae: 0.1976\n",
      "Epoch 33/50\n",
      "\u001B[1m222/222\u001B[0m \u001B[32m━━━━━━━━━━━━━━━━━━━━\u001B[0m\u001B[37m\u001B[0m \u001B[1m0s\u001B[0m 2ms/step - loss: 0.1832 - mae: 0.1832 - val_loss: 0.1902 - val_mae: 0.1902\n",
      "Epoch 34/50\n",
      "\u001B[1m222/222\u001B[0m \u001B[32m━━━━━━━━━━━━━━━━━━━━\u001B[0m\u001B[37m\u001B[0m \u001B[1m0s\u001B[0m 2ms/step - loss: 0.1772 - mae: 0.1772 - val_loss: 0.2833 - val_mae: 0.2833\n",
      "Epoch 35/50\n",
      "\u001B[1m222/222\u001B[0m \u001B[32m━━━━━━━━━━━━━━━━━━━━\u001B[0m\u001B[37m\u001B[0m \u001B[1m0s\u001B[0m 2ms/step - loss: 0.1499 - mae: 0.1500 - val_loss: 0.2697 - val_mae: 0.2697\n",
      "Epoch 36/50\n",
      "\u001B[1m222/222\u001B[0m \u001B[32m━━━━━━━━━━━━━━━━━━━━\u001B[0m\u001B[37m\u001B[0m \u001B[1m0s\u001B[0m 2ms/step - loss: 0.1382 - mae: 0.1382 - val_loss: 0.2613 - val_mae: 0.2613\n",
      "Epoch 37/50\n",
      "\u001B[1m222/222\u001B[0m \u001B[32m━━━━━━━━━━━━━━━━━━━━\u001B[0m\u001B[37m\u001B[0m \u001B[1m0s\u001B[0m 2ms/step - loss: 0.1256 - mae: 0.1256 - val_loss: 0.3030 - val_mae: 0.3030\n",
      "Epoch 38/50\n",
      "\u001B[1m222/222\u001B[0m \u001B[32m━━━━━━━━━━━━━━━━━━━━\u001B[0m\u001B[37m\u001B[0m \u001B[1m0s\u001B[0m 2ms/step - loss: 0.1308 - mae: 0.1308 - val_loss: 0.3280 - val_mae: 0.3282\n",
      "Epoch 39/50\n",
      "\u001B[1m222/222\u001B[0m \u001B[32m━━━━━━━━━━━━━━━━━━━━\u001B[0m\u001B[37m\u001B[0m \u001B[1m0s\u001B[0m 2ms/step - loss: 0.1326 - mae: 0.1327 - val_loss: 0.2326 - val_mae: 0.2329\n",
      "Epoch 40/50\n",
      "\u001B[1m222/222\u001B[0m \u001B[32m━━━━━━━━━━━━━━━━━━━━\u001B[0m\u001B[37m\u001B[0m \u001B[1m1s\u001B[0m 2ms/step - loss: 0.1307 - mae: 0.1308 - val_loss: 0.2692 - val_mae: 0.2692\n",
      "Epoch 41/50\n",
      "\u001B[1m222/222\u001B[0m \u001B[32m━━━━━━━━━━━━━━━━━━━━\u001B[0m\u001B[37m\u001B[0m \u001B[1m0s\u001B[0m 2ms/step - loss: 0.1381 - mae: 0.1381 - val_loss: 0.2540 - val_mae: 0.2540\n",
      "Epoch 42/50\n",
      "\u001B[1m222/222\u001B[0m \u001B[32m━━━━━━━━━━━━━━━━━━━━\u001B[0m\u001B[37m\u001B[0m \u001B[1m0s\u001B[0m 2ms/step - loss: 0.1296 - mae: 0.1296 - val_loss: 0.1907 - val_mae: 0.1907\n",
      "Epoch 43/50\n",
      "\u001B[1m222/222\u001B[0m \u001B[32m━━━━━━━━━━━━━━━━━━━━\u001B[0m\u001B[37m\u001B[0m \u001B[1m0s\u001B[0m 2ms/step - loss: 0.1242 - mae: 0.1243 - val_loss: 0.2058 - val_mae: 0.2059\n",
      "Epoch 44/50\n",
      "\u001B[1m222/222\u001B[0m \u001B[32m━━━━━━━━━━━━━━━━━━━━\u001B[0m\u001B[37m\u001B[0m \u001B[1m0s\u001B[0m 2ms/step - loss: 0.1190 - mae: 0.1191 - val_loss: 0.1761 - val_mae: 0.1761\n",
      "Epoch 45/50\n",
      "\u001B[1m222/222\u001B[0m \u001B[32m━━━━━━━━━━━━━━━━━━━━\u001B[0m\u001B[37m\u001B[0m \u001B[1m0s\u001B[0m 2ms/step - loss: 0.1145 - mae: 0.1146 - val_loss: 0.2365 - val_mae: 0.2365\n",
      "Epoch 46/50\n",
      "\u001B[1m222/222\u001B[0m \u001B[32m━━━━━━━━━━━━━━━━━━━━\u001B[0m\u001B[37m\u001B[0m \u001B[1m0s\u001B[0m 2ms/step - loss: 0.1381 - mae: 0.1381 - val_loss: 0.2641 - val_mae: 0.2641\n",
      "Epoch 47/50\n",
      "\u001B[1m222/222\u001B[0m \u001B[32m━━━━━━━━━━━━━━━━━━━━\u001B[0m\u001B[37m\u001B[0m \u001B[1m0s\u001B[0m 2ms/step - loss: 0.1554 - mae: 0.1555 - val_loss: 0.1920 - val_mae: 0.1922\n",
      "Epoch 48/50\n",
      "\u001B[1m222/222\u001B[0m \u001B[32m━━━━━━━━━━━━━━━━━━━━\u001B[0m\u001B[37m\u001B[0m \u001B[1m0s\u001B[0m 2ms/step - loss: 0.1626 - mae: 0.1626 - val_loss: 0.2799 - val_mae: 0.2799\n",
      "Epoch 49/50\n",
      "\u001B[1m222/222\u001B[0m \u001B[32m━━━━━━━━━━━━━━━━━━━━\u001B[0m\u001B[37m\u001B[0m \u001B[1m0s\u001B[0m 2ms/step - loss: 0.1391 - mae: 0.1391 - val_loss: 0.2015 - val_mae: 0.2015\n",
      "Epoch 50/50\n",
      "\u001B[1m222/222\u001B[0m \u001B[32m━━━━━━━━━━━━━━━━━━━━\u001B[0m\u001B[37m\u001B[0m \u001B[1m0s\u001B[0m 2ms/step - loss: 0.1511 - mae: 0.1511 - val_loss: 0.1817 - val_mae: 0.1817\n"
     ]
    },
    {
     "name": "stderr",
     "output_type": "stream",
     "text": [
      "[I 2025-02-05 18:05:04,208] Trial 1 finished with value: 0.18171557784080505 and parameters: {'units': 160, 'learning_rate': 0.1}. Best is trial 0 with value: 0.027532856911420822.\n"
     ]
    },
    {
     "name": "stdout",
     "output_type": "stream",
     "text": [
      "Epoch 1/50\n",
      "\u001B[1m222/222\u001B[0m \u001B[32m━━━━━━━━━━━━━━━━━━━━\u001B[0m\u001B[37m\u001B[0m \u001B[1m1s\u001B[0m 3ms/step - loss: 0.0907 - mae: 0.1900 - val_loss: 0.0613 - val_mae: 0.0936\n",
      "Epoch 2/50\n",
      "\u001B[1m222/222\u001B[0m \u001B[32m━━━━━━━━━━━━━━━━━━━━\u001B[0m\u001B[37m\u001B[0m \u001B[1m0s\u001B[0m 2ms/step - loss: 0.0373 - mae: 0.0645 - val_loss: 0.0620 - val_mae: 0.0852\n",
      "Epoch 3/50\n",
      "\u001B[1m222/222\u001B[0m \u001B[32m━━━━━━━━━━━━━━━━━━━━\u001B[0m\u001B[37m\u001B[0m \u001B[1m0s\u001B[0m 2ms/step - loss: 0.0352 - mae: 0.0570 - val_loss: 0.0638 - val_mae: 0.0837\n",
      "Epoch 4/50\n",
      "\u001B[1m222/222\u001B[0m \u001B[32m━━━━━━━━━━━━━━━━━━━━\u001B[0m\u001B[37m\u001B[0m \u001B[1m0s\u001B[0m 2ms/step - loss: 0.0384 - mae: 0.0559 - val_loss: 0.0555 - val_mae: 0.0704\n",
      "Epoch 5/50\n",
      "\u001B[1m222/222\u001B[0m \u001B[32m━━━━━━━━━━━━━━━━━━━━\u001B[0m\u001B[37m\u001B[0m \u001B[1m0s\u001B[0m 2ms/step - loss: 0.0308 - mae: 0.0448 - val_loss: 0.1101 - val_mae: 0.1373\n",
      "Epoch 6/50\n",
      "\u001B[1m222/222\u001B[0m \u001B[32m━━━━━━━━━━━━━━━━━━━━\u001B[0m\u001B[37m\u001B[0m \u001B[1m0s\u001B[0m 2ms/step - loss: 0.0328 - mae: 0.0464 - val_loss: 0.0993 - val_mae: 0.1236\n",
      "Epoch 7/50\n",
      "\u001B[1m222/222\u001B[0m \u001B[32m━━━━━━━━━━━━━━━━━━━━\u001B[0m\u001B[37m\u001B[0m \u001B[1m0s\u001B[0m 2ms/step - loss: 0.0334 - mae: 0.0453 - val_loss: 0.0284 - val_mae: 0.0367\n",
      "Epoch 8/50\n",
      "\u001B[1m222/222\u001B[0m \u001B[32m━━━━━━━━━━━━━━━━━━━━\u001B[0m\u001B[37m\u001B[0m \u001B[1m0s\u001B[0m 2ms/step - loss: 0.0321 - mae: 0.0427 - val_loss: 0.0336 - val_mae: 0.0421\n",
      "Epoch 9/50\n",
      "\u001B[1m222/222\u001B[0m \u001B[32m━━━━━━━━━━━━━━━━━━━━\u001B[0m\u001B[37m\u001B[0m \u001B[1m0s\u001B[0m 2ms/step - loss: 0.0320 - mae: 0.0429 - val_loss: 0.0399 - val_mae: 0.0488\n",
      "Epoch 10/50\n",
      "\u001B[1m222/222\u001B[0m \u001B[32m━━━━━━━━━━━━━━━━━━━━\u001B[0m\u001B[37m\u001B[0m \u001B[1m0s\u001B[0m 2ms/step - loss: 0.0315 - mae: 0.0399 - val_loss: 0.0550 - val_mae: 0.0646\n",
      "Epoch 11/50\n",
      "\u001B[1m222/222\u001B[0m \u001B[32m━━━━━━━━━━━━━━━━━━━━\u001B[0m\u001B[37m\u001B[0m \u001B[1m0s\u001B[0m 2ms/step - loss: 0.0287 - mae: 0.0369 - val_loss: 0.0552 - val_mae: 0.0665\n",
      "Epoch 12/50\n",
      "\u001B[1m222/222\u001B[0m \u001B[32m━━━━━━━━━━━━━━━━━━━━\u001B[0m\u001B[37m\u001B[0m \u001B[1m0s\u001B[0m 2ms/step - loss: 0.0335 - mae: 0.0408 - val_loss: 0.0468 - val_mae: 0.0545\n",
      "Epoch 13/50\n",
      "\u001B[1m222/222\u001B[0m \u001B[32m━━━━━━━━━━━━━━━━━━━━\u001B[0m\u001B[37m\u001B[0m \u001B[1m1s\u001B[0m 2ms/step - loss: 0.0350 - mae: 0.0434 - val_loss: 0.0615 - val_mae: 0.0714\n",
      "Epoch 14/50\n",
      "\u001B[1m222/222\u001B[0m \u001B[32m━━━━━━━━━━━━━━━━━━━━\u001B[0m\u001B[37m\u001B[0m \u001B[1m1s\u001B[0m 2ms/step - loss: 0.0328 - mae: 0.0395 - val_loss: 0.0651 - val_mae: 0.0740\n",
      "Epoch 15/50\n",
      "\u001B[1m222/222\u001B[0m \u001B[32m━━━━━━━━━━━━━━━━━━━━\u001B[0m\u001B[37m\u001B[0m \u001B[1m0s\u001B[0m 2ms/step - loss: 0.0336 - mae: 0.0405 - val_loss: 0.0447 - val_mae: 0.0518\n",
      "Epoch 16/50\n",
      "\u001B[1m222/222\u001B[0m \u001B[32m━━━━━━━━━━━━━━━━━━━━\u001B[0m\u001B[37m\u001B[0m \u001B[1m0s\u001B[0m 2ms/step - loss: 0.0285 - mae: 0.0347 - val_loss: 0.0585 - val_mae: 0.0664\n",
      "Epoch 17/50\n",
      "\u001B[1m222/222\u001B[0m \u001B[32m━━━━━━━━━━━━━━━━━━━━\u001B[0m\u001B[37m\u001B[0m \u001B[1m0s\u001B[0m 2ms/step - loss: 0.0280 - mae: 0.0338 - val_loss: 0.0428 - val_mae: 0.0501\n",
      "Epoch 18/50\n",
      "\u001B[1m222/222\u001B[0m \u001B[32m━━━━━━━━━━━━━━━━━━━━\u001B[0m\u001B[37m\u001B[0m \u001B[1m0s\u001B[0m 2ms/step - loss: 0.0247 - mae: 0.0308 - val_loss: 0.0381 - val_mae: 0.0441\n",
      "Epoch 19/50\n",
      "\u001B[1m222/222\u001B[0m \u001B[32m━━━━━━━━━━━━━━━━━━━━\u001B[0m\u001B[37m\u001B[0m \u001B[1m0s\u001B[0m 2ms/step - loss: 0.0281 - mae: 0.0335 - val_loss: 0.0752 - val_mae: 0.0830\n",
      "Epoch 20/50\n",
      "\u001B[1m222/222\u001B[0m \u001B[32m━━━━━━━━━━━━━━━━━━━━\u001B[0m\u001B[37m\u001B[0m \u001B[1m0s\u001B[0m 2ms/step - loss: 0.0279 - mae: 0.0333 - val_loss: 0.0297 - val_mae: 0.0323\n",
      "Epoch 21/50\n",
      "\u001B[1m222/222\u001B[0m \u001B[32m━━━━━━━━━━━━━━━━━━━━\u001B[0m\u001B[37m\u001B[0m \u001B[1m0s\u001B[0m 2ms/step - loss: 0.0254 - mae: 0.0302 - val_loss: 0.0424 - val_mae: 0.0466\n",
      "Epoch 22/50\n",
      "\u001B[1m222/222\u001B[0m \u001B[32m━━━━━━━━━━━━━━━━━━━━\u001B[0m\u001B[37m\u001B[0m \u001B[1m1s\u001B[0m 2ms/step - loss: 0.0254 - mae: 0.0300 - val_loss: 0.0758 - val_mae: 0.0828\n",
      "Epoch 23/50\n",
      "\u001B[1m222/222\u001B[0m \u001B[32m━━━━━━━━━━━━━━━━━━━━\u001B[0m\u001B[37m\u001B[0m \u001B[1m0s\u001B[0m 2ms/step - loss: 0.0328 - mae: 0.0377 - val_loss: 0.0557 - val_mae: 0.0613\n",
      "Epoch 24/50\n",
      "\u001B[1m222/222\u001B[0m \u001B[32m━━━━━━━━━━━━━━━━━━━━\u001B[0m\u001B[37m\u001B[0m \u001B[1m0s\u001B[0m 2ms/step - loss: 0.0253 - mae: 0.0299 - val_loss: 0.0397 - val_mae: 0.0448\n",
      "Epoch 25/50\n",
      "\u001B[1m222/222\u001B[0m \u001B[32m━━━━━━━━━━━━━━━━━━━━\u001B[0m\u001B[37m\u001B[0m \u001B[1m0s\u001B[0m 2ms/step - loss: 0.0253 - mae: 0.0296 - val_loss: 0.0655 - val_mae: 0.0741\n",
      "Epoch 26/50\n",
      "\u001B[1m222/222\u001B[0m \u001B[32m━━━━━━━━━━━━━━━━━━━━\u001B[0m\u001B[37m\u001B[0m \u001B[1m0s\u001B[0m 2ms/step - loss: 0.0299 - mae: 0.0338 - val_loss: 0.0412 - val_mae: 0.0469\n",
      "Epoch 27/50\n",
      "\u001B[1m222/222\u001B[0m \u001B[32m━━━━━━━━━━━━━━━━━━━━\u001B[0m\u001B[37m\u001B[0m \u001B[1m0s\u001B[0m 2ms/step - loss: 0.0257 - mae: 0.0300 - val_loss: 0.0809 - val_mae: 0.0914\n",
      "Epoch 28/50\n",
      "\u001B[1m222/222\u001B[0m \u001B[32m━━━━━━━━━━━━━━━━━━━━\u001B[0m\u001B[37m\u001B[0m \u001B[1m0s\u001B[0m 2ms/step - loss: 0.0366 - mae: 0.0403 - val_loss: 0.0438 - val_mae: 0.0488\n",
      "Epoch 29/50\n",
      "\u001B[1m222/222\u001B[0m \u001B[32m━━━━━━━━━━━━━━━━━━━━\u001B[0m\u001B[37m\u001B[0m \u001B[1m0s\u001B[0m 2ms/step - loss: 0.0274 - mae: 0.0311 - val_loss: 0.0367 - val_mae: 0.0396\n",
      "Epoch 30/50\n",
      "\u001B[1m222/222\u001B[0m \u001B[32m━━━━━━━━━━━━━━━━━━━━\u001B[0m\u001B[37m\u001B[0m \u001B[1m0s\u001B[0m 2ms/step - loss: 0.0293 - mae: 0.0326 - val_loss: 0.0318 - val_mae: 0.0349\n",
      "Epoch 31/50\n",
      "\u001B[1m222/222\u001B[0m \u001B[32m━━━━━━━━━━━━━━━━━━━━\u001B[0m\u001B[37m\u001B[0m \u001B[1m0s\u001B[0m 2ms/step - loss: 0.0247 - mae: 0.0289 - val_loss: 0.0794 - val_mae: 0.0835\n",
      "Epoch 32/50\n",
      "\u001B[1m222/222\u001B[0m \u001B[32m━━━━━━━━━━━━━━━━━━━━\u001B[0m\u001B[37m\u001B[0m \u001B[1m0s\u001B[0m 2ms/step - loss: 0.0322 - mae: 0.0352 - val_loss: 0.0595 - val_mae: 0.0661\n",
      "Epoch 33/50\n",
      "\u001B[1m222/222\u001B[0m \u001B[32m━━━━━━━━━━━━━━━━━━━━\u001B[0m\u001B[37m\u001B[0m \u001B[1m0s\u001B[0m 2ms/step - loss: 0.0241 - mae: 0.0270 - val_loss: 0.0742 - val_mae: 0.0785\n",
      "Epoch 34/50\n",
      "\u001B[1m222/222\u001B[0m \u001B[32m━━━━━━━━━━━━━━━━━━━━\u001B[0m\u001B[37m\u001B[0m \u001B[1m0s\u001B[0m 2ms/step - loss: 0.0285 - mae: 0.0314 - val_loss: 0.0569 - val_mae: 0.0629\n",
      "Epoch 35/50\n",
      "\u001B[1m222/222\u001B[0m \u001B[32m━━━━━━━━━━━━━━━━━━━━\u001B[0m\u001B[37m\u001B[0m \u001B[1m0s\u001B[0m 2ms/step - loss: 0.0271 - mae: 0.0303 - val_loss: 0.0334 - val_mae: 0.0359\n",
      "Epoch 36/50\n",
      "\u001B[1m222/222\u001B[0m \u001B[32m━━━━━━━━━━━━━━━━━━━━\u001B[0m\u001B[37m\u001B[0m \u001B[1m0s\u001B[0m 2ms/step - loss: 0.0241 - mae: 0.0267 - val_loss: 0.0737 - val_mae: 0.0792\n",
      "Epoch 37/50\n",
      "\u001B[1m222/222\u001B[0m \u001B[32m━━━━━━━━━━━━━━━━━━━━\u001B[0m\u001B[37m\u001B[0m \u001B[1m0s\u001B[0m 2ms/step - loss: 0.0246 - mae: 0.0274 - val_loss: 0.0373 - val_mae: 0.0397\n",
      "Epoch 38/50\n",
      "\u001B[1m222/222\u001B[0m \u001B[32m━━━━━━━━━━━━━━━━━━━━\u001B[0m\u001B[37m\u001B[0m \u001B[1m1s\u001B[0m 2ms/step - loss: 0.0256 - mae: 0.0280 - val_loss: 0.0586 - val_mae: 0.0618\n",
      "Epoch 39/50\n",
      "\u001B[1m222/222\u001B[0m \u001B[32m━━━━━━━━━━━━━━━━━━━━\u001B[0m\u001B[37m\u001B[0m \u001B[1m0s\u001B[0m 2ms/step - loss: 0.0305 - mae: 0.0339 - val_loss: 0.0449 - val_mae: 0.0486\n",
      "Epoch 40/50\n",
      "\u001B[1m222/222\u001B[0m \u001B[32m━━━━━━━━━━━━━━━━━━━━\u001B[0m\u001B[37m\u001B[0m \u001B[1m0s\u001B[0m 2ms/step - loss: 0.0311 - mae: 0.0354 - val_loss: 0.0580 - val_mae: 0.0621\n",
      "Epoch 41/50\n",
      "\u001B[1m222/222\u001B[0m \u001B[32m━━━━━━━━━━━━━━━━━━━━\u001B[0m\u001B[37m\u001B[0m \u001B[1m0s\u001B[0m 2ms/step - loss: 0.0296 - mae: 0.0322 - val_loss: 0.0378 - val_mae: 0.0413\n",
      "Epoch 42/50\n",
      "\u001B[1m222/222\u001B[0m \u001B[32m━━━━━━━━━━━━━━━━━━━━\u001B[0m\u001B[37m\u001B[0m \u001B[1m0s\u001B[0m 2ms/step - loss: 0.0275 - mae: 0.0301 - val_loss: 0.0372 - val_mae: 0.0392\n",
      "Epoch 43/50\n",
      "\u001B[1m222/222\u001B[0m \u001B[32m━━━━━━━━━━━━━━━━━━━━\u001B[0m\u001B[37m\u001B[0m \u001B[1m0s\u001B[0m 2ms/step - loss: 0.0267 - mae: 0.0294 - val_loss: 0.0578 - val_mae: 0.0619\n",
      "Epoch 44/50\n",
      "\u001B[1m222/222\u001B[0m \u001B[32m━━━━━━━━━━━━━━━━━━━━\u001B[0m\u001B[37m\u001B[0m \u001B[1m0s\u001B[0m 2ms/step - loss: 0.0261 - mae: 0.0289 - val_loss: 0.0475 - val_mae: 0.0513\n",
      "Epoch 45/50\n",
      "\u001B[1m222/222\u001B[0m \u001B[32m━━━━━━━━━━━━━━━━━━━━\u001B[0m\u001B[37m\u001B[0m \u001B[1m0s\u001B[0m 2ms/step - loss: 0.0281 - mae: 0.0310 - val_loss: 0.0282 - val_mae: 0.0304\n",
      "Epoch 46/50\n",
      "\u001B[1m222/222\u001B[0m \u001B[32m━━━━━━━━━━━━━━━━━━━━\u001B[0m\u001B[37m\u001B[0m \u001B[1m0s\u001B[0m 2ms/step - loss: 0.0243 - mae: 0.0269 - val_loss: 0.0959 - val_mae: 0.1013\n",
      "Epoch 47/50\n",
      "\u001B[1m222/222\u001B[0m \u001B[32m━━━━━━━━━━━━━━━━━━━━\u001B[0m\u001B[37m\u001B[0m \u001B[1m1s\u001B[0m 2ms/step - loss: 0.0315 - mae: 0.0338 - val_loss: 0.0482 - val_mae: 0.0506\n",
      "Epoch 48/50\n",
      "\u001B[1m222/222\u001B[0m \u001B[32m━━━━━━━━━━━━━━━━━━━━\u001B[0m\u001B[37m\u001B[0m \u001B[1m0s\u001B[0m 2ms/step - loss: 0.0214 - mae: 0.0234 - val_loss: 0.0457 - val_mae: 0.0478\n",
      "Epoch 49/50\n",
      "\u001B[1m222/222\u001B[0m \u001B[32m━━━━━━━━━━━━━━━━━━━━\u001B[0m\u001B[37m\u001B[0m \u001B[1m0s\u001B[0m 2ms/step - loss: 0.0269 - mae: 0.0291 - val_loss: 0.0361 - val_mae: 0.0389\n",
      "Epoch 50/50\n",
      "\u001B[1m222/222\u001B[0m \u001B[32m━━━━━━━━━━━━━━━━━━━━\u001B[0m\u001B[37m\u001B[0m \u001B[1m0s\u001B[0m 2ms/step - loss: 0.0298 - mae: 0.0326 - val_loss: 0.0725 - val_mae: 0.0773\n"
     ]
    },
    {
     "name": "stderr",
     "output_type": "stream",
     "text": [
      "[I 2025-02-05 18:05:29,253] Trial 2 finished with value: 0.07248912751674652 and parameters: {'units': 384, 'learning_rate': 0.01}. Best is trial 0 with value: 0.027532856911420822.\n"
     ]
    },
    {
     "name": "stdout",
     "output_type": "stream",
     "text": [
      "Epoch 1/50\n",
      "\u001B[1m222/222\u001B[0m \u001B[32m━━━━━━━━━━━━━━━━━━━━\u001B[0m\u001B[37m\u001B[0m \u001B[1m1s\u001B[0m 3ms/step - loss: 0.0811 - mae: 0.1707 - val_loss: 0.0693 - val_mae: 0.0954\n",
      "Epoch 2/50\n",
      "\u001B[1m222/222\u001B[0m \u001B[32m━━━━━━━━━━━━━━━━━━━━\u001B[0m\u001B[37m\u001B[0m \u001B[1m0s\u001B[0m 2ms/step - loss: 0.0400 - mae: 0.0662 - val_loss: 0.0530 - val_mae: 0.0763\n",
      "Epoch 3/50\n",
      "\u001B[1m222/222\u001B[0m \u001B[32m━━━━━━━━━━━━━━━━━━━━\u001B[0m\u001B[37m\u001B[0m \u001B[1m0s\u001B[0m 2ms/step - loss: 0.0388 - mae: 0.0601 - val_loss: 0.0534 - val_mae: 0.0724\n",
      "Epoch 4/50\n",
      "\u001B[1m222/222\u001B[0m \u001B[32m━━━━━━━━━━━━━━━━━━━━\u001B[0m\u001B[37m\u001B[0m \u001B[1m1s\u001B[0m 2ms/step - loss: 0.0284 - mae: 0.0454 - val_loss: 0.0610 - val_mae: 0.0819\n",
      "Epoch 5/50\n",
      "\u001B[1m222/222\u001B[0m \u001B[32m━━━━━━━━━━━━━━━━━━━━\u001B[0m\u001B[37m\u001B[0m \u001B[1m0s\u001B[0m 2ms/step - loss: 0.0306 - mae: 0.0448 - val_loss: 0.0811 - val_mae: 0.1055\n",
      "Epoch 6/50\n",
      "\u001B[1m222/222\u001B[0m \u001B[32m━━━━━━━━━━━━━━━━━━━━\u001B[0m\u001B[37m\u001B[0m \u001B[1m0s\u001B[0m 2ms/step - loss: 0.0340 - mae: 0.0473 - val_loss: 0.0841 - val_mae: 0.1024\n",
      "Epoch 7/50\n",
      "\u001B[1m222/222\u001B[0m \u001B[32m━━━━━━━━━━━━━━━━━━━━\u001B[0m\u001B[37m\u001B[0m \u001B[1m0s\u001B[0m 2ms/step - loss: 0.0315 - mae: 0.0430 - val_loss: 0.0486 - val_mae: 0.0595\n",
      "Epoch 8/50\n",
      "\u001B[1m222/222\u001B[0m \u001B[32m━━━━━━━━━━━━━━━━━━━━\u001B[0m\u001B[37m\u001B[0m \u001B[1m0s\u001B[0m 2ms/step - loss: 0.0320 - mae: 0.0428 - val_loss: 0.0428 - val_mae: 0.0550\n",
      "Epoch 9/50\n",
      "\u001B[1m222/222\u001B[0m \u001B[32m━━━━━━━━━━━━━━━━━━━━\u001B[0m\u001B[37m\u001B[0m \u001B[1m0s\u001B[0m 2ms/step - loss: 0.0297 - mae: 0.0385 - val_loss: 0.0463 - val_mae: 0.0557\n",
      "Epoch 10/50\n",
      "\u001B[1m222/222\u001B[0m \u001B[32m━━━━━━━━━━━━━━━━━━━━\u001B[0m\u001B[37m\u001B[0m \u001B[1m0s\u001B[0m 2ms/step - loss: 0.0303 - mae: 0.0399 - val_loss: 0.0491 - val_mae: 0.0595\n",
      "Epoch 11/50\n",
      "\u001B[1m222/222\u001B[0m \u001B[32m━━━━━━━━━━━━━━━━━━━━\u001B[0m\u001B[37m\u001B[0m \u001B[1m0s\u001B[0m 2ms/step - loss: 0.0324 - mae: 0.0411 - val_loss: 0.0457 - val_mae: 0.0555\n",
      "Epoch 12/50\n",
      "\u001B[1m222/222\u001B[0m \u001B[32m━━━━━━━━━━━━━━━━━━━━\u001B[0m\u001B[37m\u001B[0m \u001B[1m1s\u001B[0m 2ms/step - loss: 0.0286 - mae: 0.0363 - val_loss: 0.0602 - val_mae: 0.0711\n",
      "Epoch 13/50\n",
      "\u001B[1m222/222\u001B[0m \u001B[32m━━━━━━━━━━━━━━━━━━━━\u001B[0m\u001B[37m\u001B[0m \u001B[1m0s\u001B[0m 2ms/step - loss: 0.0319 - mae: 0.0394 - val_loss: 0.0416 - val_mae: 0.0497\n",
      "Epoch 14/50\n",
      "\u001B[1m222/222\u001B[0m \u001B[32m━━━━━━━━━━━━━━━━━━━━\u001B[0m\u001B[37m\u001B[0m \u001B[1m0s\u001B[0m 2ms/step - loss: 0.0244 - mae: 0.0312 - val_loss: 0.0462 - val_mae: 0.0542\n",
      "Epoch 15/50\n",
      "\u001B[1m222/222\u001B[0m \u001B[32m━━━━━━━━━━━━━━━━━━━━\u001B[0m\u001B[37m\u001B[0m \u001B[1m0s\u001B[0m 2ms/step - loss: 0.0308 - mae: 0.0379 - val_loss: 0.0959 - val_mae: 0.1068\n",
      "Epoch 16/50\n",
      "\u001B[1m222/222\u001B[0m \u001B[32m━━━━━━━━━━━━━━━━━━━━\u001B[0m\u001B[37m\u001B[0m \u001B[1m0s\u001B[0m 2ms/step - loss: 0.0280 - mae: 0.0331 - val_loss: 0.0297 - val_mae: 0.0354\n",
      "Epoch 17/50\n",
      "\u001B[1m222/222\u001B[0m \u001B[32m━━━━━━━━━━━━━━━━━━━━\u001B[0m\u001B[37m\u001B[0m \u001B[1m0s\u001B[0m 2ms/step - loss: 0.0284 - mae: 0.0351 - val_loss: 0.0626 - val_mae: 0.0708\n",
      "Epoch 18/50\n",
      "\u001B[1m222/222\u001B[0m \u001B[32m━━━━━━━━━━━━━━━━━━━━\u001B[0m\u001B[37m\u001B[0m \u001B[1m0s\u001B[0m 2ms/step - loss: 0.0272 - mae: 0.0335 - val_loss: 0.0729 - val_mae: 0.0823\n",
      "Epoch 19/50\n",
      "\u001B[1m222/222\u001B[0m \u001B[32m━━━━━━━━━━━━━━━━━━━━\u001B[0m\u001B[37m\u001B[0m \u001B[1m0s\u001B[0m 2ms/step - loss: 0.0290 - mae: 0.0343 - val_loss: 0.0603 - val_mae: 0.0677\n",
      "Epoch 20/50\n",
      "\u001B[1m222/222\u001B[0m \u001B[32m━━━━━━━━━━━━━━━━━━━━\u001B[0m\u001B[37m\u001B[0m \u001B[1m1s\u001B[0m 2ms/step - loss: 0.0289 - mae: 0.0335 - val_loss: 0.0653 - val_mae: 0.0751\n",
      "Epoch 21/50\n",
      "\u001B[1m222/222\u001B[0m \u001B[32m━━━━━━━━━━━━━━━━━━━━\u001B[0m\u001B[37m\u001B[0m \u001B[1m0s\u001B[0m 2ms/step - loss: 0.0255 - mae: 0.0320 - val_loss: 0.0556 - val_mae: 0.0638\n",
      "Epoch 22/50\n",
      "\u001B[1m222/222\u001B[0m \u001B[32m━━━━━━━━━━━━━━━━━━━━\u001B[0m\u001B[37m\u001B[0m \u001B[1m0s\u001B[0m 2ms/step - loss: 0.0282 - mae: 0.0331 - val_loss: 0.0497 - val_mae: 0.0564\n",
      "Epoch 23/50\n",
      "\u001B[1m222/222\u001B[0m \u001B[32m━━━━━━━━━━━━━━━━━━━━\u001B[0m\u001B[37m\u001B[0m \u001B[1m0s\u001B[0m 2ms/step - loss: 0.0279 - mae: 0.0330 - val_loss: 0.0509 - val_mae: 0.0565\n",
      "Epoch 24/50\n",
      "\u001B[1m222/222\u001B[0m \u001B[32m━━━━━━━━━━━━━━━━━━━━\u001B[0m\u001B[37m\u001B[0m \u001B[1m1s\u001B[0m 2ms/step - loss: 0.0299 - mae: 0.0335 - val_loss: 0.0665 - val_mae: 0.0712\n",
      "Epoch 25/50\n",
      "\u001B[1m222/222\u001B[0m \u001B[32m━━━━━━━━━━━━━━━━━━━━\u001B[0m\u001B[37m\u001B[0m \u001B[1m0s\u001B[0m 2ms/step - loss: 0.0276 - mae: 0.0324 - val_loss: 0.0407 - val_mae: 0.0472\n",
      "Epoch 26/50\n",
      "\u001B[1m222/222\u001B[0m \u001B[32m━━━━━━━━━━━━━━━━━━━━\u001B[0m\u001B[37m\u001B[0m \u001B[1m0s\u001B[0m 2ms/step - loss: 0.0255 - mae: 0.0295 - val_loss: 0.0450 - val_mae: 0.0500\n",
      "Epoch 27/50\n",
      "\u001B[1m222/222\u001B[0m \u001B[32m━━━━━━━━━━━━━━━━━━━━\u001B[0m\u001B[37m\u001B[0m \u001B[1m0s\u001B[0m 2ms/step - loss: 0.0246 - mae: 0.0286 - val_loss: 0.0530 - val_mae: 0.0584\n",
      "Epoch 28/50\n",
      "\u001B[1m222/222\u001B[0m \u001B[32m━━━━━━━━━━━━━━━━━━━━\u001B[0m\u001B[37m\u001B[0m \u001B[1m0s\u001B[0m 2ms/step - loss: 0.0292 - mae: 0.0330 - val_loss: 0.0462 - val_mae: 0.0531\n",
      "Epoch 29/50\n",
      "\u001B[1m222/222\u001B[0m \u001B[32m━━━━━━━━━━━━━━━━━━━━\u001B[0m\u001B[37m\u001B[0m \u001B[1m1s\u001B[0m 2ms/step - loss: 0.0323 - mae: 0.0366 - val_loss: 0.0519 - val_mae: 0.0580\n",
      "Epoch 30/50\n",
      "\u001B[1m222/222\u001B[0m \u001B[32m━━━━━━━━━━━━━━━━━━━━\u001B[0m\u001B[37m\u001B[0m \u001B[1m0s\u001B[0m 2ms/step - loss: 0.0321 - mae: 0.0369 - val_loss: 0.0331 - val_mae: 0.0351\n",
      "Epoch 31/50\n",
      "\u001B[1m222/222\u001B[0m \u001B[32m━━━━━━━━━━━━━━━━━━━━\u001B[0m\u001B[37m\u001B[0m \u001B[1m0s\u001B[0m 2ms/step - loss: 0.0269 - mae: 0.0307 - val_loss: 0.0506 - val_mae: 0.0547\n",
      "Epoch 32/50\n",
      "\u001B[1m222/222\u001B[0m \u001B[32m━━━━━━━━━━━━━━━━━━━━\u001B[0m\u001B[37m\u001B[0m \u001B[1m0s\u001B[0m 2ms/step - loss: 0.0263 - mae: 0.0296 - val_loss: 0.0611 - val_mae: 0.0661\n",
      "Epoch 33/50\n",
      "\u001B[1m222/222\u001B[0m \u001B[32m━━━━━━━━━━━━━━━━━━━━\u001B[0m\u001B[37m\u001B[0m \u001B[1m0s\u001B[0m 2ms/step - loss: 0.0259 - mae: 0.0294 - val_loss: 0.0285 - val_mae: 0.0311\n",
      "Epoch 34/50\n",
      "\u001B[1m222/222\u001B[0m \u001B[32m━━━━━━━━━━━━━━━━━━━━\u001B[0m\u001B[37m\u001B[0m \u001B[1m0s\u001B[0m 2ms/step - loss: 0.0260 - mae: 0.0296 - val_loss: 0.0785 - val_mae: 0.0863\n",
      "Epoch 35/50\n",
      "\u001B[1m222/222\u001B[0m \u001B[32m━━━━━━━━━━━━━━━━━━━━\u001B[0m\u001B[37m\u001B[0m \u001B[1m0s\u001B[0m 2ms/step - loss: 0.0304 - mae: 0.0340 - val_loss: 0.0442 - val_mae: 0.0461\n",
      "Epoch 36/50\n",
      "\u001B[1m222/222\u001B[0m \u001B[32m━━━━━━━━━━━━━━━━━━━━\u001B[0m\u001B[37m\u001B[0m \u001B[1m0s\u001B[0m 2ms/step - loss: 0.0213 - mae: 0.0247 - val_loss: 0.0360 - val_mae: 0.0387\n",
      "Epoch 37/50\n",
      "\u001B[1m222/222\u001B[0m \u001B[32m━━━━━━━━━━━━━━━━━━━━\u001B[0m\u001B[37m\u001B[0m \u001B[1m1s\u001B[0m 2ms/step - loss: 0.0239 - mae: 0.0269 - val_loss: 0.0503 - val_mae: 0.0580\n",
      "Epoch 38/50\n",
      "\u001B[1m222/222\u001B[0m \u001B[32m━━━━━━━━━━━━━━━━━━━━\u001B[0m\u001B[37m\u001B[0m \u001B[1m1s\u001B[0m 3ms/step - loss: 0.0260 - mae: 0.0288 - val_loss: 0.0547 - val_mae: 0.0594\n",
      "Epoch 39/50\n",
      "\u001B[1m222/222\u001B[0m \u001B[32m━━━━━━━━━━━━━━━━━━━━\u001B[0m\u001B[37m\u001B[0m \u001B[1m1s\u001B[0m 2ms/step - loss: 0.0243 - mae: 0.0272 - val_loss: 0.0504 - val_mae: 0.0567\n",
      "Epoch 40/50\n",
      "\u001B[1m222/222\u001B[0m \u001B[32m━━━━━━━━━━━━━━━━━━━━\u001B[0m\u001B[37m\u001B[0m \u001B[1m1s\u001B[0m 3ms/step - loss: 0.0251 - mae: 0.0283 - val_loss: 0.0420 - val_mae: 0.0440\n",
      "Epoch 41/50\n",
      "\u001B[1m222/222\u001B[0m \u001B[32m━━━━━━━━━━━━━━━━━━━━\u001B[0m\u001B[37m\u001B[0m \u001B[1m1s\u001B[0m 2ms/step - loss: 0.0228 - mae: 0.0254 - val_loss: 0.0446 - val_mae: 0.0469\n",
      "Epoch 42/50\n",
      "\u001B[1m222/222\u001B[0m \u001B[32m━━━━━━━━━━━━━━━━━━━━\u001B[0m\u001B[37m\u001B[0m \u001B[1m1s\u001B[0m 3ms/step - loss: 0.0290 - mae: 0.0320 - val_loss: 0.0525 - val_mae: 0.0579\n",
      "Epoch 43/50\n",
      "\u001B[1m222/222\u001B[0m \u001B[32m━━━━━━━━━━━━━━━━━━━━\u001B[0m\u001B[37m\u001B[0m \u001B[1m1s\u001B[0m 2ms/step - loss: 0.0246 - mae: 0.0272 - val_loss: 0.0360 - val_mae: 0.0395\n",
      "Epoch 44/50\n",
      "\u001B[1m222/222\u001B[0m \u001B[32m━━━━━━━━━━━━━━━━━━━━\u001B[0m\u001B[37m\u001B[0m \u001B[1m0s\u001B[0m 2ms/step - loss: 0.0296 - mae: 0.0323 - val_loss: 0.0682 - val_mae: 0.0727\n",
      "Epoch 45/50\n",
      "\u001B[1m222/222\u001B[0m \u001B[32m━━━━━━━━━━━━━━━━━━━━\u001B[0m\u001B[37m\u001B[0m \u001B[1m0s\u001B[0m 2ms/step - loss: 0.0271 - mae: 0.0309 - val_loss: 0.0543 - val_mae: 0.0598\n",
      "Epoch 46/50\n",
      "\u001B[1m222/222\u001B[0m \u001B[32m━━━━━━━━━━━━━━━━━━━━\u001B[0m\u001B[37m\u001B[0m \u001B[1m0s\u001B[0m 2ms/step - loss: 0.0271 - mae: 0.0297 - val_loss: 0.0452 - val_mae: 0.0488\n",
      "Epoch 47/50\n",
      "\u001B[1m222/222\u001B[0m \u001B[32m━━━━━━━━━━━━━━━━━━━━\u001B[0m\u001B[37m\u001B[0m \u001B[1m0s\u001B[0m 2ms/step - loss: 0.0208 - mae: 0.0230 - val_loss: 0.0748 - val_mae: 0.0780\n",
      "Epoch 48/50\n",
      "\u001B[1m222/222\u001B[0m \u001B[32m━━━━━━━━━━━━━━━━━━━━\u001B[0m\u001B[37m\u001B[0m \u001B[1m0s\u001B[0m 2ms/step - loss: 0.0277 - mae: 0.0298 - val_loss: 0.0348 - val_mae: 0.0372\n",
      "Epoch 49/50\n",
      "\u001B[1m222/222\u001B[0m \u001B[32m━━━━━━━━━━━━━━━━━━━━\u001B[0m\u001B[37m\u001B[0m \u001B[1m0s\u001B[0m 2ms/step - loss: 0.0266 - mae: 0.0291 - val_loss: 0.0528 - val_mae: 0.0561\n",
      "Epoch 50/50\n",
      "\u001B[1m222/222\u001B[0m \u001B[32m━━━━━━━━━━━━━━━━━━━━\u001B[0m\u001B[37m\u001B[0m \u001B[1m0s\u001B[0m 2ms/step - loss: 0.0244 - mae: 0.0273 - val_loss: 0.0452 - val_mae: 0.0479\n"
     ]
    },
    {
     "name": "stderr",
     "output_type": "stream",
     "text": [
      "[I 2025-02-05 18:05:55,054] Trial 3 finished with value: 0.04519277065992355 and parameters: {'units': 352, 'learning_rate': 0.01}. Best is trial 0 with value: 0.027532856911420822.\n"
     ]
    },
    {
     "name": "stdout",
     "output_type": "stream",
     "text": [
      "Epoch 1/50\n",
      "\u001B[1m222/222\u001B[0m \u001B[32m━━━━━━━━━━━━━━━━━━━━\u001B[0m\u001B[37m\u001B[0m \u001B[1m1s\u001B[0m 3ms/step - loss: 0.0800 - mae: 0.1648 - val_loss: 0.0790 - val_mae: 0.1130\n",
      "Epoch 2/50\n",
      "\u001B[1m222/222\u001B[0m \u001B[32m━━━━━━━━━━━━━━━━━━━━\u001B[0m\u001B[37m\u001B[0m \u001B[1m1s\u001B[0m 2ms/step - loss: 0.0425 - mae: 0.0687 - val_loss: 0.0535 - val_mae: 0.0721\n",
      "Epoch 3/50\n",
      "\u001B[1m222/222\u001B[0m \u001B[32m━━━━━━━━━━━━━━━━━━━━\u001B[0m\u001B[37m\u001B[0m \u001B[1m0s\u001B[0m 2ms/step - loss: 0.0344 - mae: 0.0515 - val_loss: 0.0640 - val_mae: 0.0872\n",
      "Epoch 4/50\n",
      "\u001B[1m222/222\u001B[0m \u001B[32m━━━━━━━━━━━━━━━━━━━━\u001B[0m\u001B[37m\u001B[0m \u001B[1m0s\u001B[0m 2ms/step - loss: 0.0339 - mae: 0.0500 - val_loss: 0.0695 - val_mae: 0.0843\n",
      "Epoch 5/50\n",
      "\u001B[1m222/222\u001B[0m \u001B[32m━━━━━━━━━━━━━━━━━━━━\u001B[0m\u001B[37m\u001B[0m \u001B[1m0s\u001B[0m 2ms/step - loss: 0.0408 - mae: 0.0532 - val_loss: 0.0518 - val_mae: 0.0650\n",
      "Epoch 6/50\n",
      "\u001B[1m222/222\u001B[0m \u001B[32m━━━━━━━━━━━━━━━━━━━━\u001B[0m\u001B[37m\u001B[0m \u001B[1m0s\u001B[0m 2ms/step - loss: 0.0361 - mae: 0.0474 - val_loss: 0.0282 - val_mae: 0.0346\n",
      "Epoch 7/50\n",
      "\u001B[1m222/222\u001B[0m \u001B[32m━━━━━━━━━━━━━━━━━━━━\u001B[0m\u001B[37m\u001B[0m \u001B[1m0s\u001B[0m 2ms/step - loss: 0.0397 - mae: 0.0505 - val_loss: 0.0710 - val_mae: 0.0838\n",
      "Epoch 8/50\n",
      "\u001B[1m222/222\u001B[0m \u001B[32m━━━━━━━━━━━━━━━━━━━━\u001B[0m\u001B[37m\u001B[0m \u001B[1m0s\u001B[0m 2ms/step - loss: 0.0351 - mae: 0.0438 - val_loss: 0.0536 - val_mae: 0.0627\n",
      "Epoch 9/50\n",
      "\u001B[1m222/222\u001B[0m \u001B[32m━━━━━━━━━━━━━━━━━━━━\u001B[0m\u001B[37m\u001B[0m \u001B[1m0s\u001B[0m 2ms/step - loss: 0.0345 - mae: 0.0438 - val_loss: 0.0603 - val_mae: 0.0702\n",
      "Epoch 10/50\n",
      "\u001B[1m222/222\u001B[0m \u001B[32m━━━━━━━━━━━━━━━━━━━━\u001B[0m\u001B[37m\u001B[0m \u001B[1m0s\u001B[0m 2ms/step - loss: 0.0313 - mae: 0.0385 - val_loss: 0.0521 - val_mae: 0.0582\n",
      "Epoch 11/50\n",
      "\u001B[1m222/222\u001B[0m \u001B[32m━━━━━━━━━━━━━━━━━━━━\u001B[0m\u001B[37m\u001B[0m \u001B[1m0s\u001B[0m 2ms/step - loss: 0.0334 - mae: 0.0392 - val_loss: 0.0558 - val_mae: 0.0642\n",
      "Epoch 12/50\n",
      "\u001B[1m222/222\u001B[0m \u001B[32m━━━━━━━━━━━━━━━━━━━━\u001B[0m\u001B[37m\u001B[0m \u001B[1m0s\u001B[0m 2ms/step - loss: 0.0351 - mae: 0.0416 - val_loss: 0.0541 - val_mae: 0.0635\n",
      "Epoch 13/50\n",
      "\u001B[1m222/222\u001B[0m \u001B[32m━━━━━━━━━━━━━━━━━━━━\u001B[0m\u001B[37m\u001B[0m \u001B[1m0s\u001B[0m 2ms/step - loss: 0.0353 - mae: 0.0427 - val_loss: 0.0587 - val_mae: 0.0687\n",
      "Epoch 14/50\n",
      "\u001B[1m222/222\u001B[0m \u001B[32m━━━━━━━━━━━━━━━━━━━━\u001B[0m\u001B[37m\u001B[0m \u001B[1m0s\u001B[0m 2ms/step - loss: 0.0337 - mae: 0.0393 - val_loss: 0.0555 - val_mae: 0.0627\n",
      "Epoch 15/50\n",
      "\u001B[1m222/222\u001B[0m \u001B[32m━━━━━━━━━━━━━━━━━━━━\u001B[0m\u001B[37m\u001B[0m \u001B[1m0s\u001B[0m 2ms/step - loss: 0.0329 - mae: 0.0380 - val_loss: 0.0826 - val_mae: 0.0917\n",
      "Epoch 16/50\n",
      "\u001B[1m222/222\u001B[0m \u001B[32m━━━━━━━━━━━━━━━━━━━━\u001B[0m\u001B[37m\u001B[0m \u001B[1m0s\u001B[0m 2ms/step - loss: 0.0332 - mae: 0.0387 - val_loss: 0.0631 - val_mae: 0.0694\n",
      "Epoch 17/50\n",
      "\u001B[1m222/222\u001B[0m \u001B[32m━━━━━━━━━━━━━━━━━━━━\u001B[0m\u001B[37m\u001B[0m \u001B[1m0s\u001B[0m 2ms/step - loss: 0.0297 - mae: 0.0340 - val_loss: 0.0693 - val_mae: 0.0770\n",
      "Epoch 18/50\n",
      "\u001B[1m222/222\u001B[0m \u001B[32m━━━━━━━━━━━━━━━━━━━━\u001B[0m\u001B[37m\u001B[0m \u001B[1m0s\u001B[0m 2ms/step - loss: 0.0307 - mae: 0.0349 - val_loss: 0.0810 - val_mae: 0.0883\n",
      "Epoch 19/50\n",
      "\u001B[1m222/222\u001B[0m \u001B[32m━━━━━━━━━━━━━━━━━━━━\u001B[0m\u001B[37m\u001B[0m \u001B[1m0s\u001B[0m 2ms/step - loss: 0.0321 - mae: 0.0355 - val_loss: 0.0312 - val_mae: 0.0335\n",
      "Epoch 20/50\n",
      "\u001B[1m222/222\u001B[0m \u001B[32m━━━━━━━━━━━━━━━━━━━━\u001B[0m\u001B[37m\u001B[0m \u001B[1m0s\u001B[0m 2ms/step - loss: 0.0356 - mae: 0.0398 - val_loss: 0.0402 - val_mae: 0.0441\n",
      "Epoch 21/50\n",
      "\u001B[1m222/222\u001B[0m \u001B[32m━━━━━━━━━━━━━━━━━━━━\u001B[0m\u001B[37m\u001B[0m \u001B[1m0s\u001B[0m 2ms/step - loss: 0.0256 - mae: 0.0288 - val_loss: 0.0579 - val_mae: 0.0633\n",
      "Epoch 22/50\n",
      "\u001B[1m222/222\u001B[0m \u001B[32m━━━━━━━━━━━━━━━━━━━━\u001B[0m\u001B[37m\u001B[0m \u001B[1m0s\u001B[0m 2ms/step - loss: 0.0287 - mae: 0.0316 - val_loss: 0.0928 - val_mae: 0.0996\n",
      "Epoch 23/50\n",
      "\u001B[1m222/222\u001B[0m \u001B[32m━━━━━━━━━━━━━━━━━━━━\u001B[0m\u001B[37m\u001B[0m \u001B[1m0s\u001B[0m 2ms/step - loss: 0.0307 - mae: 0.0343 - val_loss: 0.0555 - val_mae: 0.0590\n",
      "Epoch 24/50\n",
      "\u001B[1m222/222\u001B[0m \u001B[32m━━━━━━━━━━━━━━━━━━━━\u001B[0m\u001B[37m\u001B[0m \u001B[1m0s\u001B[0m 2ms/step - loss: 0.0345 - mae: 0.0374 - val_loss: 0.0714 - val_mae: 0.0763\n",
      "Epoch 25/50\n",
      "\u001B[1m222/222\u001B[0m \u001B[32m━━━━━━━━━━━━━━━━━━━━\u001B[0m\u001B[37m\u001B[0m \u001B[1m0s\u001B[0m 2ms/step - loss: 0.0344 - mae: 0.0374 - val_loss: 0.0614 - val_mae: 0.0665\n",
      "Epoch 26/50\n",
      "\u001B[1m222/222\u001B[0m \u001B[32m━━━━━━━━━━━━━━━━━━━━\u001B[0m\u001B[37m\u001B[0m \u001B[1m0s\u001B[0m 2ms/step - loss: 0.0277 - mae: 0.0311 - val_loss: 0.0552 - val_mae: 0.0571\n",
      "Epoch 27/50\n",
      "\u001B[1m222/222\u001B[0m \u001B[32m━━━━━━━━━━━━━━━━━━━━\u001B[0m\u001B[37m\u001B[0m \u001B[1m0s\u001B[0m 2ms/step - loss: 0.0325 - mae: 0.0351 - val_loss: 0.0838 - val_mae: 0.0878\n",
      "Epoch 28/50\n",
      "\u001B[1m222/222\u001B[0m \u001B[32m━━━━━━━━━━━━━━━━━━━━\u001B[0m\u001B[37m\u001B[0m \u001B[1m1s\u001B[0m 2ms/step - loss: 0.0269 - mae: 0.0297 - val_loss: 0.0483 - val_mae: 0.0519\n",
      "Epoch 29/50\n",
      "\u001B[1m222/222\u001B[0m \u001B[32m━━━━━━━━━━━━━━━━━━━━\u001B[0m\u001B[37m\u001B[0m \u001B[1m0s\u001B[0m 2ms/step - loss: 0.0293 - mae: 0.0326 - val_loss: 0.0688 - val_mae: 0.0726\n",
      "Epoch 30/50\n",
      "\u001B[1m222/222\u001B[0m \u001B[32m━━━━━━━━━━━━━━━━━━━━\u001B[0m\u001B[37m\u001B[0m \u001B[1m0s\u001B[0m 2ms/step - loss: 0.0349 - mae: 0.0378 - val_loss: 0.0588 - val_mae: 0.0641\n",
      "Epoch 31/50\n",
      "\u001B[1m222/222\u001B[0m \u001B[32m━━━━━━━━━━━━━━━━━━━━\u001B[0m\u001B[37m\u001B[0m \u001B[1m0s\u001B[0m 2ms/step - loss: 0.0413 - mae: 0.0443 - val_loss: 0.0466 - val_mae: 0.0495\n",
      "Epoch 32/50\n",
      "\u001B[1m222/222\u001B[0m \u001B[32m━━━━━━━━━━━━━━━━━━━━\u001B[0m\u001B[37m\u001B[0m \u001B[1m1s\u001B[0m 2ms/step - loss: 0.0277 - mae: 0.0302 - val_loss: 0.0445 - val_mae: 0.0474\n",
      "Epoch 33/50\n",
      "\u001B[1m222/222\u001B[0m \u001B[32m━━━━━━━━━━━━━━━━━━━━\u001B[0m\u001B[37m\u001B[0m \u001B[1m0s\u001B[0m 2ms/step - loss: 0.0279 - mae: 0.0304 - val_loss: 0.0598 - val_mae: 0.0634\n",
      "Epoch 34/50\n",
      "\u001B[1m222/222\u001B[0m \u001B[32m━━━━━━━━━━━━━━━━━━━━\u001B[0m\u001B[37m\u001B[0m \u001B[1m0s\u001B[0m 2ms/step - loss: 0.0293 - mae: 0.0318 - val_loss: 0.0328 - val_mae: 0.0342\n",
      "Epoch 35/50\n",
      "\u001B[1m222/222\u001B[0m \u001B[32m━━━━━━━━━━━━━━━━━━━━\u001B[0m\u001B[37m\u001B[0m \u001B[1m0s\u001B[0m 2ms/step - loss: 0.0289 - mae: 0.0311 - val_loss: 0.0558 - val_mae: 0.0585\n",
      "Epoch 36/50\n",
      "\u001B[1m222/222\u001B[0m \u001B[32m━━━━━━━━━━━━━━━━━━━━\u001B[0m\u001B[37m\u001B[0m \u001B[1m0s\u001B[0m 2ms/step - loss: 0.0285 - mae: 0.0307 - val_loss: 0.0375 - val_mae: 0.0397\n",
      "Epoch 37/50\n",
      "\u001B[1m222/222\u001B[0m \u001B[32m━━━━━━━━━━━━━━━━━━━━\u001B[0m\u001B[37m\u001B[0m \u001B[1m0s\u001B[0m 2ms/step - loss: 0.0282 - mae: 0.0303 - val_loss: 0.0477 - val_mae: 0.0509\n",
      "Epoch 38/50\n",
      "\u001B[1m222/222\u001B[0m \u001B[32m━━━━━━━━━━━━━━━━━━━━\u001B[0m\u001B[37m\u001B[0m \u001B[1m0s\u001B[0m 2ms/step - loss: 0.0286 - mae: 0.0304 - val_loss: 0.0470 - val_mae: 0.0490\n",
      "Epoch 39/50\n",
      "\u001B[1m222/222\u001B[0m \u001B[32m━━━━━━━━━━━━━━━━━━━━\u001B[0m\u001B[37m\u001B[0m \u001B[1m0s\u001B[0m 2ms/step - loss: 0.0283 - mae: 0.0304 - val_loss: 0.0573 - val_mae: 0.0606\n",
      "Epoch 40/50\n",
      "\u001B[1m222/222\u001B[0m \u001B[32m━━━━━━━━━━━━━━━━━━━━\u001B[0m\u001B[37m\u001B[0m \u001B[1m0s\u001B[0m 2ms/step - loss: 0.0257 - mae: 0.0270 - val_loss: 0.0573 - val_mae: 0.0615\n",
      "Epoch 41/50\n",
      "\u001B[1m222/222\u001B[0m \u001B[32m━━━━━━━━━━━━━━━━━━━━\u001B[0m\u001B[37m\u001B[0m \u001B[1m0s\u001B[0m 2ms/step - loss: 0.0246 - mae: 0.0259 - val_loss: 0.0454 - val_mae: 0.0479\n",
      "Epoch 42/50\n",
      "\u001B[1m222/222\u001B[0m \u001B[32m━━━━━━━━━━━━━━━━━━━━\u001B[0m\u001B[37m\u001B[0m \u001B[1m0s\u001B[0m 2ms/step - loss: 0.0293 - mae: 0.0316 - val_loss: 0.0512 - val_mae: 0.0538\n",
      "Epoch 43/50\n",
      "\u001B[1m222/222\u001B[0m \u001B[32m━━━━━━━━━━━━━━━━━━━━\u001B[0m\u001B[37m\u001B[0m \u001B[1m0s\u001B[0m 2ms/step - loss: 0.0310 - mae: 0.0328 - val_loss: 0.0305 - val_mae: 0.0314\n",
      "Epoch 44/50\n",
      "\u001B[1m222/222\u001B[0m \u001B[32m━━━━━━━━━━━━━━━━━━━━\u001B[0m\u001B[37m\u001B[0m \u001B[1m0s\u001B[0m 2ms/step - loss: 0.0322 - mae: 0.0346 - val_loss: 0.0929 - val_mae: 0.0969\n",
      "Epoch 45/50\n",
      "\u001B[1m222/222\u001B[0m \u001B[32m━━━━━━━━━━━━━━━━━━━━\u001B[0m\u001B[37m\u001B[0m \u001B[1m0s\u001B[0m 2ms/step - loss: 0.0275 - mae: 0.0296 - val_loss: 0.0708 - val_mae: 0.0738\n",
      "Epoch 46/50\n",
      "\u001B[1m222/222\u001B[0m \u001B[32m━━━━━━━━━━━━━━━━━━━━\u001B[0m\u001B[37m\u001B[0m \u001B[1m0s\u001B[0m 2ms/step - loss: 0.0270 - mae: 0.0285 - val_loss: 0.0481 - val_mae: 0.0500\n",
      "Epoch 47/50\n",
      "\u001B[1m222/222\u001B[0m \u001B[32m━━━━━━━━━━━━━━━━━━━━\u001B[0m\u001B[37m\u001B[0m \u001B[1m0s\u001B[0m 2ms/step - loss: 0.0238 - mae: 0.0256 - val_loss: 0.0450 - val_mae: 0.0473\n",
      "Epoch 48/50\n",
      "\u001B[1m222/222\u001B[0m \u001B[32m━━━━━━━━━━━━━━━━━━━━\u001B[0m\u001B[37m\u001B[0m \u001B[1m0s\u001B[0m 2ms/step - loss: 0.0281 - mae: 0.0294 - val_loss: 0.0564 - val_mae: 0.0596\n",
      "Epoch 49/50\n",
      "\u001B[1m222/222\u001B[0m \u001B[32m━━━━━━━━━━━━━━━━━━━━\u001B[0m\u001B[37m\u001B[0m \u001B[1m0s\u001B[0m 2ms/step - loss: 0.0271 - mae: 0.0285 - val_loss: 0.0455 - val_mae: 0.0468\n",
      "Epoch 50/50\n",
      "\u001B[1m222/222\u001B[0m \u001B[32m━━━━━━━━━━━━━━━━━━━━\u001B[0m\u001B[37m\u001B[0m \u001B[1m0s\u001B[0m 2ms/step - loss: 0.0320 - mae: 0.0339 - val_loss: 0.0524 - val_mae: 0.0555\n"
     ]
    },
    {
     "name": "stderr",
     "output_type": "stream",
     "text": [
      "[I 2025-02-05 18:06:20,432] Trial 4 finished with value: 0.05235202610492706 and parameters: {'units': 480, 'learning_rate': 0.01}. Best is trial 0 with value: 0.027532856911420822.\n"
     ]
    },
    {
     "name": "stdout",
     "output_type": "stream",
     "text": [
      "Epoch 1/50\n",
      "\u001B[1m222/222\u001B[0m \u001B[32m━━━━━━━━━━━━━━━━━━━━\u001B[0m\u001B[37m\u001B[0m \u001B[1m1s\u001B[0m 3ms/step - loss: 0.1741 - mae: 0.3913 - val_loss: 0.1184 - val_mae: 0.2645\n",
      "Epoch 2/50\n",
      "\u001B[1m222/222\u001B[0m \u001B[32m━━━━━━━━━━━━━━━━━━━━\u001B[0m\u001B[37m\u001B[0m \u001B[1m0s\u001B[0m 2ms/step - loss: 0.0697 - mae: 0.2092 - val_loss: 0.0706 - val_mae: 0.1716\n",
      "Epoch 3/50\n",
      "\u001B[1m222/222\u001B[0m \u001B[32m━━━━━━━━━━━━━━━━━━━━\u001B[0m\u001B[37m\u001B[0m \u001B[1m0s\u001B[0m 2ms/step - loss: 0.0482 - mae: 0.1553 - val_loss: 0.0588 - val_mae: 0.1400\n",
      "Epoch 4/50\n",
      "\u001B[1m222/222\u001B[0m \u001B[32m━━━━━━━━━━━━━━━━━━━━\u001B[0m\u001B[37m\u001B[0m \u001B[1m0s\u001B[0m 2ms/step - loss: 0.0378 - mae: 0.1230 - val_loss: 0.0507 - val_mae: 0.1175\n",
      "Epoch 5/50\n",
      "\u001B[1m222/222\u001B[0m \u001B[32m━━━━━━━━━━━━━━━━━━━━\u001B[0m\u001B[37m\u001B[0m \u001B[1m0s\u001B[0m 2ms/step - loss: 0.0360 - mae: 0.1095 - val_loss: 0.0563 - val_mae: 0.1196\n",
      "Epoch 6/50\n",
      "\u001B[1m222/222\u001B[0m \u001B[32m━━━━━━━━━━━━━━━━━━━━\u001B[0m\u001B[37m\u001B[0m \u001B[1m0s\u001B[0m 2ms/step - loss: 0.0326 - mae: 0.0975 - val_loss: 0.0508 - val_mae: 0.1094\n",
      "Epoch 7/50\n",
      "\u001B[1m222/222\u001B[0m \u001B[32m━━━━━━━━━━━━━━━━━━━━\u001B[0m\u001B[37m\u001B[0m \u001B[1m0s\u001B[0m 2ms/step - loss: 0.0314 - mae: 0.0904 - val_loss: 0.0429 - val_mae: 0.0924\n",
      "Epoch 8/50\n",
      "\u001B[1m222/222\u001B[0m \u001B[32m━━━━━━━━━━━━━━━━━━━━\u001B[0m\u001B[37m\u001B[0m \u001B[1m0s\u001B[0m 2ms/step - loss: 0.0284 - mae: 0.0818 - val_loss: 0.0451 - val_mae: 0.0952\n",
      "Epoch 9/50\n",
      "\u001B[1m222/222\u001B[0m \u001B[32m━━━━━━━━━━━━━━━━━━━━\u001B[0m\u001B[37m\u001B[0m \u001B[1m0s\u001B[0m 2ms/step - loss: 0.0293 - mae: 0.0810 - val_loss: 0.0500 - val_mae: 0.1000\n",
      "Epoch 10/50\n",
      "\u001B[1m222/222\u001B[0m \u001B[32m━━━━━━━━━━━━━━━━━━━━\u001B[0m\u001B[37m\u001B[0m \u001B[1m0s\u001B[0m 2ms/step - loss: 0.0276 - mae: 0.0751 - val_loss: 0.0463 - val_mae: 0.0938\n",
      "Epoch 11/50\n",
      "\u001B[1m222/222\u001B[0m \u001B[32m━━━━━━━━━━━━━━━━━━━━\u001B[0m\u001B[37m\u001B[0m \u001B[1m0s\u001B[0m 2ms/step - loss: 0.0261 - mae: 0.0721 - val_loss: 0.0493 - val_mae: 0.0952\n",
      "Epoch 12/50\n",
      "\u001B[1m222/222\u001B[0m \u001B[32m━━━━━━━━━━━━━━━━━━━━\u001B[0m\u001B[37m\u001B[0m \u001B[1m0s\u001B[0m 2ms/step - loss: 0.0243 - mae: 0.0662 - val_loss: 0.0463 - val_mae: 0.0900\n",
      "Epoch 13/50\n",
      "\u001B[1m222/222\u001B[0m \u001B[32m━━━━━━━━━━━━━━━━━━━━\u001B[0m\u001B[37m\u001B[0m \u001B[1m0s\u001B[0m 2ms/step - loss: 0.0275 - mae: 0.0708 - val_loss: 0.0459 - val_mae: 0.0891\n",
      "Epoch 14/50\n",
      "\u001B[1m222/222\u001B[0m \u001B[32m━━━━━━━━━━━━━━━━━━━━\u001B[0m\u001B[37m\u001B[0m \u001B[1m0s\u001B[0m 2ms/step - loss: 0.0267 - mae: 0.0667 - val_loss: 0.0458 - val_mae: 0.0867\n",
      "Epoch 15/50\n",
      "\u001B[1m222/222\u001B[0m \u001B[32m━━━━━━━━━━━━━━━━━━━━\u001B[0m\u001B[37m\u001B[0m \u001B[1m0s\u001B[0m 2ms/step - loss: 0.0239 - mae: 0.0615 - val_loss: 0.0410 - val_mae: 0.0808\n",
      "Epoch 16/50\n",
      "\u001B[1m222/222\u001B[0m \u001B[32m━━━━━━━━━━━━━━━━━━━━\u001B[0m\u001B[37m\u001B[0m \u001B[1m0s\u001B[0m 2ms/step - loss: 0.0243 - mae: 0.0623 - val_loss: 0.0375 - val_mae: 0.0738\n",
      "Epoch 17/50\n",
      "\u001B[1m222/222\u001B[0m \u001B[32m━━━━━━━━━━━━━━━━━━━━\u001B[0m\u001B[37m\u001B[0m \u001B[1m0s\u001B[0m 2ms/step - loss: 0.0226 - mae: 0.0595 - val_loss: 0.0374 - val_mae: 0.0728\n",
      "Epoch 18/50\n",
      "\u001B[1m222/222\u001B[0m \u001B[32m━━━━━━━━━━━━━━━━━━━━\u001B[0m\u001B[37m\u001B[0m \u001B[1m0s\u001B[0m 2ms/step - loss: 0.0243 - mae: 0.0614 - val_loss: 0.0380 - val_mae: 0.0732\n",
      "Epoch 19/50\n",
      "\u001B[1m222/222\u001B[0m \u001B[32m━━━━━━━━━━━━━━━━━━━━\u001B[0m\u001B[37m\u001B[0m \u001B[1m0s\u001B[0m 2ms/step - loss: 0.0238 - mae: 0.0581 - val_loss: 0.0354 - val_mae: 0.0682\n",
      "Epoch 20/50\n",
      "\u001B[1m222/222\u001B[0m \u001B[32m━━━━━━━━━━━━━━━━━━━━\u001B[0m\u001B[37m\u001B[0m \u001B[1m0s\u001B[0m 2ms/step - loss: 0.0219 - mae: 0.0563 - val_loss: 0.0369 - val_mae: 0.0715\n",
      "Epoch 21/50\n",
      "\u001B[1m222/222\u001B[0m \u001B[32m━━━━━━━━━━━━━━━━━━━━\u001B[0m\u001B[37m\u001B[0m \u001B[1m0s\u001B[0m 2ms/step - loss: 0.0227 - mae: 0.0556 - val_loss: 0.0374 - val_mae: 0.0713\n",
      "Epoch 22/50\n",
      "\u001B[1m222/222\u001B[0m \u001B[32m━━━━━━━━━━━━━━━━━━━━\u001B[0m\u001B[37m\u001B[0m \u001B[1m0s\u001B[0m 2ms/step - loss: 0.0226 - mae: 0.0555 - val_loss: 0.0366 - val_mae: 0.0696\n",
      "Epoch 23/50\n",
      "\u001B[1m222/222\u001B[0m \u001B[32m━━━━━━━━━━━━━━━━━━━━\u001B[0m\u001B[37m\u001B[0m \u001B[1m0s\u001B[0m 2ms/step - loss: 0.0225 - mae: 0.0554 - val_loss: 0.0376 - val_mae: 0.0719\n",
      "Epoch 24/50\n",
      "\u001B[1m222/222\u001B[0m \u001B[32m━━━━━━━━━━━━━━━━━━━━\u001B[0m\u001B[37m\u001B[0m \u001B[1m1s\u001B[0m 2ms/step - loss: 0.0213 - mae: 0.0518 - val_loss: 0.0411 - val_mae: 0.0764\n",
      "Epoch 25/50\n",
      "\u001B[1m222/222\u001B[0m \u001B[32m━━━━━━━━━━━━━━━━━━━━\u001B[0m\u001B[37m\u001B[0m \u001B[1m0s\u001B[0m 2ms/step - loss: 0.0219 - mae: 0.0537 - val_loss: 0.0352 - val_mae: 0.0670\n",
      "Epoch 26/50\n",
      "\u001B[1m222/222\u001B[0m \u001B[32m━━━━━━━━━━━━━━━━━━━━\u001B[0m\u001B[37m\u001B[0m \u001B[1m0s\u001B[0m 2ms/step - loss: 0.0222 - mae: 0.0529 - val_loss: 0.0373 - val_mae: 0.0700\n",
      "Epoch 27/50\n",
      "\u001B[1m222/222\u001B[0m \u001B[32m━━━━━━━━━━━━━━━━━━━━\u001B[0m\u001B[37m\u001B[0m \u001B[1m0s\u001B[0m 2ms/step - loss: 0.0201 - mae: 0.0503 - val_loss: 0.0377 - val_mae: 0.0695\n",
      "Epoch 28/50\n",
      "\u001B[1m222/222\u001B[0m \u001B[32m━━━━━━━━━━━━━━━━━━━━\u001B[0m\u001B[37m\u001B[0m \u001B[1m0s\u001B[0m 2ms/step - loss: 0.0221 - mae: 0.0514 - val_loss: 0.0356 - val_mae: 0.0674\n",
      "Epoch 29/50\n",
      "\u001B[1m222/222\u001B[0m \u001B[32m━━━━━━━━━━━━━━━━━━━━\u001B[0m\u001B[37m\u001B[0m \u001B[1m0s\u001B[0m 2ms/step - loss: 0.0199 - mae: 0.0481 - val_loss: 0.0389 - val_mae: 0.0712\n",
      "Epoch 30/50\n",
      "\u001B[1m222/222\u001B[0m \u001B[32m━━━━━━━━━━━━━━━━━━━━\u001B[0m\u001B[37m\u001B[0m \u001B[1m0s\u001B[0m 2ms/step - loss: 0.0190 - mae: 0.0479 - val_loss: 0.0374 - val_mae: 0.0696\n",
      "Epoch 31/50\n",
      "\u001B[1m222/222\u001B[0m \u001B[32m━━━━━━━━━━━━━━━━━━━━\u001B[0m\u001B[37m\u001B[0m \u001B[1m0s\u001B[0m 2ms/step - loss: 0.0224 - mae: 0.0523 - val_loss: 0.0358 - val_mae: 0.0663\n",
      "Epoch 32/50\n",
      "\u001B[1m222/222\u001B[0m \u001B[32m━━━━━━━━━━━━━━━━━━━━\u001B[0m\u001B[37m\u001B[0m \u001B[1m0s\u001B[0m 2ms/step - loss: 0.0208 - mae: 0.0497 - val_loss: 0.0333 - val_mae: 0.0629\n",
      "Epoch 33/50\n",
      "\u001B[1m222/222\u001B[0m \u001B[32m━━━━━━━━━━━━━━━━━━━━\u001B[0m\u001B[37m\u001B[0m \u001B[1m1s\u001B[0m 2ms/step - loss: 0.0219 - mae: 0.0514 - val_loss: 0.0378 - val_mae: 0.0704\n",
      "Epoch 34/50\n",
      "\u001B[1m222/222\u001B[0m \u001B[32m━━━━━━━━━━━━━━━━━━━━\u001B[0m\u001B[37m\u001B[0m \u001B[1m0s\u001B[0m 2ms/step - loss: 0.0196 - mae: 0.0473 - val_loss: 0.0345 - val_mae: 0.0640\n",
      "Epoch 35/50\n",
      "\u001B[1m222/222\u001B[0m \u001B[32m━━━━━━━━━━━━━━━━━━━━\u001B[0m\u001B[37m\u001B[0m \u001B[1m0s\u001B[0m 2ms/step - loss: 0.0190 - mae: 0.0459 - val_loss: 0.0370 - val_mae: 0.0674\n",
      "Epoch 36/50\n",
      "\u001B[1m222/222\u001B[0m \u001B[32m━━━━━━━━━━━━━━━━━━━━\u001B[0m\u001B[37m\u001B[0m \u001B[1m1s\u001B[0m 2ms/step - loss: 0.0217 - mae: 0.0492 - val_loss: 0.0352 - val_mae: 0.0647\n",
      "Epoch 37/50\n",
      "\u001B[1m222/222\u001B[0m \u001B[32m━━━━━━━━━━━━━━━━━━━━\u001B[0m\u001B[37m\u001B[0m \u001B[1m0s\u001B[0m 2ms/step - loss: 0.0208 - mae: 0.0473 - val_loss: 0.0354 - val_mae: 0.0662\n",
      "Epoch 38/50\n",
      "\u001B[1m222/222\u001B[0m \u001B[32m━━━━━━━━━━━━━━━━━━━━\u001B[0m\u001B[37m\u001B[0m \u001B[1m0s\u001B[0m 2ms/step - loss: 0.0219 - mae: 0.0489 - val_loss: 0.0334 - val_mae: 0.0630\n",
      "Epoch 39/50\n",
      "\u001B[1m222/222\u001B[0m \u001B[32m━━━━━━━━━━━━━━━━━━━━\u001B[0m\u001B[37m\u001B[0m \u001B[1m0s\u001B[0m 2ms/step - loss: 0.0192 - mae: 0.0457 - val_loss: 0.0312 - val_mae: 0.0595\n",
      "Epoch 40/50\n",
      "\u001B[1m222/222\u001B[0m \u001B[32m━━━━━━━━━━━━━━━━━━━━\u001B[0m\u001B[37m\u001B[0m \u001B[1m0s\u001B[0m 2ms/step - loss: 0.0196 - mae: 0.0459 - val_loss: 0.0307 - val_mae: 0.0590\n",
      "Epoch 41/50\n",
      "\u001B[1m222/222\u001B[0m \u001B[32m━━━━━━━━━━━━━━━━━━━━\u001B[0m\u001B[37m\u001B[0m \u001B[1m0s\u001B[0m 2ms/step - loss: 0.0183 - mae: 0.0442 - val_loss: 0.0300 - val_mae: 0.0573\n",
      "Epoch 42/50\n",
      "\u001B[1m222/222\u001B[0m \u001B[32m━━━━━━━━━━━━━━━━━━━━\u001B[0m\u001B[37m\u001B[0m \u001B[1m0s\u001B[0m 2ms/step - loss: 0.0192 - mae: 0.0440 - val_loss: 0.0291 - val_mae: 0.0554\n",
      "Epoch 43/50\n",
      "\u001B[1m222/222\u001B[0m \u001B[32m━━━━━━━━━━━━━━━━━━━━\u001B[0m\u001B[37m\u001B[0m \u001B[1m0s\u001B[0m 2ms/step - loss: 0.0181 - mae: 0.0432 - val_loss: 0.0304 - val_mae: 0.0585\n",
      "Epoch 44/50\n",
      "\u001B[1m222/222\u001B[0m \u001B[32m━━━━━━━━━━━━━━━━━━━━\u001B[0m\u001B[37m\u001B[0m \u001B[1m0s\u001B[0m 2ms/step - loss: 0.0184 - mae: 0.0431 - val_loss: 0.0357 - val_mae: 0.0668\n",
      "Epoch 45/50\n",
      "\u001B[1m222/222\u001B[0m \u001B[32m━━━━━━━━━━━━━━━━━━━━\u001B[0m\u001B[37m\u001B[0m \u001B[1m1s\u001B[0m 2ms/step - loss: 0.0187 - mae: 0.0437 - val_loss: 0.0358 - val_mae: 0.0661\n",
      "Epoch 46/50\n",
      "\u001B[1m222/222\u001B[0m \u001B[32m━━━━━━━━━━━━━━━━━━━━\u001B[0m\u001B[37m\u001B[0m \u001B[1m0s\u001B[0m 2ms/step - loss: 0.0185 - mae: 0.0434 - val_loss: 0.0315 - val_mae: 0.0593\n",
      "Epoch 47/50\n",
      "\u001B[1m222/222\u001B[0m \u001B[32m━━━━━━━━━━━━━━━━━━━━\u001B[0m\u001B[37m\u001B[0m \u001B[1m0s\u001B[0m 2ms/step - loss: 0.0177 - mae: 0.0427 - val_loss: 0.0325 - val_mae: 0.0610\n",
      "Epoch 48/50\n",
      "\u001B[1m222/222\u001B[0m \u001B[32m━━━━━━━━━━━━━━━━━━━━\u001B[0m\u001B[37m\u001B[0m \u001B[1m0s\u001B[0m 2ms/step - loss: 0.0199 - mae: 0.0446 - val_loss: 0.0291 - val_mae: 0.0548\n",
      "Epoch 49/50\n",
      "\u001B[1m222/222\u001B[0m \u001B[32m━━━━━━━━━━━━━━━━━━━━\u001B[0m\u001B[37m\u001B[0m \u001B[1m0s\u001B[0m 2ms/step - loss: 0.0180 - mae: 0.0412 - val_loss: 0.0285 - val_mae: 0.0532\n",
      "Epoch 50/50\n",
      "\u001B[1m222/222\u001B[0m \u001B[32m━━━━━━━━━━━━━━━━━━━━\u001B[0m\u001B[37m\u001B[0m \u001B[1m0s\u001B[0m 2ms/step - loss: 0.0165 - mae: 0.0405 - val_loss: 0.0326 - val_mae: 0.0614\n"
     ]
    },
    {
     "name": "stderr",
     "output_type": "stream",
     "text": [
      "[I 2025-02-05 18:06:44,882] Trial 5 finished with value: 0.03260563313961029 and parameters: {'units': 96, 'learning_rate': 0.001}. Best is trial 0 with value: 0.027532856911420822.\n"
     ]
    },
    {
     "name": "stdout",
     "output_type": "stream",
     "text": [
      "Epoch 1/50\n",
      "\u001B[1m222/222\u001B[0m \u001B[32m━━━━━━━━━━━━━━━━━━━━\u001B[0m\u001B[37m\u001B[0m \u001B[1m1s\u001B[0m 3ms/step - loss: 0.2720 - mae: 0.2824 - val_loss: 0.9863 - val_mae: 0.9865\n",
      "Epoch 2/50\n",
      "\u001B[1m222/222\u001B[0m \u001B[32m━━━━━━━━━━━━━━━━━━━━\u001B[0m\u001B[37m\u001B[0m \u001B[1m0s\u001B[0m 2ms/step - loss: 0.3490 - mae: 0.3491 - val_loss: 0.5459 - val_mae: 0.5461\n",
      "Epoch 3/50\n",
      "\u001B[1m222/222\u001B[0m \u001B[32m━━━━━━━━━━━━━━━━━━━━\u001B[0m\u001B[37m\u001B[0m \u001B[1m0s\u001B[0m 2ms/step - loss: 0.2704 - mae: 0.2705 - val_loss: 0.5961 - val_mae: 0.5963\n",
      "Epoch 4/50\n",
      "\u001B[1m222/222\u001B[0m \u001B[32m━━━━━━━━━━━━━━━━━━━━\u001B[0m\u001B[37m\u001B[0m \u001B[1m0s\u001B[0m 2ms/step - loss: 0.3205 - mae: 0.3205 - val_loss: 0.5045 - val_mae: 0.5046\n",
      "Epoch 5/50\n",
      "\u001B[1m222/222\u001B[0m \u001B[32m━━━━━━━━━━━━━━━━━━━━\u001B[0m\u001B[37m\u001B[0m \u001B[1m0s\u001B[0m 2ms/step - loss: 0.2511 - mae: 0.2513 - val_loss: 0.5328 - val_mae: 0.5329\n",
      "Epoch 6/50\n",
      "\u001B[1m222/222\u001B[0m \u001B[32m━━━━━━━━━━━━━━━━━━━━\u001B[0m\u001B[37m\u001B[0m \u001B[1m0s\u001B[0m 2ms/step - loss: 0.2568 - mae: 0.2568 - val_loss: 0.5327 - val_mae: 0.5327\n",
      "Epoch 7/50\n",
      "\u001B[1m222/222\u001B[0m \u001B[32m━━━━━━━━━━━━━━━━━━━━\u001B[0m\u001B[37m\u001B[0m \u001B[1m1s\u001B[0m 2ms/step - loss: 0.2641 - mae: 0.2642 - val_loss: 0.3883 - val_mae: 0.3883\n",
      "Epoch 8/50\n",
      "\u001B[1m222/222\u001B[0m \u001B[32m━━━━━━━━━━━━━━━━━━━━\u001B[0m\u001B[37m\u001B[0m \u001B[1m0s\u001B[0m 2ms/step - loss: 0.3007 - mae: 0.3008 - val_loss: 0.3908 - val_mae: 0.3909\n",
      "Epoch 9/50\n",
      "\u001B[1m222/222\u001B[0m \u001B[32m━━━━━━━━━━━━━━━━━━━━\u001B[0m\u001B[37m\u001B[0m \u001B[1m0s\u001B[0m 2ms/step - loss: 0.3114 - mae: 0.3114 - val_loss: 0.4538 - val_mae: 0.4540\n",
      "Epoch 10/50\n",
      "\u001B[1m222/222\u001B[0m \u001B[32m━━━━━━━━━━━━━━━━━━━━\u001B[0m\u001B[37m\u001B[0m \u001B[1m0s\u001B[0m 2ms/step - loss: 0.3066 - mae: 0.3067 - val_loss: 0.6157 - val_mae: 0.6157\n",
      "Epoch 11/50\n",
      "\u001B[1m222/222\u001B[0m \u001B[32m━━━━━━━━━━━━━━━━━━━━\u001B[0m\u001B[37m\u001B[0m \u001B[1m0s\u001B[0m 2ms/step - loss: 0.3359 - mae: 0.3359 - val_loss: 0.7024 - val_mae: 0.7025\n",
      "Epoch 12/50\n",
      "\u001B[1m222/222\u001B[0m \u001B[32m━━━━━━━━━━━━━━━━━━━━\u001B[0m\u001B[37m\u001B[0m \u001B[1m0s\u001B[0m 2ms/step - loss: 0.3309 - mae: 0.3310 - val_loss: 0.4774 - val_mae: 0.4774\n",
      "Epoch 13/50\n",
      "\u001B[1m222/222\u001B[0m \u001B[32m━━━━━━━━━━━━━━━━━━━━\u001B[0m\u001B[37m\u001B[0m \u001B[1m0s\u001B[0m 2ms/step - loss: 0.3083 - mae: 0.3083 - val_loss: 0.4774 - val_mae: 0.4774\n",
      "Epoch 14/50\n",
      "\u001B[1m222/222\u001B[0m \u001B[32m━━━━━━━━━━━━━━━━━━━━\u001B[0m\u001B[37m\u001B[0m \u001B[1m0s\u001B[0m 2ms/step - loss: 0.3045 - mae: 0.3045 - val_loss: 0.4802 - val_mae: 0.4802\n",
      "Epoch 15/50\n",
      "\u001B[1m222/222\u001B[0m \u001B[32m━━━━━━━━━━━━━━━━━━━━\u001B[0m\u001B[37m\u001B[0m \u001B[1m0s\u001B[0m 2ms/step - loss: 0.3088 - mae: 0.3088 - val_loss: 0.4802 - val_mae: 0.4802\n",
      "Epoch 16/50\n",
      "\u001B[1m222/222\u001B[0m \u001B[32m━━━━━━━━━━━━━━━━━━━━\u001B[0m\u001B[37m\u001B[0m \u001B[1m0s\u001B[0m 2ms/step - loss: 0.3125 - mae: 0.3125 - val_loss: 0.4802 - val_mae: 0.4802\n",
      "Epoch 17/50\n",
      "\u001B[1m222/222\u001B[0m \u001B[32m━━━━━━━━━━━━━━━━━━━━\u001B[0m\u001B[37m\u001B[0m \u001B[1m0s\u001B[0m 2ms/step - loss: 0.3120 - mae: 0.3120 - val_loss: 0.4802 - val_mae: 0.4802\n",
      "Epoch 18/50\n",
      "\u001B[1m222/222\u001B[0m \u001B[32m━━━━━━━━━━━━━━━━━━━━\u001B[0m\u001B[37m\u001B[0m \u001B[1m0s\u001B[0m 2ms/step - loss: 0.3170 - mae: 0.3170 - val_loss: 0.4802 - val_mae: 0.4802\n",
      "Epoch 19/50\n",
      "\u001B[1m222/222\u001B[0m \u001B[32m━━━━━━━━━━━━━━━━━━━━\u001B[0m\u001B[37m\u001B[0m \u001B[1m0s\u001B[0m 2ms/step - loss: 0.3108 - mae: 0.3108 - val_loss: 0.4802 - val_mae: 0.4802\n",
      "Epoch 20/50\n",
      "\u001B[1m222/222\u001B[0m \u001B[32m━━━━━━━━━━━━━━━━━━━━\u001B[0m\u001B[37m\u001B[0m \u001B[1m0s\u001B[0m 2ms/step - loss: 0.3064 - mae: 0.3064 - val_loss: 0.4802 - val_mae: 0.4802\n",
      "Epoch 21/50\n",
      "\u001B[1m222/222\u001B[0m \u001B[32m━━━━━━━━━━━━━━━━━━━━\u001B[0m\u001B[37m\u001B[0m \u001B[1m0s\u001B[0m 2ms/step - loss: 0.3072 - mae: 0.3072 - val_loss: 0.4802 - val_mae: 0.4802\n",
      "Epoch 22/50\n",
      "\u001B[1m222/222\u001B[0m \u001B[32m━━━━━━━━━━━━━━━━━━━━\u001B[0m\u001B[37m\u001B[0m \u001B[1m0s\u001B[0m 2ms/step - loss: 0.3158 - mae: 0.3158 - val_loss: 0.4802 - val_mae: 0.4802\n",
      "Epoch 23/50\n",
      "\u001B[1m222/222\u001B[0m \u001B[32m━━━━━━━━━━━━━━━━━━━━\u001B[0m\u001B[37m\u001B[0m \u001B[1m0s\u001B[0m 2ms/step - loss: 0.3072 - mae: 0.3072 - val_loss: 0.4802 - val_mae: 0.4802\n",
      "Epoch 24/50\n",
      "\u001B[1m222/222\u001B[0m \u001B[32m━━━━━━━━━━━━━━━━━━━━\u001B[0m\u001B[37m\u001B[0m \u001B[1m1s\u001B[0m 2ms/step - loss: 0.3147 - mae: 0.3147 - val_loss: 0.4802 - val_mae: 0.4802\n",
      "Epoch 25/50\n",
      "\u001B[1m222/222\u001B[0m \u001B[32m━━━━━━━━━━━━━━━━━━━━\u001B[0m\u001B[37m\u001B[0m \u001B[1m0s\u001B[0m 2ms/step - loss: 0.3043 - mae: 0.3043 - val_loss: 0.4802 - val_mae: 0.4802\n",
      "Epoch 26/50\n",
      "\u001B[1m222/222\u001B[0m \u001B[32m━━━━━━━━━━━━━━━━━━━━\u001B[0m\u001B[37m\u001B[0m \u001B[1m1s\u001B[0m 2ms/step - loss: 0.3112 - mae: 0.3112 - val_loss: 0.4802 - val_mae: 0.4802\n",
      "Epoch 27/50\n",
      "\u001B[1m222/222\u001B[0m \u001B[32m━━━━━━━━━━━━━━━━━━━━\u001B[0m\u001B[37m\u001B[0m \u001B[1m1s\u001B[0m 3ms/step - loss: 0.3060 - mae: 0.3060 - val_loss: 0.4802 - val_mae: 0.4802\n",
      "Epoch 28/50\n",
      "\u001B[1m222/222\u001B[0m \u001B[32m━━━━━━━━━━━━━━━━━━━━\u001B[0m\u001B[37m\u001B[0m \u001B[1m1s\u001B[0m 3ms/step - loss: 0.3133 - mae: 0.3133 - val_loss: 0.4802 - val_mae: 0.4802\n",
      "Epoch 29/50\n",
      "\u001B[1m222/222\u001B[0m \u001B[32m━━━━━━━━━━━━━━━━━━━━\u001B[0m\u001B[37m\u001B[0m \u001B[1m1s\u001B[0m 2ms/step - loss: 0.3111 - mae: 0.3111 - val_loss: 0.4802 - val_mae: 0.4802\n",
      "Epoch 30/50\n",
      "\u001B[1m222/222\u001B[0m \u001B[32m━━━━━━━━━━━━━━━━━━━━\u001B[0m\u001B[37m\u001B[0m \u001B[1m0s\u001B[0m 2ms/step - loss: 0.3104 - mae: 0.3104 - val_loss: 0.4802 - val_mae: 0.4802\n",
      "Epoch 31/50\n",
      "\u001B[1m222/222\u001B[0m \u001B[32m━━━━━━━━━━━━━━━━━━━━\u001B[0m\u001B[37m\u001B[0m \u001B[1m0s\u001B[0m 2ms/step - loss: 0.3115 - mae: 0.3115 - val_loss: 0.4802 - val_mae: 0.4802\n",
      "Epoch 32/50\n",
      "\u001B[1m222/222\u001B[0m \u001B[32m━━━━━━━━━━━━━━━━━━━━\u001B[0m\u001B[37m\u001B[0m \u001B[1m0s\u001B[0m 2ms/step - loss: 0.3112 - mae: 0.3112 - val_loss: 0.4802 - val_mae: 0.4802\n",
      "Epoch 33/50\n",
      "\u001B[1m222/222\u001B[0m \u001B[32m━━━━━━━━━━━━━━━━━━━━\u001B[0m\u001B[37m\u001B[0m \u001B[1m0s\u001B[0m 2ms/step - loss: 0.3155 - mae: 0.3155 - val_loss: 0.4802 - val_mae: 0.4802\n",
      "Epoch 34/50\n",
      "\u001B[1m222/222\u001B[0m \u001B[32m━━━━━━━━━━━━━━━━━━━━\u001B[0m\u001B[37m\u001B[0m \u001B[1m0s\u001B[0m 2ms/step - loss: 0.3095 - mae: 0.3095 - val_loss: 0.4802 - val_mae: 0.4802\n",
      "Epoch 35/50\n",
      "\u001B[1m222/222\u001B[0m \u001B[32m━━━━━━━━━━━━━━━━━━━━\u001B[0m\u001B[37m\u001B[0m \u001B[1m0s\u001B[0m 2ms/step - loss: 0.3103 - mae: 0.3103 - val_loss: 0.4802 - val_mae: 0.4802\n",
      "Epoch 36/50\n",
      "\u001B[1m222/222\u001B[0m \u001B[32m━━━━━━━━━━━━━━━━━━━━\u001B[0m\u001B[37m\u001B[0m \u001B[1m0s\u001B[0m 2ms/step - loss: 0.3196 - mae: 0.3196 - val_loss: 0.4802 - val_mae: 0.4802\n",
      "Epoch 37/50\n",
      "\u001B[1m222/222\u001B[0m \u001B[32m━━━━━━━━━━━━━━━━━━━━\u001B[0m\u001B[37m\u001B[0m \u001B[1m1s\u001B[0m 2ms/step - loss: 0.3112 - mae: 0.3112 - val_loss: 0.4802 - val_mae: 0.4802\n",
      "Epoch 38/50\n",
      "\u001B[1m222/222\u001B[0m \u001B[32m━━━━━━━━━━━━━━━━━━━━\u001B[0m\u001B[37m\u001B[0m \u001B[1m1s\u001B[0m 2ms/step - loss: 0.2975 - mae: 0.2975 - val_loss: 0.4802 - val_mae: 0.4802\n",
      "Epoch 39/50\n",
      "\u001B[1m222/222\u001B[0m \u001B[32m━━━━━━━━━━━━━━━━━━━━\u001B[0m\u001B[37m\u001B[0m \u001B[1m0s\u001B[0m 2ms/step - loss: 0.3120 - mae: 0.3120 - val_loss: 0.4802 - val_mae: 0.4802\n",
      "Epoch 40/50\n",
      "\u001B[1m222/222\u001B[0m \u001B[32m━━━━━━━━━━━━━━━━━━━━\u001B[0m\u001B[37m\u001B[0m \u001B[1m0s\u001B[0m 2ms/step - loss: 0.3161 - mae: 0.3161 - val_loss: 0.4802 - val_mae: 0.4802\n",
      "Epoch 41/50\n",
      "\u001B[1m222/222\u001B[0m \u001B[32m━━━━━━━━━━━━━━━━━━━━\u001B[0m\u001B[37m\u001B[0m \u001B[1m0s\u001B[0m 2ms/step - loss: 0.3047 - mae: 0.3047 - val_loss: 0.4802 - val_mae: 0.4802\n",
      "Epoch 42/50\n",
      "\u001B[1m222/222\u001B[0m \u001B[32m━━━━━━━━━━━━━━━━━━━━\u001B[0m\u001B[37m\u001B[0m \u001B[1m0s\u001B[0m 2ms/step - loss: 0.3048 - mae: 0.3048 - val_loss: 0.4802 - val_mae: 0.4802\n",
      "Epoch 43/50\n",
      "\u001B[1m222/222\u001B[0m \u001B[32m━━━━━━━━━━━━━━━━━━━━\u001B[0m\u001B[37m\u001B[0m \u001B[1m0s\u001B[0m 2ms/step - loss: 0.3136 - mae: 0.3136 - val_loss: 0.4802 - val_mae: 0.4802\n",
      "Epoch 44/50\n",
      "\u001B[1m222/222\u001B[0m \u001B[32m━━━━━━━━━━━━━━━━━━━━\u001B[0m\u001B[37m\u001B[0m \u001B[1m0s\u001B[0m 2ms/step - loss: 0.3091 - mae: 0.3091 - val_loss: 0.4802 - val_mae: 0.4802\n",
      "Epoch 45/50\n",
      "\u001B[1m222/222\u001B[0m \u001B[32m━━━━━━━━━━━━━━━━━━━━\u001B[0m\u001B[37m\u001B[0m \u001B[1m0s\u001B[0m 2ms/step - loss: 0.3097 - mae: 0.3097 - val_loss: 0.4802 - val_mae: 0.4802\n",
      "Epoch 46/50\n",
      "\u001B[1m222/222\u001B[0m \u001B[32m━━━━━━━━━━━━━━━━━━━━\u001B[0m\u001B[37m\u001B[0m \u001B[1m0s\u001B[0m 2ms/step - loss: 0.3070 - mae: 0.3070 - val_loss: 0.4802 - val_mae: 0.4802\n",
      "Epoch 47/50\n",
      "\u001B[1m222/222\u001B[0m \u001B[32m━━━━━━━━━━━━━━━━━━━━\u001B[0m\u001B[37m\u001B[0m \u001B[1m1s\u001B[0m 2ms/step - loss: 0.3059 - mae: 0.3059 - val_loss: 0.4802 - val_mae: 0.4802\n",
      "Epoch 48/50\n",
      "\u001B[1m222/222\u001B[0m \u001B[32m━━━━━━━━━━━━━━━━━━━━\u001B[0m\u001B[37m\u001B[0m \u001B[1m0s\u001B[0m 2ms/step - loss: 0.3206 - mae: 0.3206 - val_loss: 0.4802 - val_mae: 0.4802\n",
      "Epoch 49/50\n",
      "\u001B[1m222/222\u001B[0m \u001B[32m━━━━━━━━━━━━━━━━━━━━\u001B[0m\u001B[37m\u001B[0m \u001B[1m0s\u001B[0m 2ms/step - loss: 0.3116 - mae: 0.3116 - val_loss: 0.4802 - val_mae: 0.4802\n",
      "Epoch 50/50\n",
      "\u001B[1m222/222\u001B[0m \u001B[32m━━━━━━━━━━━━━━━━━━━━\u001B[0m\u001B[37m\u001B[0m \u001B[1m1s\u001B[0m 2ms/step - loss: 0.3184 - mae: 0.3184 - val_loss: 0.4802 - val_mae: 0.4802\n"
     ]
    },
    {
     "name": "stderr",
     "output_type": "stream",
     "text": [
      "[I 2025-02-05 18:07:10,576] Trial 6 finished with value: 0.4802483022212982 and parameters: {'units': 512, 'learning_rate': 0.1}. Best is trial 0 with value: 0.027532856911420822.\n"
     ]
    },
    {
     "name": "stdout",
     "output_type": "stream",
     "text": [
      "Epoch 1/50\n",
      "\u001B[1m222/222\u001B[0m \u001B[32m━━━━━━━━━━━━━━━━━━━━\u001B[0m\u001B[37m\u001B[0m \u001B[1m1s\u001B[0m 3ms/step - loss: 0.1700 - mae: 0.3790 - val_loss: 0.0899 - val_mae: 0.2200\n",
      "Epoch 2/50\n",
      "\u001B[1m222/222\u001B[0m \u001B[32m━━━━━━━━━━━━━━━━━━━━\u001B[0m\u001B[37m\u001B[0m \u001B[1m0s\u001B[0m 2ms/step - loss: 0.0590 - mae: 0.1889 - val_loss: 0.0630 - val_mae: 0.1531\n",
      "Epoch 3/50\n",
      "\u001B[1m222/222\u001B[0m \u001B[32m━━━━━━━━━━━━━━━━━━━━\u001B[0m\u001B[37m\u001B[0m \u001B[1m0s\u001B[0m 2ms/step - loss: 0.0410 - mae: 0.1333 - val_loss: 0.0550 - val_mae: 0.1251\n",
      "Epoch 4/50\n",
      "\u001B[1m222/222\u001B[0m \u001B[32m━━━━━━━━━━━━━━━━━━━━\u001B[0m\u001B[37m\u001B[0m \u001B[1m0s\u001B[0m 2ms/step - loss: 0.0349 - mae: 0.1079 - val_loss: 0.0478 - val_mae: 0.1074\n",
      "Epoch 5/50\n",
      "\u001B[1m222/222\u001B[0m \u001B[32m━━━━━━━━━━━━━━━━━━━━\u001B[0m\u001B[37m\u001B[0m \u001B[1m0s\u001B[0m 2ms/step - loss: 0.0291 - mae: 0.0906 - val_loss: 0.0498 - val_mae: 0.1062\n",
      "Epoch 6/50\n",
      "\u001B[1m222/222\u001B[0m \u001B[32m━━━━━━━━━━━━━━━━━━━━\u001B[0m\u001B[37m\u001B[0m \u001B[1m0s\u001B[0m 2ms/step - loss: 0.0284 - mae: 0.0831 - val_loss: 0.0408 - val_mae: 0.0874\n",
      "Epoch 7/50\n",
      "\u001B[1m222/222\u001B[0m \u001B[32m━━━━━━━━━━━━━━━━━━━━\u001B[0m\u001B[37m\u001B[0m \u001B[1m0s\u001B[0m 2ms/step - loss: 0.0290 - mae: 0.0799 - val_loss: 0.0479 - val_mae: 0.0949\n",
      "Epoch 8/50\n",
      "\u001B[1m222/222\u001B[0m \u001B[32m━━━━━━━━━━━━━━━━━━━━\u001B[0m\u001B[37m\u001B[0m \u001B[1m0s\u001B[0m 2ms/step - loss: 0.0271 - mae: 0.0744 - val_loss: 0.0502 - val_mae: 0.0966\n",
      "Epoch 9/50\n",
      "\u001B[1m222/222\u001B[0m \u001B[32m━━━━━━━━━━━━━━━━━━━━\u001B[0m\u001B[37m\u001B[0m \u001B[1m0s\u001B[0m 2ms/step - loss: 0.0255 - mae: 0.0701 - val_loss: 0.0397 - val_mae: 0.0794\n",
      "Epoch 10/50\n",
      "\u001B[1m222/222\u001B[0m \u001B[32m━━━━━━━━━━━━━━━━━━━━\u001B[0m\u001B[37m\u001B[0m \u001B[1m0s\u001B[0m 2ms/step - loss: 0.0252 - mae: 0.0663 - val_loss: 0.0423 - val_mae: 0.0847\n",
      "Epoch 11/50\n",
      "\u001B[1m222/222\u001B[0m \u001B[32m━━━━━━━━━━━━━━━━━━━━\u001B[0m\u001B[37m\u001B[0m \u001B[1m0s\u001B[0m 2ms/step - loss: 0.0256 - mae: 0.0674 - val_loss: 0.0347 - val_mae: 0.0703\n",
      "Epoch 12/50\n",
      "\u001B[1m222/222\u001B[0m \u001B[32m━━━━━━━━━━━━━━━━━━━━\u001B[0m\u001B[37m\u001B[0m \u001B[1m0s\u001B[0m 2ms/step - loss: 0.0240 - mae: 0.0642 - val_loss: 0.0486 - val_mae: 0.0913\n",
      "Epoch 13/50\n",
      "\u001B[1m222/222\u001B[0m \u001B[32m━━━━━━━━━━━━━━━━━━━━\u001B[0m\u001B[37m\u001B[0m \u001B[1m0s\u001B[0m 2ms/step - loss: 0.0235 - mae: 0.0595 - val_loss: 0.0374 - val_mae: 0.0724\n",
      "Epoch 14/50\n",
      "\u001B[1m222/222\u001B[0m \u001B[32m━━━━━━━━━━━━━━━━━━━━\u001B[0m\u001B[37m\u001B[0m \u001B[1m0s\u001B[0m 2ms/step - loss: 0.0231 - mae: 0.0574 - val_loss: 0.0441 - val_mae: 0.0832\n",
      "Epoch 15/50\n",
      "\u001B[1m222/222\u001B[0m \u001B[32m━━━━━━━━━━━━━━━━━━━━\u001B[0m\u001B[37m\u001B[0m \u001B[1m0s\u001B[0m 2ms/step - loss: 0.0219 - mae: 0.0563 - val_loss: 0.0332 - val_mae: 0.0656\n",
      "Epoch 16/50\n",
      "\u001B[1m222/222\u001B[0m \u001B[32m━━━━━━━━━━━━━━━━━━━━\u001B[0m\u001B[37m\u001B[0m \u001B[1m0s\u001B[0m 2ms/step - loss: 0.0209 - mae: 0.0546 - val_loss: 0.0452 - val_mae: 0.0852\n",
      "Epoch 17/50\n",
      "\u001B[1m222/222\u001B[0m \u001B[32m━━━━━━━━━━━━━━━━━━━━\u001B[0m\u001B[37m\u001B[0m \u001B[1m0s\u001B[0m 2ms/step - loss: 0.0230 - mae: 0.0559 - val_loss: 0.0416 - val_mae: 0.0792\n",
      "Epoch 18/50\n",
      "\u001B[1m222/222\u001B[0m \u001B[32m━━━━━━━━━━━━━━━━━━━━\u001B[0m\u001B[37m\u001B[0m \u001B[1m0s\u001B[0m 2ms/step - loss: 0.0208 - mae: 0.0525 - val_loss: 0.0447 - val_mae: 0.0822\n",
      "Epoch 19/50\n",
      "\u001B[1m222/222\u001B[0m \u001B[32m━━━━━━━━━━━━━━━━━━━━\u001B[0m\u001B[37m\u001B[0m \u001B[1m0s\u001B[0m 2ms/step - loss: 0.0225 - mae: 0.0535 - val_loss: 0.0412 - val_mae: 0.0763\n",
      "Epoch 20/50\n",
      "\u001B[1m222/222\u001B[0m \u001B[32m━━━━━━━━━━━━━━━━━━━━\u001B[0m\u001B[37m\u001B[0m \u001B[1m0s\u001B[0m 2ms/step - loss: 0.0214 - mae: 0.0512 - val_loss: 0.0295 - val_mae: 0.0575\n",
      "Epoch 21/50\n",
      "\u001B[1m222/222\u001B[0m \u001B[32m━━━━━━━━━━━━━━━━━━━━\u001B[0m\u001B[37m\u001B[0m \u001B[1m0s\u001B[0m 2ms/step - loss: 0.0205 - mae: 0.0510 - val_loss: 0.0400 - val_mae: 0.0741\n",
      "Epoch 22/50\n",
      "\u001B[1m222/222\u001B[0m \u001B[32m━━━━━━━━━━━━━━━━━━━━\u001B[0m\u001B[37m\u001B[0m \u001B[1m0s\u001B[0m 2ms/step - loss: 0.0210 - mae: 0.0492 - val_loss: 0.0383 - val_mae: 0.0717\n",
      "Epoch 23/50\n",
      "\u001B[1m222/222\u001B[0m \u001B[32m━━━━━━━━━━━━━━━━━━━━\u001B[0m\u001B[37m\u001B[0m \u001B[1m0s\u001B[0m 2ms/step - loss: 0.0222 - mae: 0.0511 - val_loss: 0.0347 - val_mae: 0.0654\n",
      "Epoch 24/50\n",
      "\u001B[1m222/222\u001B[0m \u001B[32m━━━━━━━━━━━━━━━━━━━━\u001B[0m\u001B[37m\u001B[0m \u001B[1m0s\u001B[0m 2ms/step - loss: 0.0218 - mae: 0.0487 - val_loss: 0.0326 - val_mae: 0.0634\n",
      "Epoch 25/50\n",
      "\u001B[1m222/222\u001B[0m \u001B[32m━━━━━━━━━━━━━━━━━━━━\u001B[0m\u001B[37m\u001B[0m \u001B[1m0s\u001B[0m 2ms/step - loss: 0.0202 - mae: 0.0482 - val_loss: 0.0313 - val_mae: 0.0603\n",
      "Epoch 26/50\n",
      "\u001B[1m222/222\u001B[0m \u001B[32m━━━━━━━━━━━━━━━━━━━━\u001B[0m\u001B[37m\u001B[0m \u001B[1m0s\u001B[0m 2ms/step - loss: 0.0202 - mae: 0.0480 - val_loss: 0.0331 - val_mae: 0.0626\n",
      "Epoch 27/50\n",
      "\u001B[1m222/222\u001B[0m \u001B[32m━━━━━━━━━━━━━━━━━━━━\u001B[0m\u001B[37m\u001B[0m \u001B[1m0s\u001B[0m 2ms/step - loss: 0.0215 - mae: 0.0499 - val_loss: 0.0366 - val_mae: 0.0668\n",
      "Epoch 28/50\n",
      "\u001B[1m222/222\u001B[0m \u001B[32m━━━━━━━━━━━━━━━━━━━━\u001B[0m\u001B[37m\u001B[0m \u001B[1m0s\u001B[0m 2ms/step - loss: 0.0197 - mae: 0.0457 - val_loss: 0.0287 - val_mae: 0.0549\n",
      "Epoch 29/50\n",
      "\u001B[1m222/222\u001B[0m \u001B[32m━━━━━━━━━━━━━━━━━━━━\u001B[0m\u001B[37m\u001B[0m \u001B[1m0s\u001B[0m 2ms/step - loss: 0.0178 - mae: 0.0435 - val_loss: 0.0360 - val_mae: 0.0674\n",
      "Epoch 30/50\n",
      "\u001B[1m222/222\u001B[0m \u001B[32m━━━━━━━━━━━━━━━━━━━━\u001B[0m\u001B[37m\u001B[0m \u001B[1m0s\u001B[0m 2ms/step - loss: 0.0199 - mae: 0.0446 - val_loss: 0.0343 - val_mae: 0.0632\n",
      "Epoch 31/50\n",
      "\u001B[1m222/222\u001B[0m \u001B[32m━━━━━━━━━━━━━━━━━━━━\u001B[0m\u001B[37m\u001B[0m \u001B[1m0s\u001B[0m 2ms/step - loss: 0.0179 - mae: 0.0440 - val_loss: 0.0333 - val_mae: 0.0616\n",
      "Epoch 32/50\n",
      "\u001B[1m222/222\u001B[0m \u001B[32m━━━━━━━━━━━━━━━━━━━━\u001B[0m\u001B[37m\u001B[0m \u001B[1m0s\u001B[0m 2ms/step - loss: 0.0185 - mae: 0.0435 - val_loss: 0.0321 - val_mae: 0.0602\n",
      "Epoch 33/50\n",
      "\u001B[1m222/222\u001B[0m \u001B[32m━━━━━━━━━━━━━━━━━━━━\u001B[0m\u001B[37m\u001B[0m \u001B[1m1s\u001B[0m 2ms/step - loss: 0.0174 - mae: 0.0424 - val_loss: 0.0395 - val_mae: 0.0708\n",
      "Epoch 34/50\n",
      "\u001B[1m222/222\u001B[0m \u001B[32m━━━━━━━━━━━━━━━━━━━━\u001B[0m\u001B[37m\u001B[0m \u001B[1m0s\u001B[0m 2ms/step - loss: 0.0195 - mae: 0.0432 - val_loss: 0.0279 - val_mae: 0.0529\n",
      "Epoch 35/50\n",
      "\u001B[1m222/222\u001B[0m \u001B[32m━━━━━━━━━━━━━━━━━━━━\u001B[0m\u001B[37m\u001B[0m \u001B[1m0s\u001B[0m 2ms/step - loss: 0.0190 - mae: 0.0431 - val_loss: 0.0319 - val_mae: 0.0595\n",
      "Epoch 36/50\n",
      "\u001B[1m222/222\u001B[0m \u001B[32m━━━━━━━━━━━━━━━━━━━━\u001B[0m\u001B[37m\u001B[0m \u001B[1m0s\u001B[0m 2ms/step - loss: 0.0189 - mae: 0.0424 - val_loss: 0.0289 - val_mae: 0.0536\n",
      "Epoch 37/50\n",
      "\u001B[1m222/222\u001B[0m \u001B[32m━━━━━━━━━━━━━━━━━━━━\u001B[0m\u001B[37m\u001B[0m \u001B[1m0s\u001B[0m 2ms/step - loss: 0.0168 - mae: 0.0403 - val_loss: 0.0369 - val_mae: 0.0674\n",
      "Epoch 38/50\n",
      "\u001B[1m222/222\u001B[0m \u001B[32m━━━━━━━━━━━━━━━━━━━━\u001B[0m\u001B[37m\u001B[0m \u001B[1m0s\u001B[0m 2ms/step - loss: 0.0168 - mae: 0.0405 - val_loss: 0.0311 - val_mae: 0.0573\n",
      "Epoch 39/50\n",
      "\u001B[1m222/222\u001B[0m \u001B[32m━━━━━━━━━━━━━━━━━━━━\u001B[0m\u001B[37m\u001B[0m \u001B[1m0s\u001B[0m 2ms/step - loss: 0.0171 - mae: 0.0402 - val_loss: 0.0351 - val_mae: 0.0627\n",
      "Epoch 40/50\n",
      "\u001B[1m222/222\u001B[0m \u001B[32m━━━━━━━━━━━━━━━━━━━━\u001B[0m\u001B[37m\u001B[0m \u001B[1m0s\u001B[0m 2ms/step - loss: 0.0165 - mae: 0.0397 - val_loss: 0.0324 - val_mae: 0.0604\n",
      "Epoch 41/50\n",
      "\u001B[1m222/222\u001B[0m \u001B[32m━━━━━━━━━━━━━━━━━━━━\u001B[0m\u001B[37m\u001B[0m \u001B[1m0s\u001B[0m 2ms/step - loss: 0.0179 - mae: 0.0404 - val_loss: 0.0353 - val_mae: 0.0635\n",
      "Epoch 42/50\n",
      "\u001B[1m222/222\u001B[0m \u001B[32m━━━━━━━━━━━━━━━━━━━━\u001B[0m\u001B[37m\u001B[0m \u001B[1m0s\u001B[0m 2ms/step - loss: 0.0178 - mae: 0.0400 - val_loss: 0.0345 - val_mae: 0.0642\n",
      "Epoch 43/50\n",
      "\u001B[1m222/222\u001B[0m \u001B[32m━━━━━━━━━━━━━━━━━━━━\u001B[0m\u001B[37m\u001B[0m \u001B[1m0s\u001B[0m 2ms/step - loss: 0.0166 - mae: 0.0393 - val_loss: 0.0308 - val_mae: 0.0562\n",
      "Epoch 44/50\n",
      "\u001B[1m222/222\u001B[0m \u001B[32m━━━━━━━━━━━━━━━━━━━━\u001B[0m\u001B[37m\u001B[0m \u001B[1m0s\u001B[0m 2ms/step - loss: 0.0162 - mae: 0.0372 - val_loss: 0.0274 - val_mae: 0.0512\n",
      "Epoch 45/50\n",
      "\u001B[1m222/222\u001B[0m \u001B[32m━━━━━━━━━━━━━━━━━━━━\u001B[0m\u001B[37m\u001B[0m \u001B[1m0s\u001B[0m 2ms/step - loss: 0.0173 - mae: 0.0383 - val_loss: 0.0281 - val_mae: 0.0521\n",
      "Epoch 46/50\n",
      "\u001B[1m222/222\u001B[0m \u001B[32m━━━━━━━━━━━━━━━━━━━━\u001B[0m\u001B[37m\u001B[0m \u001B[1m0s\u001B[0m 2ms/step - loss: 0.0159 - mae: 0.0360 - val_loss: 0.0246 - val_mae: 0.0462\n",
      "Epoch 47/50\n",
      "\u001B[1m222/222\u001B[0m \u001B[32m━━━━━━━━━━━━━━━━━━━━\u001B[0m\u001B[37m\u001B[0m \u001B[1m0s\u001B[0m 2ms/step - loss: 0.0166 - mae: 0.0388 - val_loss: 0.0298 - val_mae: 0.0553\n",
      "Epoch 48/50\n",
      "\u001B[1m222/222\u001B[0m \u001B[32m━━━━━━━━━━━━━━━━━━━━\u001B[0m\u001B[37m\u001B[0m \u001B[1m0s\u001B[0m 2ms/step - loss: 0.0167 - mae: 0.0368 - val_loss: 0.0275 - val_mae: 0.0509\n",
      "Epoch 49/50\n",
      "\u001B[1m222/222\u001B[0m \u001B[32m━━━━━━━━━━━━━━━━━━━━\u001B[0m\u001B[37m\u001B[0m \u001B[1m0s\u001B[0m 2ms/step - loss: 0.0174 - mae: 0.0383 - val_loss: 0.0329 - val_mae: 0.0604\n",
      "Epoch 50/50\n",
      "\u001B[1m222/222\u001B[0m \u001B[32m━━━━━━━━━━━━━━━━━━━━\u001B[0m\u001B[37m\u001B[0m \u001B[1m0s\u001B[0m 2ms/step - loss: 0.0166 - mae: 0.0367 - val_loss: 0.0309 - val_mae: 0.0559\n"
     ]
    },
    {
     "name": "stderr",
     "output_type": "stream",
     "text": [
      "[I 2025-02-05 18:07:34,943] Trial 7 finished with value: 0.03085894137620926 and parameters: {'units': 160, 'learning_rate': 0.001}. Best is trial 0 with value: 0.027532856911420822.\n"
     ]
    },
    {
     "name": "stdout",
     "output_type": "stream",
     "text": [
      "Epoch 1/50\n",
      "\u001B[1m222/222\u001B[0m \u001B[32m━━━━━━━━━━━━━━━━━━━━\u001B[0m\u001B[37m\u001B[0m \u001B[1m1s\u001B[0m 3ms/step - loss: 0.1374 - mae: 0.3279 - val_loss: 0.0702 - val_mae: 0.1695\n",
      "Epoch 2/50\n",
      "\u001B[1m222/222\u001B[0m \u001B[32m━━━━━━━━━━━━━━━━━━━━\u001B[0m\u001B[37m\u001B[0m \u001B[1m0s\u001B[0m 2ms/step - loss: 0.0432 - mae: 0.1380 - val_loss: 0.0505 - val_mae: 0.1154\n",
      "Epoch 3/50\n",
      "\u001B[1m222/222\u001B[0m \u001B[32m━━━━━━━━━━━━━━━━━━━━\u001B[0m\u001B[37m\u001B[0m \u001B[1m0s\u001B[0m 2ms/step - loss: 0.0343 - mae: 0.1042 - val_loss: 0.0674 - val_mae: 0.1313\n",
      "Epoch 4/50\n",
      "\u001B[1m222/222\u001B[0m \u001B[32m━━━━━━━━━━━━━━━━━━━━\u001B[0m\u001B[37m\u001B[0m \u001B[1m0s\u001B[0m 2ms/step - loss: 0.0288 - mae: 0.0837 - val_loss: 0.0512 - val_mae: 0.1038\n",
      "Epoch 5/50\n",
      "\u001B[1m222/222\u001B[0m \u001B[32m━━━━━━━━━━━━━━━━━━━━\u001B[0m\u001B[37m\u001B[0m \u001B[1m0s\u001B[0m 2ms/step - loss: 0.0275 - mae: 0.0753 - val_loss: 0.0491 - val_mae: 0.0991\n",
      "Epoch 6/50\n",
      "\u001B[1m222/222\u001B[0m \u001B[32m━━━━━━━━━━━━━━━━━━━━\u001B[0m\u001B[37m\u001B[0m \u001B[1m0s\u001B[0m 2ms/step - loss: 0.0286 - mae: 0.0722 - val_loss: 0.0458 - val_mae: 0.0863\n",
      "Epoch 7/50\n",
      "\u001B[1m222/222\u001B[0m \u001B[32m━━━━━━━━━━━━━━━━━━━━\u001B[0m\u001B[37m\u001B[0m \u001B[1m0s\u001B[0m 2ms/step - loss: 0.0255 - mae: 0.0657 - val_loss: 0.0489 - val_mae: 0.0905\n",
      "Epoch 8/50\n",
      "\u001B[1m222/222\u001B[0m \u001B[32m━━━━━━━━━━━━━━━━━━━━\u001B[0m\u001B[37m\u001B[0m \u001B[1m0s\u001B[0m 2ms/step - loss: 0.0244 - mae: 0.0609 - val_loss: 0.0493 - val_mae: 0.0908\n",
      "Epoch 9/50\n",
      "\u001B[1m222/222\u001B[0m \u001B[32m━━━━━━━━━━━━━━━━━━━━\u001B[0m\u001B[37m\u001B[0m \u001B[1m1s\u001B[0m 3ms/step - loss: 0.0241 - mae: 0.0588 - val_loss: 0.0387 - val_mae: 0.0702\n",
      "Epoch 10/50\n",
      "\u001B[1m222/222\u001B[0m \u001B[32m━━━━━━━━━━━━━━━━━━━━\u001B[0m\u001B[37m\u001B[0m \u001B[1m0s\u001B[0m 2ms/step - loss: 0.0237 - mae: 0.0564 - val_loss: 0.0451 - val_mae: 0.0815\n",
      "Epoch 11/50\n",
      "\u001B[1m222/222\u001B[0m \u001B[32m━━━━━━━━━━━━━━━━━━━━\u001B[0m\u001B[37m\u001B[0m \u001B[1m0s\u001B[0m 2ms/step - loss: 0.0217 - mae: 0.0530 - val_loss: 0.0298 - val_mae: 0.0575\n",
      "Epoch 12/50\n",
      "\u001B[1m222/222\u001B[0m \u001B[32m━━━━━━━━━━━━━━━━━━━━\u001B[0m\u001B[37m\u001B[0m \u001B[1m1s\u001B[0m 2ms/step - loss: 0.0207 - mae: 0.0503 - val_loss: 0.0395 - val_mae: 0.0728\n",
      "Epoch 13/50\n",
      "\u001B[1m222/222\u001B[0m \u001B[32m━━━━━━━━━━━━━━━━━━━━\u001B[0m\u001B[37m\u001B[0m \u001B[1m1s\u001B[0m 2ms/step - loss: 0.0232 - mae: 0.0522 - val_loss: 0.0355 - val_mae: 0.0676\n",
      "Epoch 14/50\n",
      "\u001B[1m222/222\u001B[0m \u001B[32m━━━━━━━━━━━━━━━━━━━━\u001B[0m\u001B[37m\u001B[0m \u001B[1m1s\u001B[0m 3ms/step - loss: 0.0204 - mae: 0.0487 - val_loss: 0.0381 - val_mae: 0.0690\n",
      "Epoch 15/50\n",
      "\u001B[1m222/222\u001B[0m \u001B[32m━━━━━━━━━━━━━━━━━━━━\u001B[0m\u001B[37m\u001B[0m \u001B[1m2s\u001B[0m 4ms/step - loss: 0.0214 - mae: 0.0492 - val_loss: 0.0322 - val_mae: 0.0596\n",
      "Epoch 16/50\n",
      "\u001B[1m222/222\u001B[0m \u001B[32m━━━━━━━━━━━━━━━━━━━━\u001B[0m\u001B[37m\u001B[0m \u001B[1m1s\u001B[0m 3ms/step - loss: 0.0186 - mae: 0.0451 - val_loss: 0.0356 - val_mae: 0.0654\n",
      "Epoch 17/50\n",
      "\u001B[1m222/222\u001B[0m \u001B[32m━━━━━━━━━━━━━━━━━━━━\u001B[0m\u001B[37m\u001B[0m \u001B[1m1s\u001B[0m 3ms/step - loss: 0.0213 - mae: 0.0477 - val_loss: 0.0316 - val_mae: 0.0592\n",
      "Epoch 18/50\n",
      "\u001B[1m222/222\u001B[0m \u001B[32m━━━━━━━━━━━━━━━━━━━━\u001B[0m\u001B[37m\u001B[0m \u001B[1m1s\u001B[0m 2ms/step - loss: 0.0195 - mae: 0.0450 - val_loss: 0.0263 - val_mae: 0.0478\n",
      "Epoch 19/50\n",
      "\u001B[1m222/222\u001B[0m \u001B[32m━━━━━━━━━━━━━━━━━━━━\u001B[0m\u001B[37m\u001B[0m \u001B[1m1s\u001B[0m 2ms/step - loss: 0.0218 - mae: 0.0469 - val_loss: 0.0341 - val_mae: 0.0605\n",
      "Epoch 20/50\n",
      "\u001B[1m222/222\u001B[0m \u001B[32m━━━━━━━━━━━━━━━━━━━━\u001B[0m\u001B[37m\u001B[0m \u001B[1m1s\u001B[0m 2ms/step - loss: 0.0188 - mae: 0.0429 - val_loss: 0.0402 - val_mae: 0.0715\n",
      "Epoch 21/50\n",
      "\u001B[1m222/222\u001B[0m \u001B[32m━━━━━━━━━━━━━━━━━━━━\u001B[0m\u001B[37m\u001B[0m \u001B[1m1s\u001B[0m 3ms/step - loss: 0.0204 - mae: 0.0456 - val_loss: 0.0372 - val_mae: 0.0639\n",
      "Epoch 22/50\n",
      "\u001B[1m222/222\u001B[0m \u001B[32m━━━━━━━━━━━━━━━━━━━━\u001B[0m\u001B[37m\u001B[0m \u001B[1m1s\u001B[0m 2ms/step - loss: 0.0182 - mae: 0.0397 - val_loss: 0.0287 - val_mae: 0.0529\n",
      "Epoch 23/50\n",
      "\u001B[1m222/222\u001B[0m \u001B[32m━━━━━━━━━━━━━━━━━━━━\u001B[0m\u001B[37m\u001B[0m \u001B[1m1s\u001B[0m 2ms/step - loss: 0.0183 - mae: 0.0410 - val_loss: 0.0377 - val_mae: 0.0666\n",
      "Epoch 24/50\n",
      "\u001B[1m222/222\u001B[0m \u001B[32m━━━━━━━━━━━━━━━━━━━━\u001B[0m\u001B[37m\u001B[0m \u001B[1m1s\u001B[0m 2ms/step - loss: 0.0200 - mae: 0.0427 - val_loss: 0.0259 - val_mae: 0.0478\n",
      "Epoch 25/50\n",
      "\u001B[1m222/222\u001B[0m \u001B[32m━━━━━━━━━━━━━━━━━━━━\u001B[0m\u001B[37m\u001B[0m \u001B[1m1s\u001B[0m 2ms/step - loss: 0.0167 - mae: 0.0385 - val_loss: 0.0270 - val_mae: 0.0494\n",
      "Epoch 26/50\n",
      "\u001B[1m222/222\u001B[0m \u001B[32m━━━━━━━━━━━━━━━━━━━━\u001B[0m\u001B[37m\u001B[0m \u001B[1m1s\u001B[0m 3ms/step - loss: 0.0181 - mae: 0.0402 - val_loss: 0.0294 - val_mae: 0.0530\n",
      "Epoch 27/50\n",
      "\u001B[1m222/222\u001B[0m \u001B[32m━━━━━━━━━━━━━━━━━━━━\u001B[0m\u001B[37m\u001B[0m \u001B[1m1s\u001B[0m 2ms/step - loss: 0.0162 - mae: 0.0374 - val_loss: 0.0364 - val_mae: 0.0627\n",
      "Epoch 28/50\n",
      "\u001B[1m222/222\u001B[0m \u001B[32m━━━━━━━━━━━━━━━━━━━━\u001B[0m\u001B[37m\u001B[0m \u001B[1m1s\u001B[0m 2ms/step - loss: 0.0175 - mae: 0.0362 - val_loss: 0.0306 - val_mae: 0.0556\n",
      "Epoch 29/50\n",
      "\u001B[1m222/222\u001B[0m \u001B[32m━━━━━━━━━━━━━━━━━━━━\u001B[0m\u001B[37m\u001B[0m \u001B[1m1s\u001B[0m 2ms/step - loss: 0.0164 - mae: 0.0374 - val_loss: 0.0312 - val_mae: 0.0580\n",
      "Epoch 30/50\n",
      "\u001B[1m222/222\u001B[0m \u001B[32m━━━━━━━━━━━━━━━━━━━━\u001B[0m\u001B[37m\u001B[0m \u001B[1m1s\u001B[0m 3ms/step - loss: 0.0170 - mae: 0.0372 - val_loss: 0.0279 - val_mae: 0.0512\n",
      "Epoch 31/50\n",
      "\u001B[1m222/222\u001B[0m \u001B[32m━━━━━━━━━━━━━━━━━━━━\u001B[0m\u001B[37m\u001B[0m \u001B[1m1s\u001B[0m 3ms/step - loss: 0.0169 - mae: 0.0381 - val_loss: 0.0300 - val_mae: 0.0548\n",
      "Epoch 32/50\n",
      "\u001B[1m222/222\u001B[0m \u001B[32m━━━━━━━━━━━━━━━━━━━━\u001B[0m\u001B[37m\u001B[0m \u001B[1m1s\u001B[0m 2ms/step - loss: 0.0170 - mae: 0.0373 - val_loss: 0.0313 - val_mae: 0.0563\n",
      "Epoch 33/50\n",
      "\u001B[1m222/222\u001B[0m \u001B[32m━━━━━━━━━━━━━━━━━━━━\u001B[0m\u001B[37m\u001B[0m \u001B[1m1s\u001B[0m 2ms/step - loss: 0.0173 - mae: 0.0366 - val_loss: 0.0242 - val_mae: 0.0436\n",
      "Epoch 34/50\n",
      "\u001B[1m222/222\u001B[0m \u001B[32m━━━━━━━━━━━━━━━━━━━━\u001B[0m\u001B[37m\u001B[0m \u001B[1m1s\u001B[0m 2ms/step - loss: 0.0179 - mae: 0.0385 - val_loss: 0.0362 - val_mae: 0.0629\n",
      "Epoch 35/50\n",
      "\u001B[1m222/222\u001B[0m \u001B[32m━━━━━━━━━━━━━━━━━━━━\u001B[0m\u001B[37m\u001B[0m \u001B[1m1s\u001B[0m 2ms/step - loss: 0.0151 - mae: 0.0324 - val_loss: 0.0251 - val_mae: 0.0467\n",
      "Epoch 36/50\n",
      "\u001B[1m222/222\u001B[0m \u001B[32m━━━━━━━━━━━━━━━━━━━━\u001B[0m\u001B[37m\u001B[0m \u001B[1m1s\u001B[0m 2ms/step - loss: 0.0191 - mae: 0.0388 - val_loss: 0.0304 - val_mae: 0.0538\n",
      "Epoch 37/50\n",
      "\u001B[1m222/222\u001B[0m \u001B[32m━━━━━━━━━━━━━━━━━━━━\u001B[0m\u001B[37m\u001B[0m \u001B[1m1s\u001B[0m 2ms/step - loss: 0.0177 - mae: 0.0363 - val_loss: 0.0306 - val_mae: 0.0546\n",
      "Epoch 38/50\n",
      "\u001B[1m222/222\u001B[0m \u001B[32m━━━━━━━━━━━━━━━━━━━━\u001B[0m\u001B[37m\u001B[0m \u001B[1m1s\u001B[0m 2ms/step - loss: 0.0150 - mae: 0.0337 - val_loss: 0.0266 - val_mae: 0.0471\n",
      "Epoch 39/50\n",
      "\u001B[1m222/222\u001B[0m \u001B[32m━━━━━━━━━━━━━━━━━━━━\u001B[0m\u001B[37m\u001B[0m \u001B[1m1s\u001B[0m 2ms/step - loss: 0.0173 - mae: 0.0347 - val_loss: 0.0269 - val_mae: 0.0501\n",
      "Epoch 40/50\n",
      "\u001B[1m222/222\u001B[0m \u001B[32m━━━━━━━━━━━━━━━━━━━━\u001B[0m\u001B[37m\u001B[0m \u001B[1m1s\u001B[0m 2ms/step - loss: 0.0134 - mae: 0.0316 - val_loss: 0.0301 - val_mae: 0.0548\n",
      "Epoch 41/50\n",
      "\u001B[1m222/222\u001B[0m \u001B[32m━━━━━━━━━━━━━━━━━━━━\u001B[0m\u001B[37m\u001B[0m \u001B[1m1s\u001B[0m 3ms/step - loss: 0.0154 - mae: 0.0331 - val_loss: 0.0235 - val_mae: 0.0428\n",
      "Epoch 42/50\n",
      "\u001B[1m222/222\u001B[0m \u001B[32m━━━━━━━━━━━━━━━━━━━━\u001B[0m\u001B[37m\u001B[0m \u001B[1m1s\u001B[0m 3ms/step - loss: 0.0135 - mae: 0.0309 - val_loss: 0.0252 - val_mae: 0.0443\n",
      "Epoch 43/50\n",
      "\u001B[1m222/222\u001B[0m \u001B[32m━━━━━━━━━━━━━━━━━━━━\u001B[0m\u001B[37m\u001B[0m \u001B[1m1s\u001B[0m 3ms/step - loss: 0.0164 - mae: 0.0340 - val_loss: 0.0344 - val_mae: 0.0608\n",
      "Epoch 44/50\n",
      "\u001B[1m222/222\u001B[0m \u001B[32m━━━━━━━━━━━━━━━━━━━━\u001B[0m\u001B[37m\u001B[0m \u001B[1m1s\u001B[0m 2ms/step - loss: 0.0153 - mae: 0.0314 - val_loss: 0.0284 - val_mae: 0.0507\n",
      "Epoch 45/50\n",
      "\u001B[1m222/222\u001B[0m \u001B[32m━━━━━━━━━━━━━━━━━━━━\u001B[0m\u001B[37m\u001B[0m \u001B[1m1s\u001B[0m 2ms/step - loss: 0.0121 - mae: 0.0279 - val_loss: 0.0268 - val_mae: 0.0476\n",
      "Epoch 46/50\n",
      "\u001B[1m222/222\u001B[0m \u001B[32m━━━━━━━━━━━━━━━━━━━━\u001B[0m\u001B[37m\u001B[0m \u001B[1m1s\u001B[0m 2ms/step - loss: 0.0161 - mae: 0.0337 - val_loss: 0.0325 - val_mae: 0.0568\n",
      "Epoch 47/50\n",
      "\u001B[1m222/222\u001B[0m \u001B[32m━━━━━━━━━━━━━━━━━━━━\u001B[0m\u001B[37m\u001B[0m \u001B[1m1s\u001B[0m 2ms/step - loss: 0.0166 - mae: 0.0339 - val_loss: 0.0235 - val_mae: 0.0423\n",
      "Epoch 48/50\n",
      "\u001B[1m222/222\u001B[0m \u001B[32m━━━━━━━━━━━━━━━━━━━━\u001B[0m\u001B[37m\u001B[0m \u001B[1m1s\u001B[0m 2ms/step - loss: 0.0148 - mae: 0.0299 - val_loss: 0.0274 - val_mae: 0.0475\n",
      "Epoch 49/50\n",
      "\u001B[1m222/222\u001B[0m \u001B[32m━━━━━━━━━━━━━━━━━━━━\u001B[0m\u001B[37m\u001B[0m \u001B[1m1s\u001B[0m 3ms/step - loss: 0.0128 - mae: 0.0274 - val_loss: 0.0228 - val_mae: 0.0404\n",
      "Epoch 50/50\n",
      "\u001B[1m222/222\u001B[0m \u001B[32m━━━━━━━━━━━━━━━━━━━━\u001B[0m\u001B[37m\u001B[0m \u001B[1m1s\u001B[0m 2ms/step - loss: 0.0146 - mae: 0.0297 - val_loss: 0.0206 - val_mae: 0.0362\n"
     ]
    },
    {
     "name": "stderr",
     "output_type": "stream",
     "text": [
      "[I 2025-02-05 18:08:07,040] Trial 8 finished with value: 0.020638274028897285 and parameters: {'units': 448, 'learning_rate': 0.001}. Best is trial 8 with value: 0.020638274028897285.\n"
     ]
    },
    {
     "name": "stdout",
     "output_type": "stream",
     "text": [
      "Epoch 1/50\n",
      "\u001B[1m222/222\u001B[0m \u001B[32m━━━━━━━━━━━━━━━━━━━━\u001B[0m\u001B[37m\u001B[0m \u001B[1m1s\u001B[0m 3ms/step - loss: 0.1122 - mae: 0.1615 - val_loss: 0.1310 - val_mae: 0.1410\n",
      "Epoch 2/50\n",
      "\u001B[1m222/222\u001B[0m \u001B[32m━━━━━━━━━━━━━━━━━━━━\u001B[0m\u001B[37m\u001B[0m \u001B[1m1s\u001B[0m 2ms/step - loss: 0.0648 - mae: 0.0726 - val_loss: 0.1422 - val_mae: 0.1489\n",
      "Epoch 3/50\n",
      "\u001B[1m222/222\u001B[0m \u001B[32m━━━━━━━━━━━━━━━━━━━━\u001B[0m\u001B[37m\u001B[0m \u001B[1m1s\u001B[0m 2ms/step - loss: 0.0786 - mae: 0.0839 - val_loss: 0.1236 - val_mae: 0.1276\n",
      "Epoch 4/50\n",
      "\u001B[1m222/222\u001B[0m \u001B[32m━━━━━━━━━━━━━━━━━━━━\u001B[0m\u001B[37m\u001B[0m \u001B[1m1s\u001B[0m 2ms/step - loss: 0.0658 - mae: 0.0689 - val_loss: 0.1925 - val_mae: 0.1961\n",
      "Epoch 5/50\n",
      "\u001B[1m222/222\u001B[0m \u001B[32m━━━━━━━━━━━━━━━━━━━━\u001B[0m\u001B[37m\u001B[0m \u001B[1m1s\u001B[0m 2ms/step - loss: 0.0882 - mae: 0.0904 - val_loss: 0.0462 - val_mae: 0.0474\n",
      "Epoch 6/50\n",
      "\u001B[1m222/222\u001B[0m \u001B[32m━━━━━━━━━━━━━━━━━━━━\u001B[0m\u001B[37m\u001B[0m \u001B[1m1s\u001B[0m 2ms/step - loss: 0.0860 - mae: 0.0888 - val_loss: 0.1271 - val_mae: 0.1283\n",
      "Epoch 7/50\n",
      "\u001B[1m222/222\u001B[0m \u001B[32m━━━━━━━━━━━━━━━━━━━━\u001B[0m\u001B[37m\u001B[0m \u001B[1m1s\u001B[0m 2ms/step - loss: 0.0855 - mae: 0.0870 - val_loss: 0.1128 - val_mae: 0.1137\n",
      "Epoch 8/50\n",
      "\u001B[1m222/222\u001B[0m \u001B[32m━━━━━━━━━━━━━━━━━━━━\u001B[0m\u001B[37m\u001B[0m \u001B[1m1s\u001B[0m 2ms/step - loss: 0.0958 - mae: 0.0971 - val_loss: 0.1486 - val_mae: 0.1508\n",
      "Epoch 9/50\n",
      "\u001B[1m222/222\u001B[0m \u001B[32m━━━━━━━━━━━━━━━━━━━━\u001B[0m\u001B[37m\u001B[0m \u001B[1m1s\u001B[0m 3ms/step - loss: 0.0927 - mae: 0.0938 - val_loss: 0.0811 - val_mae: 0.0818\n",
      "Epoch 10/50\n",
      "\u001B[1m222/222\u001B[0m \u001B[32m━━━━━━━━━━━━━━━━━━━━\u001B[0m\u001B[37m\u001B[0m \u001B[1m1s\u001B[0m 3ms/step - loss: 0.0780 - mae: 0.0791 - val_loss: 0.0557 - val_mae: 0.0560\n",
      "Epoch 11/50\n",
      "\u001B[1m222/222\u001B[0m \u001B[32m━━━━━━━━━━━━━━━━━━━━\u001B[0m\u001B[37m\u001B[0m \u001B[1m1s\u001B[0m 3ms/step - loss: 0.0686 - mae: 0.0694 - val_loss: 0.0902 - val_mae: 0.0906\n",
      "Epoch 12/50\n",
      "\u001B[1m222/222\u001B[0m \u001B[32m━━━━━━━━━━━━━━━━━━━━\u001B[0m\u001B[37m\u001B[0m \u001B[1m1s\u001B[0m 2ms/step - loss: 0.0774 - mae: 0.0782 - val_loss: 0.2029 - val_mae: 0.2040\n",
      "Epoch 13/50\n",
      "\u001B[1m222/222\u001B[0m \u001B[32m━━━━━━━━━━━━━━━━━━━━\u001B[0m\u001B[37m\u001B[0m \u001B[1m1s\u001B[0m 2ms/step - loss: 0.0833 - mae: 0.0837 - val_loss: 0.0758 - val_mae: 0.0766\n",
      "Epoch 14/50\n",
      "\u001B[1m222/222\u001B[0m \u001B[32m━━━━━━━━━━━━━━━━━━━━\u001B[0m\u001B[37m\u001B[0m \u001B[1m1s\u001B[0m 2ms/step - loss: 0.0753 - mae: 0.0762 - val_loss: 0.1198 - val_mae: 0.1208\n",
      "Epoch 15/50\n",
      "\u001B[1m222/222\u001B[0m \u001B[32m━━━━━━━━━━━━━━━━━━━━\u001B[0m\u001B[37m\u001B[0m \u001B[1m1s\u001B[0m 2ms/step - loss: 0.0643 - mae: 0.0647 - val_loss: 0.0703 - val_mae: 0.0705\n",
      "Epoch 16/50\n",
      "\u001B[1m222/222\u001B[0m \u001B[32m━━━━━━━━━━━━━━━━━━━━\u001B[0m\u001B[37m\u001B[0m \u001B[1m1s\u001B[0m 2ms/step - loss: 0.0700 - mae: 0.0704 - val_loss: 0.0900 - val_mae: 0.0903\n",
      "Epoch 17/50\n",
      "\u001B[1m222/222\u001B[0m \u001B[32m━━━━━━━━━━━━━━━━━━━━\u001B[0m\u001B[37m\u001B[0m \u001B[1m1s\u001B[0m 2ms/step - loss: 0.0629 - mae: 0.0633 - val_loss: 0.0659 - val_mae: 0.0663\n",
      "Epoch 18/50\n",
      "\u001B[1m222/222\u001B[0m \u001B[32m━━━━━━━━━━━━━━━━━━━━\u001B[0m\u001B[37m\u001B[0m \u001B[1m1s\u001B[0m 2ms/step - loss: 0.0593 - mae: 0.0595 - val_loss: 0.1371 - val_mae: 0.1379\n",
      "Epoch 19/50\n",
      "\u001B[1m222/222\u001B[0m \u001B[32m━━━━━━━━━━━━━━━━━━━━\u001B[0m\u001B[37m\u001B[0m \u001B[1m1s\u001B[0m 2ms/step - loss: 0.0682 - mae: 0.0685 - val_loss: 0.1376 - val_mae: 0.1379\n",
      "Epoch 20/50\n",
      "\u001B[1m222/222\u001B[0m \u001B[32m━━━━━━━━━━━━━━━━━━━━\u001B[0m\u001B[37m\u001B[0m \u001B[1m1s\u001B[0m 2ms/step - loss: 0.0842 - mae: 0.0848 - val_loss: 0.2765 - val_mae: 0.2778\n",
      "Epoch 21/50\n",
      "\u001B[1m222/222\u001B[0m \u001B[32m━━━━━━━━━━━━━━━━━━━━\u001B[0m\u001B[37m\u001B[0m \u001B[1m1s\u001B[0m 2ms/step - loss: 0.1024 - mae: 0.1029 - val_loss: 0.1610 - val_mae: 0.1613\n",
      "Epoch 22/50\n",
      "\u001B[1m222/222\u001B[0m \u001B[32m━━━━━━━━━━━━━━━━━━━━\u001B[0m\u001B[37m\u001B[0m \u001B[1m1s\u001B[0m 2ms/step - loss: 0.0823 - mae: 0.0827 - val_loss: 0.0919 - val_mae: 0.0920\n",
      "Epoch 23/50\n",
      "\u001B[1m222/222\u001B[0m \u001B[32m━━━━━━━━━━━━━━━━━━━━\u001B[0m\u001B[37m\u001B[0m \u001B[1m1s\u001B[0m 2ms/step - loss: 0.0980 - mae: 0.0982 - val_loss: 0.1090 - val_mae: 0.1095\n",
      "Epoch 24/50\n",
      "\u001B[1m222/222\u001B[0m \u001B[32m━━━━━━━━━━━━━━━━━━━━\u001B[0m\u001B[37m\u001B[0m \u001B[1m1s\u001B[0m 2ms/step - loss: 0.0801 - mae: 0.0804 - val_loss: 0.0915 - val_mae: 0.0920\n",
      "Epoch 25/50\n",
      "\u001B[1m222/222\u001B[0m \u001B[32m━━━━━━━━━━━━━━━━━━━━\u001B[0m\u001B[37m\u001B[0m \u001B[1m1s\u001B[0m 2ms/step - loss: 0.0861 - mae: 0.0864 - val_loss: 0.1339 - val_mae: 0.1344\n",
      "Epoch 26/50\n",
      "\u001B[1m222/222\u001B[0m \u001B[32m━━━━━━━━━━━━━━━━━━━━\u001B[0m\u001B[37m\u001B[0m \u001B[1m1s\u001B[0m 2ms/step - loss: 0.0787 - mae: 0.0789 - val_loss: 0.0899 - val_mae: 0.0902\n",
      "Epoch 27/50\n",
      "\u001B[1m222/222\u001B[0m \u001B[32m━━━━━━━━━━━━━━━━━━━━\u001B[0m\u001B[37m\u001B[0m \u001B[1m1s\u001B[0m 2ms/step - loss: 0.0798 - mae: 0.0801 - val_loss: 0.1431 - val_mae: 0.1434\n",
      "Epoch 28/50\n",
      "\u001B[1m222/222\u001B[0m \u001B[32m━━━━━━━━━━━━━━━━━━━━\u001B[0m\u001B[37m\u001B[0m \u001B[1m1s\u001B[0m 2ms/step - loss: 0.0897 - mae: 0.0902 - val_loss: 0.1090 - val_mae: 0.1092\n",
      "Epoch 29/50\n",
      "\u001B[1m222/222\u001B[0m \u001B[32m━━━━━━━━━━━━━━━━━━━━\u001B[0m\u001B[37m\u001B[0m \u001B[1m1s\u001B[0m 2ms/step - loss: 0.0955 - mae: 0.0959 - val_loss: 0.2807 - val_mae: 0.2809\n",
      "Epoch 30/50\n",
      "\u001B[1m222/222\u001B[0m \u001B[32m━━━━━━━━━━━━━━━━━━━━\u001B[0m\u001B[37m\u001B[0m \u001B[1m1s\u001B[0m 2ms/step - loss: 0.0974 - mae: 0.0977 - val_loss: 0.1642 - val_mae: 0.1648\n",
      "Epoch 31/50\n",
      "\u001B[1m222/222\u001B[0m \u001B[32m━━━━━━━━━━━━━━━━━━━━\u001B[0m\u001B[37m\u001B[0m \u001B[1m1s\u001B[0m 2ms/step - loss: 0.0931 - mae: 0.0932 - val_loss: 0.1731 - val_mae: 0.1733\n",
      "Epoch 32/50\n",
      "\u001B[1m222/222\u001B[0m \u001B[32m━━━━━━━━━━━━━━━━━━━━\u001B[0m\u001B[37m\u001B[0m \u001B[1m1s\u001B[0m 2ms/step - loss: 0.0962 - mae: 0.0965 - val_loss: 0.1809 - val_mae: 0.1811\n",
      "Epoch 33/50\n",
      "\u001B[1m222/222\u001B[0m \u001B[32m━━━━━━━━━━━━━━━━━━━━\u001B[0m\u001B[37m\u001B[0m \u001B[1m1s\u001B[0m 2ms/step - loss: 0.1004 - mae: 0.1005 - val_loss: 0.2531 - val_mae: 0.2534\n",
      "Epoch 34/50\n",
      "\u001B[1m222/222\u001B[0m \u001B[32m━━━━━━━━━━━━━━━━━━━━\u001B[0m\u001B[37m\u001B[0m \u001B[1m1s\u001B[0m 2ms/step - loss: 0.1161 - mae: 0.1161 - val_loss: 0.2341 - val_mae: 0.2343\n",
      "Epoch 35/50\n",
      "\u001B[1m222/222\u001B[0m \u001B[32m━━━━━━━━━━━━━━━━━━━━\u001B[0m\u001B[37m\u001B[0m \u001B[1m1s\u001B[0m 2ms/step - loss: 0.0893 - mae: 0.0894 - val_loss: 0.2033 - val_mae: 0.2037\n",
      "Epoch 36/50\n",
      "\u001B[1m222/222\u001B[0m \u001B[32m━━━━━━━━━━━━━━━━━━━━\u001B[0m\u001B[37m\u001B[0m \u001B[1m1s\u001B[0m 2ms/step - loss: 0.0869 - mae: 0.0870 - val_loss: 0.1422 - val_mae: 0.1428\n",
      "Epoch 37/50\n",
      "\u001B[1m222/222\u001B[0m \u001B[32m━━━━━━━━━━━━━━━━━━━━\u001B[0m\u001B[37m\u001B[0m \u001B[1m1s\u001B[0m 2ms/step - loss: 0.0940 - mae: 0.0941 - val_loss: 0.1675 - val_mae: 0.1676\n",
      "Epoch 38/50\n",
      "\u001B[1m222/222\u001B[0m \u001B[32m━━━━━━━━━━━━━━━━━━━━\u001B[0m\u001B[37m\u001B[0m \u001B[1m1s\u001B[0m 3ms/step - loss: 0.0813 - mae: 0.0814 - val_loss: 0.1259 - val_mae: 0.1261\n",
      "Epoch 39/50\n",
      "\u001B[1m222/222\u001B[0m \u001B[32m━━━━━━━━━━━━━━━━━━━━\u001B[0m\u001B[37m\u001B[0m \u001B[1m1s\u001B[0m 3ms/step - loss: 0.1117 - mae: 0.1121 - val_loss: 0.1092 - val_mae: 0.1094\n",
      "Epoch 40/50\n",
      "\u001B[1m222/222\u001B[0m \u001B[32m━━━━━━━━━━━━━━━━━━━━\u001B[0m\u001B[37m\u001B[0m \u001B[1m1s\u001B[0m 3ms/step - loss: 0.1020 - mae: 0.1022 - val_loss: 0.1034 - val_mae: 0.1036\n",
      "Epoch 41/50\n",
      "\u001B[1m222/222\u001B[0m \u001B[32m━━━━━━━━━━━━━━━━━━━━\u001B[0m\u001B[37m\u001B[0m \u001B[1m2s\u001B[0m 4ms/step - loss: 0.0808 - mae: 0.0810 - val_loss: 0.1450 - val_mae: 0.1454\n",
      "Epoch 42/50\n",
      "\u001B[1m222/222\u001B[0m \u001B[32m━━━━━━━━━━━━━━━━━━━━\u001B[0m\u001B[37m\u001B[0m \u001B[1m1s\u001B[0m 3ms/step - loss: 0.0832 - mae: 0.0833 - val_loss: 0.0999 - val_mae: 0.1002\n",
      "Epoch 43/50\n",
      "\u001B[1m222/222\u001B[0m \u001B[32m━━━━━━━━━━━━━━━━━━━━\u001B[0m\u001B[37m\u001B[0m \u001B[1m1s\u001B[0m 2ms/step - loss: 0.0726 - mae: 0.0728 - val_loss: 0.1350 - val_mae: 0.1352\n",
      "Epoch 44/50\n",
      "\u001B[1m222/222\u001B[0m \u001B[32m━━━━━━━━━━━━━━━━━━━━\u001B[0m\u001B[37m\u001B[0m \u001B[1m1s\u001B[0m 2ms/step - loss: 0.0741 - mae: 0.0743 - val_loss: 0.1383 - val_mae: 0.1385\n",
      "Epoch 45/50\n",
      "\u001B[1m222/222\u001B[0m \u001B[32m━━━━━━━━━━━━━━━━━━━━\u001B[0m\u001B[37m\u001B[0m \u001B[1m1s\u001B[0m 3ms/step - loss: 0.0692 - mae: 0.0697 - val_loss: 0.0523 - val_mae: 0.0524\n",
      "Epoch 46/50\n",
      "\u001B[1m222/222\u001B[0m \u001B[32m━━━━━━━━━━━━━━━━━━━━\u001B[0m\u001B[37m\u001B[0m \u001B[1m1s\u001B[0m 3ms/step - loss: 0.0879 - mae: 0.0881 - val_loss: 0.1204 - val_mae: 0.1207\n",
      "Epoch 47/50\n",
      "\u001B[1m222/222\u001B[0m \u001B[32m━━━━━━━━━━━━━━━━━━━━\u001B[0m\u001B[37m\u001B[0m \u001B[1m1s\u001B[0m 3ms/step - loss: 0.0773 - mae: 0.0775 - val_loss: 0.2554 - val_mae: 0.2559\n",
      "Epoch 48/50\n",
      "\u001B[1m222/222\u001B[0m \u001B[32m━━━━━━━━━━━━━━━━━━━━\u001B[0m\u001B[37m\u001B[0m \u001B[1m1s\u001B[0m 3ms/step - loss: 0.1004 - mae: 0.1006 - val_loss: 0.0916 - val_mae: 0.0917\n",
      "Epoch 49/50\n",
      "\u001B[1m222/222\u001B[0m \u001B[32m━━━━━━━━━━━━━━━━━━━━\u001B[0m\u001B[37m\u001B[0m \u001B[1m1s\u001B[0m 3ms/step - loss: 0.1013 - mae: 0.1015 - val_loss: 0.1632 - val_mae: 0.1633\n",
      "Epoch 50/50\n",
      "\u001B[1m222/222\u001B[0m \u001B[32m━━━━━━━━━━━━━━━━━━━━\u001B[0m\u001B[37m\u001B[0m \u001B[1m1s\u001B[0m 3ms/step - loss: 0.0942 - mae: 0.0943 - val_loss: 0.1208 - val_mae: 0.1210\n"
     ]
    },
    {
     "name": "stderr",
     "output_type": "stream",
     "text": [
      "[I 2025-02-05 18:08:38,203] Trial 9 finished with value: 0.12083804607391357 and parameters: {'units': 32, 'learning_rate': 0.1}. Best is trial 8 with value: 0.020638274028897285.\n"
     ]
    },
    {
     "name": "stdout",
     "output_type": "stream",
     "text": [
      "Best hyperparameters: {'units': 448, 'learning_rate': 0.001}\n"
     ]
    }
   ],
   "execution_count": 473
  },
  {
   "metadata": {
    "ExecuteTime": {
     "end_time": "2025-02-05T17:09:14.482660Z",
     "start_time": "2025-02-05T17:08:38.411479Z"
    }
   },
   "cell_type": "code",
   "source": [
    "best_params = study.best_params  # Obtener los mejores hiperparámetros encontrados\n",
    "\n",
    "# Crear y entrenar el mejor modelo\n",
    "best_model = Sequential([\n",
    "    Input(shape=(X_resampled.shape[1],)), # Definir forma de la entrada\n",
    "    Dense(units=best_params['units'], activation='relu'),\n",
    "    Dense(1, activation='sigmoid')  # Asegúrate de que la activación final sea adecuada\n",
    "])\n",
    "\n",
    "best_model.compile(\n",
    "    optimizer=tf.keras.optimizers.Adam(learning_rate=best_params['learning_rate']),\n",
    "    loss='mean_squared_error',\n",
    "    metrics=['mae']\n",
    ")\n",
    "\n",
    "best_model.fit(X_resampled, y_resampled, epochs=50, validation_split=0.2, verbose=1)"
   ],
   "id": "f3686d25814053ac",
   "outputs": [
    {
     "name": "stdout",
     "output_type": "stream",
     "text": [
      "Epoch 1/50\n",
      "\u001B[1m222/222\u001B[0m \u001B[32m━━━━━━━━━━━━━━━━━━━━\u001B[0m\u001B[37m\u001B[0m \u001B[1m3s\u001B[0m 3ms/step - loss: 0.1375 - mae: 0.3287 - val_loss: 0.0865 - val_mae: 0.1944\n",
      "Epoch 2/50\n",
      "\u001B[1m222/222\u001B[0m \u001B[32m━━━━━━━━━━━━━━━━━━━━\u001B[0m\u001B[37m\u001B[0m \u001B[1m0s\u001B[0m 2ms/step - loss: 0.0403 - mae: 0.1311 - val_loss: 0.0562 - val_mae: 0.1207\n",
      "Epoch 3/50\n",
      "\u001B[1m222/222\u001B[0m \u001B[32m━━━━━━━━━━━━━━━━━━━━\u001B[0m\u001B[37m\u001B[0m \u001B[1m0s\u001B[0m 2ms/step - loss: 0.0319 - mae: 0.0987 - val_loss: 0.0489 - val_mae: 0.1026\n",
      "Epoch 4/50\n",
      "\u001B[1m222/222\u001B[0m \u001B[32m━━━━━━━━━━━━━━━━━━━━\u001B[0m\u001B[37m\u001B[0m \u001B[1m0s\u001B[0m 2ms/step - loss: 0.0293 - mae: 0.0841 - val_loss: 0.0522 - val_mae: 0.0995\n",
      "Epoch 5/50\n",
      "\u001B[1m222/222\u001B[0m \u001B[32m━━━━━━━━━━━━━━━━━━━━\u001B[0m\u001B[37m\u001B[0m \u001B[1m1s\u001B[0m 2ms/step - loss: 0.0290 - mae: 0.0769 - val_loss: 0.0656 - val_mae: 0.1169\n",
      "Epoch 6/50\n",
      "\u001B[1m222/222\u001B[0m \u001B[32m━━━━━━━━━━━━━━━━━━━━\u001B[0m\u001B[37m\u001B[0m \u001B[1m1s\u001B[0m 3ms/step - loss: 0.0262 - mae: 0.0678 - val_loss: 0.0426 - val_mae: 0.0846\n",
      "Epoch 7/50\n",
      "\u001B[1m222/222\u001B[0m \u001B[32m━━━━━━━━━━━━━━━━━━━━\u001B[0m\u001B[37m\u001B[0m \u001B[1m1s\u001B[0m 3ms/step - loss: 0.0265 - mae: 0.0683 - val_loss: 0.0498 - val_mae: 0.0923\n",
      "Epoch 8/50\n",
      "\u001B[1m222/222\u001B[0m \u001B[32m━━━━━━━━━━━━━━━━━━━━\u001B[0m\u001B[37m\u001B[0m \u001B[1m1s\u001B[0m 3ms/step - loss: 0.0263 - mae: 0.0638 - val_loss: 0.0429 - val_mae: 0.0793\n",
      "Epoch 9/50\n",
      "\u001B[1m222/222\u001B[0m \u001B[32m━━━━━━━━━━━━━━━━━━━━\u001B[0m\u001B[37m\u001B[0m \u001B[1m1s\u001B[0m 3ms/step - loss: 0.0254 - mae: 0.0613 - val_loss: 0.0350 - val_mae: 0.0663\n",
      "Epoch 10/50\n",
      "\u001B[1m222/222\u001B[0m \u001B[32m━━━━━━━━━━━━━━━━━━━━\u001B[0m\u001B[37m\u001B[0m \u001B[1m1s\u001B[0m 3ms/step - loss: 0.0224 - mae: 0.0551 - val_loss: 0.0481 - val_mae: 0.0858\n",
      "Epoch 11/50\n",
      "\u001B[1m222/222\u001B[0m \u001B[32m━━━━━━━━━━━━━━━━━━━━\u001B[0m\u001B[37m\u001B[0m \u001B[1m1s\u001B[0m 3ms/step - loss: 0.0249 - mae: 0.0563 - val_loss: 0.0475 - val_mae: 0.0856\n",
      "Epoch 12/50\n",
      "\u001B[1m222/222\u001B[0m \u001B[32m━━━━━━━━━━━━━━━━━━━━\u001B[0m\u001B[37m\u001B[0m \u001B[1m1s\u001B[0m 3ms/step - loss: 0.0221 - mae: 0.0521 - val_loss: 0.0431 - val_mae: 0.0780\n",
      "Epoch 13/50\n",
      "\u001B[1m222/222\u001B[0m \u001B[32m━━━━━━━━━━━━━━━━━━━━\u001B[0m\u001B[37m\u001B[0m \u001B[1m1s\u001B[0m 3ms/step - loss: 0.0215 - mae: 0.0507 - val_loss: 0.0360 - val_mae: 0.0683\n",
      "Epoch 14/50\n",
      "\u001B[1m222/222\u001B[0m \u001B[32m━━━━━━━━━━━━━━━━━━━━\u001B[0m\u001B[37m\u001B[0m \u001B[1m1s\u001B[0m 3ms/step - loss: 0.0217 - mae: 0.0504 - val_loss: 0.0429 - val_mae: 0.0770\n",
      "Epoch 15/50\n",
      "\u001B[1m222/222\u001B[0m \u001B[32m━━━━━━━━━━━━━━━━━━━━\u001B[0m\u001B[37m\u001B[0m \u001B[1m1s\u001B[0m 3ms/step - loss: 0.0224 - mae: 0.0491 - val_loss: 0.0387 - val_mae: 0.0688\n",
      "Epoch 16/50\n",
      "\u001B[1m222/222\u001B[0m \u001B[32m━━━━━━━━━━━━━━━━━━━━\u001B[0m\u001B[37m\u001B[0m \u001B[1m1s\u001B[0m 5ms/step - loss: 0.0223 - mae: 0.0504 - val_loss: 0.0344 - val_mae: 0.0640\n",
      "Epoch 17/50\n",
      "\u001B[1m222/222\u001B[0m \u001B[32m━━━━━━━━━━━━━━━━━━━━\u001B[0m\u001B[37m\u001B[0m \u001B[1m1s\u001B[0m 3ms/step - loss: 0.0216 - mae: 0.0481 - val_loss: 0.0310 - val_mae: 0.0581\n",
      "Epoch 18/50\n",
      "\u001B[1m222/222\u001B[0m \u001B[32m━━━━━━━━━━━━━━━━━━━━\u001B[0m\u001B[37m\u001B[0m \u001B[1m1s\u001B[0m 3ms/step - loss: 0.0208 - mae: 0.0468 - val_loss: 0.0319 - val_mae: 0.0601\n",
      "Epoch 19/50\n",
      "\u001B[1m222/222\u001B[0m \u001B[32m━━━━━━━━━━━━━━━━━━━━\u001B[0m\u001B[37m\u001B[0m \u001B[1m1s\u001B[0m 3ms/step - loss: 0.0184 - mae: 0.0419 - val_loss: 0.0387 - val_mae: 0.0687\n",
      "Epoch 20/50\n",
      "\u001B[1m222/222\u001B[0m \u001B[32m━━━━━━━━━━━━━━━━━━━━\u001B[0m\u001B[37m\u001B[0m \u001B[1m1s\u001B[0m 3ms/step - loss: 0.0212 - mae: 0.0449 - val_loss: 0.0321 - val_mae: 0.0601\n",
      "Epoch 21/50\n",
      "\u001B[1m222/222\u001B[0m \u001B[32m━━━━━━━━━━━━━━━━━━━━\u001B[0m\u001B[37m\u001B[0m \u001B[1m1s\u001B[0m 3ms/step - loss: 0.0190 - mae: 0.0423 - val_loss: 0.0285 - val_mae: 0.0524\n",
      "Epoch 22/50\n",
      "\u001B[1m222/222\u001B[0m \u001B[32m━━━━━━━━━━━━━━━━━━━━\u001B[0m\u001B[37m\u001B[0m \u001B[1m1s\u001B[0m 3ms/step - loss: 0.0188 - mae: 0.0432 - val_loss: 0.0351 - val_mae: 0.0628\n",
      "Epoch 23/50\n",
      "\u001B[1m222/222\u001B[0m \u001B[32m━━━━━━━━━━━━━━━━━━━━\u001B[0m\u001B[37m\u001B[0m \u001B[1m1s\u001B[0m 3ms/step - loss: 0.0189 - mae: 0.0422 - val_loss: 0.0370 - val_mae: 0.0674\n",
      "Epoch 24/50\n",
      "\u001B[1m222/222\u001B[0m \u001B[32m━━━━━━━━━━━━━━━━━━━━\u001B[0m\u001B[37m\u001B[0m \u001B[1m1s\u001B[0m 3ms/step - loss: 0.0191 - mae: 0.0422 - val_loss: 0.0283 - val_mae: 0.0505\n",
      "Epoch 25/50\n",
      "\u001B[1m222/222\u001B[0m \u001B[32m━━━━━━━━━━━━━━━━━━━━\u001B[0m\u001B[37m\u001B[0m \u001B[1m1s\u001B[0m 3ms/step - loss: 0.0180 - mae: 0.0399 - val_loss: 0.0276 - val_mae: 0.0510\n",
      "Epoch 26/50\n",
      "\u001B[1m222/222\u001B[0m \u001B[32m━━━━━━━━━━━━━━━━━━━━\u001B[0m\u001B[37m\u001B[0m \u001B[1m1s\u001B[0m 3ms/step - loss: 0.0188 - mae: 0.0410 - val_loss: 0.0332 - val_mae: 0.0597\n",
      "Epoch 27/50\n",
      "\u001B[1m222/222\u001B[0m \u001B[32m━━━━━━━━━━━━━━━━━━━━\u001B[0m\u001B[37m\u001B[0m \u001B[1m1s\u001B[0m 3ms/step - loss: 0.0181 - mae: 0.0396 - val_loss: 0.0271 - val_mae: 0.0516\n",
      "Epoch 28/50\n",
      "\u001B[1m222/222\u001B[0m \u001B[32m━━━━━━━━━━━━━━━━━━━━\u001B[0m\u001B[37m\u001B[0m \u001B[1m1s\u001B[0m 3ms/step - loss: 0.0193 - mae: 0.0414 - val_loss: 0.0275 - val_mae: 0.0498\n",
      "Epoch 29/50\n",
      "\u001B[1m222/222\u001B[0m \u001B[32m━━━━━━━━━━━━━━━━━━━━\u001B[0m\u001B[37m\u001B[0m \u001B[1m1s\u001B[0m 3ms/step - loss: 0.0181 - mae: 0.0397 - val_loss: 0.0272 - val_mae: 0.0518\n",
      "Epoch 30/50\n",
      "\u001B[1m222/222\u001B[0m \u001B[32m━━━━━━━━━━━━━━━━━━━━\u001B[0m\u001B[37m\u001B[0m \u001B[1m1s\u001B[0m 5ms/step - loss: 0.0182 - mae: 0.0396 - val_loss: 0.0224 - val_mae: 0.0401\n",
      "Epoch 31/50\n",
      "\u001B[1m222/222\u001B[0m \u001B[32m━━━━━━━━━━━━━━━━━━━━\u001B[0m\u001B[37m\u001B[0m \u001B[1m1s\u001B[0m 3ms/step - loss: 0.0173 - mae: 0.0375 - val_loss: 0.0351 - val_mae: 0.0643\n",
      "Epoch 32/50\n",
      "\u001B[1m222/222\u001B[0m \u001B[32m━━━━━━━━━━━━━━━━━━━━\u001B[0m\u001B[37m\u001B[0m \u001B[1m1s\u001B[0m 3ms/step - loss: 0.0162 - mae: 0.0366 - val_loss: 0.0281 - val_mae: 0.0514\n",
      "Epoch 33/50\n",
      "\u001B[1m222/222\u001B[0m \u001B[32m━━━━━━━━━━━━━━━━━━━━\u001B[0m\u001B[37m\u001B[0m \u001B[1m1s\u001B[0m 3ms/step - loss: 0.0158 - mae: 0.0354 - val_loss: 0.0388 - val_mae: 0.0675\n",
      "Epoch 34/50\n",
      "\u001B[1m222/222\u001B[0m \u001B[32m━━━━━━━━━━━━━━━━━━━━\u001B[0m\u001B[37m\u001B[0m \u001B[1m1s\u001B[0m 3ms/step - loss: 0.0174 - mae: 0.0367 - val_loss: 0.0314 - val_mae: 0.0577\n",
      "Epoch 35/50\n",
      "\u001B[1m222/222\u001B[0m \u001B[32m━━━━━━━━━━━━━━━━━━━━\u001B[0m\u001B[37m\u001B[0m \u001B[1m1s\u001B[0m 3ms/step - loss: 0.0164 - mae: 0.0349 - val_loss: 0.0345 - val_mae: 0.0608\n",
      "Epoch 36/50\n",
      "\u001B[1m222/222\u001B[0m \u001B[32m━━━━━━━━━━━━━━━━━━━━\u001B[0m\u001B[37m\u001B[0m \u001B[1m1s\u001B[0m 3ms/step - loss: 0.0159 - mae: 0.0350 - val_loss: 0.0341 - val_mae: 0.0613\n",
      "Epoch 37/50\n",
      "\u001B[1m222/222\u001B[0m \u001B[32m━━━━━━━━━━━━━━━━━━━━\u001B[0m\u001B[37m\u001B[0m \u001B[1m1s\u001B[0m 3ms/step - loss: 0.0176 - mae: 0.0363 - val_loss: 0.0245 - val_mae: 0.0442\n",
      "Epoch 38/50\n",
      "\u001B[1m222/222\u001B[0m \u001B[32m━━━━━━━━━━━━━━━━━━━━\u001B[0m\u001B[37m\u001B[0m \u001B[1m1s\u001B[0m 3ms/step - loss: 0.0160 - mae: 0.0343 - val_loss: 0.0258 - val_mae: 0.0473\n",
      "Epoch 39/50\n",
      "\u001B[1m222/222\u001B[0m \u001B[32m━━━━━━━━━━━━━━━━━━━━\u001B[0m\u001B[37m\u001B[0m \u001B[1m1s\u001B[0m 3ms/step - loss: 0.0175 - mae: 0.0347 - val_loss: 0.0256 - val_mae: 0.0476\n",
      "Epoch 40/50\n",
      "\u001B[1m222/222\u001B[0m \u001B[32m━━━━━━━━━━━━━━━━━━━━\u001B[0m\u001B[37m\u001B[0m \u001B[1m1s\u001B[0m 3ms/step - loss: 0.0149 - mae: 0.0318 - val_loss: 0.0315 - val_mae: 0.0559\n",
      "Epoch 41/50\n",
      "\u001B[1m222/222\u001B[0m \u001B[32m━━━━━━━━━━━━━━━━━━━━\u001B[0m\u001B[37m\u001B[0m \u001B[1m1s\u001B[0m 3ms/step - loss: 0.0158 - mae: 0.0336 - val_loss: 0.0220 - val_mae: 0.0402\n",
      "Epoch 42/50\n",
      "\u001B[1m222/222\u001B[0m \u001B[32m━━━━━━━━━━━━━━━━━━━━\u001B[0m\u001B[37m\u001B[0m \u001B[1m1s\u001B[0m 3ms/step - loss: 0.0161 - mae: 0.0353 - val_loss: 0.0252 - val_mae: 0.0440\n",
      "Epoch 43/50\n",
      "\u001B[1m222/222\u001B[0m \u001B[32m━━━━━━━━━━━━━━━━━━━━\u001B[0m\u001B[37m\u001B[0m \u001B[1m1s\u001B[0m 3ms/step - loss: 0.0146 - mae: 0.0310 - val_loss: 0.0248 - val_mae: 0.0454\n",
      "Epoch 44/50\n",
      "\u001B[1m222/222\u001B[0m \u001B[32m━━━━━━━━━━━━━━━━━━━━\u001B[0m\u001B[37m\u001B[0m \u001B[1m1s\u001B[0m 3ms/step - loss: 0.0145 - mae: 0.0310 - val_loss: 0.0213 - val_mae: 0.0385\n",
      "Epoch 45/50\n",
      "\u001B[1m222/222\u001B[0m \u001B[32m━━━━━━━━━━━━━━━━━━━━\u001B[0m\u001B[37m\u001B[0m \u001B[1m1s\u001B[0m 3ms/step - loss: 0.0176 - mae: 0.0352 - val_loss: 0.0264 - val_mae: 0.0467\n",
      "Epoch 46/50\n",
      "\u001B[1m222/222\u001B[0m \u001B[32m━━━━━━━━━━━━━━━━━━━━\u001B[0m\u001B[37m\u001B[0m \u001B[1m1s\u001B[0m 3ms/step - loss: 0.0169 - mae: 0.0344 - val_loss: 0.0194 - val_mae: 0.0352\n",
      "Epoch 47/50\n",
      "\u001B[1m222/222\u001B[0m \u001B[32m━━━━━━━━━━━━━━━━━━━━\u001B[0m\u001B[37m\u001B[0m \u001B[1m1s\u001B[0m 3ms/step - loss: 0.0158 - mae: 0.0330 - val_loss: 0.0315 - val_mae: 0.0549\n",
      "Epoch 48/50\n",
      "\u001B[1m222/222\u001B[0m \u001B[32m━━━━━━━━━━━━━━━━━━━━\u001B[0m\u001B[37m\u001B[0m \u001B[1m1s\u001B[0m 3ms/step - loss: 0.0151 - mae: 0.0309 - val_loss: 0.0207 - val_mae: 0.0374\n",
      "Epoch 49/50\n",
      "\u001B[1m222/222\u001B[0m \u001B[32m━━━━━━━━━━━━━━━━━━━━\u001B[0m\u001B[37m\u001B[0m \u001B[1m1s\u001B[0m 3ms/step - loss: 0.0135 - mae: 0.0294 - val_loss: 0.0294 - val_mae: 0.0534\n",
      "Epoch 50/50\n",
      "\u001B[1m222/222\u001B[0m \u001B[32m━━━━━━━━━━━━━━━━━━━━\u001B[0m\u001B[37m\u001B[0m \u001B[1m1s\u001B[0m 4ms/step - loss: 0.0141 - mae: 0.0316 - val_loss: 0.0224 - val_mae: 0.0409\n"
     ]
    },
    {
     "data": {
      "text/plain": [
       "<keras.src.callbacks.history.History at 0x20fa08a2b70>"
      ]
     },
     "execution_count": 474,
     "metadata": {},
     "output_type": "execute_result"
    }
   ],
   "execution_count": 474
  },
  {
   "metadata": {
    "ExecuteTime": {
     "end_time": "2025-02-05T17:09:15.560797Z",
     "start_time": "2025-02-05T17:09:14.574948Z"
    }
   },
   "cell_type": "code",
   "source": "train_validation(best_model, X_resampled, y_resampled)",
   "id": "8544c3fc746db972",
   "outputs": [
    {
     "name": "stdout",
     "output_type": "stream",
     "text": [
      "\u001B[1m277/277\u001B[0m \u001B[32m━━━━━━━━━━━━━━━━━━━━\u001B[0m\u001B[37m\u001B[0m \u001B[1m1s\u001B[0m 2ms/step\n",
      "\n",
      "Reporte de Clasificación:\n",
      "                  precision    recall  f1-score   support\n",
      "\n",
      "No Mantenimiento       0.98      0.99      0.98      4429\n",
      "   Mantenimiento       0.99      0.98      0.98      4429\n",
      "\n",
      "        accuracy                           0.98      8858\n",
      "       macro avg       0.98      0.98      0.98      8858\n",
      "    weighted avg       0.98      0.98      0.98      8858\n",
      "\n"
     ]
    },
    {
     "data": {
      "text/plain": [
       "<Figure size 600x400 with 2 Axes>"
      ],
      "image/png": "[encoded data removed]"
     },
     "metadata": {},
     "output_type": "display_data"
    }
   ],
   "execution_count": 475
  }
 ],
 "metadata": {
  "kernelspec": {
   "display_name": "Python 3",
   "language": "python",
   "name": "python3"
  },
  "language_info": {
   "codemirror_mode": {
    "name": "ipython",
    "version": 2
   },
   "file_extension": ".py",
   "mimetype": "text/x-python",
   "name": "python",
   "nbconvert_exporter": "python",
   "pygments_lexer": "ipython2",
   "version": "2.7.6"
  }
 },
 "nbformat": 4,
 "nbformat_minor": 5
}

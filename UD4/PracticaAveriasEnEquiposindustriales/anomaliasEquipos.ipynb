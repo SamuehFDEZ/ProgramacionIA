{
 "cells": [
  {
   "metadata": {},
   "cell_type": "markdown",
   "source": "# Monitorización de equipos industriales para detección de fallos\n",
   "id": "2463d984c13b4067"
  },
  {
   "metadata": {},
   "cell_type": "markdown",
   "source": "### 1. Importación de librerias",
   "id": "d4c4e956ebe54426"
  },
  {
   "cell_type": "code",
   "id": "initial_id",
   "metadata": {
    "collapsed": true,
    "ExecuteTime": {
     "end_time": "2025-02-02T11:30:08.823675Z",
     "start_time": "2025-02-02T11:30:08.815966Z"
    }
   },
   "source": [
    "import pandas as pd\n",
    "import numpy as np\n",
    "import seaborn as sns\n",
    "import matplotlib.pyplot as plt\n",
    "from sklearn.preprocessing import OneHotEncoder, StandardScaler\n",
    "from sklearn.model_selection import train_test_split\n",
    "from sklearn.metrics import confusion_matrix, classification_report\n",
    "from sklearn.utils import resample\n",
    "import tensorflow as tf\n",
    "from tensorflow.keras.models import Sequential\n",
    "from tensorflow.keras.layers import Dense, Input, Dropout\n",
    "from keras.callbacks import EarlyStopping\n",
    "from keras_tuner import RandomSearch\n",
    "from imblearn.over_sampling import SMOTE"
   ],
   "outputs": [],
   "execution_count": 107
  },
  {
   "metadata": {},
   "cell_type": "markdown",
   "source": "### 2. Carga del csv",
   "id": "90eaf66e3898633d"
  },
  {
   "metadata": {
    "ExecuteTime": {
     "end_time": "2025-02-02T11:30:08.881274Z",
     "start_time": "2025-02-02T11:30:08.843365Z"
    }
   },
   "cell_type": "code",
   "source": [
    "df = pd.read_csv(\"equipment_anomaly_data.csv\")\n",
    "df.head()"
   ],
   "id": "4ca2216b5e931f06",
   "outputs": [
    {
     "data": {
      "text/plain": [
       "   temperature   pressure  vibration   humidity   equipment       location  \\\n",
       "0    58.180180  25.029278   0.606516  45.694907     Turbine        Atlanta   \n",
       "1    75.740712  22.954018   2.338095  41.867407  Compressor        Chicago   \n",
       "2    71.358594  27.276830   1.389198  58.954409     Turbine  San Francisco   \n",
       "3    71.616985  32.242921   1.770690  40.565138        Pump        Atlanta   \n",
       "4    66.506832  45.197471   0.345398  43.253795        Pump       New York   \n",
       "\n",
       "   faulty  \n",
       "0     0.0  \n",
       "1     0.0  \n",
       "2     0.0  \n",
       "3     0.0  \n",
       "4     0.0  "
      ],
      "text/html": [
       "<div>\n",
       "<style scoped>\n",
       "    .dataframe tbody tr th:only-of-type {\n",
       "        vertical-align: middle;\n",
       "    }\n",
       "\n",
       "    .dataframe tbody tr th {\n",
       "        vertical-align: top;\n",
       "    }\n",
       "\n",
       "    .dataframe thead th {\n",
       "        text-align: right;\n",
       "    }\n",
       "</style>\n",
       "<table border=\"1\" class=\"dataframe\">\n",
       "  <thead>\n",
       "    <tr style=\"text-align: right;\">\n",
       "      <th></th>\n",
       "      <th>temperature</th>\n",
       "      <th>pressure</th>\n",
       "      <th>vibration</th>\n",
       "      <th>humidity</th>\n",
       "      <th>equipment</th>\n",
       "      <th>location</th>\n",
       "      <th>faulty</th>\n",
       "    </tr>\n",
       "  </thead>\n",
       "  <tbody>\n",
       "    <tr>\n",
       "      <th>0</th>\n",
       "      <td>58.180180</td>\n",
       "      <td>25.029278</td>\n",
       "      <td>0.606516</td>\n",
       "      <td>45.694907</td>\n",
       "      <td>Turbine</td>\n",
       "      <td>Atlanta</td>\n",
       "      <td>0.0</td>\n",
       "    </tr>\n",
       "    <tr>\n",
       "      <th>1</th>\n",
       "      <td>75.740712</td>\n",
       "      <td>22.954018</td>\n",
       "      <td>2.338095</td>\n",
       "      <td>41.867407</td>\n",
       "      <td>Compressor</td>\n",
       "      <td>Chicago</td>\n",
       "      <td>0.0</td>\n",
       "    </tr>\n",
       "    <tr>\n",
       "      <th>2</th>\n",
       "      <td>71.358594</td>\n",
       "      <td>27.276830</td>\n",
       "      <td>1.389198</td>\n",
       "      <td>58.954409</td>\n",
       "      <td>Turbine</td>\n",
       "      <td>San Francisco</td>\n",
       "      <td>0.0</td>\n",
       "    </tr>\n",
       "    <tr>\n",
       "      <th>3</th>\n",
       "      <td>71.616985</td>\n",
       "      <td>32.242921</td>\n",
       "      <td>1.770690</td>\n",
       "      <td>40.565138</td>\n",
       "      <td>Pump</td>\n",
       "      <td>Atlanta</td>\n",
       "      <td>0.0</td>\n",
       "    </tr>\n",
       "    <tr>\n",
       "      <th>4</th>\n",
       "      <td>66.506832</td>\n",
       "      <td>45.197471</td>\n",
       "      <td>0.345398</td>\n",
       "      <td>43.253795</td>\n",
       "      <td>Pump</td>\n",
       "      <td>New York</td>\n",
       "      <td>0.0</td>\n",
       "    </tr>\n",
       "  </tbody>\n",
       "</table>\n",
       "</div>"
      ]
     },
     "execution_count": 108,
     "metadata": {},
     "output_type": "execute_result"
    }
   ],
   "execution_count": 108
  },
  {
   "metadata": {},
   "cell_type": "markdown",
   "source": "### 3. Detección de anomalías",
   "id": "4d5a3043cdc1ad81"
  },
  {
   "metadata": {
    "ExecuteTime": {
     "end_time": "2025-02-02T11:30:09.057160Z",
     "start_time": "2025-02-02T11:30:09.035687Z"
    }
   },
   "cell_type": "code",
   "source": "df.info()",
   "id": "a492f39584e8e70c",
   "outputs": [
    {
     "name": "stdout",
     "output_type": "stream",
     "text": [
      "<class 'pandas.core.frame.DataFrame'>\n",
      "RangeIndex: 7672 entries, 0 to 7671\n",
      "Data columns (total 7 columns):\n",
      " #   Column       Non-Null Count  Dtype  \n",
      "---  ------       --------------  -----  \n",
      " 0   temperature  7672 non-null   float64\n",
      " 1   pressure     7672 non-null   float64\n",
      " 2   vibration    7672 non-null   float64\n",
      " 3   humidity     7672 non-null   float64\n",
      " 4   equipment    7672 non-null   object \n",
      " 5   location     7672 non-null   object \n",
      " 6   faulty       7672 non-null   float64\n",
      "dtypes: float64(5), object(2)\n",
      "memory usage: 419.7+ KB\n"
     ]
    }
   ],
   "execution_count": 109
  },
  {
   "metadata": {
    "ExecuteTime": {
     "end_time": "2025-02-02T11:30:09.262084Z",
     "start_time": "2025-02-02T11:30:09.208557Z"
    }
   },
   "cell_type": "code",
   "source": "df.describe()",
   "id": "f79d26a804071e2c",
   "outputs": [
    {
     "data": {
      "text/plain": [
       "       temperature     pressure    vibration     humidity       faulty\n",
       "count  7672.000000  7672.000000  7672.000000  7672.000000  7672.000000\n",
       "mean     70.922478    35.738048     1.611809    50.016574     0.099974\n",
       "std      16.200059    10.381593     0.728560    11.841479     0.299985\n",
       "min      10.269385     3.620798    -0.428188    10.215077     0.000000\n",
       "25%      62.777057    29.485682     1.170906    42.612817     0.000000\n",
       "50%      70.156900    35.227544     1.533113    50.024744     0.000000\n",
       "75%      77.568387    41.159913     1.924700    57.340513     0.000000\n",
       "max     149.690420    79.887734     4.990537    89.984718     1.000000"
      ],
      "text/html": [
       "<div>\n",
       "<style scoped>\n",
       "    .dataframe tbody tr th:only-of-type {\n",
       "        vertical-align: middle;\n",
       "    }\n",
       "\n",
       "    .dataframe tbody tr th {\n",
       "        vertical-align: top;\n",
       "    }\n",
       "\n",
       "    .dataframe thead th {\n",
       "        text-align: right;\n",
       "    }\n",
       "</style>\n",
       "<table border=\"1\" class=\"dataframe\">\n",
       "  <thead>\n",
       "    <tr style=\"text-align: right;\">\n",
       "      <th></th>\n",
       "      <th>temperature</th>\n",
       "      <th>pressure</th>\n",
       "      <th>vibration</th>\n",
       "      <th>humidity</th>\n",
       "      <th>faulty</th>\n",
       "    </tr>\n",
       "  </thead>\n",
       "  <tbody>\n",
       "    <tr>\n",
       "      <th>count</th>\n",
       "      <td>7672.000000</td>\n",
       "      <td>7672.000000</td>\n",
       "      <td>7672.000000</td>\n",
       "      <td>7672.000000</td>\n",
       "      <td>7672.000000</td>\n",
       "    </tr>\n",
       "    <tr>\n",
       "      <th>mean</th>\n",
       "      <td>70.922478</td>\n",
       "      <td>35.738048</td>\n",
       "      <td>1.611809</td>\n",
       "      <td>50.016574</td>\n",
       "      <td>0.099974</td>\n",
       "    </tr>\n",
       "    <tr>\n",
       "      <th>std</th>\n",
       "      <td>16.200059</td>\n",
       "      <td>10.381593</td>\n",
       "      <td>0.728560</td>\n",
       "      <td>11.841479</td>\n",
       "      <td>0.299985</td>\n",
       "    </tr>\n",
       "    <tr>\n",
       "      <th>min</th>\n",
       "      <td>10.269385</td>\n",
       "      <td>3.620798</td>\n",
       "      <td>-0.428188</td>\n",
       "      <td>10.215077</td>\n",
       "      <td>0.000000</td>\n",
       "    </tr>\n",
       "    <tr>\n",
       "      <th>25%</th>\n",
       "      <td>62.777057</td>\n",
       "      <td>29.485682</td>\n",
       "      <td>1.170906</td>\n",
       "      <td>42.612817</td>\n",
       "      <td>0.000000</td>\n",
       "    </tr>\n",
       "    <tr>\n",
       "      <th>50%</th>\n",
       "      <td>70.156900</td>\n",
       "      <td>35.227544</td>\n",
       "      <td>1.533113</td>\n",
       "      <td>50.024744</td>\n",
       "      <td>0.000000</td>\n",
       "    </tr>\n",
       "    <tr>\n",
       "      <th>75%</th>\n",
       "      <td>77.568387</td>\n",
       "      <td>41.159913</td>\n",
       "      <td>1.924700</td>\n",
       "      <td>57.340513</td>\n",
       "      <td>0.000000</td>\n",
       "    </tr>\n",
       "    <tr>\n",
       "      <th>max</th>\n",
       "      <td>149.690420</td>\n",
       "      <td>79.887734</td>\n",
       "      <td>4.990537</td>\n",
       "      <td>89.984718</td>\n",
       "      <td>1.000000</td>\n",
       "    </tr>\n",
       "  </tbody>\n",
       "</table>\n",
       "</div>"
      ]
     },
     "execution_count": 110,
     "metadata": {},
     "output_type": "execute_result"
    }
   ],
   "execution_count": 110
  },
  {
   "metadata": {
    "ExecuteTime": {
     "end_time": "2025-02-02T11:30:09.498937Z",
     "start_time": "2025-02-02T11:30:09.490152Z"
    }
   },
   "cell_type": "code",
   "source": "df.isnull().sum()",
   "id": "488c2cb06dabb412",
   "outputs": [
    {
     "data": {
      "text/plain": [
       "temperature    0\n",
       "pressure       0\n",
       "vibration      0\n",
       "humidity       0\n",
       "equipment      0\n",
       "location       0\n",
       "faulty         0\n",
       "dtype: int64"
      ]
     },
     "execution_count": 111,
     "metadata": {},
     "output_type": "execute_result"
    }
   ],
   "execution_count": 111
  },
  {
   "metadata": {
    "ExecuteTime": {
     "end_time": "2025-02-02T11:30:09.720375Z",
     "start_time": "2025-02-02T11:30:09.700665Z"
    }
   },
   "cell_type": "code",
   "source": "df.duplicated()",
   "id": "a6cb82df051f19ad",
   "outputs": [
    {
     "data": {
      "text/plain": [
       "0       False\n",
       "1       False\n",
       "2       False\n",
       "3       False\n",
       "4       False\n",
       "        ...  \n",
       "7667    False\n",
       "7668    False\n",
       "7669    False\n",
       "7670    False\n",
       "7671    False\n",
       "Length: 7672, dtype: bool"
      ]
     },
     "execution_count": 112,
     "metadata": {},
     "output_type": "execute_result"
    }
   ],
   "execution_count": 112
  },
  {
   "metadata": {
    "ExecuteTime": {
     "end_time": "2025-02-02T11:30:10.029470Z",
     "start_time": "2025-02-02T11:30:10.018389Z"
    }
   },
   "cell_type": "code",
   "source": "df.columns",
   "id": "18bbd2bccca6bb47",
   "outputs": [
    {
     "data": {
      "text/plain": [
       "Index(['temperature', 'pressure', 'vibration', 'humidity', 'equipment',\n",
       "       'location', 'faulty'],\n",
       "      dtype='object')"
      ]
     },
     "execution_count": 113,
     "metadata": {},
     "output_type": "execute_result"
    }
   ],
   "execution_count": 113
  },
  {
   "metadata": {},
   "cell_type": "markdown",
   "source": "### 4. Visualización de datos",
   "id": "196e76361790acd5"
  },
  {
   "metadata": {
    "ExecuteTime": {
     "end_time": "2025-02-02T11:30:13.029750Z",
     "start_time": "2025-02-02T11:30:10.239352Z"
    }
   },
   "cell_type": "code",
   "source": [
    "categorias = ['temperature', 'pressure', 'vibration', 'humidity', 'equipment','location', 'faulty']\n",
    "fig, axes = plt.subplots(nrows=2, ncols=4, figsize=(20, 15))\n",
    "axes = axes.flatten()\n",
    "for i, var in enumerate(categorias):\n",
    " axes[i].hist(df[var])\n",
    " axes[i].set_title(f'Distribución de {var}')\n",
    " axes[i].set_ylabel('Valores')\n",
    "for j in range(len(categorias), len(axes)):\n",
    " axes[j].axis('off')\n",
    "plt.tight_layout()\n",
    "plt.show()"
   ],
   "id": "e3596ec6a5f8041b",
   "outputs": [
    {
     "data": {
      "text/plain": [
       "<Figure size 2000x1500 with 8 Axes>"
      ],
      "image/png": "[encoded data removed]"
     },
     "metadata": {},
     "output_type": "display_data"
    }
   ],
   "execution_count": 114
  },
  {
   "metadata": {
    "ExecuteTime": {
     "end_time": "2025-02-02T11:30:13.057086Z",
     "start_time": "2025-02-02T11:30:13.047822Z"
    }
   },
   "cell_type": "code",
   "source": "df['equipment'].value_counts()",
   "id": "3cf29aa94434922e",
   "outputs": [
    {
     "data": {
      "text/plain": [
       "equipment\n",
       "Compressor    2573\n",
       "Turbine       2565\n",
       "Pump          2534\n",
       "Name: count, dtype: int64"
      ]
     },
     "execution_count": 115,
     "metadata": {},
     "output_type": "execute_result"
    }
   ],
   "execution_count": 115
  },
  {
   "metadata": {
    "ExecuteTime": {
     "end_time": "2025-02-02T11:30:13.227205Z",
     "start_time": "2025-02-02T11:30:13.210773Z"
    }
   },
   "cell_type": "code",
   "source": "df['location'].value_counts()",
   "id": "ecd2eddfc8804008",
   "outputs": [
    {
     "data": {
      "text/plain": [
       "location\n",
       "Atlanta          1564\n",
       "Chicago          1553\n",
       "Houston          1548\n",
       "New York         1526\n",
       "San Francisco    1481\n",
       "Name: count, dtype: int64"
      ]
     },
     "execution_count": 116,
     "metadata": {},
     "output_type": "execute_result"
    }
   ],
   "execution_count": 116
  },
  {
   "metadata": {
    "ExecuteTime": {
     "end_time": "2025-02-02T11:30:13.426929Z",
     "start_time": "2025-02-02T11:30:13.391292Z"
    }
   },
   "cell_type": "code",
   "source": "df['faulty'].value_counts()",
   "id": "ae622f3567ee56b6",
   "outputs": [
    {
     "data": {
      "text/plain": [
       "faulty\n",
       "0.0    6905\n",
       "1.0     767\n",
       "Name: count, dtype: int64"
      ]
     },
     "execution_count": 117,
     "metadata": {},
     "output_type": "execute_result"
    }
   ],
   "execution_count": 117
  },
  {
   "metadata": {},
   "cell_type": "markdown",
   "source": "De acuerdo con la ingeniería de características realizaremos `OneHotEncoder` para `equipment` y para `location`, en el caso de `faulty` necesitaremos realizar resample porque hay demasiados defectuosos en comparación con los que no",
   "id": "5006378509744e1"
  },
  {
   "metadata": {},
   "cell_type": "markdown",
   "source": "### 5. Ingeniería de características",
   "id": "a9a3c3da2fbd67c3"
  },
  {
   "metadata": {
    "ExecuteTime": {
     "end_time": "2025-02-02T11:30:13.650034Z",
     "start_time": "2025-02-02T11:30:13.622019Z"
    }
   },
   "cell_type": "code",
   "source": [
    "# Instanciar OneHotEncoder\n",
    "encoder = OneHotEncoder(sparse_output=False)  # Crea un array en vez de una matriz\n",
    "\n",
    "# Aplicar el encoder a las columnas categóricas\n",
    "categoricas = ['location', 'equipment']\n",
    "valores = encoder.fit_transform(df[categoricas])\n",
    "\n",
    "# Crear un DataFrame con los valores codificados\n",
    "columnas_codificadas = encoder.get_feature_names_out(categoricas)\n",
    "df_codificado = pd.DataFrame(valores, columns=columnas_codificadas, index=df.index)\n",
    "\n",
    "# Concatenar el DataFrame original con las columnas codificadas\n",
    "df = pd.concat([df.drop(columns=categoricas, axis=1), df_codificado], axis=1)"
   ],
   "id": "29153a9abbfad498",
   "outputs": [],
   "execution_count": 118
  },
  {
   "metadata": {
    "ExecuteTime": {
     "end_time": "2025-02-02T11:30:13.852134Z",
     "start_time": "2025-02-02T11:30:13.828061Z"
    }
   },
   "cell_type": "code",
   "source": "df.head()",
   "id": "5bc7e5d7f1e08a3",
   "outputs": [
    {
     "data": {
      "text/plain": [
       "   temperature   pressure  vibration   humidity  faulty  location_Atlanta  \\\n",
       "0    58.180180  25.029278   0.606516  45.694907     0.0               1.0   \n",
       "1    75.740712  22.954018   2.338095  41.867407     0.0               0.0   \n",
       "2    71.358594  27.276830   1.389198  58.954409     0.0               0.0   \n",
       "3    71.616985  32.242921   1.770690  40.565138     0.0               1.0   \n",
       "4    66.506832  45.197471   0.345398  43.253795     0.0               0.0   \n",
       "\n",
       "   location_Chicago  location_Houston  location_New York  \\\n",
       "0               0.0               0.0                0.0   \n",
       "1               1.0               0.0                0.0   \n",
       "2               0.0               0.0                0.0   \n",
       "3               0.0               0.0                0.0   \n",
       "4               0.0               0.0                1.0   \n",
       "\n",
       "   location_San Francisco  equipment_Compressor  equipment_Pump  \\\n",
       "0                     0.0                   0.0             0.0   \n",
       "1                     0.0                   1.0             0.0   \n",
       "2                     1.0                   0.0             0.0   \n",
       "3                     0.0                   0.0             1.0   \n",
       "4                     0.0                   0.0             1.0   \n",
       "\n",
       "   equipment_Turbine  \n",
       "0                1.0  \n",
       "1                0.0  \n",
       "2                1.0  \n",
       "3                0.0  \n",
       "4                0.0  "
      ],
      "text/html": [
       "<div>\n",
       "<style scoped>\n",
       "    .dataframe tbody tr th:only-of-type {\n",
       "        vertical-align: middle;\n",
       "    }\n",
       "\n",
       "    .dataframe tbody tr th {\n",
       "        vertical-align: top;\n",
       "    }\n",
       "\n",
       "    .dataframe thead th {\n",
       "        text-align: right;\n",
       "    }\n",
       "</style>\n",
       "<table border=\"1\" class=\"dataframe\">\n",
       "  <thead>\n",
       "    <tr style=\"text-align: right;\">\n",
       "      <th></th>\n",
       "      <th>temperature</th>\n",
       "      <th>pressure</th>\n",
       "      <th>vibration</th>\n",
       "      <th>humidity</th>\n",
       "      <th>faulty</th>\n",
       "      <th>location_Atlanta</th>\n",
       "      <th>location_Chicago</th>\n",
       "      <th>location_Houston</th>\n",
       "      <th>location_New York</th>\n",
       "      <th>location_San Francisco</th>\n",
       "      <th>equipment_Compressor</th>\n",
       "      <th>equipment_Pump</th>\n",
       "      <th>equipment_Turbine</th>\n",
       "    </tr>\n",
       "  </thead>\n",
       "  <tbody>\n",
       "    <tr>\n",
       "      <th>0</th>\n",
       "      <td>58.180180</td>\n",
       "      <td>25.029278</td>\n",
       "      <td>0.606516</td>\n",
       "      <td>45.694907</td>\n",
       "      <td>0.0</td>\n",
       "      <td>1.0</td>\n",
       "      <td>0.0</td>\n",
       "      <td>0.0</td>\n",
       "      <td>0.0</td>\n",
       "      <td>0.0</td>\n",
       "      <td>0.0</td>\n",
       "      <td>0.0</td>\n",
       "      <td>1.0</td>\n",
       "    </tr>\n",
       "    <tr>\n",
       "      <th>1</th>\n",
       "      <td>75.740712</td>\n",
       "      <td>22.954018</td>\n",
       "      <td>2.338095</td>\n",
       "      <td>41.867407</td>\n",
       "      <td>0.0</td>\n",
       "      <td>0.0</td>\n",
       "      <td>1.0</td>\n",
       "      <td>0.0</td>\n",
       "      <td>0.0</td>\n",
       "      <td>0.0</td>\n",
       "      <td>1.0</td>\n",
       "      <td>0.0</td>\n",
       "      <td>0.0</td>\n",
       "    </tr>\n",
       "    <tr>\n",
       "      <th>2</th>\n",
       "      <td>71.358594</td>\n",
       "      <td>27.276830</td>\n",
       "      <td>1.389198</td>\n",
       "      <td>58.954409</td>\n",
       "      <td>0.0</td>\n",
       "      <td>0.0</td>\n",
       "      <td>0.0</td>\n",
       "      <td>0.0</td>\n",
       "      <td>0.0</td>\n",
       "      <td>1.0</td>\n",
       "      <td>0.0</td>\n",
       "      <td>0.0</td>\n",
       "      <td>1.0</td>\n",
       "    </tr>\n",
       "    <tr>\n",
       "      <th>3</th>\n",
       "      <td>71.616985</td>\n",
       "      <td>32.242921</td>\n",
       "      <td>1.770690</td>\n",
       "      <td>40.565138</td>\n",
       "      <td>0.0</td>\n",
       "      <td>1.0</td>\n",
       "      <td>0.0</td>\n",
       "      <td>0.0</td>\n",
       "      <td>0.0</td>\n",
       "      <td>0.0</td>\n",
       "      <td>0.0</td>\n",
       "      <td>1.0</td>\n",
       "      <td>0.0</td>\n",
       "    </tr>\n",
       "    <tr>\n",
       "      <th>4</th>\n",
       "      <td>66.506832</td>\n",
       "      <td>45.197471</td>\n",
       "      <td>0.345398</td>\n",
       "      <td>43.253795</td>\n",
       "      <td>0.0</td>\n",
       "      <td>0.0</td>\n",
       "      <td>0.0</td>\n",
       "      <td>0.0</td>\n",
       "      <td>1.0</td>\n",
       "      <td>0.0</td>\n",
       "      <td>0.0</td>\n",
       "      <td>1.0</td>\n",
       "      <td>0.0</td>\n",
       "    </tr>\n",
       "  </tbody>\n",
       "</table>\n",
       "</div>"
      ]
     },
     "execution_count": 119,
     "metadata": {},
     "output_type": "execute_result"
    }
   ],
   "execution_count": 119
  },
  {
   "metadata": {
    "ExecuteTime": {
     "end_time": "2025-02-02T11:30:14.095575Z",
     "start_time": "2025-02-02T11:30:14.085113Z"
    }
   },
   "cell_type": "code",
   "source": "df.shape",
   "id": "e34cf84eb9cc9677",
   "outputs": [
    {
     "data": {
      "text/plain": [
       "(7672, 13)"
      ]
     },
     "execution_count": 120,
     "metadata": {},
     "output_type": "execute_result"
    }
   ],
   "execution_count": 120
  },
  {
   "metadata": {
    "ExecuteTime": {
     "end_time": "2025-02-02T11:30:14.248977Z",
     "start_time": "2025-02-02T11:30:14.226402Z"
    }
   },
   "cell_type": "code",
   "source": [
    "# Nos interesan los cuartiles del 25% y 75%\n",
    "categorias = ['temperature', 'pressure', 'vibration', 'humidity']\n",
    "Q1, Q3 = np.percentile(df['temperature'], [25, 75])\n",
    "IQR = Q3 - Q1\n",
    "outliers = []\n",
    "for elemento in df['temperature']:\n",
    " if elemento < (Q1 - 1.5 * IQR) or elemento > (Q3 + 1.5 * IQR):\n",
    "  outliers.append(elemento)\n",
    "outliers"
   ],
   "id": "901f9490ec97abaf",
   "outputs": [
    {
     "data": {
      "text/plain": [
       "[148.92336873207364,\n",
       " 141.26030984408388,\n",
       " 117.25565678109554,\n",
       " 135.30440061610966,\n",
       " 15.905622342629414,\n",
       " 128.68673398905372,\n",
       " 140.48797277487645,\n",
       " 120.85588955758838,\n",
       " 107.20136172814424,\n",
       " 36.4810056497079,\n",
       " 27.75880600254094,\n",
       " 13.709622907778318,\n",
       " 22.27105033128577,\n",
       " 112.99665489609612,\n",
       " 112.78221826032777,\n",
       " 117.16076125764364,\n",
       " 131.4206923961483,\n",
       " 112.53463791732108,\n",
       " 104.47639731695436,\n",
       " 18.534630261591687,\n",
       " 101.7041972819861,\n",
       " 118.4449549882954,\n",
       " 136.8441449184553,\n",
       " 124.35863656211068,\n",
       " 106.78920406471175,\n",
       " 31.52955881688417,\n",
       " 140.19472568890708,\n",
       " 23.52007189650115,\n",
       " 128.13233589409057,\n",
       " 101.52056734512084,\n",
       " 140.37751130333112,\n",
       " 102.40459182955844,\n",
       " 116.23211880227356,\n",
       " 27.682863992377364,\n",
       " 13.901767992593836,\n",
       " 19.051816782081705,\n",
       " 122.98582559343484,\n",
       " 10.269384763629008,\n",
       " 119.3380767698758,\n",
       " 31.693294968942507,\n",
       " 107.19327107538489,\n",
       " 27.982235905864098,\n",
       " 26.30352974215728,\n",
       " 139.173253137236,\n",
       " 118.92352772663445,\n",
       " 129.64868196136376,\n",
       " 13.135595267101037,\n",
       " 104.20559894906675,\n",
       " 32.32311959073583,\n",
       " 124.44207158141091,\n",
       " 124.44189261839628,\n",
       " 20.988232903206068,\n",
       " 35.40254630802271,\n",
       " 143.5134667006216,\n",
       " 38.728981500623576,\n",
       " 101.49124267705264,\n",
       " 36.70671373503848,\n",
       " 109.4366714760431,\n",
       " 110.98939777479433,\n",
       " 39.80487844179174,\n",
       " 11.220334757721451,\n",
       " 110.83858116959924,\n",
       " 19.060550890293424,\n",
       " 114.95616869773366,\n",
       " 116.8295005889844,\n",
       " 149.6904197890206,\n",
       " 34.9575876613828,\n",
       " 141.97620667593125,\n",
       " 99.83141025296074,\n",
       " 136.96887700245838,\n",
       " 19.19053555752364,\n",
       " 108.0873598494166,\n",
       " 14.612445419759544,\n",
       " 26.5368186385046,\n",
       " 113.55343587764756,\n",
       " 21.18566566526551,\n",
       " 100.7888080845524,\n",
       " 144.7078293837549,\n",
       " 102.93323680247823,\n",
       " 147.41649680307432,\n",
       " 34.054136389605944,\n",
       " 135.76185248994716,\n",
       " 26.763149864921036,\n",
       " 38.11754228095843,\n",
       " 15.62288244292879,\n",
       " 35.442649534136336,\n",
       " 38.538738262865934,\n",
       " 101.9310756784486,\n",
       " 127.63875179877948,\n",
       " 136.02448204318327,\n",
       " 101.51528860386648,\n",
       " 120.3900693974988,\n",
       " 142.62541061391997,\n",
       " 128.67592725153662,\n",
       " 118.05312664777252,\n",
       " 131.2485654329099,\n",
       " 143.90397403661257,\n",
       " 130.2197175830508,\n",
       " 18.545049603792016,\n",
       " 144.1573108958632,\n",
       " 11.153556391477718,\n",
       " 24.57252837575272,\n",
       " 136.20464273689345,\n",
       " 135.83820788742858,\n",
       " 139.11310706740073,\n",
       " 18.10004329778143,\n",
       " 14.81155253678239,\n",
       " 38.34717807453672,\n",
       " 25.756722349364964,\n",
       " 21.89072909505072,\n",
       " 133.14487263601816,\n",
       " 125.78498415825382,\n",
       " 12.18644165035048,\n",
       " 120.00894380024204,\n",
       " 139.67881184623576,\n",
       " 38.25382782264029,\n",
       " 108.23157304480824,\n",
       " 107.01473154045492,\n",
       " 27.55118675010393,\n",
       " 115.46595531491285,\n",
       " 132.1888577287532,\n",
       " 28.84373845809033,\n",
       " 17.066317679507357,\n",
       " 112.23871040851336,\n",
       " 12.757971907321622,\n",
       " 101.84630976796448,\n",
       " 115.82780003664236,\n",
       " 114.7698103543504,\n",
       " 29.05797447945048,\n",
       " 148.70558014680262,\n",
       " 108.05311440464934,\n",
       " 144.6760692267806,\n",
       " 99.85259002603412,\n",
       " 105.96373531870482,\n",
       " 149.4804055105067,\n",
       " 22.200885619176677,\n",
       " 40.16012142141936,\n",
       " 37.01526450952772,\n",
       " 25.00133856622608,\n",
       " 37.10851390943405,\n",
       " 137.29659525353404,\n",
       " 127.56913895202192,\n",
       " 39.33981928301791,\n",
       " 19.31900056948774,\n",
       " 147.44076917004205,\n",
       " 144.1699824283535,\n",
       " 130.13410342141094,\n",
       " 124.91980239236656,\n",
       " 108.52731490654722,\n",
       " 131.20094432609,\n",
       " 146.97859308777373,\n",
       " 13.500463359724366,\n",
       " 117.17467547045078,\n",
       " 12.567874253866314,\n",
       " 140.08869788520482,\n",
       " 114.9435077315152,\n",
       " 146.76398259958847,\n",
       " 106.86658385849476,\n",
       " 108.59601740713444,\n",
       " 100.76860370180503,\n",
       " 130.46203890471708,\n",
       " 139.07509720892557,\n",
       " 124.07900680475372,\n",
       " 120.4247488144978,\n",
       " 129.09602212546642,\n",
       " 35.50182659116895,\n",
       " 120.01649008475268,\n",
       " 117.76084061531768,\n",
       " 142.4423707346934,\n",
       " 18.77659498965515,\n",
       " 15.43084419978386,\n",
       " 142.79769342960088,\n",
       " 101.1291020104384,\n",
       " 126.4839354966824,\n",
       " 39.92367660306243,\n",
       " 23.57273723518196,\n",
       " 118.37839537390866,\n",
       " 20.099728465629426,\n",
       " 135.26007589418444,\n",
       " 18.77439623537657,\n",
       " 21.829263541852495,\n",
       " 126.85477716538924,\n",
       " 127.14056962342784,\n",
       " 20.726321650231025,\n",
       " 101.11550254574873,\n",
       " 104.78083245532927,\n",
       " 137.37092067628748,\n",
       " 132.9296159327821,\n",
       " 17.3816429657518,\n",
       " 18.050829327643804,\n",
       " 18.52961341063255,\n",
       " 108.74164148282895,\n",
       " 21.409034169795987,\n",
       " 142.8434588245271,\n",
       " 127.41236559488098,\n",
       " 138.3348958701313,\n",
       " 118.83414085222056,\n",
       " 31.86434297264493,\n",
       " 131.29507325271925,\n",
       " 117.50708543665904,\n",
       " 28.53963341926589,\n",
       " 113.68642822511003,\n",
       " 101.0991855600536,\n",
       " 129.15897675093902,\n",
       " 29.26029003249994,\n",
       " 107.64374376704134,\n",
       " 25.019946812402388,\n",
       " 33.77480918327481,\n",
       " 123.7507479199522,\n",
       " 117.7119896276313,\n",
       " 119.66286407445108,\n",
       " 133.37716419645614,\n",
       " 23.982665102234737,\n",
       " 110.5442245920164,\n",
       " 12.355780099535114,\n",
       " 115.99852316176523,\n",
       " 10.772044827226315,\n",
       " 130.83638970963943,\n",
       " 101.37748533659992,\n",
       " 149.37008810743578,\n",
       " 19.96061038813473,\n",
       " 16.653950649571208,\n",
       " 38.20705241332246,\n",
       " 143.7298567940173,\n",
       " 134.1524932046231,\n",
       " 139.05064865262986,\n",
       " 36.31026697933956,\n",
       " 113.28172117382243,\n",
       " 109.26237706436326,\n",
       " 26.934042085221584,\n",
       " 140.84030050320737,\n",
       " 140.310178678968,\n",
       " 36.81361683100182,\n",
       " 110.33711285637268,\n",
       " 20.226486471903648,\n",
       " 111.31044319795645,\n",
       " 111.61578130708506,\n",
       " 37.90049018827799,\n",
       " 33.57292383835004,\n",
       " 14.74829848613637,\n",
       " 139.6959828866012,\n",
       " 11.749261570059463,\n",
       " 126.86580830595597,\n",
       " 116.07394127655104,\n",
       " 14.241070006124634,\n",
       " 38.99185163191793,\n",
       " 35.59391924265948,\n",
       " 100.15037648368389,\n",
       " 34.91663936735111,\n",
       " 111.30000549115472,\n",
       " 19.94337790824202,\n",
       " 134.29546700688823,\n",
       " 142.4566428880684,\n",
       " 134.38491688301303,\n",
       " 28.01452888376145,\n",
       " 100.49783787088684,\n",
       " 34.979055170922265,\n",
       " 112.24643028288754,\n",
       " 13.124317987773535,\n",
       " 25.821838394569337,\n",
       " 111.1960162314672,\n",
       " 131.2311272307188,\n",
       " 124.9674908379625,\n",
       " 114.28607489521175,\n",
       " 123.09013011380712,\n",
       " 132.02954517983142,\n",
       " 125.20043454631812,\n",
       " 21.72738481038696,\n",
       " 31.27543451146444,\n",
       " 142.14470335994557,\n",
       " 23.612314568699897,\n",
       " 109.8963883777158,\n",
       " 118.94256610926284,\n",
       " 137.52638176008327,\n",
       " 40.24169868548197,\n",
       " 102.57436931975592,\n",
       " 141.9577227243282,\n",
       " 122.06385094190507,\n",
       " 20.40645181348736,\n",
       " 38.63488490449373,\n",
       " 141.76232306567042,\n",
       " 132.72230726060354,\n",
       " 25.756524879258755,\n",
       " 131.75118398205825,\n",
       " 114.05283470417427,\n",
       " 18.34010162104896,\n",
       " 129.86648839831253,\n",
       " 29.90826869393345,\n",
       " 106.82502776296433,\n",
       " 32.991133925181614,\n",
       " 110.0581218741963,\n",
       " 113.19503317481144,\n",
       " 109.0542679875812,\n",
       " 105.29055187570484,\n",
       " 102.52384616184185,\n",
       " 127.6280918271632,\n",
       " 36.74170589717867,\n",
       " 130.43420910134165,\n",
       " 115.02335137859924,\n",
       " 118.43615605902204,\n",
       " 23.075134426523945,\n",
       " 106.55748631541834,\n",
       " 107.44226516378596,\n",
       " 138.10548290609546,\n",
       " 17.755489787647583,\n",
       " 23.42561274314127,\n",
       " 109.71636515562795,\n",
       " 31.5631131047254,\n",
       " 114.22569008221215,\n",
       " 122.16884084729374,\n",
       " 39.26567117245626,\n",
       " 31.966555476526377,\n",
       " 102.43092969594731,\n",
       " 122.3412770267502,\n",
       " 126.56851829473086,\n",
       " 27.47511141616781,\n",
       " 36.50115636901797,\n",
       " 124.73516074881776,\n",
       " 40.48205461704528,\n",
       " 110.0146057593904,\n",
       " 147.50951443212227,\n",
       " 116.50616182355964,\n",
       " 138.94277981570102,\n",
       " 38.29574264121945,\n",
       " 148.44916989024549,\n",
       " 108.3124085202764,\n",
       " 113.55946579260268,\n",
       " 114.6666592070905,\n",
       " 11.309669977740633,\n",
       " 135.92402339206703,\n",
       " 123.49784454081144,\n",
       " 99.82126716187716,\n",
       " 129.06544517335234,\n",
       " 31.612524107250305,\n",
       " 14.412345042481167,\n",
       " 107.41306800748116,\n",
       " 145.3070729313804,\n",
       " 133.1449771219128,\n",
       " 121.01792665189892,\n",
       " 38.95006675668058,\n",
       " 32.46353788898236,\n",
       " 39.86069833263181,\n",
       " 129.2565012725205,\n",
       " 33.84196992916149,\n",
       " 12.301285614141548,\n",
       " 119.38717203602144,\n",
       " 10.88537042357344,\n",
       " 30.43841092874508,\n",
       " 123.12913961804408,\n",
       " 14.072058170492664,\n",
       " 28.423892388236936,\n",
       " 32.15374598449148,\n",
       " 14.681397913047858,\n",
       " 127.69734638062424,\n",
       " 146.86391799074693,\n",
       " 146.31310840796976,\n",
       " 139.72060240653167,\n",
       " 29.36753025296703,\n",
       " 121.92538177620467,\n",
       " 132.97434439519083,\n",
       " 29.018923803358096,\n",
       " 141.30189861652323,\n",
       " 118.47960854288696,\n",
       " 22.260064268369,\n",
       " 120.3266970967819,\n",
       " 137.21098027126806,\n",
       " 110.23327719359328,\n",
       " 142.39825064129448,\n",
       " 143.51848067059836,\n",
       " 34.58825288570356,\n",
       " 15.400383075661708,\n",
       " 27.42521128335456,\n",
       " 100.98299434071258,\n",
       " 125.23606104591474,\n",
       " 133.02467719221994,\n",
       " 23.04849338112941,\n",
       " 108.6480060601737,\n",
       " 24.2735914990474,\n",
       " 12.663196641760862,\n",
       " 25.11867765970425,\n",
       " 147.99313176682858,\n",
       " 27.58743243864134,\n",
       " 124.86229440280692,\n",
       " 147.58953652980537,\n",
       " 100.10682670650353,\n",
       " 20.561143685352278,\n",
       " 112.9603042440384,\n",
       " 15.944937635956048,\n",
       " 119.8801983222362,\n",
       " 22.874644245384918,\n",
       " 39.46288413995725,\n",
       " 119.5577318148199,\n",
       " 131.34385981378983,\n",
       " 113.42831389519397,\n",
       " 133.66788122925692,\n",
       " 117.02877989732772,\n",
       " 120.59082332112942,\n",
       " 13.938957747538211,\n",
       " 40.08864029099277,\n",
       " 34.55870777370058,\n",
       " 11.741091327763552,\n",
       " 34.95666997503115,\n",
       " 139.0946052255595,\n",
       " 28.23869721223675,\n",
       " 130.1274368489382,\n",
       " 145.33119601406182,\n",
       " 101.0190367802574,\n",
       " 147.2010328575791,\n",
       " 25.138825886046444,\n",
       " 132.4565529702988,\n",
       " 10.538506609269175,\n",
       " 33.93418599628848,\n",
       " 106.43013324969456,\n",
       " 38.70718085483638,\n",
       " 134.37484263735857,\n",
       " 31.284486246845304,\n",
       " 22.92956048682106,\n",
       " 141.647533603233,\n",
       " 17.825974363736066,\n",
       " 131.4190146154167,\n",
       " 119.4453234251921,\n",
       " 13.680386287143854,\n",
       " 141.41335069247413,\n",
       " 110.965991203388,\n",
       " 37.14390885401029,\n",
       " 23.162960244567664,\n",
       " 133.0927106121091,\n",
       " 37.96049084766223,\n",
       " 145.62698511575454,\n",
       " 133.29983392235465,\n",
       " 22.252932837352965,\n",
       " 115.14105314634436,\n",
       " 120.23125271425798,\n",
       " 22.00913042518034,\n",
       " 38.25296808643709,\n",
       " 29.190943449764912,\n",
       " 19.628104125345622,\n",
       " 148.13252150384545,\n",
       " 149.1620151657679,\n",
       " 108.3371741431309,\n",
       " 37.58732659930927,\n",
       " 26.10737880324478,\n",
       " 125.8101136036328,\n",
       " 12.931743048542808,\n",
       " 125.72906137720288,\n",
       " 28.762909148206408,\n",
       " 20.87492972826425,\n",
       " 38.23296186803999,\n",
       " 140.43175234127432,\n",
       " 145.9887179385295,\n",
       " 121.57895971951864,\n",
       " 143.59434908444712,\n",
       " 24.42294224247781,\n",
       " 34.1263075970497,\n",
       " 146.28788765491387,\n",
       " 22.962593378972443,\n",
       " 108.45635731585944,\n",
       " 119.24755717407244,\n",
       " 22.5768830074097,\n",
       " 132.67044401706312,\n",
       " 107.08648486733615,\n",
       " 28.46805370440192]"
      ]
     },
     "execution_count": 121,
     "metadata": {},
     "output_type": "execute_result"
    }
   ],
   "execution_count": 121
  },
  {
   "metadata": {
    "ExecuteTime": {
     "end_time": "2025-02-02T11:30:14.600139Z",
     "start_time": "2025-02-02T11:30:14.584484Z"
    }
   },
   "cell_type": "code",
   "source": [
    "df = df[~df['temperature'].isin(outliers)]\n",
    "df.shape"
   ],
   "id": "f040850c917a3ee1",
   "outputs": [
    {
     "data": {
      "text/plain": [
       "(7210, 13)"
      ]
     },
     "execution_count": 122,
     "metadata": {},
     "output_type": "execute_result"
    }
   ],
   "execution_count": 122
  },
  {
   "metadata": {
    "ExecuteTime": {
     "end_time": "2025-02-02T11:30:14.709440Z",
     "start_time": "2025-02-02T11:30:14.690665Z"
    }
   },
   "cell_type": "code",
   "source": [
    "Q1, Q3 = np.percentile(df['pressure'], [25, 75])\n",
    "IQR = Q3 - Q1\n",
    "outliers2 = []\n",
    "for elemento in df['pressure']:\n",
    " if elemento < (Q1 - 1.5 * IQR) or elemento > (Q3 + 1.5 * IQR):\n",
    "  outliers2.append(elemento)\n",
    "outliers2"
   ],
   "id": "6a0849fabd48e627",
   "outputs": [
    {
     "data": {
      "text/plain": [
       "[76.42672868018283,\n",
       " 71.43726309539058,\n",
       " 59.941449033664384,\n",
       " 5.493077668572447,\n",
       " 10.3395025988541,\n",
       " 73.83952421176137,\n",
       " 10.589222053030207,\n",
       " 12.861396619180816,\n",
       " 74.17327869750751,\n",
       " 60.47967682546257,\n",
       " 72.91471241010778,\n",
       " 3.620797987053262,\n",
       " 71.83406719021843,\n",
       " 57.95690047930479,\n",
       " 58.5619703194808,\n",
       " 12.626490624249769,\n",
       " 62.27868481485161,\n",
       " 71.65147459752612,\n",
       " 12.600285579251311,\n",
       " 58.54438668214897,\n",
       " 68.85194255863559,\n",
       " 65.14321024815872,\n",
       " 65.69045396124903,\n",
       " 79.61094544808543,\n",
       " 77.40758080781703,\n",
       " 4.306755612325045,\n",
       " 63.75832327134907,\n",
       " 60.49259929448844,\n",
       " 58.81572955218089,\n",
       " 64.47621584369136,\n",
       " 11.265975450074157,\n",
       " 79.03323757921231,\n",
       " 10.85154583545766,\n",
       " 11.050347178715018,\n",
       " 65.96335548746458,\n",
       " 9.891882670127682,\n",
       " 5.347563945414741,\n",
       " 69.09636889942959,\n",
       " 57.593763411161625,\n",
       " 7.995367198579199,\n",
       " 11.40030658658602,\n",
       " 76.75386798351025,\n",
       " 64.36222044670572,\n",
       " 59.32549563327552,\n",
       " 77.56801584901021,\n",
       " 60.50617860914148,\n",
       " 63.34091834820055,\n",
       " 72.40779970998682,\n",
       " 61.30208949910991,\n",
       " 76.4821368569076,\n",
       " 75.27913206036142,\n",
       " 57.9216961846877,\n",
       " 9.636687240525632,\n",
       " 62.24059705429551,\n",
       " 58.94248456048513,\n",
       " 67.07123167154104,\n",
       " 68.34278796468212,\n",
       " 68.46554449454655,\n",
       " 71.94088955256682,\n",
       " 7.684323643299965,\n",
       " 58.37716623178919,\n",
       " 57.74074982408368,\n",
       " 78.63521165168872,\n",
       " 79.36528898470895,\n",
       " 66.8612348465621,\n",
       " 63.63164601866269,\n",
       " 9.153404426250075,\n",
       " 11.21355062965954,\n",
       " 69.06370229870983,\n",
       " 77.2770090134613,\n",
       " 75.92020938511517,\n",
       " 75.58005840096531,\n",
       " 68.39672360384877,\n",
       " 73.85873428424202,\n",
       " 65.1727879281196,\n",
       " 10.321184693779117,\n",
       " 12.736316541254237,\n",
       " 70.0479324065162,\n",
       " 12.016323696695316,\n",
       " 9.687627378259174,\n",
       " 10.728085102837849,\n",
       " 61.27294561030307,\n",
       " 57.71488141620725,\n",
       " 11.454867476226134,\n",
       " 75.57569712910531,\n",
       " 63.75522438691241,\n",
       " 63.270621841485465,\n",
       " 9.139476539900532,\n",
       " 60.83882139594693,\n",
       " 60.26217026435438,\n",
       " 77.74332691745795,\n",
       " 78.59787032908729,\n",
       " 11.253052558113184,\n",
       " 78.65998850349634,\n",
       " 12.40401563770734,\n",
       " 12.84615697846064,\n",
       " 12.438649422074471,\n",
       " 11.424766245727884,\n",
       " 74.94467416482891,\n",
       " 63.10085775670582,\n",
       " 6.191319164323858,\n",
       " 61.034780490169794,\n",
       " 8.927958258304919,\n",
       " 5.48231165690999,\n",
       " 68.6485562201336,\n",
       " 12.809480480528666,\n",
       " 57.44954636261344,\n",
       " 59.564286794762594,\n",
       " 11.88551887223581,\n",
       " 66.13211387371834,\n",
       " 63.825376705792415,\n",
       " 59.76552286232096,\n",
       " 62.01906335266116,\n",
       " 58.75607606196532,\n",
       " 72.30857280498861,\n",
       " 65.8515613293039,\n",
       " 9.589173446549175,\n",
       " 63.06672932493965,\n",
       " 77.67774798818735,\n",
       " 6.583409414231754,\n",
       " 12.51497346705533,\n",
       " 59.39248702422967,\n",
       " 57.41098391707983,\n",
       " 6.627809145949668,\n",
       " 8.43108355528689,\n",
       " 60.484443237524445,\n",
       " 63.94747232713006,\n",
       " 73.97557567502338,\n",
       " 64.90096002015366,\n",
       " 10.642747686054705,\n",
       " 12.816685328010989,\n",
       " 75.64576327681127,\n",
       " 66.96727084466815,\n",
       " 61.57270292025666,\n",
       " 74.09656864257515,\n",
       " 11.73071404415597,\n",
       " 58.31287372614689,\n",
       " 6.953518578515991,\n",
       " 9.788558056072764,\n",
       " 66.58121812290024,\n",
       " 59.77271116914039,\n",
       " 59.702335429445,\n",
       " 11.36600847006375,\n",
       " 10.746599561892207,\n",
       " 68.73187599643417,\n",
       " 76.48633075249649,\n",
       " 8.492657093611601,\n",
       " 65.67734804297083,\n",
       " 9.231869152114292,\n",
       " 11.320971340842997,\n",
       " 74.76169980170093,\n",
       " 59.909295303721805,\n",
       " 60.39883925119362,\n",
       " 12.199759125462542,\n",
       " 9.88990555304661,\n",
       " 62.43128382406571,\n",
       " 72.2015996966628,\n",
       " 11.661370311902008,\n",
       " 69.14321096175959,\n",
       " 12.584707444096868,\n",
       " 62.02214593031489,\n",
       " 66.76525205907467,\n",
       " 78.78564633392219,\n",
       " 77.10953114325366,\n",
       " 9.067889397367036,\n",
       " 11.749222393987]"
      ]
     },
     "execution_count": 123,
     "metadata": {},
     "output_type": "execute_result"
    }
   ],
   "execution_count": 123
  },
  {
   "metadata": {
    "ExecuteTime": {
     "end_time": "2025-02-02T11:30:14.835878Z",
     "start_time": "2025-02-02T11:30:14.797173Z"
    }
   },
   "cell_type": "code",
   "source": [
    "df = df[~df['pressure'].isin(outliers2)]\n",
    "df.shape"
   ],
   "id": "f99f6bd6bc350ab6",
   "outputs": [
    {
     "data": {
      "text/plain": [
       "(7044, 13)"
      ]
     },
     "execution_count": 124,
     "metadata": {},
     "output_type": "execute_result"
    }
   ],
   "execution_count": 124
  },
  {
   "metadata": {
    "ExecuteTime": {
     "end_time": "2025-02-02T11:30:15.098843Z",
     "start_time": "2025-02-02T11:30:15.046339Z"
    }
   },
   "cell_type": "code",
   "source": [
    "Q1, Q3 = np.percentile(df['vibration'], [25, 75])\n",
    "IQR = Q3 - Q1\n",
    "outliers2 = []\n",
    "for elemento in df['vibration']:\n",
    " if elemento < (Q1 - 1.5 * IQR) or elemento > (Q3 + 1.5 * IQR):\n",
    "  outliers2.append(elemento)\n",
    "outliers2"
   ],
   "id": "bde5fb1a4c6c545c",
   "outputs": [
    {
     "data": {
      "text/plain": [
       "[3.923827587070224,\n",
       " 0.0230882572996877,\n",
       " 0.0064168161469013,\n",
       " 3.965478665378277,\n",
       " 3.408486964599446,\n",
       " 3.2070975654212046,\n",
       " 2.9370413490049567,\n",
       " 3.275657845639828,\n",
       " 0.0529074712142081,\n",
       " -0.1679507747345481,\n",
       " 3.4996302898155878,\n",
       " -0.0052612581567583,\n",
       " 3.97513097059836,\n",
       " 0.0440980276413671,\n",
       " -0.317600113770051,\n",
       " 3.471165505403343,\n",
       " 0.0318995281109424,\n",
       " 4.626760432425203,\n",
       " 3.779432869883537,\n",
       " 3.2606224331002926,\n",
       " 4.799801758523439,\n",
       " 4.432625316166088,\n",
       " 3.4240049939375923,\n",
       " 3.7711604577913738,\n",
       " 3.035668350803001,\n",
       " 4.65657563324011,\n",
       " 4.116261787075627,\n",
       " 3.475104776597145,\n",
       " -0.0471446245456947,\n",
       " 3.6073148500956913,\n",
       " -0.0996323226060891,\n",
       " 2.969094033577885,\n",
       " 0.0023665546001918,\n",
       " 4.289965396784703,\n",
       " 3.81008136355764,\n",
       " -0.1539499762486942,\n",
       " 3.632169131935889,\n",
       " 4.430816513358485,\n",
       " 2.9453214951995688,\n",
       " 3.640224649121755,\n",
       " -0.1251667380978529,\n",
       " 0.0119837629952377,\n",
       " 4.17968465650718,\n",
       " 4.004312342788758,\n",
       " 4.757150226856697,\n",
       " 3.850984380246559,\n",
       " 4.65530174744451,\n",
       " 3.436587241946445,\n",
       " 4.4976276376930455,\n",
       " 4.88086544596628,\n",
       " 2.9985991458595693,\n",
       " 3.0483477568860264,\n",
       " 3.4068543744349533,\n",
       " 2.9456965830078854,\n",
       " 2.9235047944788204,\n",
       " 3.893742832495525,\n",
       " 4.403766495549542,\n",
       " 4.460650198764148,\n",
       " 4.843286460859317,\n",
       " 0.0619838589767915,\n",
       " 4.528089474657248,\n",
       " 4.734760989503675,\n",
       " 4.890374820910647,\n",
       " 3.809363201222937,\n",
       " 3.0702114550511186,\n",
       " 4.627769161319787,\n",
       " 3.017282268522641,\n",
       " 4.465265045063847,\n",
       " 4.03793009581937,\n",
       " 3.142861856840921,\n",
       " 4.355002334646382,\n",
       " 4.152400551720732,\n",
       " 3.928876240361679,\n",
       " 2.9599615569820195,\n",
       " 3.453140048914134,\n",
       " -0.1647518987540646,\n",
       " 2.946179965532789,\n",
       " 3.121915710820579,\n",
       " 4.023207187341644,\n",
       " 4.589595228040665,\n",
       " 4.3463132802288245,\n",
       " 2.965160142746255,\n",
       " 0.0908478568989106,\n",
       " 0.0331146763852614,\n",
       " 3.464508453586292,\n",
       " 0.1081418881009506,\n",
       " 4.539449521110572,\n",
       " 4.578419167785939,\n",
       " 4.496134959349439,\n",
       " 0.0718622933294212,\n",
       " 0.0924381550470752,\n",
       " 4.489408322938115,\n",
       " 3.50717468726164,\n",
       " 3.3849874424190984,\n",
       " 4.055544448653533,\n",
       " 3.473705939228191,\n",
       " 4.092893503204122,\n",
       " 3.7395421255128793,\n",
       " 0.0621132861858624,\n",
       " 3.062199977029624,\n",
       " 4.663802279231951,\n",
       " 3.3808073489272465,\n",
       " 0.0780281676141161,\n",
       " 4.691919553552931,\n",
       " 3.666101419351433,\n",
       " 3.143104720601266,\n",
       " 0.0489146789691763,\n",
       " 4.689659004384643,\n",
       " 2.9869074594298124,\n",
       " 4.893943594996182,\n",
       " 0.0810240463385564,\n",
       " -0.1674463553129148,\n",
       " 4.882508781770468,\n",
       " 3.3014160679054365,\n",
       " 4.785311653250211,\n",
       " 3.814187838913802,\n",
       " 4.25076643296692,\n",
       " 3.3860564318092523,\n",
       " 4.878213898099919,\n",
       " 3.182452419406168,\n",
       " 3.680906082958816,\n",
       " 3.2017550613706467,\n",
       " 4.901257860266479,\n",
       " 4.162541392999802,\n",
       " 0.0442250403396755,\n",
       " -0.4281876646202984,\n",
       " 4.1603429394225975,\n",
       " 4.372268808633538,\n",
       " 3.4776070570586164,\n",
       " 2.989927258368573,\n",
       " 4.903136957128605]"
      ]
     },
     "execution_count": 125,
     "metadata": {},
     "output_type": "execute_result"
    }
   ],
   "execution_count": 125
  },
  {
   "metadata": {
    "ExecuteTime": {
     "end_time": "2025-02-02T11:30:15.281980Z",
     "start_time": "2025-02-02T11:30:15.248206Z"
    }
   },
   "cell_type": "code",
   "source": [
    "df = df[~df['vibration'].isin(outliers2)]\n",
    "df.shape"
   ],
   "id": "a129d4ec634a403e",
   "outputs": [
    {
     "data": {
      "text/plain": [
       "(6913, 13)"
      ]
     },
     "execution_count": 126,
     "metadata": {},
     "output_type": "execute_result"
    }
   ],
   "execution_count": 126
  },
  {
   "metadata": {
    "ExecuteTime": {
     "end_time": "2025-02-02T11:30:15.431608Z",
     "start_time": "2025-02-02T11:30:15.402783Z"
    }
   },
   "cell_type": "code",
   "source": [
    "Q1, Q3 = np.percentile(df['humidity'], [25, 75])\n",
    "IQR = Q3 - Q1\n",
    "outliers2 = []\n",
    "for elemento in df['humidity']:\n",
    " if elemento < (Q1 - 1.5 * IQR) or elemento > (Q3 + 1.5 * IQR):\n",
    "  outliers2.append(elemento)\n",
    "outliers2"
   ],
   "id": "81198a6cad69d221",
   "outputs": [
    {
     "data": {
      "text/plain": [
       "[81.58941784588663,\n",
       " 12.909713420227416,\n",
       " 79.42752646005437,\n",
       " 84.47879012070042,\n",
       " 19.906588573168264,\n",
       " 84.39381886783303,\n",
       " 20.347894701146597,\n",
       " 77.64348516117136,\n",
       " 82.15374196212832,\n",
       " 18.15045574821545,\n",
       " 19.446820536804896,\n",
       " 17.044388200326914,\n",
       " 78.67106817187974,\n",
       " 20.09398551795464,\n",
       " 20.932259512041853,\n",
       " 81.32326150808461,\n",
       " 22.248115388918976,\n",
       " 13.67995714479095,\n",
       " 12.62312120638681,\n",
       " 82.53787602449997,\n",
       " 15.049547775113943,\n",
       " 21.84189505522706,\n",
       " 13.746248696875403,\n",
       " 21.912754076423365,\n",
       " 13.44913484895894,\n",
       " 18.36242993418722,\n",
       " 86.689913156033,\n",
       " 81.36686048322272,\n",
       " 79.61283696951351,\n",
       " 77.92385761315072,\n",
       " 14.075896928236649,\n",
       " 79.3793191215934,\n",
       " 21.1798663683197,\n",
       " 13.8883592662601,\n",
       " 85.27368956188823,\n",
       " 22.1271107464422,\n",
       " 12.885865127700049,\n",
       " 78.1756049976551,\n",
       " 21.514729113483934,\n",
       " 13.681095421872316,\n",
       " 19.442910508557997,\n",
       " 20.58371528236237,\n",
       " 17.956249782063082,\n",
       " 79.98734105502464,\n",
       " 14.105238788890864,\n",
       " 19.5984072775879,\n",
       " 88.21288188267445,\n",
       " 79.33605706171272,\n",
       " 17.317102408796224,\n",
       " 80.38281613621828,\n",
       " 16.144214208263428,\n",
       " 16.32874714161959,\n",
       " 79.56691633226549,\n",
       " 17.733794698481738,\n",
       " 87.6244383788173,\n",
       " 16.071660137957284,\n",
       " 19.794240781702204,\n",
       " 21.79733496570765,\n",
       " 78.0765078327888,\n",
       " 14.10400700753624]"
      ]
     },
     "execution_count": 127,
     "metadata": {},
     "output_type": "execute_result"
    }
   ],
   "execution_count": 127
  },
  {
   "metadata": {
    "ExecuteTime": {
     "end_time": "2025-02-02T11:30:15.479998Z",
     "start_time": "2025-02-02T11:30:15.467622Z"
    }
   },
   "cell_type": "code",
   "source": [
    "df = df[~df['humidity'].isin(outliers2)]\n",
    "df.shape"
   ],
   "id": "d1ae86bf4ecd0bb",
   "outputs": [
    {
     "data": {
      "text/plain": [
       "(6853, 13)"
      ]
     },
     "execution_count": 128,
     "metadata": {},
     "output_type": "execute_result"
    }
   ],
   "execution_count": 128
  },
  {
   "metadata": {},
   "cell_type": "markdown",
   "source": "Aplicando el rango intercuartílico hemos eliminado los outliers de las variables numericas, pero si recordamos la visaulización del prinicpio hemos visto que la variable objetivo tiene muchos datos de la clase 0 y muy pocos de la 1, vamos a reajustar este inconveniente",
   "id": "217238131eda36f5"
  },
  {
   "metadata": {
    "ExecuteTime": {
     "end_time": "2025-02-02T11:30:15.707808Z",
     "start_time": "2025-02-02T11:30:15.690535Z"
    }
   },
   "cell_type": "code",
   "source": [
    "# Supongamos que separamos clases mayoritaria y minoritaria\n",
    "df_major = df[df['faulty'] == 0]\n",
    "df_minor = df[df['faulty'] == 1]\n",
    "# Ahora hacemos oversampling de la clase minoritaria\n",
    "df_minor_oversampled = resample(df_minor,\n",
    "replace=True,n_samples=len(df_major), random_state=42)\n",
    "# Combinar las clases\n",
    "df_balanced = pd.concat([df_major, df_minor_oversampled])"
   ],
   "id": "7bfe0da6217008b4",
   "outputs": [],
   "execution_count": 129
  },
  {
   "metadata": {
    "ExecuteTime": {
     "end_time": "2025-02-02T11:30:16.018637Z",
     "start_time": "2025-02-02T11:30:15.719136Z"
    }
   },
   "cell_type": "code",
   "source": "plt.hist(df_balanced['faulty'])",
   "id": "54ef145c0ed51283",
   "outputs": [
    {
     "data": {
      "text/plain": [
       "(array([6767.,    0.,    0.,    0.,    0.,    0.,    0.,    0.,    0.,\n",
       "        6767.]),\n",
       " array([0. , 0.1, 0.2, 0.3, 0.4, 0.5, 0.6, 0.7, 0.8, 0.9, 1. ]),\n",
       " <BarContainer object of 10 artists>)"
      ]
     },
     "execution_count": 130,
     "metadata": {},
     "output_type": "execute_result"
    },
    {
     "data": {
      "text/plain": [
       "<Figure size 640x480 with 1 Axes>"
      ],
      "image/png": "[encoded data removed]"
     },
     "metadata": {},
     "output_type": "display_data"
    }
   ],
   "execution_count": 130
  },
  {
   "metadata": {},
   "cell_type": "markdown",
   "source": "Después de aplicar `resample` se puede apreciar que las clases están equilibradas, a continuación se procederá al entrenamiento del modelo",
   "id": "51cdccf1e96ef953"
  },
  {
   "metadata": {},
   "cell_type": "markdown",
   "source": "### 6. Entrenamiento del modelo",
   "id": "63f3721de9e765d8"
  },
  {
   "metadata": {},
   "cell_type": "markdown",
   "source": "Primero se escalará el dataframe ya que es de obligado cumplimiento para una red neuronal a diferencia de cualquier modelo de ML",
   "id": "7af03319d6ca4489"
  },
  {
   "metadata": {
    "ExecuteTime": {
     "end_time": "2025-02-02T11:30:16.088401Z",
     "start_time": "2025-02-02T11:30:16.073664Z"
    }
   },
   "cell_type": "code",
   "source": [
    "X = df.drop('faulty',axis=1)\n",
    "y = df['faulty']\n",
    "scaler = StandardScaler()\n",
    "X = scaler.fit_transform(X)\n",
    "X_train, X_test, y_train, y_test = train_test_split(X, y, test_size=0.2, random_state=42)"
   ],
   "id": "b75d3903739cb692",
   "outputs": [],
   "execution_count": 131
  },
  {
   "metadata": {},
   "cell_type": "markdown",
   "source": "Creamos la red neuronal con 3 capas ocultas, todas de activación `relu` y un `Dropout` del 0.5 y 0.3 respectivamente por la reducción de capas ocultas a medida que el entrenamiento avanza",
   "id": "e4bb420d98409ef8"
  },
  {
   "metadata": {
    "ExecuteTime": {
     "end_time": "2025-02-02T11:30:16.221645Z",
     "start_time": "2025-02-02T11:30:16.150415Z"
    }
   },
   "cell_type": "code",
   "source": [
    "# Creamos el modelo de red neuronal\n",
    "early_stopping = EarlyStopping(monitor='val_loss', patience=5)\n",
    "model = Sequential([\n",
    " Input(shape=(X_train.shape[1],)), # Definir forma de la entrada\n",
    "    Dense(32, activation='relu'), # 1a capa oculta\n",
    "    Dropout(0.5),\n",
    "    Dense(16, activation='relu'), # 1a capa oculta\n",
    "    Dropout(0.3),\n",
    "    Dense(8, activation='relu'), # 2a capa oculta\n",
    "    Dense(1, activation='sigmoid') # Salida\n",
    "])\n",
    "model.compile(optimizer='adam',loss='binary_crossentropy',metrics=['accuracy'])\n",
    "# Mostramos configuración\n",
    "model.summary()"
   ],
   "id": "c179c69b3bd732d0",
   "outputs": [
    {
     "data": {
      "text/plain": [
       "\u001B[1mModel: \"sequential_6\"\u001B[0m\n"
      ],
      "text/html": [
       "<pre style=\"white-space:pre;overflow-x:auto;line-height:normal;font-family:Menlo,'DejaVu Sans Mono',consolas,'Courier New',monospace\"><span style=\"font-weight: bold\">Model: \"sequential_6\"</span>\n",
       "</pre>\n"
      ]
     },
     "metadata": {},
     "output_type": "display_data"
    },
    {
     "data": {
      "text/plain": [
       "┏━━━━━━━━━━━━━━━━━━━━━━━━━━━━━━━━━┳━━━━━━━━━━━━━━━━━━━━━━━━┳━━━━━━━━━━━━━━━┓\n",
       "┃\u001B[1m \u001B[0m\u001B[1mLayer (type)                   \u001B[0m\u001B[1m \u001B[0m┃\u001B[1m \u001B[0m\u001B[1mOutput Shape          \u001B[0m\u001B[1m \u001B[0m┃\u001B[1m \u001B[0m\u001B[1m      Param #\u001B[0m\u001B[1m \u001B[0m┃\n",
       "┡━━━━━━━━━━━━━━━━━━━━━━━━━━━━━━━━━╇━━━━━━━━━━━━━━━━━━━━━━━━╇━━━━━━━━━━━━━━━┩\n",
       "│ dense_16 (\u001B[38;5;33mDense\u001B[0m)                │ (\u001B[38;5;45mNone\u001B[0m, \u001B[38;5;34m32\u001B[0m)             │           \u001B[38;5;34m416\u001B[0m │\n",
       "├─────────────────────────────────┼────────────────────────┼───────────────┤\n",
       "│ dropout_4 (\u001B[38;5;33mDropout\u001B[0m)             │ (\u001B[38;5;45mNone\u001B[0m, \u001B[38;5;34m32\u001B[0m)             │             \u001B[38;5;34m0\u001B[0m │\n",
       "├─────────────────────────────────┼────────────────────────┼───────────────┤\n",
       "│ dense_17 (\u001B[38;5;33mDense\u001B[0m)                │ (\u001B[38;5;45mNone\u001B[0m, \u001B[38;5;34m16\u001B[0m)             │           \u001B[38;5;34m528\u001B[0m │\n",
       "├─────────────────────────────────┼────────────────────────┼───────────────┤\n",
       "│ dropout_5 (\u001B[38;5;33mDropout\u001B[0m)             │ (\u001B[38;5;45mNone\u001B[0m, \u001B[38;5;34m16\u001B[0m)             │             \u001B[38;5;34m0\u001B[0m │\n",
       "├─────────────────────────────────┼────────────────────────┼───────────────┤\n",
       "│ dense_18 (\u001B[38;5;33mDense\u001B[0m)                │ (\u001B[38;5;45mNone\u001B[0m, \u001B[38;5;34m8\u001B[0m)              │           \u001B[38;5;34m136\u001B[0m │\n",
       "├─────────────────────────────────┼────────────────────────┼───────────────┤\n",
       "│ dense_19 (\u001B[38;5;33mDense\u001B[0m)                │ (\u001B[38;5;45mNone\u001B[0m, \u001B[38;5;34m1\u001B[0m)              │             \u001B[38;5;34m9\u001B[0m │\n",
       "└─────────────────────────────────┴────────────────────────┴───────────────┘\n"
      ],
      "text/html": [
       "<pre style=\"white-space:pre;overflow-x:auto;line-height:normal;font-family:Menlo,'DejaVu Sans Mono',consolas,'Courier New',monospace\">┏━━━━━━━━━━━━━━━━━━━━━━━━━━━━━━━━━┳━━━━━━━━━━━━━━━━━━━━━━━━┳━━━━━━━━━━━━━━━┓\n",
       "┃<span style=\"font-weight: bold\"> Layer (type)                    </span>┃<span style=\"font-weight: bold\"> Output Shape           </span>┃<span style=\"font-weight: bold\">       Param # </span>┃\n",
       "┡━━━━━━━━━━━━━━━━━━━━━━━━━━━━━━━━━╇━━━━━━━━━━━━━━━━━━━━━━━━╇━━━━━━━━━━━━━━━┩\n",
       "│ dense_16 (<span style=\"color: #0087ff; text-decoration-color: #0087ff\">Dense</span>)                │ (<span style=\"color: #00d7ff; text-decoration-color: #00d7ff\">None</span>, <span style=\"color: #00af00; text-decoration-color: #00af00\">32</span>)             │           <span style=\"color: #00af00; text-decoration-color: #00af00\">416</span> │\n",
       "├─────────────────────────────────┼────────────────────────┼───────────────┤\n",
       "│ dropout_4 (<span style=\"color: #0087ff; text-decoration-color: #0087ff\">Dropout</span>)             │ (<span style=\"color: #00d7ff; text-decoration-color: #00d7ff\">None</span>, <span style=\"color: #00af00; text-decoration-color: #00af00\">32</span>)             │             <span style=\"color: #00af00; text-decoration-color: #00af00\">0</span> │\n",
       "├─────────────────────────────────┼────────────────────────┼───────────────┤\n",
       "│ dense_17 (<span style=\"color: #0087ff; text-decoration-color: #0087ff\">Dense</span>)                │ (<span style=\"color: #00d7ff; text-decoration-color: #00d7ff\">None</span>, <span style=\"color: #00af00; text-decoration-color: #00af00\">16</span>)             │           <span style=\"color: #00af00; text-decoration-color: #00af00\">528</span> │\n",
       "├─────────────────────────────────┼────────────────────────┼───────────────┤\n",
       "│ dropout_5 (<span style=\"color: #0087ff; text-decoration-color: #0087ff\">Dropout</span>)             │ (<span style=\"color: #00d7ff; text-decoration-color: #00d7ff\">None</span>, <span style=\"color: #00af00; text-decoration-color: #00af00\">16</span>)             │             <span style=\"color: #00af00; text-decoration-color: #00af00\">0</span> │\n",
       "├─────────────────────────────────┼────────────────────────┼───────────────┤\n",
       "│ dense_18 (<span style=\"color: #0087ff; text-decoration-color: #0087ff\">Dense</span>)                │ (<span style=\"color: #00d7ff; text-decoration-color: #00d7ff\">None</span>, <span style=\"color: #00af00; text-decoration-color: #00af00\">8</span>)              │           <span style=\"color: #00af00; text-decoration-color: #00af00\">136</span> │\n",
       "├─────────────────────────────────┼────────────────────────┼───────────────┤\n",
       "│ dense_19 (<span style=\"color: #0087ff; text-decoration-color: #0087ff\">Dense</span>)                │ (<span style=\"color: #00d7ff; text-decoration-color: #00d7ff\">None</span>, <span style=\"color: #00af00; text-decoration-color: #00af00\">1</span>)              │             <span style=\"color: #00af00; text-decoration-color: #00af00\">9</span> │\n",
       "└─────────────────────────────────┴────────────────────────┴───────────────┘\n",
       "</pre>\n"
      ]
     },
     "metadata": {},
     "output_type": "display_data"
    },
    {
     "data": {
      "text/plain": [
       "\u001B[1m Total params: \u001B[0m\u001B[38;5;34m1,089\u001B[0m (4.25 KB)\n"
      ],
      "text/html": [
       "<pre style=\"white-space:pre;overflow-x:auto;line-height:normal;font-family:Menlo,'DejaVu Sans Mono',consolas,'Courier New',monospace\"><span style=\"font-weight: bold\"> Total params: </span><span style=\"color: #00af00; text-decoration-color: #00af00\">1,089</span> (4.25 KB)\n",
       "</pre>\n"
      ]
     },
     "metadata": {},
     "output_type": "display_data"
    },
    {
     "data": {
      "text/plain": [
       "\u001B[1m Trainable params: \u001B[0m\u001B[38;5;34m1,089\u001B[0m (4.25 KB)\n"
      ],
      "text/html": [
       "<pre style=\"white-space:pre;overflow-x:auto;line-height:normal;font-family:Menlo,'DejaVu Sans Mono',consolas,'Courier New',monospace\"><span style=\"font-weight: bold\"> Trainable params: </span><span style=\"color: #00af00; text-decoration-color: #00af00\">1,089</span> (4.25 KB)\n",
       "</pre>\n"
      ]
     },
     "metadata": {},
     "output_type": "display_data"
    },
    {
     "data": {
      "text/plain": [
       "\u001B[1m Non-trainable params: \u001B[0m\u001B[38;5;34m0\u001B[0m (0.00 B)\n"
      ],
      "text/html": [
       "<pre style=\"white-space:pre;overflow-x:auto;line-height:normal;font-family:Menlo,'DejaVu Sans Mono',consolas,'Courier New',monospace\"><span style=\"font-weight: bold\"> Non-trainable params: </span><span style=\"color: #00af00; text-decoration-color: #00af00\">0</span> (0.00 B)\n",
       "</pre>\n"
      ]
     },
     "metadata": {},
     "output_type": "display_data"
    }
   ],
   "execution_count": 132
  },
  {
   "metadata": {
    "ExecuteTime": {
     "end_time": "2025-02-02T11:30:20.484484Z",
     "start_time": "2025-02-02T11:30:16.356390Z"
    }
   },
   "cell_type": "code",
   "source": "history = model.fit(X_train, y_train, epochs=50, batch_size=32, validation_split=0.2, verbose=1, callbacks=[early_stopping])",
   "id": "8f2d5a79fc9e6e29",
   "outputs": [
    {
     "name": "stdout",
     "output_type": "stream",
     "text": [
      "Epoch 1/50\n",
      "\u001B[1m138/138\u001B[0m \u001B[32m━━━━━━━━━━━━━━━━━━━━\u001B[0m\u001B[37m\u001B[0m \u001B[1m2s\u001B[0m 4ms/step - accuracy: 0.7115 - loss: 0.5656 - val_accuracy: 0.9891 - val_loss: 0.0810\n",
      "Epoch 2/50\n",
      "\u001B[1m138/138\u001B[0m \u001B[32m━━━━━━━━━━━━━━━━━━━━\u001B[0m\u001B[37m\u001B[0m \u001B[1m0s\u001B[0m 3ms/step - accuracy: 0.9887 - loss: 0.1042 - val_accuracy: 0.9891 - val_loss: 0.0626\n",
      "Epoch 3/50\n",
      "\u001B[1m138/138\u001B[0m \u001B[32m━━━━━━━━━━━━━━━━━━━━\u001B[0m\u001B[37m\u001B[0m \u001B[1m0s\u001B[0m 3ms/step - accuracy: 0.9882 - loss: 0.0920 - val_accuracy: 0.9891 - val_loss: 0.0645\n",
      "Epoch 4/50\n",
      "\u001B[1m138/138\u001B[0m \u001B[32m━━━━━━━━━━━━━━━━━━━━\u001B[0m\u001B[37m\u001B[0m \u001B[1m0s\u001B[0m 2ms/step - accuracy: 0.9905 - loss: 0.0788 - val_accuracy: 0.9891 - val_loss: 0.0632\n",
      "Epoch 5/50\n",
      "\u001B[1m138/138\u001B[0m \u001B[32m━━━━━━━━━━━━━━━━━━━━\u001B[0m\u001B[37m\u001B[0m \u001B[1m0s\u001B[0m 3ms/step - accuracy: 0.9901 - loss: 0.0768 - val_accuracy: 0.9891 - val_loss: 0.0632\n",
      "Epoch 6/50\n",
      "\u001B[1m138/138\u001B[0m \u001B[32m━━━━━━━━━━━━━━━━━━━━\u001B[0m\u001B[37m\u001B[0m \u001B[1m0s\u001B[0m 2ms/step - accuracy: 0.9882 - loss: 0.0856 - val_accuracy: 0.9891 - val_loss: 0.0631\n",
      "Epoch 7/50\n",
      "\u001B[1m138/138\u001B[0m \u001B[32m━━━━━━━━━━━━━━━━━━━━\u001B[0m\u001B[37m\u001B[0m \u001B[1m0s\u001B[0m 3ms/step - accuracy: 0.9892 - loss: 0.0915 - val_accuracy: 0.9891 - val_loss: 0.0632\n"
     ]
    }
   ],
   "execution_count": 133
  },
  {
   "metadata": {
    "ExecuteTime": {
     "end_time": "2025-02-02T11:30:21.021375Z",
     "start_time": "2025-02-02T11:30:20.534041Z"
    }
   },
   "cell_type": "code",
   "source": [
    "loss, accuracy = model.evaluate(X_test, y_test)\n",
    "print(f\"Pérdida: {loss}, Precisión: {accuracy}\")\n",
    "# Pérdida\n",
    "plt.plot(history.history['loss'], label='Pérdida (entrenamiento)')\n",
    "plt.plot(history.history['val_loss'], label='Pérdida (validación)')\n",
    "plt.xlabel('Épocas')\n",
    "plt.ylabel('Pérdida')\n",
    "plt.legend()\n",
    "plt.show()\n",
    "# Precisión\n",
    "plt.plot(history.history['accuracy'], label='Precisión(entrenamiento)')\n",
    "plt.plot(history.history['val_accuracy'], label='Precisión(validación)')\n",
    "plt.xlabel('Épocas')\n",
    "plt.ylabel('Precisión')\n",
    "plt.legend()\n",
    "plt.show()"
   ],
   "id": "e2b89c54aa3911df",
   "outputs": [
    {
     "name": "stdout",
     "output_type": "stream",
     "text": [
      "\u001B[1m43/43\u001B[0m \u001B[32m━━━━━━━━━━━━━━━━━━━━\u001B[0m\u001B[37m\u001B[0m \u001B[1m0s\u001B[0m 2ms/step - accuracy: 0.9902 - loss: 0.0587\n",
      "Pérdida: 0.08051537722349167, Precisión: 0.9861415028572083\n"
     ]
    },
    {
     "data": {
      "text/plain": [
       "<Figure size 640x480 with 1 Axes>"
      ],
      "image/png": "[encoded data removed]"
     },
     "metadata": {},
     "output_type": "display_data"
    },
    {
     "data": {
      "text/plain": [
       "<Figure size 640x480 with 1 Axes>"
      ],
      "image/png": "[encoded data removed]"
     },
     "metadata": {},
     "output_type": "display_data"
    }
   ],
   "execution_count": 134
  },
  {
   "metadata": {},
   "cell_type": "markdown",
   "source": "A primera vista de las gráficas se puede apreciar un claro overfitting del modelo, en el cuál no se distingue en absoluto una mejoría",
   "id": "91ac3a0aabd4a730"
  },
  {
   "metadata": {
    "ExecuteTime": {
     "end_time": "2025-02-02T11:30:21.523596Z",
     "start_time": "2025-02-02T11:30:21.081315Z"
    }
   },
   "cell_type": "code",
   "source": [
    "def train_validation(model, X_test, y_test):\n",
    "    y_pred_probs = model.predict(X_test)\n",
    "    y_pred = (y_pred_probs > 0.5).astype(int).flatten()  # Convertir probabilidades en etiquetas binarias\n",
    "\n",
    "    # Matriz de confusión\n",
    "    conf_matrix = confusion_matrix(y_test, y_pred)\n",
    "\n",
    "    # Reporte de clasificación\n",
    "    print(\"\\nReporte de Clasificación:\")\n",
    "    print(classification_report(y_test, y_pred, target_names=[\"No Mantenimiento\", \"Mantenimiento\"]))\n",
    "\n",
    "    # Mostrar matriz de confusión con heatmap\n",
    "    plt.figure(figsize=(6, 4))\n",
    "    sns.heatmap(conf_matrix, annot=True, fmt='d', cmap='Blues',\n",
    "                xticklabels=[\"No Mantenimiento\", \"Mantenimiento\"],\n",
    "                yticklabels=[\"No Mantenimiento\", \"Mantenimiento\"])\n",
    "    plt.title(\"Matriz de Confusión\")\n",
    "    plt.xlabel(\"Predicción\")\n",
    "    plt.ylabel(\"Real\")\n",
    "    plt.show()\n",
    "\n",
    "# Llama a la función con el modelo ya entrenado\n",
    "train_validation(model, X_test, y_test)"
   ],
   "id": "45252bf9a0f66874",
   "outputs": [
    {
     "name": "stdout",
     "output_type": "stream",
     "text": [
      "\u001B[1m43/43\u001B[0m \u001B[32m━━━━━━━━━━━━━━━━━━━━\u001B[0m\u001B[37m\u001B[0m \u001B[1m0s\u001B[0m 3ms/step\n",
      "\n",
      "Reporte de Clasificación:\n",
      "                  precision    recall  f1-score   support\n",
      "\n",
      "No Mantenimiento       0.99      1.00      0.99      1352\n",
      "   Mantenimiento       0.00      0.00      0.00        19\n",
      "\n",
      "        accuracy                           0.99      1371\n",
      "       macro avg       0.49      0.50      0.50      1371\n",
      "    weighted avg       0.97      0.99      0.98      1371\n",
      "\n"
     ]
    },
    {
     "name": "stderr",
     "output_type": "stream",
     "text": [
      "C:\\Users\\ESP\\AppData\\Local\\Programs\\Python\\Python312\\Lib\\site-packages\\sklearn\\metrics\\_classification.py:1531: UndefinedMetricWarning: Precision is ill-defined and being set to 0.0 in labels with no predicted samples. Use `zero_division` parameter to control this behavior.\n",
      "  _warn_prf(average, modifier, f\"{metric.capitalize()} is\", len(result))\n",
      "C:\\Users\\ESP\\AppData\\Local\\Programs\\Python\\Python312\\Lib\\site-packages\\sklearn\\metrics\\_classification.py:1531: UndefinedMetricWarning: Precision is ill-defined and being set to 0.0 in labels with no predicted samples. Use `zero_division` parameter to control this behavior.\n",
      "  _warn_prf(average, modifier, f\"{metric.capitalize()} is\", len(result))\n",
      "C:\\Users\\ESP\\AppData\\Local\\Programs\\Python\\Python312\\Lib\\site-packages\\sklearn\\metrics\\_classification.py:1531: UndefinedMetricWarning: Precision is ill-defined and being set to 0.0 in labels with no predicted samples. Use `zero_division` parameter to control this behavior.\n",
      "  _warn_prf(average, modifier, f\"{metric.capitalize()} is\", len(result))\n"
     ]
    },
    {
     "data": {
      "text/plain": [
       "<Figure size 600x400 with 2 Axes>"
      ],
      "image/png": "[encoded data removed]"
     },
     "metadata": {},
     "output_type": "display_data"
    }
   ],
   "execution_count": 135
  },
  {
   "metadata": {},
   "cell_type": "markdown",
   "source": "Al igual que se visualizó con las gráficas, la matriz de confusión confirma lo afirmado, a continuación se realizará un ajuste de hiperparámetros mediante `RandomSearch` y `SMOTE` por el desbalanceo de clases",
   "id": "369f5a24e808aa1e"
  },
  {
   "metadata": {
    "ExecuteTime": {
     "end_time": "2025-02-02T11:30:21.626251Z",
     "start_time": "2025-02-02T11:30:21.582408Z"
    }
   },
   "cell_type": "code",
   "source": [
    "def build_model(hp):\n",
    " model = Sequential([\n",
    "     Dense(units=hp.Int('units', min_value=32, max_value=512,step=32), activation='relu'),\n",
    "     Dense(1)\n",
    " ])\n",
    " model.compile(optimizer = tf.keras.optimizers.Adam(learning_rate = hp.Choice('learning_rate', [0.001, 0.01])),loss = 'mean_squared_error', metrics = ['mae'])\n",
    " return model\n",
    "\n",
    "tuner = RandomSearch(\n",
    " build_model,\n",
    " objective='val_loss',\n",
    " max_trials=5,\n",
    " directory='./my_dir',\n",
    " project_name='prediccion'\n",
    ")\n",
    "tuner.search(X_train, y_train, epochs=10, validation_split=0.2)"
   ],
   "id": "dc4667960f7cacf6",
   "outputs": [
    {
     "name": "stdout",
     "output_type": "stream",
     "text": [
      "Reloading Tuner from ./my_dir\\prediccion\\tuner0.json\n"
     ]
    }
   ],
   "execution_count": 136
  },
  {
   "metadata": {
    "ExecuteTime": {
     "end_time": "2025-02-02T11:30:21.693922Z",
     "start_time": "2025-02-02T11:30:21.687364Z"
    }
   },
   "cell_type": "code",
   "source": "best_hps = tuner.get_best_hyperparameters(num_trials=1)[0]",
   "id": "ae0ab6fda5aa18",
   "outputs": [],
   "execution_count": 137
  },
  {
   "metadata": {
    "ExecuteTime": {
     "end_time": "2025-02-02T11:30:21.753781Z",
     "start_time": "2025-02-02T11:30:21.739373Z"
    }
   },
   "cell_type": "code",
   "source": "best_model = tuner.hypermodel.build(best_hps)",
   "id": "78cf458a018d141b",
   "outputs": [],
   "execution_count": 138
  },
  {
   "metadata": {
    "ExecuteTime": {
     "end_time": "2025-02-02T11:30:21.816860Z",
     "start_time": "2025-02-02T11:30:21.806938Z"
    }
   },
   "cell_type": "code",
   "source": "X_train_split, X_val, y_train_split, y_val = train_test_split(X_train, y_train, test_size=0.2, random_state=42)",
   "id": "76654f160daf9f10",
   "outputs": [],
   "execution_count": 139
  },
  {
   "metadata": {
    "ExecuteTime": {
     "end_time": "2025-02-02T11:30:30.277091Z",
     "start_time": "2025-02-02T11:30:21.868584Z"
    }
   },
   "cell_type": "code",
   "source": [
    "smote = SMOTE(random_state=42)\n",
    "X_resampled, y_resampled = smote.fit_resample(X_train, y_train)\n",
    "\n",
    "# Ahora usa X_resampled, y_resampled en el entrenamiento\n",
    "history = best_model.fit(X_resampled, y_resampled, epochs=50, batch_size=32, validation_data=(X_val, y_val), callbacks=[early_stopping])"
   ],
   "id": "c5def3642792f8aa",
   "outputs": [
    {
     "name": "stdout",
     "output_type": "stream",
     "text": [
      "Epoch 1/50\n",
      "\u001B[1m339/339\u001B[0m \u001B[32m━━━━━━━━━━━━━━━━━━━━\u001B[0m\u001B[37m\u001B[0m \u001B[1m2s\u001B[0m 2ms/step - loss: 0.1612 - mae: 0.3185 - val_loss: 0.0940 - val_mae: 0.2381\n",
      "Epoch 2/50\n",
      "\u001B[1m339/339\u001B[0m \u001B[32m━━━━━━━━━━━━━━━━━━━━\u001B[0m\u001B[37m\u001B[0m \u001B[1m1s\u001B[0m 2ms/step - loss: 0.0861 - mae: 0.2278 - val_loss: 0.0624 - val_mae: 0.1921\n",
      "Epoch 3/50\n",
      "\u001B[1m339/339\u001B[0m \u001B[32m━━━━━━━━━━━━━━━━━━━━\u001B[0m\u001B[37m\u001B[0m \u001B[1m1s\u001B[0m 2ms/step - loss: 0.0772 - mae: 0.2112 - val_loss: 0.0612 - val_mae: 0.1826\n",
      "Epoch 4/50\n",
      "\u001B[1m339/339\u001B[0m \u001B[32m━━━━━━━━━━━━━━━━━━━━\u001B[0m\u001B[37m\u001B[0m \u001B[1m1s\u001B[0m 2ms/step - loss: 0.0668 - mae: 0.1950 - val_loss: 0.0857 - val_mae: 0.2226\n",
      "Epoch 5/50\n",
      "\u001B[1m339/339\u001B[0m \u001B[32m━━━━━━━━━━━━━━━━━━━━\u001B[0m\u001B[37m\u001B[0m \u001B[1m1s\u001B[0m 2ms/step - loss: 0.0663 - mae: 0.1921 - val_loss: 0.0487 - val_mae: 0.1598\n",
      "Epoch 6/50\n",
      "\u001B[1m339/339\u001B[0m \u001B[32m━━━━━━━━━━━━━━━━━━━━\u001B[0m\u001B[37m\u001B[0m \u001B[1m1s\u001B[0m 2ms/step - loss: 0.0581 - mae: 0.1804 - val_loss: 0.0680 - val_mae: 0.1874\n",
      "Epoch 7/50\n",
      "\u001B[1m339/339\u001B[0m \u001B[32m━━━━━━━━━━━━━━━━━━━━\u001B[0m\u001B[37m\u001B[0m \u001B[1m1s\u001B[0m 2ms/step - loss: 0.0534 - mae: 0.1715 - val_loss: 0.0485 - val_mae: 0.1642\n",
      "Epoch 8/50\n",
      "\u001B[1m339/339\u001B[0m \u001B[32m━━━━━━━━━━━━━━━━━━━━\u001B[0m\u001B[37m\u001B[0m \u001B[1m1s\u001B[0m 2ms/step - loss: 0.0551 - mae: 0.1740 - val_loss: 0.0759 - val_mae: 0.2027\n",
      "Epoch 9/50\n",
      "\u001B[1m339/339\u001B[0m \u001B[32m━━━━━━━━━━━━━━━━━━━━\u001B[0m\u001B[37m\u001B[0m \u001B[1m1s\u001B[0m 2ms/step - loss: 0.0516 - mae: 0.1687 - val_loss: 0.0659 - val_mae: 0.1900\n",
      "Epoch 10/50\n",
      "\u001B[1m339/339\u001B[0m \u001B[32m━━━━━━━━━━━━━━━━━━━━\u001B[0m\u001B[37m\u001B[0m \u001B[1m1s\u001B[0m 2ms/step - loss: 0.0555 - mae: 0.1749 - val_loss: 0.0597 - val_mae: 0.1782\n",
      "Epoch 11/50\n",
      "\u001B[1m339/339\u001B[0m \u001B[32m━━━━━━━━━━━━━━━━━━━━\u001B[0m\u001B[37m\u001B[0m \u001B[1m1s\u001B[0m 2ms/step - loss: 0.0505 - mae: 0.1659 - val_loss: 0.0552 - val_mae: 0.1786\n",
      "Epoch 12/50\n",
      "\u001B[1m339/339\u001B[0m \u001B[32m━━━━━━━━━━━━━━━━━━━━\u001B[0m\u001B[37m\u001B[0m \u001B[1m1s\u001B[0m 2ms/step - loss: 0.0529 - mae: 0.1705 - val_loss: 0.0536 - val_mae: 0.1658\n"
     ]
    }
   ],
   "execution_count": 140
  },
  {
   "metadata": {
    "ExecuteTime": {
     "end_time": "2025-02-02T11:30:31.087488Z",
     "start_time": "2025-02-02T11:30:30.328167Z"
    }
   },
   "cell_type": "code",
   "source": "train_validation(best_model, X_resampled, y_resampled)",
   "id": "d7d5c4d28c44ab73",
   "outputs": [
    {
     "name": "stdout",
     "output_type": "stream",
     "text": [
      "\u001B[1m339/339\u001B[0m \u001B[32m━━━━━━━━━━━━━━━━━━━━\u001B[0m\u001B[37m\u001B[0m \u001B[1m0s\u001B[0m 1ms/step  \n",
      "\n",
      "Reporte de Clasificación:\n",
      "                  precision    recall  f1-score   support\n",
      "\n",
      "No Mantenimiento       0.98      0.94      0.96      5415\n",
      "   Mantenimiento       0.94      0.98      0.96      5415\n",
      "\n",
      "        accuracy                           0.96     10830\n",
      "       macro avg       0.96      0.96      0.96     10830\n",
      "    weighted avg       0.96      0.96      0.96     10830\n",
      "\n"
     ]
    },
    {
     "data": {
      "text/plain": [
       "<Figure size 600x400 with 2 Axes>"
      ],
      "image/png": "[encoded data removed]"
     },
     "metadata": {},
     "output_type": "display_data"
    }
   ],
   "execution_count": 141
  },
  {
   "metadata": {},
   "cell_type": "markdown",
   "source": "Ahora se puede apreciar una notoria mejoría con respecto al desempeño del modelo, donde se encuentra una precisión para la clase 0 del 0.98 y para la clase 1 una precisión del 0.94, así mismo, en la matriz de confusión se encuentra un número de falsos positivos bastante reducido en comparación con el resto de conclusiones",
   "id": "a8384e604f7c7c13"
  }
 ],
 "metadata": {
  "kernelspec": {
   "display_name": "Python 3",
   "language": "python",
   "name": "python3"
  },
  "language_info": {
   "codemirror_mode": {
    "name": "ipython",
    "version": 2
   },
   "file_extension": ".py",
   "mimetype": "text/x-python",
   "name": "python",
   "nbconvert_exporter": "python",
   "pygments_lexer": "ipython2",
   "version": "2.7.6"
  }
 },
 "nbformat": 4,
 "nbformat_minor": 5
}

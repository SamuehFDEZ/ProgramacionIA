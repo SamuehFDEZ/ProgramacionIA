{
 "cells": [
  {
   "metadata": {},
   "cell_type": "markdown",
   "source": "# Monitorización de equipos industriales para detección de fallos\n",
   "id": "2463d984c13b4067"
  },
  {
   "metadata": {},
   "cell_type": "markdown",
   "source": "### 1. Importación de librerias",
   "id": "d4c4e956ebe54426"
  },
  {
   "cell_type": "code",
   "id": "initial_id",
   "metadata": {
    "collapsed": true,
    "ExecuteTime": {
     "end_time": "2025-02-06T20:04:20.444104Z",
     "start_time": "2025-02-06T20:04:20.436461Z"
    }
   },
   "source": [
    "import pandas as pd\n",
    "import seaborn as sns\n",
    "import numpy as np\n",
    "import matplotlib.pyplot as plt\n",
    "from sklearn.preprocessing import OneHotEncoder, StandardScaler\n",
    "from sklearn.model_selection import train_test_split\n",
    "from sklearn.metrics import confusion_matrix, classification_report\n",
    "import tensorflow as tf\n",
    "from tensorflow.keras.models import Sequential\n",
    "from tensorflow.keras.layers import Dense, Input, Dropout\n",
    "from keras.callbacks import EarlyStopping\n",
    "from keras_tuner import RandomSearch\n",
    "from sklearn.metrics import r2_score\n",
    "import optuna"
   ],
   "outputs": [],
   "execution_count": 41
  },
  {
   "metadata": {},
   "cell_type": "markdown",
   "source": "### 2. Carga del csv",
   "id": "90eaf66e3898633d"
  },
  {
   "metadata": {
    "ExecuteTime": {
     "end_time": "2025-02-06T20:04:20.606182Z",
     "start_time": "2025-02-06T20:04:20.485984Z"
    }
   },
   "cell_type": "code",
   "source": [
    "df = pd.read_csv(\"equipment_anomaly_data.csv\")\n",
    "df.head()"
   ],
   "id": "4ca2216b5e931f06",
   "outputs": [
    {
     "data": {
      "text/plain": [
       "   temperature   pressure  vibration   humidity   equipment       location  \\\n",
       "0    58.180180  25.029278   0.606516  45.694907     Turbine        Atlanta   \n",
       "1    75.740712  22.954018   2.338095  41.867407  Compressor        Chicago   \n",
       "2    71.358594  27.276830   1.389198  58.954409     Turbine  San Francisco   \n",
       "3    71.616985  32.242921   1.770690  40.565138        Pump        Atlanta   \n",
       "4    66.506832  45.197471   0.345398  43.253795        Pump       New York   \n",
       "\n",
       "   faulty  \n",
       "0     0.0  \n",
       "1     0.0  \n",
       "2     0.0  \n",
       "3     0.0  \n",
       "4     0.0  "
      ],
      "text/html": [
       "<div>\n",
       "<style scoped>\n",
       "    .dataframe tbody tr th:only-of-type {\n",
       "        vertical-align: middle;\n",
       "    }\n",
       "\n",
       "    .dataframe tbody tr th {\n",
       "        vertical-align: top;\n",
       "    }\n",
       "\n",
       "    .dataframe thead th {\n",
       "        text-align: right;\n",
       "    }\n",
       "</style>\n",
       "<table border=\"1\" class=\"dataframe\">\n",
       "  <thead>\n",
       "    <tr style=\"text-align: right;\">\n",
       "      <th></th>\n",
       "      <th>temperature</th>\n",
       "      <th>pressure</th>\n",
       "      <th>vibration</th>\n",
       "      <th>humidity</th>\n",
       "      <th>equipment</th>\n",
       "      <th>location</th>\n",
       "      <th>faulty</th>\n",
       "    </tr>\n",
       "  </thead>\n",
       "  <tbody>\n",
       "    <tr>\n",
       "      <th>0</th>\n",
       "      <td>58.180180</td>\n",
       "      <td>25.029278</td>\n",
       "      <td>0.606516</td>\n",
       "      <td>45.694907</td>\n",
       "      <td>Turbine</td>\n",
       "      <td>Atlanta</td>\n",
       "      <td>0.0</td>\n",
       "    </tr>\n",
       "    <tr>\n",
       "      <th>1</th>\n",
       "      <td>75.740712</td>\n",
       "      <td>22.954018</td>\n",
       "      <td>2.338095</td>\n",
       "      <td>41.867407</td>\n",
       "      <td>Compressor</td>\n",
       "      <td>Chicago</td>\n",
       "      <td>0.0</td>\n",
       "    </tr>\n",
       "    <tr>\n",
       "      <th>2</th>\n",
       "      <td>71.358594</td>\n",
       "      <td>27.276830</td>\n",
       "      <td>1.389198</td>\n",
       "      <td>58.954409</td>\n",
       "      <td>Turbine</td>\n",
       "      <td>San Francisco</td>\n",
       "      <td>0.0</td>\n",
       "    </tr>\n",
       "    <tr>\n",
       "      <th>3</th>\n",
       "      <td>71.616985</td>\n",
       "      <td>32.242921</td>\n",
       "      <td>1.770690</td>\n",
       "      <td>40.565138</td>\n",
       "      <td>Pump</td>\n",
       "      <td>Atlanta</td>\n",
       "      <td>0.0</td>\n",
       "    </tr>\n",
       "    <tr>\n",
       "      <th>4</th>\n",
       "      <td>66.506832</td>\n",
       "      <td>45.197471</td>\n",
       "      <td>0.345398</td>\n",
       "      <td>43.253795</td>\n",
       "      <td>Pump</td>\n",
       "      <td>New York</td>\n",
       "      <td>0.0</td>\n",
       "    </tr>\n",
       "  </tbody>\n",
       "</table>\n",
       "</div>"
      ]
     },
     "execution_count": 42,
     "metadata": {},
     "output_type": "execute_result"
    }
   ],
   "execution_count": 42
  },
  {
   "metadata": {},
   "cell_type": "markdown",
   "source": "### 3. Detección de anomalías",
   "id": "4d5a3043cdc1ad81"
  },
  {
   "metadata": {
    "ExecuteTime": {
     "end_time": "2025-02-06T20:04:20.800321Z",
     "start_time": "2025-02-06T20:04:20.773427Z"
    }
   },
   "cell_type": "code",
   "source": "df.info()",
   "id": "a492f39584e8e70c",
   "outputs": [
    {
     "name": "stdout",
     "output_type": "stream",
     "text": [
      "<class 'pandas.core.frame.DataFrame'>\n",
      "RangeIndex: 7672 entries, 0 to 7671\n",
      "Data columns (total 7 columns):\n",
      " #   Column       Non-Null Count  Dtype  \n",
      "---  ------       --------------  -----  \n",
      " 0   temperature  7672 non-null   float64\n",
      " 1   pressure     7672 non-null   float64\n",
      " 2   vibration    7672 non-null   float64\n",
      " 3   humidity     7672 non-null   float64\n",
      " 4   equipment    7672 non-null   object \n",
      " 5   location     7672 non-null   object \n",
      " 6   faulty       7672 non-null   float64\n",
      "dtypes: float64(5), object(2)\n",
      "memory usage: 419.7+ KB\n"
     ]
    }
   ],
   "execution_count": 43
  },
  {
   "metadata": {
    "ExecuteTime": {
     "end_time": "2025-02-06T20:04:21.015222Z",
     "start_time": "2025-02-06T20:04:20.964660Z"
    }
   },
   "cell_type": "code",
   "source": "df.describe()",
   "id": "f79d26a804071e2c",
   "outputs": [
    {
     "data": {
      "text/plain": [
       "       temperature     pressure    vibration     humidity       faulty\n",
       "count  7672.000000  7672.000000  7672.000000  7672.000000  7672.000000\n",
       "mean     70.922478    35.738048     1.611809    50.016574     0.099974\n",
       "std      16.200059    10.381593     0.728560    11.841479     0.299985\n",
       "min      10.269385     3.620798    -0.428188    10.215077     0.000000\n",
       "25%      62.777057    29.485682     1.170906    42.612817     0.000000\n",
       "50%      70.156900    35.227544     1.533113    50.024744     0.000000\n",
       "75%      77.568387    41.159913     1.924700    57.340513     0.000000\n",
       "max     149.690420    79.887734     4.990537    89.984718     1.000000"
      ],
      "text/html": [
       "<div>\n",
       "<style scoped>\n",
       "    .dataframe tbody tr th:only-of-type {\n",
       "        vertical-align: middle;\n",
       "    }\n",
       "\n",
       "    .dataframe tbody tr th {\n",
       "        vertical-align: top;\n",
       "    }\n",
       "\n",
       "    .dataframe thead th {\n",
       "        text-align: right;\n",
       "    }\n",
       "</style>\n",
       "<table border=\"1\" class=\"dataframe\">\n",
       "  <thead>\n",
       "    <tr style=\"text-align: right;\">\n",
       "      <th></th>\n",
       "      <th>temperature</th>\n",
       "      <th>pressure</th>\n",
       "      <th>vibration</th>\n",
       "      <th>humidity</th>\n",
       "      <th>faulty</th>\n",
       "    </tr>\n",
       "  </thead>\n",
       "  <tbody>\n",
       "    <tr>\n",
       "      <th>count</th>\n",
       "      <td>7672.000000</td>\n",
       "      <td>7672.000000</td>\n",
       "      <td>7672.000000</td>\n",
       "      <td>7672.000000</td>\n",
       "      <td>7672.000000</td>\n",
       "    </tr>\n",
       "    <tr>\n",
       "      <th>mean</th>\n",
       "      <td>70.922478</td>\n",
       "      <td>35.738048</td>\n",
       "      <td>1.611809</td>\n",
       "      <td>50.016574</td>\n",
       "      <td>0.099974</td>\n",
       "    </tr>\n",
       "    <tr>\n",
       "      <th>std</th>\n",
       "      <td>16.200059</td>\n",
       "      <td>10.381593</td>\n",
       "      <td>0.728560</td>\n",
       "      <td>11.841479</td>\n",
       "      <td>0.299985</td>\n",
       "    </tr>\n",
       "    <tr>\n",
       "      <th>min</th>\n",
       "      <td>10.269385</td>\n",
       "      <td>3.620798</td>\n",
       "      <td>-0.428188</td>\n",
       "      <td>10.215077</td>\n",
       "      <td>0.000000</td>\n",
       "    </tr>\n",
       "    <tr>\n",
       "      <th>25%</th>\n",
       "      <td>62.777057</td>\n",
       "      <td>29.485682</td>\n",
       "      <td>1.170906</td>\n",
       "      <td>42.612817</td>\n",
       "      <td>0.000000</td>\n",
       "    </tr>\n",
       "    <tr>\n",
       "      <th>50%</th>\n",
       "      <td>70.156900</td>\n",
       "      <td>35.227544</td>\n",
       "      <td>1.533113</td>\n",
       "      <td>50.024744</td>\n",
       "      <td>0.000000</td>\n",
       "    </tr>\n",
       "    <tr>\n",
       "      <th>75%</th>\n",
       "      <td>77.568387</td>\n",
       "      <td>41.159913</td>\n",
       "      <td>1.924700</td>\n",
       "      <td>57.340513</td>\n",
       "      <td>0.000000</td>\n",
       "    </tr>\n",
       "    <tr>\n",
       "      <th>max</th>\n",
       "      <td>149.690420</td>\n",
       "      <td>79.887734</td>\n",
       "      <td>4.990537</td>\n",
       "      <td>89.984718</td>\n",
       "      <td>1.000000</td>\n",
       "    </tr>\n",
       "  </tbody>\n",
       "</table>\n",
       "</div>"
      ]
     },
     "execution_count": 44,
     "metadata": {},
     "output_type": "execute_result"
    }
   ],
   "execution_count": 44
  },
  {
   "metadata": {
    "ExecuteTime": {
     "end_time": "2025-02-06T20:04:21.340426Z",
     "start_time": "2025-02-06T20:04:21.313978Z"
    }
   },
   "cell_type": "code",
   "source": "df.isnull().sum()",
   "id": "488c2cb06dabb412",
   "outputs": [
    {
     "data": {
      "text/plain": [
       "temperature    0\n",
       "pressure       0\n",
       "vibration      0\n",
       "humidity       0\n",
       "equipment      0\n",
       "location       0\n",
       "faulty         0\n",
       "dtype: int64"
      ]
     },
     "execution_count": 45,
     "metadata": {},
     "output_type": "execute_result"
    }
   ],
   "execution_count": 45
  },
  {
   "metadata": {
    "ExecuteTime": {
     "end_time": "2025-02-06T20:04:21.553163Z",
     "start_time": "2025-02-06T20:04:21.538848Z"
    }
   },
   "cell_type": "code",
   "source": "df.duplicated()",
   "id": "a6cb82df051f19ad",
   "outputs": [
    {
     "data": {
      "text/plain": [
       "0       False\n",
       "1       False\n",
       "2       False\n",
       "3       False\n",
       "4       False\n",
       "        ...  \n",
       "7667    False\n",
       "7668    False\n",
       "7669    False\n",
       "7670    False\n",
       "7671    False\n",
       "Length: 7672, dtype: bool"
      ]
     },
     "execution_count": 46,
     "metadata": {},
     "output_type": "execute_result"
    }
   ],
   "execution_count": 46
  },
  {
   "metadata": {
    "ExecuteTime": {
     "end_time": "2025-02-06T20:04:21.802697Z",
     "start_time": "2025-02-06T20:04:21.794925Z"
    }
   },
   "cell_type": "code",
   "source": "df.columns",
   "id": "18bbd2bccca6bb47",
   "outputs": [
    {
     "data": {
      "text/plain": [
       "Index(['temperature', 'pressure', 'vibration', 'humidity', 'equipment',\n",
       "       'location', 'faulty'],\n",
       "      dtype='object')"
      ]
     },
     "execution_count": 47,
     "metadata": {},
     "output_type": "execute_result"
    }
   ],
   "execution_count": 47
  },
  {
   "metadata": {},
   "cell_type": "markdown",
   "source": "### 4. Visualización de datos",
   "id": "196e76361790acd5"
  },
  {
   "metadata": {
    "ExecuteTime": {
     "end_time": "2025-02-06T20:04:25.453634Z",
     "start_time": "2025-02-06T20:04:22.110019Z"
    }
   },
   "cell_type": "code",
   "source": [
    "categorias = ['temperature', 'pressure', 'vibration', 'humidity', 'equipment','location', 'faulty']\n",
    "fig, axes = plt.subplots(nrows=2, ncols=4, figsize=(20, 15))\n",
    "axes = axes.flatten()\n",
    "for i, var in enumerate(categorias):\n",
    " axes[i].hist(df[var])\n",
    " axes[i].set_title(f'Distribución de {var}')\n",
    " axes[i].set_ylabel('Valores')\n",
    "for j in range(len(categorias), len(axes)):\n",
    " axes[j].axis('off')\n",
    "plt.tight_layout()\n",
    "plt.show()"
   ],
   "id": "e3596ec6a5f8041b",
   "outputs": [
    {
     "data": {
      "text/plain": [
       "<Figure size 2000x1500 with 8 Axes>"
      ],
      "image/png": "[encoded data removed]"
     },
     "metadata": {},
     "output_type": "display_data"
    }
   ],
   "execution_count": 48
  },
  {
   "metadata": {
    "ExecuteTime": {
     "end_time": "2025-02-06T20:04:25.547310Z",
     "start_time": "2025-02-06T20:04:25.515289Z"
    }
   },
   "cell_type": "code",
   "source": "df['equipment'].value_counts()",
   "id": "3cf29aa94434922e",
   "outputs": [
    {
     "data": {
      "text/plain": [
       "equipment\n",
       "Compressor    2573\n",
       "Turbine       2565\n",
       "Pump          2534\n",
       "Name: count, dtype: int64"
      ]
     },
     "execution_count": 49,
     "metadata": {},
     "output_type": "execute_result"
    }
   ],
   "execution_count": 49
  },
  {
   "metadata": {
    "ExecuteTime": {
     "end_time": "2025-02-06T20:04:25.678619Z",
     "start_time": "2025-02-06T20:04:25.655034Z"
    }
   },
   "cell_type": "code",
   "source": "df['location'].value_counts()",
   "id": "ecd2eddfc8804008",
   "outputs": [
    {
     "data": {
      "text/plain": [
       "location\n",
       "Atlanta          1564\n",
       "Chicago          1553\n",
       "Houston          1548\n",
       "New York         1526\n",
       "San Francisco    1481\n",
       "Name: count, dtype: int64"
      ]
     },
     "execution_count": 50,
     "metadata": {},
     "output_type": "execute_result"
    }
   ],
   "execution_count": 50
  },
  {
   "metadata": {
    "ExecuteTime": {
     "end_time": "2025-02-06T20:04:25.909897Z",
     "start_time": "2025-02-06T20:04:25.886016Z"
    }
   },
   "cell_type": "code",
   "source": "df['faulty'].value_counts()",
   "id": "ae622f3567ee56b6",
   "outputs": [
    {
     "data": {
      "text/plain": [
       "faulty\n",
       "0.0    6905\n",
       "1.0     767\n",
       "Name: count, dtype: int64"
      ]
     },
     "execution_count": 51,
     "metadata": {},
     "output_type": "execute_result"
    }
   ],
   "execution_count": 51
  },
  {
   "metadata": {},
   "cell_type": "markdown",
   "source": "De acuerdo con la ingeniería de características realizaremos `OneHotEncoder` para `equipment` y para `location`, en el caso de `faulty` necesitaremos realizar resample porque hay demasiados defectuosos en comparación con los que no",
   "id": "5006378509744e1"
  },
  {
   "metadata": {},
   "cell_type": "markdown",
   "source": "### 5. Ingeniería de características",
   "id": "a9a3c3da2fbd67c3"
  },
  {
   "metadata": {
    "ExecuteTime": {
     "end_time": "2025-02-06T20:04:26.312425Z",
     "start_time": "2025-02-06T20:04:26.274929Z"
    }
   },
   "cell_type": "code",
   "source": [
    "# Instanciar OneHotEncoder\n",
    "encoder = OneHotEncoder(sparse_output=False)  # Crea un array en vez de una matriz\n",
    "\n",
    "# Aplicar el encoder a las columnas categóricas\n",
    "categoricas = ['location', 'equipment']\n",
    "valores = encoder.fit_transform(df[categoricas])\n",
    "\n",
    "# Crear un DataFrame con los valores codificados\n",
    "columnas_codificadas = encoder.get_feature_names_out(categoricas)\n",
    "df_codificado = pd.DataFrame(valores, columns=columnas_codificadas, index=df.index)\n",
    "\n",
    "# Concatenar el DataFrame original con las columnas codificadas\n",
    "df = pd.concat([df.drop(columns=categoricas, axis=1), df_codificado], axis=1)"
   ],
   "id": "29153a9abbfad498",
   "outputs": [],
   "execution_count": 52
  },
  {
   "metadata": {
    "ExecuteTime": {
     "end_time": "2025-02-06T20:04:26.615404Z",
     "start_time": "2025-02-06T20:04:26.589216Z"
    }
   },
   "cell_type": "code",
   "source": "df.head()",
   "id": "5bc7e5d7f1e08a3",
   "outputs": [
    {
     "data": {
      "text/plain": [
       "   temperature   pressure  vibration   humidity  faulty  location_Atlanta  \\\n",
       "0    58.180180  25.029278   0.606516  45.694907     0.0               1.0   \n",
       "1    75.740712  22.954018   2.338095  41.867407     0.0               0.0   \n",
       "2    71.358594  27.276830   1.389198  58.954409     0.0               0.0   \n",
       "3    71.616985  32.242921   1.770690  40.565138     0.0               1.0   \n",
       "4    66.506832  45.197471   0.345398  43.253795     0.0               0.0   \n",
       "\n",
       "   location_Chicago  location_Houston  location_New York  \\\n",
       "0               0.0               0.0                0.0   \n",
       "1               1.0               0.0                0.0   \n",
       "2               0.0               0.0                0.0   \n",
       "3               0.0               0.0                0.0   \n",
       "4               0.0               0.0                1.0   \n",
       "\n",
       "   location_San Francisco  equipment_Compressor  equipment_Pump  \\\n",
       "0                     0.0                   0.0             0.0   \n",
       "1                     0.0                   1.0             0.0   \n",
       "2                     1.0                   0.0             0.0   \n",
       "3                     0.0                   0.0             1.0   \n",
       "4                     0.0                   0.0             1.0   \n",
       "\n",
       "   equipment_Turbine  \n",
       "0                1.0  \n",
       "1                0.0  \n",
       "2                1.0  \n",
       "3                0.0  \n",
       "4                0.0  "
      ],
      "text/html": [
       "<div>\n",
       "<style scoped>\n",
       "    .dataframe tbody tr th:only-of-type {\n",
       "        vertical-align: middle;\n",
       "    }\n",
       "\n",
       "    .dataframe tbody tr th {\n",
       "        vertical-align: top;\n",
       "    }\n",
       "\n",
       "    .dataframe thead th {\n",
       "        text-align: right;\n",
       "    }\n",
       "</style>\n",
       "<table border=\"1\" class=\"dataframe\">\n",
       "  <thead>\n",
       "    <tr style=\"text-align: right;\">\n",
       "      <th></th>\n",
       "      <th>temperature</th>\n",
       "      <th>pressure</th>\n",
       "      <th>vibration</th>\n",
       "      <th>humidity</th>\n",
       "      <th>faulty</th>\n",
       "      <th>location_Atlanta</th>\n",
       "      <th>location_Chicago</th>\n",
       "      <th>location_Houston</th>\n",
       "      <th>location_New York</th>\n",
       "      <th>location_San Francisco</th>\n",
       "      <th>equipment_Compressor</th>\n",
       "      <th>equipment_Pump</th>\n",
       "      <th>equipment_Turbine</th>\n",
       "    </tr>\n",
       "  </thead>\n",
       "  <tbody>\n",
       "    <tr>\n",
       "      <th>0</th>\n",
       "      <td>58.180180</td>\n",
       "      <td>25.029278</td>\n",
       "      <td>0.606516</td>\n",
       "      <td>45.694907</td>\n",
       "      <td>0.0</td>\n",
       "      <td>1.0</td>\n",
       "      <td>0.0</td>\n",
       "      <td>0.0</td>\n",
       "      <td>0.0</td>\n",
       "      <td>0.0</td>\n",
       "      <td>0.0</td>\n",
       "      <td>0.0</td>\n",
       "      <td>1.0</td>\n",
       "    </tr>\n",
       "    <tr>\n",
       "      <th>1</th>\n",
       "      <td>75.740712</td>\n",
       "      <td>22.954018</td>\n",
       "      <td>2.338095</td>\n",
       "      <td>41.867407</td>\n",
       "      <td>0.0</td>\n",
       "      <td>0.0</td>\n",
       "      <td>1.0</td>\n",
       "      <td>0.0</td>\n",
       "      <td>0.0</td>\n",
       "      <td>0.0</td>\n",
       "      <td>1.0</td>\n",
       "      <td>0.0</td>\n",
       "      <td>0.0</td>\n",
       "    </tr>\n",
       "    <tr>\n",
       "      <th>2</th>\n",
       "      <td>71.358594</td>\n",
       "      <td>27.276830</td>\n",
       "      <td>1.389198</td>\n",
       "      <td>58.954409</td>\n",
       "      <td>0.0</td>\n",
       "      <td>0.0</td>\n",
       "      <td>0.0</td>\n",
       "      <td>0.0</td>\n",
       "      <td>0.0</td>\n",
       "      <td>1.0</td>\n",
       "      <td>0.0</td>\n",
       "      <td>0.0</td>\n",
       "      <td>1.0</td>\n",
       "    </tr>\n",
       "    <tr>\n",
       "      <th>3</th>\n",
       "      <td>71.616985</td>\n",
       "      <td>32.242921</td>\n",
       "      <td>1.770690</td>\n",
       "      <td>40.565138</td>\n",
       "      <td>0.0</td>\n",
       "      <td>1.0</td>\n",
       "      <td>0.0</td>\n",
       "      <td>0.0</td>\n",
       "      <td>0.0</td>\n",
       "      <td>0.0</td>\n",
       "      <td>0.0</td>\n",
       "      <td>1.0</td>\n",
       "      <td>0.0</td>\n",
       "    </tr>\n",
       "    <tr>\n",
       "      <th>4</th>\n",
       "      <td>66.506832</td>\n",
       "      <td>45.197471</td>\n",
       "      <td>0.345398</td>\n",
       "      <td>43.253795</td>\n",
       "      <td>0.0</td>\n",
       "      <td>0.0</td>\n",
       "      <td>0.0</td>\n",
       "      <td>0.0</td>\n",
       "      <td>1.0</td>\n",
       "      <td>0.0</td>\n",
       "      <td>0.0</td>\n",
       "      <td>1.0</td>\n",
       "      <td>0.0</td>\n",
       "    </tr>\n",
       "  </tbody>\n",
       "</table>\n",
       "</div>"
      ]
     },
     "execution_count": 53,
     "metadata": {},
     "output_type": "execute_result"
    }
   ],
   "execution_count": 53
  },
  {
   "metadata": {
    "ExecuteTime": {
     "end_time": "2025-02-06T20:04:26.853821Z",
     "start_time": "2025-02-06T20:04:26.847435Z"
    }
   },
   "cell_type": "code",
   "source": "df.shape",
   "id": "e34cf84eb9cc9677",
   "outputs": [
    {
     "data": {
      "text/plain": [
       "(7672, 13)"
      ]
     },
     "execution_count": 54,
     "metadata": {},
     "output_type": "execute_result"
    }
   ],
   "execution_count": 54
  },
  {
   "metadata": {
    "ExecuteTime": {
     "end_time": "2025-02-06T20:04:27.011482Z",
     "start_time": "2025-02-06T20:04:26.998913Z"
    }
   },
   "cell_type": "code",
   "source": [
    "# # Nos interesan los cuartiles del 25% y 75%\n",
    "# categorias = ['temperature', 'pressure', 'vibration', 'humidity']\n",
    "# Q1, Q3 = np.percentile(df['temperature'], [25, 75])\n",
    "# IQR = Q3 - Q1\n",
    "# outliers = []\n",
    "# for elemento in df['temperature']:\n",
    "#  if elemento < (Q1 - 1.5 * IQR) or elemento > (Q3 + 1.5 * IQR):\n",
    "#   outliers.append(elemento)\n",
    "# outliers"
   ],
   "id": "901f9490ec97abaf",
   "outputs": [],
   "execution_count": 55
  },
  {
   "metadata": {
    "ExecuteTime": {
     "end_time": "2025-02-06T20:04:27.212431Z",
     "start_time": "2025-02-06T20:04:27.203032Z"
    }
   },
   "cell_type": "code",
   "source": [
    "# df = df[~df['temperature'].isin(outliers)]\n",
    "# df.shape"
   ],
   "id": "f040850c917a3ee1",
   "outputs": [],
   "execution_count": 56
  },
  {
   "metadata": {
    "ExecuteTime": {
     "end_time": "2025-02-06T20:04:27.271687Z",
     "start_time": "2025-02-06T20:04:27.265115Z"
    }
   },
   "cell_type": "code",
   "source": [
    "# Q1, Q3 = np.percentile(df['pressure'], [25, 75])\n",
    "# IQR = Q3 - Q1\n",
    "# outliers2 = []\n",
    "# for elemento in df['pressure']:\n",
    "#  if elemento < (Q1 - 1.5 * IQR) or elemento > (Q3 + 1.5 * IQR):\n",
    "#   outliers2.append(elemento)\n",
    "# outliers2"
   ],
   "id": "6a0849fabd48e627",
   "outputs": [],
   "execution_count": 57
  },
  {
   "metadata": {
    "ExecuteTime": {
     "end_time": "2025-02-06T20:04:27.453592Z",
     "start_time": "2025-02-06T20:04:27.433988Z"
    }
   },
   "cell_type": "code",
   "source": [
    "# df = df[~df['pressure'].isin(outliers2)]\n",
    "# df.shape"
   ],
   "id": "f99f6bd6bc350ab6",
   "outputs": [],
   "execution_count": 58
  },
  {
   "metadata": {
    "ExecuteTime": {
     "end_time": "2025-02-06T20:04:27.542609Z",
     "start_time": "2025-02-06T20:04:27.530028Z"
    }
   },
   "cell_type": "code",
   "source": [
    "# Q1, Q3 = np.percentile(df['vibration'], [25, 75])\n",
    "# IQR = Q3 - Q1\n",
    "# outliers2 = []\n",
    "# for elemento in df['vibration']:\n",
    "#  if elemento < (Q1 - 1.5 * IQR) or elemento > (Q3 + 1.5 * IQR):\n",
    "#   outliers2.append(elemento)\n",
    "# outliers2"
   ],
   "id": "bde5fb1a4c6c545c",
   "outputs": [],
   "execution_count": 59
  },
  {
   "metadata": {
    "ExecuteTime": {
     "end_time": "2025-02-06T20:04:27.578598Z",
     "start_time": "2025-02-06T20:04:27.557244Z"
    }
   },
   "cell_type": "code",
   "source": [
    "# df = df[~df['vibration'].isin(outliers2)]\n",
    "# df.shape"
   ],
   "id": "a129d4ec634a403e",
   "outputs": [],
   "execution_count": 60
  },
  {
   "metadata": {
    "ExecuteTime": {
     "end_time": "2025-02-06T20:04:27.665629Z",
     "start_time": "2025-02-06T20:04:27.645937Z"
    }
   },
   "cell_type": "code",
   "source": [
    "# Q1, Q3 = np.percentile(df['humidity'], [25, 75])\n",
    "# IQR = Q3 - Q1\n",
    "# outliers2 = []\n",
    "# for elemento in df['humidity']:\n",
    "#  if elemento < (Q1 - 1.5 * IQR) or elemento > (Q3 + 1.5 * IQR):\n",
    "#   outliers2.append(elemento)\n",
    "# outliers2"
   ],
   "id": "81198a6cad69d221",
   "outputs": [],
   "execution_count": 61
  },
  {
   "metadata": {
    "ExecuteTime": {
     "end_time": "2025-02-06T20:04:27.747162Z",
     "start_time": "2025-02-06T20:04:27.733357Z"
    }
   },
   "cell_type": "code",
   "source": [
    "# df = df[~df['humidity'].isin(outliers2)]\n",
    "# df.shape"
   ],
   "id": "d1ae86bf4ecd0bb",
   "outputs": [],
   "execution_count": 62
  },
  {
   "metadata": {},
   "cell_type": "markdown",
   "source": "Aplicando el rango intercuartílico hemos eliminado los outliers de las variables numericas, pero si recordamos la visaulización del prinicpio hemos visto que la variable objetivo tiene muchos datos de la clase 0 y muy pocos de la 1, vamos a reajustar este inconveniente",
   "id": "217238131eda36f5"
  },
  {
   "metadata": {
    "ExecuteTime": {
     "end_time": "2025-02-06T20:04:27.814044Z",
     "start_time": "2025-02-06T20:04:27.796261Z"
    }
   },
   "cell_type": "code",
   "source": [
    "# # Supongamos que separamos clases mayoritaria y minoritaria\n",
    "# df_major = df[df['faulty'] == 0]\n",
    "# df_minor = df[df['faulty'] == 1]\n",
    "# # Ahora hacemos oversampling de la clase minoritaria\n",
    "# df_minor_oversampled = resample(df_minor,\n",
    "# replace=True,n_samples=len(df_major), random_state=42)\n",
    "# # Combinar las clases\n",
    "# df_balanced = pd.concat([df_major, df_minor_oversampled])"
   ],
   "id": "7bfe0da6217008b4",
   "outputs": [],
   "execution_count": 63
  },
  {
   "metadata": {
    "ExecuteTime": {
     "end_time": "2025-02-06T20:04:27.939849Z",
     "start_time": "2025-02-06T20:04:27.916144Z"
    }
   },
   "cell_type": "code",
   "source": "# plt.hist(df_balanced['faulty'])",
   "id": "54ef145c0ed51283",
   "outputs": [],
   "execution_count": 64
  },
  {
   "metadata": {},
   "cell_type": "markdown",
   "source": "Después de aplicar `resample` se puede apreciar que las clases están equilibradas, a continuación se procederá al entrenamiento del modelo",
   "id": "51cdccf1e96ef953"
  },
  {
   "metadata": {},
   "cell_type": "markdown",
   "source": "### 6. Entrenamiento del modelo",
   "id": "63f3721de9e765d8"
  },
  {
   "metadata": {},
   "cell_type": "markdown",
   "source": "Primero se escalará el dataframe ya que es de obligado cumplimiento para una red neuronal a diferencia de cualquier modelo de ML",
   "id": "7af03319d6ca4489"
  },
  {
   "metadata": {
    "ExecuteTime": {
     "end_time": "2025-02-06T20:04:27.989213Z",
     "start_time": "2025-02-06T20:04:27.948260Z"
    }
   },
   "cell_type": "code",
   "source": [
    "X = df.drop('faulty',axis=1)\n",
    "y = df['faulty']\n",
    "scaler = StandardScaler()\n",
    "X = scaler.fit_transform(X)\n",
    "X_train, X_test, y_train, y_test = train_test_split(X, y, test_size=0.2, random_state=42)"
   ],
   "id": "b75d3903739cb692",
   "outputs": [],
   "execution_count": 65
  },
  {
   "metadata": {},
   "cell_type": "markdown",
   "source": "Creamos la red neuronal con 3 capas ocultas, todas de activación `relu` y un `Dropout` del 0.5 y 0.3 respectivamente por la reducción de capas ocultas a medida que el entrenamiento avanza",
   "id": "e4bb420d98409ef8"
  },
  {
   "metadata": {
    "ExecuteTime": {
     "end_time": "2025-02-06T20:04:28.207598Z",
     "start_time": "2025-02-06T20:04:28.085432Z"
    }
   },
   "cell_type": "code",
   "source": [
    "# Creamos el modelo de red neuronal\n",
    "early_stopping = EarlyStopping(monitor='val_loss', patience=5)\n",
    "model = Sequential([\n",
    " Input(shape=(X_train.shape[1],)), # Definir forma de la entrada\n",
    "    Dense(32, activation='relu'), # 1a capa oculta\n",
    "    Dropout(0.5),\n",
    "    Dense(16, activation='relu'), # 1a capa oculta\n",
    "    Dropout(0.3),\n",
    "    Dense(8, activation='relu'), # 2a capa oculta\n",
    "    Dense(1, activation='sigmoid') # Salida\n",
    "])\n",
    "model.compile(optimizer='adam',loss='binary_crossentropy',metrics=['accuracy'])\n",
    "# Mostramos configuración\n",
    "model.summary()"
   ],
   "id": "c179c69b3bd732d0",
   "outputs": [
    {
     "data": {
      "text/plain": [
       "\u001B[1mModel: \"sequential_13\"\u001B[0m\n"
      ],
      "text/html": [
       "<pre style=\"white-space:pre;overflow-x:auto;line-height:normal;font-family:Menlo,'DejaVu Sans Mono',consolas,'Courier New',monospace\"><span style=\"font-weight: bold\">Model: \"sequential_13\"</span>\n",
       "</pre>\n"
      ]
     },
     "metadata": {},
     "output_type": "display_data"
    },
    {
     "data": {
      "text/plain": [
       "┏━━━━━━━━━━━━━━━━━━━━━━━━━━━━━━━━━┳━━━━━━━━━━━━━━━━━━━━━━━━┳━━━━━━━━━━━━━━━┓\n",
       "┃\u001B[1m \u001B[0m\u001B[1mLayer (type)                   \u001B[0m\u001B[1m \u001B[0m┃\u001B[1m \u001B[0m\u001B[1mOutput Shape          \u001B[0m\u001B[1m \u001B[0m┃\u001B[1m \u001B[0m\u001B[1m      Param #\u001B[0m\u001B[1m \u001B[0m┃\n",
       "┡━━━━━━━━━━━━━━━━━━━━━━━━━━━━━━━━━╇━━━━━━━━━━━━━━━━━━━━━━━━╇━━━━━━━━━━━━━━━┩\n",
       "│ dense_28 (\u001B[38;5;33mDense\u001B[0m)                │ (\u001B[38;5;45mNone\u001B[0m, \u001B[38;5;34m32\u001B[0m)             │           \u001B[38;5;34m416\u001B[0m │\n",
       "├─────────────────────────────────┼────────────────────────┼───────────────┤\n",
       "│ dropout_2 (\u001B[38;5;33mDropout\u001B[0m)             │ (\u001B[38;5;45mNone\u001B[0m, \u001B[38;5;34m32\u001B[0m)             │             \u001B[38;5;34m0\u001B[0m │\n",
       "├─────────────────────────────────┼────────────────────────┼───────────────┤\n",
       "│ dense_29 (\u001B[38;5;33mDense\u001B[0m)                │ (\u001B[38;5;45mNone\u001B[0m, \u001B[38;5;34m16\u001B[0m)             │           \u001B[38;5;34m528\u001B[0m │\n",
       "├─────────────────────────────────┼────────────────────────┼───────────────┤\n",
       "│ dropout_3 (\u001B[38;5;33mDropout\u001B[0m)             │ (\u001B[38;5;45mNone\u001B[0m, \u001B[38;5;34m16\u001B[0m)             │             \u001B[38;5;34m0\u001B[0m │\n",
       "├─────────────────────────────────┼────────────────────────┼───────────────┤\n",
       "│ dense_30 (\u001B[38;5;33mDense\u001B[0m)                │ (\u001B[38;5;45mNone\u001B[0m, \u001B[38;5;34m8\u001B[0m)              │           \u001B[38;5;34m136\u001B[0m │\n",
       "├─────────────────────────────────┼────────────────────────┼───────────────┤\n",
       "│ dense_31 (\u001B[38;5;33mDense\u001B[0m)                │ (\u001B[38;5;45mNone\u001B[0m, \u001B[38;5;34m1\u001B[0m)              │             \u001B[38;5;34m9\u001B[0m │\n",
       "└─────────────────────────────────┴────────────────────────┴───────────────┘\n"
      ],
      "text/html": [
       "<pre style=\"white-space:pre;overflow-x:auto;line-height:normal;font-family:Menlo,'DejaVu Sans Mono',consolas,'Courier New',monospace\">┏━━━━━━━━━━━━━━━━━━━━━━━━━━━━━━━━━┳━━━━━━━━━━━━━━━━━━━━━━━━┳━━━━━━━━━━━━━━━┓\n",
       "┃<span style=\"font-weight: bold\"> Layer (type)                    </span>┃<span style=\"font-weight: bold\"> Output Shape           </span>┃<span style=\"font-weight: bold\">       Param # </span>┃\n",
       "┡━━━━━━━━━━━━━━━━━━━━━━━━━━━━━━━━━╇━━━━━━━━━━━━━━━━━━━━━━━━╇━━━━━━━━━━━━━━━┩\n",
       "│ dense_28 (<span style=\"color: #0087ff; text-decoration-color: #0087ff\">Dense</span>)                │ (<span style=\"color: #00d7ff; text-decoration-color: #00d7ff\">None</span>, <span style=\"color: #00af00; text-decoration-color: #00af00\">32</span>)             │           <span style=\"color: #00af00; text-decoration-color: #00af00\">416</span> │\n",
       "├─────────────────────────────────┼────────────────────────┼───────────────┤\n",
       "│ dropout_2 (<span style=\"color: #0087ff; text-decoration-color: #0087ff\">Dropout</span>)             │ (<span style=\"color: #00d7ff; text-decoration-color: #00d7ff\">None</span>, <span style=\"color: #00af00; text-decoration-color: #00af00\">32</span>)             │             <span style=\"color: #00af00; text-decoration-color: #00af00\">0</span> │\n",
       "├─────────────────────────────────┼────────────────────────┼───────────────┤\n",
       "│ dense_29 (<span style=\"color: #0087ff; text-decoration-color: #0087ff\">Dense</span>)                │ (<span style=\"color: #00d7ff; text-decoration-color: #00d7ff\">None</span>, <span style=\"color: #00af00; text-decoration-color: #00af00\">16</span>)             │           <span style=\"color: #00af00; text-decoration-color: #00af00\">528</span> │\n",
       "├─────────────────────────────────┼────────────────────────┼───────────────┤\n",
       "│ dropout_3 (<span style=\"color: #0087ff; text-decoration-color: #0087ff\">Dropout</span>)             │ (<span style=\"color: #00d7ff; text-decoration-color: #00d7ff\">None</span>, <span style=\"color: #00af00; text-decoration-color: #00af00\">16</span>)             │             <span style=\"color: #00af00; text-decoration-color: #00af00\">0</span> │\n",
       "├─────────────────────────────────┼────────────────────────┼───────────────┤\n",
       "│ dense_30 (<span style=\"color: #0087ff; text-decoration-color: #0087ff\">Dense</span>)                │ (<span style=\"color: #00d7ff; text-decoration-color: #00d7ff\">None</span>, <span style=\"color: #00af00; text-decoration-color: #00af00\">8</span>)              │           <span style=\"color: #00af00; text-decoration-color: #00af00\">136</span> │\n",
       "├─────────────────────────────────┼────────────────────────┼───────────────┤\n",
       "│ dense_31 (<span style=\"color: #0087ff; text-decoration-color: #0087ff\">Dense</span>)                │ (<span style=\"color: #00d7ff; text-decoration-color: #00d7ff\">None</span>, <span style=\"color: #00af00; text-decoration-color: #00af00\">1</span>)              │             <span style=\"color: #00af00; text-decoration-color: #00af00\">9</span> │\n",
       "└─────────────────────────────────┴────────────────────────┴───────────────┘\n",
       "</pre>\n"
      ]
     },
     "metadata": {},
     "output_type": "display_data"
    },
    {
     "data": {
      "text/plain": [
       "\u001B[1m Total params: \u001B[0m\u001B[38;5;34m1,089\u001B[0m (4.25 KB)\n"
      ],
      "text/html": [
       "<pre style=\"white-space:pre;overflow-x:auto;line-height:normal;font-family:Menlo,'DejaVu Sans Mono',consolas,'Courier New',monospace\"><span style=\"font-weight: bold\"> Total params: </span><span style=\"color: #00af00; text-decoration-color: #00af00\">1,089</span> (4.25 KB)\n",
       "</pre>\n"
      ]
     },
     "metadata": {},
     "output_type": "display_data"
    },
    {
     "data": {
      "text/plain": [
       "\u001B[1m Trainable params: \u001B[0m\u001B[38;5;34m1,089\u001B[0m (4.25 KB)\n"
      ],
      "text/html": [
       "<pre style=\"white-space:pre;overflow-x:auto;line-height:normal;font-family:Menlo,'DejaVu Sans Mono',consolas,'Courier New',monospace\"><span style=\"font-weight: bold\"> Trainable params: </span><span style=\"color: #00af00; text-decoration-color: #00af00\">1,089</span> (4.25 KB)\n",
       "</pre>\n"
      ]
     },
     "metadata": {},
     "output_type": "display_data"
    },
    {
     "data": {
      "text/plain": [
       "\u001B[1m Non-trainable params: \u001B[0m\u001B[38;5;34m0\u001B[0m (0.00 B)\n"
      ],
      "text/html": [
       "<pre style=\"white-space:pre;overflow-x:auto;line-height:normal;font-family:Menlo,'DejaVu Sans Mono',consolas,'Courier New',monospace\"><span style=\"font-weight: bold\"> Non-trainable params: </span><span style=\"color: #00af00; text-decoration-color: #00af00\">0</span> (0.00 B)\n",
       "</pre>\n"
      ]
     },
     "metadata": {},
     "output_type": "display_data"
    }
   ],
   "execution_count": 66
  },
  {
   "metadata": {
    "ExecuteTime": {
     "end_time": "2025-02-06T20:04:54.601499Z",
     "start_time": "2025-02-06T20:04:28.306600Z"
    }
   },
   "cell_type": "code",
   "source": "history = model.fit(X_train, y_train, epochs=50, batch_size=32, validation_split=0.2, verbose=1, callbacks=[early_stopping])",
   "id": "8f2d5a79fc9e6e29",
   "outputs": [
    {
     "name": "stdout",
     "output_type": "stream",
     "text": [
      "Epoch 1/50\n",
      "\u001B[1m154/154\u001B[0m \u001B[32m━━━━━━━━━━━━━━━━━━━━\u001B[0m\u001B[37m\u001B[0m \u001B[1m2s\u001B[0m 5ms/step - accuracy: 0.5295 - loss: 0.7371 - val_accuracy: 0.8974 - val_loss: 0.3577\n",
      "Epoch 2/50\n",
      "\u001B[1m154/154\u001B[0m \u001B[32m━━━━━━━━━━━━━━━━━━━━\u001B[0m\u001B[37m\u001B[0m \u001B[1m1s\u001B[0m 3ms/step - accuracy: 0.9064 - loss: 0.3808 - val_accuracy: 0.8974 - val_loss: 0.2809\n",
      "Epoch 3/50\n",
      "\u001B[1m154/154\u001B[0m \u001B[32m━━━━━━━━━━━━━━━━━━━━\u001B[0m\u001B[37m\u001B[0m \u001B[1m1s\u001B[0m 3ms/step - accuracy: 0.9026 - loss: 0.3230 - val_accuracy: 0.9007 - val_loss: 0.2457\n",
      "Epoch 4/50\n",
      "\u001B[1m154/154\u001B[0m \u001B[32m━━━━━━━━━━━━━━━━━━━━\u001B[0m\u001B[37m\u001B[0m \u001B[1m1s\u001B[0m 3ms/step - accuracy: 0.9198 - loss: 0.2657 - val_accuracy: 0.9292 - val_loss: 0.2108\n",
      "Epoch 5/50\n",
      "\u001B[1m154/154\u001B[0m \u001B[32m━━━━━━━━━━━━━━━━━━━━\u001B[0m\u001B[37m\u001B[0m \u001B[1m0s\u001B[0m 3ms/step - accuracy: 0.9221 - loss: 0.2611 - val_accuracy: 0.9406 - val_loss: 0.1843\n",
      "Epoch 6/50\n",
      "\u001B[1m154/154\u001B[0m \u001B[32m━━━━━━━━━━━━━━━━━━━━\u001B[0m\u001B[37m\u001B[0m \u001B[1m0s\u001B[0m 3ms/step - accuracy: 0.9339 - loss: 0.2242 - val_accuracy: 0.9520 - val_loss: 0.1604\n",
      "Epoch 7/50\n",
      "\u001B[1m154/154\u001B[0m \u001B[32m━━━━━━━━━━━━━━━━━━━━\u001B[0m\u001B[37m\u001B[0m \u001B[1m0s\u001B[0m 3ms/step - accuracy: 0.9376 - loss: 0.2036 - val_accuracy: 0.9544 - val_loss: 0.1503\n",
      "Epoch 8/50\n",
      "\u001B[1m154/154\u001B[0m \u001B[32m━━━━━━━━━━━━━━━━━━━━\u001B[0m\u001B[37m\u001B[0m \u001B[1m1s\u001B[0m 3ms/step - accuracy: 0.9411 - loss: 0.2056 - val_accuracy: 0.9585 - val_loss: 0.1377\n",
      "Epoch 9/50\n",
      "\u001B[1m154/154\u001B[0m \u001B[32m━━━━━━━━━━━━━━━━━━━━\u001B[0m\u001B[37m\u001B[0m \u001B[1m1s\u001B[0m 3ms/step - accuracy: 0.9483 - loss: 0.1808 - val_accuracy: 0.9601 - val_loss: 0.1243\n",
      "Epoch 10/50\n",
      "\u001B[1m154/154\u001B[0m \u001B[32m━━━━━━━━━━━━━━━━━━━━\u001B[0m\u001B[37m\u001B[0m \u001B[1m1s\u001B[0m 3ms/step - accuracy: 0.9497 - loss: 0.1724 - val_accuracy: 0.9650 - val_loss: 0.1152\n",
      "Epoch 11/50\n",
      "\u001B[1m154/154\u001B[0m \u001B[32m━━━━━━━━━━━━━━━━━━━━\u001B[0m\u001B[37m\u001B[0m \u001B[1m1s\u001B[0m 3ms/step - accuracy: 0.9576 - loss: 0.1470 - val_accuracy: 0.9691 - val_loss: 0.1060\n",
      "Epoch 12/50\n",
      "\u001B[1m154/154\u001B[0m \u001B[32m━━━━━━━━━━━━━━━━━━━━\u001B[0m\u001B[37m\u001B[0m \u001B[1m1s\u001B[0m 3ms/step - accuracy: 0.9543 - loss: 0.1510 - val_accuracy: 0.9723 - val_loss: 0.0986\n",
      "Epoch 13/50\n",
      "\u001B[1m154/154\u001B[0m \u001B[32m━━━━━━━━━━━━━━━━━━━━\u001B[0m\u001B[37m\u001B[0m \u001B[1m0s\u001B[0m 3ms/step - accuracy: 0.9522 - loss: 0.1587 - val_accuracy: 0.9731 - val_loss: 0.0960\n",
      "Epoch 14/50\n",
      "\u001B[1m154/154\u001B[0m \u001B[32m━━━━━━━━━━━━━━━━━━━━\u001B[0m\u001B[37m\u001B[0m \u001B[1m1s\u001B[0m 3ms/step - accuracy: 0.9527 - loss: 0.1559 - val_accuracy: 0.9731 - val_loss: 0.0938\n",
      "Epoch 15/50\n",
      "\u001B[1m154/154\u001B[0m \u001B[32m━━━━━━━━━━━━━━━━━━━━\u001B[0m\u001B[37m\u001B[0m \u001B[1m0s\u001B[0m 3ms/step - accuracy: 0.9561 - loss: 0.1433 - val_accuracy: 0.9739 - val_loss: 0.0884\n",
      "Epoch 16/50\n",
      "\u001B[1m154/154\u001B[0m \u001B[32m━━━━━━━━━━━━━━━━━━━━\u001B[0m\u001B[37m\u001B[0m \u001B[1m1s\u001B[0m 3ms/step - accuracy: 0.9581 - loss: 0.1448 - val_accuracy: 0.9739 - val_loss: 0.0883\n",
      "Epoch 17/50\n",
      "\u001B[1m154/154\u001B[0m \u001B[32m━━━━━━━━━━━━━━━━━━━━\u001B[0m\u001B[37m\u001B[0m \u001B[1m0s\u001B[0m 3ms/step - accuracy: 0.9613 - loss: 0.1254 - val_accuracy: 0.9739 - val_loss: 0.0882\n",
      "Epoch 18/50\n",
      "\u001B[1m154/154\u001B[0m \u001B[32m━━━━━━━━━━━━━━━━━━━━\u001B[0m\u001B[37m\u001B[0m \u001B[1m1s\u001B[0m 3ms/step - accuracy: 0.9597 - loss: 0.1385 - val_accuracy: 0.9731 - val_loss: 0.0872\n",
      "Epoch 19/50\n",
      "\u001B[1m154/154\u001B[0m \u001B[32m━━━━━━━━━━━━━━━━━━━━\u001B[0m\u001B[37m\u001B[0m \u001B[1m0s\u001B[0m 3ms/step - accuracy: 0.9627 - loss: 0.1274 - val_accuracy: 0.9764 - val_loss: 0.0862\n",
      "Epoch 20/50\n",
      "\u001B[1m154/154\u001B[0m \u001B[32m━━━━━━━━━━━━━━━━━━━━\u001B[0m\u001B[37m\u001B[0m \u001B[1m1s\u001B[0m 3ms/step - accuracy: 0.9670 - loss: 0.1145 - val_accuracy: 0.9748 - val_loss: 0.0834\n",
      "Epoch 21/50\n",
      "\u001B[1m154/154\u001B[0m \u001B[32m━━━━━━━━━━━━━━━━━━━━\u001B[0m\u001B[37m\u001B[0m \u001B[1m1s\u001B[0m 3ms/step - accuracy: 0.9636 - loss: 0.1162 - val_accuracy: 0.9756 - val_loss: 0.0849\n",
      "Epoch 22/50\n",
      "\u001B[1m154/154\u001B[0m \u001B[32m━━━━━━━━━━━━━━━━━━━━\u001B[0m\u001B[37m\u001B[0m \u001B[1m0s\u001B[0m 3ms/step - accuracy: 0.9673 - loss: 0.1123 - val_accuracy: 0.9764 - val_loss: 0.0839\n",
      "Epoch 23/50\n",
      "\u001B[1m154/154\u001B[0m \u001B[32m━━━━━━━━━━━━━━━━━━━━\u001B[0m\u001B[37m\u001B[0m \u001B[1m0s\u001B[0m 3ms/step - accuracy: 0.9648 - loss: 0.1228 - val_accuracy: 0.9780 - val_loss: 0.0815\n",
      "Epoch 24/50\n",
      "\u001B[1m154/154\u001B[0m \u001B[32m━━━━━━━━━━━━━━━━━━━━\u001B[0m\u001B[37m\u001B[0m \u001B[1m1s\u001B[0m 3ms/step - accuracy: 0.9656 - loss: 0.1080 - val_accuracy: 0.9780 - val_loss: 0.0793\n",
      "Epoch 25/50\n",
      "\u001B[1m154/154\u001B[0m \u001B[32m━━━━━━━━━━━━━━━━━━━━\u001B[0m\u001B[37m\u001B[0m \u001B[1m1s\u001B[0m 4ms/step - accuracy: 0.9681 - loss: 0.1073 - val_accuracy: 0.9788 - val_loss: 0.0795\n",
      "Epoch 26/50\n",
      "\u001B[1m154/154\u001B[0m \u001B[32m━━━━━━━━━━━━━━━━━━━━\u001B[0m\u001B[37m\u001B[0m \u001B[1m1s\u001B[0m 3ms/step - accuracy: 0.9676 - loss: 0.1056 - val_accuracy: 0.9772 - val_loss: 0.0796\n",
      "Epoch 27/50\n",
      "\u001B[1m154/154\u001B[0m \u001B[32m━━━━━━━━━━━━━━━━━━━━\u001B[0m\u001B[37m\u001B[0m \u001B[1m1s\u001B[0m 3ms/step - accuracy: 0.9687 - loss: 0.1104 - val_accuracy: 0.9796 - val_loss: 0.0784\n",
      "Epoch 28/50\n",
      "\u001B[1m154/154\u001B[0m \u001B[32m━━━━━━━━━━━━━━━━━━━━\u001B[0m\u001B[37m\u001B[0m \u001B[1m0s\u001B[0m 3ms/step - accuracy: 0.9709 - loss: 0.0998 - val_accuracy: 0.9796 - val_loss: 0.0756\n",
      "Epoch 29/50\n",
      "\u001B[1m154/154\u001B[0m \u001B[32m━━━━━━━━━━━━━━━━━━━━\u001B[0m\u001B[37m\u001B[0m \u001B[1m0s\u001B[0m 3ms/step - accuracy: 0.9692 - loss: 0.1119 - val_accuracy: 0.9796 - val_loss: 0.0778\n",
      "Epoch 30/50\n",
      "\u001B[1m154/154\u001B[0m \u001B[32m━━━━━━━━━━━━━━━━━━━━\u001B[0m\u001B[37m\u001B[0m \u001B[1m0s\u001B[0m 3ms/step - accuracy: 0.9679 - loss: 0.1142 - val_accuracy: 0.9821 - val_loss: 0.0767\n",
      "Epoch 31/50\n",
      "\u001B[1m154/154\u001B[0m \u001B[32m━━━━━━━━━━━━━━━━━━━━\u001B[0m\u001B[37m\u001B[0m \u001B[1m1s\u001B[0m 3ms/step - accuracy: 0.9726 - loss: 0.0903 - val_accuracy: 0.9829 - val_loss: 0.0741\n",
      "Epoch 32/50\n",
      "\u001B[1m154/154\u001B[0m \u001B[32m━━━━━━━━━━━━━━━━━━━━\u001B[0m\u001B[37m\u001B[0m \u001B[1m1s\u001B[0m 3ms/step - accuracy: 0.9648 - loss: 0.1144 - val_accuracy: 0.9805 - val_loss: 0.0743\n",
      "Epoch 33/50\n",
      "\u001B[1m154/154\u001B[0m \u001B[32m━━━━━━━━━━━━━━━━━━━━\u001B[0m\u001B[37m\u001B[0m \u001B[1m1s\u001B[0m 3ms/step - accuracy: 0.9684 - loss: 0.1072 - val_accuracy: 0.9821 - val_loss: 0.0750\n",
      "Epoch 34/50\n",
      "\u001B[1m154/154\u001B[0m \u001B[32m━━━━━━━━━━━━━━━━━━━━\u001B[0m\u001B[37m\u001B[0m \u001B[1m1s\u001B[0m 3ms/step - accuracy: 0.9675 - loss: 0.1064 - val_accuracy: 0.9813 - val_loss: 0.0737\n",
      "Epoch 35/50\n",
      "\u001B[1m154/154\u001B[0m \u001B[32m━━━━━━━━━━━━━━━━━━━━\u001B[0m\u001B[37m\u001B[0m \u001B[1m0s\u001B[0m 3ms/step - accuracy: 0.9647 - loss: 0.1140 - val_accuracy: 0.9796 - val_loss: 0.0753\n",
      "Epoch 36/50\n",
      "\u001B[1m154/154\u001B[0m \u001B[32m━━━━━━━━━━━━━━━━━━━━\u001B[0m\u001B[37m\u001B[0m \u001B[1m1s\u001B[0m 3ms/step - accuracy: 0.9738 - loss: 0.0961 - val_accuracy: 0.9813 - val_loss: 0.0751\n",
      "Epoch 37/50\n",
      "\u001B[1m154/154\u001B[0m \u001B[32m━━━━━━━━━━━━━━━━━━━━\u001B[0m\u001B[37m\u001B[0m \u001B[1m0s\u001B[0m 3ms/step - accuracy: 0.9705 - loss: 0.0991 - val_accuracy: 0.9821 - val_loss: 0.0738\n",
      "Epoch 38/50\n",
      "\u001B[1m154/154\u001B[0m \u001B[32m━━━━━━━━━━━━━━━━━━━━\u001B[0m\u001B[37m\u001B[0m \u001B[1m1s\u001B[0m 3ms/step - accuracy: 0.9732 - loss: 0.1006 - val_accuracy: 0.9821 - val_loss: 0.0730\n",
      "Epoch 39/50\n",
      "\u001B[1m154/154\u001B[0m \u001B[32m━━━━━━━━━━━━━━━━━━━━\u001B[0m\u001B[37m\u001B[0m \u001B[1m0s\u001B[0m 3ms/step - accuracy: 0.9765 - loss: 0.0862 - val_accuracy: 0.9829 - val_loss: 0.0732\n",
      "Epoch 40/50\n",
      "\u001B[1m154/154\u001B[0m \u001B[32m━━━━━━━━━━━━━━━━━━━━\u001B[0m\u001B[37m\u001B[0m \u001B[1m1s\u001B[0m 3ms/step - accuracy: 0.9626 - loss: 0.1167 - val_accuracy: 0.9813 - val_loss: 0.0755\n",
      "Epoch 41/50\n",
      "\u001B[1m154/154\u001B[0m \u001B[32m━━━━━━━━━━━━━━━━━━━━\u001B[0m\u001B[37m\u001B[0m \u001B[1m1s\u001B[0m 3ms/step - accuracy: 0.9751 - loss: 0.0927 - val_accuracy: 0.9813 - val_loss: 0.0731\n",
      "Epoch 42/50\n",
      "\u001B[1m154/154\u001B[0m \u001B[32m━━━━━━━━━━━━━━━━━━━━\u001B[0m\u001B[37m\u001B[0m \u001B[1m0s\u001B[0m 3ms/step - accuracy: 0.9707 - loss: 0.1016 - val_accuracy: 0.9813 - val_loss: 0.0729\n",
      "Epoch 43/50\n",
      "\u001B[1m154/154\u001B[0m \u001B[32m━━━━━━━━━━━━━━━━━━━━\u001B[0m\u001B[37m\u001B[0m \u001B[1m1s\u001B[0m 3ms/step - accuracy: 0.9737 - loss: 0.0888 - val_accuracy: 0.9805 - val_loss: 0.0734\n",
      "Epoch 44/50\n",
      "\u001B[1m154/154\u001B[0m \u001B[32m━━━━━━━━━━━━━━━━━━━━\u001B[0m\u001B[37m\u001B[0m \u001B[1m0s\u001B[0m 3ms/step - accuracy: 0.9725 - loss: 0.0945 - val_accuracy: 0.9805 - val_loss: 0.0748\n",
      "Epoch 45/50\n",
      "\u001B[1m154/154\u001B[0m \u001B[32m━━━━━━━━━━━━━━━━━━━━\u001B[0m\u001B[37m\u001B[0m \u001B[1m0s\u001B[0m 3ms/step - accuracy: 0.9800 - loss: 0.0731 - val_accuracy: 0.9796 - val_loss: 0.0745\n",
      "Epoch 46/50\n",
      "\u001B[1m154/154\u001B[0m \u001B[32m━━━━━━━━━━━━━━━━━━━━\u001B[0m\u001B[37m\u001B[0m \u001B[1m0s\u001B[0m 3ms/step - accuracy: 0.9761 - loss: 0.0815 - val_accuracy: 0.9796 - val_loss: 0.0746\n",
      "Epoch 47/50\n",
      "\u001B[1m154/154\u001B[0m \u001B[32m━━━━━━━━━━━━━━━━━━━━\u001B[0m\u001B[37m\u001B[0m \u001B[1m0s\u001B[0m 3ms/step - accuracy: 0.9755 - loss: 0.0826 - val_accuracy: 0.9813 - val_loss: 0.0751\n"
     ]
    }
   ],
   "execution_count": 67
  },
  {
   "metadata": {
    "ExecuteTime": {
     "end_time": "2025-02-06T20:04:55.286731Z",
     "start_time": "2025-02-06T20:04:54.637839Z"
    }
   },
   "cell_type": "code",
   "source": [
    "loss, accuracy = model.evaluate(X_test, y_test)\n",
    "print(f\"Pérdida: {loss}, Precisión: {accuracy}\")\n",
    "# Pérdida\n",
    "plt.plot(history.history['loss'], label='Pérdida (entrenamiento)')\n",
    "plt.plot(history.history['val_loss'], label='Pérdida (validación)')\n",
    "plt.xlabel('Épocas')\n",
    "plt.ylabel('Pérdida')\n",
    "plt.legend()\n",
    "plt.show()\n",
    "# Precisión\n",
    "plt.plot(history.history['accuracy'], label='Precisión(entrenamiento)')\n",
    "plt.plot(history.history['val_accuracy'], label='Precisión(validación)')\n",
    "plt.xlabel('Épocas')\n",
    "plt.ylabel('Precisión')\n",
    "plt.legend()\n",
    "plt.show()"
   ],
   "id": "e2b89c54aa3911df",
   "outputs": [
    {
     "name": "stdout",
     "output_type": "stream",
     "text": [
      "\u001B[1m48/48\u001B[0m \u001B[32m━━━━━━━━━━━━━━━━━━━━\u001B[0m\u001B[37m\u001B[0m \u001B[1m0s\u001B[0m 3ms/step - accuracy: 0.9813 - loss: 0.0698\n",
      "Pérdida: 0.0736502930521965, Precisión: 0.9804560542106628\n"
     ]
    },
    {
     "data": {
      "text/plain": [
       "<Figure size 640x480 with 1 Axes>"
      ],
      "image/png": "[encoded data removed]"
     },
     "metadata": {},
     "output_type": "display_data"
    },
    {
     "data": {
      "text/plain": [
       "<Figure size 640x480 with 1 Axes>"
      ],
      "image/png": "[encoded data removed]"
     },
     "metadata": {},
     "output_type": "display_data"
    }
   ],
   "execution_count": 68
  },
  {
   "metadata": {},
   "cell_type": "markdown",
   "source": "A primera vista de las gráficas se puede apreciar un claro overfitting del modelo, en el cuál no se distingue en absoluto una mejoría",
   "id": "91ac3a0aabd4a730"
  },
  {
   "metadata": {
    "ExecuteTime": {
     "end_time": "2025-02-06T20:04:56.028513Z",
     "start_time": "2025-02-06T20:04:55.348280Z"
    }
   },
   "cell_type": "code",
   "source": [
    "def train_validation(model, X_test, y_test):\n",
    "    y_pred_probs = model.predict(X_test)\n",
    "    y_pred = (y_pred_probs > 0.5).astype(int).flatten()  # Convertir probabilidades en etiquetas binarias\n",
    "\n",
    "    # Matriz de confusión\n",
    "    conf_matrix = confusion_matrix(y_test, y_pred)\n",
    "\n",
    "    # Reporte de clasificación\n",
    "    print(\"\\nReporte de Clasificación:\")\n",
    "    print(classification_report(y_test, y_pred, target_names=[\"No Mantenimiento\", \"Mantenimiento\"]))\n",
    "\n",
    "    # Mostrar matriz de confusión con heatmap\n",
    "    plt.figure(figsize=(6, 4))\n",
    "    sns.heatmap(conf_matrix, annot=True, fmt='d', cmap='Blues',\n",
    "                xticklabels=[\"No Mantenimiento\", \"Mantenimiento\"],\n",
    "                yticklabels=[\"No Mantenimiento\", \"Mantenimiento\"])\n",
    "    plt.title(\"Matriz de Confusión\")\n",
    "    plt.xlabel(\"Predicción\")\n",
    "    plt.ylabel(\"Real\")\n",
    "    plt.show()\n",
    "\n",
    "# Llama a la función con el modelo ya entrenado\n",
    "train_validation(model, X_test, y_test)"
   ],
   "id": "45252bf9a0f66874",
   "outputs": [
    {
     "name": "stdout",
     "output_type": "stream",
     "text": [
      "\u001B[1m48/48\u001B[0m \u001B[32m━━━━━━━━━━━━━━━━━━━━\u001B[0m\u001B[37m\u001B[0m \u001B[1m0s\u001B[0m 3ms/step\n",
      "\n",
      "Reporte de Clasificación:\n",
      "                  precision    recall  f1-score   support\n",
      "\n",
      "No Mantenimiento       0.98      1.00      0.99      1377\n",
      "   Mantenimiento       0.97      0.84      0.90       158\n",
      "\n",
      "        accuracy                           0.98      1535\n",
      "       macro avg       0.98      0.92      0.94      1535\n",
      "    weighted avg       0.98      0.98      0.98      1535\n",
      "\n"
     ]
    },
    {
     "data": {
      "text/plain": [
       "<Figure size 600x400 with 2 Axes>"
      ],
      "image/png": "[encoded data removed]"
     },
     "metadata": {},
     "output_type": "display_data"
    }
   ],
   "execution_count": 69
  },
  {
   "metadata": {},
   "cell_type": "markdown",
   "source": "Al igual que se visualizó con las gráficas, la matriz de confusión confirma lo afirmado, a continuación se realizará un ajuste de hiperparámetros mediante `RandomSearch` y `SMOTE` por el desbalanceo de clases",
   "id": "369f5a24e808aa1e"
  },
  {
   "metadata": {
    "ExecuteTime": {
     "end_time": "2025-02-06T20:04:56.164782Z",
     "start_time": "2025-02-06T20:04:56.067307Z"
    }
   },
   "cell_type": "code",
   "source": [
    "def build_model(hp):\n",
    " model = Sequential([\n",
    "     Dense(units=hp.Int('units', min_value=32, max_value=512,step=32), activation='relu'),\n",
    "     Dense(1)\n",
    " ])\n",
    "\n",
    " model.compile(optimizer=tf.keras.optimizers.Adam(learning_rate=hp.Choice('learning_rate', [0.001, 0.01])),loss='mean_squared_error',metrics=['mae'])\n",
    " return model\n",
    "\n",
    "tuner = RandomSearch(\n",
    " build_model,\n",
    " objective='val_loss',\n",
    " max_trials=5,\n",
    " directory='./my_dir',\n",
    " project_name='prediccion'\n",
    ")\n",
    "tuner.search(X_train, y_train, validation_split=0.2)"
   ],
   "id": "dc4667960f7cacf6",
   "outputs": [
    {
     "name": "stdout",
     "output_type": "stream",
     "text": [
      "Reloading Tuner from ./my_dir\\prediccion\\tuner0.json\n"
     ]
    }
   ],
   "execution_count": 70
  },
  {
   "metadata": {
    "ExecuteTime": {
     "end_time": "2025-02-06T20:04:56.238979Z",
     "start_time": "2025-02-06T20:04:56.231574Z"
    }
   },
   "cell_type": "code",
   "source": "best_hps = tuner.get_best_hyperparameters(num_trials=1)[0]",
   "id": "ae0ab6fda5aa18",
   "outputs": [],
   "execution_count": 71
  },
  {
   "metadata": {
    "ExecuteTime": {
     "end_time": "2025-02-06T20:04:56.260413Z",
     "start_time": "2025-02-06T20:04:56.247089Z"
    }
   },
   "cell_type": "code",
   "source": "best_model = tuner.hypermodel.build(best_hps)",
   "id": "78cf458a018d141b",
   "outputs": [],
   "execution_count": 72
  },
  {
   "metadata": {
    "ExecuteTime": {
     "end_time": "2025-02-06T20:04:56.302496Z",
     "start_time": "2025-02-06T20:04:56.288976Z"
    }
   },
   "cell_type": "code",
   "source": "X_train_split, X_val, y_train_split, y_val = train_test_split(X_train, y_train, test_size=0.2, random_state=42)",
   "id": "154f7ac444797446",
   "outputs": [],
   "execution_count": 73
  },
  {
   "metadata": {
    "ExecuteTime": {
     "end_time": "2025-02-06T20:04:56.342734Z",
     "start_time": "2025-02-06T20:04:56.333796Z"
    }
   },
   "cell_type": "code",
   "source": [
    "#smote = SMOTE(random_state=42)\n",
    "# X_resampled, y_train_split = smote.fit_resample(X_train_split, y_train_split)  # Solo en los datos de entrenamiento"
   ],
   "id": "83cf62acb0492db4",
   "outputs": [],
   "execution_count": 74
  },
  {
   "metadata": {
    "ExecuteTime": {
     "end_time": "2025-02-06T20:05:02.217851Z",
     "start_time": "2025-02-06T20:04:56.397345Z"
    }
   },
   "cell_type": "code",
   "source": [
    "# Ahora usa X_resampled, y_train_split en el entrenamiento\n",
    "history = best_model.fit(X_train_split, y_train_split, epochs=50, batch_size=32, validation_data=(X_val, y_val), callbacks=[early_stopping])"
   ],
   "id": "c5def3642792f8aa",
   "outputs": [
    {
     "name": "stdout",
     "output_type": "stream",
     "text": [
      "Epoch 1/50\n",
      "\u001B[1m154/154\u001B[0m \u001B[32m━━━━━━━━━━━━━━━━━━━━\u001B[0m\u001B[37m\u001B[0m \u001B[1m2s\u001B[0m 4ms/step - loss: 0.0776 - mae: 0.1837 - val_loss: 0.0286 - val_mae: 0.1091\n",
      "Epoch 2/50\n",
      "\u001B[1m154/154\u001B[0m \u001B[32m━━━━━━━━━━━━━━━━━━━━\u001B[0m\u001B[37m\u001B[0m \u001B[1m0s\u001B[0m 3ms/step - loss: 0.0292 - mae: 0.1087 - val_loss: 0.0293 - val_mae: 0.1121\n",
      "Epoch 3/50\n",
      "\u001B[1m154/154\u001B[0m \u001B[32m━━━━━━━━━━━━━━━━━━━━\u001B[0m\u001B[37m\u001B[0m \u001B[1m1s\u001B[0m 4ms/step - loss: 0.0280 - mae: 0.1024 - val_loss: 0.0292 - val_mae: 0.1150\n",
      "Epoch 4/50\n",
      "\u001B[1m154/154\u001B[0m \u001B[32m━━━━━━━━━━━━━━━━━━━━\u001B[0m\u001B[37m\u001B[0m \u001B[1m1s\u001B[0m 3ms/step - loss: 0.0270 - mae: 0.1011 - val_loss: 0.0263 - val_mae: 0.0965\n",
      "Epoch 5/50\n",
      "\u001B[1m154/154\u001B[0m \u001B[32m━━━━━━━━━━━━━━━━━━━━\u001B[0m\u001B[37m\u001B[0m \u001B[1m1s\u001B[0m 3ms/step - loss: 0.0265 - mae: 0.0983 - val_loss: 0.0229 - val_mae: 0.0867\n",
      "Epoch 6/50\n",
      "\u001B[1m154/154\u001B[0m \u001B[32m━━━━━━━━━━━━━━━━━━━━\u001B[0m\u001B[37m\u001B[0m \u001B[1m0s\u001B[0m 3ms/step - loss: 0.0255 - mae: 0.0907 - val_loss: 0.0244 - val_mae: 0.0926\n",
      "Epoch 7/50\n",
      "\u001B[1m154/154\u001B[0m \u001B[32m━━━━━━━━━━━━━━━━━━━━\u001B[0m\u001B[37m\u001B[0m \u001B[1m0s\u001B[0m 3ms/step - loss: 0.0239 - mae: 0.0885 - val_loss: 0.0274 - val_mae: 0.0888\n",
      "Epoch 8/50\n",
      "\u001B[1m154/154\u001B[0m \u001B[32m━━━━━━━━━━━━━━━━━━━━\u001B[0m\u001B[37m\u001B[0m \u001B[1m0s\u001B[0m 2ms/step - loss: 0.0247 - mae: 0.0861 - val_loss: 0.0231 - val_mae: 0.0839\n",
      "Epoch 9/50\n",
      "\u001B[1m154/154\u001B[0m \u001B[32m━━━━━━━━━━━━━━━━━━━━\u001B[0m\u001B[37m\u001B[0m \u001B[1m0s\u001B[0m 2ms/step - loss: 0.0242 - mae: 0.0873 - val_loss: 0.0236 - val_mae: 0.0850\n",
      "Epoch 10/50\n",
      "\u001B[1m154/154\u001B[0m \u001B[32m━━━━━━━━━━━━━━━━━━━━\u001B[0m\u001B[37m\u001B[0m \u001B[1m0s\u001B[0m 3ms/step - loss: 0.0237 - mae: 0.0826 - val_loss: 0.0240 - val_mae: 0.0777\n"
     ]
    }
   ],
   "execution_count": 75
  },
  {
   "metadata": {
    "ExecuteTime": {
     "end_time": "2025-02-06T20:05:02.899008Z",
     "start_time": "2025-02-06T20:05:02.250030Z"
    }
   },
   "cell_type": "code",
   "source": "train_validation(best_model, X_train_split, y_train_split)",
   "id": "d7d5c4d28c44ab73",
   "outputs": [
    {
     "name": "stdout",
     "output_type": "stream",
     "text": [
      "\u001B[1m154/154\u001B[0m \u001B[32m━━━━━━━━━━━━━━━━━━━━\u001B[0m\u001B[37m\u001B[0m \u001B[1m0s\u001B[0m 2ms/step\n",
      "\n",
      "Reporte de Clasificación:\n",
      "                  precision    recall  f1-score   support\n",
      "\n",
      "No Mantenimiento       0.97      1.00      0.99      4429\n",
      "   Mantenimiento       1.00      0.74      0.85       480\n",
      "\n",
      "        accuracy                           0.97      4909\n",
      "       macro avg       0.98      0.87      0.92      4909\n",
      "    weighted avg       0.97      0.97      0.97      4909\n",
      "\n"
     ]
    },
    {
     "data": {
      "text/plain": [
       "<Figure size 600x400 with 2 Axes>"
      ],
      "image/png": "[encoded data removed]"
     },
     "metadata": {},
     "output_type": "display_data"
    }
   ],
   "execution_count": 76
  },
  {
   "metadata": {},
   "cell_type": "markdown",
   "source": "Ahora se puede apreciar una notoria mejoría con respecto al desempeño del modelo, donde se encuentra una precisión para la clase 0 del 0.99 y para la clase 1 una precisión del 0.94, así mismo, en la matriz de confusión se encuentra un número de falsos positivos bastante reducido en comparación con el resto de conclusiones",
   "id": "a8384e604f7c7c13"
  },
  {
   "metadata": {
    "ExecuteTime": {
     "end_time": "2025-02-06T20:05:03.605860Z",
     "start_time": "2025-02-06T20:05:02.935767Z"
    }
   },
   "cell_type": "code",
   "source": [
    "loss, accuracy = best_model.evaluate(X_test, y_test)\n",
    "print(f\"Pérdida: {loss}, Precisión: {accuracy}\")\n",
    "# Pérdida\n",
    "plt.plot(history.history['loss'], label='Pérdida (entrenamiento)')\n",
    "plt.plot(history.history['val_loss'], label='Pérdida (validación)')\n",
    "plt.xlabel('Épocas')\n",
    "plt.ylabel('Pérdida')\n",
    "plt.legend()\n",
    "plt.show()\n",
    "# Precisión\n",
    "plt.plot(history.history['mae'], label='Precisión(entrenamiento)')\n",
    "plt.plot(history.history['val_mae'], label='Precisión(validación)')\n",
    "plt.xlabel('Épocas')\n",
    "plt.ylabel('Precisión')\n",
    "plt.legend()\n",
    "plt.show()"
   ],
   "id": "fabdade22d08d619",
   "outputs": [
    {
     "name": "stdout",
     "output_type": "stream",
     "text": [
      "\u001B[1m48/48\u001B[0m \u001B[32m━━━━━━━━━━━━━━━━━━━━\u001B[0m\u001B[37m\u001B[0m \u001B[1m0s\u001B[0m 3ms/step - loss: 0.0268 - mae: 0.0814\n",
      "Pérdida: 0.026559801772236824, Precisión: 0.07956437766551971\n"
     ]
    },
    {
     "data": {
      "text/plain": [
       "<Figure size 640x480 with 1 Axes>"
      ],
      "image/png": "[encoded data removed]"
     },
     "metadata": {},
     "output_type": "display_data"
    },
    {
     "data": {
      "text/plain": [
       "<Figure size 640x480 with 1 Axes>"
      ],
      "image/png": "[encoded data removed]"
     },
     "metadata": {},
     "output_type": "display_data"
    }
   ],
   "execution_count": 77
  },
  {
   "metadata": {
    "ExecuteTime": {
     "end_time": "2025-02-06T20:08:00.302781Z",
     "start_time": "2025-02-06T20:05:03.654509Z"
    }
   },
   "cell_type": "code",
   "source": [
    "# Definir la función objetivo que Optuna optimizará\n",
    "def objective(trial):\n",
    " # Espacios de búsqueda de hiperparámetros (esto son ejemplos)\n",
    " units = trial.suggest_int('units', 32, 512, step=32)\n",
    " lr = trial.suggest_categorical('learning_rate', [0.001, 0.01,0.1])\n",
    "\n",
    " # Crear el modelo\n",
    " model = Sequential([\n",
    "    Input(shape=(X_train_split.shape[1],)), # Definir forma de la entrada\n",
    "    Dense(units=units, activation='relu'),\n",
    "    Dense(1, activation='sigmoid')\n",
    " ])\n",
    "\n",
    " model.compile(optimizer=tf.keras.optimizers.Adam(learning_rate=lr),loss='mean_squared_error',metrics=['mae'])\n",
    "\n",
    " model.fit(X_train_split, y_train_split, epochs=50, validation_split=0.2, verbose=1)\n",
    "\n",
    " # Obtener la pérdida en la validación para optimizar\n",
    " val_loss = model.history.history['val_loss'][-1]\n",
    " return val_loss\n",
    "# Crear estudio de Optuna y ejecutar la optimización\n",
    "# Queremos minimizar la pérdida (val_loss)\n",
    "study = optuna.create_study(direction='minimize')\n",
    "study.optimize(objective, n_trials=10) # 5 intentos de prueba, puedes aumentar este número\n",
    "# Mostrar los mejores hiperparámetros encontrados\n",
    "print(f'Best hyperparameters: {study.best_params}')\n"
   ],
   "id": "7e482afdeb6a4571",
   "outputs": [
    {
     "name": "stderr",
     "output_type": "stream",
     "text": [
      "[I 2025-02-06 21:05:03,661] A new study created in memory with name: no-name-0e3e215b-d805-460d-9d20-81d0e8742eee\n"
     ]
    },
    {
     "name": "stdout",
     "output_type": "stream",
     "text": [
      "Epoch 1/50\n",
      "\u001B[1m123/123\u001B[0m \u001B[32m━━━━━━━━━━━━━━━━━━━━\u001B[0m\u001B[37m\u001B[0m \u001B[1m2s\u001B[0m 4ms/step - loss: 0.1072 - mae: 0.1182 - val_loss: 0.0916 - val_mae: 0.0916\n",
      "Epoch 2/50\n",
      "\u001B[1m123/123\u001B[0m \u001B[32m━━━━━━━━━━━━━━━━━━━━\u001B[0m\u001B[37m\u001B[0m \u001B[1m0s\u001B[0m 3ms/step - loss: 0.1074 - mae: 0.1074 - val_loss: 0.0916 - val_mae: 0.0916\n",
      "Epoch 3/50\n",
      "\u001B[1m123/123\u001B[0m \u001B[32m━━━━━━━━━━━━━━━━━━━━\u001B[0m\u001B[37m\u001B[0m \u001B[1m0s\u001B[0m 3ms/step - loss: 0.1006 - mae: 0.1006 - val_loss: 0.0916 - val_mae: 0.0916\n",
      "Epoch 4/50\n",
      "\u001B[1m123/123\u001B[0m \u001B[32m━━━━━━━━━━━━━━━━━━━━\u001B[0m\u001B[37m\u001B[0m \u001B[1m0s\u001B[0m 3ms/step - loss: 0.1016 - mae: 0.1016 - val_loss: 0.0916 - val_mae: 0.0916\n",
      "Epoch 5/50\n",
      "\u001B[1m123/123\u001B[0m \u001B[32m━━━━━━━━━━━━━━━━━━━━\u001B[0m\u001B[37m\u001B[0m \u001B[1m0s\u001B[0m 3ms/step - loss: 0.0959 - mae: 0.0959 - val_loss: 0.0916 - val_mae: 0.0916\n",
      "Epoch 6/50\n",
      "\u001B[1m123/123\u001B[0m \u001B[32m━━━━━━━━━━━━━━━━━━━━\u001B[0m\u001B[37m\u001B[0m \u001B[1m0s\u001B[0m 3ms/step - loss: 0.0907 - mae: 0.0907 - val_loss: 0.0916 - val_mae: 0.0916\n",
      "Epoch 7/50\n",
      "\u001B[1m123/123\u001B[0m \u001B[32m━━━━━━━━━━━━━━━━━━━━\u001B[0m\u001B[37m\u001B[0m \u001B[1m0s\u001B[0m 3ms/step - loss: 0.1015 - mae: 0.1015 - val_loss: 0.0916 - val_mae: 0.0916\n",
      "Epoch 8/50\n",
      "\u001B[1m123/123\u001B[0m \u001B[32m━━━━━━━━━━━━━━━━━━━━\u001B[0m\u001B[37m\u001B[0m \u001B[1m0s\u001B[0m 3ms/step - loss: 0.0966 - mae: 0.0966 - val_loss: 0.0916 - val_mae: 0.0916\n",
      "Epoch 9/50\n",
      "\u001B[1m123/123\u001B[0m \u001B[32m━━━━━━━━━━━━━━━━━━━━\u001B[0m\u001B[37m\u001B[0m \u001B[1m1s\u001B[0m 3ms/step - loss: 0.0992 - mae: 0.0992 - val_loss: 0.0916 - val_mae: 0.0916\n",
      "Epoch 10/50\n",
      "\u001B[1m123/123\u001B[0m \u001B[32m━━━━━━━━━━━━━━━━━━━━\u001B[0m\u001B[37m\u001B[0m \u001B[1m0s\u001B[0m 3ms/step - loss: 0.0992 - mae: 0.0992 - val_loss: 0.0916 - val_mae: 0.0916\n",
      "Epoch 11/50\n",
      "\u001B[1m123/123\u001B[0m \u001B[32m━━━━━━━━━━━━━━━━━━━━\u001B[0m\u001B[37m\u001B[0m \u001B[1m0s\u001B[0m 3ms/step - loss: 0.0972 - mae: 0.0972 - val_loss: 0.0916 - val_mae: 0.0916\n",
      "Epoch 12/50\n",
      "\u001B[1m123/123\u001B[0m \u001B[32m━━━━━━━━━━━━━━━━━━━━\u001B[0m\u001B[37m\u001B[0m \u001B[1m0s\u001B[0m 3ms/step - loss: 0.0997 - mae: 0.0997 - val_loss: 0.0916 - val_mae: 0.0916\n",
      "Epoch 13/50\n",
      "\u001B[1m123/123\u001B[0m \u001B[32m━━━━━━━━━━━━━━━━━━━━\u001B[0m\u001B[37m\u001B[0m \u001B[1m0s\u001B[0m 3ms/step - loss: 0.0993 - mae: 0.0993 - val_loss: 0.0916 - val_mae: 0.0916\n",
      "Epoch 14/50\n",
      "\u001B[1m123/123\u001B[0m \u001B[32m━━━━━━━━━━━━━━━━━━━━\u001B[0m\u001B[37m\u001B[0m \u001B[1m0s\u001B[0m 3ms/step - loss: 0.1063 - mae: 0.1063 - val_loss: 0.0916 - val_mae: 0.0916\n",
      "Epoch 15/50\n",
      "\u001B[1m123/123\u001B[0m \u001B[32m━━━━━━━━━━━━━━━━━━━━\u001B[0m\u001B[37m\u001B[0m \u001B[1m0s\u001B[0m 3ms/step - loss: 0.0934 - mae: 0.0934 - val_loss: 0.0916 - val_mae: 0.0916\n",
      "Epoch 16/50\n",
      "\u001B[1m123/123\u001B[0m \u001B[32m━━━━━━━━━━━━━━━━━━━━\u001B[0m\u001B[37m\u001B[0m \u001B[1m0s\u001B[0m 3ms/step - loss: 0.0981 - mae: 0.0981 - val_loss: 0.0916 - val_mae: 0.0916\n",
      "Epoch 17/50\n",
      "\u001B[1m123/123\u001B[0m \u001B[32m━━━━━━━━━━━━━━━━━━━━\u001B[0m\u001B[37m\u001B[0m \u001B[1m0s\u001B[0m 3ms/step - loss: 0.1024 - mae: 0.1024 - val_loss: 0.0916 - val_mae: 0.0916\n",
      "Epoch 18/50\n",
      "\u001B[1m123/123\u001B[0m \u001B[32m━━━━━━━━━━━━━━━━━━━━\u001B[0m\u001B[37m\u001B[0m \u001B[1m0s\u001B[0m 3ms/step - loss: 0.0985 - mae: 0.0985 - val_loss: 0.0916 - val_mae: 0.0916\n",
      "Epoch 19/50\n",
      "\u001B[1m123/123\u001B[0m \u001B[32m━━━━━━━━━━━━━━━━━━━━\u001B[0m\u001B[37m\u001B[0m \u001B[1m0s\u001B[0m 3ms/step - loss: 0.0844 - mae: 0.0844 - val_loss: 0.0916 - val_mae: 0.0916\n",
      "Epoch 20/50\n",
      "\u001B[1m123/123\u001B[0m \u001B[32m━━━━━━━━━━━━━━━━━━━━\u001B[0m\u001B[37m\u001B[0m \u001B[1m0s\u001B[0m 3ms/step - loss: 0.1012 - mae: 0.1012 - val_loss: 0.0916 - val_mae: 0.0916\n",
      "Epoch 21/50\n",
      "\u001B[1m123/123\u001B[0m \u001B[32m━━━━━━━━━━━━━━━━━━━━\u001B[0m\u001B[37m\u001B[0m \u001B[1m0s\u001B[0m 3ms/step - loss: 0.0977 - mae: 0.0977 - val_loss: 0.0916 - val_mae: 0.0916\n",
      "Epoch 22/50\n",
      "\u001B[1m123/123\u001B[0m \u001B[32m━━━━━━━━━━━━━━━━━━━━\u001B[0m\u001B[37m\u001B[0m \u001B[1m0s\u001B[0m 3ms/step - loss: 0.1021 - mae: 0.1021 - val_loss: 0.0916 - val_mae: 0.0916\n",
      "Epoch 23/50\n",
      "\u001B[1m123/123\u001B[0m \u001B[32m━━━━━━━━━━━━━━━━━━━━\u001B[0m\u001B[37m\u001B[0m \u001B[1m0s\u001B[0m 3ms/step - loss: 0.1061 - mae: 0.1061 - val_loss: 0.0916 - val_mae: 0.0916\n",
      "Epoch 24/50\n",
      "\u001B[1m123/123\u001B[0m \u001B[32m━━━━━━━━━━━━━━━━━━━━\u001B[0m\u001B[37m\u001B[0m \u001B[1m0s\u001B[0m 3ms/step - loss: 0.0996 - mae: 0.0996 - val_loss: 0.0916 - val_mae: 0.0916\n",
      "Epoch 25/50\n",
      "\u001B[1m123/123\u001B[0m \u001B[32m━━━━━━━━━━━━━━━━━━━━\u001B[0m\u001B[37m\u001B[0m \u001B[1m0s\u001B[0m 3ms/step - loss: 0.1008 - mae: 0.1008 - val_loss: 0.0916 - val_mae: 0.0916\n",
      "Epoch 26/50\n",
      "\u001B[1m123/123\u001B[0m \u001B[32m━━━━━━━━━━━━━━━━━━━━\u001B[0m\u001B[37m\u001B[0m \u001B[1m1s\u001B[0m 3ms/step - loss: 0.1067 - mae: 0.1067 - val_loss: 0.0916 - val_mae: 0.0916\n",
      "Epoch 27/50\n",
      "\u001B[1m123/123\u001B[0m \u001B[32m━━━━━━━━━━━━━━━━━━━━\u001B[0m\u001B[37m\u001B[0m \u001B[1m0s\u001B[0m 3ms/step - loss: 0.1020 - mae: 0.1020 - val_loss: 0.0916 - val_mae: 0.0916\n",
      "Epoch 28/50\n",
      "\u001B[1m123/123\u001B[0m \u001B[32m━━━━━━━━━━━━━━━━━━━━\u001B[0m\u001B[37m\u001B[0m \u001B[1m0s\u001B[0m 3ms/step - loss: 0.0972 - mae: 0.0972 - val_loss: 0.0916 - val_mae: 0.0916\n",
      "Epoch 29/50\n",
      "\u001B[1m123/123\u001B[0m \u001B[32m━━━━━━━━━━━━━━━━━━━━\u001B[0m\u001B[37m\u001B[0m \u001B[1m0s\u001B[0m 3ms/step - loss: 0.0964 - mae: 0.0964 - val_loss: 0.0916 - val_mae: 0.0916\n",
      "Epoch 30/50\n",
      "\u001B[1m123/123\u001B[0m \u001B[32m━━━━━━━━━━━━━━━━━━━━\u001B[0m\u001B[37m\u001B[0m \u001B[1m0s\u001B[0m 3ms/step - loss: 0.0893 - mae: 0.0893 - val_loss: 0.0916 - val_mae: 0.0916\n",
      "Epoch 31/50\n",
      "\u001B[1m123/123\u001B[0m \u001B[32m━━━━━━━━━━━━━━━━━━━━\u001B[0m\u001B[37m\u001B[0m \u001B[1m0s\u001B[0m 3ms/step - loss: 0.1004 - mae: 0.1004 - val_loss: 0.0916 - val_mae: 0.0916\n",
      "Epoch 32/50\n",
      "\u001B[1m123/123\u001B[0m \u001B[32m━━━━━━━━━━━━━━━━━━━━\u001B[0m\u001B[37m\u001B[0m \u001B[1m0s\u001B[0m 3ms/step - loss: 0.0976 - mae: 0.0976 - val_loss: 0.0916 - val_mae: 0.0916\n",
      "Epoch 33/50\n",
      "\u001B[1m123/123\u001B[0m \u001B[32m━━━━━━━━━━━━━━━━━━━━\u001B[0m\u001B[37m\u001B[0m \u001B[1m0s\u001B[0m 3ms/step - loss: 0.1032 - mae: 0.1032 - val_loss: 0.0916 - val_mae: 0.0916\n",
      "Epoch 34/50\n",
      "\u001B[1m123/123\u001B[0m \u001B[32m━━━━━━━━━━━━━━━━━━━━\u001B[0m\u001B[37m\u001B[0m \u001B[1m0s\u001B[0m 3ms/step - loss: 0.0944 - mae: 0.0944 - val_loss: 0.0916 - val_mae: 0.0916\n",
      "Epoch 35/50\n",
      "\u001B[1m123/123\u001B[0m \u001B[32m━━━━━━━━━━━━━━━━━━━━\u001B[0m\u001B[37m\u001B[0m \u001B[1m0s\u001B[0m 3ms/step - loss: 0.0986 - mae: 0.0986 - val_loss: 0.0916 - val_mae: 0.0916\n",
      "Epoch 36/50\n",
      "\u001B[1m123/123\u001B[0m \u001B[32m━━━━━━━━━━━━━━━━━━━━\u001B[0m\u001B[37m\u001B[0m \u001B[1m0s\u001B[0m 3ms/step - loss: 0.1025 - mae: 0.1025 - val_loss: 0.0916 - val_mae: 0.0916\n",
      "Epoch 37/50\n",
      "\u001B[1m123/123\u001B[0m \u001B[32m━━━━━━━━━━━━━━━━━━━━\u001B[0m\u001B[37m\u001B[0m \u001B[1m0s\u001B[0m 3ms/step - loss: 0.1003 - mae: 0.1003 - val_loss: 0.0916 - val_mae: 0.0916\n",
      "Epoch 38/50\n",
      "\u001B[1m123/123\u001B[0m \u001B[32m━━━━━━━━━━━━━━━━━━━━\u001B[0m\u001B[37m\u001B[0m \u001B[1m0s\u001B[0m 3ms/step - loss: 0.0950 - mae: 0.0950 - val_loss: 0.0916 - val_mae: 0.0916\n",
      "Epoch 39/50\n",
      "\u001B[1m123/123\u001B[0m \u001B[32m━━━━━━━━━━━━━━━━━━━━\u001B[0m\u001B[37m\u001B[0m \u001B[1m0s\u001B[0m 3ms/step - loss: 0.0976 - mae: 0.0976 - val_loss: 0.0916 - val_mae: 0.0916\n",
      "Epoch 40/50\n",
      "\u001B[1m123/123\u001B[0m \u001B[32m━━━━━━━━━━━━━━━━━━━━\u001B[0m\u001B[37m\u001B[0m \u001B[1m0s\u001B[0m 3ms/step - loss: 0.0950 - mae: 0.0950 - val_loss: 0.0916 - val_mae: 0.0916\n",
      "Epoch 41/50\n",
      "\u001B[1m123/123\u001B[0m \u001B[32m━━━━━━━━━━━━━━━━━━━━\u001B[0m\u001B[37m\u001B[0m \u001B[1m0s\u001B[0m 3ms/step - loss: 0.1057 - mae: 0.1057 - val_loss: 0.0916 - val_mae: 0.0916\n",
      "Epoch 42/50\n",
      "\u001B[1m123/123\u001B[0m \u001B[32m━━━━━━━━━━━━━━━━━━━━\u001B[0m\u001B[37m\u001B[0m \u001B[1m0s\u001B[0m 3ms/step - loss: 0.1049 - mae: 0.1049 - val_loss: 0.0916 - val_mae: 0.0916\n",
      "Epoch 43/50\n",
      "\u001B[1m123/123\u001B[0m \u001B[32m━━━━━━━━━━━━━━━━━━━━\u001B[0m\u001B[37m\u001B[0m \u001B[1m0s\u001B[0m 3ms/step - loss: 0.0978 - mae: 0.0978 - val_loss: 0.0916 - val_mae: 0.0916\n",
      "Epoch 44/50\n",
      "\u001B[1m123/123\u001B[0m \u001B[32m━━━━━━━━━━━━━━━━━━━━\u001B[0m\u001B[37m\u001B[0m \u001B[1m1s\u001B[0m 3ms/step - loss: 0.0959 - mae: 0.0959 - val_loss: 0.0916 - val_mae: 0.0916\n",
      "Epoch 45/50\n",
      "\u001B[1m123/123\u001B[0m \u001B[32m━━━━━━━━━━━━━━━━━━━━\u001B[0m\u001B[37m\u001B[0m \u001B[1m0s\u001B[0m 3ms/step - loss: 0.0941 - mae: 0.0941 - val_loss: 0.0916 - val_mae: 0.0916\n",
      "Epoch 46/50\n",
      "\u001B[1m123/123\u001B[0m \u001B[32m━━━━━━━━━━━━━━━━━━━━\u001B[0m\u001B[37m\u001B[0m \u001B[1m0s\u001B[0m 3ms/step - loss: 0.0998 - mae: 0.0998 - val_loss: 0.0916 - val_mae: 0.0916\n",
      "Epoch 47/50\n",
      "\u001B[1m123/123\u001B[0m \u001B[32m━━━━━━━━━━━━━━━━━━━━\u001B[0m\u001B[37m\u001B[0m \u001B[1m0s\u001B[0m 3ms/step - loss: 0.0978 - mae: 0.0978 - val_loss: 0.0916 - val_mae: 0.0916\n",
      "Epoch 48/50\n",
      "\u001B[1m123/123\u001B[0m \u001B[32m━━━━━━━━━━━━━━━━━━━━\u001B[0m\u001B[37m\u001B[0m \u001B[1m0s\u001B[0m 3ms/step - loss: 0.0917 - mae: 0.0917 - val_loss: 0.0916 - val_mae: 0.0916\n",
      "Epoch 49/50\n",
      "\u001B[1m123/123\u001B[0m \u001B[32m━━━━━━━━━━━━━━━━━━━━\u001B[0m\u001B[37m\u001B[0m \u001B[1m0s\u001B[0m 3ms/step - loss: 0.0988 - mae: 0.0988 - val_loss: 0.0916 - val_mae: 0.0916\n",
      "Epoch 50/50\n",
      "\u001B[1m123/123\u001B[0m \u001B[32m━━━━━━━━━━━━━━━━━━━━\u001B[0m\u001B[37m\u001B[0m \u001B[1m0s\u001B[0m 3ms/step - loss: 0.0941 - mae: 0.0941 - val_loss: 0.0916 - val_mae: 0.0916\n"
     ]
    },
    {
     "name": "stderr",
     "output_type": "stream",
     "text": [
      "[I 2025-02-06 21:05:25,103] Trial 0 finished with value: 0.09164969623088837 and parameters: {'units': 352, 'learning_rate': 0.1}. Best is trial 0 with value: 0.09164969623088837.\n"
     ]
    },
    {
     "name": "stdout",
     "output_type": "stream",
     "text": [
      "Epoch 1/50\n",
      "\u001B[1m123/123\u001B[0m \u001B[32m━━━━━━━━━━━━━━━━━━━━\u001B[0m\u001B[37m\u001B[0m \u001B[1m4s\u001B[0m 16ms/step - loss: 0.1274 - mae: 0.3091 - val_loss: 0.0518 - val_mae: 0.1430\n",
      "Epoch 2/50\n",
      "\u001B[1m123/123\u001B[0m \u001B[32m━━━━━━━━━━━━━━━━━━━━\u001B[0m\u001B[37m\u001B[0m \u001B[1m1s\u001B[0m 8ms/step - loss: 0.0475 - mae: 0.1312 - val_loss: 0.0384 - val_mae: 0.1119\n",
      "Epoch 3/50\n",
      "\u001B[1m123/123\u001B[0m \u001B[32m━━━━━━━━━━━━━━━━━━━━\u001B[0m\u001B[37m\u001B[0m \u001B[1m1s\u001B[0m 5ms/step - loss: 0.0392 - mae: 0.1124 - val_loss: 0.0280 - val_mae: 0.0945\n",
      "Epoch 4/50\n",
      "\u001B[1m123/123\u001B[0m \u001B[32m━━━━━━━━━━━━━━━━━━━━\u001B[0m\u001B[37m\u001B[0m \u001B[1m1s\u001B[0m 7ms/step - loss: 0.0243 - mae: 0.0867 - val_loss: 0.0234 - val_mae: 0.0914\n",
      "Epoch 5/50\n",
      "\u001B[1m123/123\u001B[0m \u001B[32m━━━━━━━━━━━━━━━━━━━━\u001B[0m\u001B[37m\u001B[0m \u001B[1m0s\u001B[0m 3ms/step - loss: 0.0212 - mae: 0.0804 - val_loss: 0.0207 - val_mae: 0.0764\n",
      "Epoch 6/50\n",
      "\u001B[1m123/123\u001B[0m \u001B[32m━━━━━━━━━━━━━━━━━━━━\u001B[0m\u001B[37m\u001B[0m \u001B[1m0s\u001B[0m 3ms/step - loss: 0.0175 - mae: 0.0692 - val_loss: 0.0183 - val_mae: 0.0669\n",
      "Epoch 7/50\n",
      "\u001B[1m123/123\u001B[0m \u001B[32m━━━━━━━━━━━━━━━━━━━━\u001B[0m\u001B[37m\u001B[0m \u001B[1m0s\u001B[0m 3ms/step - loss: 0.0193 - mae: 0.0665 - val_loss: 0.0172 - val_mae: 0.0656\n",
      "Epoch 8/50\n",
      "\u001B[1m123/123\u001B[0m \u001B[32m━━━━━━━━━━━━━━━━━━━━\u001B[0m\u001B[37m\u001B[0m \u001B[1m0s\u001B[0m 3ms/step - loss: 0.0138 - mae: 0.0550 - val_loss: 0.0177 - val_mae: 0.0649\n",
      "Epoch 9/50\n",
      "\u001B[1m123/123\u001B[0m \u001B[32m━━━━━━━━━━━━━━━━━━━━\u001B[0m\u001B[37m\u001B[0m \u001B[1m0s\u001B[0m 3ms/step - loss: 0.0129 - mae: 0.0509 - val_loss: 0.0155 - val_mae: 0.0531\n",
      "Epoch 10/50\n",
      "\u001B[1m123/123\u001B[0m \u001B[32m━━━━━━━━━━━━━━━━━━━━\u001B[0m\u001B[37m\u001B[0m \u001B[1m0s\u001B[0m 3ms/step - loss: 0.0104 - mae: 0.0414 - val_loss: 0.0167 - val_mae: 0.0571\n",
      "Epoch 11/50\n",
      "\u001B[1m123/123\u001B[0m \u001B[32m━━━━━━━━━━━━━━━━━━━━\u001B[0m\u001B[37m\u001B[0m \u001B[1m0s\u001B[0m 2ms/step - loss: 0.0120 - mae: 0.0455 - val_loss: 0.0164 - val_mae: 0.0530\n",
      "Epoch 12/50\n",
      "\u001B[1m123/123\u001B[0m \u001B[32m━━━━━━━━━━━━━━━━━━━━\u001B[0m\u001B[37m\u001B[0m \u001B[1m0s\u001B[0m 3ms/step - loss: 0.0122 - mae: 0.0435 - val_loss: 0.0149 - val_mae: 0.0415\n",
      "Epoch 13/50\n",
      "\u001B[1m123/123\u001B[0m \u001B[32m━━━━━━━━━━━━━━━━━━━━\u001B[0m\u001B[37m\u001B[0m \u001B[1m0s\u001B[0m 3ms/step - loss: 0.0120 - mae: 0.0377 - val_loss: 0.0141 - val_mae: 0.0445\n",
      "Epoch 14/50\n",
      "\u001B[1m123/123\u001B[0m \u001B[32m━━━━━━━━━━━━━━━━━━━━\u001B[0m\u001B[37m\u001B[0m \u001B[1m0s\u001B[0m 3ms/step - loss: 0.0107 - mae: 0.0372 - val_loss: 0.0139 - val_mae: 0.0389\n",
      "Epoch 15/50\n",
      "\u001B[1m123/123\u001B[0m \u001B[32m━━━━━━━━━━━━━━━━━━━━\u001B[0m\u001B[37m\u001B[0m \u001B[1m0s\u001B[0m 3ms/step - loss: 0.0109 - mae: 0.0357 - val_loss: 0.0150 - val_mae: 0.0423\n",
      "Epoch 16/50\n",
      "\u001B[1m123/123\u001B[0m \u001B[32m━━━━━━━━━━━━━━━━━━━━\u001B[0m\u001B[37m\u001B[0m \u001B[1m0s\u001B[0m 3ms/step - loss: 0.0112 - mae: 0.0350 - val_loss: 0.0146 - val_mae: 0.0426\n",
      "Epoch 17/50\n",
      "\u001B[1m123/123\u001B[0m \u001B[32m━━━━━━━━━━━━━━━━━━━━\u001B[0m\u001B[37m\u001B[0m \u001B[1m1s\u001B[0m 4ms/step - loss: 0.0118 - mae: 0.0367 - val_loss: 0.0138 - val_mae: 0.0385\n",
      "Epoch 18/50\n",
      "\u001B[1m123/123\u001B[0m \u001B[32m━━━━━━━━━━━━━━━━━━━━\u001B[0m\u001B[37m\u001B[0m \u001B[1m0s\u001B[0m 4ms/step - loss: 0.0124 - mae: 0.0354 - val_loss: 0.0146 - val_mae: 0.0390\n",
      "Epoch 19/50\n",
      "\u001B[1m123/123\u001B[0m \u001B[32m━━━━━━━━━━━━━━━━━━━━\u001B[0m\u001B[37m\u001B[0m \u001B[1m1s\u001B[0m 4ms/step - loss: 0.0093 - mae: 0.0289 - val_loss: 0.0151 - val_mae: 0.0420\n",
      "Epoch 20/50\n",
      "\u001B[1m123/123\u001B[0m \u001B[32m━━━━━━━━━━━━━━━━━━━━\u001B[0m\u001B[37m\u001B[0m \u001B[1m1s\u001B[0m 5ms/step - loss: 0.0106 - mae: 0.0295 - val_loss: 0.0141 - val_mae: 0.0376\n",
      "Epoch 21/50\n",
      "\u001B[1m123/123\u001B[0m \u001B[32m━━━━━━━━━━━━━━━━━━━━\u001B[0m\u001B[37m\u001B[0m \u001B[1m0s\u001B[0m 3ms/step - loss: 0.0095 - mae: 0.0284 - val_loss: 0.0132 - val_mae: 0.0342\n",
      "Epoch 22/50\n",
      "\u001B[1m123/123\u001B[0m \u001B[32m━━━━━━━━━━━━━━━━━━━━\u001B[0m\u001B[37m\u001B[0m \u001B[1m1s\u001B[0m 4ms/step - loss: 0.0097 - mae: 0.0292 - val_loss: 0.0142 - val_mae: 0.0345\n",
      "Epoch 23/50\n",
      "\u001B[1m123/123\u001B[0m \u001B[32m━━━━━━━━━━━━━━━━━━━━\u001B[0m\u001B[37m\u001B[0m \u001B[1m1s\u001B[0m 3ms/step - loss: 0.0096 - mae: 0.0276 - val_loss: 0.0142 - val_mae: 0.0361\n",
      "Epoch 24/50\n",
      "\u001B[1m123/123\u001B[0m \u001B[32m━━━━━━━━━━━━━━━━━━━━\u001B[0m\u001B[37m\u001B[0m \u001B[1m0s\u001B[0m 3ms/step - loss: 0.0084 - mae: 0.0255 - val_loss: 0.0139 - val_mae: 0.0331\n",
      "Epoch 25/50\n",
      "\u001B[1m123/123\u001B[0m \u001B[32m━━━━━━━━━━━━━━━━━━━━\u001B[0m\u001B[37m\u001B[0m \u001B[1m0s\u001B[0m 4ms/step - loss: 0.0087 - mae: 0.0246 - val_loss: 0.0139 - val_mae: 0.0327\n",
      "Epoch 26/50\n",
      "\u001B[1m123/123\u001B[0m \u001B[32m━━━━━━━━━━━━━━━━━━━━\u001B[0m\u001B[37m\u001B[0m \u001B[1m0s\u001B[0m 3ms/step - loss: 0.0099 - mae: 0.0263 - val_loss: 0.0157 - val_mae: 0.0360\n",
      "Epoch 27/50\n",
      "\u001B[1m123/123\u001B[0m \u001B[32m━━━━━━━━━━━━━━━━━━━━\u001B[0m\u001B[37m\u001B[0m \u001B[1m0s\u001B[0m 3ms/step - loss: 0.0093 - mae: 0.0262 - val_loss: 0.0148 - val_mae: 0.0357\n",
      "Epoch 28/50\n",
      "\u001B[1m123/123\u001B[0m \u001B[32m━━━━━━━━━━━━━━━━━━━━\u001B[0m\u001B[37m\u001B[0m \u001B[1m0s\u001B[0m 2ms/step - loss: 0.0088 - mae: 0.0252 - val_loss: 0.0139 - val_mae: 0.0333\n",
      "Epoch 29/50\n",
      "\u001B[1m123/123\u001B[0m \u001B[32m━━━━━━━━━━━━━━━━━━━━\u001B[0m\u001B[37m\u001B[0m \u001B[1m0s\u001B[0m 2ms/step - loss: 0.0096 - mae: 0.0246 - val_loss: 0.0137 - val_mae: 0.0307\n",
      "Epoch 30/50\n",
      "\u001B[1m123/123\u001B[0m \u001B[32m━━━━━━━━━━━━━━━━━━━━\u001B[0m\u001B[37m\u001B[0m \u001B[1m0s\u001B[0m 2ms/step - loss: 0.0092 - mae: 0.0231 - val_loss: 0.0128 - val_mae: 0.0294\n",
      "Epoch 31/50\n",
      "\u001B[1m123/123\u001B[0m \u001B[32m━━━━━━━━━━━━━━━━━━━━\u001B[0m\u001B[37m\u001B[0m \u001B[1m0s\u001B[0m 2ms/step - loss: 0.0093 - mae: 0.0236 - val_loss: 0.0137 - val_mae: 0.0286\n",
      "Epoch 32/50\n",
      "\u001B[1m123/123\u001B[0m \u001B[32m━━━━━━━━━━━━━━━━━━━━\u001B[0m\u001B[37m\u001B[0m \u001B[1m0s\u001B[0m 2ms/step - loss: 0.0087 - mae: 0.0208 - val_loss: 0.0138 - val_mae: 0.0338\n",
      "Epoch 33/50\n",
      "\u001B[1m123/123\u001B[0m \u001B[32m━━━━━━━━━━━━━━━━━━━━\u001B[0m\u001B[37m\u001B[0m \u001B[1m0s\u001B[0m 2ms/step - loss: 0.0084 - mae: 0.0241 - val_loss: 0.0139 - val_mae: 0.0300\n",
      "Epoch 34/50\n",
      "\u001B[1m123/123\u001B[0m \u001B[32m━━━━━━━━━━━━━━━━━━━━\u001B[0m\u001B[37m\u001B[0m \u001B[1m0s\u001B[0m 2ms/step - loss: 0.0078 - mae: 0.0203 - val_loss: 0.0137 - val_mae: 0.0311\n",
      "Epoch 35/50\n",
      "\u001B[1m123/123\u001B[0m \u001B[32m━━━━━━━━━━━━━━━━━━━━\u001B[0m\u001B[37m\u001B[0m \u001B[1m0s\u001B[0m 2ms/step - loss: 0.0087 - mae: 0.0230 - val_loss: 0.0130 - val_mae: 0.0304\n",
      "Epoch 36/50\n",
      "\u001B[1m123/123\u001B[0m \u001B[32m━━━━━━━━━━━━━━━━━━━━\u001B[0m\u001B[37m\u001B[0m \u001B[1m0s\u001B[0m 2ms/step - loss: 0.0074 - mae: 0.0202 - val_loss: 0.0133 - val_mae: 0.0301\n",
      "Epoch 37/50\n",
      "\u001B[1m123/123\u001B[0m \u001B[32m━━━━━━━━━━━━━━━━━━━━\u001B[0m\u001B[37m\u001B[0m \u001B[1m0s\u001B[0m 2ms/step - loss: 0.0094 - mae: 0.0224 - val_loss: 0.0152 - val_mae: 0.0344\n",
      "Epoch 38/50\n",
      "\u001B[1m123/123\u001B[0m \u001B[32m━━━━━━━━━━━━━━━━━━━━\u001B[0m\u001B[37m\u001B[0m \u001B[1m0s\u001B[0m 2ms/step - loss: 0.0083 - mae: 0.0214 - val_loss: 0.0134 - val_mae: 0.0304\n",
      "Epoch 39/50\n",
      "\u001B[1m123/123\u001B[0m \u001B[32m━━━━━━━━━━━━━━━━━━━━\u001B[0m\u001B[37m\u001B[0m \u001B[1m0s\u001B[0m 2ms/step - loss: 0.0061 - mae: 0.0192 - val_loss: 0.0137 - val_mae: 0.0293\n",
      "Epoch 40/50\n",
      "\u001B[1m123/123\u001B[0m \u001B[32m━━━━━━━━━━━━━━━━━━━━\u001B[0m\u001B[37m\u001B[0m \u001B[1m0s\u001B[0m 2ms/step - loss: 0.0084 - mae: 0.0200 - val_loss: 0.0144 - val_mae: 0.0325\n",
      "Epoch 41/50\n",
      "\u001B[1m123/123\u001B[0m \u001B[32m━━━━━━━━━━━━━━━━━━━━\u001B[0m\u001B[37m\u001B[0m \u001B[1m0s\u001B[0m 2ms/step - loss: 0.0068 - mae: 0.0192 - val_loss: 0.0162 - val_mae: 0.0349\n",
      "Epoch 42/50\n",
      "\u001B[1m123/123\u001B[0m \u001B[32m━━━━━━━━━━━━━━━━━━━━\u001B[0m\u001B[37m\u001B[0m \u001B[1m0s\u001B[0m 2ms/step - loss: 0.0097 - mae: 0.0224 - val_loss: 0.0124 - val_mae: 0.0273\n",
      "Epoch 43/50\n",
      "\u001B[1m123/123\u001B[0m \u001B[32m━━━━━━━━━━━━━━━━━━━━\u001B[0m\u001B[37m\u001B[0m \u001B[1m0s\u001B[0m 2ms/step - loss: 0.0083 - mae: 0.0201 - val_loss: 0.0133 - val_mae: 0.0279\n",
      "Epoch 44/50\n",
      "\u001B[1m123/123\u001B[0m \u001B[32m━━━━━━━━━━━━━━━━━━━━\u001B[0m\u001B[37m\u001B[0m \u001B[1m0s\u001B[0m 2ms/step - loss: 0.0068 - mae: 0.0178 - val_loss: 0.0128 - val_mae: 0.0292\n",
      "Epoch 45/50\n",
      "\u001B[1m123/123\u001B[0m \u001B[32m━━━━━━━━━━━━━━━━━━━━\u001B[0m\u001B[37m\u001B[0m \u001B[1m0s\u001B[0m 2ms/step - loss: 0.0079 - mae: 0.0199 - val_loss: 0.0132 - val_mae: 0.0275\n",
      "Epoch 46/50\n",
      "\u001B[1m123/123\u001B[0m \u001B[32m━━━━━━━━━━━━━━━━━━━━\u001B[0m\u001B[37m\u001B[0m \u001B[1m0s\u001B[0m 2ms/step - loss: 0.0076 - mae: 0.0194 - val_loss: 0.0137 - val_mae: 0.0303\n",
      "Epoch 47/50\n",
      "\u001B[1m123/123\u001B[0m \u001B[32m━━━━━━━━━━━━━━━━━━━━\u001B[0m\u001B[37m\u001B[0m \u001B[1m0s\u001B[0m 2ms/step - loss: 0.0070 - mae: 0.0187 - val_loss: 0.0136 - val_mae: 0.0281\n",
      "Epoch 48/50\n",
      "\u001B[1m123/123\u001B[0m \u001B[32m━━━━━━━━━━━━━━━━━━━━\u001B[0m\u001B[37m\u001B[0m \u001B[1m0s\u001B[0m 2ms/step - loss: 0.0073 - mae: 0.0190 - val_loss: 0.0134 - val_mae: 0.0228\n",
      "Epoch 49/50\n",
      "\u001B[1m123/123\u001B[0m \u001B[32m━━━━━━━━━━━━━━━━━━━━\u001B[0m\u001B[37m\u001B[0m \u001B[1m0s\u001B[0m 2ms/step - loss: 0.0062 - mae: 0.0151 - val_loss: 0.0136 - val_mae: 0.0266\n",
      "Epoch 50/50\n",
      "\u001B[1m123/123\u001B[0m \u001B[32m━━━━━━━━━━━━━━━━━━━━\u001B[0m\u001B[37m\u001B[0m \u001B[1m0s\u001B[0m 2ms/step - loss: 0.0069 - mae: 0.0179 - val_loss: 0.0144 - val_mae: 0.0290\n"
     ]
    },
    {
     "name": "stderr",
     "output_type": "stream",
     "text": [
      "[I 2025-02-06 21:05:49,186] Trial 1 finished with value: 0.01441191602498293 and parameters: {'units': 288, 'learning_rate': 0.001}. Best is trial 1 with value: 0.01441191602498293.\n"
     ]
    },
    {
     "name": "stdout",
     "output_type": "stream",
     "text": [
      "Epoch 1/50\n",
      "\u001B[1m123/123\u001B[0m \u001B[32m━━━━━━━━━━━━━━━━━━━━\u001B[0m\u001B[37m\u001B[0m \u001B[1m1s\u001B[0m 3ms/step - loss: 0.1110 - mae: 0.1242 - val_loss: 0.0916 - val_mae: 0.0916\n",
      "Epoch 2/50\n",
      "\u001B[1m123/123\u001B[0m \u001B[32m━━━━━━━━━━━━━━━━━━━━\u001B[0m\u001B[37m\u001B[0m \u001B[1m0s\u001B[0m 2ms/step - loss: 0.1016 - mae: 0.1016 - val_loss: 0.0916 - val_mae: 0.0916\n",
      "Epoch 3/50\n",
      "\u001B[1m123/123\u001B[0m \u001B[32m━━━━━━━━━━━━━━━━━━━━\u001B[0m\u001B[37m\u001B[0m \u001B[1m0s\u001B[0m 2ms/step - loss: 0.1021 - mae: 0.1021 - val_loss: 0.0916 - val_mae: 0.0916\n",
      "Epoch 4/50\n",
      "\u001B[1m123/123\u001B[0m \u001B[32m━━━━━━━━━━━━━━━━━━━━\u001B[0m\u001B[37m\u001B[0m \u001B[1m0s\u001B[0m 2ms/step - loss: 0.1017 - mae: 0.1017 - val_loss: 0.0916 - val_mae: 0.0916\n",
      "Epoch 5/50\n",
      "\u001B[1m123/123\u001B[0m \u001B[32m━━━━━━━━━━━━━━━━━━━━\u001B[0m\u001B[37m\u001B[0m \u001B[1m0s\u001B[0m 3ms/step - loss: 0.1072 - mae: 0.1072 - val_loss: 0.0916 - val_mae: 0.0916\n",
      "Epoch 6/50\n",
      "\u001B[1m123/123\u001B[0m \u001B[32m━━━━━━━━━━━━━━━━━━━━\u001B[0m\u001B[37m\u001B[0m \u001B[1m0s\u001B[0m 2ms/step - loss: 0.1034 - mae: 0.1034 - val_loss: 0.0916 - val_mae: 0.0916\n",
      "Epoch 7/50\n",
      "\u001B[1m123/123\u001B[0m \u001B[32m━━━━━━━━━━━━━━━━━━━━\u001B[0m\u001B[37m\u001B[0m \u001B[1m0s\u001B[0m 3ms/step - loss: 0.0981 - mae: 0.0981 - val_loss: 0.0916 - val_mae: 0.0916\n",
      "Epoch 8/50\n",
      "\u001B[1m123/123\u001B[0m \u001B[32m━━━━━━━━━━━━━━━━━━━━\u001B[0m\u001B[37m\u001B[0m \u001B[1m0s\u001B[0m 2ms/step - loss: 0.0951 - mae: 0.0951 - val_loss: 0.0916 - val_mae: 0.0916\n",
      "Epoch 9/50\n",
      "\u001B[1m123/123\u001B[0m \u001B[32m━━━━━━━━━━━━━━━━━━━━\u001B[0m\u001B[37m\u001B[0m \u001B[1m0s\u001B[0m 2ms/step - loss: 0.1030 - mae: 0.1030 - val_loss: 0.0916 - val_mae: 0.0916\n",
      "Epoch 10/50\n",
      "\u001B[1m123/123\u001B[0m \u001B[32m━━━━━━━━━━━━━━━━━━━━\u001B[0m\u001B[37m\u001B[0m \u001B[1m0s\u001B[0m 2ms/step - loss: 0.1000 - mae: 0.1000 - val_loss: 0.0916 - val_mae: 0.0916\n",
      "Epoch 11/50\n",
      "\u001B[1m123/123\u001B[0m \u001B[32m━━━━━━━━━━━━━━━━━━━━\u001B[0m\u001B[37m\u001B[0m \u001B[1m0s\u001B[0m 2ms/step - loss: 0.1047 - mae: 0.1048 - val_loss: 0.0916 - val_mae: 0.0916\n",
      "Epoch 12/50\n",
      "\u001B[1m123/123\u001B[0m \u001B[32m━━━━━━━━━━━━━━━━━━━━\u001B[0m\u001B[37m\u001B[0m \u001B[1m0s\u001B[0m 2ms/step - loss: 0.1053 - mae: 0.1054 - val_loss: 0.0916 - val_mae: 0.0916\n",
      "Epoch 13/50\n",
      "\u001B[1m123/123\u001B[0m \u001B[32m━━━━━━━━━━━━━━━━━━━━\u001B[0m\u001B[37m\u001B[0m \u001B[1m0s\u001B[0m 2ms/step - loss: 0.0985 - mae: 0.0985 - val_loss: 0.0916 - val_mae: 0.0916\n",
      "Epoch 14/50\n",
      "\u001B[1m123/123\u001B[0m \u001B[32m━━━━━━━━━━━━━━━━━━━━\u001B[0m\u001B[37m\u001B[0m \u001B[1m0s\u001B[0m 2ms/step - loss: 0.0982 - mae: 0.0982 - val_loss: 0.0916 - val_mae: 0.0916\n",
      "Epoch 15/50\n",
      "\u001B[1m123/123\u001B[0m \u001B[32m━━━━━━━━━━━━━━━━━━━━\u001B[0m\u001B[37m\u001B[0m \u001B[1m0s\u001B[0m 2ms/step - loss: 0.0923 - mae: 0.0923 - val_loss: 0.0916 - val_mae: 0.0916\n",
      "Epoch 16/50\n",
      "\u001B[1m123/123\u001B[0m \u001B[32m━━━━━━━━━━━━━━━━━━━━\u001B[0m\u001B[37m\u001B[0m \u001B[1m0s\u001B[0m 2ms/step - loss: 0.0986 - mae: 0.0986 - val_loss: 0.0916 - val_mae: 0.0916\n",
      "Epoch 17/50\n",
      "\u001B[1m123/123\u001B[0m \u001B[32m━━━━━━━━━━━━━━━━━━━━\u001B[0m\u001B[37m\u001B[0m \u001B[1m1s\u001B[0m 3ms/step - loss: 0.0956 - mae: 0.0956 - val_loss: 0.0916 - val_mae: 0.0916\n",
      "Epoch 18/50\n",
      "\u001B[1m123/123\u001B[0m \u001B[32m━━━━━━━━━━━━━━━━━━━━\u001B[0m\u001B[37m\u001B[0m \u001B[1m0s\u001B[0m 3ms/step - loss: 0.0924 - mae: 0.0924 - val_loss: 0.0916 - val_mae: 0.0916\n",
      "Epoch 19/50\n",
      "\u001B[1m123/123\u001B[0m \u001B[32m━━━━━━━━━━━━━━━━━━━━\u001B[0m\u001B[37m\u001B[0m \u001B[1m0s\u001B[0m 2ms/step - loss: 0.1009 - mae: 0.1009 - val_loss: 0.0916 - val_mae: 0.0916\n",
      "Epoch 20/50\n",
      "\u001B[1m123/123\u001B[0m \u001B[32m━━━━━━━━━━━━━━━━━━━━\u001B[0m\u001B[37m\u001B[0m \u001B[1m0s\u001B[0m 2ms/step - loss: 0.0934 - mae: 0.0934 - val_loss: 0.0916 - val_mae: 0.0916\n",
      "Epoch 21/50\n",
      "\u001B[1m123/123\u001B[0m \u001B[32m━━━━━━━━━━━━━━━━━━━━\u001B[0m\u001B[37m\u001B[0m \u001B[1m0s\u001B[0m 3ms/step - loss: 0.0932 - mae: 0.0932 - val_loss: 0.0916 - val_mae: 0.0916\n",
      "Epoch 22/50\n",
      "\u001B[1m123/123\u001B[0m \u001B[32m━━━━━━━━━━━━━━━━━━━━\u001B[0m\u001B[37m\u001B[0m \u001B[1m0s\u001B[0m 2ms/step - loss: 0.1110 - mae: 0.1110 - val_loss: 0.0916 - val_mae: 0.0916\n",
      "Epoch 23/50\n",
      "\u001B[1m123/123\u001B[0m \u001B[32m━━━━━━━━━━━━━━━━━━━━\u001B[0m\u001B[37m\u001B[0m \u001B[1m0s\u001B[0m 2ms/step - loss: 0.0933 - mae: 0.0933 - val_loss: 0.0916 - val_mae: 0.0916\n",
      "Epoch 24/50\n",
      "\u001B[1m123/123\u001B[0m \u001B[32m━━━━━━━━━━━━━━━━━━━━\u001B[0m\u001B[37m\u001B[0m \u001B[1m0s\u001B[0m 2ms/step - loss: 0.0968 - mae: 0.0968 - val_loss: 0.0916 - val_mae: 0.0916\n",
      "Epoch 25/50\n",
      "\u001B[1m123/123\u001B[0m \u001B[32m━━━━━━━━━━━━━━━━━━━━\u001B[0m\u001B[37m\u001B[0m \u001B[1m0s\u001B[0m 2ms/step - loss: 0.0984 - mae: 0.0984 - val_loss: 0.0916 - val_mae: 0.0916\n",
      "Epoch 26/50\n",
      "\u001B[1m123/123\u001B[0m \u001B[32m━━━━━━━━━━━━━━━━━━━━\u001B[0m\u001B[37m\u001B[0m \u001B[1m0s\u001B[0m 2ms/step - loss: 0.1082 - mae: 0.1082 - val_loss: 0.0916 - val_mae: 0.0916\n",
      "Epoch 27/50\n",
      "\u001B[1m123/123\u001B[0m \u001B[32m━━━━━━━━━━━━━━━━━━━━\u001B[0m\u001B[37m\u001B[0m \u001B[1m0s\u001B[0m 2ms/step - loss: 0.0976 - mae: 0.0976 - val_loss: 0.0916 - val_mae: 0.0916\n",
      "Epoch 28/50\n",
      "\u001B[1m123/123\u001B[0m \u001B[32m━━━━━━━━━━━━━━━━━━━━\u001B[0m\u001B[37m\u001B[0m \u001B[1m0s\u001B[0m 2ms/step - loss: 0.0970 - mae: 0.0970 - val_loss: 0.0916 - val_mae: 0.0916\n",
      "Epoch 29/50\n",
      "\u001B[1m123/123\u001B[0m \u001B[32m━━━━━━━━━━━━━━━━━━━━\u001B[0m\u001B[37m\u001B[0m \u001B[1m0s\u001B[0m 2ms/step - loss: 0.0968 - mae: 0.0968 - val_loss: 0.0916 - val_mae: 0.0916\n",
      "Epoch 30/50\n",
      "\u001B[1m123/123\u001B[0m \u001B[32m━━━━━━━━━━━━━━━━━━━━\u001B[0m\u001B[37m\u001B[0m \u001B[1m0s\u001B[0m 2ms/step - loss: 0.0991 - mae: 0.0991 - val_loss: 0.0916 - val_mae: 0.0916\n",
      "Epoch 31/50\n",
      "\u001B[1m123/123\u001B[0m \u001B[32m━━━━━━━━━━━━━━━━━━━━\u001B[0m\u001B[37m\u001B[0m \u001B[1m0s\u001B[0m 2ms/step - loss: 0.0889 - mae: 0.0889 - val_loss: 0.0916 - val_mae: 0.0916\n",
      "Epoch 32/50\n",
      "\u001B[1m123/123\u001B[0m \u001B[32m━━━━━━━━━━━━━━━━━━━━\u001B[0m\u001B[37m\u001B[0m \u001B[1m0s\u001B[0m 2ms/step - loss: 0.1032 - mae: 0.1032 - val_loss: 0.0916 - val_mae: 0.0916\n",
      "Epoch 33/50\n",
      "\u001B[1m123/123\u001B[0m \u001B[32m━━━━━━━━━━━━━━━━━━━━\u001B[0m\u001B[37m\u001B[0m \u001B[1m0s\u001B[0m 2ms/step - loss: 0.0950 - mae: 0.0950 - val_loss: 0.0916 - val_mae: 0.0916\n",
      "Epoch 34/50\n",
      "\u001B[1m123/123\u001B[0m \u001B[32m━━━━━━━━━━━━━━━━━━━━\u001B[0m\u001B[37m\u001B[0m \u001B[1m0s\u001B[0m 2ms/step - loss: 0.1062 - mae: 0.1062 - val_loss: 0.0916 - val_mae: 0.0916\n",
      "Epoch 35/50\n",
      "\u001B[1m123/123\u001B[0m \u001B[32m━━━━━━━━━━━━━━━━━━━━\u001B[0m\u001B[37m\u001B[0m \u001B[1m0s\u001B[0m 2ms/step - loss: 0.0914 - mae: 0.0914 - val_loss: 0.0916 - val_mae: 0.0916\n",
      "Epoch 36/50\n",
      "\u001B[1m123/123\u001B[0m \u001B[32m━━━━━━━━━━━━━━━━━━━━\u001B[0m\u001B[37m\u001B[0m \u001B[1m0s\u001B[0m 2ms/step - loss: 0.0976 - mae: 0.0976 - val_loss: 0.0916 - val_mae: 0.0916\n",
      "Epoch 37/50\n",
      "\u001B[1m123/123\u001B[0m \u001B[32m━━━━━━━━━━━━━━━━━━━━\u001B[0m\u001B[37m\u001B[0m \u001B[1m0s\u001B[0m 2ms/step - loss: 0.0957 - mae: 0.0957 - val_loss: 0.0916 - val_mae: 0.0916\n",
      "Epoch 38/50\n",
      "\u001B[1m123/123\u001B[0m \u001B[32m━━━━━━━━━━━━━━━━━━━━\u001B[0m\u001B[37m\u001B[0m \u001B[1m0s\u001B[0m 2ms/step - loss: 0.1094 - mae: 0.1094 - val_loss: 0.0916 - val_mae: 0.0916\n",
      "Epoch 39/50\n",
      "\u001B[1m123/123\u001B[0m \u001B[32m━━━━━━━━━━━━━━━━━━━━\u001B[0m\u001B[37m\u001B[0m \u001B[1m0s\u001B[0m 2ms/step - loss: 0.0982 - mae: 0.0982 - val_loss: 0.0916 - val_mae: 0.0916\n",
      "Epoch 40/50\n",
      "\u001B[1m123/123\u001B[0m \u001B[32m━━━━━━━━━━━━━━━━━━━━\u001B[0m\u001B[37m\u001B[0m \u001B[1m0s\u001B[0m 2ms/step - loss: 0.1042 - mae: 0.1042 - val_loss: 0.0916 - val_mae: 0.0916\n",
      "Epoch 41/50\n",
      "\u001B[1m123/123\u001B[0m \u001B[32m━━━━━━━━━━━━━━━━━━━━\u001B[0m\u001B[37m\u001B[0m \u001B[1m0s\u001B[0m 2ms/step - loss: 0.0962 - mae: 0.0962 - val_loss: 0.0916 - val_mae: 0.0916\n",
      "Epoch 42/50\n",
      "\u001B[1m123/123\u001B[0m \u001B[32m━━━━━━━━━━━━━━━━━━━━\u001B[0m\u001B[37m\u001B[0m \u001B[1m0s\u001B[0m 2ms/step - loss: 0.1019 - mae: 0.1019 - val_loss: 0.0916 - val_mae: 0.0916\n",
      "Epoch 43/50\n",
      "\u001B[1m123/123\u001B[0m \u001B[32m━━━━━━━━━━━━━━━━━━━━\u001B[0m\u001B[37m\u001B[0m \u001B[1m0s\u001B[0m 2ms/step - loss: 0.0942 - mae: 0.0942 - val_loss: 0.0916 - val_mae: 0.0916\n",
      "Epoch 44/50\n",
      "\u001B[1m123/123\u001B[0m \u001B[32m━━━━━━━━━━━━━━━━━━━━\u001B[0m\u001B[37m\u001B[0m \u001B[1m0s\u001B[0m 2ms/step - loss: 0.0984 - mae: 0.0984 - val_loss: 0.0916 - val_mae: 0.0916\n",
      "Epoch 45/50\n",
      "\u001B[1m123/123\u001B[0m \u001B[32m━━━━━━━━━━━━━━━━━━━━\u001B[0m\u001B[37m\u001B[0m \u001B[1m0s\u001B[0m 2ms/step - loss: 0.0927 - mae: 0.0927 - val_loss: 0.0916 - val_mae: 0.0916\n",
      "Epoch 46/50\n",
      "\u001B[1m123/123\u001B[0m \u001B[32m━━━━━━━━━━━━━━━━━━━━\u001B[0m\u001B[37m\u001B[0m \u001B[1m0s\u001B[0m 2ms/step - loss: 0.0995 - mae: 0.0995 - val_loss: 0.0916 - val_mae: 0.0916\n",
      "Epoch 47/50\n",
      "\u001B[1m123/123\u001B[0m \u001B[32m━━━━━━━━━━━━━━━━━━━━\u001B[0m\u001B[37m\u001B[0m \u001B[1m0s\u001B[0m 2ms/step - loss: 0.0962 - mae: 0.0962 - val_loss: 0.0916 - val_mae: 0.0916\n",
      "Epoch 48/50\n",
      "\u001B[1m123/123\u001B[0m \u001B[32m━━━━━━━━━━━━━━━━━━━━\u001B[0m\u001B[37m\u001B[0m \u001B[1m0s\u001B[0m 2ms/step - loss: 0.1023 - mae: 0.1023 - val_loss: 0.0916 - val_mae: 0.0916\n",
      "Epoch 49/50\n",
      "\u001B[1m123/123\u001B[0m \u001B[32m━━━━━━━━━━━━━━━━━━━━\u001B[0m\u001B[37m\u001B[0m \u001B[1m0s\u001B[0m 2ms/step - loss: 0.1036 - mae: 0.1036 - val_loss: 0.0916 - val_mae: 0.0916\n",
      "Epoch 50/50\n",
      "\u001B[1m123/123\u001B[0m \u001B[32m━━━━━━━━━━━━━━━━━━━━\u001B[0m\u001B[37m\u001B[0m \u001B[1m0s\u001B[0m 2ms/step - loss: 0.1014 - mae: 0.1014 - val_loss: 0.0916 - val_mae: 0.0916\n"
     ]
    },
    {
     "name": "stderr",
     "output_type": "stream",
     "text": [
      "[I 2025-02-06 21:06:06,186] Trial 2 finished with value: 0.09164969623088837 and parameters: {'units': 64, 'learning_rate': 0.1}. Best is trial 1 with value: 0.01441191602498293.\n"
     ]
    },
    {
     "name": "stdout",
     "output_type": "stream",
     "text": [
      "Epoch 1/50\n",
      "\u001B[1m123/123\u001B[0m \u001B[32m━━━━━━━━━━━━━━━━━━━━\u001B[0m\u001B[37m\u001B[0m \u001B[1m1s\u001B[0m 3ms/step - loss: 0.1106 - mae: 0.1214 - val_loss: 0.0916 - val_mae: 0.0916\n",
      "Epoch 2/50\n",
      "\u001B[1m123/123\u001B[0m \u001B[32m━━━━━━━━━━━━━━━━━━━━\u001B[0m\u001B[37m\u001B[0m \u001B[1m0s\u001B[0m 2ms/step - loss: 0.1023 - mae: 0.1023 - val_loss: 0.0916 - val_mae: 0.0916\n",
      "Epoch 3/50\n",
      "\u001B[1m123/123\u001B[0m \u001B[32m━━━━━━━━━━━━━━━━━━━━\u001B[0m\u001B[37m\u001B[0m \u001B[1m0s\u001B[0m 2ms/step - loss: 0.0939 - mae: 0.0939 - val_loss: 0.0916 - val_mae: 0.0916\n",
      "Epoch 4/50\n",
      "\u001B[1m123/123\u001B[0m \u001B[32m━━━━━━━━━━━━━━━━━━━━\u001B[0m\u001B[37m\u001B[0m \u001B[1m0s\u001B[0m 2ms/step - loss: 0.0907 - mae: 0.0907 - val_loss: 0.0916 - val_mae: 0.0916\n",
      "Epoch 5/50\n",
      "\u001B[1m123/123\u001B[0m \u001B[32m━━━━━━━━━━━━━━━━━━━━\u001B[0m\u001B[37m\u001B[0m \u001B[1m0s\u001B[0m 2ms/step - loss: 0.0891 - mae: 0.0891 - val_loss: 0.0916 - val_mae: 0.0916\n",
      "Epoch 6/50\n",
      "\u001B[1m123/123\u001B[0m \u001B[32m━━━━━━━━━━━━━━━━━━━━\u001B[0m\u001B[37m\u001B[0m \u001B[1m0s\u001B[0m 2ms/step - loss: 0.1006 - mae: 0.1006 - val_loss: 0.0916 - val_mae: 0.0916\n",
      "Epoch 7/50\n",
      "\u001B[1m123/123\u001B[0m \u001B[32m━━━━━━━━━━━━━━━━━━━━\u001B[0m\u001B[37m\u001B[0m \u001B[1m0s\u001B[0m 2ms/step - loss: 0.0959 - mae: 0.0959 - val_loss: 0.0916 - val_mae: 0.0916\n",
      "Epoch 8/50\n",
      "\u001B[1m123/123\u001B[0m \u001B[32m━━━━━━━━━━━━━━━━━━━━\u001B[0m\u001B[37m\u001B[0m \u001B[1m0s\u001B[0m 2ms/step - loss: 0.1030 - mae: 0.1030 - val_loss: 0.0916 - val_mae: 0.0916\n",
      "Epoch 9/50\n",
      "\u001B[1m123/123\u001B[0m \u001B[32m━━━━━━━━━━━━━━━━━━━━\u001B[0m\u001B[37m\u001B[0m \u001B[1m0s\u001B[0m 2ms/step - loss: 0.1032 - mae: 0.1032 - val_loss: 0.0916 - val_mae: 0.0916\n",
      "Epoch 10/50\n",
      "\u001B[1m123/123\u001B[0m \u001B[32m━━━━━━━━━━━━━━━━━━━━\u001B[0m\u001B[37m\u001B[0m \u001B[1m0s\u001B[0m 2ms/step - loss: 0.1052 - mae: 0.1052 - val_loss: 0.0916 - val_mae: 0.0916\n",
      "Epoch 11/50\n",
      "\u001B[1m123/123\u001B[0m \u001B[32m━━━━━━━━━━━━━━━━━━━━\u001B[0m\u001B[37m\u001B[0m \u001B[1m0s\u001B[0m 2ms/step - loss: 0.0962 - mae: 0.0962 - val_loss: 0.0916 - val_mae: 0.0916\n",
      "Epoch 12/50\n",
      "\u001B[1m123/123\u001B[0m \u001B[32m━━━━━━━━━━━━━━━━━━━━\u001B[0m\u001B[37m\u001B[0m \u001B[1m0s\u001B[0m 2ms/step - loss: 0.0968 - mae: 0.0968 - val_loss: 0.0916 - val_mae: 0.0916\n",
      "Epoch 13/50\n",
      "\u001B[1m123/123\u001B[0m \u001B[32m━━━━━━━━━━━━━━━━━━━━\u001B[0m\u001B[37m\u001B[0m \u001B[1m0s\u001B[0m 2ms/step - loss: 0.0957 - mae: 0.0957 - val_loss: 0.0916 - val_mae: 0.0916\n",
      "Epoch 14/50\n",
      "\u001B[1m123/123\u001B[0m \u001B[32m━━━━━━━━━━━━━━━━━━━━\u001B[0m\u001B[37m\u001B[0m \u001B[1m0s\u001B[0m 2ms/step - loss: 0.0945 - mae: 0.0945 - val_loss: 0.0916 - val_mae: 0.0916\n",
      "Epoch 15/50\n",
      "\u001B[1m123/123\u001B[0m \u001B[32m━━━━━━━━━━━━━━━━━━━━\u001B[0m\u001B[37m\u001B[0m \u001B[1m0s\u001B[0m 2ms/step - loss: 0.0924 - mae: 0.0924 - val_loss: 0.0916 - val_mae: 0.0916\n",
      "Epoch 16/50\n",
      "\u001B[1m123/123\u001B[0m \u001B[32m━━━━━━━━━━━━━━━━━━━━\u001B[0m\u001B[37m\u001B[0m \u001B[1m0s\u001B[0m 2ms/step - loss: 0.1011 - mae: 0.1011 - val_loss: 0.0916 - val_mae: 0.0916\n",
      "Epoch 17/50\n",
      "\u001B[1m123/123\u001B[0m \u001B[32m━━━━━━━━━━━━━━━━━━━━\u001B[0m\u001B[37m\u001B[0m \u001B[1m0s\u001B[0m 2ms/step - loss: 0.0946 - mae: 0.0946 - val_loss: 0.0916 - val_mae: 0.0916\n",
      "Epoch 18/50\n",
      "\u001B[1m123/123\u001B[0m \u001B[32m━━━━━━━━━━━━━━━━━━━━\u001B[0m\u001B[37m\u001B[0m \u001B[1m0s\u001B[0m 2ms/step - loss: 0.1019 - mae: 0.1019 - val_loss: 0.0916 - val_mae: 0.0916\n",
      "Epoch 19/50\n",
      "\u001B[1m123/123\u001B[0m \u001B[32m━━━━━━━━━━━━━━━━━━━━\u001B[0m\u001B[37m\u001B[0m \u001B[1m0s\u001B[0m 2ms/step - loss: 0.0964 - mae: 0.0964 - val_loss: 0.0916 - val_mae: 0.0916\n",
      "Epoch 20/50\n",
      "\u001B[1m123/123\u001B[0m \u001B[32m━━━━━━━━━━━━━━━━━━━━\u001B[0m\u001B[37m\u001B[0m \u001B[1m0s\u001B[0m 2ms/step - loss: 0.1046 - mae: 0.1046 - val_loss: 0.0916 - val_mae: 0.0916\n",
      "Epoch 21/50\n",
      "\u001B[1m123/123\u001B[0m \u001B[32m━━━━━━━━━━━━━━━━━━━━\u001B[0m\u001B[37m\u001B[0m \u001B[1m0s\u001B[0m 2ms/step - loss: 0.1076 - mae: 0.1076 - val_loss: 0.0916 - val_mae: 0.0916\n",
      "Epoch 22/50\n",
      "\u001B[1m123/123\u001B[0m \u001B[32m━━━━━━━━━━━━━━━━━━━━\u001B[0m\u001B[37m\u001B[0m \u001B[1m0s\u001B[0m 2ms/step - loss: 0.0997 - mae: 0.0997 - val_loss: 0.0916 - val_mae: 0.0916\n",
      "Epoch 23/50\n",
      "\u001B[1m123/123\u001B[0m \u001B[32m━━━━━━━━━━━━━━━━━━━━\u001B[0m\u001B[37m\u001B[0m \u001B[1m0s\u001B[0m 2ms/step - loss: 0.0971 - mae: 0.0971 - val_loss: 0.0916 - val_mae: 0.0916\n",
      "Epoch 24/50\n",
      "\u001B[1m123/123\u001B[0m \u001B[32m━━━━━━━━━━━━━━━━━━━━\u001B[0m\u001B[37m\u001B[0m \u001B[1m0s\u001B[0m 2ms/step - loss: 0.0972 - mae: 0.0972 - val_loss: 0.0916 - val_mae: 0.0916\n",
      "Epoch 25/50\n",
      "\u001B[1m123/123\u001B[0m \u001B[32m━━━━━━━━━━━━━━━━━━━━\u001B[0m\u001B[37m\u001B[0m \u001B[1m0s\u001B[0m 2ms/step - loss: 0.0944 - mae: 0.0944 - val_loss: 0.0916 - val_mae: 0.0916\n",
      "Epoch 26/50\n",
      "\u001B[1m123/123\u001B[0m \u001B[32m━━━━━━━━━━━━━━━━━━━━\u001B[0m\u001B[37m\u001B[0m \u001B[1m0s\u001B[0m 2ms/step - loss: 0.0976 - mae: 0.0976 - val_loss: 0.0916 - val_mae: 0.0916\n",
      "Epoch 27/50\n",
      "\u001B[1m123/123\u001B[0m \u001B[32m━━━━━━━━━━━━━━━━━━━━\u001B[0m\u001B[37m\u001B[0m \u001B[1m0s\u001B[0m 2ms/step - loss: 0.0980 - mae: 0.0980 - val_loss: 0.0916 - val_mae: 0.0916\n",
      "Epoch 28/50\n",
      "\u001B[1m123/123\u001B[0m \u001B[32m━━━━━━━━━━━━━━━━━━━━\u001B[0m\u001B[37m\u001B[0m \u001B[1m0s\u001B[0m 2ms/step - loss: 0.0975 - mae: 0.0975 - val_loss: 0.0916 - val_mae: 0.0916\n",
      "Epoch 29/50\n",
      "\u001B[1m123/123\u001B[0m \u001B[32m━━━━━━━━━━━━━━━━━━━━\u001B[0m\u001B[37m\u001B[0m \u001B[1m0s\u001B[0m 2ms/step - loss: 0.0962 - mae: 0.0962 - val_loss: 0.0916 - val_mae: 0.0916\n",
      "Epoch 30/50\n",
      "\u001B[1m123/123\u001B[0m \u001B[32m━━━━━━━━━━━━━━━━━━━━\u001B[0m\u001B[37m\u001B[0m \u001B[1m0s\u001B[0m 2ms/step - loss: 0.0967 - mae: 0.0967 - val_loss: 0.0916 - val_mae: 0.0916\n",
      "Epoch 31/50\n",
      "\u001B[1m123/123\u001B[0m \u001B[32m━━━━━━━━━━━━━━━━━━━━\u001B[0m\u001B[37m\u001B[0m \u001B[1m0s\u001B[0m 2ms/step - loss: 0.0996 - mae: 0.0996 - val_loss: 0.0916 - val_mae: 0.0916\n",
      "Epoch 32/50\n",
      "\u001B[1m123/123\u001B[0m \u001B[32m━━━━━━━━━━━━━━━━━━━━\u001B[0m\u001B[37m\u001B[0m \u001B[1m0s\u001B[0m 2ms/step - loss: 0.0996 - mae: 0.0996 - val_loss: 0.0916 - val_mae: 0.0916\n",
      "Epoch 33/50\n",
      "\u001B[1m123/123\u001B[0m \u001B[32m━━━━━━━━━━━━━━━━━━━━\u001B[0m\u001B[37m\u001B[0m \u001B[1m0s\u001B[0m 2ms/step - loss: 0.1044 - mae: 0.1044 - val_loss: 0.0916 - val_mae: 0.0916\n",
      "Epoch 34/50\n",
      "\u001B[1m123/123\u001B[0m \u001B[32m━━━━━━━━━━━━━━━━━━━━\u001B[0m\u001B[37m\u001B[0m \u001B[1m0s\u001B[0m 2ms/step - loss: 0.0938 - mae: 0.0938 - val_loss: 0.0916 - val_mae: 0.0916\n",
      "Epoch 35/50\n",
      "\u001B[1m123/123\u001B[0m \u001B[32m━━━━━━━━━━━━━━━━━━━━\u001B[0m\u001B[37m\u001B[0m \u001B[1m0s\u001B[0m 2ms/step - loss: 0.1012 - mae: 0.1012 - val_loss: 0.0916 - val_mae: 0.0916\n",
      "Epoch 36/50\n",
      "\u001B[1m123/123\u001B[0m \u001B[32m━━━━━━━━━━━━━━━━━━━━\u001B[0m\u001B[37m\u001B[0m \u001B[1m0s\u001B[0m 2ms/step - loss: 0.0991 - mae: 0.0991 - val_loss: 0.0916 - val_mae: 0.0916\n",
      "Epoch 37/50\n",
      "\u001B[1m123/123\u001B[0m \u001B[32m━━━━━━━━━━━━━━━━━━━━\u001B[0m\u001B[37m\u001B[0m \u001B[1m0s\u001B[0m 2ms/step - loss: 0.0986 - mae: 0.0986 - val_loss: 0.0916 - val_mae: 0.0916\n",
      "Epoch 38/50\n",
      "\u001B[1m123/123\u001B[0m \u001B[32m━━━━━━━━━━━━━━━━━━━━\u001B[0m\u001B[37m\u001B[0m \u001B[1m0s\u001B[0m 2ms/step - loss: 0.0946 - mae: 0.0946 - val_loss: 0.0916 - val_mae: 0.0916\n",
      "Epoch 39/50\n",
      "\u001B[1m123/123\u001B[0m \u001B[32m━━━━━━━━━━━━━━━━━━━━\u001B[0m\u001B[37m\u001B[0m \u001B[1m0s\u001B[0m 2ms/step - loss: 0.0982 - mae: 0.0982 - val_loss: 0.0916 - val_mae: 0.0916\n",
      "Epoch 40/50\n",
      "\u001B[1m123/123\u001B[0m \u001B[32m━━━━━━━━━━━━━━━━━━━━\u001B[0m\u001B[37m\u001B[0m \u001B[1m0s\u001B[0m 2ms/step - loss: 0.1038 - mae: 0.1038 - val_loss: 0.0916 - val_mae: 0.0916\n",
      "Epoch 41/50\n",
      "\u001B[1m123/123\u001B[0m \u001B[32m━━━━━━━━━━━━━━━━━━━━\u001B[0m\u001B[37m\u001B[0m \u001B[1m0s\u001B[0m 2ms/step - loss: 0.1063 - mae: 0.1063 - val_loss: 0.0916 - val_mae: 0.0916\n",
      "Epoch 42/50\n",
      "\u001B[1m123/123\u001B[0m \u001B[32m━━━━━━━━━━━━━━━━━━━━\u001B[0m\u001B[37m\u001B[0m \u001B[1m0s\u001B[0m 2ms/step - loss: 0.0930 - mae: 0.0930 - val_loss: 0.0916 - val_mae: 0.0916\n",
      "Epoch 43/50\n",
      "\u001B[1m123/123\u001B[0m \u001B[32m━━━━━━━━━━━━━━━━━━━━\u001B[0m\u001B[37m\u001B[0m \u001B[1m0s\u001B[0m 3ms/step - loss: 0.1024 - mae: 0.1024 - val_loss: 0.0916 - val_mae: 0.0916\n",
      "Epoch 44/50\n",
      "\u001B[1m123/123\u001B[0m \u001B[32m━━━━━━━━━━━━━━━━━━━━\u001B[0m\u001B[37m\u001B[0m \u001B[1m0s\u001B[0m 2ms/step - loss: 0.1029 - mae: 0.1029 - val_loss: 0.0916 - val_mae: 0.0916\n",
      "Epoch 45/50\n",
      "\u001B[1m123/123\u001B[0m \u001B[32m━━━━━━━━━━━━━━━━━━━━\u001B[0m\u001B[37m\u001B[0m \u001B[1m0s\u001B[0m 2ms/step - loss: 0.0980 - mae: 0.0980 - val_loss: 0.0916 - val_mae: 0.0916\n",
      "Epoch 46/50\n",
      "\u001B[1m123/123\u001B[0m \u001B[32m━━━━━━━━━━━━━━━━━━━━\u001B[0m\u001B[37m\u001B[0m \u001B[1m0s\u001B[0m 2ms/step - loss: 0.0979 - mae: 0.0979 - val_loss: 0.0916 - val_mae: 0.0916\n",
      "Epoch 47/50\n",
      "\u001B[1m123/123\u001B[0m \u001B[32m━━━━━━━━━━━━━━━━━━━━\u001B[0m\u001B[37m\u001B[0m \u001B[1m0s\u001B[0m 2ms/step - loss: 0.0943 - mae: 0.0943 - val_loss: 0.0916 - val_mae: 0.0916\n",
      "Epoch 48/50\n",
      "\u001B[1m123/123\u001B[0m \u001B[32m━━━━━━━━━━━━━━━━━━━━\u001B[0m\u001B[37m\u001B[0m \u001B[1m0s\u001B[0m 2ms/step - loss: 0.1062 - mae: 0.1062 - val_loss: 0.0916 - val_mae: 0.0916\n",
      "Epoch 49/50\n",
      "\u001B[1m123/123\u001B[0m \u001B[32m━━━━━━━━━━━━━━━━━━━━\u001B[0m\u001B[37m\u001B[0m \u001B[1m0s\u001B[0m 2ms/step - loss: 0.1021 - mae: 0.1021 - val_loss: 0.0916 - val_mae: 0.0916\n",
      "Epoch 50/50\n",
      "\u001B[1m123/123\u001B[0m \u001B[32m━━━━━━━━━━━━━━━━━━━━\u001B[0m\u001B[37m\u001B[0m \u001B[1m0s\u001B[0m 2ms/step - loss: 0.1029 - mae: 0.1029 - val_loss: 0.0916 - val_mae: 0.0916\n"
     ]
    },
    {
     "name": "stderr",
     "output_type": "stream",
     "text": [
      "[I 2025-02-06 21:06:22,732] Trial 3 finished with value: 0.09164969623088837 and parameters: {'units': 480, 'learning_rate': 0.1}. Best is trial 1 with value: 0.01441191602498293.\n"
     ]
    },
    {
     "name": "stdout",
     "output_type": "stream",
     "text": [
      "Epoch 1/50\n",
      "\u001B[1m123/123\u001B[0m \u001B[32m━━━━━━━━━━━━━━━━━━━━\u001B[0m\u001B[37m\u001B[0m \u001B[1m1s\u001B[0m 3ms/step - loss: 0.0997 - mae: 0.1115 - val_loss: 0.0916 - val_mae: 0.0916\n",
      "Epoch 2/50\n",
      "\u001B[1m123/123\u001B[0m \u001B[32m━━━━━━━━━━━━━━━━━━━━\u001B[0m\u001B[37m\u001B[0m \u001B[1m0s\u001B[0m 2ms/step - loss: 0.1074 - mae: 0.1074 - val_loss: 0.0916 - val_mae: 0.0916\n",
      "Epoch 3/50\n",
      "\u001B[1m123/123\u001B[0m \u001B[32m━━━━━━━━━━━━━━━━━━━━\u001B[0m\u001B[37m\u001B[0m \u001B[1m0s\u001B[0m 2ms/step - loss: 0.0927 - mae: 0.0927 - val_loss: 0.0916 - val_mae: 0.0916\n",
      "Epoch 4/50\n",
      "\u001B[1m123/123\u001B[0m \u001B[32m━━━━━━━━━━━━━━━━━━━━\u001B[0m\u001B[37m\u001B[0m \u001B[1m0s\u001B[0m 2ms/step - loss: 0.0929 - mae: 0.0929 - val_loss: 0.0916 - val_mae: 0.0916\n",
      "Epoch 5/50\n",
      "\u001B[1m123/123\u001B[0m \u001B[32m━━━━━━━━━━━━━━━━━━━━\u001B[0m\u001B[37m\u001B[0m \u001B[1m0s\u001B[0m 2ms/step - loss: 0.1042 - mae: 0.1042 - val_loss: 0.0916 - val_mae: 0.0916\n",
      "Epoch 6/50\n",
      "\u001B[1m123/123\u001B[0m \u001B[32m━━━━━━━━━━━━━━━━━━━━\u001B[0m\u001B[37m\u001B[0m \u001B[1m0s\u001B[0m 2ms/step - loss: 0.1022 - mae: 0.1022 - val_loss: 0.0916 - val_mae: 0.0916\n",
      "Epoch 7/50\n",
      "\u001B[1m123/123\u001B[0m \u001B[32m━━━━━━━━━━━━━━━━━━━━\u001B[0m\u001B[37m\u001B[0m \u001B[1m0s\u001B[0m 2ms/step - loss: 0.0989 - mae: 0.0989 - val_loss: 0.0916 - val_mae: 0.0916\n",
      "Epoch 8/50\n",
      "\u001B[1m123/123\u001B[0m \u001B[32m━━━━━━━━━━━━━━━━━━━━\u001B[0m\u001B[37m\u001B[0m \u001B[1m0s\u001B[0m 2ms/step - loss: 0.0967 - mae: 0.0967 - val_loss: 0.0916 - val_mae: 0.0916\n",
      "Epoch 9/50\n",
      "\u001B[1m123/123\u001B[0m \u001B[32m━━━━━━━━━━━━━━━━━━━━\u001B[0m\u001B[37m\u001B[0m \u001B[1m0s\u001B[0m 2ms/step - loss: 0.0945 - mae: 0.0945 - val_loss: 0.0916 - val_mae: 0.0916\n",
      "Epoch 10/50\n",
      "\u001B[1m123/123\u001B[0m \u001B[32m━━━━━━━━━━━━━━━━━━━━\u001B[0m\u001B[37m\u001B[0m \u001B[1m0s\u001B[0m 2ms/step - loss: 0.0982 - mae: 0.0982 - val_loss: 0.0916 - val_mae: 0.0916\n",
      "Epoch 11/50\n",
      "\u001B[1m123/123\u001B[0m \u001B[32m━━━━━━━━━━━━━━━━━━━━\u001B[0m\u001B[37m\u001B[0m \u001B[1m0s\u001B[0m 2ms/step - loss: 0.0972 - mae: 0.0972 - val_loss: 0.0916 - val_mae: 0.0916\n",
      "Epoch 12/50\n",
      "\u001B[1m123/123\u001B[0m \u001B[32m━━━━━━━━━━━━━━━━━━━━\u001B[0m\u001B[37m\u001B[0m \u001B[1m0s\u001B[0m 2ms/step - loss: 0.1014 - mae: 0.1014 - val_loss: 0.0916 - val_mae: 0.0916\n",
      "Epoch 13/50\n",
      "\u001B[1m123/123\u001B[0m \u001B[32m━━━━━━━━━━━━━━━━━━━━\u001B[0m\u001B[37m\u001B[0m \u001B[1m0s\u001B[0m 2ms/step - loss: 0.1019 - mae: 0.1019 - val_loss: 0.0916 - val_mae: 0.0916\n",
      "Epoch 14/50\n",
      "\u001B[1m123/123\u001B[0m \u001B[32m━━━━━━━━━━━━━━━━━━━━\u001B[0m\u001B[37m\u001B[0m \u001B[1m0s\u001B[0m 2ms/step - loss: 0.0921 - mae: 0.0921 - val_loss: 0.0916 - val_mae: 0.0916\n",
      "Epoch 15/50\n",
      "\u001B[1m123/123\u001B[0m \u001B[32m━━━━━━━━━━━━━━━━━━━━\u001B[0m\u001B[37m\u001B[0m \u001B[1m0s\u001B[0m 2ms/step - loss: 0.0897 - mae: 0.0897 - val_loss: 0.0916 - val_mae: 0.0916\n",
      "Epoch 16/50\n",
      "\u001B[1m123/123\u001B[0m \u001B[32m━━━━━━━━━━━━━━━━━━━━\u001B[0m\u001B[37m\u001B[0m \u001B[1m0s\u001B[0m 2ms/step - loss: 0.0989 - mae: 0.0989 - val_loss: 0.0916 - val_mae: 0.0916\n",
      "Epoch 17/50\n",
      "\u001B[1m123/123\u001B[0m \u001B[32m━━━━━━━━━━━━━━━━━━━━\u001B[0m\u001B[37m\u001B[0m \u001B[1m0s\u001B[0m 2ms/step - loss: 0.0997 - mae: 0.0997 - val_loss: 0.0916 - val_mae: 0.0916\n",
      "Epoch 18/50\n",
      "\u001B[1m123/123\u001B[0m \u001B[32m━━━━━━━━━━━━━━━━━━━━\u001B[0m\u001B[37m\u001B[0m \u001B[1m0s\u001B[0m 2ms/step - loss: 0.1015 - mae: 0.1015 - val_loss: 0.0916 - val_mae: 0.0916\n",
      "Epoch 19/50\n",
      "\u001B[1m123/123\u001B[0m \u001B[32m━━━━━━━━━━━━━━━━━━━━\u001B[0m\u001B[37m\u001B[0m \u001B[1m0s\u001B[0m 3ms/step - loss: 0.0976 - mae: 0.0976 - val_loss: 0.0916 - val_mae: 0.0916\n",
      "Epoch 20/50\n",
      "\u001B[1m123/123\u001B[0m \u001B[32m━━━━━━━━━━━━━━━━━━━━\u001B[0m\u001B[37m\u001B[0m \u001B[1m0s\u001B[0m 2ms/step - loss: 0.0940 - mae: 0.0940 - val_loss: 0.0916 - val_mae: 0.0916\n",
      "Epoch 21/50\n",
      "\u001B[1m123/123\u001B[0m \u001B[32m━━━━━━━━━━━━━━━━━━━━\u001B[0m\u001B[37m\u001B[0m \u001B[1m0s\u001B[0m 2ms/step - loss: 0.1020 - mae: 0.1020 - val_loss: 0.0916 - val_mae: 0.0916\n",
      "Epoch 22/50\n",
      "\u001B[1m123/123\u001B[0m \u001B[32m━━━━━━━━━━━━━━━━━━━━\u001B[0m\u001B[37m\u001B[0m \u001B[1m0s\u001B[0m 2ms/step - loss: 0.0996 - mae: 0.0996 - val_loss: 0.0916 - val_mae: 0.0916\n",
      "Epoch 23/50\n",
      "\u001B[1m123/123\u001B[0m \u001B[32m━━━━━━━━━━━━━━━━━━━━\u001B[0m\u001B[37m\u001B[0m \u001B[1m0s\u001B[0m 2ms/step - loss: 0.0987 - mae: 0.0987 - val_loss: 0.0916 - val_mae: 0.0916\n",
      "Epoch 24/50\n",
      "\u001B[1m123/123\u001B[0m \u001B[32m━━━━━━━━━━━━━━━━━━━━\u001B[0m\u001B[37m\u001B[0m \u001B[1m0s\u001B[0m 2ms/step - loss: 0.0946 - mae: 0.0946 - val_loss: 0.0916 - val_mae: 0.0916\n",
      "Epoch 25/50\n",
      "\u001B[1m123/123\u001B[0m \u001B[32m━━━━━━━━━━━━━━━━━━━━\u001B[0m\u001B[37m\u001B[0m \u001B[1m0s\u001B[0m 2ms/step - loss: 0.1002 - mae: 0.1002 - val_loss: 0.0916 - val_mae: 0.0916\n",
      "Epoch 26/50\n",
      "\u001B[1m123/123\u001B[0m \u001B[32m━━━━━━━━━━━━━━━━━━━━\u001B[0m\u001B[37m\u001B[0m \u001B[1m0s\u001B[0m 2ms/step - loss: 0.1028 - mae: 0.1028 - val_loss: 0.0916 - val_mae: 0.0916\n",
      "Epoch 27/50\n",
      "\u001B[1m123/123\u001B[0m \u001B[32m━━━━━━━━━━━━━━━━━━━━\u001B[0m\u001B[37m\u001B[0m \u001B[1m0s\u001B[0m 2ms/step - loss: 0.1028 - mae: 0.1028 - val_loss: 0.0916 - val_mae: 0.0916\n",
      "Epoch 28/50\n",
      "\u001B[1m123/123\u001B[0m \u001B[32m━━━━━━━━━━━━━━━━━━━━\u001B[0m\u001B[37m\u001B[0m \u001B[1m0s\u001B[0m 2ms/step - loss: 0.1047 - mae: 0.1047 - val_loss: 0.0916 - val_mae: 0.0916\n",
      "Epoch 29/50\n",
      "\u001B[1m123/123\u001B[0m \u001B[32m━━━━━━━━━━━━━━━━━━━━\u001B[0m\u001B[37m\u001B[0m \u001B[1m0s\u001B[0m 2ms/step - loss: 0.1076 - mae: 0.1076 - val_loss: 0.0916 - val_mae: 0.0916\n",
      "Epoch 30/50\n",
      "\u001B[1m123/123\u001B[0m \u001B[32m━━━━━━━━━━━━━━━━━━━━\u001B[0m\u001B[37m\u001B[0m \u001B[1m0s\u001B[0m 2ms/step - loss: 0.0958 - mae: 0.0958 - val_loss: 0.0916 - val_mae: 0.0916\n",
      "Epoch 31/50\n",
      "\u001B[1m123/123\u001B[0m \u001B[32m━━━━━━━━━━━━━━━━━━━━\u001B[0m\u001B[37m\u001B[0m \u001B[1m0s\u001B[0m 2ms/step - loss: 0.0991 - mae: 0.0991 - val_loss: 0.0916 - val_mae: 0.0916\n",
      "Epoch 32/50\n",
      "\u001B[1m123/123\u001B[0m \u001B[32m━━━━━━━━━━━━━━━━━━━━\u001B[0m\u001B[37m\u001B[0m \u001B[1m0s\u001B[0m 2ms/step - loss: 0.1022 - mae: 0.1022 - val_loss: 0.0916 - val_mae: 0.0916\n",
      "Epoch 33/50\n",
      "\u001B[1m123/123\u001B[0m \u001B[32m━━━━━━━━━━━━━━━━━━━━\u001B[0m\u001B[37m\u001B[0m \u001B[1m0s\u001B[0m 2ms/step - loss: 0.0976 - mae: 0.0976 - val_loss: 0.0916 - val_mae: 0.0916\n",
      "Epoch 34/50\n",
      "\u001B[1m123/123\u001B[0m \u001B[32m━━━━━━━━━━━━━━━━━━━━\u001B[0m\u001B[37m\u001B[0m \u001B[1m1s\u001B[0m 2ms/step - loss: 0.0997 - mae: 0.0997 - val_loss: 0.0916 - val_mae: 0.0916\n",
      "Epoch 35/50\n",
      "\u001B[1m123/123\u001B[0m \u001B[32m━━━━━━━━━━━━━━━━━━━━\u001B[0m\u001B[37m\u001B[0m \u001B[1m0s\u001B[0m 2ms/step - loss: 0.1057 - mae: 0.1057 - val_loss: 0.0916 - val_mae: 0.0916\n",
      "Epoch 36/50\n",
      "\u001B[1m123/123\u001B[0m \u001B[32m━━━━━━━━━━━━━━━━━━━━\u001B[0m\u001B[37m\u001B[0m \u001B[1m0s\u001B[0m 2ms/step - loss: 0.0981 - mae: 0.0981 - val_loss: 0.0916 - val_mae: 0.0916\n",
      "Epoch 37/50\n",
      "\u001B[1m123/123\u001B[0m \u001B[32m━━━━━━━━━━━━━━━━━━━━\u001B[0m\u001B[37m\u001B[0m \u001B[1m0s\u001B[0m 2ms/step - loss: 0.0977 - mae: 0.0977 - val_loss: 0.0916 - val_mae: 0.0916\n",
      "Epoch 38/50\n",
      "\u001B[1m123/123\u001B[0m \u001B[32m━━━━━━━━━━━━━━━━━━━━\u001B[0m\u001B[37m\u001B[0m \u001B[1m0s\u001B[0m 2ms/step - loss: 0.0986 - mae: 0.0986 - val_loss: 0.0916 - val_mae: 0.0916\n",
      "Epoch 39/50\n",
      "\u001B[1m123/123\u001B[0m \u001B[32m━━━━━━━━━━━━━━━━━━━━\u001B[0m\u001B[37m\u001B[0m \u001B[1m0s\u001B[0m 2ms/step - loss: 0.0949 - mae: 0.0949 - val_loss: 0.0916 - val_mae: 0.0916\n",
      "Epoch 40/50\n",
      "\u001B[1m123/123\u001B[0m \u001B[32m━━━━━━━━━━━━━━━━━━━━\u001B[0m\u001B[37m\u001B[0m \u001B[1m0s\u001B[0m 2ms/step - loss: 0.0953 - mae: 0.0953 - val_loss: 0.0916 - val_mae: 0.0916\n",
      "Epoch 41/50\n",
      "\u001B[1m123/123\u001B[0m \u001B[32m━━━━━━━━━━━━━━━━━━━━\u001B[0m\u001B[37m\u001B[0m \u001B[1m0s\u001B[0m 2ms/step - loss: 0.0964 - mae: 0.0964 - val_loss: 0.0916 - val_mae: 0.0916\n",
      "Epoch 42/50\n",
      "\u001B[1m123/123\u001B[0m \u001B[32m━━━━━━━━━━━━━━━━━━━━\u001B[0m\u001B[37m\u001B[0m \u001B[1m0s\u001B[0m 2ms/step - loss: 0.1041 - mae: 0.1041 - val_loss: 0.0916 - val_mae: 0.0916\n",
      "Epoch 43/50\n",
      "\u001B[1m123/123\u001B[0m \u001B[32m━━━━━━━━━━━━━━━━━━━━\u001B[0m\u001B[37m\u001B[0m \u001B[1m0s\u001B[0m 2ms/step - loss: 0.1039 - mae: 0.1039 - val_loss: 0.0916 - val_mae: 0.0916\n",
      "Epoch 44/50\n",
      "\u001B[1m123/123\u001B[0m \u001B[32m━━━━━━━━━━━━━━━━━━━━\u001B[0m\u001B[37m\u001B[0m \u001B[1m0s\u001B[0m 2ms/step - loss: 0.1021 - mae: 0.1021 - val_loss: 0.0916 - val_mae: 0.0916\n",
      "Epoch 45/50\n",
      "\u001B[1m123/123\u001B[0m \u001B[32m━━━━━━━━━━━━━━━━━━━━\u001B[0m\u001B[37m\u001B[0m \u001B[1m0s\u001B[0m 2ms/step - loss: 0.0987 - mae: 0.0987 - val_loss: 0.0916 - val_mae: 0.0916\n",
      "Epoch 46/50\n",
      "\u001B[1m123/123\u001B[0m \u001B[32m━━━━━━━━━━━━━━━━━━━━\u001B[0m\u001B[37m\u001B[0m \u001B[1m0s\u001B[0m 2ms/step - loss: 0.1049 - mae: 0.1049 - val_loss: 0.0916 - val_mae: 0.0916\n",
      "Epoch 47/50\n",
      "\u001B[1m123/123\u001B[0m \u001B[32m━━━━━━━━━━━━━━━━━━━━\u001B[0m\u001B[37m\u001B[0m \u001B[1m0s\u001B[0m 2ms/step - loss: 0.1043 - mae: 0.1043 - val_loss: 0.0916 - val_mae: 0.0916\n",
      "Epoch 48/50\n",
      "\u001B[1m123/123\u001B[0m \u001B[32m━━━━━━━━━━━━━━━━━━━━\u001B[0m\u001B[37m\u001B[0m \u001B[1m0s\u001B[0m 2ms/step - loss: 0.0955 - mae: 0.0955 - val_loss: 0.0916 - val_mae: 0.0916\n",
      "Epoch 49/50\n",
      "\u001B[1m123/123\u001B[0m \u001B[32m━━━━━━━━━━━━━━━━━━━━\u001B[0m\u001B[37m\u001B[0m \u001B[1m0s\u001B[0m 2ms/step - loss: 0.0919 - mae: 0.0919 - val_loss: 0.0916 - val_mae: 0.0916\n",
      "Epoch 50/50\n",
      "\u001B[1m123/123\u001B[0m \u001B[32m━━━━━━━━━━━━━━━━━━━━\u001B[0m\u001B[37m\u001B[0m \u001B[1m0s\u001B[0m 2ms/step - loss: 0.0972 - mae: 0.0972 - val_loss: 0.0916 - val_mae: 0.0916\n"
     ]
    },
    {
     "name": "stderr",
     "output_type": "stream",
     "text": [
      "[I 2025-02-06 21:06:39,146] Trial 4 finished with value: 0.09164969623088837 and parameters: {'units': 160, 'learning_rate': 0.1}. Best is trial 1 with value: 0.01441191602498293.\n"
     ]
    },
    {
     "name": "stdout",
     "output_type": "stream",
     "text": [
      "Epoch 1/50\n",
      "\u001B[1m123/123\u001B[0m \u001B[32m━━━━━━━━━━━━━━━━━━━━\u001B[0m\u001B[37m\u001B[0m \u001B[1m1s\u001B[0m 3ms/step - loss: 0.1203 - mae: 0.2892 - val_loss: 0.0493 - val_mae: 0.1306\n",
      "Epoch 2/50\n",
      "\u001B[1m123/123\u001B[0m \u001B[32m━━━━━━━━━━━━━━━━━━━━\u001B[0m\u001B[37m\u001B[0m \u001B[1m0s\u001B[0m 2ms/step - loss: 0.0486 - mae: 0.1246 - val_loss: 0.0344 - val_mae: 0.1084\n",
      "Epoch 3/50\n",
      "\u001B[1m123/123\u001B[0m \u001B[32m━━━━━━━━━━━━━━━━━━━━\u001B[0m\u001B[37m\u001B[0m \u001B[1m0s\u001B[0m 2ms/step - loss: 0.0313 - mae: 0.1008 - val_loss: 0.0246 - val_mae: 0.0943\n",
      "Epoch 4/50\n",
      "\u001B[1m123/123\u001B[0m \u001B[32m━━━━━━━━━━━━━━━━━━━━\u001B[0m\u001B[37m\u001B[0m \u001B[1m0s\u001B[0m 2ms/step - loss: 0.0206 - mae: 0.0830 - val_loss: 0.0200 - val_mae: 0.0733\n",
      "Epoch 5/50\n",
      "\u001B[1m123/123\u001B[0m \u001B[32m━━━━━━━━━━━━━━━━━━━━\u001B[0m\u001B[37m\u001B[0m \u001B[1m0s\u001B[0m 3ms/step - loss: 0.0173 - mae: 0.0660 - val_loss: 0.0198 - val_mae: 0.0729\n",
      "Epoch 6/50\n",
      "\u001B[1m123/123\u001B[0m \u001B[32m━━━━━━━━━━━━━━━━━━━━\u001B[0m\u001B[37m\u001B[0m \u001B[1m0s\u001B[0m 2ms/step - loss: 0.0180 - mae: 0.0625 - val_loss: 0.0191 - val_mae: 0.0672\n",
      "Epoch 7/50\n",
      "\u001B[1m123/123\u001B[0m \u001B[32m━━━━━━━━━━━━━━━━━━━━\u001B[0m\u001B[37m\u001B[0m \u001B[1m0s\u001B[0m 2ms/step - loss: 0.0162 - mae: 0.0562 - val_loss: 0.0160 - val_mae: 0.0475\n",
      "Epoch 8/50\n",
      "\u001B[1m123/123\u001B[0m \u001B[32m━━━━━━━━━━━━━━━━━━━━\u001B[0m\u001B[37m\u001B[0m \u001B[1m0s\u001B[0m 2ms/step - loss: 0.0127 - mae: 0.0448 - val_loss: 0.0151 - val_mae: 0.0500\n",
      "Epoch 9/50\n",
      "\u001B[1m123/123\u001B[0m \u001B[32m━━━━━━━━━━━━━━━━━━━━\u001B[0m\u001B[37m\u001B[0m \u001B[1m0s\u001B[0m 2ms/step - loss: 0.0135 - mae: 0.0437 - val_loss: 0.0145 - val_mae: 0.0471\n",
      "Epoch 10/50\n",
      "\u001B[1m123/123\u001B[0m \u001B[32m━━━━━━━━━━━━━━━━━━━━\u001B[0m\u001B[37m\u001B[0m \u001B[1m0s\u001B[0m 2ms/step - loss: 0.0130 - mae: 0.0420 - val_loss: 0.0140 - val_mae: 0.0451\n",
      "Epoch 11/50\n",
      "\u001B[1m123/123\u001B[0m \u001B[32m━━━━━━━━━━━━━━━━━━━━\u001B[0m\u001B[37m\u001B[0m \u001B[1m0s\u001B[0m 2ms/step - loss: 0.0110 - mae: 0.0379 - val_loss: 0.0158 - val_mae: 0.0418\n",
      "Epoch 12/50\n",
      "\u001B[1m123/123\u001B[0m \u001B[32m━━━━━━━━━━━━━━━━━━━━\u001B[0m\u001B[37m\u001B[0m \u001B[1m0s\u001B[0m 2ms/step - loss: 0.0112 - mae: 0.0328 - val_loss: 0.0184 - val_mae: 0.0543\n",
      "Epoch 13/50\n",
      "\u001B[1m123/123\u001B[0m \u001B[32m━━━━━━━━━━━━━━━━━━━━\u001B[0m\u001B[37m\u001B[0m \u001B[1m0s\u001B[0m 2ms/step - loss: 0.0115 - mae: 0.0372 - val_loss: 0.0158 - val_mae: 0.0414\n",
      "Epoch 14/50\n",
      "\u001B[1m123/123\u001B[0m \u001B[32m━━━━━━━━━━━━━━━━━━━━\u001B[0m\u001B[37m\u001B[0m \u001B[1m0s\u001B[0m 2ms/step - loss: 0.0101 - mae: 0.0303 - val_loss: 0.0149 - val_mae: 0.0435\n",
      "Epoch 15/50\n",
      "\u001B[1m123/123\u001B[0m \u001B[32m━━━━━━━━━━━━━━━━━━━━\u001B[0m\u001B[37m\u001B[0m \u001B[1m1s\u001B[0m 2ms/step - loss: 0.0083 - mae: 0.0288 - val_loss: 0.0161 - val_mae: 0.0424\n",
      "Epoch 16/50\n",
      "\u001B[1m123/123\u001B[0m \u001B[32m━━━━━━━━━━━━━━━━━━━━\u001B[0m\u001B[37m\u001B[0m \u001B[1m0s\u001B[0m 2ms/step - loss: 0.0106 - mae: 0.0316 - val_loss: 0.0144 - val_mae: 0.0389\n",
      "Epoch 17/50\n",
      "\u001B[1m123/123\u001B[0m \u001B[32m━━━━━━━━━━━━━━━━━━━━\u001B[0m\u001B[37m\u001B[0m \u001B[1m0s\u001B[0m 2ms/step - loss: 0.0102 - mae: 0.0300 - val_loss: 0.0141 - val_mae: 0.0331\n",
      "Epoch 18/50\n",
      "\u001B[1m123/123\u001B[0m \u001B[32m━━━━━━━━━━━━━━━━━━━━\u001B[0m\u001B[37m\u001B[0m \u001B[1m0s\u001B[0m 2ms/step - loss: 0.0079 - mae: 0.0237 - val_loss: 0.0130 - val_mae: 0.0355\n",
      "Epoch 19/50\n",
      "\u001B[1m123/123\u001B[0m \u001B[32m━━━━━━━━━━━━━━━━━━━━\u001B[0m\u001B[37m\u001B[0m \u001B[1m0s\u001B[0m 2ms/step - loss: 0.0090 - mae: 0.0251 - val_loss: 0.0138 - val_mae: 0.0374\n",
      "Epoch 20/50\n",
      "\u001B[1m123/123\u001B[0m \u001B[32m━━━━━━━━━━━━━━━━━━━━\u001B[0m\u001B[37m\u001B[0m \u001B[1m0s\u001B[0m 2ms/step - loss: 0.0097 - mae: 0.0291 - val_loss: 0.0139 - val_mae: 0.0316\n",
      "Epoch 21/50\n",
      "\u001B[1m123/123\u001B[0m \u001B[32m━━━━━━━━━━━━━━━━━━━━\u001B[0m\u001B[37m\u001B[0m \u001B[1m0s\u001B[0m 2ms/step - loss: 0.0105 - mae: 0.0271 - val_loss: 0.0203 - val_mae: 0.0477\n",
      "Epoch 22/50\n",
      "\u001B[1m123/123\u001B[0m \u001B[32m━━━━━━━━━━━━━━━━━━━━\u001B[0m\u001B[37m\u001B[0m \u001B[1m0s\u001B[0m 2ms/step - loss: 0.0113 - mae: 0.0287 - val_loss: 0.0134 - val_mae: 0.0334\n",
      "Epoch 23/50\n",
      "\u001B[1m123/123\u001B[0m \u001B[32m━━━━━━━━━━━━━━━━━━━━\u001B[0m\u001B[37m\u001B[0m \u001B[1m0s\u001B[0m 2ms/step - loss: 0.0095 - mae: 0.0248 - val_loss: 0.0139 - val_mae: 0.0336\n",
      "Epoch 24/50\n",
      "\u001B[1m123/123\u001B[0m \u001B[32m━━━━━━━━━━━━━━━━━━━━\u001B[0m\u001B[37m\u001B[0m \u001B[1m0s\u001B[0m 2ms/step - loss: 0.0100 - mae: 0.0254 - val_loss: 0.0142 - val_mae: 0.0327\n",
      "Epoch 25/50\n",
      "\u001B[1m123/123\u001B[0m \u001B[32m━━━━━━━━━━━━━━━━━━━━\u001B[0m\u001B[37m\u001B[0m \u001B[1m0s\u001B[0m 2ms/step - loss: 0.0116 - mae: 0.0274 - val_loss: 0.0136 - val_mae: 0.0275\n",
      "Epoch 26/50\n",
      "\u001B[1m123/123\u001B[0m \u001B[32m━━━━━━━━━━━━━━━━━━━━\u001B[0m\u001B[37m\u001B[0m \u001B[1m0s\u001B[0m 2ms/step - loss: 0.0082 - mae: 0.0209 - val_loss: 0.0129 - val_mae: 0.0290\n",
      "Epoch 27/50\n",
      "\u001B[1m123/123\u001B[0m \u001B[32m━━━━━━━━━━━━━━━━━━━━\u001B[0m\u001B[37m\u001B[0m \u001B[1m0s\u001B[0m 2ms/step - loss: 0.0077 - mae: 0.0205 - val_loss: 0.0163 - val_mae: 0.0365\n",
      "Epoch 28/50\n",
      "\u001B[1m123/123\u001B[0m \u001B[32m━━━━━━━━━━━━━━━━━━━━\u001B[0m\u001B[37m\u001B[0m \u001B[1m0s\u001B[0m 2ms/step - loss: 0.0104 - mae: 0.0241 - val_loss: 0.0124 - val_mae: 0.0298\n",
      "Epoch 29/50\n",
      "\u001B[1m123/123\u001B[0m \u001B[32m━━━━━━━━━━━━━━━━━━━━\u001B[0m\u001B[37m\u001B[0m \u001B[1m0s\u001B[0m 2ms/step - loss: 0.0074 - mae: 0.0212 - val_loss: 0.0160 - val_mae: 0.0343\n",
      "Epoch 30/50\n",
      "\u001B[1m123/123\u001B[0m \u001B[32m━━━━━━━━━━━━━━━━━━━━\u001B[0m\u001B[37m\u001B[0m \u001B[1m0s\u001B[0m 2ms/step - loss: 0.0090 - mae: 0.0219 - val_loss: 0.0121 - val_mae: 0.0283\n",
      "Epoch 31/50\n",
      "\u001B[1m123/123\u001B[0m \u001B[32m━━━━━━━━━━━━━━━━━━━━\u001B[0m\u001B[37m\u001B[0m \u001B[1m0s\u001B[0m 2ms/step - loss: 0.0091 - mae: 0.0203 - val_loss: 0.0134 - val_mae: 0.0289\n",
      "Epoch 32/50\n",
      "\u001B[1m123/123\u001B[0m \u001B[32m━━━━━━━━━━━━━━━━━━━━\u001B[0m\u001B[37m\u001B[0m \u001B[1m0s\u001B[0m 2ms/step - loss: 0.0088 - mae: 0.0214 - val_loss: 0.0136 - val_mae: 0.0275\n",
      "Epoch 33/50\n",
      "\u001B[1m123/123\u001B[0m \u001B[32m━━━━━━━━━━━━━━━━━━━━\u001B[0m\u001B[37m\u001B[0m \u001B[1m0s\u001B[0m 2ms/step - loss: 0.0062 - mae: 0.0174 - val_loss: 0.0135 - val_mae: 0.0286\n",
      "Epoch 34/50\n",
      "\u001B[1m123/123\u001B[0m \u001B[32m━━━━━━━━━━━━━━━━━━━━\u001B[0m\u001B[37m\u001B[0m \u001B[1m0s\u001B[0m 2ms/step - loss: 0.0081 - mae: 0.0189 - val_loss: 0.0123 - val_mae: 0.0269\n",
      "Epoch 35/50\n",
      "\u001B[1m123/123\u001B[0m \u001B[32m━━━━━━━━━━━━━━━━━━━━\u001B[0m\u001B[37m\u001B[0m \u001B[1m0s\u001B[0m 2ms/step - loss: 0.0069 - mae: 0.0180 - val_loss: 0.0152 - val_mae: 0.0310\n",
      "Epoch 36/50\n",
      "\u001B[1m123/123\u001B[0m \u001B[32m━━━━━━━━━━━━━━━━━━━━\u001B[0m\u001B[37m\u001B[0m \u001B[1m0s\u001B[0m 2ms/step - loss: 0.0080 - mae: 0.0182 - val_loss: 0.0128 - val_mae: 0.0264\n",
      "Epoch 37/50\n",
      "\u001B[1m123/123\u001B[0m \u001B[32m━━━━━━━━━━━━━━━━━━━━\u001B[0m\u001B[37m\u001B[0m \u001B[1m0s\u001B[0m 2ms/step - loss: 0.0083 - mae: 0.0181 - val_loss: 0.0148 - val_mae: 0.0298\n",
      "Epoch 38/50\n",
      "\u001B[1m123/123\u001B[0m \u001B[32m━━━━━━━━━━━━━━━━━━━━\u001B[0m\u001B[37m\u001B[0m \u001B[1m0s\u001B[0m 2ms/step - loss: 0.0074 - mae: 0.0185 - val_loss: 0.0128 - val_mae: 0.0264\n",
      "Epoch 39/50\n",
      "\u001B[1m123/123\u001B[0m \u001B[32m━━━━━━━━━━━━━━━━━━━━\u001B[0m\u001B[37m\u001B[0m \u001B[1m0s\u001B[0m 2ms/step - loss: 0.0085 - mae: 0.0193 - val_loss: 0.0136 - val_mae: 0.0281\n",
      "Epoch 40/50\n",
      "\u001B[1m123/123\u001B[0m \u001B[32m━━━━━━━━━━━━━━━━━━━━\u001B[0m\u001B[37m\u001B[0m \u001B[1m0s\u001B[0m 2ms/step - loss: 0.0082 - mae: 0.0195 - val_loss: 0.0123 - val_mae: 0.0248\n",
      "Epoch 41/50\n",
      "\u001B[1m123/123\u001B[0m \u001B[32m━━━━━━━━━━━━━━━━━━━━\u001B[0m\u001B[37m\u001B[0m \u001B[1m0s\u001B[0m 2ms/step - loss: 0.0080 - mae: 0.0167 - val_loss: 0.0151 - val_mae: 0.0307\n",
      "Epoch 42/50\n",
      "\u001B[1m123/123\u001B[0m \u001B[32m━━━━━━━━━━━━━━━━━━━━\u001B[0m\u001B[37m\u001B[0m \u001B[1m0s\u001B[0m 2ms/step - loss: 0.0079 - mae: 0.0181 - val_loss: 0.0160 - val_mae: 0.0281\n",
      "Epoch 43/50\n",
      "\u001B[1m123/123\u001B[0m \u001B[32m━━━━━━━━━━━━━━━━━━━━\u001B[0m\u001B[37m\u001B[0m \u001B[1m0s\u001B[0m 3ms/step - loss: 0.0078 - mae: 0.0175 - val_loss: 0.0122 - val_mae: 0.0247\n",
      "Epoch 44/50\n",
      "\u001B[1m123/123\u001B[0m \u001B[32m━━━━━━━━━━━━━━━━━━━━\u001B[0m\u001B[37m\u001B[0m \u001B[1m0s\u001B[0m 2ms/step - loss: 0.0065 - mae: 0.0156 - val_loss: 0.0163 - val_mae: 0.0300\n",
      "Epoch 45/50\n",
      "\u001B[1m123/123\u001B[0m \u001B[32m━━━━━━━━━━━━━━━━━━━━\u001B[0m\u001B[37m\u001B[0m \u001B[1m0s\u001B[0m 2ms/step - loss: 0.0065 - mae: 0.0165 - val_loss: 0.0124 - val_mae: 0.0229\n",
      "Epoch 46/50\n",
      "\u001B[1m123/123\u001B[0m \u001B[32m━━━━━━━━━━━━━━━━━━━━\u001B[0m\u001B[37m\u001B[0m \u001B[1m0s\u001B[0m 2ms/step - loss: 0.0067 - mae: 0.0157 - val_loss: 0.0123 - val_mae: 0.0256\n",
      "Epoch 47/50\n",
      "\u001B[1m123/123\u001B[0m \u001B[32m━━━━━━━━━━━━━━━━━━━━\u001B[0m\u001B[37m\u001B[0m \u001B[1m0s\u001B[0m 2ms/step - loss: 0.0064 - mae: 0.0161 - val_loss: 0.0132 - val_mae: 0.0243\n",
      "Epoch 48/50\n",
      "\u001B[1m123/123\u001B[0m \u001B[32m━━━━━━━━━━━━━━━━━━━━\u001B[0m\u001B[37m\u001B[0m \u001B[1m0s\u001B[0m 2ms/step - loss: 0.0063 - mae: 0.0152 - val_loss: 0.0119 - val_mae: 0.0228\n",
      "Epoch 49/50\n",
      "\u001B[1m123/123\u001B[0m \u001B[32m━━━━━━━━━━━━━━━━━━━━\u001B[0m\u001B[37m\u001B[0m \u001B[1m0s\u001B[0m 2ms/step - loss: 0.0067 - mae: 0.0151 - val_loss: 0.0134 - val_mae: 0.0260\n",
      "Epoch 50/50\n",
      "\u001B[1m123/123\u001B[0m \u001B[32m━━━━━━━━━━━━━━━━━━━━\u001B[0m\u001B[37m\u001B[0m \u001B[1m0s\u001B[0m 2ms/step - loss: 0.0071 - mae: 0.0152 - val_loss: 0.0138 - val_mae: 0.0268\n"
     ]
    },
    {
     "name": "stderr",
     "output_type": "stream",
     "text": [
      "[I 2025-02-06 21:06:55,982] Trial 5 finished with value: 0.013754562474787235 and parameters: {'units': 480, 'learning_rate': 0.001}. Best is trial 5 with value: 0.013754562474787235.\n"
     ]
    },
    {
     "name": "stdout",
     "output_type": "stream",
     "text": [
      "Epoch 1/50\n",
      "\u001B[1m123/123\u001B[0m \u001B[32m━━━━━━━━━━━━━━━━━━━━\u001B[0m\u001B[37m\u001B[0m \u001B[1m1s\u001B[0m 3ms/step - loss: 0.1227 - mae: 0.2944 - val_loss: 0.0493 - val_mae: 0.1319\n",
      "Epoch 2/50\n",
      "\u001B[1m123/123\u001B[0m \u001B[32m━━━━━━━━━━━━━━━━━━━━\u001B[0m\u001B[37m\u001B[0m \u001B[1m0s\u001B[0m 2ms/step - loss: 0.0431 - mae: 0.1199 - val_loss: 0.0351 - val_mae: 0.1120\n",
      "Epoch 3/50\n",
      "\u001B[1m123/123\u001B[0m \u001B[32m━━━━━━━━━━━━━━━━━━━━\u001B[0m\u001B[37m\u001B[0m \u001B[1m0s\u001B[0m 2ms/step - loss: 0.0308 - mae: 0.0993 - val_loss: 0.0251 - val_mae: 0.0939\n",
      "Epoch 4/50\n",
      "\u001B[1m123/123\u001B[0m \u001B[32m━━━━━━━━━━━━━━━━━━━━\u001B[0m\u001B[37m\u001B[0m \u001B[1m0s\u001B[0m 2ms/step - loss: 0.0218 - mae: 0.0828 - val_loss: 0.0218 - val_mae: 0.0870\n",
      "Epoch 5/50\n",
      "\u001B[1m123/123\u001B[0m \u001B[32m━━━━━━━━━━━━━━━━━━━━\u001B[0m\u001B[37m\u001B[0m \u001B[1m0s\u001B[0m 2ms/step - loss: 0.0219 - mae: 0.0787 - val_loss: 0.0190 - val_mae: 0.0683\n",
      "Epoch 6/50\n",
      "\u001B[1m123/123\u001B[0m \u001B[32m━━━━━━━━━━━━━━━━━━━━\u001B[0m\u001B[37m\u001B[0m \u001B[1m0s\u001B[0m 2ms/step - loss: 0.0152 - mae: 0.0588 - val_loss: 0.0179 - val_mae: 0.0652\n",
      "Epoch 7/50\n",
      "\u001B[1m123/123\u001B[0m \u001B[32m━━━━━━━━━━━━━━━━━━━━\u001B[0m\u001B[37m\u001B[0m \u001B[1m0s\u001B[0m 2ms/step - loss: 0.0180 - mae: 0.0608 - val_loss: 0.0174 - val_mae: 0.0604\n",
      "Epoch 8/50\n",
      "\u001B[1m123/123\u001B[0m \u001B[32m━━━━━━━━━━━━━━━━━━━━\u001B[0m\u001B[37m\u001B[0m \u001B[1m0s\u001B[0m 2ms/step - loss: 0.0146 - mae: 0.0502 - val_loss: 0.0162 - val_mae: 0.0576\n",
      "Epoch 9/50\n",
      "\u001B[1m123/123\u001B[0m \u001B[32m━━━━━━━━━━━━━━━━━━━━\u001B[0m\u001B[37m\u001B[0m \u001B[1m0s\u001B[0m 2ms/step - loss: 0.0136 - mae: 0.0479 - val_loss: 0.0163 - val_mae: 0.0513\n",
      "Epoch 10/50\n",
      "\u001B[1m123/123\u001B[0m \u001B[32m━━━━━━━━━━━━━━━━━━━━\u001B[0m\u001B[37m\u001B[0m \u001B[1m0s\u001B[0m 2ms/step - loss: 0.0097 - mae: 0.0387 - val_loss: 0.0169 - val_mae: 0.0504\n",
      "Epoch 11/50\n",
      "\u001B[1m123/123\u001B[0m \u001B[32m━━━━━━━━━━━━━━━━━━━━\u001B[0m\u001B[37m\u001B[0m \u001B[1m0s\u001B[0m 2ms/step - loss: 0.0131 - mae: 0.0425 - val_loss: 0.0148 - val_mae: 0.0412\n",
      "Epoch 12/50\n",
      "\u001B[1m123/123\u001B[0m \u001B[32m━━━━━━━━━━━━━━━━━━━━\u001B[0m\u001B[37m\u001B[0m \u001B[1m0s\u001B[0m 2ms/step - loss: 0.0118 - mae: 0.0375 - val_loss: 0.0156 - val_mae: 0.0405\n",
      "Epoch 13/50\n",
      "\u001B[1m123/123\u001B[0m \u001B[32m━━━━━━━━━━━━━━━━━━━━\u001B[0m\u001B[37m\u001B[0m \u001B[1m0s\u001B[0m 2ms/step - loss: 0.0105 - mae: 0.0337 - val_loss: 0.0136 - val_mae: 0.0366\n",
      "Epoch 14/50\n",
      "\u001B[1m123/123\u001B[0m \u001B[32m━━━━━━━━━━━━━━━━━━━━\u001B[0m\u001B[37m\u001B[0m \u001B[1m0s\u001B[0m 2ms/step - loss: 0.0110 - mae: 0.0322 - val_loss: 0.0137 - val_mae: 0.0392\n",
      "Epoch 15/50\n",
      "\u001B[1m123/123\u001B[0m \u001B[32m━━━━━━━━━━━━━━━━━━━━\u001B[0m\u001B[37m\u001B[0m \u001B[1m0s\u001B[0m 2ms/step - loss: 0.0111 - mae: 0.0340 - val_loss: 0.0151 - val_mae: 0.0389\n",
      "Epoch 16/50\n",
      "\u001B[1m123/123\u001B[0m \u001B[32m━━━━━━━━━━━━━━━━━━━━\u001B[0m\u001B[37m\u001B[0m \u001B[1m0s\u001B[0m 2ms/step - loss: 0.0106 - mae: 0.0305 - val_loss: 0.0143 - val_mae: 0.0391\n",
      "Epoch 17/50\n",
      "\u001B[1m123/123\u001B[0m \u001B[32m━━━━━━━━━━━━━━━━━━━━\u001B[0m\u001B[37m\u001B[0m \u001B[1m0s\u001B[0m 2ms/step - loss: 0.0087 - mae: 0.0281 - val_loss: 0.0144 - val_mae: 0.0342\n",
      "Epoch 18/50\n",
      "\u001B[1m123/123\u001B[0m \u001B[32m━━━━━━━━━━━━━━━━━━━━\u001B[0m\u001B[37m\u001B[0m \u001B[1m0s\u001B[0m 2ms/step - loss: 0.0096 - mae: 0.0270 - val_loss: 0.0149 - val_mae: 0.0376\n",
      "Epoch 19/50\n",
      "\u001B[1m123/123\u001B[0m \u001B[32m━━━━━━━━━━━━━━━━━━━━\u001B[0m\u001B[37m\u001B[0m \u001B[1m0s\u001B[0m 2ms/step - loss: 0.0107 - mae: 0.0310 - val_loss: 0.0153 - val_mae: 0.0365\n",
      "Epoch 20/50\n",
      "\u001B[1m123/123\u001B[0m \u001B[32m━━━━━━━━━━━━━━━━━━━━\u001B[0m\u001B[37m\u001B[0m \u001B[1m0s\u001B[0m 2ms/step - loss: 0.0093 - mae: 0.0272 - val_loss: 0.0143 - val_mae: 0.0360\n",
      "Epoch 21/50\n",
      "\u001B[1m123/123\u001B[0m \u001B[32m━━━━━━━━━━━━━━━━━━━━\u001B[0m\u001B[37m\u001B[0m \u001B[1m0s\u001B[0m 2ms/step - loss: 0.0088 - mae: 0.0263 - val_loss: 0.0138 - val_mae: 0.0350\n",
      "Epoch 22/50\n",
      "\u001B[1m123/123\u001B[0m \u001B[32m━━━━━━━━━━━━━━━━━━━━\u001B[0m\u001B[37m\u001B[0m \u001B[1m0s\u001B[0m 3ms/step - loss: 0.0103 - mae: 0.0283 - val_loss: 0.0156 - val_mae: 0.0367\n",
      "Epoch 23/50\n",
      "\u001B[1m123/123\u001B[0m \u001B[32m━━━━━━━━━━━━━━━━━━━━\u001B[0m\u001B[37m\u001B[0m \u001B[1m0s\u001B[0m 2ms/step - loss: 0.0085 - mae: 0.0240 - val_loss: 0.0152 - val_mae: 0.0378\n",
      "Epoch 24/50\n",
      "\u001B[1m123/123\u001B[0m \u001B[32m━━━━━━━━━━━━━━━━━━━━\u001B[0m\u001B[37m\u001B[0m \u001B[1m0s\u001B[0m 2ms/step - loss: 0.0084 - mae: 0.0247 - val_loss: 0.0152 - val_mae: 0.0351\n",
      "Epoch 25/50\n",
      "\u001B[1m123/123\u001B[0m \u001B[32m━━━━━━━━━━━━━━━━━━━━\u001B[0m\u001B[37m\u001B[0m \u001B[1m0s\u001B[0m 2ms/step - loss: 0.0108 - mae: 0.0264 - val_loss: 0.0129 - val_mae: 0.0306\n",
      "Epoch 26/50\n",
      "\u001B[1m123/123\u001B[0m \u001B[32m━━━━━━━━━━━━━━━━━━━━\u001B[0m\u001B[37m\u001B[0m \u001B[1m0s\u001B[0m 2ms/step - loss: 0.0087 - mae: 0.0223 - val_loss: 0.0149 - val_mae: 0.0334\n",
      "Epoch 27/50\n",
      "\u001B[1m123/123\u001B[0m \u001B[32m━━━━━━━━━━━━━━━━━━━━\u001B[0m\u001B[37m\u001B[0m \u001B[1m0s\u001B[0m 2ms/step - loss: 0.0075 - mae: 0.0225 - val_loss: 0.0141 - val_mae: 0.0334\n",
      "Epoch 28/50\n",
      "\u001B[1m123/123\u001B[0m \u001B[32m━━━━━━━━━━━━━━━━━━━━\u001B[0m\u001B[37m\u001B[0m \u001B[1m0s\u001B[0m 2ms/step - loss: 0.0078 - mae: 0.0210 - val_loss: 0.0137 - val_mae: 0.0328\n",
      "Epoch 29/50\n",
      "\u001B[1m123/123\u001B[0m \u001B[32m━━━━━━━━━━━━━━━━━━━━\u001B[0m\u001B[37m\u001B[0m \u001B[1m0s\u001B[0m 2ms/step - loss: 0.0078 - mae: 0.0221 - val_loss: 0.0144 - val_mae: 0.0325\n",
      "Epoch 30/50\n",
      "\u001B[1m123/123\u001B[0m \u001B[32m━━━━━━━━━━━━━━━━━━━━\u001B[0m\u001B[37m\u001B[0m \u001B[1m0s\u001B[0m 3ms/step - loss: 0.0081 - mae: 0.0211 - val_loss: 0.0141 - val_mae: 0.0313\n",
      "Epoch 31/50\n",
      "\u001B[1m123/123\u001B[0m \u001B[32m━━━━━━━━━━━━━━━━━━━━\u001B[0m\u001B[37m\u001B[0m \u001B[1m0s\u001B[0m 2ms/step - loss: 0.0090 - mae: 0.0218 - val_loss: 0.0134 - val_mae: 0.0286\n",
      "Epoch 32/50\n",
      "\u001B[1m123/123\u001B[0m \u001B[32m━━━━━━━━━━━━━━━━━━━━\u001B[0m\u001B[37m\u001B[0m \u001B[1m0s\u001B[0m 2ms/step - loss: 0.0071 - mae: 0.0196 - val_loss: 0.0139 - val_mae: 0.0311\n",
      "Epoch 33/50\n",
      "\u001B[1m123/123\u001B[0m \u001B[32m━━━━━━━━━━━━━━━━━━━━\u001B[0m\u001B[37m\u001B[0m \u001B[1m0s\u001B[0m 2ms/step - loss: 0.0075 - mae: 0.0190 - val_loss: 0.0128 - val_mae: 0.0296\n",
      "Epoch 34/50\n",
      "\u001B[1m123/123\u001B[0m \u001B[32m━━━━━━━━━━━━━━━━━━━━\u001B[0m\u001B[37m\u001B[0m \u001B[1m0s\u001B[0m 2ms/step - loss: 0.0063 - mae: 0.0189 - val_loss: 0.0141 - val_mae: 0.0315\n",
      "Epoch 35/50\n",
      "\u001B[1m123/123\u001B[0m \u001B[32m━━━━━━━━━━━━━━━━━━━━\u001B[0m\u001B[37m\u001B[0m \u001B[1m0s\u001B[0m 2ms/step - loss: 0.0068 - mae: 0.0198 - val_loss: 0.0145 - val_mae: 0.0303\n",
      "Epoch 36/50\n",
      "\u001B[1m123/123\u001B[0m \u001B[32m━━━━━━━━━━━━━━━━━━━━\u001B[0m\u001B[37m\u001B[0m \u001B[1m0s\u001B[0m 2ms/step - loss: 0.0085 - mae: 0.0205 - val_loss: 0.0136 - val_mae: 0.0281\n",
      "Epoch 37/50\n",
      "\u001B[1m123/123\u001B[0m \u001B[32m━━━━━━━━━━━━━━━━━━━━\u001B[0m\u001B[37m\u001B[0m \u001B[1m0s\u001B[0m 2ms/step - loss: 0.0078 - mae: 0.0191 - val_loss: 0.0139 - val_mae: 0.0287\n",
      "Epoch 38/50\n",
      "\u001B[1m123/123\u001B[0m \u001B[32m━━━━━━━━━━━━━━━━━━━━\u001B[0m\u001B[37m\u001B[0m \u001B[1m0s\u001B[0m 2ms/step - loss: 0.0065 - mae: 0.0166 - val_loss: 0.0141 - val_mae: 0.0288\n",
      "Epoch 39/50\n",
      "\u001B[1m123/123\u001B[0m \u001B[32m━━━━━━━━━━━━━━━━━━━━\u001B[0m\u001B[37m\u001B[0m \u001B[1m0s\u001B[0m 2ms/step - loss: 0.0090 - mae: 0.0203 - val_loss: 0.0140 - val_mae: 0.0306\n",
      "Epoch 40/50\n",
      "\u001B[1m123/123\u001B[0m \u001B[32m━━━━━━━━━━━━━━━━━━━━\u001B[0m\u001B[37m\u001B[0m \u001B[1m0s\u001B[0m 2ms/step - loss: 0.0067 - mae: 0.0177 - val_loss: 0.0139 - val_mae: 0.0292\n",
      "Epoch 41/50\n",
      "\u001B[1m123/123\u001B[0m \u001B[32m━━━━━━━━━━━━━━━━━━━━\u001B[0m\u001B[37m\u001B[0m \u001B[1m0s\u001B[0m 2ms/step - loss: 0.0050 - mae: 0.0146 - val_loss: 0.0131 - val_mae: 0.0247\n",
      "Epoch 42/50\n",
      "\u001B[1m123/123\u001B[0m \u001B[32m━━━━━━━━━━━━━━━━━━━━\u001B[0m\u001B[37m\u001B[0m \u001B[1m0s\u001B[0m 2ms/step - loss: 0.0072 - mae: 0.0172 - val_loss: 0.0154 - val_mae: 0.0302\n",
      "Epoch 43/50\n",
      "\u001B[1m123/123\u001B[0m \u001B[32m━━━━━━━━━━━━━━━━━━━━\u001B[0m\u001B[37m\u001B[0m \u001B[1m0s\u001B[0m 2ms/step - loss: 0.0074 - mae: 0.0179 - val_loss: 0.0135 - val_mae: 0.0265\n",
      "Epoch 44/50\n",
      "\u001B[1m123/123\u001B[0m \u001B[32m━━━━━━━━━━━━━━━━━━━━\u001B[0m\u001B[37m\u001B[0m \u001B[1m0s\u001B[0m 2ms/step - loss: 0.0070 - mae: 0.0162 - val_loss: 0.0150 - val_mae: 0.0310\n",
      "Epoch 45/50\n",
      "\u001B[1m123/123\u001B[0m \u001B[32m━━━━━━━━━━━━━━━━━━━━\u001B[0m\u001B[37m\u001B[0m \u001B[1m0s\u001B[0m 2ms/step - loss: 0.0058 - mae: 0.0159 - val_loss: 0.0145 - val_mae: 0.0287\n",
      "Epoch 46/50\n",
      "\u001B[1m123/123\u001B[0m \u001B[32m━━━━━━━━━━━━━━━━━━━━\u001B[0m\u001B[37m\u001B[0m \u001B[1m0s\u001B[0m 2ms/step - loss: 0.0079 - mae: 0.0185 - val_loss: 0.0136 - val_mae: 0.0259\n",
      "Epoch 47/50\n",
      "\u001B[1m123/123\u001B[0m \u001B[32m━━━━━━━━━━━━━━━━━━━━\u001B[0m\u001B[37m\u001B[0m \u001B[1m0s\u001B[0m 2ms/step - loss: 0.0073 - mae: 0.0168 - val_loss: 0.0138 - val_mae: 0.0260\n",
      "Epoch 48/50\n",
      "\u001B[1m123/123\u001B[0m \u001B[32m━━━━━━━━━━━━━━━━━━━━\u001B[0m\u001B[37m\u001B[0m \u001B[1m0s\u001B[0m 2ms/step - loss: 0.0067 - mae: 0.0165 - val_loss: 0.0138 - val_mae: 0.0266\n",
      "Epoch 49/50\n",
      "\u001B[1m123/123\u001B[0m \u001B[32m━━━━━━━━━━━━━━━━━━━━\u001B[0m\u001B[37m\u001B[0m \u001B[1m0s\u001B[0m 2ms/step - loss: 0.0068 - mae: 0.0157 - val_loss: 0.0138 - val_mae: 0.0269\n",
      "Epoch 50/50\n",
      "\u001B[1m123/123\u001B[0m \u001B[32m━━━━━━━━━━━━━━━━━━━━\u001B[0m\u001B[37m\u001B[0m \u001B[1m0s\u001B[0m 2ms/step - loss: 0.0056 - mae: 0.0140 - val_loss: 0.0154 - val_mae: 0.0282\n"
     ]
    },
    {
     "name": "stderr",
     "output_type": "stream",
     "text": [
      "[I 2025-02-06 21:07:12,559] Trial 6 finished with value: 0.015410160645842552 and parameters: {'units': 448, 'learning_rate': 0.001}. Best is trial 5 with value: 0.013754562474787235.\n"
     ]
    },
    {
     "name": "stdout",
     "output_type": "stream",
     "text": [
      "Epoch 1/50\n",
      "\u001B[1m123/123\u001B[0m \u001B[32m━━━━━━━━━━━━━━━━━━━━\u001B[0m\u001B[37m\u001B[0m \u001B[1m1s\u001B[0m 3ms/step - loss: 0.0769 - mae: 0.1575 - val_loss: 0.0357 - val_mae: 0.0874\n",
      "Epoch 2/50\n",
      "\u001B[1m123/123\u001B[0m \u001B[32m━━━━━━━━━━━━━━━━━━━━\u001B[0m\u001B[37m\u001B[0m \u001B[1m0s\u001B[0m 2ms/step - loss: 0.0211 - mae: 0.0580 - val_loss: 0.0200 - val_mae: 0.0442\n",
      "Epoch 3/50\n",
      "\u001B[1m123/123\u001B[0m \u001B[32m━━━━━━━━━━━━━━━━━━━━\u001B[0m\u001B[37m\u001B[0m \u001B[1m0s\u001B[0m 2ms/step - loss: 0.0196 - mae: 0.0428 - val_loss: 0.0190 - val_mae: 0.0423\n",
      "Epoch 4/50\n",
      "\u001B[1m123/123\u001B[0m \u001B[32m━━━━━━━━━━━━━━━━━━━━\u001B[0m\u001B[37m\u001B[0m \u001B[1m0s\u001B[0m 2ms/step - loss: 0.0163 - mae: 0.0328 - val_loss: 0.0199 - val_mae: 0.0356\n",
      "Epoch 5/50\n",
      "\u001B[1m123/123\u001B[0m \u001B[32m━━━━━━━━━━━━━━━━━━━━\u001B[0m\u001B[37m\u001B[0m \u001B[1m0s\u001B[0m 2ms/step - loss: 0.0154 - mae: 0.0300 - val_loss: 0.0186 - val_mae: 0.0331\n",
      "Epoch 6/50\n",
      "\u001B[1m123/123\u001B[0m \u001B[32m━━━━━━━━━━━━━━━━━━━━\u001B[0m\u001B[37m\u001B[0m \u001B[1m0s\u001B[0m 2ms/step - loss: 0.0152 - mae: 0.0265 - val_loss: 0.0199 - val_mae: 0.0284\n",
      "Epoch 7/50\n",
      "\u001B[1m123/123\u001B[0m \u001B[32m━━━━━━━━━━━━━━━━━━━━\u001B[0m\u001B[37m\u001B[0m \u001B[1m0s\u001B[0m 2ms/step - loss: 0.0170 - mae: 0.0265 - val_loss: 0.0181 - val_mae: 0.0239\n",
      "Epoch 8/50\n",
      "\u001B[1m123/123\u001B[0m \u001B[32m━━━━━━━━━━━━━━━━━━━━\u001B[0m\u001B[37m\u001B[0m \u001B[1m0s\u001B[0m 2ms/step - loss: 0.0138 - mae: 0.0228 - val_loss: 0.0201 - val_mae: 0.0346\n",
      "Epoch 9/50\n",
      "\u001B[1m123/123\u001B[0m \u001B[32m━━━━━━━━━━━━━━━━━━━━\u001B[0m\u001B[37m\u001B[0m \u001B[1m0s\u001B[0m 2ms/step - loss: 0.0113 - mae: 0.0199 - val_loss: 0.0269 - val_mae: 0.0385\n",
      "Epoch 10/50\n",
      "\u001B[1m123/123\u001B[0m \u001B[32m━━━━━━━━━━━━━━━━━━━━\u001B[0m\u001B[37m\u001B[0m \u001B[1m0s\u001B[0m 2ms/step - loss: 0.0182 - mae: 0.0276 - val_loss: 0.0225 - val_mae: 0.0312\n",
      "Epoch 11/50\n",
      "\u001B[1m123/123\u001B[0m \u001B[32m━━━━━━━━━━━━━━━━━━━━\u001B[0m\u001B[37m\u001B[0m \u001B[1m0s\u001B[0m 2ms/step - loss: 0.0147 - mae: 0.0210 - val_loss: 0.0220 - val_mae: 0.0291\n",
      "Epoch 12/50\n",
      "\u001B[1m123/123\u001B[0m \u001B[32m━━━━━━━━━━━━━━━━━━━━\u001B[0m\u001B[37m\u001B[0m \u001B[1m0s\u001B[0m 2ms/step - loss: 0.0156 - mae: 0.0226 - val_loss: 0.0219 - val_mae: 0.0288\n",
      "Epoch 13/50\n",
      "\u001B[1m123/123\u001B[0m \u001B[32m━━━━━━━━━━━━━━━━━━━━\u001B[0m\u001B[37m\u001B[0m \u001B[1m0s\u001B[0m 2ms/step - loss: 0.0132 - mae: 0.0181 - val_loss: 0.0190 - val_mae: 0.0261\n",
      "Epoch 14/50\n",
      "\u001B[1m123/123\u001B[0m \u001B[32m━━━━━━━━━━━━━━━━━━━━\u001B[0m\u001B[37m\u001B[0m \u001B[1m0s\u001B[0m 2ms/step - loss: 0.0130 - mae: 0.0180 - val_loss: 0.0192 - val_mae: 0.0274\n",
      "Epoch 15/50\n",
      "\u001B[1m123/123\u001B[0m \u001B[32m━━━━━━━━━━━━━━━━━━━━\u001B[0m\u001B[37m\u001B[0m \u001B[1m0s\u001B[0m 2ms/step - loss: 0.0142 - mae: 0.0204 - val_loss: 0.0213 - val_mae: 0.0265\n",
      "Epoch 16/50\n",
      "\u001B[1m123/123\u001B[0m \u001B[32m━━━━━━━━━━━━━━━━━━━━\u001B[0m\u001B[37m\u001B[0m \u001B[1m0s\u001B[0m 2ms/step - loss: 0.0149 - mae: 0.0200 - val_loss: 0.0197 - val_mae: 0.0264\n",
      "Epoch 17/50\n",
      "\u001B[1m123/123\u001B[0m \u001B[32m━━━━━━━━━━━━━━━━━━━━\u001B[0m\u001B[37m\u001B[0m \u001B[1m0s\u001B[0m 2ms/step - loss: 0.0160 - mae: 0.0207 - val_loss: 0.0182 - val_mae: 0.0246\n",
      "Epoch 18/50\n",
      "\u001B[1m123/123\u001B[0m \u001B[32m━━━━━━━━━━━━━━━━━━━━\u001B[0m\u001B[37m\u001B[0m \u001B[1m0s\u001B[0m 2ms/step - loss: 0.0114 - mae: 0.0148 - val_loss: 0.0181 - val_mae: 0.0214\n",
      "Epoch 19/50\n",
      "\u001B[1m123/123\u001B[0m \u001B[32m━━━━━━━━━━━━━━━━━━━━\u001B[0m\u001B[37m\u001B[0m \u001B[1m0s\u001B[0m 2ms/step - loss: 0.0116 - mae: 0.0155 - val_loss: 0.0191 - val_mae: 0.0251\n",
      "Epoch 20/50\n",
      "\u001B[1m123/123\u001B[0m \u001B[32m━━━━━━━━━━━━━━━━━━━━\u001B[0m\u001B[37m\u001B[0m \u001B[1m0s\u001B[0m 2ms/step - loss: 0.0115 - mae: 0.0151 - val_loss: 0.0245 - val_mae: 0.0362\n",
      "Epoch 21/50\n",
      "\u001B[1m123/123\u001B[0m \u001B[32m━━━━━━━━━━━━━━━━━━━━\u001B[0m\u001B[37m\u001B[0m \u001B[1m0s\u001B[0m 3ms/step - loss: 0.0137 - mae: 0.0187 - val_loss: 0.0208 - val_mae: 0.0269\n",
      "Epoch 22/50\n",
      "\u001B[1m123/123\u001B[0m \u001B[32m━━━━━━━━━━━━━━━━━━━━\u001B[0m\u001B[37m\u001B[0m \u001B[1m0s\u001B[0m 2ms/step - loss: 0.0137 - mae: 0.0177 - val_loss: 0.0203 - val_mae: 0.0272\n",
      "Epoch 23/50\n",
      "\u001B[1m123/123\u001B[0m \u001B[32m━━━━━━━━━━━━━━━━━━━━\u001B[0m\u001B[37m\u001B[0m \u001B[1m0s\u001B[0m 2ms/step - loss: 0.0129 - mae: 0.0170 - val_loss: 0.0212 - val_mae: 0.0258\n",
      "Epoch 24/50\n",
      "\u001B[1m123/123\u001B[0m \u001B[32m━━━━━━━━━━━━━━━━━━━━\u001B[0m\u001B[37m\u001B[0m \u001B[1m0s\u001B[0m 2ms/step - loss: 0.0108 - mae: 0.0151 - val_loss: 0.0184 - val_mae: 0.0234\n",
      "Epoch 25/50\n",
      "\u001B[1m123/123\u001B[0m \u001B[32m━━━━━━━━━━━━━━━━━━━━\u001B[0m\u001B[37m\u001B[0m \u001B[1m0s\u001B[0m 2ms/step - loss: 0.0104 - mae: 0.0134 - val_loss: 0.0190 - val_mae: 0.0244\n",
      "Epoch 26/50\n",
      "\u001B[1m123/123\u001B[0m \u001B[32m━━━━━━━━━━━━━━━━━━━━\u001B[0m\u001B[37m\u001B[0m \u001B[1m0s\u001B[0m 2ms/step - loss: 0.0088 - mae: 0.0124 - val_loss: 0.0210 - val_mae: 0.0268\n",
      "Epoch 27/50\n",
      "\u001B[1m123/123\u001B[0m \u001B[32m━━━━━━━━━━━━━━━━━━━━\u001B[0m\u001B[37m\u001B[0m \u001B[1m0s\u001B[0m 2ms/step - loss: 0.0136 - mae: 0.0177 - val_loss: 0.0161 - val_mae: 0.0200\n",
      "Epoch 28/50\n",
      "\u001B[1m123/123\u001B[0m \u001B[32m━━━━━━━━━━━━━━━━━━━━\u001B[0m\u001B[37m\u001B[0m \u001B[1m0s\u001B[0m 2ms/step - loss: 0.0102 - mae: 0.0128 - val_loss: 0.0197 - val_mae: 0.0232\n",
      "Epoch 29/50\n",
      "\u001B[1m123/123\u001B[0m \u001B[32m━━━━━━━━━━━━━━━━━━━━\u001B[0m\u001B[37m\u001B[0m \u001B[1m0s\u001B[0m 2ms/step - loss: 0.0157 - mae: 0.0183 - val_loss: 0.0217 - val_mae: 0.0277\n",
      "Epoch 30/50\n",
      "\u001B[1m123/123\u001B[0m \u001B[32m━━━━━━━━━━━━━━━━━━━━\u001B[0m\u001B[37m\u001B[0m \u001B[1m0s\u001B[0m 3ms/step - loss: 0.0092 - mae: 0.0127 - val_loss: 0.0177 - val_mae: 0.0231\n",
      "Epoch 31/50\n",
      "\u001B[1m123/123\u001B[0m \u001B[32m━━━━━━━━━━━━━━━━━━━━\u001B[0m\u001B[37m\u001B[0m \u001B[1m0s\u001B[0m 2ms/step - loss: 0.0122 - mae: 0.0155 - val_loss: 0.0188 - val_mae: 0.0222\n",
      "Epoch 32/50\n",
      "\u001B[1m123/123\u001B[0m \u001B[32m━━━━━━━━━━━━━━━━━━━━\u001B[0m\u001B[37m\u001B[0m \u001B[1m0s\u001B[0m 2ms/step - loss: 0.0142 - mae: 0.0177 - val_loss: 0.0189 - val_mae: 0.0226\n",
      "Epoch 33/50\n",
      "\u001B[1m123/123\u001B[0m \u001B[32m━━━━━━━━━━━━━━━━━━━━\u001B[0m\u001B[37m\u001B[0m \u001B[1m0s\u001B[0m 2ms/step - loss: 0.0127 - mae: 0.0152 - val_loss: 0.0188 - val_mae: 0.0212\n",
      "Epoch 34/50\n",
      "\u001B[1m123/123\u001B[0m \u001B[32m━━━━━━━━━━━━━━━━━━━━\u001B[0m\u001B[37m\u001B[0m \u001B[1m0s\u001B[0m 2ms/step - loss: 0.0099 - mae: 0.0119 - val_loss: 0.0193 - val_mae: 0.0229\n",
      "Epoch 35/50\n",
      "\u001B[1m123/123\u001B[0m \u001B[32m━━━━━━━━━━━━━━━━━━━━\u001B[0m\u001B[37m\u001B[0m \u001B[1m0s\u001B[0m 2ms/step - loss: 0.0093 - mae: 0.0110 - val_loss: 0.0190 - val_mae: 0.0211\n",
      "Epoch 36/50\n",
      "\u001B[1m123/123\u001B[0m \u001B[32m━━━━━━━━━━━━━━━━━━━━\u001B[0m\u001B[37m\u001B[0m \u001B[1m0s\u001B[0m 2ms/step - loss: 0.0151 - mae: 0.0177 - val_loss: 0.0153 - val_mae: 0.0217\n",
      "Epoch 37/50\n",
      "\u001B[1m123/123\u001B[0m \u001B[32m━━━━━━━━━━━━━━━━━━━━\u001B[0m\u001B[37m\u001B[0m \u001B[1m0s\u001B[0m 2ms/step - loss: 0.0157 - mae: 0.0188 - val_loss: 0.0153 - val_mae: 0.0198\n",
      "Epoch 38/50\n",
      "\u001B[1m123/123\u001B[0m \u001B[32m━━━━━━━━━━━━━━━━━━━━\u001B[0m\u001B[37m\u001B[0m \u001B[1m0s\u001B[0m 2ms/step - loss: 0.0111 - mae: 0.0139 - val_loss: 0.0183 - val_mae: 0.0216\n",
      "Epoch 39/50\n",
      "\u001B[1m123/123\u001B[0m \u001B[32m━━━━━━━━━━━━━━━━━━━━\u001B[0m\u001B[37m\u001B[0m \u001B[1m0s\u001B[0m 2ms/step - loss: 0.0129 - mae: 0.0148 - val_loss: 0.0192 - val_mae: 0.0231\n",
      "Epoch 40/50\n",
      "\u001B[1m123/123\u001B[0m \u001B[32m━━━━━━━━━━━━━━━━━━━━\u001B[0m\u001B[37m\u001B[0m \u001B[1m0s\u001B[0m 2ms/step - loss: 0.0099 - mae: 0.0122 - val_loss: 0.0153 - val_mae: 0.0195\n",
      "Epoch 41/50\n",
      "\u001B[1m123/123\u001B[0m \u001B[32m━━━━━━━━━━━━━━━━━━━━\u001B[0m\u001B[37m\u001B[0m \u001B[1m0s\u001B[0m 2ms/step - loss: 0.0083 - mae: 0.0106 - val_loss: 0.0184 - val_mae: 0.0222\n",
      "Epoch 42/50\n",
      "\u001B[1m123/123\u001B[0m \u001B[32m━━━━━━━━━━━━━━━━━━━━\u001B[0m\u001B[37m\u001B[0m \u001B[1m0s\u001B[0m 2ms/step - loss: 0.0113 - mae: 0.0135 - val_loss: 0.0205 - val_mae: 0.0243\n",
      "Epoch 43/50\n",
      "\u001B[1m123/123\u001B[0m \u001B[32m━━━━━━━━━━━━━━━━━━━━\u001B[0m\u001B[37m\u001B[0m \u001B[1m0s\u001B[0m 2ms/step - loss: 0.0126 - mae: 0.0140 - val_loss: 0.0190 - val_mae: 0.0227\n",
      "Epoch 44/50\n",
      "\u001B[1m123/123\u001B[0m \u001B[32m━━━━━━━━━━━━━━━━━━━━\u001B[0m\u001B[37m\u001B[0m \u001B[1m0s\u001B[0m 2ms/step - loss: 0.0096 - mae: 0.0113 - val_loss: 0.0207 - val_mae: 0.0225\n",
      "Epoch 45/50\n",
      "\u001B[1m123/123\u001B[0m \u001B[32m━━━━━━━━━━━━━━━━━━━━\u001B[0m\u001B[37m\u001B[0m \u001B[1m0s\u001B[0m 2ms/step - loss: 0.0108 - mae: 0.0136 - val_loss: 0.0189 - val_mae: 0.0220\n",
      "Epoch 46/50\n",
      "\u001B[1m123/123\u001B[0m \u001B[32m━━━━━━━━━━━━━━━━━━━━\u001B[0m\u001B[37m\u001B[0m \u001B[1m0s\u001B[0m 2ms/step - loss: 0.0100 - mae: 0.0119 - val_loss: 0.0179 - val_mae: 0.0198\n",
      "Epoch 47/50\n",
      "\u001B[1m123/123\u001B[0m \u001B[32m━━━━━━━━━━━━━━━━━━━━\u001B[0m\u001B[37m\u001B[0m \u001B[1m0s\u001B[0m 2ms/step - loss: 0.0116 - mae: 0.0131 - val_loss: 0.0151 - val_mae: 0.0171\n",
      "Epoch 48/50\n",
      "\u001B[1m123/123\u001B[0m \u001B[32m━━━━━━━━━━━━━━━━━━━━\u001B[0m\u001B[37m\u001B[0m \u001B[1m0s\u001B[0m 2ms/step - loss: 0.0083 - mae: 0.0105 - val_loss: 0.0226 - val_mae: 0.0268\n",
      "Epoch 49/50\n",
      "\u001B[1m123/123\u001B[0m \u001B[32m━━━━━━━━━━━━━━━━━━━━\u001B[0m\u001B[37m\u001B[0m \u001B[1m0s\u001B[0m 2ms/step - loss: 0.0109 - mae: 0.0129 - val_loss: 0.0182 - val_mae: 0.0204\n",
      "Epoch 50/50\n",
      "\u001B[1m123/123\u001B[0m \u001B[32m━━━━━━━━━━━━━━━━━━━━\u001B[0m\u001B[37m\u001B[0m \u001B[1m0s\u001B[0m 2ms/step - loss: 0.0157 - mae: 0.0182 - val_loss: 0.0181 - val_mae: 0.0214\n"
     ]
    },
    {
     "name": "stderr",
     "output_type": "stream",
     "text": [
      "[I 2025-02-06 21:07:28,562] Trial 7 finished with value: 0.018104054033756256 and parameters: {'units': 160, 'learning_rate': 0.01}. Best is trial 5 with value: 0.013754562474787235.\n"
     ]
    },
    {
     "name": "stdout",
     "output_type": "stream",
     "text": [
      "Epoch 1/50\n",
      "\u001B[1m123/123\u001B[0m \u001B[32m━━━━━━━━━━━━━━━━━━━━\u001B[0m\u001B[37m\u001B[0m \u001B[1m1s\u001B[0m 3ms/step - loss: 0.1074 - mae: 0.1304 - val_loss: 0.0679 - val_mae: 0.0699\n",
      "Epoch 2/50\n",
      "\u001B[1m123/123\u001B[0m \u001B[32m━━━━━━━━━━━━━━━━━━━━\u001B[0m\u001B[37m\u001B[0m \u001B[1m0s\u001B[0m 2ms/step - loss: 0.0682 - mae: 0.0697 - val_loss: 0.0612 - val_mae: 0.0621\n",
      "Epoch 3/50\n",
      "\u001B[1m123/123\u001B[0m \u001B[32m━━━━━━━━━━━━━━━━━━━━\u001B[0m\u001B[37m\u001B[0m \u001B[1m0s\u001B[0m 2ms/step - loss: 0.0584 - mae: 0.0590 - val_loss: 0.0692 - val_mae: 0.0704\n",
      "Epoch 4/50\n",
      "\u001B[1m123/123\u001B[0m \u001B[32m━━━━━━━━━━━━━━━━━━━━\u001B[0m\u001B[37m\u001B[0m \u001B[1m0s\u001B[0m 2ms/step - loss: 0.0644 - mae: 0.0662 - val_loss: 0.0594 - val_mae: 0.0600\n",
      "Epoch 5/50\n",
      "\u001B[1m123/123\u001B[0m \u001B[32m━━━━━━━━━━━━━━━━━━━━\u001B[0m\u001B[37m\u001B[0m \u001B[1m0s\u001B[0m 2ms/step - loss: 0.0551 - mae: 0.0555 - val_loss: 0.0621 - val_mae: 0.0622\n",
      "Epoch 6/50\n",
      "\u001B[1m123/123\u001B[0m \u001B[32m━━━━━━━━━━━━━━━━━━━━\u001B[0m\u001B[37m\u001B[0m \u001B[1m0s\u001B[0m 2ms/step - loss: 0.0657 - mae: 0.0661 - val_loss: 0.0540 - val_mae: 0.0541\n",
      "Epoch 7/50\n",
      "\u001B[1m123/123\u001B[0m \u001B[32m━━━━━━━━━━━━━━━━━━━━\u001B[0m\u001B[37m\u001B[0m \u001B[1m0s\u001B[0m 2ms/step - loss: 0.0626 - mae: 0.0633 - val_loss: 0.0700 - val_mae: 0.0704\n",
      "Epoch 8/50\n",
      "\u001B[1m123/123\u001B[0m \u001B[32m━━━━━━━━━━━━━━━━━━━━\u001B[0m\u001B[37m\u001B[0m \u001B[1m0s\u001B[0m 2ms/step - loss: 0.0657 - mae: 0.0666 - val_loss: 0.0629 - val_mae: 0.0631\n",
      "Epoch 9/50\n",
      "\u001B[1m123/123\u001B[0m \u001B[32m━━━━━━━━━━━━━━━━━━━━\u001B[0m\u001B[37m\u001B[0m \u001B[1m0s\u001B[0m 2ms/step - loss: 0.0683 - mae: 0.0685 - val_loss: 0.0549 - val_mae: 0.0550\n",
      "Epoch 10/50\n",
      "\u001B[1m123/123\u001B[0m \u001B[32m━━━━━━━━━━━━━━━━━━━━\u001B[0m\u001B[37m\u001B[0m \u001B[1m0s\u001B[0m 2ms/step - loss: 0.0589 - mae: 0.0592 - val_loss: 0.1102 - val_mae: 0.1109\n",
      "Epoch 11/50\n",
      "\u001B[1m123/123\u001B[0m \u001B[32m━━━━━━━━━━━━━━━━━━━━\u001B[0m\u001B[37m\u001B[0m \u001B[1m0s\u001B[0m 2ms/step - loss: 0.0856 - mae: 0.0860 - val_loss: 0.0540 - val_mae: 0.0540\n",
      "Epoch 12/50\n",
      "\u001B[1m123/123\u001B[0m \u001B[32m━━━━━━━━━━━━━━━━━━━━\u001B[0m\u001B[37m\u001B[0m \u001B[1m0s\u001B[0m 2ms/step - loss: 0.0689 - mae: 0.0692 - val_loss: 0.0540 - val_mae: 0.0542\n",
      "Epoch 13/50\n",
      "\u001B[1m123/123\u001B[0m \u001B[32m━━━━━━━━━━━━━━━━━━━━\u001B[0m\u001B[37m\u001B[0m \u001B[1m0s\u001B[0m 2ms/step - loss: 0.0593 - mae: 0.0594 - val_loss: 0.0601 - val_mae: 0.0601\n",
      "Epoch 14/50\n",
      "\u001B[1m123/123\u001B[0m \u001B[32m━━━━━━━━━━━━━━━━━━━━\u001B[0m\u001B[37m\u001B[0m \u001B[1m0s\u001B[0m 2ms/step - loss: 0.0691 - mae: 0.0691 - val_loss: 0.0601 - val_mae: 0.0601\n",
      "Epoch 15/50\n",
      "\u001B[1m123/123\u001B[0m \u001B[32m━━━━━━━━━━━━━━━━━━━━\u001B[0m\u001B[37m\u001B[0m \u001B[1m0s\u001B[0m 2ms/step - loss: 0.0694 - mae: 0.0694 - val_loss: 0.0560 - val_mae: 0.0561\n",
      "Epoch 16/50\n",
      "\u001B[1m123/123\u001B[0m \u001B[32m━━━━━━━━━━━━━━━━━━━━\u001B[0m\u001B[37m\u001B[0m \u001B[1m0s\u001B[0m 2ms/step - loss: 0.0629 - mae: 0.0629 - val_loss: 0.0550 - val_mae: 0.0550\n",
      "Epoch 17/50\n",
      "\u001B[1m123/123\u001B[0m \u001B[32m━━━━━━━━━━━━━━━━━━━━\u001B[0m\u001B[37m\u001B[0m \u001B[1m0s\u001B[0m 2ms/step - loss: 0.0603 - mae: 0.0603 - val_loss: 0.0519 - val_mae: 0.0519\n",
      "Epoch 18/50\n",
      "\u001B[1m123/123\u001B[0m \u001B[32m━━━━━━━━━━━━━━━━━━━━\u001B[0m\u001B[37m\u001B[0m \u001B[1m0s\u001B[0m 2ms/step - loss: 0.0552 - mae: 0.0552 - val_loss: 0.0682 - val_mae: 0.0684\n",
      "Epoch 19/50\n",
      "\u001B[1m123/123\u001B[0m \u001B[32m━━━━━━━━━━━━━━━━━━━━\u001B[0m\u001B[37m\u001B[0m \u001B[1m0s\u001B[0m 2ms/step - loss: 0.0785 - mae: 0.0785 - val_loss: 0.0681 - val_mae: 0.0682\n",
      "Epoch 20/50\n",
      "\u001B[1m123/123\u001B[0m \u001B[32m━━━━━━━━━━━━━━━━━━━━\u001B[0m\u001B[37m\u001B[0m \u001B[1m0s\u001B[0m 2ms/step - loss: 0.0714 - mae: 0.0715 - val_loss: 0.0895 - val_mae: 0.0897\n",
      "Epoch 21/50\n",
      "\u001B[1m123/123\u001B[0m \u001B[32m━━━━━━━━━━━━━━━━━━━━\u001B[0m\u001B[37m\u001B[0m \u001B[1m0s\u001B[0m 2ms/step - loss: 0.0852 - mae: 0.0856 - val_loss: 0.0659 - val_mae: 0.0661\n",
      "Epoch 22/50\n",
      "\u001B[1m123/123\u001B[0m \u001B[32m━━━━━━━━━━━━━━━━━━━━\u001B[0m\u001B[37m\u001B[0m \u001B[1m0s\u001B[0m 2ms/step - loss: 0.0642 - mae: 0.0643 - val_loss: 0.0642 - val_mae: 0.0642\n",
      "Epoch 23/50\n",
      "\u001B[1m123/123\u001B[0m \u001B[32m━━━━━━━━━━━━━━━━━━━━\u001B[0m\u001B[37m\u001B[0m \u001B[1m0s\u001B[0m 2ms/step - loss: 0.0618 - mae: 0.0619 - val_loss: 0.0754 - val_mae: 0.0758\n",
      "Epoch 24/50\n",
      "\u001B[1m123/123\u001B[0m \u001B[32m━━━━━━━━━━━━━━━━━━━━\u001B[0m\u001B[37m\u001B[0m \u001B[1m0s\u001B[0m 2ms/step - loss: 0.0612 - mae: 0.0614 - val_loss: 0.0601 - val_mae: 0.0601\n",
      "Epoch 25/50\n",
      "\u001B[1m123/123\u001B[0m \u001B[32m━━━━━━━━━━━━━━━━━━━━\u001B[0m\u001B[37m\u001B[0m \u001B[1m0s\u001B[0m 2ms/step - loss: 0.0632 - mae: 0.0632 - val_loss: 0.0591 - val_mae: 0.0591\n",
      "Epoch 26/50\n",
      "\u001B[1m123/123\u001B[0m \u001B[32m━━━━━━━━━━━━━━━━━━━━\u001B[0m\u001B[37m\u001B[0m \u001B[1m0s\u001B[0m 2ms/step - loss: 0.0546 - mae: 0.0546 - val_loss: 0.0590 - val_mae: 0.0590\n",
      "Epoch 27/50\n",
      "\u001B[1m123/123\u001B[0m \u001B[32m━━━━━━━━━━━━━━━━━━━━\u001B[0m\u001B[37m\u001B[0m \u001B[1m0s\u001B[0m 2ms/step - loss: 0.0594 - mae: 0.0594 - val_loss: 0.0570 - val_mae: 0.0570\n",
      "Epoch 28/50\n",
      "\u001B[1m123/123\u001B[0m \u001B[32m━━━━━━━━━━━━━━━━━━━━\u001B[0m\u001B[37m\u001B[0m \u001B[1m0s\u001B[0m 2ms/step - loss: 0.0561 - mae: 0.0563 - val_loss: 0.0805 - val_mae: 0.0809\n",
      "Epoch 29/50\n",
      "\u001B[1m123/123\u001B[0m \u001B[32m━━━━━━━━━━━━━━━━━━━━\u001B[0m\u001B[37m\u001B[0m \u001B[1m0s\u001B[0m 2ms/step - loss: 0.0730 - mae: 0.0730 - val_loss: 0.0478 - val_mae: 0.0480\n",
      "Epoch 30/50\n",
      "\u001B[1m123/123\u001B[0m \u001B[32m━━━━━━━━━━━━━━━━━━━━\u001B[0m\u001B[37m\u001B[0m \u001B[1m0s\u001B[0m 2ms/step - loss: 0.0552 - mae: 0.0552 - val_loss: 0.0479 - val_mae: 0.0481\n",
      "Epoch 31/50\n",
      "\u001B[1m123/123\u001B[0m \u001B[32m━━━━━━━━━━━━━━━━━━━━\u001B[0m\u001B[37m\u001B[0m \u001B[1m0s\u001B[0m 2ms/step - loss: 0.0640 - mae: 0.0640 - val_loss: 0.0468 - val_mae: 0.0469\n",
      "Epoch 32/50\n",
      "\u001B[1m123/123\u001B[0m \u001B[32m━━━━━━━━━━━━━━━━━━━━\u001B[0m\u001B[37m\u001B[0m \u001B[1m0s\u001B[0m 2ms/step - loss: 0.0575 - mae: 0.0575 - val_loss: 0.0468 - val_mae: 0.0469\n",
      "Epoch 33/50\n",
      "\u001B[1m123/123\u001B[0m \u001B[32m━━━━━━━━━━━━━━━━━━━━\u001B[0m\u001B[37m\u001B[0m \u001B[1m0s\u001B[0m 2ms/step - loss: 0.0494 - mae: 0.0494 - val_loss: 0.0468 - val_mae: 0.0469\n",
      "Epoch 34/50\n",
      "\u001B[1m123/123\u001B[0m \u001B[32m━━━━━━━━━━━━━━━━━━━━\u001B[0m\u001B[37m\u001B[0m \u001B[1m0s\u001B[0m 2ms/step - loss: 0.0557 - mae: 0.0557 - val_loss: 0.0468 - val_mae: 0.0469\n",
      "Epoch 35/50\n",
      "\u001B[1m123/123\u001B[0m \u001B[32m━━━━━━━━━━━━━━━━━━━━\u001B[0m\u001B[37m\u001B[0m \u001B[1m0s\u001B[0m 2ms/step - loss: 0.0533 - mae: 0.0533 - val_loss: 0.0468 - val_mae: 0.0469\n",
      "Epoch 36/50\n",
      "\u001B[1m123/123\u001B[0m \u001B[32m━━━━━━━━━━━━━━━━━━━━\u001B[0m\u001B[37m\u001B[0m \u001B[1m0s\u001B[0m 2ms/step - loss: 0.0511 - mae: 0.0511 - val_loss: 0.0468 - val_mae: 0.0469\n",
      "Epoch 37/50\n",
      "\u001B[1m123/123\u001B[0m \u001B[32m━━━━━━━━━━━━━━━━━━━━\u001B[0m\u001B[37m\u001B[0m \u001B[1m0s\u001B[0m 2ms/step - loss: 0.0570 - mae: 0.0570 - val_loss: 0.0468 - val_mae: 0.0469\n",
      "Epoch 38/50\n",
      "\u001B[1m123/123\u001B[0m \u001B[32m━━━━━━━━━━━━━━━━━━━━\u001B[0m\u001B[37m\u001B[0m \u001B[1m0s\u001B[0m 2ms/step - loss: 0.0563 - mae: 0.0563 - val_loss: 0.0468 - val_mae: 0.0469\n",
      "Epoch 39/50\n",
      "\u001B[1m123/123\u001B[0m \u001B[32m━━━━━━━━━━━━━━━━━━━━\u001B[0m\u001B[37m\u001B[0m \u001B[1m0s\u001B[0m 2ms/step - loss: 0.0523 - mae: 0.0523 - val_loss: 0.0468 - val_mae: 0.0469\n",
      "Epoch 40/50\n",
      "\u001B[1m123/123\u001B[0m \u001B[32m━━━━━━━━━━━━━━━━━━━━\u001B[0m\u001B[37m\u001B[0m \u001B[1m0s\u001B[0m 2ms/step - loss: 0.0547 - mae: 0.0547 - val_loss: 0.0468 - val_mae: 0.0469\n",
      "Epoch 41/50\n",
      "\u001B[1m123/123\u001B[0m \u001B[32m━━━━━━━━━━━━━━━━━━━━\u001B[0m\u001B[37m\u001B[0m \u001B[1m0s\u001B[0m 2ms/step - loss: 0.0556 - mae: 0.0556 - val_loss: 0.0468 - val_mae: 0.0469\n",
      "Epoch 42/50\n",
      "\u001B[1m123/123\u001B[0m \u001B[32m━━━━━━━━━━━━━━━━━━━━\u001B[0m\u001B[37m\u001B[0m \u001B[1m0s\u001B[0m 3ms/step - loss: 0.0501 - mae: 0.0501 - val_loss: 0.0468 - val_mae: 0.0469\n",
      "Epoch 43/50\n",
      "\u001B[1m123/123\u001B[0m \u001B[32m━━━━━━━━━━━━━━━━━━━━\u001B[0m\u001B[37m\u001B[0m \u001B[1m0s\u001B[0m 2ms/step - loss: 0.0516 - mae: 0.0516 - val_loss: 0.0468 - val_mae: 0.0469\n",
      "Epoch 44/50\n",
      "\u001B[1m123/123\u001B[0m \u001B[32m━━━━━━━━━━━━━━━━━━━━\u001B[0m\u001B[37m\u001B[0m \u001B[1m0s\u001B[0m 2ms/step - loss: 0.0500 - mae: 0.0500 - val_loss: 0.0468 - val_mae: 0.0469\n",
      "Epoch 45/50\n",
      "\u001B[1m123/123\u001B[0m \u001B[32m━━━━━━━━━━━━━━━━━━━━\u001B[0m\u001B[37m\u001B[0m \u001B[1m0s\u001B[0m 2ms/step - loss: 0.0484 - mae: 0.0484 - val_loss: 0.0468 - val_mae: 0.0469\n",
      "Epoch 46/50\n",
      "\u001B[1m123/123\u001B[0m \u001B[32m━━━━━━━━━━━━━━━━━━━━\u001B[0m\u001B[37m\u001B[0m \u001B[1m0s\u001B[0m 2ms/step - loss: 0.0530 - mae: 0.0530 - val_loss: 0.0468 - val_mae: 0.0469\n",
      "Epoch 47/50\n",
      "\u001B[1m123/123\u001B[0m \u001B[32m━━━━━━━━━━━━━━━━━━━━\u001B[0m\u001B[37m\u001B[0m \u001B[1m0s\u001B[0m 2ms/step - loss: 0.0546 - mae: 0.0546 - val_loss: 0.0468 - val_mae: 0.0469\n",
      "Epoch 48/50\n",
      "\u001B[1m123/123\u001B[0m \u001B[32m━━━━━━━━━━━━━━━━━━━━\u001B[0m\u001B[37m\u001B[0m \u001B[1m0s\u001B[0m 2ms/step - loss: 0.0539 - mae: 0.0539 - val_loss: 0.0468 - val_mae: 0.0469\n",
      "Epoch 49/50\n",
      "\u001B[1m123/123\u001B[0m \u001B[32m━━━━━━━━━━━━━━━━━━━━\u001B[0m\u001B[37m\u001B[0m \u001B[1m0s\u001B[0m 2ms/step - loss: 0.0589 - mae: 0.0589 - val_loss: 0.0468 - val_mae: 0.0469\n",
      "Epoch 50/50\n",
      "\u001B[1m123/123\u001B[0m \u001B[32m━━━━━━━━━━━━━━━━━━━━\u001B[0m\u001B[37m\u001B[0m \u001B[1m0s\u001B[0m 2ms/step - loss: 0.0528 - mae: 0.0528 - val_loss: 0.0468 - val_mae: 0.0469\n"
     ]
    },
    {
     "name": "stderr",
     "output_type": "stream",
     "text": [
      "[I 2025-02-06 21:07:44,218] Trial 8 finished with value: 0.04684486985206604 and parameters: {'units': 32, 'learning_rate': 0.1}. Best is trial 5 with value: 0.013754562474787235.\n"
     ]
    },
    {
     "name": "stdout",
     "output_type": "stream",
     "text": [
      "Epoch 1/50\n",
      "\u001B[1m123/123\u001B[0m \u001B[32m━━━━━━━━━━━━━━━━━━━━\u001B[0m\u001B[37m\u001B[0m \u001B[1m1s\u001B[0m 3ms/step - loss: 0.1552 - mae: 0.3571 - val_loss: 0.0600 - val_mae: 0.1704\n",
      "Epoch 2/50\n",
      "\u001B[1m123/123\u001B[0m \u001B[32m━━━━━━━━━━━━━━━━━━━━\u001B[0m\u001B[37m\u001B[0m \u001B[1m0s\u001B[0m 2ms/step - loss: 0.0539 - mae: 0.1545 - val_loss: 0.0469 - val_mae: 0.1251\n",
      "Epoch 3/50\n",
      "\u001B[1m123/123\u001B[0m \u001B[32m━━━━━━━━━━━━━━━━━━━━\u001B[0m\u001B[37m\u001B[0m \u001B[1m0s\u001B[0m 2ms/step - loss: 0.0400 - mae: 0.1148 - val_loss: 0.0379 - val_mae: 0.1137\n",
      "Epoch 4/50\n",
      "\u001B[1m123/123\u001B[0m \u001B[32m━━━━━━━━━━━━━━━━━━━━\u001B[0m\u001B[37m\u001B[0m \u001B[1m0s\u001B[0m 2ms/step - loss: 0.0345 - mae: 0.1093 - val_loss: 0.0297 - val_mae: 0.1032\n",
      "Epoch 5/50\n",
      "\u001B[1m123/123\u001B[0m \u001B[32m━━━━━━━━━━━━━━━━━━━━\u001B[0m\u001B[37m\u001B[0m \u001B[1m0s\u001B[0m 3ms/step - loss: 0.0276 - mae: 0.0978 - val_loss: 0.0251 - val_mae: 0.0908\n",
      "Epoch 6/50\n",
      "\u001B[1m123/123\u001B[0m \u001B[32m━━━━━━━━━━━━━━━━━━━━\u001B[0m\u001B[37m\u001B[0m \u001B[1m0s\u001B[0m 2ms/step - loss: 0.0248 - mae: 0.0900 - val_loss: 0.0224 - val_mae: 0.0837\n",
      "Epoch 7/50\n",
      "\u001B[1m123/123\u001B[0m \u001B[32m━━━━━━━━━━━━━━━━━━━━\u001B[0m\u001B[37m\u001B[0m \u001B[1m0s\u001B[0m 2ms/step - loss: 0.0205 - mae: 0.0771 - val_loss: 0.0210 - val_mae: 0.0803\n",
      "Epoch 8/50\n",
      "\u001B[1m123/123\u001B[0m \u001B[32m━━━━━━━━━━━━━━━━━━━━\u001B[0m\u001B[37m\u001B[0m \u001B[1m0s\u001B[0m 2ms/step - loss: 0.0213 - mae: 0.0773 - val_loss: 0.0186 - val_mae: 0.0663\n",
      "Epoch 9/50\n",
      "\u001B[1m123/123\u001B[0m \u001B[32m━━━━━━━━━━━━━━━━━━━━\u001B[0m\u001B[37m\u001B[0m \u001B[1m0s\u001B[0m 2ms/step - loss: 0.0200 - mae: 0.0662 - val_loss: 0.0185 - val_mae: 0.0650\n",
      "Epoch 10/50\n",
      "\u001B[1m123/123\u001B[0m \u001B[32m━━━━━━━━━━━━━━━━━━━━\u001B[0m\u001B[37m\u001B[0m \u001B[1m0s\u001B[0m 2ms/step - loss: 0.0171 - mae: 0.0615 - val_loss: 0.0188 - val_mae: 0.0670\n",
      "Epoch 11/50\n",
      "\u001B[1m123/123\u001B[0m \u001B[32m━━━━━━━━━━━━━━━━━━━━\u001B[0m\u001B[37m\u001B[0m \u001B[1m0s\u001B[0m 2ms/step - loss: 0.0127 - mae: 0.0530 - val_loss: 0.0166 - val_mae: 0.0562\n",
      "Epoch 12/50\n",
      "\u001B[1m123/123\u001B[0m \u001B[32m━━━━━━━━━━━━━━━━━━━━\u001B[0m\u001B[37m\u001B[0m \u001B[1m0s\u001B[0m 2ms/step - loss: 0.0126 - mae: 0.0490 - val_loss: 0.0165 - val_mae: 0.0569\n",
      "Epoch 13/50\n",
      "\u001B[1m123/123\u001B[0m \u001B[32m━━━━━━━━━━━━━━━━━━━━\u001B[0m\u001B[37m\u001B[0m \u001B[1m0s\u001B[0m 2ms/step - loss: 0.0124 - mae: 0.0494 - val_loss: 0.0159 - val_mae: 0.0511\n",
      "Epoch 14/50\n",
      "\u001B[1m123/123\u001B[0m \u001B[32m━━━━━━━━━━━━━━━━━━━━\u001B[0m\u001B[37m\u001B[0m \u001B[1m0s\u001B[0m 2ms/step - loss: 0.0137 - mae: 0.0462 - val_loss: 0.0161 - val_mae: 0.0536\n",
      "Epoch 15/50\n",
      "\u001B[1m123/123\u001B[0m \u001B[32m━━━━━━━━━━━━━━━━━━━━\u001B[0m\u001B[37m\u001B[0m \u001B[1m0s\u001B[0m 2ms/step - loss: 0.0129 - mae: 0.0457 - val_loss: 0.0149 - val_mae: 0.0506\n",
      "Epoch 16/50\n",
      "\u001B[1m123/123\u001B[0m \u001B[32m━━━━━━━━━━━━━━━━━━━━\u001B[0m\u001B[37m\u001B[0m \u001B[1m0s\u001B[0m 2ms/step - loss: 0.0117 - mae: 0.0435 - val_loss: 0.0160 - val_mae: 0.0487\n",
      "Epoch 17/50\n",
      "\u001B[1m123/123\u001B[0m \u001B[32m━━━━━━━━━━━━━━━━━━━━\u001B[0m\u001B[37m\u001B[0m \u001B[1m0s\u001B[0m 2ms/step - loss: 0.0112 - mae: 0.0382 - val_loss: 0.0150 - val_mae: 0.0479\n",
      "Epoch 18/50\n",
      "\u001B[1m123/123\u001B[0m \u001B[32m━━━━━━━━━━━━━━━━━━━━\u001B[0m\u001B[37m\u001B[0m \u001B[1m0s\u001B[0m 2ms/step - loss: 0.0115 - mae: 0.0384 - val_loss: 0.0139 - val_mae: 0.0415\n",
      "Epoch 19/50\n",
      "\u001B[1m123/123\u001B[0m \u001B[32m━━━━━━━━━━━━━━━━━━━━\u001B[0m\u001B[37m\u001B[0m \u001B[1m0s\u001B[0m 2ms/step - loss: 0.0110 - mae: 0.0368 - val_loss: 0.0151 - val_mae: 0.0460\n",
      "Epoch 20/50\n",
      "\u001B[1m123/123\u001B[0m \u001B[32m━━━━━━━━━━━━━━━━━━━━\u001B[0m\u001B[37m\u001B[0m \u001B[1m0s\u001B[0m 2ms/step - loss: 0.0102 - mae: 0.0356 - val_loss: 0.0137 - val_mae: 0.0434\n",
      "Epoch 21/50\n",
      "\u001B[1m123/123\u001B[0m \u001B[32m━━━━━━━━━━━━━━━━━━━━\u001B[0m\u001B[37m\u001B[0m \u001B[1m0s\u001B[0m 2ms/step - loss: 0.0107 - mae: 0.0373 - val_loss: 0.0140 - val_mae: 0.0397\n",
      "Epoch 22/50\n",
      "\u001B[1m123/123\u001B[0m \u001B[32m━━━━━━━━━━━━━━━━━━━━\u001B[0m\u001B[37m\u001B[0m \u001B[1m0s\u001B[0m 2ms/step - loss: 0.0095 - mae: 0.0319 - val_loss: 0.0148 - val_mae: 0.0426\n",
      "Epoch 23/50\n",
      "\u001B[1m123/123\u001B[0m \u001B[32m━━━━━━━━━━━━━━━━━━━━\u001B[0m\u001B[37m\u001B[0m \u001B[1m0s\u001B[0m 2ms/step - loss: 0.0093 - mae: 0.0321 - val_loss: 0.0153 - val_mae: 0.0470\n",
      "Epoch 24/50\n",
      "\u001B[1m123/123\u001B[0m \u001B[32m━━━━━━━━━━━━━━━━━━━━\u001B[0m\u001B[37m\u001B[0m \u001B[1m0s\u001B[0m 2ms/step - loss: 0.0103 - mae: 0.0347 - val_loss: 0.0150 - val_mae: 0.0413\n",
      "Epoch 25/50\n",
      "\u001B[1m123/123\u001B[0m \u001B[32m━━━━━━━━━━━━━━━━━━━━\u001B[0m\u001B[37m\u001B[0m \u001B[1m0s\u001B[0m 2ms/step - loss: 0.0097 - mae: 0.0305 - val_loss: 0.0141 - val_mae: 0.0406\n",
      "Epoch 26/50\n",
      "\u001B[1m123/123\u001B[0m \u001B[32m━━━━━━━━━━━━━━━━━━━━\u001B[0m\u001B[37m\u001B[0m \u001B[1m0s\u001B[0m 2ms/step - loss: 0.0110 - mae: 0.0332 - val_loss: 0.0145 - val_mae: 0.0413\n",
      "Epoch 27/50\n",
      "\u001B[1m123/123\u001B[0m \u001B[32m━━━━━━━━━━━━━━━━━━━━\u001B[0m\u001B[37m\u001B[0m \u001B[1m0s\u001B[0m 2ms/step - loss: 0.0105 - mae: 0.0306 - val_loss: 0.0143 - val_mae: 0.0370\n",
      "Epoch 28/50\n",
      "\u001B[1m123/123\u001B[0m \u001B[32m━━━━━━━━━━━━━━━━━━━━\u001B[0m\u001B[37m\u001B[0m \u001B[1m0s\u001B[0m 2ms/step - loss: 0.0100 - mae: 0.0290 - val_loss: 0.0144 - val_mae: 0.0346\n",
      "Epoch 29/50\n",
      "\u001B[1m123/123\u001B[0m \u001B[32m━━━━━━━━━━━━━━━━━━━━\u001B[0m\u001B[37m\u001B[0m \u001B[1m0s\u001B[0m 2ms/step - loss: 0.0097 - mae: 0.0263 - val_loss: 0.0139 - val_mae: 0.0358\n",
      "Epoch 30/50\n",
      "\u001B[1m123/123\u001B[0m \u001B[32m━━━━━━━━━━━━━━━━━━━━\u001B[0m\u001B[37m\u001B[0m \u001B[1m0s\u001B[0m 2ms/step - loss: 0.0081 - mae: 0.0249 - val_loss: 0.0133 - val_mae: 0.0368\n",
      "Epoch 31/50\n",
      "\u001B[1m123/123\u001B[0m \u001B[32m━━━━━━━━━━━━━━━━━━━━\u001B[0m\u001B[37m\u001B[0m \u001B[1m0s\u001B[0m 2ms/step - loss: 0.0084 - mae: 0.0264 - val_loss: 0.0141 - val_mae: 0.0344\n",
      "Epoch 32/50\n",
      "\u001B[1m123/123\u001B[0m \u001B[32m━━━━━━━━━━━━━━━━━━━━\u001B[0m\u001B[37m\u001B[0m \u001B[1m0s\u001B[0m 2ms/step - loss: 0.0107 - mae: 0.0285 - val_loss: 0.0144 - val_mae: 0.0351\n",
      "Epoch 33/50\n",
      "\u001B[1m123/123\u001B[0m \u001B[32m━━━━━━━━━━━━━━━━━━━━\u001B[0m\u001B[37m\u001B[0m \u001B[1m0s\u001B[0m 2ms/step - loss: 0.0081 - mae: 0.0251 - val_loss: 0.0143 - val_mae: 0.0364\n",
      "Epoch 34/50\n",
      "\u001B[1m123/123\u001B[0m \u001B[32m━━━━━━━━━━━━━━━━━━━━\u001B[0m\u001B[37m\u001B[0m \u001B[1m0s\u001B[0m 2ms/step - loss: 0.0085 - mae: 0.0264 - val_loss: 0.0146 - val_mae: 0.0347\n",
      "Epoch 35/50\n",
      "\u001B[1m123/123\u001B[0m \u001B[32m━━━━━━━━━━━━━━━━━━━━\u001B[0m\u001B[37m\u001B[0m \u001B[1m0s\u001B[0m 2ms/step - loss: 0.0093 - mae: 0.0274 - val_loss: 0.0148 - val_mae: 0.0360\n",
      "Epoch 36/50\n",
      "\u001B[1m123/123\u001B[0m \u001B[32m━━━━━━━━━━━━━━━━━━━━\u001B[0m\u001B[37m\u001B[0m \u001B[1m0s\u001B[0m 2ms/step - loss: 0.0070 - mae: 0.0221 - val_loss: 0.0143 - val_mae: 0.0355\n",
      "Epoch 37/50\n",
      "\u001B[1m123/123\u001B[0m \u001B[32m━━━━━━━━━━━━━━━━━━━━\u001B[0m\u001B[37m\u001B[0m \u001B[1m0s\u001B[0m 2ms/step - loss: 0.0075 - mae: 0.0242 - val_loss: 0.0134 - val_mae: 0.0302\n",
      "Epoch 38/50\n",
      "\u001B[1m123/123\u001B[0m \u001B[32m━━━━━━━━━━━━━━━━━━━━\u001B[0m\u001B[37m\u001B[0m \u001B[1m0s\u001B[0m 2ms/step - loss: 0.0117 - mae: 0.0276 - val_loss: 0.0141 - val_mae: 0.0317\n",
      "Epoch 39/50\n",
      "\u001B[1m123/123\u001B[0m \u001B[32m━━━━━━━━━━━━━━━━━━━━\u001B[0m\u001B[37m\u001B[0m \u001B[1m0s\u001B[0m 2ms/step - loss: 0.0066 - mae: 0.0212 - val_loss: 0.0145 - val_mae: 0.0347\n",
      "Epoch 40/50\n",
      "\u001B[1m123/123\u001B[0m \u001B[32m━━━━━━━━━━━━━━━━━━━━\u001B[0m\u001B[37m\u001B[0m \u001B[1m0s\u001B[0m 2ms/step - loss: 0.0067 - mae: 0.0219 - val_loss: 0.0139 - val_mae: 0.0340\n",
      "Epoch 41/50\n",
      "\u001B[1m123/123\u001B[0m \u001B[32m━━━━━━━━━━━━━━━━━━━━\u001B[0m\u001B[37m\u001B[0m \u001B[1m0s\u001B[0m 2ms/step - loss: 0.0082 - mae: 0.0238 - val_loss: 0.0141 - val_mae: 0.0331\n",
      "Epoch 42/50\n",
      "\u001B[1m123/123\u001B[0m \u001B[32m━━━━━━━━━━━━━━━━━━━━\u001B[0m\u001B[37m\u001B[0m \u001B[1m0s\u001B[0m 2ms/step - loss: 0.0086 - mae: 0.0233 - val_loss: 0.0150 - val_mae: 0.0345\n",
      "Epoch 43/50\n",
      "\u001B[1m123/123\u001B[0m \u001B[32m━━━━━━━━━━━━━━━━━━━━\u001B[0m\u001B[37m\u001B[0m \u001B[1m0s\u001B[0m 2ms/step - loss: 0.0077 - mae: 0.0224 - val_loss: 0.0143 - val_mae: 0.0338\n",
      "Epoch 44/50\n",
      "\u001B[1m123/123\u001B[0m \u001B[32m━━━━━━━━━━━━━━━━━━━━\u001B[0m\u001B[37m\u001B[0m \u001B[1m0s\u001B[0m 2ms/step - loss: 0.0089 - mae: 0.0240 - val_loss: 0.0136 - val_mae: 0.0307\n",
      "Epoch 45/50\n",
      "\u001B[1m123/123\u001B[0m \u001B[32m━━━━━━━━━━━━━━━━━━━━\u001B[0m\u001B[37m\u001B[0m \u001B[1m0s\u001B[0m 2ms/step - loss: 0.0070 - mae: 0.0197 - val_loss: 0.0135 - val_mae: 0.0308\n",
      "Epoch 46/50\n",
      "\u001B[1m123/123\u001B[0m \u001B[32m━━━━━━━━━━━━━━━━━━━━\u001B[0m\u001B[37m\u001B[0m \u001B[1m0s\u001B[0m 2ms/step - loss: 0.0064 - mae: 0.0211 - val_loss: 0.0133 - val_mae: 0.0311\n",
      "Epoch 47/50\n",
      "\u001B[1m123/123\u001B[0m \u001B[32m━━━━━━━━━━━━━━━━━━━━\u001B[0m\u001B[37m\u001B[0m \u001B[1m0s\u001B[0m 2ms/step - loss: 0.0082 - mae: 0.0218 - val_loss: 0.0125 - val_mae: 0.0271\n",
      "Epoch 48/50\n",
      "\u001B[1m123/123\u001B[0m \u001B[32m━━━━━━━━━━━━━━━━━━━━\u001B[0m\u001B[37m\u001B[0m \u001B[1m0s\u001B[0m 2ms/step - loss: 0.0079 - mae: 0.0210 - val_loss: 0.0132 - val_mae: 0.0298\n",
      "Epoch 49/50\n",
      "\u001B[1m123/123\u001B[0m \u001B[32m━━━━━━━━━━━━━━━━━━━━\u001B[0m\u001B[37m\u001B[0m \u001B[1m0s\u001B[0m 2ms/step - loss: 0.0058 - mae: 0.0177 - val_loss: 0.0144 - val_mae: 0.0331\n",
      "Epoch 50/50\n",
      "\u001B[1m123/123\u001B[0m \u001B[32m━━━━━━━━━━━━━━━━━━━━\u001B[0m\u001B[37m\u001B[0m \u001B[1m0s\u001B[0m 2ms/step - loss: 0.0079 - mae: 0.0236 - val_loss: 0.0135 - val_mae: 0.0298\n"
     ]
    },
    {
     "name": "stderr",
     "output_type": "stream",
     "text": [
      "[I 2025-02-06 21:08:00,299] Trial 9 finished with value: 0.013476582244038582 and parameters: {'units': 160, 'learning_rate': 0.001}. Best is trial 9 with value: 0.013476582244038582.\n"
     ]
    },
    {
     "name": "stdout",
     "output_type": "stream",
     "text": [
      "Best hyperparameters: {'units': 160, 'learning_rate': 0.001}\n"
     ]
    }
   ],
   "execution_count": 78
  },
  {
   "metadata": {
    "ExecuteTime": {
     "end_time": "2025-02-06T20:08:16.659586Z",
     "start_time": "2025-02-06T20:08:00.368440Z"
    }
   },
   "cell_type": "code",
   "source": [
    "best_params = study.best_params  # Obtener los mejores hiperparámetros encontrados\n",
    "\n",
    "# Crear y entrenar el mejor modelo\n",
    "best_model = Sequential([\n",
    "    Input(shape=(X_train_split.shape[1],)), # Definir forma de la entrada\n",
    "    Dense(units=best_params['units'], activation='relu'),\n",
    "    Dense(1, activation='sigmoid')  # Asegúrate de que la activación final sea adecuada\n",
    "])\n",
    "\n",
    "best_model.compile(\n",
    "    optimizer=tf.keras.optimizers.Adam(learning_rate=best_params['learning_rate']),\n",
    "    loss='mean_squared_error',\n",
    "    metrics=['mae']\n",
    ")\n",
    "\n",
    "best_model.fit(X_train_split, y_train_split, epochs=50, validation_split=0.2, verbose=1)"
   ],
   "id": "f3686d25814053ac",
   "outputs": [
    {
     "name": "stdout",
     "output_type": "stream",
     "text": [
      "Epoch 1/50\n",
      "\u001B[1m123/123\u001B[0m \u001B[32m━━━━━━━━━━━━━━━━━━━━\u001B[0m\u001B[37m\u001B[0m \u001B[1m1s\u001B[0m 3ms/step - loss: 0.1901 - mae: 0.4014 - val_loss: 0.0593 - val_mae: 0.1736\n",
      "Epoch 2/50\n",
      "\u001B[1m123/123\u001B[0m \u001B[32m━━━━━━━━━━━━━━━━━━━━\u001B[0m\u001B[37m\u001B[0m \u001B[1m0s\u001B[0m 2ms/step - loss: 0.0548 - mae: 0.1609 - val_loss: 0.0462 - val_mae: 0.1324\n",
      "Epoch 3/50\n",
      "\u001B[1m123/123\u001B[0m \u001B[32m━━━━━━━━━━━━━━━━━━━━\u001B[0m\u001B[37m\u001B[0m \u001B[1m0s\u001B[0m 2ms/step - loss: 0.0446 - mae: 0.1270 - val_loss: 0.0376 - val_mae: 0.1143\n",
      "Epoch 4/50\n",
      "\u001B[1m123/123\u001B[0m \u001B[32m━━━━━━━━━━━━━━━━━━━━\u001B[0m\u001B[37m\u001B[0m \u001B[1m0s\u001B[0m 2ms/step - loss: 0.0357 - mae: 0.1111 - val_loss: 0.0301 - val_mae: 0.1040\n",
      "Epoch 5/50\n",
      "\u001B[1m123/123\u001B[0m \u001B[32m━━━━━━━━━━━━━━━━━━━━\u001B[0m\u001B[37m\u001B[0m \u001B[1m0s\u001B[0m 2ms/step - loss: 0.0276 - mae: 0.0976 - val_loss: 0.0256 - val_mae: 0.0946\n",
      "Epoch 6/50\n",
      "\u001B[1m123/123\u001B[0m \u001B[32m━━━━━━━━━━━━━━━━━━━━\u001B[0m\u001B[37m\u001B[0m \u001B[1m0s\u001B[0m 2ms/step - loss: 0.0281 - mae: 0.0949 - val_loss: 0.0226 - val_mae: 0.0815\n",
      "Epoch 7/50\n",
      "\u001B[1m123/123\u001B[0m \u001B[32m━━━━━━━━━━━━━━━━━━━━\u001B[0m\u001B[37m\u001B[0m \u001B[1m0s\u001B[0m 2ms/step - loss: 0.0206 - mae: 0.0748 - val_loss: 0.0216 - val_mae: 0.0843\n",
      "Epoch 8/50\n",
      "\u001B[1m123/123\u001B[0m \u001B[32m━━━━━━━━━━━━━━━━━━━━\u001B[0m\u001B[37m\u001B[0m \u001B[1m0s\u001B[0m 2ms/step - loss: 0.0217 - mae: 0.0774 - val_loss: 0.0198 - val_mae: 0.0723\n",
      "Epoch 9/50\n",
      "\u001B[1m123/123\u001B[0m \u001B[32m━━━━━━━━━━━━━━━━━━━━\u001B[0m\u001B[37m\u001B[0m \u001B[1m0s\u001B[0m 3ms/step - loss: 0.0167 - mae: 0.0657 - val_loss: 0.0188 - val_mae: 0.0684\n",
      "Epoch 10/50\n",
      "\u001B[1m123/123\u001B[0m \u001B[32m━━━━━━━━━━━━━━━━━━━━\u001B[0m\u001B[37m\u001B[0m \u001B[1m0s\u001B[0m 3ms/step - loss: 0.0161 - mae: 0.0617 - val_loss: 0.0181 - val_mae: 0.0670\n",
      "Epoch 11/50\n",
      "\u001B[1m123/123\u001B[0m \u001B[32m━━━━━━━━━━━━━━━━━━━━\u001B[0m\u001B[37m\u001B[0m \u001B[1m0s\u001B[0m 2ms/step - loss: 0.0148 - mae: 0.0561 - val_loss: 0.0175 - val_mae: 0.0632\n",
      "Epoch 12/50\n",
      "\u001B[1m123/123\u001B[0m \u001B[32m━━━━━━━━━━━━━━━━━━━━\u001B[0m\u001B[37m\u001B[0m \u001B[1m0s\u001B[0m 3ms/step - loss: 0.0160 - mae: 0.0575 - val_loss: 0.0173 - val_mae: 0.0622\n",
      "Epoch 13/50\n",
      "\u001B[1m123/123\u001B[0m \u001B[32m━━━━━━━━━━━━━━━━━━━━\u001B[0m\u001B[37m\u001B[0m \u001B[1m0s\u001B[0m 3ms/step - loss: 0.0136 - mae: 0.0517 - val_loss: 0.0166 - val_mae: 0.0541\n",
      "Epoch 14/50\n",
      "\u001B[1m123/123\u001B[0m \u001B[32m━━━━━━━━━━━━━━━━━━━━\u001B[0m\u001B[37m\u001B[0m \u001B[1m0s\u001B[0m 2ms/step - loss: 0.0129 - mae: 0.0467 - val_loss: 0.0159 - val_mae: 0.0557\n",
      "Epoch 15/50\n",
      "\u001B[1m123/123\u001B[0m \u001B[32m━━━━━━━━━━━━━━━━━━━━\u001B[0m\u001B[37m\u001B[0m \u001B[1m0s\u001B[0m 2ms/step - loss: 0.0148 - mae: 0.0490 - val_loss: 0.0158 - val_mae: 0.0514\n",
      "Epoch 16/50\n",
      "\u001B[1m123/123\u001B[0m \u001B[32m━━━━━━━━━━━━━━━━━━━━\u001B[0m\u001B[37m\u001B[0m \u001B[1m0s\u001B[0m 2ms/step - loss: 0.0124 - mae: 0.0440 - val_loss: 0.0159 - val_mae: 0.0532\n",
      "Epoch 17/50\n",
      "\u001B[1m123/123\u001B[0m \u001B[32m━━━━━━━━━━━━━━━━━━━━\u001B[0m\u001B[37m\u001B[0m \u001B[1m0s\u001B[0m 2ms/step - loss: 0.0112 - mae: 0.0431 - val_loss: 0.0150 - val_mae: 0.0472\n",
      "Epoch 18/50\n",
      "\u001B[1m123/123\u001B[0m \u001B[32m━━━━━━━━━━━━━━━━━━━━\u001B[0m\u001B[37m\u001B[0m \u001B[1m0s\u001B[0m 2ms/step - loss: 0.0117 - mae: 0.0405 - val_loss: 0.0148 - val_mae: 0.0445\n",
      "Epoch 19/50\n",
      "\u001B[1m123/123\u001B[0m \u001B[32m━━━━━━━━━━━━━━━━━━━━\u001B[0m\u001B[37m\u001B[0m \u001B[1m0s\u001B[0m 2ms/step - loss: 0.0120 - mae: 0.0399 - val_loss: 0.0146 - val_mae: 0.0407\n",
      "Epoch 20/50\n",
      "\u001B[1m123/123\u001B[0m \u001B[32m━━━━━━━━━━━━━━━━━━━━\u001B[0m\u001B[37m\u001B[0m \u001B[1m0s\u001B[0m 2ms/step - loss: 0.0143 - mae: 0.0403 - val_loss: 0.0148 - val_mae: 0.0404\n",
      "Epoch 21/50\n",
      "\u001B[1m123/123\u001B[0m \u001B[32m━━━━━━━━━━━━━━━━━━━━\u001B[0m\u001B[37m\u001B[0m \u001B[1m0s\u001B[0m 2ms/step - loss: 0.0123 - mae: 0.0372 - val_loss: 0.0148 - val_mae: 0.0442\n",
      "Epoch 22/50\n",
      "\u001B[1m123/123\u001B[0m \u001B[32m━━━━━━━━━━━━━━━━━━━━\u001B[0m\u001B[37m\u001B[0m \u001B[1m0s\u001B[0m 2ms/step - loss: 0.0117 - mae: 0.0367 - val_loss: 0.0137 - val_mae: 0.0416\n",
      "Epoch 23/50\n",
      "\u001B[1m123/123\u001B[0m \u001B[32m━━━━━━━━━━━━━━━━━━━━\u001B[0m\u001B[37m\u001B[0m \u001B[1m0s\u001B[0m 2ms/step - loss: 0.0109 - mae: 0.0362 - val_loss: 0.0141 - val_mae: 0.0376\n",
      "Epoch 24/50\n",
      "\u001B[1m123/123\u001B[0m \u001B[32m━━━━━━━━━━━━━━━━━━━━\u001B[0m\u001B[37m\u001B[0m \u001B[1m0s\u001B[0m 2ms/step - loss: 0.0094 - mae: 0.0312 - val_loss: 0.0147 - val_mae: 0.0419\n",
      "Epoch 25/50\n",
      "\u001B[1m123/123\u001B[0m \u001B[32m━━━━━━━━━━━━━━━━━━━━\u001B[0m\u001B[37m\u001B[0m \u001B[1m0s\u001B[0m 2ms/step - loss: 0.0119 - mae: 0.0354 - val_loss: 0.0154 - val_mae: 0.0405\n",
      "Epoch 26/50\n",
      "\u001B[1m123/123\u001B[0m \u001B[32m━━━━━━━━━━━━━━━━━━━━\u001B[0m\u001B[37m\u001B[0m \u001B[1m0s\u001B[0m 2ms/step - loss: 0.0097 - mae: 0.0320 - val_loss: 0.0146 - val_mae: 0.0402\n",
      "Epoch 27/50\n",
      "\u001B[1m123/123\u001B[0m \u001B[32m━━━━━━━━━━━━━━━━━━━━\u001B[0m\u001B[37m\u001B[0m \u001B[1m0s\u001B[0m 2ms/step - loss: 0.0123 - mae: 0.0338 - val_loss: 0.0140 - val_mae: 0.0353\n",
      "Epoch 28/50\n",
      "\u001B[1m123/123\u001B[0m \u001B[32m━━━━━━━━━━━━━━━━━━━━\u001B[0m\u001B[37m\u001B[0m \u001B[1m0s\u001B[0m 2ms/step - loss: 0.0121 - mae: 0.0332 - val_loss: 0.0143 - val_mae: 0.0361\n",
      "Epoch 29/50\n",
      "\u001B[1m123/123\u001B[0m \u001B[32m━━━━━━━━━━━━━━━━━━━━\u001B[0m\u001B[37m\u001B[0m \u001B[1m0s\u001B[0m 2ms/step - loss: 0.0091 - mae: 0.0273 - val_loss: 0.0135 - val_mae: 0.0373\n",
      "Epoch 30/50\n",
      "\u001B[1m123/123\u001B[0m \u001B[32m━━━━━━━━━━━━━━━━━━━━\u001B[0m\u001B[37m\u001B[0m \u001B[1m0s\u001B[0m 2ms/step - loss: 0.0099 - mae: 0.0284 - val_loss: 0.0137 - val_mae: 0.0360\n",
      "Epoch 31/50\n",
      "\u001B[1m123/123\u001B[0m \u001B[32m━━━━━━━━━━━━━━━━━━━━\u001B[0m\u001B[37m\u001B[0m \u001B[1m0s\u001B[0m 3ms/step - loss: 0.0085 - mae: 0.0273 - val_loss: 0.0135 - val_mae: 0.0368\n",
      "Epoch 32/50\n",
      "\u001B[1m123/123\u001B[0m \u001B[32m━━━━━━━━━━━━━━━━━━━━\u001B[0m\u001B[37m\u001B[0m \u001B[1m0s\u001B[0m 2ms/step - loss: 0.0091 - mae: 0.0282 - val_loss: 0.0129 - val_mae: 0.0319\n",
      "Epoch 33/50\n",
      "\u001B[1m123/123\u001B[0m \u001B[32m━━━━━━━━━━━━━━━━━━━━\u001B[0m\u001B[37m\u001B[0m \u001B[1m0s\u001B[0m 2ms/step - loss: 0.0101 - mae: 0.0284 - val_loss: 0.0145 - val_mae: 0.0379\n",
      "Epoch 34/50\n",
      "\u001B[1m123/123\u001B[0m \u001B[32m━━━━━━━━━━━━━━━━━━━━\u001B[0m\u001B[37m\u001B[0m \u001B[1m0s\u001B[0m 2ms/step - loss: 0.0100 - mae: 0.0301 - val_loss: 0.0131 - val_mae: 0.0308\n",
      "Epoch 35/50\n",
      "\u001B[1m123/123\u001B[0m \u001B[32m━━━━━━━━━━━━━━━━━━━━\u001B[0m\u001B[37m\u001B[0m \u001B[1m0s\u001B[0m 2ms/step - loss: 0.0093 - mae: 0.0240 - val_loss: 0.0135 - val_mae: 0.0334\n",
      "Epoch 36/50\n",
      "\u001B[1m123/123\u001B[0m \u001B[32m━━━━━━━━━━━━━━━━━━━━\u001B[0m\u001B[37m\u001B[0m \u001B[1m0s\u001B[0m 2ms/step - loss: 0.0077 - mae: 0.0242 - val_loss: 0.0134 - val_mae: 0.0338\n",
      "Epoch 37/50\n",
      "\u001B[1m123/123\u001B[0m \u001B[32m━━━━━━━━━━━━━━━━━━━━\u001B[0m\u001B[37m\u001B[0m \u001B[1m0s\u001B[0m 2ms/step - loss: 0.0097 - mae: 0.0265 - val_loss: 0.0137 - val_mae: 0.0331\n",
      "Epoch 38/50\n",
      "\u001B[1m123/123\u001B[0m \u001B[32m━━━━━━━━━━━━━━━━━━━━\u001B[0m\u001B[37m\u001B[0m \u001B[1m0s\u001B[0m 2ms/step - loss: 0.0076 - mae: 0.0232 - val_loss: 0.0128 - val_mae: 0.0330\n",
      "Epoch 39/50\n",
      "\u001B[1m123/123\u001B[0m \u001B[32m━━━━━━━━━━━━━━━━━━━━\u001B[0m\u001B[37m\u001B[0m \u001B[1m0s\u001B[0m 2ms/step - loss: 0.0086 - mae: 0.0255 - val_loss: 0.0130 - val_mae: 0.0296\n",
      "Epoch 40/50\n",
      "\u001B[1m123/123\u001B[0m \u001B[32m━━━━━━━━━━━━━━━━━━━━\u001B[0m\u001B[37m\u001B[0m \u001B[1m0s\u001B[0m 2ms/step - loss: 0.0079 - mae: 0.0221 - val_loss: 0.0127 - val_mae: 0.0306\n",
      "Epoch 41/50\n",
      "\u001B[1m123/123\u001B[0m \u001B[32m━━━━━━━━━━━━━━━━━━━━\u001B[0m\u001B[37m\u001B[0m \u001B[1m0s\u001B[0m 2ms/step - loss: 0.0080 - mae: 0.0235 - val_loss: 0.0142 - val_mae: 0.0337\n",
      "Epoch 42/50\n",
      "\u001B[1m123/123\u001B[0m \u001B[32m━━━━━━━━━━━━━━━━━━━━\u001B[0m\u001B[37m\u001B[0m \u001B[1m0s\u001B[0m 2ms/step - loss: 0.0086 - mae: 0.0237 - val_loss: 0.0125 - val_mae: 0.0310\n",
      "Epoch 43/50\n",
      "\u001B[1m123/123\u001B[0m \u001B[32m━━━━━━━━━━━━━━━━━━━━\u001B[0m\u001B[37m\u001B[0m \u001B[1m0s\u001B[0m 2ms/step - loss: 0.0084 - mae: 0.0231 - val_loss: 0.0134 - val_mae: 0.0311\n",
      "Epoch 44/50\n",
      "\u001B[1m123/123\u001B[0m \u001B[32m━━━━━━━━━━━━━━━━━━━━\u001B[0m\u001B[37m\u001B[0m \u001B[1m0s\u001B[0m 2ms/step - loss: 0.0097 - mae: 0.0249 - val_loss: 0.0124 - val_mae: 0.0299\n",
      "Epoch 45/50\n",
      "\u001B[1m123/123\u001B[0m \u001B[32m━━━━━━━━━━━━━━━━━━━━\u001B[0m\u001B[37m\u001B[0m \u001B[1m0s\u001B[0m 2ms/step - loss: 0.0069 - mae: 0.0209 - val_loss: 0.0138 - val_mae: 0.0316\n",
      "Epoch 46/50\n",
      "\u001B[1m123/123\u001B[0m \u001B[32m━━━━━━━━━━━━━━━━━━━━\u001B[0m\u001B[37m\u001B[0m \u001B[1m0s\u001B[0m 2ms/step - loss: 0.0086 - mae: 0.0226 - val_loss: 0.0143 - val_mae: 0.0322\n",
      "Epoch 47/50\n",
      "\u001B[1m123/123\u001B[0m \u001B[32m━━━━━━━━━━━━━━━━━━━━\u001B[0m\u001B[37m\u001B[0m \u001B[1m0s\u001B[0m 2ms/step - loss: 0.0074 - mae: 0.0208 - val_loss: 0.0135 - val_mae: 0.0310\n",
      "Epoch 48/50\n",
      "\u001B[1m123/123\u001B[0m \u001B[32m━━━━━━━━━━━━━━━━━━━━\u001B[0m\u001B[37m\u001B[0m \u001B[1m0s\u001B[0m 2ms/step - loss: 0.0084 - mae: 0.0232 - val_loss: 0.0135 - val_mae: 0.0297\n",
      "Epoch 49/50\n",
      "\u001B[1m123/123\u001B[0m \u001B[32m━━━━━━━━━━━━━━━━━━━━\u001B[0m\u001B[37m\u001B[0m \u001B[1m0s\u001B[0m 2ms/step - loss: 0.0091 - mae: 0.0223 - val_loss: 0.0134 - val_mae: 0.0290\n",
      "Epoch 50/50\n",
      "\u001B[1m123/123\u001B[0m \u001B[32m━━━━━━━━━━━━━━━━━━━━\u001B[0m\u001B[37m\u001B[0m \u001B[1m0s\u001B[0m 2ms/step - loss: 0.0084 - mae: 0.0214 - val_loss: 0.0139 - val_mae: 0.0289\n"
     ]
    },
    {
     "data": {
      "text/plain": [
       "<keras.src.callbacks.history.History at 0x19a6539b4a0>"
      ]
     },
     "execution_count": 79,
     "metadata": {},
     "output_type": "execute_result"
    }
   ],
   "execution_count": 79
  },
  {
   "metadata": {
    "ExecuteTime": {
     "end_time": "2025-02-06T20:08:17.154941Z",
     "start_time": "2025-02-06T20:08:16.678643Z"
    }
   },
   "cell_type": "code",
   "source": "train_validation(best_model, X_train_split, y_train_split)",
   "id": "8544c3fc746db972",
   "outputs": [
    {
     "name": "stdout",
     "output_type": "stream",
     "text": [
      "\u001B[1m154/154\u001B[0m \u001B[32m━━━━━━━━━━━━━━━━━━━━\u001B[0m\u001B[37m\u001B[0m \u001B[1m0s\u001B[0m 1ms/step  \n",
      "\n",
      "Reporte de Clasificación:\n",
      "                  precision    recall  f1-score   support\n",
      "\n",
      "No Mantenimiento       0.99      1.00      0.99      4429\n",
      "   Mantenimiento       0.98      0.91      0.94       480\n",
      "\n",
      "        accuracy                           0.99      4909\n",
      "       macro avg       0.99      0.95      0.97      4909\n",
      "    weighted avg       0.99      0.99      0.99      4909\n",
      "\n"
     ]
    },
    {
     "data": {
      "text/plain": [
       "<Figure size 600x400 with 2 Axes>"
      ],
      "image/png": "[encoded data removed]"
     },
     "metadata": {},
     "output_type": "display_data"
    }
   ],
   "execution_count": 80
  },
  {
   "metadata": {
    "ExecuteTime": {
     "end_time": "2025-02-06T20:08:17.347055Z",
     "start_time": "2025-02-06T20:08:17.189025Z"
    }
   },
   "cell_type": "code",
   "source": [
    "y_pred = best_model.predict(X_test).flatten()\n",
    "y_test = np.array(y_test).flatten()"
   ],
   "id": "7077cd78734485d5",
   "outputs": [
    {
     "name": "stdout",
     "output_type": "stream",
     "text": [
      "\u001B[1m48/48\u001B[0m \u001B[32m━━━━━━━━━━━━━━━━━━━━\u001B[0m\u001B[37m\u001B[0m \u001B[1m0s\u001B[0m 2ms/step\n"
     ]
    }
   ],
   "execution_count": 81
  },
  {
   "metadata": {
    "ExecuteTime": {
     "end_time": "2025-02-06T20:08:17.381534Z",
     "start_time": "2025-02-06T20:08:17.374253Z"
    }
   },
   "cell_type": "code",
   "source": [
    "r2 = r2_score(y_test, y_pred)\n",
    "print(f'R² Score: {r2:.4f}')"
   ],
   "id": "de1820a78ae38d28",
   "outputs": [
    {
     "name": "stdout",
     "output_type": "stream",
     "text": [
      "R² Score: 0.8108\n"
     ]
    }
   ],
   "execution_count": 82
  },
  {
   "metadata": {},
   "cell_type": "markdown",
   "source": "### Nota: En este caso en específico no se ha realizado `resample` puesto que el modelo ha de aprender a diferenciar las que necesitan o no mantenimiento, y, dado que las de no mantenimiento son totalmente inferiores el modelo ha de adaptarse a esa inferioridad y discrepancia entre clases",
   "id": "aad807d1cb22cc87"
  }
 ],
 "metadata": {
  "kernelspec": {
   "display_name": "Python 3",
   "language": "python",
   "name": "python3"
  },
  "language_info": {
   "codemirror_mode": {
    "name": "ipython",
    "version": 2
   },
   "file_extension": ".py",
   "mimetype": "text/x-python",
   "name": "python",
   "nbconvert_exporter": "python",
   "pygments_lexer": "ipython2",
   "version": "2.7.6"
  }
 },
 "nbformat": 4,
 "nbformat_minor": 5
}

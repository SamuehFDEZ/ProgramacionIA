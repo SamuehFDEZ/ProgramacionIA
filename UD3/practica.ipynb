{
 "cells": [
  {
   "metadata": {},
   "cell_type": "markdown",
   "source": [
    "# Análisis del perfil crediticio de clientes bancarios\n",
    "\n"
   ],
   "id": "1b0107097b042416"
  },
  {
   "metadata": {},
   "cell_type": "markdown",
   "source": "#### Autor: Samuel Arteaga López",
   "id": "27cddcf7fe9dca40"
  },
  {
   "cell_type": "code",
   "id": "initial_id",
   "metadata": {
    "collapsed": true,
    "ExecuteTime": {
     "end_time": "2025-01-08T14:28:35.615619Z",
     "start_time": "2025-01-08T14:28:35.601157Z"
    }
   },
   "source": [
    "import numpy as np\n",
    "import pandas as pd\n",
    "import seaborn as sns\n",
    "import matplotlib.pyplot as plt\n",
    "from sklearn.metrics import mean_absolute_error\n",
    "from sklearn.model_selection import train_test_split\n",
    "from sklearn.tree import DecisionTreeRegressor\n",
    "from sklearn.preprocessing import LabelEncoder, StandardScaler\n",
    "from sklearn.metrics import confusion_matrix\n",
    "from sklearn.metrics import mean_squared_error\n",
    "from sklearn.metrics import r2_score\n",
    "from sklearn.linear_model import LinearRegression\n",
    "from sklearn.ensemble import RandomForestRegressor\n",
    "from sklearn.svm import SVR\n",
    "from sklearn.ensemble import GradientBoostingRegressor\n",
    "from imblearn.over_sampling import SMOTE\n",
    "from sklearn.metrics import classification_report\n",
    "from imblearn.over_sampling import RandomOverSampler, ADASYN\n",
    "from sklearn.utils import resample\n",
    "from sklearn.model_selection import GridSearchCV\n",
    "from sklearn.model_selection import RandomizedSearchCV\n",
    "import optuna\n",
    "from sklearn.model_selection import cross_val_score\n",
    "from sklearn.ensemble import RandomForestClassifier, StackingClassifier\n",
    "from sklearn.ensemble import VotingClassifier\n",
    "from sklearn.linear_model import LogisticRegression\n",
    "from sklearn.svm import SVC\n",
    "from sklearn.tree import DecisionTreeClassifier"
   ],
   "outputs": [],
   "execution_count": 2
  },
  {
   "metadata": {},
   "cell_type": "markdown",
   "source": [
    "## 1. Carga del CSV\n",
    "\n",
    "Aquí cargaremos una vista general del dataframe"
   ],
   "id": "2bfa3b0d8c5e84cd"
  },
  {
   "metadata": {
    "ExecuteTime": {
     "end_time": "2025-01-08T14:28:38.154270Z",
     "start_time": "2025-01-08T14:28:35.745452Z"
    }
   },
   "cell_type": "code",
   "source": [
    "df = pd.read_csv(\"csvs/loan_data.csv\")\n",
    "# usamos print() para ver las 3 tipos de características que el dataset contiene incluido con el .head()\n",
    "print(df.shape)\n",
    "print(df.info())\n",
    "print(df.describe())\n",
    "df.head()"
   ],
   "id": "6caae3fa93ded759",
   "outputs": [
    {
     "name": "stdout",
     "output_type": "stream",
     "text": [
      "(45000, 14)\n",
      "<class 'pandas.core.frame.DataFrame'>\n",
      "RangeIndex: 45000 entries, 0 to 44999\n",
      "Data columns (total 14 columns):\n",
      " #   Column            Non-Null Count  Dtype  \n",
      "---  ------            --------------  -----  \n",
      " 0   age               45000 non-null  float64\n",
      " 1   gender            45000 non-null  object \n",
      " 2   education         45000 non-null  object \n",
      " 3   income            45000 non-null  float64\n",
      " 4   yrs_exp           45000 non-null  int64  \n",
      " 5   ownership         45000 non-null  object \n",
      " 6   amount            45000 non-null  float64\n",
      " 7   purpose           44962 non-null  object \n",
      " 8   int_rate          45000 non-null  float64\n",
      " 9   percent_income    45000 non-null  float64\n",
      " 10  cred_hist_length  45000 non-null  float64\n",
      " 11  risk_score        45000 non-null  int64  \n",
      " 12  previous_loans    45000 non-null  object \n",
      " 13  loan_status       45000 non-null  int64  \n",
      "dtypes: float64(6), int64(3), object(5)\n",
      "memory usage: 4.8+ MB\n",
      "None\n",
      "                age        income       yrs_exp        amount      int_rate  \\\n",
      "count  45000.000000  4.500000e+04  45000.000000  45000.000000  45000.000000   \n",
      "mean      27.764178  8.031905e+04      5.410333   9583.157556     11.006606   \n",
      "std        6.045108  8.042250e+04      6.063532   6314.886691      2.978808   \n",
      "min       20.000000  8.000000e+03      0.000000    500.000000      5.420000   \n",
      "25%       24.000000  4.720400e+04      1.000000   5000.000000      8.590000   \n",
      "50%       26.000000  6.704800e+04      4.000000   8000.000000     11.010000   \n",
      "75%       30.000000  9.578925e+04      8.000000  12237.250000     12.990000   \n",
      "max      144.000000  7.200766e+06    125.000000  35000.000000     20.000000   \n",
      "\n",
      "       percent_income  cred_hist_length    risk_score   loan_status  \n",
      "count    45000.000000      45000.000000  45000.000000  45000.000000  \n",
      "mean         0.139725          5.867489    634.291556      0.222222  \n",
      "std          0.087212          3.879702    366.878869      0.415744  \n",
      "min          0.000000          2.000000   -637.000000      0.000000  \n",
      "25%          0.070000          3.000000    601.000000      0.000000  \n",
      "50%          0.120000          4.000000    640.000000      0.000000  \n",
      "75%          0.190000          8.000000    670.000000      0.000000  \n",
      "max          0.660000         30.000000  77710.000000      1.000000  \n"
     ]
    },
    {
     "data": {
      "text/plain": [
       "    age  gender    education   income  yrs_exp ownership   amount    purpose  \\\n",
       "0  22.0  female       Master  71948.0        0      RENT  35000.0   PERSONAL   \n",
       "1  21.0  female  High School  12282.0        0       OWN   1000.0  EDUCATION   \n",
       "2  25.0  female  High School  12438.0        3  MORTGAGE   5500.0    MEDICAL   \n",
       "3  23.0  female     Bachelor  79753.0        0      RENT  35000.0    MEDICAL   \n",
       "4  24.0    male       Master  66135.0        1      RENT  35000.0    MEDICAL   \n",
       "\n",
       "   int_rate  percent_income  cred_hist_length  risk_score previous_loans  \\\n",
       "0     16.02            0.49               3.0         561             No   \n",
       "1     11.14            0.08               2.0         504            Yes   \n",
       "2     12.87            0.44               3.0         635             No   \n",
       "3     15.23            0.44               2.0         675             No   \n",
       "4     14.27            0.53               4.0         586             No   \n",
       "\n",
       "   loan_status  \n",
       "0            1  \n",
       "1            0  \n",
       "2            1  \n",
       "3            1  \n",
       "4            1  "
      ],
      "text/html": [
       "<div>\n",
       "<style scoped>\n",
       "    .dataframe tbody tr th:only-of-type {\n",
       "        vertical-align: middle;\n",
       "    }\n",
       "\n",
       "    .dataframe tbody tr th {\n",
       "        vertical-align: top;\n",
       "    }\n",
       "\n",
       "    .dataframe thead th {\n",
       "        text-align: right;\n",
       "    }\n",
       "</style>\n",
       "<table border=\"1\" class=\"dataframe\">\n",
       "  <thead>\n",
       "    <tr style=\"text-align: right;\">\n",
       "      <th></th>\n",
       "      <th>age</th>\n",
       "      <th>gender</th>\n",
       "      <th>education</th>\n",
       "      <th>income</th>\n",
       "      <th>yrs_exp</th>\n",
       "      <th>ownership</th>\n",
       "      <th>amount</th>\n",
       "      <th>purpose</th>\n",
       "      <th>int_rate</th>\n",
       "      <th>percent_income</th>\n",
       "      <th>cred_hist_length</th>\n",
       "      <th>risk_score</th>\n",
       "      <th>previous_loans</th>\n",
       "      <th>loan_status</th>\n",
       "    </tr>\n",
       "  </thead>\n",
       "  <tbody>\n",
       "    <tr>\n",
       "      <th>0</th>\n",
       "      <td>22.0</td>\n",
       "      <td>female</td>\n",
       "      <td>Master</td>\n",
       "      <td>71948.0</td>\n",
       "      <td>0</td>\n",
       "      <td>RENT</td>\n",
       "      <td>35000.0</td>\n",
       "      <td>PERSONAL</td>\n",
       "      <td>16.02</td>\n",
       "      <td>0.49</td>\n",
       "      <td>3.0</td>\n",
       "      <td>561</td>\n",
       "      <td>No</td>\n",
       "      <td>1</td>\n",
       "    </tr>\n",
       "    <tr>\n",
       "      <th>1</th>\n",
       "      <td>21.0</td>\n",
       "      <td>female</td>\n",
       "      <td>High School</td>\n",
       "      <td>12282.0</td>\n",
       "      <td>0</td>\n",
       "      <td>OWN</td>\n",
       "      <td>1000.0</td>\n",
       "      <td>EDUCATION</td>\n",
       "      <td>11.14</td>\n",
       "      <td>0.08</td>\n",
       "      <td>2.0</td>\n",
       "      <td>504</td>\n",
       "      <td>Yes</td>\n",
       "      <td>0</td>\n",
       "    </tr>\n",
       "    <tr>\n",
       "      <th>2</th>\n",
       "      <td>25.0</td>\n",
       "      <td>female</td>\n",
       "      <td>High School</td>\n",
       "      <td>12438.0</td>\n",
       "      <td>3</td>\n",
       "      <td>MORTGAGE</td>\n",
       "      <td>5500.0</td>\n",
       "      <td>MEDICAL</td>\n",
       "      <td>12.87</td>\n",
       "      <td>0.44</td>\n",
       "      <td>3.0</td>\n",
       "      <td>635</td>\n",
       "      <td>No</td>\n",
       "      <td>1</td>\n",
       "    </tr>\n",
       "    <tr>\n",
       "      <th>3</th>\n",
       "      <td>23.0</td>\n",
       "      <td>female</td>\n",
       "      <td>Bachelor</td>\n",
       "      <td>79753.0</td>\n",
       "      <td>0</td>\n",
       "      <td>RENT</td>\n",
       "      <td>35000.0</td>\n",
       "      <td>MEDICAL</td>\n",
       "      <td>15.23</td>\n",
       "      <td>0.44</td>\n",
       "      <td>2.0</td>\n",
       "      <td>675</td>\n",
       "      <td>No</td>\n",
       "      <td>1</td>\n",
       "    </tr>\n",
       "    <tr>\n",
       "      <th>4</th>\n",
       "      <td>24.0</td>\n",
       "      <td>male</td>\n",
       "      <td>Master</td>\n",
       "      <td>66135.0</td>\n",
       "      <td>1</td>\n",
       "      <td>RENT</td>\n",
       "      <td>35000.0</td>\n",
       "      <td>MEDICAL</td>\n",
       "      <td>14.27</td>\n",
       "      <td>0.53</td>\n",
       "      <td>4.0</td>\n",
       "      <td>586</td>\n",
       "      <td>No</td>\n",
       "      <td>1</td>\n",
       "    </tr>\n",
       "  </tbody>\n",
       "</table>\n",
       "</div>"
      ]
     },
     "execution_count": 3,
     "metadata": {},
     "output_type": "execute_result"
    }
   ],
   "execution_count": 3
  },
  {
   "metadata": {
    "ExecuteTime": {
     "end_time": "2025-01-08T14:53:12.731297Z",
     "start_time": "2025-01-08T14:53:12.461249Z"
    }
   },
   "cell_type": "code",
   "source": "print(df.describe(include='all'))",
   "id": "a7064c1c9b69ee7b",
   "outputs": [
    {
     "name": "stdout",
     "output_type": "stream",
     "text": [
      "                 age gender education        income       yrs_exp ownership  \\\n",
      "count   45000.000000  45000     45000  4.500000e+04  45000.000000     45000   \n",
      "unique           NaN      3         5           NaN           NaN         5   \n",
      "top              NaN   male  Bachelor           NaN           NaN      RENT   \n",
      "freq             NaN  24841     13399           NaN           NaN     23443   \n",
      "mean       27.764178    NaN       NaN  8.031905e+04      5.410333       NaN   \n",
      "std         6.045108    NaN       NaN  8.042250e+04      6.063532       NaN   \n",
      "min        20.000000    NaN       NaN  8.000000e+03      0.000000       NaN   \n",
      "25%        24.000000    NaN       NaN  4.720400e+04      1.000000       NaN   \n",
      "50%        26.000000    NaN       NaN  6.704800e+04      4.000000       NaN   \n",
      "75%        30.000000    NaN       NaN  9.578925e+04      8.000000       NaN   \n",
      "max       144.000000    NaN       NaN  7.200766e+06    125.000000       NaN   \n",
      "\n",
      "              amount    purpose      int_rate  percent_income  \\\n",
      "count   45000.000000      44962  45000.000000    45000.000000   \n",
      "unique           NaN          6           NaN             NaN   \n",
      "top              NaN  EDUCATION           NaN             NaN   \n",
      "freq             NaN       9145           NaN             NaN   \n",
      "mean     9583.157556        NaN     11.006606        0.139725   \n",
      "std      6314.886691        NaN      2.978808        0.087212   \n",
      "min       500.000000        NaN      5.420000        0.000000   \n",
      "25%      5000.000000        NaN      8.590000        0.070000   \n",
      "50%      8000.000000        NaN     11.010000        0.120000   \n",
      "75%     12237.250000        NaN     12.990000        0.190000   \n",
      "max     35000.000000        NaN     20.000000        0.660000   \n",
      "\n",
      "        cred_hist_length    risk_score previous_loans   loan_status  \n",
      "count       45000.000000  45000.000000          45000  45000.000000  \n",
      "unique               NaN           NaN              2           NaN  \n",
      "top                  NaN           NaN            Yes           NaN  \n",
      "freq                 NaN           NaN          22858           NaN  \n",
      "mean            5.867489    634.291556            NaN      0.222222  \n",
      "std             3.879702    366.878869            NaN      0.415744  \n",
      "min             2.000000   -637.000000            NaN      0.000000  \n",
      "25%             3.000000    601.000000            NaN      0.000000  \n",
      "50%             4.000000    640.000000            NaN      0.000000  \n",
      "75%             8.000000    670.000000            NaN      0.000000  \n",
      "max            30.000000  77710.000000            NaN      1.000000  \n"
     ]
    }
   ],
   "execution_count": 13
  },
  {
   "metadata": {},
   "cell_type": "markdown",
   "source": [
    "#### Conclusiones del primer vistazo al dataframe:\n",
    "- columnas categoricas:\n",
    "    - gender\n",
    "    - education\n",
    "    - ownership purpose"
   ],
   "id": "b7318111e68116ef"
  },
  {
   "metadata": {},
   "cell_type": "markdown",
   "source": "## 2. Estudio de valores faltantes",
   "id": "835fc4d516c0e02c"
  },
  {
   "metadata": {
    "ExecuteTime": {
     "end_time": "2025-01-08T14:31:39.041506Z",
     "start_time": "2025-01-08T14:31:38.903780Z"
    }
   },
   "cell_type": "code",
   "source": [
    "print(df.isnull().sum())\n",
    "print(df.columns)\n",
    "target = 'loan_status'\n",
    "# hay que convertirla a numeros porque es categorical"
   ],
   "id": "c7ab87b3742aa1bb",
   "outputs": [
    {
     "name": "stdout",
     "output_type": "stream",
     "text": [
      "age                  0\n",
      "gender               0\n",
      "education            0\n",
      "income               0\n",
      "yrs_exp              0\n",
      "ownership            0\n",
      "amount               0\n",
      "purpose             38\n",
      "int_rate             0\n",
      "percent_income       0\n",
      "cred_hist_length     0\n",
      "risk_score           0\n",
      "previous_loans       0\n",
      "loan_status          0\n",
      "dtype: int64\n",
      "Index(['age', 'gender', 'education', 'income', 'yrs_exp', 'ownership',\n",
      "       'amount', 'purpose', 'int_rate', 'percent_income', 'cred_hist_length',\n",
      "       'risk_score', 'previous_loans', 'loan_status'],\n",
      "      dtype='object')\n"
     ]
    }
   ],
   "execution_count": 6
  },
  {
   "metadata": {},
   "cell_type": "markdown",
   "source": "##### Dado que `purpose` tiene 38 valores faltantes y es una variable `categorical` hay que transformarla a datos numericos",
   "id": "f1dd2b897557cb87"
  },
  {
   "metadata": {},
   "cell_type": "markdown",
   "source": [
    "## 3. Ingenieria de características\n",
    "\n",
    "Haremos primero la ingenieria porque la característica purpose es categórica, por lo tanto necesitamos transformarla debidamente a numerica"
   ],
   "id": "ad2636b8748fcbc0"
  },
  {
   "metadata": {
    "ExecuteTime": {
     "end_time": "2025-01-08T14:37:31.150935Z",
     "start_time": "2025-01-08T14:37:31.083470Z"
    }
   },
   "cell_type": "code",
   "source": [
    "#df['purpose'].fillna(df['purpose'].mean(), inplace=True)\n",
    "df_con_dummies= pd.get_dummies(df, prefix='purpose', columns=['purpose'])\n",
    "print(df_con_dummies.dtypes)\n",
    "#df_con_dummies.head()\n",
    "\n",
    "# df_con_dummies.info()\n"
   ],
   "id": "f336825ab4e7b653",
   "outputs": [
    {
     "name": "stdout",
     "output_type": "stream",
     "text": [
      "age                          float64\n",
      "gender                        object\n",
      "education                     object\n",
      "income                       float64\n",
      "yrs_exp                        int64\n",
      "ownership                     object\n",
      "amount                       float64\n",
      "int_rate                     float64\n",
      "percent_income               float64\n",
      "cred_hist_length             float64\n",
      "risk_score                     int64\n",
      "previous_loans                object\n",
      "loan_status                    int64\n",
      "purpose_DEBTCONSOLIDATION       bool\n",
      "purpose_EDUCATION               bool\n",
      "purpose_HOMEIMPROVEMENT         bool\n",
      "purpose_MEDICAL                 bool\n",
      "purpose_PERSONAL                bool\n",
      "purpose_VENTURE                 bool\n",
      "dtype: object\n"
     ]
    }
   ],
   "execution_count": 8
  }
 ],
 "metadata": {
  "kernelspec": {
   "display_name": "Python 3",
   "language": "python",
   "name": "python3"
  },
  "language_info": {
   "codemirror_mode": {
    "name": "ipython",
    "version": 2
   },
   "file_extension": ".py",
   "mimetype": "text/x-python",
   "name": "python",
   "nbconvert_exporter": "python",
   "pygments_lexer": "ipython2",
   "version": "2.7.6"
  }
 },
 "nbformat": 4,
 "nbformat_minor": 5
}

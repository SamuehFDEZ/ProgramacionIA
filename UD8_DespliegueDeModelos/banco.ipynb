{
 "cells": [
  {
   "cell_type": "code",
   "id": "initial_id",
   "metadata": {
    "collapsed": true,
    "ExecuteTime": {
     "end_time": "2025-05-16T13:47:34.259216Z",
     "start_time": "2025-05-16T13:47:34.252302Z"
    }
   },
   "source": [
    "import pandas as pd\n",
    "import seaborn as sns\n",
    "import matplotlib.pyplot as plt\n",
    "from sklearn.preprocessing import OneHotEncoder\n",
    "from sklearn.model_selection import train_test_split\n",
    "from sklearn.metrics import mean_absolute_error\n",
    "from sklearn.metrics import confusion_matrix\n",
    "from sklearn.ensemble import RandomForestClassifier\n",
    "from sklearn.metrics import classification_report\n",
    "import optuna\n",
    "import joblib\n",
    "from sklearn.preprocessing import StandardScaler"
   ],
   "outputs": [],
   "execution_count": 2
  },
  {
   "metadata": {
    "ExecuteTime": {
     "end_time": "2025-05-16T13:47:37.351557Z",
     "start_time": "2025-05-16T13:47:37.121658Z"
    }
   },
   "cell_type": "code",
   "source": [
    "df = pd.read_csv(\"../UD3_MachineLearning/csvs/loan_data.csv\")\n",
    "objetivo1 = 'loan_status'\n",
    "df.head()"
   ],
   "id": "aef15eb968aa1585",
   "outputs": [
    {
     "data": {
      "text/plain": [
       "    age  gender    education   income  yrs_exp ownership   amount    purpose  \\\n",
       "0  22.0  female       Master  71948.0        0      RENT  35000.0   PERSONAL   \n",
       "1  21.0  female  High School  12282.0        0       OWN   1000.0  EDUCATION   \n",
       "2  25.0  female  High School  12438.0        3  MORTGAGE   5500.0    MEDICAL   \n",
       "3  23.0  female     Bachelor  79753.0        0      RENT  35000.0    MEDICAL   \n",
       "4  24.0    male       Master  66135.0        1      RENT  35000.0    MEDICAL   \n",
       "\n",
       "   int_rate  percent_income  cred_hist_length  risk_score previous_loans  \\\n",
       "0     16.02            0.49               3.0         561             No   \n",
       "1     11.14            0.08               2.0         504            Yes   \n",
       "2     12.87            0.44               3.0         635             No   \n",
       "3     15.23            0.44               2.0         675             No   \n",
       "4     14.27            0.53               4.0         586             No   \n",
       "\n",
       "   loan_status  \n",
       "0            1  \n",
       "1            0  \n",
       "2            1  \n",
       "3            1  \n",
       "4            1  "
      ],
      "text/html": [
       "<div>\n",
       "<style scoped>\n",
       "    .dataframe tbody tr th:only-of-type {\n",
       "        vertical-align: middle;\n",
       "    }\n",
       "\n",
       "    .dataframe tbody tr th {\n",
       "        vertical-align: top;\n",
       "    }\n",
       "\n",
       "    .dataframe thead th {\n",
       "        text-align: right;\n",
       "    }\n",
       "</style>\n",
       "<table border=\"1\" class=\"dataframe\">\n",
       "  <thead>\n",
       "    <tr style=\"text-align: right;\">\n",
       "      <th></th>\n",
       "      <th>age</th>\n",
       "      <th>gender</th>\n",
       "      <th>education</th>\n",
       "      <th>income</th>\n",
       "      <th>yrs_exp</th>\n",
       "      <th>ownership</th>\n",
       "      <th>amount</th>\n",
       "      <th>purpose</th>\n",
       "      <th>int_rate</th>\n",
       "      <th>percent_income</th>\n",
       "      <th>cred_hist_length</th>\n",
       "      <th>risk_score</th>\n",
       "      <th>previous_loans</th>\n",
       "      <th>loan_status</th>\n",
       "    </tr>\n",
       "  </thead>\n",
       "  <tbody>\n",
       "    <tr>\n",
       "      <th>0</th>\n",
       "      <td>22.0</td>\n",
       "      <td>female</td>\n",
       "      <td>Master</td>\n",
       "      <td>71948.0</td>\n",
       "      <td>0</td>\n",
       "      <td>RENT</td>\n",
       "      <td>35000.0</td>\n",
       "      <td>PERSONAL</td>\n",
       "      <td>16.02</td>\n",
       "      <td>0.49</td>\n",
       "      <td>3.0</td>\n",
       "      <td>561</td>\n",
       "      <td>No</td>\n",
       "      <td>1</td>\n",
       "    </tr>\n",
       "    <tr>\n",
       "      <th>1</th>\n",
       "      <td>21.0</td>\n",
       "      <td>female</td>\n",
       "      <td>High School</td>\n",
       "      <td>12282.0</td>\n",
       "      <td>0</td>\n",
       "      <td>OWN</td>\n",
       "      <td>1000.0</td>\n",
       "      <td>EDUCATION</td>\n",
       "      <td>11.14</td>\n",
       "      <td>0.08</td>\n",
       "      <td>2.0</td>\n",
       "      <td>504</td>\n",
       "      <td>Yes</td>\n",
       "      <td>0</td>\n",
       "    </tr>\n",
       "    <tr>\n",
       "      <th>2</th>\n",
       "      <td>25.0</td>\n",
       "      <td>female</td>\n",
       "      <td>High School</td>\n",
       "      <td>12438.0</td>\n",
       "      <td>3</td>\n",
       "      <td>MORTGAGE</td>\n",
       "      <td>5500.0</td>\n",
       "      <td>MEDICAL</td>\n",
       "      <td>12.87</td>\n",
       "      <td>0.44</td>\n",
       "      <td>3.0</td>\n",
       "      <td>635</td>\n",
       "      <td>No</td>\n",
       "      <td>1</td>\n",
       "    </tr>\n",
       "    <tr>\n",
       "      <th>3</th>\n",
       "      <td>23.0</td>\n",
       "      <td>female</td>\n",
       "      <td>Bachelor</td>\n",
       "      <td>79753.0</td>\n",
       "      <td>0</td>\n",
       "      <td>RENT</td>\n",
       "      <td>35000.0</td>\n",
       "      <td>MEDICAL</td>\n",
       "      <td>15.23</td>\n",
       "      <td>0.44</td>\n",
       "      <td>2.0</td>\n",
       "      <td>675</td>\n",
       "      <td>No</td>\n",
       "      <td>1</td>\n",
       "    </tr>\n",
       "    <tr>\n",
       "      <th>4</th>\n",
       "      <td>24.0</td>\n",
       "      <td>male</td>\n",
       "      <td>Master</td>\n",
       "      <td>66135.0</td>\n",
       "      <td>1</td>\n",
       "      <td>RENT</td>\n",
       "      <td>35000.0</td>\n",
       "      <td>MEDICAL</td>\n",
       "      <td>14.27</td>\n",
       "      <td>0.53</td>\n",
       "      <td>4.0</td>\n",
       "      <td>586</td>\n",
       "      <td>No</td>\n",
       "      <td>1</td>\n",
       "    </tr>\n",
       "  </tbody>\n",
       "</table>\n",
       "</div>"
      ]
     },
     "execution_count": 3,
     "metadata": {},
     "output_type": "execute_result"
    }
   ],
   "execution_count": 3
  },
  {
   "metadata": {
    "ExecuteTime": {
     "end_time": "2025-05-16T13:47:44.220643Z",
     "start_time": "2025-05-16T13:47:44.177373Z"
    }
   },
   "cell_type": "code",
   "source": [
    "df.dropna(inplace=True)\n",
    "print(df.shape)"
   ],
   "id": "725b85dbb89d54be",
   "outputs": [
    {
     "name": "stdout",
     "output_type": "stream",
     "text": [
      "(44962, 14)\n"
     ]
    }
   ],
   "execution_count": 4
  },
  {
   "metadata": {
    "ExecuteTime": {
     "end_time": "2025-05-16T13:47:46.759287Z",
     "start_time": "2025-05-16T13:47:46.727270Z"
    }
   },
   "cell_type": "code",
   "source": [
    "print(df['gender'].value_counts())\n",
    "df['gender'] = df['gender'].replace(\"femal\", \"female\")\n",
    "print(df['gender'].value_counts())"
   ],
   "id": "4c139259db90911a",
   "outputs": [
    {
     "name": "stdout",
     "output_type": "stream",
     "text": [
      "gender\n",
      "male      24825\n",
      "female    20136\n",
      "femal         1\n",
      "Name: count, dtype: int64\n",
      "gender\n",
      "male      24825\n",
      "female    20137\n",
      "Name: count, dtype: int64\n"
     ]
    }
   ],
   "execution_count": 5
  },
  {
   "metadata": {
    "ExecuteTime": {
     "end_time": "2025-05-16T13:47:48.768520Z",
     "start_time": "2025-05-16T13:47:48.704671Z"
    }
   },
   "cell_type": "code",
   "source": [
    "# Creamos una columna indicando si hay espacios en blanco\n",
    "df['espaciosEnBlanco'] = df['ownership'].str.contains(r'\\s')\n",
    "df['ownership'] = df['ownership'].str.strip()\n",
    "df['ownership'].value_counts()\n",
    "df = df.drop('espaciosEnBlanco', axis=1)\n"
   ],
   "id": "689fb043c1a5ed65",
   "outputs": [],
   "execution_count": 6
  },
  {
   "metadata": {
    "ExecuteTime": {
     "end_time": "2025-05-16T13:47:53.660947Z",
     "start_time": "2025-05-16T13:47:53.620981Z"
    }
   },
   "cell_type": "code",
   "source": [
    "# filtramos la columna age para quedarnos con edades por debajo de 100\n",
    "df['age'] = df['age'].where(df['age'] < 100 )\n",
    "df['age'].value_counts()\n",
    "print(df['age'].isnull().sum())\n",
    "df.dropna(inplace=True)\n",
    "print(df.shape)\n",
    "print(df['age'].isnull().sum())"
   ],
   "id": "95826971e873dfe4",
   "outputs": [
    {
     "name": "stdout",
     "output_type": "stream",
     "text": [
      "7\n",
      "(44955, 14)\n",
      "0\n"
     ]
    }
   ],
   "execution_count": 7
  },
  {
   "metadata": {
    "ExecuteTime": {
     "end_time": "2025-05-16T13:47:58.196908Z",
     "start_time": "2025-05-16T13:47:58.118468Z"
    }
   },
   "cell_type": "code",
   "source": [
    "df['yrs_exp'] = df['yrs_exp'].where(df['yrs_exp'] < 100 )\n",
    "df['yrs_exp'].value_counts()\n",
    "print(df['yrs_exp'].isnull().sum())\n",
    "df.dropna(inplace=True)\n",
    "print(df.shape)\n",
    "print(df['yrs_exp'].isnull().sum())\n",
    "df.head()"
   ],
   "id": "f25ac217a17b208d",
   "outputs": [
    {
     "name": "stdout",
     "output_type": "stream",
     "text": [
      "0\n",
      "(44955, 14)\n",
      "0\n"
     ]
    },
    {
     "data": {
      "text/plain": [
       "    age  gender    education   income  yrs_exp ownership   amount    purpose  \\\n",
       "0  22.0  female       Master  71948.0        0      RENT  35000.0   PERSONAL   \n",
       "1  21.0  female  High School  12282.0        0       OWN   1000.0  EDUCATION   \n",
       "2  25.0  female  High School  12438.0        3  MORTGAGE   5500.0    MEDICAL   \n",
       "3  23.0  female     Bachelor  79753.0        0      RENT  35000.0    MEDICAL   \n",
       "4  24.0    male       Master  66135.0        1      RENT  35000.0    MEDICAL   \n",
       "\n",
       "   int_rate  percent_income  cred_hist_length  risk_score previous_loans  \\\n",
       "0     16.02            0.49               3.0         561             No   \n",
       "1     11.14            0.08               2.0         504            Yes   \n",
       "2     12.87            0.44               3.0         635             No   \n",
       "3     15.23            0.44               2.0         675             No   \n",
       "4     14.27            0.53               4.0         586             No   \n",
       "\n",
       "   loan_status  \n",
       "0            1  \n",
       "1            0  \n",
       "2            1  \n",
       "3            1  \n",
       "4            1  "
      ],
      "text/html": [
       "<div>\n",
       "<style scoped>\n",
       "    .dataframe tbody tr th:only-of-type {\n",
       "        vertical-align: middle;\n",
       "    }\n",
       "\n",
       "    .dataframe tbody tr th {\n",
       "        vertical-align: top;\n",
       "    }\n",
       "\n",
       "    .dataframe thead th {\n",
       "        text-align: right;\n",
       "    }\n",
       "</style>\n",
       "<table border=\"1\" class=\"dataframe\">\n",
       "  <thead>\n",
       "    <tr style=\"text-align: right;\">\n",
       "      <th></th>\n",
       "      <th>age</th>\n",
       "      <th>gender</th>\n",
       "      <th>education</th>\n",
       "      <th>income</th>\n",
       "      <th>yrs_exp</th>\n",
       "      <th>ownership</th>\n",
       "      <th>amount</th>\n",
       "      <th>purpose</th>\n",
       "      <th>int_rate</th>\n",
       "      <th>percent_income</th>\n",
       "      <th>cred_hist_length</th>\n",
       "      <th>risk_score</th>\n",
       "      <th>previous_loans</th>\n",
       "      <th>loan_status</th>\n",
       "    </tr>\n",
       "  </thead>\n",
       "  <tbody>\n",
       "    <tr>\n",
       "      <th>0</th>\n",
       "      <td>22.0</td>\n",
       "      <td>female</td>\n",
       "      <td>Master</td>\n",
       "      <td>71948.0</td>\n",
       "      <td>0</td>\n",
       "      <td>RENT</td>\n",
       "      <td>35000.0</td>\n",
       "      <td>PERSONAL</td>\n",
       "      <td>16.02</td>\n",
       "      <td>0.49</td>\n",
       "      <td>3.0</td>\n",
       "      <td>561</td>\n",
       "      <td>No</td>\n",
       "      <td>1</td>\n",
       "    </tr>\n",
       "    <tr>\n",
       "      <th>1</th>\n",
       "      <td>21.0</td>\n",
       "      <td>female</td>\n",
       "      <td>High School</td>\n",
       "      <td>12282.0</td>\n",
       "      <td>0</td>\n",
       "      <td>OWN</td>\n",
       "      <td>1000.0</td>\n",
       "      <td>EDUCATION</td>\n",
       "      <td>11.14</td>\n",
       "      <td>0.08</td>\n",
       "      <td>2.0</td>\n",
       "      <td>504</td>\n",
       "      <td>Yes</td>\n",
       "      <td>0</td>\n",
       "    </tr>\n",
       "    <tr>\n",
       "      <th>2</th>\n",
       "      <td>25.0</td>\n",
       "      <td>female</td>\n",
       "      <td>High School</td>\n",
       "      <td>12438.0</td>\n",
       "      <td>3</td>\n",
       "      <td>MORTGAGE</td>\n",
       "      <td>5500.0</td>\n",
       "      <td>MEDICAL</td>\n",
       "      <td>12.87</td>\n",
       "      <td>0.44</td>\n",
       "      <td>3.0</td>\n",
       "      <td>635</td>\n",
       "      <td>No</td>\n",
       "      <td>1</td>\n",
       "    </tr>\n",
       "    <tr>\n",
       "      <th>3</th>\n",
       "      <td>23.0</td>\n",
       "      <td>female</td>\n",
       "      <td>Bachelor</td>\n",
       "      <td>79753.0</td>\n",
       "      <td>0</td>\n",
       "      <td>RENT</td>\n",
       "      <td>35000.0</td>\n",
       "      <td>MEDICAL</td>\n",
       "      <td>15.23</td>\n",
       "      <td>0.44</td>\n",
       "      <td>2.0</td>\n",
       "      <td>675</td>\n",
       "      <td>No</td>\n",
       "      <td>1</td>\n",
       "    </tr>\n",
       "    <tr>\n",
       "      <th>4</th>\n",
       "      <td>24.0</td>\n",
       "      <td>male</td>\n",
       "      <td>Master</td>\n",
       "      <td>66135.0</td>\n",
       "      <td>1</td>\n",
       "      <td>RENT</td>\n",
       "      <td>35000.0</td>\n",
       "      <td>MEDICAL</td>\n",
       "      <td>14.27</td>\n",
       "      <td>0.53</td>\n",
       "      <td>4.0</td>\n",
       "      <td>586</td>\n",
       "      <td>No</td>\n",
       "      <td>1</td>\n",
       "    </tr>\n",
       "  </tbody>\n",
       "</table>\n",
       "</div>"
      ]
     },
     "execution_count": 8,
     "metadata": {},
     "output_type": "execute_result"
    }
   ],
   "execution_count": 8
  },
  {
   "metadata": {
    "ExecuteTime": {
     "end_time": "2025-05-16T13:48:06.124176Z",
     "start_time": "2025-05-16T13:48:05.997780Z"
    }
   },
   "cell_type": "code",
   "source": [
    "df['gender'] = df['gender'].replace(['female', 'male'], [0, 1])\n",
    "df['previous_loans'] = df['previous_loans'].replace(['Yes', 'No'], [0, 1])\n",
    "\n",
    "# Instanciar OneHotEncoder\n",
    "encoder = OneHotEncoder(sparse_output=False)  # Crea un array en vez de una matriz\n",
    "\n",
    "# Aplicar el encoder a las columnas categóricas\n",
    "categoricas = ['education', 'ownership', 'purpose']\n",
    "valores = encoder.fit_transform(df[categoricas])\n",
    "\n",
    "# Crear un DataFrame con los valores codificados\n",
    "columnas_codificadas = encoder.get_feature_names_out(categoricas)\n",
    "df_codificado = pd.DataFrame(valores, columns=columnas_codificadas, index=df.index)\n",
    "\n",
    "# Concatenar el DataFrame original con las columnas codificadas\n",
    "df = pd.concat([df.drop(columns=categoricas, axis=1), df_codificado], axis=1)\n",
    "\n",
    "# Mostrar el DataFrame final\n",
    "print(df.isnull().sum())"
   ],
   "id": "54b4845b5110cfcc",
   "outputs": [
    {
     "name": "stdout",
     "output_type": "stream",
     "text": [
      "age                          0\n",
      "gender                       0\n",
      "income                       0\n",
      "yrs_exp                      0\n",
      "amount                       0\n",
      "int_rate                     0\n",
      "percent_income               0\n",
      "cred_hist_length             0\n",
      "risk_score                   0\n",
      "previous_loans               0\n",
      "loan_status                  0\n",
      "education_Associate          0\n",
      "education_Bachelor           0\n",
      "education_Doctorate          0\n",
      "education_High School        0\n",
      "education_Master             0\n",
      "ownership_MORTGAGE           0\n",
      "ownership_OTHER              0\n",
      "ownership_OWN                0\n",
      "ownership_RENT               0\n",
      "purpose_DEBTCONSOLIDATION    0\n",
      "purpose_EDUCATION            0\n",
      "purpose_HOMEIMPROVEMENT      0\n",
      "purpose_MEDICAL              0\n",
      "purpose_PERSONAL             0\n",
      "purpose_VENTURE              0\n",
      "dtype: int64\n"
     ]
    },
    {
     "name": "stderr",
     "output_type": "stream",
     "text": [
      "C:\\Users\\ESP\\AppData\\Local\\Temp\\ipykernel_12304\\3030420232.py:1: FutureWarning: Downcasting behavior in `replace` is deprecated and will be removed in a future version. To retain the old behavior, explicitly call `result.infer_objects(copy=False)`. To opt-in to the future behavior, set `pd.set_option('future.no_silent_downcasting', True)`\n",
      "  df['gender'] = df['gender'].replace(['female', 'male'], [0, 1])\n",
      "C:\\Users\\ESP\\AppData\\Local\\Temp\\ipykernel_12304\\3030420232.py:2: FutureWarning: Downcasting behavior in `replace` is deprecated and will be removed in a future version. To retain the old behavior, explicitly call `result.infer_objects(copy=False)`. To opt-in to the future behavior, set `pd.set_option('future.no_silent_downcasting', True)`\n",
      "  df['previous_loans'] = df['previous_loans'].replace(['Yes', 'No'], [0, 1])\n"
     ]
    }
   ],
   "execution_count": 9
  },
  {
   "metadata": {
    "ExecuteTime": {
     "end_time": "2025-05-16T13:48:28.486853Z",
     "start_time": "2025-05-16T13:48:26.110255Z"
    }
   },
   "cell_type": "code",
   "source": [
    "datos1 = df[[\"income\", \"amount\", \"int_rate\", \"percent_income\", \"previous_loans\", \"ownership_MORTGAGE\", \"ownership_RENT\"]]\n",
    "\n",
    "y = df[\"loan_status\"]                 # Variable objetivo\n",
    "\n",
    "scaler = StandardScaler()\n",
    "X = scaler.fit_transform(datos1)\n",
    "joblib.dump(scaler, 'scaler.pkl')\n",
    "print(\"Scaler saved successfully!\")\n",
    "\n",
    "# Dividimos los datos en un 80% para entrenamiento y un 20% para evaluación (validación + test)\n",
    "X_train, X_temp, y_train, y_temp = train_test_split(X, y, test_size=0.2, random_state=42)\n",
    "\n",
    "# De los datos temporales (X_temp, y_temp), dividimos en validación (10%) y test (10%)\n",
    "X_val, X_test, y_val, y_test = train_test_split(X_temp, y_temp, test_size=0.5, random_state=42)\n",
    "\n",
    "# Entrenar el modelo\n",
    "rfc = RandomForestClassifier(random_state=42, max_depth=7, min_samples_split=10)\n",
    "rfc.fit(X_train, y_train)  # Usar X_train y y_train\n",
    "\n",
    "# Predecir sobre el conjunto de validación\n",
    "predicciones = rfc.predict(X_val)  # Usar X_val para predicciones\n",
    "\n",
    "# Calcular el error\n",
    "error_val = mean_absolute_error(y_val, predicciones)  # Comparar con y_val\n",
    "print(f'Métrica para datos de validación: {error_val}')"
   ],
   "id": "d82bf02ab79198fb",
   "outputs": [
    {
     "name": "stdout",
     "output_type": "stream",
     "text": [
      "Scaler saved successfully!\n",
      "Métrica para datos de validación: 0.08409343715239155\n"
     ]
    }
   ],
   "execution_count": 10
  },
  {
   "metadata": {
    "ExecuteTime": {
     "end_time": "2025-05-14T16:52:00.769746Z",
     "start_time": "2025-05-14T16:52:00.614066Z"
    }
   },
   "cell_type": "code",
   "source": [
    "y_pred = rfc.predict(X_test)\n",
    "cm = confusion_matrix(y_test, y_pred)\n",
    "sns.heatmap(cm, annot=True, fmt=\"d\", cmap=\"Blues\", xticklabels=[\"Rechazada\", \"Aprobada\"], yticklabels=[\"Rechazada\", \"Aprobada\"])\n",
    "plt.xlabel(\"Predicción\")\n",
    "plt.ylabel(\"Realidad\")\n",
    "plt.title(\"Matriz de confusión para predecir si se presta o no\")\n",
    "plt.show()"
   ],
   "id": "7aff3fe7a838528b",
   "outputs": [
    {
     "data": {
      "text/plain": [
       "<Figure size 640x480 with 2 Axes>"
      ],
      "image/png": "[encoded data removed]"
     },
     "metadata": {},
     "output_type": "display_data"
    }
   ],
   "execution_count": 41
  },
  {
   "metadata": {
    "ExecuteTime": {
     "end_time": "2025-05-16T13:49:40.567111Z",
     "start_time": "2025-05-16T13:49:40.528794Z"
    }
   },
   "cell_type": "code",
   "source": [
    "from sklearn.utils import resample\n",
    "df_major = df[df['loan_status'] == 0]\n",
    "df_minor = df[df['loan_status'] == 1]\n",
    "\n",
    "df_minor_oversampled = resample(df_minor, replace=True, n_samples=len(df_major), random_state=42)\n",
    "df = pd.concat([df_major, df_minor_oversampled])"
   ],
   "id": "a86b6f19d55176e0",
   "outputs": [],
   "execution_count": 12
  },
  {
   "metadata": {
    "ExecuteTime": {
     "end_time": "2025-05-14T16:56:00.071914Z",
     "start_time": "2025-05-14T16:52:00.919762Z"
    }
   },
   "cell_type": "code",
   "source": [
    "# Definir la función objetivo\n",
    "def objective(trial):\n",
    "    n_estimators = trial.suggest_int('n_estimators', 50, 300)\n",
    "    max_depth = trial.suggest_int('max_depth', 3, 15)\n",
    "    min_samples_split = trial.suggest_int('min_samples_split', 2, 10)\n",
    "\n",
    "    # Crear el modelo RandomForestClassifier con los hiperparámetros sugeridos\n",
    "    model = RandomForestClassifier(n_estimators=n_estimators,\n",
    "                                   max_depth=max_depth,\n",
    "                                   min_samples_split=min_samples_split,\n",
    "                                   random_state=42)\n",
    "\n",
    "    # Validación cruzada con los datos de entrenamiento (X_train, y_train)\n",
    "    model.fit(X_train, y_train)\n",
    "    predicciones = model.predict(X_val)  # Predicciones en el conjunto de validación\n",
    "\n",
    "    # Calcular el error en los datos de validación\n",
    "    error_val = mean_absolute_error(y_val, predicciones)\n",
    "    return error_val\n",
    "\n",
    "# Crear el estudio de Optuna y optimizar\n",
    "study = optuna.create_study(direction='minimize')  # Minimizar el error (porque queremos que sea bajo)\n",
    "study.optimize(objective, n_trials=50)\n",
    "\n",
    "# Mostrar los mejores hiperparámetros encontrados\n",
    "print(\"Mejores hiperparámetros:\", study.best_params)"
   ],
   "id": "5545c39fd416737e",
   "outputs": [
    {
     "name": "stderr",
     "output_type": "stream",
     "text": [
      "[I 2025-05-14 18:52:00,922] A new study created in memory with name: no-name-27ec8785-0014-4336-a513-e1ec4917e4ae\n",
      "[I 2025-05-14 18:52:07,931] Trial 0 finished with value: 0.07853170189098999 and parameters: {'n_estimators': 276, 'max_depth': 15, 'min_samples_split': 3}. Best is trial 0 with value: 0.07853170189098999.\n",
      "[I 2025-05-14 18:52:13,131] Trial 1 finished with value: 0.08186874304783093 and parameters: {'n_estimators': 221, 'max_depth': 11, 'min_samples_split': 4}. Best is trial 0 with value: 0.07853170189098999.\n",
      "[I 2025-05-14 18:52:16,833] Trial 2 finished with value: 0.08409343715239155 and parameters: {'n_estimators': 284, 'max_depth': 5, 'min_samples_split': 9}. Best is trial 0 with value: 0.07853170189098999.\n",
      "[I 2025-05-14 18:52:19,749] Trial 3 finished with value: 0.08075639599555061 and parameters: {'n_estimators': 124, 'max_depth': 14, 'min_samples_split': 10}. Best is trial 0 with value: 0.07853170189098999.\n",
      "[I 2025-05-14 18:52:21,215] Trial 4 finished with value: 0.08364849833147942 and parameters: {'n_estimators': 87, 'max_depth': 8, 'min_samples_split': 5}. Best is trial 0 with value: 0.07853170189098999.\n",
      "[I 2025-05-14 18:52:27,284] Trial 5 finished with value: 0.07808676307007786 and parameters: {'n_estimators': 264, 'max_depth': 14, 'min_samples_split': 3}. Best is trial 5 with value: 0.07808676307007786.\n",
      "[I 2025-05-14 18:52:28,550] Trial 6 finished with value: 0.08298109010011123 and parameters: {'n_estimators': 76, 'max_depth': 6, 'min_samples_split': 9}. Best is trial 5 with value: 0.07808676307007786.\n",
      "[I 2025-05-14 18:52:30,252] Trial 7 finished with value: 0.07919911012235818 and parameters: {'n_estimators': 63, 'max_depth': 13, 'min_samples_split': 8}. Best is trial 5 with value: 0.07808676307007786.\n",
      "[I 2025-05-14 18:52:36,399] Trial 8 finished with value: 0.08031145717463849 and parameters: {'n_estimators': 258, 'max_depth': 12, 'min_samples_split': 2}. Best is trial 5 with value: 0.07808676307007786.\n",
      "[I 2025-05-14 18:52:42,450] Trial 9 finished with value: 0.08075639599555061 and parameters: {'n_estimators': 261, 'max_depth': 12, 'min_samples_split': 8}. Best is trial 5 with value: 0.07808676307007786.\n",
      "[I 2025-05-14 18:52:44,248] Trial 10 finished with value: 0.10433815350389321 and parameters: {'n_estimators': 180, 'max_depth': 3, 'min_samples_split': 6}. Best is trial 5 with value: 0.07808676307007786.\n",
      "[I 2025-05-14 18:52:49,975] Trial 11 finished with value: 0.07808676307007786 and parameters: {'n_estimators': 219, 'max_depth': 15, 'min_samples_split': 2}. Best is trial 5 with value: 0.07808676307007786.\n",
      "[I 2025-05-14 18:52:55,502] Trial 12 finished with value: 0.07764182424916574 and parameters: {'n_estimators': 209, 'max_depth': 15, 'min_samples_split': 2}. Best is trial 12 with value: 0.07764182424916574.\n",
      "[I 2025-05-14 18:52:59,717] Trial 13 finished with value: 0.08209121245828699 and parameters: {'n_estimators': 206, 'max_depth': 10, 'min_samples_split': 4}. Best is trial 12 with value: 0.07764182424916574.\n",
      "[I 2025-05-14 18:53:02,384] Trial 14 finished with value: 0.08275862068965517 and parameters: {'n_estimators': 144, 'max_depth': 9, 'min_samples_split': 6}. Best is trial 12 with value: 0.07764182424916574.\n",
      "[I 2025-05-14 18:53:08,834] Trial 15 finished with value: 0.0796440489432703 and parameters: {'n_estimators': 299, 'max_depth': 13, 'min_samples_split': 3}. Best is trial 12 with value: 0.07764182424916574.\n",
      "[I 2025-05-14 18:53:14,571] Trial 16 finished with value: 0.0778642936596218 and parameters: {'n_estimators': 238, 'max_depth': 15, 'min_samples_split': 2}. Best is trial 12 with value: 0.07764182424916574.\n",
      "[I 2025-05-14 18:53:18,952] Trial 17 finished with value: 0.0778642936596218 and parameters: {'n_estimators': 191, 'max_depth': 15, 'min_samples_split': 2}. Best is trial 12 with value: 0.07764182424916574.\n",
      "[I 2025-05-14 18:53:23,403] Trial 18 finished with value: 0.08253615127919911 and parameters: {'n_estimators': 236, 'max_depth': 8, 'min_samples_split': 4}. Best is trial 12 with value: 0.07764182424916574.\n",
      "[I 2025-05-14 18:53:26,849] Trial 19 finished with value: 0.08097886540600667 and parameters: {'n_estimators': 163, 'max_depth': 11, 'min_samples_split': 5}. Best is trial 12 with value: 0.07764182424916574.\n",
      "[I 2025-05-14 18:53:32,838] Trial 20 finished with value: 0.08075639599555061 and parameters: {'n_estimators': 244, 'max_depth': 13, 'min_samples_split': 7}. Best is trial 12 with value: 0.07764182424916574.\n",
      "[I 2025-05-14 18:53:37,388] Trial 21 finished with value: 0.07808676307007786 and parameters: {'n_estimators': 195, 'max_depth': 15, 'min_samples_split': 2}. Best is trial 12 with value: 0.07764182424916574.\n",
      "[I 2025-05-14 18:53:41,705] Trial 22 finished with value: 0.07853170189098999 and parameters: {'n_estimators': 190, 'max_depth': 14, 'min_samples_split': 2}. Best is trial 12 with value: 0.07764182424916574.\n",
      "[I 2025-05-14 18:53:45,522] Trial 23 finished with value: 0.07942157953281424 and parameters: {'n_estimators': 164, 'max_depth': 15, 'min_samples_split': 3}. Best is trial 12 with value: 0.07764182424916574.\n",
      "[I 2025-05-14 18:53:48,362] Trial 24 finished with value: 0.0814238042269188 and parameters: {'n_estimators': 128, 'max_depth': 12, 'min_samples_split': 2}. Best is trial 12 with value: 0.07764182424916574.\n",
      "[I 2025-05-14 18:53:53,928] Trial 25 finished with value: 0.07830923248053392 and parameters: {'n_estimators': 233, 'max_depth': 14, 'min_samples_split': 3}. Best is trial 12 with value: 0.07764182424916574.\n",
      "[I 2025-05-14 18:53:59,761] Trial 26 finished with value: 0.08031145717463849 and parameters: {'n_estimators': 217, 'max_depth': 13, 'min_samples_split': 4}. Best is trial 12 with value: 0.07764182424916574.\n",
      "[I 2025-05-14 18:54:04,976] Trial 27 finished with value: 0.07808676307007786 and parameters: {'n_estimators': 201, 'max_depth': 15, 'min_samples_split': 5}. Best is trial 12 with value: 0.07764182424916574.\n",
      "[I 2025-05-14 18:54:08,673] Trial 28 finished with value: 0.08164627363737487 and parameters: {'n_estimators': 171, 'max_depth': 11, 'min_samples_split': 2}. Best is trial 12 with value: 0.07764182424916574.\n",
      "[I 2025-05-14 18:54:13,257] Trial 29 finished with value: 0.07942157953281424 and parameters: {'n_estimators': 149, 'max_depth': 15, 'min_samples_split': 3}. Best is trial 12 with value: 0.07764182424916574.\n",
      "[I 2025-05-14 18:54:18,774] Trial 30 finished with value: 0.07853170189098999 and parameters: {'n_estimators': 239, 'max_depth': 14, 'min_samples_split': 4}. Best is trial 12 with value: 0.07764182424916574.\n",
      "[I 2025-05-14 18:54:25,190] Trial 31 finished with value: 0.07764182424916574 and parameters: {'n_estimators': 261, 'max_depth': 14, 'min_samples_split': 3}. Best is trial 12 with value: 0.07764182424916574.\n",
      "[I 2025-05-14 18:54:31,773] Trial 32 finished with value: 0.07942157953281424 and parameters: {'n_estimators': 284, 'max_depth': 14, 'min_samples_split': 2}. Best is trial 12 with value: 0.07764182424916574.\n",
      "[I 2025-05-14 18:54:36,642] Trial 33 finished with value: 0.07830923248053392 and parameters: {'n_estimators': 212, 'max_depth': 15, 'min_samples_split': 3}. Best is trial 12 with value: 0.07764182424916574.\n",
      "[I 2025-05-14 18:54:41,992] Trial 34 finished with value: 0.08053392658509455 and parameters: {'n_estimators': 250, 'max_depth': 13, 'min_samples_split': 2}. Best is trial 12 with value: 0.07764182424916574.\n",
      "[I 2025-05-14 18:54:48,292] Trial 35 finished with value: 0.07808676307007786 and parameters: {'n_estimators': 279, 'max_depth': 14, 'min_samples_split': 3}. Best is trial 12 with value: 0.07764182424916574.\n",
      "[I 2025-05-14 18:54:51,491] Trial 36 finished with value: 0.08342602892102335 and parameters: {'n_estimators': 226, 'max_depth': 6, 'min_samples_split': 4}. Best is trial 12 with value: 0.07764182424916574.\n",
      "[I 2025-05-14 18:54:55,459] Trial 37 finished with value: 0.08164627363737487 and parameters: {'n_estimators': 185, 'max_depth': 12, 'min_samples_split': 3}. Best is trial 12 with value: 0.07764182424916574.\n",
      "[I 2025-05-14 18:55:02,443] Trial 38 finished with value: 0.07875417130144605 and parameters: {'n_estimators': 268, 'max_depth': 15, 'min_samples_split': 2}. Best is trial 12 with value: 0.07764182424916574.\n",
      "[I 2025-05-14 18:55:04,459] Trial 39 finished with value: 0.0832035595105673 and parameters: {'n_estimators': 109, 'max_depth': 10, 'min_samples_split': 3}. Best is trial 12 with value: 0.07764182424916574.\n",
      "[I 2025-05-14 18:55:10,844] Trial 40 finished with value: 0.07942157953281424 and parameters: {'n_estimators': 289, 'max_depth': 14, 'min_samples_split': 10}. Best is trial 12 with value: 0.07764182424916574.\n",
      "[I 2025-05-14 18:55:16,959] Trial 41 finished with value: 0.07853170189098999 and parameters: {'n_estimators': 267, 'max_depth': 14, 'min_samples_split': 2}. Best is trial 12 with value: 0.07764182424916574.\n",
      "[I 2025-05-14 18:55:23,866] Trial 42 finished with value: 0.0796440489432703 and parameters: {'n_estimators': 246, 'max_depth': 13, 'min_samples_split': 3}. Best is trial 12 with value: 0.07764182424916574.\n",
      "[I 2025-05-14 18:55:31,457] Trial 43 finished with value: 0.07853170189098999 and parameters: {'n_estimators': 254, 'max_depth': 15, 'min_samples_split': 5}. Best is trial 12 with value: 0.07764182424916574.\n",
      "[I 2025-05-14 18:55:36,113] Trial 44 finished with value: 0.08120133481646273 and parameters: {'n_estimators': 211, 'max_depth': 12, 'min_samples_split': 2}. Best is trial 12 with value: 0.07764182424916574.\n",
      "[I 2025-05-14 18:55:42,061] Trial 45 finished with value: 0.0778642936596218 and parameters: {'n_estimators': 223, 'max_depth': 14, 'min_samples_split': 3}. Best is trial 12 with value: 0.07764182424916574.\n",
      "[I 2025-05-14 18:55:44,563] Trial 46 finished with value: 0.10189098998887652 and parameters: {'n_estimators': 227, 'max_depth': 3, 'min_samples_split': 4}. Best is trial 12 with value: 0.07764182424916574.\n",
      "[I 2025-05-14 18:55:49,672] Trial 47 finished with value: 0.08008898776418243 and parameters: {'n_estimators': 202, 'max_depth': 13, 'min_samples_split': 3}. Best is trial 12 with value: 0.07764182424916574.\n",
      "[I 2025-05-14 18:55:55,984] Trial 48 finished with value: 0.07897664071190211 and parameters: {'n_estimators': 222, 'max_depth': 15, 'min_samples_split': 9}. Best is trial 12 with value: 0.07764182424916574.\n",
      "[I 2025-05-14 18:56:00,064] Trial 49 finished with value: 0.08364849833147942 and parameters: {'n_estimators': 233, 'max_depth': 7, 'min_samples_split': 2}. Best is trial 12 with value: 0.07764182424916574.\n"
     ]
    },
    {
     "name": "stdout",
     "output_type": "stream",
     "text": [
      "Mejores hiperparámetros: {'n_estimators': 209, 'max_depth': 15, 'min_samples_split': 2}\n"
     ]
    }
   ],
   "execution_count": 43
  },
  {
   "metadata": {
    "ExecuteTime": {
     "end_time": "2025-05-14T16:56:03.885819Z",
     "start_time": "2025-05-14T16:56:00.145914Z"
    }
   },
   "cell_type": "code",
   "source": [
    "clf = RandomForestClassifier(n_estimators=155,\n",
    "                                   max_depth=13,\n",
    "                                   min_samples_split=6,\n",
    "                                   random_state=42)\n",
    "clf.fit(X_train, y_train)\n",
    "predicciones = clf.predict(X_val)\n",
    "error_val = mean_absolute_error(y_val, predicciones)\n",
    "print(f'Métrica para datos de validación: {error_val}')"
   ],
   "id": "addd076b4f439067",
   "outputs": [
    {
     "name": "stdout",
     "output_type": "stream",
     "text": [
      "Métrica para datos de validación: 0.07986651835372637\n"
     ]
    }
   ],
   "execution_count": 44
  },
  {
   "metadata": {
    "ExecuteTime": {
     "end_time": "2025-05-14T16:56:04.154721Z",
     "start_time": "2025-05-14T16:56:03.933544Z"
    }
   },
   "cell_type": "code",
   "source": [
    "y_pred = clf.predict(X_test)\n",
    "cm = confusion_matrix(y_test, y_pred)\n",
    "sns.heatmap(cm, annot=True, fmt=\"d\", cmap=\"Blues\", xticklabels=[\"Rechazada\", \"Aprobada\"], yticklabels=[\"Rechazada\", \"Aprobada\"])\n",
    "plt.xlabel(\"Predicción\")\n",
    "plt.ylabel(\"Realidad\")\n",
    "plt.title(\"Matriz de confusión para predecir si se presta o no\")\n",
    "plt.show()"
   ],
   "id": "9b52c8e15d6c747",
   "outputs": [
    {
     "data": {
      "text/plain": [
       "<Figure size 640x480 with 2 Axes>"
      ],
      "image/png": "[encoded data removed]"
     },
     "metadata": {},
     "output_type": "display_data"
    }
   ],
   "execution_count": 45
  },
  {
   "metadata": {
    "ExecuteTime": {
     "end_time": "2025-05-14T16:56:04.168839Z",
     "start_time": "2025-05-14T16:56:04.161558Z"
    }
   },
   "cell_type": "code",
   "source": [
    "# Funcion para entrenar el modelo a prueba y obtener su matriz de confusion y un reporte con su puntuación, en test y train, recall y f1-score\n",
    "def train_validation(model):\n",
    "    model.fit(X_train,y_train.astype(int))\n",
    "    y_pred = model.predict(X_test)\n",
    "    conf_matrix = confusion_matrix(y_pred, y_test)\n",
    "    print(classification_report(y_pred, y_test.astype(int)))\n",
    "    print('score_test = ', model.score(X_test, y_test.astype(int)))\n",
    "    print('score_train = ', model.score(X_train, y_train.astype(int)))\n",
    "    plt.figure(figsize=(6, 4))\n",
    "    sns.heatmap(conf_matrix, annot=True, fmt='d', cmap='Blues', xticklabels=[\"Rechazada\", \"Aprobada\"], yticklabels=[\"Rechazada\", \"Aprobada\"])\n",
    "    plt.title(\"Matriz de Confusión\")\n",
    "    plt.xlabel(\"Predicción\")\n",
    "    plt.ylabel(\"Real\")\n",
    "    plt.show()"
   ],
   "id": "6af0d7f9091b3cfb",
   "outputs": [],
   "execution_count": 46
  },
  {
   "metadata": {
    "ExecuteTime": {
     "end_time": "2025-05-14T16:56:12.021890Z",
     "start_time": "2025-05-14T16:56:04.267664Z"
    }
   },
   "cell_type": "code",
   "source": [
    "model = RandomForestClassifier(random_state=42, n_estimators=264, max_depth=14, min_samples_split=6)\n",
    "train_validation(model)"
   ],
   "id": "64d36c783198a4fd",
   "outputs": [
    {
     "name": "stdout",
     "output_type": "stream",
     "text": [
      "              precision    recall  f1-score   support\n",
      "\n",
      "           0       0.97      0.93      0.95      3667\n",
      "           1       0.73      0.89      0.81       829\n",
      "\n",
      "    accuracy                           0.92      4496\n",
      "   macro avg       0.85      0.91      0.88      4496\n",
      "weighted avg       0.93      0.92      0.92      4496\n",
      "\n",
      "score_test =  0.9205960854092526\n",
      "score_train =  0.944361027694361\n"
     ]
    },
    {
     "data": {
      "text/plain": [
       "<Figure size 600x400 with 2 Axes>"
      ],
      "image/png": "[encoded data removed]"
     },
     "metadata": {},
     "output_type": "display_data"
    }
   ],
   "execution_count": 47
  },
  {
   "metadata": {
    "ExecuteTime": {
     "end_time": "2025-05-14T16:56:12.189212Z",
     "start_time": "2025-05-14T16:56:12.075232Z"
    }
   },
   "cell_type": "code",
   "source": [
    "# Save the model to a file\n",
    "joblib.dump(model, 'banco.joblib')\n",
    "# Step 3: Load the StandardScaler from the file\n",
    "#loaded_scaler = joblib.load('scaler.pkl')\n",
    "#print(\"Scaler loaded successfully!\")"
   ],
   "id": "70b07c90d71fb521",
   "outputs": [
    {
     "data": {
      "text/plain": [
       "['banco.joblib']"
      ]
     },
     "execution_count": 48,
     "metadata": {},
     "output_type": "execute_result"
    }
   ],
   "execution_count": 48
  },
  {
   "metadata": {
    "ExecuteTime": {
     "end_time": "2025-05-16T13:50:02.954953Z",
     "start_time": "2025-05-16T13:49:47.442531Z"
    }
   },
   "cell_type": "code",
   "source": [
    "from sklearn.svm import SVC\n",
    "\n",
    "# 6. Crear y entrenar el modelo SVM\n",
    "svm_model = SVC(kernel='rbf', C=1.0, gamma='scale')  # También puedes probar 'linear', 'poly', etc.\n",
    "svm_model.fit(X_train, y_train)\n",
    "\n",
    "# 7. Realizar predicciones\n",
    "y_pred = svm_model.predict(X_test)\n",
    "\n",
    "# 8. Evaluación del modelo\n",
    "print(\"Matriz de confusión:\")\n",
    "print(confusion_matrix(y_test, y_pred))\n",
    "\n",
    "print(\"\\nReporte de clasificación:\")\n",
    "print(classification_report(y_test, y_pred))"
   ],
   "id": "4f83b4c4000d7656",
   "outputs": [
    {
     "name": "stdout",
     "output_type": "stream",
     "text": [
      "Matriz de confusión:\n",
      "[[3366  122]\n",
      " [ 281  727]]\n",
      "\n",
      "Reporte de clasificación:\n",
      "              precision    recall  f1-score   support\n",
      "\n",
      "           0       0.92      0.97      0.94      3488\n",
      "           1       0.86      0.72      0.78      1008\n",
      "\n",
      "    accuracy                           0.91      4496\n",
      "   macro avg       0.89      0.84      0.86      4496\n",
      "weighted avg       0.91      0.91      0.91      4496\n",
      "\n"
     ]
    }
   ],
   "execution_count": 13
  }
 ],
 "metadata": {
  "kernelspec": {
   "display_name": "Python 3",
   "language": "python",
   "name": "python3"
  },
  "language_info": {
   "codemirror_mode": {
    "name": "ipython",
    "version": 2
   },
   "file_extension": ".py",
   "mimetype": "text/x-python",
   "name": "python",
   "nbconvert_exporter": "python",
   "pygments_lexer": "ipython2",
   "version": "2.7.6"
  }
 },
 "nbformat": 4,
 "nbformat_minor": 5
}

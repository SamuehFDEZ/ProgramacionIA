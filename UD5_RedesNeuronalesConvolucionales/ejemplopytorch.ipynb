{
 "metadata": {
  "kernelspec": {
   "display_name": "Python 3",
   "language": "python",
   "name": "python3"
  },
  "language_info": {
   "name": "python",
   "version": "3.10.12",
   "mimetype": "text/x-python",
   "codemirror_mode": {
    "name": "ipython",
    "version": 3
   },
   "pygments_lexer": "ipython3",
   "nbconvert_exporter": "python",
   "file_extension": ".py"
  },
  "kaggle": {
   "accelerator": "gpu",
   "dataSources": [],
   "dockerImageVersionId": 30919,
   "isInternetEnabled": true,
   "language": "python",
   "sourceType": "notebook",
   "isGpuEnabled": true
  }
 },
 "nbformat_minor": 5,
 "nbformat": 4,
 "cells": [
  {
   "id": "cddcf3c80ff36a4f",
   "cell_type": "markdown",
   "source": "# Ejemplo con PyTorch",
   "metadata": {}
  },
  {
   "id": "ccc65f555056873c",
   "cell_type": "code",
   "source": "import torch\nimport torch.nn as nn\nimport torch.optim as optim\nimport torchvision\nimport torchvision.transforms as transforms",
   "metadata": {
    "trusted": true,
    "execution": {
     "iopub.status.busy": "2025-03-21T18:07:30.836068Z",
     "iopub.execute_input": "2025-03-21T18:07:30.836365Z",
     "iopub.status.idle": "2025-03-21T18:07:30.840361Z",
     "shell.execute_reply.started": "2025-03-21T18:07:30.836343Z",
     "shell.execute_reply": "2025-03-21T18:07:30.839358Z"
    },
    "ExecuteTime": {
     "end_time": "2025-03-25T18:47:15.319790Z",
     "start_time": "2025-03-25T18:47:00.029338Z"
    }
   },
   "outputs": [],
   "execution_count": 1
  },
  {
   "id": "initial_id",
   "cell_type": "code",
   "source": "transform = transforms.Compose([\n    transforms.ToTensor(),\n    transforms.Normalize((0.5, 0.5, 0.5), (0.5, 0.5, 0.5))\n])\ntrainset = torchvision.datasets.CIFAR10(root='./data', train=True, download=True, transform=transform)\ntrainloader = torch.utils.data.DataLoader(trainset, batch_size=32, shuffle=True)\ntestset = torchvision.datasets.CIFAR10(root='./data', train=False, download=True, transform=transform)\ntestloader = torch.utils.data.DataLoader(testset, batch_size=32, shuffle=False)",
   "metadata": {
    "trusted": true,
    "execution": {
     "iopub.status.busy": "2025-03-21T18:07:30.842954Z",
     "iopub.execute_input": "2025-03-21T18:07:30.843150Z",
     "iopub.status.idle": "2025-03-21T18:07:32.436362Z",
     "shell.execute_reply.started": "2025-03-21T18:07:30.843133Z",
     "shell.execute_reply": "2025-03-21T18:07:32.435692Z"
    },
    "ExecuteTime": {
     "end_time": "2025-03-25T18:48:46.528973Z",
     "start_time": "2025-03-25T18:47:15.356204Z"
    }
   },
   "outputs": [
    {
     "name": "stderr",
     "output_type": "stream",
     "text": [
      "100%|██████████| 170M/170M [01:25<00:00, 2.01MB/s] \n"
     ]
    }
   ],
   "execution_count": 2
  },
  {
   "id": "c7184085e305a528",
   "cell_type": "code",
   "source": "class CNN(nn.Module):\n    def __init__(self):\n        super(CNN, self).__init__()\n        self.conv1 = nn.Conv2d(3, 16, kernel_size=3, padding=1)\n        self.conv2 = nn.Conv2d(16, 32, kernel_size=3, padding=1)\n        self.conv3 = nn.Conv2d(32, 64, kernel_size=3, padding=1)\n        self.conv4 = nn.Conv2d(64, 128, kernel_size=3, padding=1)  # nueva capa\n\n        self.pool = nn.MaxPool2d(2, 2)\n        self.relu = nn.ReLU()\n\n        # Nuevas dimensiones después de 4 poolings: 32x32 → 16x16 → 8x8 → 4x4 → 2x2\n        self.fc1 = nn.Linear(128 * 2 * 2, 256)\n        self.fc2 = nn.Linear(256, 128)\n        self.fc3 = nn.Linear(128, 10)\n\n    def forward(self, x):\n        x = self.pool(self.relu(self.conv1(x)))  # (16, 16, 16)\n        x = self.pool(self.relu(self.conv2(x)))  # (32, 8, 8)\n        x = self.pool(self.relu(self.conv3(x)))  # (64, 4, 4)\n        x = self.pool(self.relu(self.conv4(x)))  # (128, 2, 2)\n        x = x.view(x.size(0), -1)                # Flatten (batch_size, 128*2*2)\n        x = self.relu(self.fc1(x))               # ReLU extra\n        x = self.relu(self.fc2(x))               # ReLU extra\n        x = self.fc3(x)\n        return x\n",
   "metadata": {
    "trusted": true,
    "execution": {
     "iopub.status.busy": "2025-03-21T18:07:32.437320Z",
     "iopub.execute_input": "2025-03-21T18:07:32.437555Z",
     "iopub.status.idle": "2025-03-21T18:07:32.444685Z",
     "shell.execute_reply.started": "2025-03-21T18:07:32.437536Z",
     "shell.execute_reply": "2025-03-21T18:07:32.443590Z"
    },
    "ExecuteTime": {
     "end_time": "2025-03-25T18:48:47.958365Z",
     "start_time": "2025-03-25T18:48:47.933371Z"
    }
   },
   "outputs": [],
   "execution_count": 3
  },
  {
   "id": "4ffc609ade6e9b47",
   "cell_type": "code",
   "source": "device = torch.device(\"cuda\" if torch.cuda.is_available() else \"cpu\")\nmodel = CNN().to(device)\ncriterion = nn.CrossEntropyLoss()\noptimizer = optim.Adam(model.parameters(), lr=0.001)\nnum_epochs = 10\nfor epoch in range(num_epochs):\n    running_loss = 0.0\n    for images, labels in trainloader:\n        images, labels = images.to(device), labels.to(device)\n        optimizer.zero_grad()\n        outputs = model(images)\n        loss = criterion(outputs, labels)\n        loss.backward()\n        optimizer.step()\n        running_loss += loss.item()\n    print(f'Epoch {epoch+1}, Loss: {running_loss/len(trainloader)}')",
   "metadata": {
    "trusted": true,
    "execution": {
     "iopub.status.busy": "2025-03-21T18:07:32.446495Z",
     "iopub.execute_input": "2025-03-21T18:07:32.446732Z",
     "iopub.status.idle": "2025-03-21T18:10:05.265459Z",
     "shell.execute_reply.started": "2025-03-21T18:07:32.446713Z",
     "shell.execute_reply": "2025-03-21T18:10:05.264637Z"
    },
    "ExecuteTime": {
     "end_time": "2025-03-25T19:02:40.210705Z",
     "start_time": "2025-03-25T18:48:47.982409Z"
    }
   },
   "outputs": [
    {
     "name": "stdout",
     "output_type": "stream",
     "text": [
      "Epoch 1, Loss: 1.5193735059453217\n",
      "Epoch 2, Loss: 1.0745906409207477\n",
      "Epoch 3, Loss: 0.8822960341808053\n",
      "Epoch 4, Loss: 0.7521878034925126\n",
      "Epoch 5, Loss: 0.6625892435101004\n",
      "Epoch 6, Loss: 0.5896592524071878\n",
      "Epoch 7, Loss: 0.5270274442716508\n",
      "Epoch 8, Loss: 0.4738799689083777\n",
      "Epoch 9, Loss: 0.4237452280908461\n",
      "Epoch 10, Loss: 0.379004031233847\n"
     ]
    }
   ],
   "execution_count": 4
  },
  {
   "id": "1feaced8a6f1c493",
   "cell_type": "code",
   "source": "correct = 0\ntotal = 0\nwith torch.no_grad():\n    for images, labels in testloader:\n        images, labels = images.to(device), labels.to(device)\n        outputs = model(images)\n        _, predicted = torch.max(outputs, 1)\n        total += labels.size(0)\n        correct += (predicted == labels).sum().item()\naccuracy = 100 * correct / total\nprint(f'Accuracy: {accuracy:.2f}%')",
   "metadata": {
    "trusted": true,
    "execution": {
     "iopub.status.busy": "2025-03-21T18:10:05.266314Z",
     "iopub.execute_input": "2025-03-21T18:10:05.266553Z",
     "iopub.status.idle": "2025-03-21T18:10:07.682519Z",
     "shell.execute_reply.started": "2025-03-21T18:10:05.266532Z",
     "shell.execute_reply": "2025-03-21T18:10:07.681689Z"
    },
    "ExecuteTime": {
     "end_time": "2025-03-25T19:02:49.585442Z",
     "start_time": "2025-03-25T19:02:40.452708Z"
    }
   },
   "outputs": [
    {
     "name": "stdout",
     "output_type": "stream",
     "text": [
      "Accuracy: 73.52%\n"
     ]
    }
   ],
   "execution_count": 5
  },
  {
   "metadata": {},
   "cell_type": "markdown",
   "source": "prueba",
   "id": "1c0dd5bdebe4080d"
  }
 ]
}

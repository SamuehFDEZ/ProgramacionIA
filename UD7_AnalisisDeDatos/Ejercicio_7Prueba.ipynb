{
 "cells": [
  {
   "cell_type": "code",
   "id": "initial_id",
   "metadata": {
    "collapsed": true,
    "ExecuteTime": {
     "end_time": "2025-04-20T20:31:21.563981Z",
     "start_time": "2025-04-20T20:31:21.434088Z"
    }
   },
   "source": [
    "import pandas as pd\n",
    "from sklearn.model_selection import train_test_split\n",
    "from sklearn.linear_model import LinearRegression\n",
    "from sklearn.metrics import r2_score, mean_absolute_error, mean_squared_error\n",
    "import numpy as np\n",
    "from sklearn.preprocessing import OneHotEncoder\n",
    "\n",
    "# 1. Cargar datos\n",
    "df = pd.read_csv(\"datasets/adult_joined.csv\")\n",
    "df.head()"
   ],
   "outputs": [
    {
     "data": {
      "text/plain": [
       "   age         workclass  fnlwgt      marital-status         occupation  \\\n",
       "0   39         State-gov   77516       Never-married       Adm-clerical   \n",
       "1   50  Self-emp-not-inc   83311  Married-civ-spouse    Exec-managerial   \n",
       "2   38           Private  215646            Divorced  Handlers-cleaners   \n",
       "3   53           Private  234721  Married-civ-spouse  Handlers-cleaners   \n",
       "4   28           Private  338409  Married-civ-spouse     Prof-specialty   \n",
       "\n",
       "    relationship   race     sex  capital-gain  capital-loss  hours-per-week  \\\n",
       "0  Not-in-family  White    Male          2174             0              40   \n",
       "1        Husband  White    Male             0             0              13   \n",
       "2  Not-in-family  White    Male             0             0              40   \n",
       "3        Husband  Black    Male             0             0              40   \n",
       "4           Wife  Black  Female             0             0              40   \n",
       "\n",
       "  native-country  education  education-num income  \n",
       "0  United-States  Bachelors             13  <=50K  \n",
       "1  United-States  Bachelors             13  <=50K  \n",
       "2  United-States    HS-grad              9  <=50K  \n",
       "3  United-States       11th              7  <=50K  \n",
       "4           Cuba  Bachelors             13  <=50K  "
      ],
      "text/html": [
       "<div>\n",
       "<style scoped>\n",
       "    .dataframe tbody tr th:only-of-type {\n",
       "        vertical-align: middle;\n",
       "    }\n",
       "\n",
       "    .dataframe tbody tr th {\n",
       "        vertical-align: top;\n",
       "    }\n",
       "\n",
       "    .dataframe thead th {\n",
       "        text-align: right;\n",
       "    }\n",
       "</style>\n",
       "<table border=\"1\" class=\"dataframe\">\n",
       "  <thead>\n",
       "    <tr style=\"text-align: right;\">\n",
       "      <th></th>\n",
       "      <th>age</th>\n",
       "      <th>workclass</th>\n",
       "      <th>fnlwgt</th>\n",
       "      <th>marital-status</th>\n",
       "      <th>occupation</th>\n",
       "      <th>relationship</th>\n",
       "      <th>race</th>\n",
       "      <th>sex</th>\n",
       "      <th>capital-gain</th>\n",
       "      <th>capital-loss</th>\n",
       "      <th>hours-per-week</th>\n",
       "      <th>native-country</th>\n",
       "      <th>education</th>\n",
       "      <th>education-num</th>\n",
       "      <th>income</th>\n",
       "    </tr>\n",
       "  </thead>\n",
       "  <tbody>\n",
       "    <tr>\n",
       "      <th>0</th>\n",
       "      <td>39</td>\n",
       "      <td>State-gov</td>\n",
       "      <td>77516</td>\n",
       "      <td>Never-married</td>\n",
       "      <td>Adm-clerical</td>\n",
       "      <td>Not-in-family</td>\n",
       "      <td>White</td>\n",
       "      <td>Male</td>\n",
       "      <td>2174</td>\n",
       "      <td>0</td>\n",
       "      <td>40</td>\n",
       "      <td>United-States</td>\n",
       "      <td>Bachelors</td>\n",
       "      <td>13</td>\n",
       "      <td>&lt;=50K</td>\n",
       "    </tr>\n",
       "    <tr>\n",
       "      <th>1</th>\n",
       "      <td>50</td>\n",
       "      <td>Self-emp-not-inc</td>\n",
       "      <td>83311</td>\n",
       "      <td>Married-civ-spouse</td>\n",
       "      <td>Exec-managerial</td>\n",
       "      <td>Husband</td>\n",
       "      <td>White</td>\n",
       "      <td>Male</td>\n",
       "      <td>0</td>\n",
       "      <td>0</td>\n",
       "      <td>13</td>\n",
       "      <td>United-States</td>\n",
       "      <td>Bachelors</td>\n",
       "      <td>13</td>\n",
       "      <td>&lt;=50K</td>\n",
       "    </tr>\n",
       "    <tr>\n",
       "      <th>2</th>\n",
       "      <td>38</td>\n",
       "      <td>Private</td>\n",
       "      <td>215646</td>\n",
       "      <td>Divorced</td>\n",
       "      <td>Handlers-cleaners</td>\n",
       "      <td>Not-in-family</td>\n",
       "      <td>White</td>\n",
       "      <td>Male</td>\n",
       "      <td>0</td>\n",
       "      <td>0</td>\n",
       "      <td>40</td>\n",
       "      <td>United-States</td>\n",
       "      <td>HS-grad</td>\n",
       "      <td>9</td>\n",
       "      <td>&lt;=50K</td>\n",
       "    </tr>\n",
       "    <tr>\n",
       "      <th>3</th>\n",
       "      <td>53</td>\n",
       "      <td>Private</td>\n",
       "      <td>234721</td>\n",
       "      <td>Married-civ-spouse</td>\n",
       "      <td>Handlers-cleaners</td>\n",
       "      <td>Husband</td>\n",
       "      <td>Black</td>\n",
       "      <td>Male</td>\n",
       "      <td>0</td>\n",
       "      <td>0</td>\n",
       "      <td>40</td>\n",
       "      <td>United-States</td>\n",
       "      <td>11th</td>\n",
       "      <td>7</td>\n",
       "      <td>&lt;=50K</td>\n",
       "    </tr>\n",
       "    <tr>\n",
       "      <th>4</th>\n",
       "      <td>28</td>\n",
       "      <td>Private</td>\n",
       "      <td>338409</td>\n",
       "      <td>Married-civ-spouse</td>\n",
       "      <td>Prof-specialty</td>\n",
       "      <td>Wife</td>\n",
       "      <td>Black</td>\n",
       "      <td>Female</td>\n",
       "      <td>0</td>\n",
       "      <td>0</td>\n",
       "      <td>40</td>\n",
       "      <td>Cuba</td>\n",
       "      <td>Bachelors</td>\n",
       "      <td>13</td>\n",
       "      <td>&lt;=50K</td>\n",
       "    </tr>\n",
       "  </tbody>\n",
       "</table>\n",
       "</div>"
      ]
     },
     "execution_count": 3,
     "metadata": {},
     "output_type": "execute_result"
    }
   ],
   "execution_count": 3
  },
  {
   "metadata": {
    "ExecuteTime": {
     "end_time": "2025-04-20T20:33:20.712957Z",
     "start_time": "2025-04-20T20:33:20.541024Z"
    }
   },
   "cell_type": "code",
   "source": [
    "# Instanciar OneHotEncoder\n",
    "encoder = OneHotEncoder(sparse_output=False)  # Crea un array en vez de una matriz\n",
    "\n",
    "# Aplicar el encoder a las columnas categóricas\n",
    "categoricas = ['workclass', 'marital-status', 'occupation', 'relationship', 'race', 'sex','native-country','education']\n",
    "valores = encoder.fit_transform(df[categoricas])\n",
    "\n",
    "# Crear un DataFrame con los valores codificados\n",
    "columnas_codificadas = encoder.get_feature_names_out(categoricas)\n",
    "df_codificado = pd.DataFrame(valores, columns=columnas_codificadas, index=df.index)\n",
    "\n",
    "# Concatenar el DataFrame original con las columnas codificadas\n",
    "df = pd.concat([df.drop(columns=categoricas, axis=1), df_codificado], axis=1)\n",
    "\n",
    "# Mostrar el DataFrame final"
   ],
   "id": "1839f882a91f6dc0",
   "outputs": [],
   "execution_count": 4
  },
  {
   "metadata": {
    "ExecuteTime": {
     "end_time": "2025-04-20T20:33:24.094053Z",
     "start_time": "2025-04-20T20:33:24.069410Z"
    }
   },
   "cell_type": "code",
   "source": "df.isnull().sum()",
   "id": "b8aba3536840320d",
   "outputs": [
    {
     "data": {
      "text/plain": [
       "age                       0\n",
       "fnlwgt                    0\n",
       "capital-gain              0\n",
       "capital-loss              0\n",
       "hours-per-week            0\n",
       "                         ..\n",
       "education_HS-grad         0\n",
       "education_Masters         0\n",
       "education_Preschool       0\n",
       "education_Prof-school     0\n",
       "education_Some-college    0\n",
       "Length: 108, dtype: int64"
      ]
     },
     "execution_count": 5,
     "metadata": {},
     "output_type": "execute_result"
    }
   ],
   "execution_count": 5
  },
  {
   "metadata": {
    "ExecuteTime": {
     "end_time": "2025-04-20T20:33:39.008015Z",
     "start_time": "2025-04-20T20:33:38.467744Z"
    }
   },
   "cell_type": "code",
   "source": [
    "# 2. Eliminar columnas innecesarias (ej. ID)\n",
    "df = df.drop(columns=[\"ID\"], errors='ignore')\n",
    "df = df.drop(columns=[\"fnlwgt\"], errors='ignore')\n",
    "df = df.drop(columns=[\"income\"], errors='ignore')\n",
    "\n",
    "# 3. Definir X e y\n",
    "X = df.drop(columns=[\"hours-per-week\"])\n",
    "y = df[\"hours-per-week\"]\n",
    "\n",
    "# 4. Dividir en entrenamiento y prueba\n",
    "X_train, X_test, y_train, y_test = train_test_split(X, y, test_size=0.25, random_state=42)\n",
    "\n",
    "# 5. Entrenar modelo\n",
    "model = LinearRegression()\n",
    "model.fit(X_train, y_train)\n",
    "\n",
    "# 6. Predecir\n",
    "y_pred = model.predict(X_test)"
   ],
   "id": "f0aafe56f0dc980c",
   "outputs": [],
   "execution_count": 6
  },
  {
   "metadata": {
    "ExecuteTime": {
     "end_time": "2025-04-20T20:33:42.594640Z",
     "start_time": "2025-04-20T20:33:42.577262Z"
    }
   },
   "cell_type": "code",
   "source": [
    "# 7. Evaluar el modelo\n",
    "r2 = r2_score(y_test, y_pred)\n",
    "mae = mean_absolute_error(y_test, y_pred)\n",
    "mse = mean_squared_error(y_test, y_pred)\n",
    "rmse = np.sqrt(mse)\n",
    "\n",
    "print(f\"R²: {r2:.2f}\")\n",
    "print(f\"MAE: {mae:.2f}\")\n",
    "print(f\"MSE: {mse:.2f}\")\n",
    "print(f\"RMSE: {rmse:.2f}\")"
   ],
   "id": "8c3d86709b98d2e",
   "outputs": [
    {
     "name": "stdout",
     "output_type": "stream",
     "text": [
      "R²: 0.20\n",
      "MAE: 7.82\n",
      "MSE: 127.08\n",
      "RMSE: 11.27\n"
     ]
    }
   ],
   "execution_count": 7
  }
 ],
 "metadata": {
  "kernelspec": {
   "display_name": "Python 3",
   "language": "python",
   "name": "python3"
  },
  "language_info": {
   "codemirror_mode": {
    "name": "ipython",
    "version": 2
   },
   "file_extension": ".py",
   "mimetype": "text/x-python",
   "name": "python",
   "nbconvert_exporter": "python",
   "pygments_lexer": "ipython2",
   "version": "2.7.6"
  }
 },
 "nbformat": 4,
 "nbformat_minor": 5
}
